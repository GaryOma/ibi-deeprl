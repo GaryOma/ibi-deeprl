{
 "cells": [
  {
   "cell_type": "code",
   "execution_count": 2,
   "metadata": {
    "autoscroll": false,
    "collapsed": false,
    "ein.hycell": false,
    "ein.tags": "worksheet-0",
    "slideshow": {
     "slide_type": "-"
    }
   },
   "outputs": [],
   "source": [
    "from collections import deque\n",
    "\n",
    "import gym\n",
    "from gym import wrappers, logger\n",
    "\n",
    "import random\n",
    "\n",
    "import torch\n",
    "import torch.nn as nn\n",
    "import torch.optim as optim\n",
    "import torch.nn.functional as F\n",
    "\n",
    "import numpy as np\n",
    "\n",
    "import matplotlib.pyplot as plt"
   ]
  },
  {
   "cell_type": "code",
   "execution_count": 3,
   "metadata": {
    "autoscroll": false,
    "collapsed": false,
    "ein.hycell": false,
    "ein.tags": "worksheet-0",
    "slideshow": {
     "slide_type": "-"
    }
   },
   "outputs": [],
   "source": [
    "SAV = \"img/\""
   ]
  },
  {
   "cell_type": "code",
   "execution_count": 4,
   "metadata": {
    "autoscroll": false,
    "collapsed": false,
    "ein.hycell": false,
    "ein.tags": "worksheet-0",
    "slideshow": {
     "slide_type": "-"
    }
   },
   "outputs": [],
   "source": [
    "def plot_reward(rewards, title=\"\", file_name=\"error\", mean_size=100, type_graph=\"dot\"):\n",
    "    list_e = []\n",
    "    x_s = []\n",
    "    i = 0\n",
    "    if mean_size < 2:\n",
    "        list_e = rewards\n",
    "        x_s = range(len(rewards))\n",
    "    else:\n",
    "        while i < len(rewards):\n",
    "            max_mean = i + mean_size\n",
    "            if max_mean >= len(rewards):\n",
    "                max_mean = len(rewards) - 1\n",
    "            list_e.append(sum(rewards[i:max_mean])/(max_mean - i))\n",
    "            x_s.append((max_mean + i)/2)\n",
    "            i += mean_size\n",
    "    # for error in errors:\n",
    "    #     list_e.append(error.item())\n",
    "    plt.figure(figsize=(10, 10))\n",
    "    if type_graph == \"dot\":\n",
    "        plt.plot(x_s, list_e, 'ok')\n",
    "    else:\n",
    "        # plt.bar(x_s, list_e)\n",
    "        plt.plot(list_e, 'k')\n",
    "    plt.ylabel(\"Récompense\")\n",
    "    plt.xlabel(\"Itération\")\n",
    "    plt.title(title)\n",
    "    if file_name:\n",
    "        plt.savefig(f\"{SAV}{env_name}/{type_graph}_{file_name}.png\")\n",
    "    plt.show()\n"
   ]
  },
  {
   "cell_type": "code",
   "execution_count": 6,
   "metadata": {
    "autoscroll": false,
    "collapsed": false,
    "ein.hycell": false,
    "ein.tags": "worksheet-0",
    "slideshow": {
     "slide_type": "-"
    }
   },
   "outputs": [],
   "source": [
    "class Experience:\n",
    "    def __init__(self, _state, _action, _reward, _next_state, _done):\n",
    "        self.state = _state\n",
    "        self.action = _action\n",
    "        self.reward = _reward\n",
    "        self.next_state = _next_state\n",
    "        self.done = _done"
   ]
  },
  {
   "cell_type": "code",
   "execution_count": 7,
   "metadata": {
    "autoscroll": false,
    "collapsed": false,
    "ein.hycell": false,
    "ein.tags": "worksheet-0",
    "slideshow": {
     "slide_type": "-"
    }
   },
   "outputs": [],
   "source": [
    "env_name = 'CartPole-v1'"
   ]
  },
  {
   "cell_type": "code",
   "execution_count": 36,
   "metadata": {
    "autoscroll": false,
    "collapsed": false,
    "ein.hycell": false,
    "ein.tags": "worksheet-0",
    "slideshow": {
     "slide_type": "-"
    }
   },
   "outputs": [],
   "source": [
    "# def blotzmann(qvalues, tau=0.01):\n",
    "#     prob = []\n",
    "#     for qvalue in qvalues:\n",
    "#         prob.append()\n",
    "#     print(\"lol\")\n",
    "\n",
    "def epsilongreedy(qvalues, epsilon=0.5):\n",
    "    _, max_ind = qvalues.max(0)\n",
    "    # print(max_ind)\n",
    "    return np.random.randint(len(qvalues)) if np.random.random() < epsilon else max_ind.item()"
   ]
  },
  {
   "cell_type": "code",
   "execution_count": 35,
   "metadata": {
    "autoscroll": false,
    "collapsed": false,
    "ein.hycell": false,
    "ein.tags": "worksheet-0",
    "slideshow": {
     "slide_type": "-"
    }
   },
   "outputs": [],
   "source": [
    "class Net(nn.Module):\n",
    "    def __init__(self, in_size, out_size):\n",
    "        super(Net, self).__init__()\n",
    "        print(in_size, out_size)\n",
    "        self.in_l = nn.Linear(in_size, out_size)\n",
    "        # self.in_l = nn.Linear(in_size, 3)\n",
    "        # self.in_l2 = nn.Linear(3, out_size)\n",
    "\n",
    "    def forward(self, x):\n",
    "        x = F.sigmoid(self.in_l(x))\n",
    "        # x = F.sigmoid(self.in_l2(x))\n",
    "        return x"
   ]
  },
  {
   "cell_type": "code",
   "execution_count": 37,
   "metadata": {
    "autoscroll": false,
    "collapsed": false,
    "ein.hycell": false,
    "ein.tags": "worksheet-0",
    "slideshow": {
     "slide_type": "-"
    }
   },
   "outputs": [],
   "source": [
    "class Agent:\n",
    "    def __init__(self, _net):\n",
    "        self.mem = deque(maxlen=10000)\n",
    "        self.net = _net\n",
    "        self.gamma = 0.95\n",
    "\n",
    "    def choose_action(self, _observation, _reward, _done):\n",
    "        qvalues = self.qvalue(_observation)\n",
    "        # print(qvalues)\n",
    "        action_ind = epsilongreedy(qvalues, epsilon=0.05)\n",
    "        # print(action_ind)\n",
    "        return action_ind\n",
    "        # return self.action_space.sample()\n",
    "\n",
    "    def experience(self, _state, _action, _reward, _next_state, _done):\n",
    "        self.mem.append(Experience(_state, _action, _reward, _next_state, _done))\n",
    "\n",
    "    def minibatch(self, size=5):\n",
    "        batch_s = min(size, len(self.mem))\n",
    "        return random.sample(self.mem, batch_s)\n",
    "\n",
    "    def qvalue(self, state):\n",
    "        inp = torch.tensor(state).type(torch.FloatTensor)\n",
    "        # for w in self.W[:-1]:\n",
    "        #     # inp = torch.cat((torch.Tensor([1.0]), inp))\n",
    "        #     # inp = func(torch.mv(w, inp))\n",
    "        #     inp = 1/(1 + torch.exp(-torch.mv(w, inp)))\n",
    "        # return torch.mv(self.W[-1], inp.float())\n",
    "        out = self.net(inp)\n",
    "        # print(f\"inp {inp}\")\n",
    "        # print(f\"out {out}\")\n",
    "        return out"
   ]
  },
  {
   "cell_type": "code",
   "execution_count": 13,
   "metadata": {
    "autoscroll": false,
    "collapsed": false,
    "ein.hycell": false,
    "ein.tags": "worksheet-0",
    "slideshow": {
     "slide_type": "-"
    }
   },
   "outputs": [
    {
     "ename": "NameError",
     "evalue": "name 'env' is not defined",
     "output_type": "error",
     "traceback": [
      "\u001b[0;31m\u001b[0m",
      "\u001b[0;31mNameError\u001b[0mTraceback (most recent call last)",
      "\u001b[0;32m<ipython-input-13-1baceacf4cb1>\u001b[0m in \u001b[0;36m<module>\u001b[0;34m\u001b[0m\n\u001b[0;32m----> 1\u001b[0;31m \u001b[0menv\u001b[0m\u001b[0;34m.\u001b[0m\u001b[0mclose\u001b[0m\u001b[0;34m(\u001b[0m\u001b[0;34m)\u001b[0m\u001b[0;34m\u001b[0m\u001b[0;34m\u001b[0m\u001b[0m\n\u001b[0m",
      "\u001b[0;31mNameError\u001b[0m: name 'env' is not defined"
     ]
    }
   ],
   "source": [
    "env.close()"
   ]
  },
  {
   "cell_type": "code",
   "execution_count": 38,
   "metadata": {
    "autoscroll": false,
    "collapsed": false,
    "ein.hycell": false,
    "ein.tags": "worksheet-0",
    "slideshow": {
     "slide_type": "-"
    }
   },
   "outputs": [
    {
     "name": "stdout",
     "output_type": "stream",
     "text": [
      "INFO: Making new env: CartPole-v1\n",
      "INFO: Clearing 2 monitor files from previous run (because force=True was provided)\n",
      "4 2\n"
     ]
    }
   ],
   "source": [
    "# You can set the level to logger.DEBUG or logger.WARN if you\n",
    "# want to change the amount of output.\n",
    "logger.set_level(logger.INFO)\n",
    "\n",
    "env = gym.make(env_name)\n",
    "\n",
    "# You provide the directory to write to (can be an existing\n",
    "# directory, including one with existing data -- all monitor files\n",
    "# will be namespaced). You can also dump to a tempdir if you'd\n",
    "# like: tempfile.mkdtemp().\n",
    "outdir = '/tmp/random-agent-results'\n",
    "env = wrappers.Monitor(env, directory=outdir, force=True, video_callable=False)\n",
    "env.seed(0)\n",
    "observation_size = env.observation_space.shape[0]\n",
    "action_size = env.action_space.n\n",
    "\n",
    "eta = 0.01\n",
    "net = Net(observation_size, env.action_space.n)\n",
    "criterion = nn.MSELoss()\n",
    "optimizer = optim.SGD(net.parameters(), lr=eta, momentum=0.9)\n",
    "agent = Agent(net)\n",
    "\n",
    "render = True\n",
    "episode_count = 5000\n",
    "episode_render = 1000\n",
    "reward = 0\n",
    "batch_size = 5\n",
    "done = False\n",
    "\n",
    "rewards = []"
   ]
  },
  {
   "cell_type": "code",
   "execution_count": null,
   "metadata": {
    "autoscroll": false,
    "collapsed": false,
    "ein.hycell": false,
    "ein.tags": "worksheet-0",
    "slideshow": {
     "slide_type": "-"
    }
   },
   "outputs": [
    {
     "name": "stdout",
     "output_type": "stream",
     "text": [
      "ep 0 : reward 9.0\r",
      "INFO: Finished writing results. You can upload them to the scoreboard via gym.upload('/tmp/random-agent-results')\n",
      "ep 1 : reward 10.0\r",
      "ep 2 : reward 10.0\r",
      "ep 3 : reward 8.0\r",
      "ep 4 : reward 11.0\r",
      "ep 5 : reward 9.0\r",
      "ep 6 : reward 9.0\r",
      "ep 7 : reward 10.0\r",
      "ep 8 : reward 10.0\r"
     ]
    },
    {
     "name": "stdout",
     "output_type": "stream",
     "text": [
      "ep 9 : reward 9.0\r",
      "ep 10 : reward 11.0\r",
      "ep 11 : reward 8.0\r",
      "ep 12 : reward 13.0\r",
      "ep 13 : reward 10.0\r",
      "ep 14 : reward 8.0\r",
      "ep 15 : reward 10.0\r",
      "ep 16 : reward 9.0\r",
      "ep 17 : reward 10.0\r"
     ]
    },
    {
     "name": "stdout",
     "output_type": "stream",
     "text": [
      "ep 18 : reward 10.0\r",
      "ep 19 : reward 10.0\r",
      "ep 20 : reward 11.0\r",
      "ep 21 : reward 10.0\r",
      "ep 22 : reward 10.0\r",
      "ep 23 : reward 9.0\r",
      "ep 24 : reward 10.0\r",
      "ep 25 : reward 9.0\r",
      "ep 26 : reward 9.0\r"
     ]
    },
    {
     "name": "stdout",
     "output_type": "stream",
     "text": [
      "ep 27 : reward 10.0\r",
      "ep 28 : reward 10.0\r",
      "ep 29 : reward 9.0\r",
      "ep 30 : reward 9.0\r",
      "ep 31 : reward 10.0\r",
      "ep 32 : reward 10.0\r",
      "ep 33 : reward 10.0\r",
      "ep 34 : reward 10.0\r",
      "ep 35 : reward 9.0\r"
     ]
    },
    {
     "name": "stdout",
     "output_type": "stream",
     "text": [
      "ep 36 : reward 9.0\r",
      "ep 37 : reward 11.0\r",
      "ep 38 : reward 10.0\r",
      "ep 39 : reward 9.0\r",
      "ep 40 : reward 9.0\r",
      "ep 41 : reward 9.0\r",
      "ep 42 : reward 10.0\r",
      "ep 43 : reward 9.0\r",
      "ep 44 : reward 10.0\r"
     ]
    },
    {
     "name": "stdout",
     "output_type": "stream",
     "text": [
      "ep 45 : reward 12.0\r",
      "ep 46 : reward 10.0\r",
      "ep 47 : reward 8.0\r",
      "ep 48 : reward 10.0\r",
      "ep 49 : reward 11.0\r",
      "ep 50 : reward 10.0\r",
      "ep 51 : reward 8.0\r",
      "ep 52 : reward 10.0\r",
      "ep 53 : reward 8.0\r"
     ]
    },
    {
     "name": "stdout",
     "output_type": "stream",
     "text": [
      "ep 54 : reward 8.0\r",
      "ep 55 : reward 9.0\r",
      "ep 56 : reward 11.0\r",
      "ep 57 : reward 11.0\r",
      "ep 58 : reward 9.0\r",
      "ep 59 : reward 10.0\r",
      "ep 60 : reward 11.0\r",
      "ep 61 : reward 10.0\r"
     ]
    },
    {
     "name": "stdout",
     "output_type": "stream",
     "text": [
      "ep 62 : reward 10.0\r",
      "ep 63 : reward 11.0\r",
      "ep 64 : reward 10.0\r",
      "ep 65 : reward 9.0\r",
      "ep 66 : reward 9.0\r",
      "ep 67 : reward 8.0\r",
      "ep 68 : reward 8.0\r",
      "ep 69 : reward 8.0\r",
      "ep 70 : reward 10.0\r"
     ]
    },
    {
     "name": "stdout",
     "output_type": "stream",
     "text": [
      "ep 71 : reward 10.0\r",
      "ep 72 : reward 9.0\r",
      "ep 73 : reward 9.0\r",
      "ep 74 : reward 8.0\r",
      "ep 75 : reward 10.0\r",
      "ep 76 : reward 12.0\r",
      "ep 77 : reward 10.0\r",
      "ep 78 : reward 9.0\r"
     ]
    },
    {
     "name": "stdout",
     "output_type": "stream",
     "text": [
      "ep 79 : reward 10.0\r",
      "ep 80 : reward 10.0\r",
      "ep 81 : reward 9.0\r",
      "ep 82 : reward 10.0\r",
      "ep 83 : reward 12.0\r",
      "ep 84 : reward 11.0\r",
      "ep 85 : reward 10.0\r",
      "ep 86 : reward 14.0\r"
     ]
    },
    {
     "name": "stdout",
     "output_type": "stream",
     "text": [
      "ep 87 : reward 11.0\r",
      "ep 88 : reward 9.0\r",
      "ep 89 : reward 11.0\r",
      "ep 90 : reward 10.0\r",
      "ep 91 : reward 10.0\r",
      "ep 92 : reward 9.0\r",
      "ep 93 : reward 10.0\r",
      "ep 94 : reward 10.0\r",
      "ep 95 : reward 8.0\r"
     ]
    },
    {
     "name": "stdout",
     "output_type": "stream",
     "text": [
      "ep 96 : reward 10.0\r",
      "ep 97 : reward 9.0\r",
      "ep 98 : reward 8.0\r",
      "ep 99 : reward 11.0\r",
      "ep 100 : reward 9.0\r",
      "ep 101 : reward 10.0\r",
      "ep 102 : reward 9.0\r",
      "ep 103 : reward 9.0\r",
      "ep 104 : reward 9.0\r"
     ]
    },
    {
     "name": "stdout",
     "output_type": "stream",
     "text": [
      "ep 105 : reward 9.0\r",
      "ep 106 : reward 10.0\r",
      "ep 107 : reward 10.0\r",
      "ep 108 : reward 10.0\r",
      "ep 109 : reward 9.0\r",
      "ep 110 : reward 9.0\r",
      "ep 111 : reward 10.0\r",
      "ep 112 : reward 10.0\r",
      "ep 113 : reward 9.0\r"
     ]
    },
    {
     "name": "stdout",
     "output_type": "stream",
     "text": [
      "ep 114 : reward 9.0\r",
      "ep 115 : reward 9.0\r",
      "ep 116 : reward 10.0\r",
      "ep 117 : reward 10.0\r",
      "ep 118 : reward 9.0\r",
      "ep 119 : reward 8.0\r",
      "ep 120 : reward 11.0\r",
      "ep 121 : reward 10.0\r",
      "ep 122 : reward 9.0\r"
     ]
    },
    {
     "name": "stdout",
     "output_type": "stream",
     "text": [
      "ep 123 : reward 8.0\r",
      "ep 124 : reward 9.0\r",
      "ep 125 : reward 8.0\r",
      "ep 126 : reward 8.0\r",
      "ep 127 : reward 10.0\r",
      "ep 128 : reward 11.0\r",
      "ep 129 : reward 8.0\r",
      "ep 130 : reward 8.0\r",
      "ep 131 : reward 9.0\r"
     ]
    },
    {
     "name": "stdout",
     "output_type": "stream",
     "text": [
      "ep 132 : reward 10.0\r",
      "ep 133 : reward 10.0\r",
      "ep 134 : reward 10.0\r",
      "ep 135 : reward 10.0\r",
      "ep 136 : reward 9.0\r",
      "ep 137 : reward 12.0\r",
      "ep 138 : reward 10.0\r",
      "ep 139 : reward 9.0\r",
      "ep 140 : reward 9.0\r"
     ]
    },
    {
     "name": "stdout",
     "output_type": "stream",
     "text": [
      "ep 141 : reward 11.0\r",
      "ep 142 : reward 9.0\r",
      "ep 143 : reward 8.0\r",
      "ep 144 : reward 11.0\r",
      "ep 145 : reward 8.0\r",
      "ep 146 : reward 9.0\r",
      "ep 147 : reward 8.0\r",
      "ep 148 : reward 11.0\r",
      "ep 149 : reward 9.0\r",
      "ep 150 : reward 8.0\r"
     ]
    },
    {
     "name": "stdout",
     "output_type": "stream",
     "text": [
      "ep 151 : reward 10.0\r",
      "ep 152 : reward 13.0\r",
      "ep 153 : reward 10.0\r",
      "ep 154 : reward 9.0\r",
      "ep 155 : reward 10.0\r",
      "ep 156 : reward 10.0\r",
      "ep 157 : reward 9.0\r",
      "ep 158 : reward 10.0\r",
      "ep 159 : reward 8.0\r"
     ]
    },
    {
     "name": "stdout",
     "output_type": "stream",
     "text": [
      "ep 160 : reward 10.0\r",
      "ep 161 : reward 10.0\r",
      "ep 162 : reward 9.0\r",
      "ep 163 : reward 9.0\r",
      "ep 164 : reward 9.0\r",
      "ep 165 : reward 9.0\r",
      "ep 166 : reward 10.0\r",
      "ep 167 : reward 9.0\r",
      "ep 168 : reward 10.0\r",
      "ep 169 : reward 8.0\r"
     ]
    },
    {
     "name": "stdout",
     "output_type": "stream",
     "text": [
      "ep 170 : reward 10.0\r",
      "ep 171 : reward 8.0\r",
      "ep 172 : reward 11.0\r",
      "ep 173 : reward 8.0\r",
      "ep 174 : reward 11.0\r",
      "ep 175 : reward 10.0\r",
      "ep 176 : reward 9.0\r",
      "ep 177 : reward 10.0\r",
      "ep 178 : reward 9.0\r"
     ]
    },
    {
     "name": "stdout",
     "output_type": "stream",
     "text": [
      "ep 179 : reward 10.0\r",
      "ep 180 : reward 9.0\r",
      "ep 181 : reward 8.0\r",
      "ep 182 : reward 9.0\r",
      "ep 183 : reward 9.0\r",
      "ep 184 : reward 11.0\r",
      "ep 185 : reward 13.0\r",
      "ep 186 : reward 10.0\r"
     ]
    },
    {
     "name": "stdout",
     "output_type": "stream",
     "text": [
      "ep 187 : reward 11.0\r",
      "ep 188 : reward 8.0\r",
      "ep 189 : reward 8.0\r",
      "ep 190 : reward 9.0\r",
      "ep 191 : reward 10.0\r",
      "ep 192 : reward 9.0\r",
      "ep 193 : reward 11.0\r",
      "ep 194 : reward 10.0\r",
      "ep 195 : reward 10.0\r"
     ]
    },
    {
     "name": "stdout",
     "output_type": "stream",
     "text": [
      "ep 196 : reward 10.0\r",
      "ep 197 : reward 9.0\r",
      "ep 198 : reward 10.0\r",
      "ep 199 : reward 9.0\r",
      "ep 200 : reward 10.0\r",
      "ep 201 : reward 10.0\r",
      "ep 202 : reward 9.0\r",
      "ep 203 : reward 10.0\r",
      "ep 204 : reward 8.0\r",
      "ep 205 : reward 9.0\r"
     ]
    },
    {
     "name": "stdout",
     "output_type": "stream",
     "text": [
      "ep 206 : reward 9.0\r",
      "ep 207 : reward 10.0\r",
      "ep 208 : reward 9.0\r",
      "ep 209 : reward 10.0\r",
      "ep 210 : reward 9.0\r",
      "ep 211 : reward 9.0\r",
      "ep 212 : reward 9.0\r",
      "ep 213 : reward 10.0\r",
      "ep 214 : reward 9.0\r",
      "ep 215 : reward 8.0\r"
     ]
    },
    {
     "name": "stdout",
     "output_type": "stream",
     "text": [
      "ep 216 : reward 10.0\r",
      "ep 217 : reward 9.0\r",
      "ep 218 : reward 9.0\r",
      "ep 219 : reward 10.0\r",
      "ep 220 : reward 10.0\r",
      "ep 221 : reward 10.0\r",
      "ep 222 : reward 10.0\r",
      "ep 223 : reward 10.0\r",
      "ep 224 : reward 10.0\r"
     ]
    },
    {
     "name": "stdout",
     "output_type": "stream",
     "text": [
      "ep 225 : reward 10.0\r",
      "ep 226 : reward 10.0\r",
      "ep 227 : reward 10.0\r",
      "ep 228 : reward 10.0\r",
      "ep 229 : reward 10.0\r",
      "ep 230 : reward 9.0\r",
      "ep 231 : reward 10.0\r",
      "ep 232 : reward 9.0\r",
      "ep 233 : reward 10.0\r"
     ]
    },
    {
     "name": "stdout",
     "output_type": "stream",
     "text": [
      "ep 234 : reward 10.0\r",
      "ep 235 : reward 10.0\r",
      "ep 236 : reward 8.0\r",
      "ep 237 : reward 9.0\r",
      "ep 238 : reward 10.0\r",
      "ep 239 : reward 10.0\r",
      "ep 240 : reward 10.0\r",
      "ep 241 : reward 13.0\r"
     ]
    },
    {
     "name": "stdout",
     "output_type": "stream",
     "text": [
      "ep 242 : reward 11.0\r",
      "ep 243 : reward 9.0\r",
      "ep 244 : reward 9.0\r",
      "ep 245 : reward 10.0\r",
      "ep 246 : reward 10.0\r",
      "ep 247 : reward 13.0\r",
      "ep 248 : reward 10.0\r",
      "ep 249 : reward 9.0\r",
      "ep 250 : reward 8.0\r"
     ]
    },
    {
     "name": "stdout",
     "output_type": "stream",
     "text": [
      "ep 251 : reward 8.0\r",
      "ep 252 : reward 9.0\r",
      "ep 253 : reward 10.0\r",
      "ep 254 : reward 10.0\r",
      "ep 255 : reward 9.0\r",
      "ep 256 : reward 8.0\r",
      "ep 257 : reward 9.0\r",
      "ep 258 : reward 10.0\r",
      "ep 259 : reward 9.0\r"
     ]
    },
    {
     "name": "stdout",
     "output_type": "stream",
     "text": [
      "ep 260 : reward 9.0\r",
      "ep 261 : reward 10.0\r",
      "ep 262 : reward 10.0\r",
      "ep 263 : reward 9.0\r",
      "ep 264 : reward 8.0\r",
      "ep 265 : reward 9.0\r",
      "ep 266 : reward 10.0\r",
      "ep 267 : reward 12.0\r",
      "ep 268 : reward 10.0\r"
     ]
    },
    {
     "name": "stdout",
     "output_type": "stream",
     "text": [
      "ep 269 : reward 10.0\r",
      "ep 270 : reward 10.0\r",
      "ep 271 : reward 12.0\r",
      "ep 272 : reward 10.0\r",
      "ep 273 : reward 9.0\r",
      "ep 274 : reward 9.0\r",
      "ep 275 : reward 11.0\r",
      "ep 276 : reward 9.0\r"
     ]
    },
    {
     "name": "stdout",
     "output_type": "stream",
     "text": [
      "ep 277 : reward 11.0\r",
      "ep 278 : reward 10.0\r",
      "ep 279 : reward 10.0\r",
      "ep 280 : reward 10.0\r",
      "ep 281 : reward 9.0\r",
      "ep 282 : reward 11.0\r",
      "ep 283 : reward 10.0\r",
      "ep 284 : reward 10.0\r",
      "ep 285 : reward 8.0\r"
     ]
    },
    {
     "name": "stdout",
     "output_type": "stream",
     "text": [
      "ep 286 : reward 12.0\r",
      "ep 287 : reward 10.0\r",
      "ep 288 : reward 8.0\r",
      "ep 289 : reward 10.0\r",
      "ep 290 : reward 10.0\r",
      "ep 291 : reward 10.0\r",
      "ep 292 : reward 9.0\r",
      "ep 293 : reward 9.0\r",
      "ep 294 : reward 9.0\r",
      "ep 295 : reward 10.0\r"
     ]
    },
    {
     "name": "stdout",
     "output_type": "stream",
     "text": [
      "ep 296 : reward 8.0\r",
      "ep 297 : reward 10.0\r",
      "ep 298 : reward 10.0\r",
      "ep 299 : reward 9.0\r",
      "ep 300 : reward 9.0\r",
      "ep 301 : reward 10.0\r",
      "ep 302 : reward 11.0\r",
      "ep 303 : reward 9.0\r",
      "ep 304 : reward 10.0\r",
      "ep 305 : reward 9.0\r"
     ]
    },
    {
     "name": "stdout",
     "output_type": "stream",
     "text": [
      "ep 306 : reward 8.0\r",
      "ep 307 : reward 10.0\r",
      "ep 308 : reward 13.0\r",
      "ep 309 : reward 8.0\r",
      "ep 310 : reward 9.0\r",
      "ep 311 : reward 13.0\r",
      "ep 312 : reward 9.0\r",
      "ep 313 : reward 10.0\r",
      "ep 314 : reward 9.0\r"
     ]
    },
    {
     "name": "stdout",
     "output_type": "stream",
     "text": [
      "ep 315 : reward 11.0\r",
      "ep 316 : reward 9.0\r",
      "ep 317 : reward 10.0\r",
      "ep 318 : reward 9.0\r",
      "ep 319 : reward 12.0\r",
      "ep 320 : reward 10.0\r",
      "ep 321 : reward 10.0\r",
      "ep 322 : reward 9.0\r",
      "ep 323 : reward 10.0\r"
     ]
    },
    {
     "name": "stdout",
     "output_type": "stream",
     "text": [
      "ep 324 : reward 9.0\r",
      "ep 325 : reward 8.0\r",
      "ep 326 : reward 10.0\r",
      "ep 327 : reward 9.0\r",
      "ep 328 : reward 11.0\r",
      "ep 329 : reward 10.0\r",
      "ep 330 : reward 9.0\r",
      "ep 331 : reward 10.0\r",
      "ep 332 : reward 9.0\r"
     ]
    },
    {
     "name": "stdout",
     "output_type": "stream",
     "text": [
      "ep 333 : reward 11.0\r",
      "ep 334 : reward 9.0\r",
      "ep 335 : reward 9.0\r",
      "ep 336 : reward 9.0\r",
      "ep 337 : reward 9.0\r",
      "ep 338 : reward 9.0\r",
      "ep 339 : reward 10.0\r",
      "ep 340 : reward 10.0\r",
      "ep 341 : reward 10.0\r"
     ]
    },
    {
     "name": "stdout",
     "output_type": "stream",
     "text": [
      "ep 342 : reward 12.0\r",
      "ep 343 : reward 9.0\r",
      "ep 344 : reward 8.0\r",
      "ep 345 : reward 9.0\r",
      "ep 346 : reward 8.0\r",
      "ep 347 : reward 9.0\r",
      "ep 348 : reward 9.0\r",
      "ep 349 : reward 11.0\r",
      "ep 350 : reward 9.0\r",
      "ep 351 : reward 9.0\r"
     ]
    },
    {
     "name": "stdout",
     "output_type": "stream",
     "text": [
      "ep 352 : reward 9.0\r",
      "ep 353 : reward 9.0\r",
      "ep 354 : reward 11.0\r",
      "ep 355 : reward 8.0\r",
      "ep 356 : reward 9.0\r",
      "ep 357 : reward 8.0\r",
      "ep 358 : reward 11.0\r",
      "ep 359 : reward 8.0\r",
      "ep 360 : reward 9.0\r",
      "ep 361 : reward 10.0\r"
     ]
    },
    {
     "name": "stdout",
     "output_type": "stream",
     "text": [
      "ep 362 : reward 9.0\r",
      "ep 363 : reward 9.0\r",
      "ep 364 : reward 10.0\r",
      "ep 365 : reward 10.0\r",
      "ep 366 : reward 10.0\r",
      "ep 367 : reward 9.0\r",
      "ep 368 : reward 9.0\r",
      "ep 369 : reward 9.0\r",
      "ep 370 : reward 13.0\r"
     ]
    },
    {
     "name": "stdout",
     "output_type": "stream",
     "text": [
      "ep 371 : reward 11.0\r",
      "ep 372 : reward 9.0\r",
      "ep 373 : reward 9.0\r",
      "ep 374 : reward 9.0\r",
      "ep 375 : reward 10.0\r",
      "ep 376 : reward 9.0\r",
      "ep 377 : reward 9.0\r",
      "ep 378 : reward 9.0\r",
      "ep 379 : reward 10.0\r"
     ]
    },
    {
     "name": "stdout",
     "output_type": "stream",
     "text": [
      "ep 380 : reward 10.0\r",
      "ep 381 : reward 10.0\r",
      "ep 382 : reward 9.0\r",
      "ep 383 : reward 10.0\r",
      "ep 384 : reward 8.0\r",
      "ep 385 : reward 9.0\r",
      "ep 386 : reward 9.0\r",
      "ep 387 : reward 9.0\r",
      "ep 388 : reward 11.0\r"
     ]
    },
    {
     "name": "stdout",
     "output_type": "stream",
     "text": [
      "ep 389 : reward 10.0\r",
      "ep 390 : reward 9.0\r",
      "ep 391 : reward 11.0\r",
      "ep 392 : reward 10.0\r",
      "ep 393 : reward 9.0\r",
      "ep 394 : reward 8.0\r",
      "ep 395 : reward 10.0\r",
      "ep 396 : reward 10.0\r",
      "ep 397 : reward 10.0\r"
     ]
    },
    {
     "name": "stdout",
     "output_type": "stream",
     "text": [
      "ep 398 : reward 9.0\r",
      "ep 399 : reward 10.0\r",
      "ep 400 : reward 10.0\r",
      "ep 401 : reward 9.0\r",
      "ep 402 : reward 9.0\r",
      "ep 403 : reward 9.0\r",
      "ep 404 : reward 9.0\r",
      "ep 405 : reward 10.0\r",
      "ep 406 : reward 8.0\r"
     ]
    },
    {
     "name": "stdout",
     "output_type": "stream",
     "text": [
      "ep 407 : reward 9.0\r",
      "ep 408 : reward 9.0\r",
      "ep 409 : reward 11.0\r",
      "ep 410 : reward 9.0\r",
      "ep 411 : reward 11.0\r",
      "ep 412 : reward 11.0\r",
      "ep 413 : reward 11.0\r",
      "ep 414 : reward 11.0\r"
     ]
    },
    {
     "name": "stdout",
     "output_type": "stream",
     "text": [
      "ep 415 : reward 10.0\r",
      "ep 416 : reward 11.0\r",
      "ep 417 : reward 10.0\r",
      "ep 418 : reward 9.0\r",
      "ep 419 : reward 8.0\r",
      "ep 420 : reward 11.0\r",
      "ep 421 : reward 12.0\r",
      "ep 422 : reward 9.0\r",
      "ep 423 : reward 8.0\r"
     ]
    },
    {
     "name": "stdout",
     "output_type": "stream",
     "text": [
      "ep 424 : reward 9.0\r",
      "ep 425 : reward 9.0\r",
      "ep 426 : reward 9.0\r",
      "ep 427 : reward 10.0\r",
      "ep 428 : reward 10.0\r",
      "ep 429 : reward 9.0\r",
      "ep 430 : reward 11.0\r",
      "ep 431 : reward 10.0\r",
      "ep 432 : reward 10.0\r"
     ]
    },
    {
     "name": "stdout",
     "output_type": "stream",
     "text": [
      "ep 433 : reward 12.0\r",
      "ep 434 : reward 8.0\r",
      "ep 435 : reward 10.0\r",
      "ep 436 : reward 10.0\r",
      "ep 437 : reward 8.0\r",
      "ep 438 : reward 9.0\r",
      "ep 439 : reward 10.0\r",
      "ep 440 : reward 10.0\r",
      "ep 441 : reward 10.0\r"
     ]
    },
    {
     "name": "stdout",
     "output_type": "stream",
     "text": [
      "ep 442 : reward 10.0\r",
      "ep 443 : reward 10.0\r",
      "ep 444 : reward 9.0\r",
      "ep 445 : reward 10.0\r",
      "ep 446 : reward 9.0\r",
      "ep 447 : reward 10.0\r",
      "ep 448 : reward 8.0\r",
      "ep 449 : reward 11.0\r",
      "ep 450 : reward 9.0\r"
     ]
    },
    {
     "name": "stdout",
     "output_type": "stream",
     "text": [
      "ep 451 : reward 9.0\r",
      "ep 452 : reward 9.0\r",
      "ep 453 : reward 9.0\r",
      "ep 454 : reward 10.0\r",
      "ep 455 : reward 11.0\r",
      "ep 456 : reward 9.0\r",
      "ep 457 : reward 10.0\r",
      "ep 458 : reward 10.0\r",
      "ep 459 : reward 11.0\r"
     ]
    },
    {
     "name": "stdout",
     "output_type": "stream",
     "text": [
      "ep 460 : reward 9.0\r",
      "ep 461 : reward 8.0\r",
      "ep 462 : reward 12.0\r",
      "ep 463 : reward 9.0\r",
      "ep 464 : reward 10.0\r",
      "ep 465 : reward 11.0\r",
      "ep 466 : reward 10.0\r",
      "ep 467 : reward 10.0\r"
     ]
    },
    {
     "name": "stdout",
     "output_type": "stream",
     "text": [
      "ep 468 : reward 10.0\r",
      "ep 469 : reward 10.0\r",
      "ep 470 : reward 10.0\r",
      "ep 471 : reward 10.0\r",
      "ep 472 : reward 10.0\r",
      "ep 473 : reward 10.0\r",
      "ep 474 : reward 10.0\r",
      "ep 475 : reward 8.0\r"
     ]
    },
    {
     "name": "stdout",
     "output_type": "stream",
     "text": [
      "ep 476 : reward 10.0\r",
      "ep 477 : reward 9.0\r",
      "ep 478 : reward 9.0\r",
      "ep 479 : reward 9.0\r",
      "ep 480 : reward 11.0\r",
      "ep 481 : reward 9.0\r",
      "ep 482 : reward 10.0\r",
      "ep 483 : reward 9.0\r",
      "ep 484 : reward 9.0\r"
     ]
    },
    {
     "name": "stdout",
     "output_type": "stream",
     "text": [
      "ep 485 : reward 9.0\r",
      "ep 486 : reward 10.0\r",
      "ep 487 : reward 10.0\r",
      "ep 488 : reward 9.0\r",
      "ep 489 : reward 9.0\r",
      "ep 490 : reward 10.0\r",
      "ep 491 : reward 9.0\r",
      "ep 492 : reward 10.0\r",
      "ep 493 : reward 9.0\r"
     ]
    },
    {
     "name": "stdout",
     "output_type": "stream",
     "text": [
      "ep 494 : reward 9.0\r",
      "ep 495 : reward 9.0\r",
      "ep 496 : reward 9.0\r",
      "ep 497 : reward 10.0\r",
      "ep 498 : reward 10.0\r",
      "ep 499 : reward 10.0\r",
      "ep 500 : reward 9.0\r",
      "ep 501 : reward 10.0\r",
      "ep 502 : reward 8.0\r"
     ]
    },
    {
     "name": "stdout",
     "output_type": "stream",
     "text": [
      "ep 503 : reward 10.0\r",
      "ep 504 : reward 11.0\r",
      "ep 505 : reward 11.0\r",
      "ep 506 : reward 10.0\r",
      "ep 507 : reward 9.0\r",
      "ep 508 : reward 10.0\r",
      "ep 509 : reward 11.0\r",
      "ep 510 : reward 9.0\r",
      "ep 511 : reward 9.0\r"
     ]
    },
    {
     "name": "stdout",
     "output_type": "stream",
     "text": [
      "ep 512 : reward 10.0\r",
      "ep 513 : reward 9.0\r",
      "ep 514 : reward 9.0\r",
      "ep 515 : reward 9.0\r",
      "ep 516 : reward 12.0\r",
      "ep 517 : reward 9.0\r",
      "ep 518 : reward 10.0\r",
      "ep 519 : reward 11.0\r",
      "ep 520 : reward 11.0\r"
     ]
    },
    {
     "name": "stdout",
     "output_type": "stream",
     "text": [
      "ep 521 : reward 11.0\r",
      "ep 522 : reward 12.0\r",
      "ep 523 : reward 12.0\r",
      "ep 524 : reward 10.0\r",
      "ep 525 : reward 10.0\r",
      "ep 526 : reward 11.0\r",
      "ep 527 : reward 12.0\r",
      "ep 528 : reward 9.0\r"
     ]
    },
    {
     "name": "stdout",
     "output_type": "stream",
     "text": [
      "ep 529 : reward 11.0\r",
      "ep 530 : reward 10.0\r",
      "ep 531 : reward 11.0\r",
      "ep 532 : reward 12.0\r",
      "ep 533 : reward 10.0\r",
      "ep 534 : reward 9.0\r",
      "ep 535 : reward 9.0\r",
      "ep 536 : reward 11.0\r",
      "ep 537 : reward 9.0\r"
     ]
    },
    {
     "name": "stdout",
     "output_type": "stream",
     "text": [
      "ep 538 : reward 9.0\r",
      "ep 539 : reward 8.0\r",
      "ep 540 : reward 10.0\r",
      "ep 541 : reward 12.0\r",
      "ep 542 : reward 10.0\r",
      "ep 543 : reward 8.0\r",
      "ep 544 : reward 11.0\r",
      "ep 545 : reward 11.0\r"
     ]
    },
    {
     "name": "stdout",
     "output_type": "stream",
     "text": [
      "ep 546 : reward 10.0\r",
      "ep 547 : reward 11.0\r",
      "ep 548 : reward 9.0\r",
      "ep 549 : reward 10.0\r",
      "ep 550 : reward 9.0\r",
      "ep 551 : reward 10.0\r",
      "ep 552 : reward 8.0\r",
      "ep 553 : reward 12.0\r"
     ]
    },
    {
     "name": "stdout",
     "output_type": "stream",
     "text": [
      "ep 554 : reward 9.0\r",
      "ep 555 : reward 11.0\r",
      "ep 556 : reward 10.0\r",
      "ep 557 : reward 12.0\r",
      "ep 558 : reward 10.0\r",
      "ep 559 : reward 12.0\r",
      "ep 560 : reward 9.0\r",
      "ep 561 : reward 9.0\r",
      "ep 562 : reward 8.0\r"
     ]
    },
    {
     "name": "stdout",
     "output_type": "stream",
     "text": [
      "ep 563 : reward 9.0\r",
      "ep 564 : reward 9.0\r",
      "ep 565 : reward 9.0\r",
      "ep 566 : reward 10.0\r",
      "ep 567 : reward 10.0\r",
      "ep 568 : reward 10.0\r",
      "ep 569 : reward 9.0\r",
      "ep 570 : reward 10.0\r",
      "ep 571 : reward 10.0\r"
     ]
    },
    {
     "name": "stdout",
     "output_type": "stream",
     "text": [
      "ep 572 : reward 11.0\r",
      "ep 573 : reward 10.0\r",
      "ep 574 : reward 12.0\r",
      "ep 575 : reward 10.0\r",
      "ep 576 : reward 10.0\r",
      "ep 577 : reward 9.0\r",
      "ep 578 : reward 10.0\r",
      "ep 579 : reward 10.0\r"
     ]
    },
    {
     "name": "stdout",
     "output_type": "stream",
     "text": [
      "ep 580 : reward 10.0\r",
      "ep 581 : reward 9.0\r",
      "ep 582 : reward 10.0\r",
      "ep 583 : reward 10.0\r",
      "ep 584 : reward 11.0\r"
     ]
    },
    {
     "name": "stdout",
     "output_type": "stream",
     "text": [
      "ep 585 : reward 46.0\r",
      "ep 586 : reward 8.0\r",
      "ep 587 : reward 9.0\r",
      "ep 588 : reward 10.0\r",
      "ep 589 : reward 8.0\r",
      "ep 590 : reward 10.0\r",
      "ep 591 : reward 29.0\r"
     ]
    },
    {
     "name": "stdout",
     "output_type": "stream",
     "text": [
      "ep 592 : reward 9.0\r",
      "ep 593 : reward 12.0\r",
      "ep 594 : reward 9.0\r",
      "ep 595 : reward 10.0\r",
      "ep 596 : reward 9.0\r",
      "ep 597 : reward 11.0\r",
      "ep 598 : reward 10.0\r",
      "ep 599 : reward 12.0\r"
     ]
    },
    {
     "name": "stdout",
     "output_type": "stream",
     "text": [
      "ep 600 : reward 11.0\r",
      "ep 601 : reward 12.0\r",
      "ep 602 : reward 27.0\r",
      "ep 603 : reward 9.0\r",
      "ep 604 : reward 10.0\r",
      "ep 605 : reward 9.0\r",
      "ep 606 : reward 11.0\r"
     ]
    },
    {
     "name": "stdout",
     "output_type": "stream",
     "text": [
      "ep 607 : reward 10.0\r",
      "ep 608 : reward 12.0\r",
      "ep 609 : reward 30.0\r",
      "ep 610 : reward 11.0\r",
      "ep 611 : reward 10.0\r",
      "ep 612 : reward 10.0\r"
     ]
    },
    {
     "name": "stdout",
     "output_type": "stream",
     "text": [
      "ep 613 : reward 10.0\r",
      "ep 614 : reward 9.0\r",
      "ep 615 : reward 25.0\r",
      "ep 616 : reward 9.0\r",
      "ep 617 : reward 10.0\r"
     ]
    },
    {
     "name": "stdout",
     "output_type": "stream",
     "text": [
      "ep 618 : reward 43.0\r",
      "ep 619 : reward 50.0\r",
      "ep 620 : reward 14.0\r",
      "ep 621 : reward 10.0\r",
      "ep 622 : reward 9.0\r"
     ]
    },
    {
     "name": "stdout",
     "output_type": "stream",
     "text": [
      "ep 623 : reward 10.0\r",
      "ep 624 : reward 11.0\r",
      "ep 625 : reward 9.0\r",
      "ep 626 : reward 10.0\r",
      "ep 627 : reward 10.0\r",
      "ep 628 : reward 9.0\r",
      "ep 629 : reward 10.0\r",
      "ep 630 : reward 10.0\r"
     ]
    },
    {
     "name": "stdout",
     "output_type": "stream",
     "text": [
      "ep 631 : reward 9.0\r",
      "ep 632 : reward 9.0\r",
      "ep 633 : reward 9.0\r",
      "ep 634 : reward 9.0\r",
      "ep 635 : reward 10.0\r",
      "ep 636 : reward 10.0\r",
      "ep 637 : reward 10.0\r",
      "ep 638 : reward 9.0\r",
      "ep 639 : reward 9.0\r"
     ]
    },
    {
     "name": "stdout",
     "output_type": "stream",
     "text": [
      "ep 640 : reward 26.0\r",
      "ep 641 : reward 25.0\r",
      "ep 642 : reward 11.0\r",
      "ep 643 : reward 8.0\r",
      "ep 644 : reward 10.0\r",
      "ep 645 : reward 27.0\r"
     ]
    },
    {
     "name": "stdout",
     "output_type": "stream",
     "text": [
      "ep 646 : reward 9.0\r",
      "ep 647 : reward 25.0\r",
      "ep 648 : reward 9.0\r",
      "ep 649 : reward 9.0\r",
      "ep 650 : reward 10.0\r",
      "ep 651 : reward 22.0\r"
     ]
    },
    {
     "name": "stdout",
     "output_type": "stream",
     "text": [
      "ep 652 : reward 11.0\r",
      "ep 653 : reward 8.0\r",
      "ep 654 : reward 12.0\r",
      "ep 655 : reward 11.0\r",
      "ep 656 : reward 12.0\r",
      "ep 657 : reward 9.0\r",
      "ep 658 : reward 10.0\r",
      "ep 659 : reward 9.0\r"
     ]
    },
    {
     "name": "stdout",
     "output_type": "stream",
     "text": [
      "ep 660 : reward 9.0\r",
      "ep 661 : reward 35.0\r",
      "ep 662 : reward 10.0\r",
      "ep 663 : reward 25.0\r"
     ]
    },
    {
     "name": "stdout",
     "output_type": "stream",
     "text": [
      "ep 664 : reward 8.0\r",
      "ep 665 : reward 9.0\r",
      "ep 666 : reward 9.0\r",
      "ep 667 : reward 13.0\r",
      "ep 668 : reward 18.0\r",
      "ep 669 : reward 10.0\r"
     ]
    },
    {
     "name": "stdout",
     "output_type": "stream",
     "text": [
      "ep 670 : reward 28.0\r",
      "ep 671 : reward 11.0\r",
      "ep 672 : reward 23.0\r",
      "ep 673 : reward 8.0\r",
      "ep 674 : reward 9.0\r",
      "ep 675 : reward 9.0\r",
      "ep 676 : reward 8.0\r",
      "ep 677 : reward 9.0\r"
     ]
    },
    {
     "name": "stdout",
     "output_type": "stream",
     "text": [
      "ep 678 : reward 9.0\r",
      "ep 679 : reward 10.0\r",
      "ep 680 : reward 24.0\r",
      "ep 681 : reward 11.0\r",
      "ep 682 : reward 9.0\r",
      "ep 683 : reward 9.0\r"
     ]
    },
    {
     "name": "stdout",
     "output_type": "stream",
     "text": [
      "ep 684 : reward 28.0\r",
      "ep 685 : reward 9.0\r",
      "ep 686 : reward 9.0\r",
      "ep 687 : reward 24.0\r",
      "ep 688 : reward 9.0\r",
      "ep 689 : reward 10.0\r",
      "ep 690 : reward 10.0\r"
     ]
    },
    {
     "name": "stdout",
     "output_type": "stream",
     "text": [
      "ep 691 : reward 36.0\r",
      "ep 692 : reward 10.0\r",
      "ep 693 : reward 9.0\r",
      "ep 694 : reward 9.0\r",
      "ep 695 : reward 9.0\r",
      "ep 696 : reward 10.0\r",
      "ep 697 : reward 9.0\r",
      "ep 698 : reward 10.0\r",
      "ep 699 : reward 12.0\r"
     ]
    },
    {
     "name": "stdout",
     "output_type": "stream",
     "text": [
      "ep 700 : reward 35.0\r",
      "ep 701 : reward 25.0\r",
      "ep 702 : reward 32.0\r",
      "ep 703 : reward 10.0\r",
      "ep 704 : reward 10.0\r",
      "ep 705 : reward 9.0\r"
     ]
    },
    {
     "name": "stdout",
     "output_type": "stream",
     "text": [
      "ep 706 : reward 9.0\r",
      "ep 707 : reward 9.0\r",
      "ep 708 : reward 11.0\r",
      "ep 709 : reward 9.0\r",
      "ep 710 : reward 9.0\r",
      "ep 711 : reward 8.0\r",
      "ep 712 : reward 10.0\r",
      "ep 713 : reward 9.0\r",
      "ep 714 : reward 9.0\r",
      "ep 715 : reward 8.0\r"
     ]
    },
    {
     "name": "stdout",
     "output_type": "stream",
     "text": [
      "ep 716 : reward 12.0\r",
      "ep 717 : reward 10.0\r",
      "ep 718 : reward 9.0\r",
      "ep 719 : reward 11.0\r",
      "ep 720 : reward 25.0\r",
      "ep 721 : reward 19.0\r"
     ]
    },
    {
     "name": "stdout",
     "output_type": "stream",
     "text": [
      "ep 722 : reward 9.0\r",
      "ep 723 : reward 10.0\r",
      "ep 724 : reward 8.0\r",
      "ep 725 : reward 8.0\r",
      "ep 726 : reward 9.0\r",
      "ep 727 : reward 9.0\r",
      "ep 728 : reward 9.0\r",
      "ep 729 : reward 10.0\r",
      "ep 730 : reward 10.0\r"
     ]
    },
    {
     "name": "stdout",
     "output_type": "stream",
     "text": [
      "ep 731 : reward 9.0\r",
      "ep 732 : reward 9.0\r",
      "ep 733 : reward 9.0\r",
      "ep 734 : reward 10.0\r",
      "ep 735 : reward 10.0\r",
      "ep 736 : reward 9.0\r",
      "ep 737 : reward 9.0\r",
      "ep 738 : reward 10.0\r"
     ]
    },
    {
     "name": "stdout",
     "output_type": "stream",
     "text": [
      "ep 739 : reward 12.0\r",
      "ep 740 : reward 10.0\r",
      "ep 741 : reward 9.0\r",
      "ep 742 : reward 10.0\r",
      "ep 743 : reward 11.0\r",
      "ep 744 : reward 9.0\r",
      "ep 745 : reward 8.0\r",
      "ep 746 : reward 10.0\r",
      "ep 747 : reward 9.0\r"
     ]
    },
    {
     "name": "stdout",
     "output_type": "stream",
     "text": [
      "ep 748 : reward 10.0\r",
      "ep 749 : reward 8.0\r",
      "ep 750 : reward 10.0\r",
      "ep 751 : reward 10.0\r",
      "ep 752 : reward 10.0\r",
      "ep 753 : reward 9.0\r",
      "ep 754 : reward 12.0\r",
      "ep 755 : reward 8.0\r",
      "ep 756 : reward 9.0\r"
     ]
    },
    {
     "name": "stdout",
     "output_type": "stream",
     "text": [
      "ep 757 : reward 9.0\r",
      "ep 758 : reward 11.0\r",
      "ep 759 : reward 9.0\r",
      "ep 760 : reward 10.0\r",
      "ep 761 : reward 12.0\r",
      "ep 762 : reward 10.0\r",
      "ep 763 : reward 10.0\r"
     ]
    },
    {
     "name": "stdout",
     "output_type": "stream",
     "text": [
      "ep 764 : reward 10.0\r",
      "ep 765 : reward 8.0\r",
      "ep 766 : reward 11.0\r",
      "ep 767 : reward 10.0\r",
      "ep 768 : reward 23.0\r",
      "ep 769 : reward 9.0\r",
      "ep 770 : reward 9.0\r"
     ]
    },
    {
     "name": "stdout",
     "output_type": "stream",
     "text": [
      "ep 771 : reward 12.0\r",
      "ep 772 : reward 9.0\r",
      "ep 773 : reward 11.0\r",
      "ep 774 : reward 9.0\r",
      "ep 775 : reward 10.0\r",
      "ep 776 : reward 9.0\r",
      "ep 777 : reward 9.0\r",
      "ep 778 : reward 8.0\r",
      "ep 779 : reward 9.0\r"
     ]
    },
    {
     "name": "stdout",
     "output_type": "stream",
     "text": [
      "ep 780 : reward 10.0\r",
      "ep 781 : reward 11.0\r",
      "ep 782 : reward 8.0\r",
      "ep 783 : reward 10.0\r",
      "ep 784 : reward 9.0\r",
      "ep 785 : reward 10.0\r",
      "ep 786 : reward 10.0\r",
      "ep 787 : reward 10.0\r"
     ]
    },
    {
     "name": "stdout",
     "output_type": "stream",
     "text": [
      "ep 788 : reward 9.0\r",
      "ep 789 : reward 9.0\r",
      "ep 790 : reward 10.0\r",
      "ep 791 : reward 18.0\r",
      "ep 792 : reward 21.0\r",
      "ep 793 : reward 9.0\r",
      "ep 794 : reward 11.0\r"
     ]
    },
    {
     "name": "stdout",
     "output_type": "stream",
     "text": [
      "ep 795 : reward 9.0\r",
      "ep 796 : reward 10.0\r",
      "ep 797 : reward 10.0\r",
      "ep 798 : reward 10.0\r",
      "ep 799 : reward 10.0\r",
      "ep 800 : reward 10.0\r",
      "ep 801 : reward 10.0\r",
      "ep 802 : reward 10.0\r"
     ]
    },
    {
     "name": "stdout",
     "output_type": "stream",
     "text": [
      "ep 803 : reward 12.0\r",
      "ep 804 : reward 9.0\r",
      "ep 805 : reward 10.0\r",
      "ep 806 : reward 9.0\r",
      "ep 807 : reward 9.0\r",
      "ep 808 : reward 12.0\r",
      "ep 809 : reward 9.0\r",
      "ep 810 : reward 11.0\r"
     ]
    },
    {
     "name": "stdout",
     "output_type": "stream",
     "text": [
      "ep 811 : reward 20.0\r",
      "ep 812 : reward 10.0\r",
      "ep 813 : reward 12.0\r",
      "ep 814 : reward 9.0\r",
      "ep 815 : reward 12.0\r",
      "ep 816 : reward 10.0\r",
      "ep 817 : reward 8.0\r",
      "ep 818 : reward 10.0\r"
     ]
    },
    {
     "name": "stdout",
     "output_type": "stream",
     "text": [
      "ep 819 : reward 11.0\r",
      "ep 820 : reward 18.0\r",
      "ep 821 : reward 9.0\r",
      "ep 822 : reward 12.0\r",
      "ep 823 : reward 18.0\r",
      "ep 824 : reward 12.0\r"
     ]
    },
    {
     "name": "stdout",
     "output_type": "stream",
     "text": [
      "ep 825 : reward 10.0\r",
      "ep 826 : reward 10.0\r",
      "ep 827 : reward 10.0\r",
      "ep 828 : reward 10.0\r",
      "ep 829 : reward 10.0\r",
      "ep 830 : reward 9.0\r",
      "ep 831 : reward 9.0\r",
      "ep 832 : reward 10.0\r",
      "ep 833 : reward 10.0\r"
     ]
    },
    {
     "name": "stdout",
     "output_type": "stream",
     "text": [
      "ep 834 : reward 9.0\r",
      "ep 835 : reward 10.0\r",
      "ep 836 : reward 10.0\r",
      "ep 837 : reward 9.0\r",
      "ep 838 : reward 10.0\r",
      "ep 839 : reward 9.0\r",
      "ep 840 : reward 8.0\r",
      "ep 841 : reward 9.0\r"
     ]
    },
    {
     "name": "stdout",
     "output_type": "stream",
     "text": [
      "ep 842 : reward 10.0\r",
      "ep 843 : reward 10.0\r",
      "ep 844 : reward 8.0\r",
      "ep 845 : reward 10.0\r",
      "ep 846 : reward 8.0\r",
      "ep 847 : reward 11.0\r",
      "ep 848 : reward 21.0\r",
      "ep 849 : reward 12.0\r"
     ]
    },
    {
     "name": "stdout",
     "output_type": "stream",
     "text": [
      "ep 850 : reward 10.0\r",
      "ep 851 : reward 9.0\r",
      "ep 852 : reward 18.0\r",
      "ep 853 : reward 10.0\r",
      "ep 854 : reward 10.0\r",
      "ep 855 : reward 10.0\r",
      "ep 856 : reward 9.0\r",
      "ep 857 : reward 9.0\r",
      "ep 858 : reward 9.0\r"
     ]
    },
    {
     "name": "stdout",
     "output_type": "stream",
     "text": [
      "ep 859 : reward 10.0\r",
      "ep 860 : reward 9.0\r",
      "ep 861 : reward 19.0\r",
      "ep 862 : reward 11.0\r",
      "ep 863 : reward 12.0\r",
      "ep 864 : reward 21.0\r",
      "ep 865 : reward 9.0\r"
     ]
    },
    {
     "name": "stdout",
     "output_type": "stream",
     "text": [
      "ep 866 : reward 10.0\r",
      "ep 867 : reward 10.0\r",
      "ep 868 : reward 10.0\r",
      "ep 869 : reward 9.0\r",
      "ep 870 : reward 9.0\r",
      "ep 871 : reward 10.0\r",
      "ep 872 : reward 10.0\r",
      "ep 873 : reward 11.0\r"
     ]
    },
    {
     "name": "stdout",
     "output_type": "stream",
     "text": [
      "ep 874 : reward 21.0\r",
      "ep 875 : reward 11.0\r",
      "ep 876 : reward 20.0\r",
      "ep 877 : reward 10.0\r",
      "ep 878 : reward 10.0\r",
      "ep 879 : reward 9.0\r",
      "ep 880 : reward 9.0\r",
      "ep 881 : reward 9.0\r"
     ]
    },
    {
     "name": "stdout",
     "output_type": "stream",
     "text": [
      "ep 882 : reward 10.0\r",
      "ep 883 : reward 10.0\r",
      "ep 884 : reward 26.0\r",
      "ep 885 : reward 26.0\r",
      "ep 886 : reward 10.0\r",
      "ep 887 : reward 10.0\r"
     ]
    },
    {
     "name": "stdout",
     "output_type": "stream",
     "text": [
      "ep 888 : reward 10.0\r",
      "ep 889 : reward 10.0\r",
      "ep 890 : reward 10.0\r",
      "ep 891 : reward 10.0\r",
      "ep 892 : reward 11.0\r",
      "ep 893 : reward 11.0\r",
      "ep 894 : reward 12.0\r",
      "ep 895 : reward 10.0\r"
     ]
    },
    {
     "name": "stdout",
     "output_type": "stream",
     "text": [
      "ep 896 : reward 10.0\r",
      "ep 897 : reward 11.0\r",
      "ep 898 : reward 12.0\r",
      "ep 899 : reward 10.0\r",
      "ep 900 : reward 11.0\r",
      "ep 901 : reward 9.0\r",
      "ep 902 : reward 10.0\r",
      "ep 903 : reward 9.0\r",
      "ep 904 : reward 10.0\r"
     ]
    },
    {
     "name": "stdout",
     "output_type": "stream",
     "text": [
      "ep 905 : reward 9.0\r",
      "ep 906 : reward 18.0\r",
      "ep 907 : reward 10.0\r",
      "ep 908 : reward 10.0\r",
      "ep 909 : reward 10.0\r",
      "ep 910 : reward 8.0\r",
      "ep 911 : reward 10.0\r"
     ]
    },
    {
     "name": "stdout",
     "output_type": "stream",
     "text": [
      "ep 912 : reward 11.0\r",
      "ep 913 : reward 9.0\r",
      "ep 914 : reward 10.0\r",
      "ep 915 : reward 9.0\r",
      "ep 916 : reward 10.0\r",
      "ep 917 : reward 9.0\r",
      "ep 918 : reward 10.0\r",
      "ep 919 : reward 10.0\r",
      "ep 920 : reward 9.0\r"
     ]
    },
    {
     "name": "stdout",
     "output_type": "stream",
     "text": [
      "ep 921 : reward 10.0\r",
      "ep 922 : reward 9.0\r",
      "ep 923 : reward 10.0\r",
      "ep 924 : reward 9.0\r",
      "ep 925 : reward 8.0\r",
      "ep 926 : reward 8.0\r",
      "ep 927 : reward 9.0\r",
      "ep 928 : reward 10.0\r",
      "ep 929 : reward 10.0\r",
      "ep 930 : reward 10.0\r"
     ]
    },
    {
     "name": "stdout",
     "output_type": "stream",
     "text": [
      "ep 931 : reward 9.0\r",
      "ep 932 : reward 10.0\r",
      "ep 933 : reward 8.0\r",
      "ep 934 : reward 9.0\r",
      "ep 935 : reward 9.0\r",
      "ep 936 : reward 10.0\r",
      "ep 937 : reward 9.0\r",
      "ep 938 : reward 10.0\r",
      "ep 939 : reward 10.0\r",
      "ep 940 : reward 8.0\r"
     ]
    },
    {
     "name": "stdout",
     "output_type": "stream",
     "text": [
      "ep 941 : reward 9.0\r",
      "ep 942 : reward 11.0\r",
      "ep 943 : reward 9.0\r",
      "ep 944 : reward 10.0\r",
      "ep 945 : reward 9.0\r",
      "ep 946 : reward 10.0\r",
      "ep 947 : reward 11.0\r",
      "ep 948 : reward 10.0\r",
      "ep 949 : reward 9.0\r"
     ]
    },
    {
     "name": "stdout",
     "output_type": "stream",
     "text": [
      "ep 950 : reward 8.0\r",
      "ep 951 : reward 12.0\r",
      "ep 952 : reward 9.0\r",
      "ep 953 : reward 9.0\r",
      "ep 954 : reward 11.0\r",
      "ep 955 : reward 9.0\r",
      "ep 956 : reward 10.0\r",
      "ep 957 : reward 10.0\r",
      "ep 958 : reward 9.0\r"
     ]
    },
    {
     "name": "stdout",
     "output_type": "stream",
     "text": [
      "ep 959 : reward 10.0\r",
      "ep 960 : reward 10.0\r",
      "ep 961 : reward 10.0\r",
      "ep 962 : reward 10.0\r",
      "ep 963 : reward 9.0\r",
      "ep 964 : reward 9.0\r",
      "ep 965 : reward 9.0\r",
      "ep 966 : reward 9.0\r",
      "ep 967 : reward 9.0\r"
     ]
    },
    {
     "name": "stdout",
     "output_type": "stream",
     "text": [
      "ep 968 : reward 9.0\r",
      "ep 969 : reward 9.0\r",
      "ep 970 : reward 11.0\r",
      "ep 971 : reward 8.0\r",
      "ep 972 : reward 10.0\r",
      "ep 973 : reward 9.0\r",
      "ep 974 : reward 10.0\r",
      "ep 975 : reward 9.0\r",
      "ep 976 : reward 10.0\r"
     ]
    },
    {
     "name": "stdout",
     "output_type": "stream",
     "text": [
      "ep 977 : reward 9.0\r",
      "ep 978 : reward 8.0\r",
      "ep 979 : reward 10.0\r",
      "ep 980 : reward 12.0\r",
      "ep 981 : reward 9.0\r",
      "ep 982 : reward 9.0\r",
      "ep 983 : reward 10.0\r",
      "ep 984 : reward 10.0\r",
      "ep 985 : reward 10.0\r"
     ]
    },
    {
     "name": "stdout",
     "output_type": "stream",
     "text": [
      "ep 986 : reward 10.0\r",
      "ep 987 : reward 10.0\r",
      "ep 988 : reward 9.0\r",
      "ep 989 : reward 9.0\r",
      "ep 990 : reward 10.0\r",
      "ep 991 : reward 11.0\r",
      "ep 992 : reward 10.0\r",
      "ep 993 : reward 10.0\r"
     ]
    },
    {
     "name": "stdout",
     "output_type": "stream",
     "text": [
      "ep 994 : reward 10.0\r",
      "ep 995 : reward 12.0\r",
      "ep 996 : reward 9.0\r",
      "ep 997 : reward 8.0\r",
      "ep 998 : reward 9.0\r",
      "ep 999 : reward 10.0\r"
     ]
    },
    {
     "name": "stdout",
     "output_type": "stream",
     "text": [
      "ep 1000 : reward 27.0\r",
      "ep 1001 : reward 10.0\r",
      "ep 1002 : reward 9.0\r",
      "ep 1003 : reward 9.0\r",
      "ep 1004 : reward 9.0\r",
      "ep 1005 : reward 10.0\r",
      "ep 1006 : reward 10.0\r",
      "ep 1007 : reward 9.0\r",
      "ep 1008 : reward 9.0\r"
     ]
    },
    {
     "name": "stdout",
     "output_type": "stream",
     "text": [
      "ep 1009 : reward 10.0\r",
      "ep 1010 : reward 10.0\r",
      "ep 1011 : reward 10.0\r",
      "ep 1012 : reward 9.0\r",
      "ep 1013 : reward 10.0\r",
      "ep 1014 : reward 10.0\r",
      "ep 1015 : reward 11.0\r",
      "ep 1016 : reward 10.0\r",
      "ep 1017 : reward 8.0\r"
     ]
    },
    {
     "name": "stdout",
     "output_type": "stream",
     "text": [
      "ep 1018 : reward 8.0\r",
      "ep 1019 : reward 10.0\r",
      "ep 1020 : reward 11.0\r",
      "ep 1021 : reward 10.0\r",
      "ep 1022 : reward 11.0\r",
      "ep 1023 : reward 10.0\r",
      "ep 1024 : reward 21.0\r"
     ]
    },
    {
     "name": "stdout",
     "output_type": "stream",
     "text": [
      "ep 1025 : reward 20.0\r",
      "ep 1026 : reward 10.0\r",
      "ep 1027 : reward 10.0\r",
      "ep 1028 : reward 9.0\r",
      "ep 1029 : reward 22.0\r",
      "ep 1030 : reward 17.0\r",
      "ep 1031 : reward 9.0\r"
     ]
    },
    {
     "name": "stdout",
     "output_type": "stream",
     "text": [
      "ep 1032 : reward 20.0\r",
      "ep 1033 : reward 11.0\r",
      "ep 1034 : reward 10.0\r",
      "ep 1035 : reward 9.0\r",
      "ep 1036 : reward 10.0\r",
      "ep 1037 : reward 10.0\r",
      "ep 1038 : reward 10.0\r",
      "ep 1039 : reward 10.0\r",
      "ep 1040 : reward 10.0\r"
     ]
    },
    {
     "name": "stdout",
     "output_type": "stream",
     "text": [
      "ep 1041 : reward 10.0\r",
      "ep 1042 : reward 8.0\r",
      "ep 1043 : reward 14.0\r",
      "ep 1044 : reward 11.0\r",
      "ep 1045 : reward 10.0\r",
      "ep 1046 : reward 23.0\r"
     ]
    },
    {
     "name": "stdout",
     "output_type": "stream",
     "text": [
      "ep 1047 : reward 23.0\r",
      "ep 1048 : reward 13.0\r",
      "ep 1049 : reward 11.0\r",
      "ep 1050 : reward 10.0\r",
      "ep 1051 : reward 11.0\r",
      "ep 1052 : reward 26.0\r"
     ]
    },
    {
     "name": "stdout",
     "output_type": "stream",
     "text": [
      "ep 1053 : reward 13.0\r",
      "ep 1054 : reward 10.0\r",
      "ep 1055 : reward 27.0\r",
      "ep 1056 : reward 10.0\r",
      "ep 1057 : reward 9.0\r",
      "ep 1058 : reward 8.0\r",
      "ep 1059 : reward 14.0\r"
     ]
    },
    {
     "name": "stdout",
     "output_type": "stream",
     "text": [
      "ep 1060 : reward 27.0\r",
      "ep 1061 : reward 9.0\r",
      "ep 1062 : reward 9.0\r",
      "ep 1063 : reward 10.0\r",
      "ep 1064 : reward 43.0\r"
     ]
    },
    {
     "name": "stdout",
     "output_type": "stream",
     "text": [
      "ep 1065 : reward 104.0\r",
      "ep 1066 : reward 11.0\r",
      "ep 1067 : reward 10.0\r",
      "ep 1068 : reward 10.0\r",
      "ep 1069 : reward 10.0\r",
      "ep 1070 : reward 10.0\r",
      "ep 1071 : reward 9.0\r",
      "ep 1072 : reward 9.0\r",
      "ep 1073 : reward 9.0\r"
     ]
    },
    {
     "name": "stdout",
     "output_type": "stream",
     "text": [
      "ep 1074 : reward 11.0\r",
      "ep 1075 : reward 12.0\r",
      "ep 1076 : reward 8.0\r",
      "ep 1077 : reward 9.0\r",
      "ep 1078 : reward 8.0\r",
      "ep 1079 : reward 28.0\r"
     ]
    },
    {
     "name": "stdout",
     "output_type": "stream",
     "text": [
      "ep 1080 : reward 79.0\r",
      "ep 1081 : reward 10.0\r",
      "ep 1082 : reward 12.0\r",
      "ep 1083 : reward 10.0\r",
      "ep 1084 : reward 8.0\r",
      "ep 1085 : reward 13.0\r",
      "ep 1086 : reward 10.0\r",
      "ep 1087 : reward 10.0\r"
     ]
    },
    {
     "name": "stdout",
     "output_type": "stream",
     "text": [
      "ep 1088 : reward 10.0\r",
      "ep 1089 : reward 10.0\r",
      "ep 1090 : reward 10.0\r",
      "ep 1091 : reward 10.0\r",
      "ep 1092 : reward 10.0\r",
      "ep 1093 : reward 9.0\r",
      "ep 1094 : reward 12.0\r",
      "ep 1095 : reward 10.0\r"
     ]
    },
    {
     "name": "stdout",
     "output_type": "stream",
     "text": [
      "ep 1096 : reward 9.0\r",
      "ep 1097 : reward 9.0\r",
      "ep 1098 : reward 9.0\r",
      "ep 1099 : reward 11.0\r",
      "ep 1100 : reward 12.0\r",
      "ep 1101 : reward 11.0\r",
      "ep 1102 : reward 10.0\r",
      "ep 1103 : reward 10.0\r"
     ]
    },
    {
     "name": "stdout",
     "output_type": "stream",
     "text": [
      "ep 1104 : reward 11.0\r",
      "ep 1105 : reward 11.0\r",
      "ep 1106 : reward 14.0\r",
      "ep 1107 : reward 10.0\r",
      "ep 1108 : reward 24.0\r",
      "ep 1109 : reward 12.0\r"
     ]
    },
    {
     "name": "stdout",
     "output_type": "stream",
     "text": [
      "ep 1110 : reward 168.0\r",
      "ep 1111 : reward 29.0\r",
      "ep 1112 : reward 28.0\r",
      "ep 1113 : reward 9.0\r",
      "ep 1114 : reward 9.0\r"
     ]
    },
    {
     "name": "stdout",
     "output_type": "stream",
     "text": [
      "ep 1115 : reward 9.0\r",
      "ep 1116 : reward 8.0\r",
      "ep 1117 : reward 10.0\r",
      "ep 1118 : reward 11.0\r",
      "ep 1119 : reward 11.0\r"
     ]
    },
    {
     "name": "stdout",
     "output_type": "stream",
     "text": [
      "ep 1120 : reward 55.0\r",
      "ep 1121 : reward 9.0\r",
      "ep 1122 : reward 10.0\r",
      "ep 1123 : reward 10.0\r",
      "ep 1124 : reward 10.0\r",
      "ep 1125 : reward 12.0\r",
      "ep 1126 : reward 11.0\r"
     ]
    },
    {
     "name": "stdout",
     "output_type": "stream",
     "text": [
      "ep 1127 : reward 121.0\r",
      "ep 1128 : reward 10.0\r",
      "ep 1129 : reward 11.0\r",
      "ep 1130 : reward 10.0\r",
      "ep 1131 : reward 9.0\r",
      "ep 1132 : reward 10.0\r",
      "ep 1133 : reward 9.0\r",
      "ep 1134 : reward 10.0\r",
      "ep 1135 : reward 11.0\r"
     ]
    },
    {
     "name": "stdout",
     "output_type": "stream",
     "text": [
      "ep 1136 : reward 42.0\r",
      "ep 1137 : reward 12.0\r",
      "ep 1138 : reward 9.0\r",
      "ep 1139 : reward 9.0\r",
      "ep 1140 : reward 10.0\r",
      "ep 1141 : reward 12.0\r",
      "ep 1142 : reward 9.0\r",
      "ep 1143 : reward 11.0\r"
     ]
    },
    {
     "name": "stdout",
     "output_type": "stream",
     "text": [
      "ep 1144 : reward 10.0\r",
      "ep 1145 : reward 9.0\r",
      "ep 1146 : reward 10.0\r",
      "ep 1147 : reward 9.0\r",
      "ep 1148 : reward 10.0\r",
      "ep 1149 : reward 9.0\r",
      "ep 1150 : reward 10.0\r",
      "ep 1151 : reward 8.0\r",
      "ep 1152 : reward 9.0\r",
      "ep 1153 : reward 8.0\r"
     ]
    },
    {
     "name": "stdout",
     "output_type": "stream",
     "text": [
      "ep 1154 : reward 11.0\r",
      "ep 1155 : reward 9.0\r",
      "ep 1156 : reward 9.0\r",
      "ep 1157 : reward 11.0\r",
      "ep 1158 : reward 32.0\r",
      "ep 1159 : reward 10.0\r",
      "ep 1160 : reward 10.0\r"
     ]
    },
    {
     "name": "stdout",
     "output_type": "stream",
     "text": [
      "ep 1161 : reward 9.0\r",
      "ep 1162 : reward 9.0\r",
      "ep 1163 : reward 9.0\r",
      "ep 1164 : reward 10.0\r",
      "ep 1165 : reward 16.0\r"
     ]
    },
    {
     "name": "stdout",
     "output_type": "stream",
     "text": [
      "ep 1166 : reward 82.0\r"
     ]
    },
    {
     "name": "stdout",
     "output_type": "stream",
     "text": [
      "ep 1167 : reward 138.0\r",
      "ep 1168 : reward 9.0\r"
     ]
    },
    {
     "name": "stdout",
     "output_type": "stream",
     "text": [
      "ep 1169 : reward 178.0\r",
      "ep 1170 : reward 75.0\r"
     ]
    },
    {
     "name": "stdout",
     "output_type": "stream",
     "text": [
      "ep 1171 : reward 10.0\r",
      "ep 1172 : reward 12.0\r",
      "ep 1173 : reward 9.0\r",
      "ep 1174 : reward 40.0\r"
     ]
    },
    {
     "name": "stdout",
     "output_type": "stream",
     "text": [
      "ep 1175 : reward 173.0\r"
     ]
    },
    {
     "name": "stdout",
     "output_type": "stream",
     "text": [
      "ep 1176 : reward 174.0\r",
      "ep 1177 : reward 11.0\r",
      "ep 1178 : reward 11.0\r",
      "ep 1179 : reward 11.0\r",
      "ep 1180 : reward 10.0\r",
      "ep 1181 : reward 11.0\r"
     ]
    },
    {
     "name": "stdout",
     "output_type": "stream",
     "text": [
      "ep 1182 : reward 166.0\r",
      "ep 1183 : reward 14.0\r",
      "ep 1184 : reward 14.0\r",
      "ep 1185 : reward 11.0\r",
      "ep 1186 : reward 9.0\r",
      "ep 1187 : reward 8.0\r",
      "ep 1188 : reward 16.0\r",
      "ep 1189 : reward 10.0\r"
     ]
    },
    {
     "name": "stdout",
     "output_type": "stream",
     "text": [
      "ep 1190 : reward 12.0\r",
      "ep 1191 : reward 8.0\r",
      "ep 1192 : reward 12.0\r",
      "ep 1193 : reward 13.0\r",
      "ep 1194 : reward 12.0\r",
      "ep 1195 : reward 9.0\r",
      "ep 1196 : reward 13.0\r",
      "ep 1197 : reward 15.0\r"
     ]
    },
    {
     "name": "stdout",
     "output_type": "stream",
     "text": [
      "ep 1198 : reward 10.0\r",
      "ep 1199 : reward 9.0\r",
      "ep 1200 : reward 10.0\r",
      "ep 1201 : reward 11.0\r",
      "ep 1202 : reward 11.0\r",
      "ep 1203 : reward 8.0\r"
     ]
    },
    {
     "name": "stdout",
     "output_type": "stream",
     "text": [
      "ep 1204 : reward 157.0\r",
      "ep 1205 : reward 13.0\r",
      "ep 1206 : reward 9.0\r"
     ]
    },
    {
     "name": "stdout",
     "output_type": "stream",
     "text": [
      "ep 1207 : reward 174.0\r",
      "ep 1208 : reward 12.0\r",
      "ep 1209 : reward 9.0\r",
      "ep 1210 : reward 9.0\r",
      "ep 1211 : reward 11.0\r",
      "ep 1212 : reward 11.0\r",
      "ep 1213 : reward 10.0\r",
      "ep 1214 : reward 12.0\r"
     ]
    },
    {
     "name": "stdout",
     "output_type": "stream",
     "text": [
      "ep 1215 : reward 11.0\r",
      "ep 1216 : reward 9.0\r",
      "ep 1217 : reward 11.0\r",
      "ep 1218 : reward 10.0\r",
      "ep 1219 : reward 9.0\r",
      "ep 1220 : reward 9.0\r",
      "ep 1221 : reward 8.0\r",
      "ep 1222 : reward 9.0\r",
      "ep 1223 : reward 8.0\r"
     ]
    },
    {
     "name": "stdout",
     "output_type": "stream",
     "text": [
      "ep 1224 : reward 8.0\r",
      "ep 1225 : reward 10.0\r",
      "ep 1226 : reward 9.0\r",
      "ep 1227 : reward 11.0\r",
      "ep 1228 : reward 9.0\r",
      "ep 1229 : reward 10.0\r"
     ]
    },
    {
     "name": "stdout",
     "output_type": "stream",
     "text": [
      "ep 1230 : reward 186.0\r",
      "ep 1231 : reward 28.0\r",
      "ep 1232 : reward 10.0\r",
      "ep 1233 : reward 30.0\r"
     ]
    },
    {
     "name": "stdout",
     "output_type": "stream",
     "text": [
      "ep 1234 : reward 27.0\r",
      "ep 1235 : reward 8.0\r",
      "ep 1236 : reward 10.0\r",
      "ep 1237 : reward 8.0\r",
      "ep 1238 : reward 9.0\r",
      "ep 1239 : reward 9.0\r",
      "ep 1240 : reward 8.0\r",
      "ep 1241 : reward 11.0\r",
      "ep 1242 : reward 9.0\r",
      "ep 1243 : reward 10.0\r"
     ]
    },
    {
     "name": "stdout",
     "output_type": "stream",
     "text": [
      "ep 1244 : reward 9.0\r"
     ]
    },
    {
     "name": "stdout",
     "output_type": "stream",
     "text": [
      "ep 1245 : reward 128.0\r",
      "ep 1246 : reward 11.0\r",
      "ep 1247 : reward 8.0\r",
      "ep 1248 : reward 11.0\r",
      "ep 1249 : reward 9.0\r",
      "ep 1250 : reward 9.0\r",
      "ep 1251 : reward 8.0\r",
      "ep 1252 : reward 9.0\r",
      "ep 1253 : reward 9.0\r"
     ]
    },
    {
     "name": "stdout",
     "output_type": "stream",
     "text": [
      "ep 1254 : reward 9.0\r",
      "ep 1255 : reward 10.0\r",
      "ep 1256 : reward 10.0\r",
      "ep 1257 : reward 10.0\r",
      "ep 1258 : reward 9.0\r",
      "ep 1259 : reward 9.0\r",
      "ep 1260 : reward 9.0\r",
      "ep 1261 : reward 11.0\r"
     ]
    },
    {
     "name": "stdout",
     "output_type": "stream",
     "text": [
      "ep 1262 : reward 70.0\r",
      "ep 1263 : reward 10.0\r",
      "ep 1264 : reward 10.0\r",
      "ep 1265 : reward 9.0\r",
      "ep 1266 : reward 11.0\r",
      "ep 1267 : reward 12.0\r",
      "ep 1268 : reward 10.0\r",
      "ep 1269 : reward 9.0\r"
     ]
    },
    {
     "name": "stdout",
     "output_type": "stream",
     "text": [
      "ep 1270 : reward 9.0\r",
      "ep 1271 : reward 9.0\r",
      "ep 1272 : reward 10.0\r",
      "ep 1273 : reward 8.0\r",
      "ep 1274 : reward 10.0\r",
      "ep 1275 : reward 8.0\r",
      "ep 1276 : reward 10.0\r"
     ]
    },
    {
     "name": "stdout",
     "output_type": "stream",
     "text": [
      "ep 1277 : reward 68.0\r"
     ]
    },
    {
     "name": "stdout",
     "output_type": "stream",
     "text": [
      "ep 1278 : reward 95.0\r",
      "ep 1279 : reward 63.0\r",
      "ep 1280 : reward 13.0\r"
     ]
    },
    {
     "name": "stdout",
     "output_type": "stream",
     "text": [
      "ep 1281 : reward 9.0\r",
      "ep 1282 : reward 9.0\r",
      "ep 1283 : reward 11.0\r",
      "ep 1284 : reward 8.0\r",
      "ep 1285 : reward 11.0\r",
      "ep 1286 : reward 12.0\r",
      "ep 1287 : reward 9.0\r"
     ]
    },
    {
     "name": "stdout",
     "output_type": "stream",
     "text": [
      "ep 1288 : reward 25.0\r",
      "ep 1289 : reward 26.0\r",
      "ep 1290 : reward 56.0\r"
     ]
    },
    {
     "name": "stdout",
     "output_type": "stream",
     "text": [
      "ep 1291 : reward 11.0\r",
      "ep 1292 : reward 9.0\r",
      "ep 1293 : reward 10.0\r",
      "ep 1294 : reward 11.0\r",
      "ep 1295 : reward 8.0\r",
      "ep 1296 : reward 10.0\r",
      "ep 1297 : reward 9.0\r",
      "ep 1298 : reward 11.0\r",
      "ep 1299 : reward 9.0\r"
     ]
    },
    {
     "name": "stdout",
     "output_type": "stream",
     "text": [
      "ep 1300 : reward 9.0\r",
      "ep 1301 : reward 10.0\r",
      "ep 1302 : reward 9.0\r",
      "ep 1303 : reward 9.0\r",
      "ep 1304 : reward 10.0\r",
      "ep 1305 : reward 36.0\r"
     ]
    },
    {
     "name": "stdout",
     "output_type": "stream",
     "text": [
      "ep 1306 : reward 10.0\r",
      "ep 1307 : reward 9.0\r",
      "ep 1308 : reward 9.0\r",
      "ep 1309 : reward 10.0\r",
      "ep 1310 : reward 9.0\r",
      "ep 1311 : reward 9.0\r",
      "ep 1312 : reward 10.0\r",
      "ep 1313 : reward 11.0\r",
      "ep 1314 : reward 11.0\r"
     ]
    },
    {
     "name": "stdout",
     "output_type": "stream",
     "text": [
      "ep 1315 : reward 27.0\r",
      "ep 1316 : reward 27.0\r",
      "ep 1317 : reward 9.0\r",
      "ep 1318 : reward 10.0\r",
      "ep 1319 : reward 9.0\r",
      "ep 1320 : reward 10.0\r"
     ]
    },
    {
     "name": "stdout",
     "output_type": "stream",
     "text": [
      "ep 1321 : reward 26.0\r",
      "ep 1322 : reward 10.0\r"
     ]
    },
    {
     "name": "stdout",
     "output_type": "stream",
     "text": [
      "ep 1323 : reward 220.0\r",
      "ep 1324 : reward 8.0\r",
      "ep 1325 : reward 10.0\r",
      "ep 1326 : reward 9.0\r",
      "ep 1327 : reward 9.0\r",
      "ep 1328 : reward 9.0\r"
     ]
    },
    {
     "name": "stdout",
     "output_type": "stream",
     "text": [
      "ep 1329 : reward 165.0\r",
      "ep 1330 : reward 9.0\r",
      "ep 1331 : reward 11.0\r",
      "ep 1332 : reward 9.0\r",
      "ep 1333 : reward 9.0\r",
      "ep 1334 : reward 30.0\r"
     ]
    },
    {
     "name": "stdout",
     "output_type": "stream",
     "text": [
      "ep 1335 : reward 31.0\r",
      "ep 1336 : reward 54.0\r",
      "ep 1337 : reward 10.0\r"
     ]
    },
    {
     "name": "stdout",
     "output_type": "stream",
     "text": [
      "ep 1338 : reward 25.0\r",
      "ep 1339 : reward 10.0\r",
      "ep 1340 : reward 10.0\r",
      "ep 1341 : reward 8.0\r",
      "ep 1342 : reward 10.0\r",
      "ep 1343 : reward 24.0\r"
     ]
    },
    {
     "name": "stdout",
     "output_type": "stream",
     "text": [
      "ep 1344 : reward 273.0\r",
      "ep 1345 : reward 25.0\r",
      "ep 1346 : reward 27.0\r"
     ]
    },
    {
     "name": "stdout",
     "output_type": "stream",
     "text": [
      "ep 1347 : reward 114.0\r",
      "ep 1348 : reward 8.0\r",
      "ep 1349 : reward 10.0\r",
      "ep 1350 : reward 10.0\r",
      "ep 1351 : reward 9.0\r",
      "ep 1352 : reward 9.0\r",
      "ep 1353 : reward 8.0\r"
     ]
    },
    {
     "name": "stdout",
     "output_type": "stream",
     "text": [
      "ep 1354 : reward 62.0\r",
      "ep 1355 : reward 10.0\r",
      "ep 1356 : reward 10.0\r",
      "ep 1357 : reward 10.0\r",
      "ep 1358 : reward 10.0\r",
      "ep 1359 : reward 10.0\r",
      "ep 1360 : reward 9.0\r",
      "ep 1361 : reward 9.0\r",
      "ep 1362 : reward 10.0\r"
     ]
    },
    {
     "name": "stdout",
     "output_type": "stream",
     "text": [
      "ep 1363 : reward 11.0\r",
      "ep 1364 : reward 10.0\r",
      "ep 1365 : reward 10.0\r",
      "ep 1366 : reward 10.0\r",
      "ep 1367 : reward 12.0\r",
      "ep 1368 : reward 9.0\r",
      "ep 1369 : reward 11.0\r",
      "ep 1370 : reward 11.0\r"
     ]
    },
    {
     "name": "stdout",
     "output_type": "stream",
     "text": [
      "ep 1371 : reward 12.0\r",
      "ep 1372 : reward 43.0\r",
      "ep 1373 : reward 9.0\r",
      "ep 1374 : reward 9.0\r",
      "ep 1375 : reward 10.0\r",
      "ep 1376 : reward 10.0\r"
     ]
    },
    {
     "name": "stdout",
     "output_type": "stream",
     "text": [
      "ep 1377 : reward 10.0\r",
      "ep 1378 : reward 9.0\r",
      "ep 1379 : reward 10.0\r",
      "ep 1380 : reward 10.0\r",
      "ep 1381 : reward 27.0\r"
     ]
    },
    {
     "name": "stdout",
     "output_type": "stream",
     "text": [
      "ep 1382 : reward 84.0\r",
      "ep 1383 : reward 10.0\r",
      "ep 1384 : reward 9.0\r",
      "ep 1385 : reward 10.0\r",
      "ep 1386 : reward 10.0\r"
     ]
    },
    {
     "name": "stdout",
     "output_type": "stream",
     "text": [
      "ep 1387 : reward 260.0\r",
      "ep 1388 : reward 12.0\r",
      "ep 1389 : reward 9.0\r",
      "ep 1390 : reward 9.0\r",
      "ep 1391 : reward 11.0\r",
      "ep 1392 : reward 9.0\r",
      "ep 1393 : reward 10.0\r",
      "ep 1394 : reward 9.0\r"
     ]
    },
    {
     "name": "stdout",
     "output_type": "stream",
     "text": [
      "ep 1395 : reward 9.0\r",
      "ep 1396 : reward 10.0\r",
      "ep 1397 : reward 10.0\r",
      "ep 1398 : reward 10.0\r",
      "ep 1399 : reward 10.0\r",
      "ep 1400 : reward 8.0\r",
      "ep 1401 : reward 9.0\r"
     ]
    },
    {
     "name": "stdout",
     "output_type": "stream",
     "text": [
      "ep 1402 : reward 23.0\r",
      "ep 1403 : reward 10.0\r",
      "ep 1404 : reward 10.0\r",
      "ep 1405 : reward 9.0\r",
      "ep 1406 : reward 9.0\r",
      "ep 1407 : reward 9.0\r",
      "ep 1408 : reward 9.0\r",
      "ep 1409 : reward 9.0\r",
      "ep 1410 : reward 10.0\r"
     ]
    },
    {
     "name": "stdout",
     "output_type": "stream",
     "text": [
      "ep 1411 : reward 9.0\r",
      "ep 1412 : reward 8.0\r",
      "ep 1413 : reward 25.0\r",
      "ep 1414 : reward 27.0\r",
      "ep 1415 : reward 10.0\r",
      "ep 1416 : reward 8.0\r"
     ]
    },
    {
     "name": "stdout",
     "output_type": "stream",
     "text": [
      "ep 1417 : reward 8.0\r",
      "ep 1418 : reward 10.0\r",
      "ep 1419 : reward 10.0\r",
      "ep 1420 : reward 22.0\r",
      "ep 1421 : reward 19.0\r"
     ]
    },
    {
     "name": "stdout",
     "output_type": "stream",
     "text": [
      "ep 1422 : reward 26.0\r"
     ]
    },
    {
     "name": "stdout",
     "output_type": "stream",
     "text": [
      "ep 1423 : reward 188.0\r"
     ]
    },
    {
     "name": "stdout",
     "output_type": "stream",
     "text": [
      "ep 1424 : reward 245.0\r",
      "ep 1425 : reward 10.0\r",
      "ep 1426 : reward 9.0\r",
      "ep 1427 : reward 10.0\r",
      "ep 1428 : reward 11.0\r",
      "ep 1429 : reward 8.0\r",
      "ep 1430 : reward 9.0\r",
      "ep 1431 : reward 10.0\r"
     ]
    },
    {
     "name": "stdout",
     "output_type": "stream",
     "text": [
      "ep 1432 : reward 267.0\r",
      "ep 1433 : reward 69.0\r",
      "ep 1434 : reward 10.0\r"
     ]
    },
    {
     "name": "stdout",
     "output_type": "stream",
     "text": [
      "ep 1435 : reward 10.0\r",
      "ep 1436 : reward 9.0\r",
      "ep 1437 : reward 25.0\r",
      "ep 1438 : reward 11.0\r",
      "ep 1439 : reward 10.0\r",
      "ep 1440 : reward 10.0\r"
     ]
    },
    {
     "name": "stdout",
     "output_type": "stream",
     "text": [
      "ep 1441 : reward 10.0\r",
      "ep 1442 : reward 9.0\r",
      "ep 1443 : reward 11.0\r",
      "ep 1444 : reward 10.0\r",
      "ep 1445 : reward 11.0\r",
      "ep 1446 : reward 9.0\r",
      "ep 1447 : reward 9.0\r"
     ]
    },
    {
     "name": "stdout",
     "output_type": "stream",
     "text": [
      "ep 1448 : reward 34.0\r",
      "ep 1449 : reward 11.0\r",
      "ep 1450 : reward 9.0\r",
      "ep 1451 : reward 9.0\r",
      "ep 1452 : reward 12.0\r",
      "ep 1453 : reward 10.0\r",
      "ep 1454 : reward 10.0\r",
      "ep 1455 : reward 10.0\r"
     ]
    },
    {
     "name": "stdout",
     "output_type": "stream",
     "text": [
      "ep 1456 : reward 28.0\r",
      "ep 1457 : reward 10.0\r",
      "ep 1458 : reward 11.0\r",
      "ep 1459 : reward 11.0\r",
      "ep 1460 : reward 11.0\r",
      "ep 1461 : reward 27.0\r"
     ]
    },
    {
     "name": "stdout",
     "output_type": "stream",
     "text": [
      "ep 1462 : reward 21.0\r",
      "ep 1463 : reward 11.0\r",
      "ep 1464 : reward 10.0\r",
      "ep 1465 : reward 11.0\r",
      "ep 1466 : reward 10.0\r",
      "ep 1467 : reward 25.0\r",
      "ep 1468 : reward 11.0\r"
     ]
    },
    {
     "name": "stdout",
     "output_type": "stream",
     "text": [
      "ep 1469 : reward 10.0\r",
      "ep 1470 : reward 10.0\r",
      "ep 1471 : reward 10.0\r",
      "ep 1472 : reward 9.0\r",
      "ep 1473 : reward 10.0\r",
      "ep 1474 : reward 10.0\r",
      "ep 1475 : reward 18.0\r",
      "ep 1476 : reward 11.0\r"
     ]
    },
    {
     "name": "stdout",
     "output_type": "stream",
     "text": [
      "ep 1477 : reward 9.0\r",
      "ep 1478 : reward 22.0\r",
      "ep 1479 : reward 26.0\r",
      "ep 1480 : reward 10.0\r",
      "ep 1481 : reward 8.0\r",
      "ep 1482 : reward 10.0\r"
     ]
    },
    {
     "name": "stdout",
     "output_type": "stream",
     "text": [
      "ep 1483 : reward 10.0\r",
      "ep 1484 : reward 9.0\r",
      "ep 1485 : reward 9.0\r",
      "ep 1486 : reward 9.0\r",
      "ep 1487 : reward 10.0\r",
      "ep 1488 : reward 8.0\r",
      "ep 1489 : reward 9.0\r",
      "ep 1490 : reward 10.0\r",
      "ep 1491 : reward 10.0\r"
     ]
    },
    {
     "name": "stdout",
     "output_type": "stream",
     "text": [
      "ep 1492 : reward 11.0\r",
      "ep 1493 : reward 8.0\r",
      "ep 1494 : reward 14.0\r",
      "ep 1495 : reward 10.0\r",
      "ep 1496 : reward 10.0\r",
      "ep 1497 : reward 10.0\r",
      "ep 1498 : reward 10.0\r",
      "ep 1499 : reward 9.0\r",
      "ep 1500 : reward 9.0\r"
     ]
    },
    {
     "name": "stdout",
     "output_type": "stream",
     "text": [
      "ep 1501 : reward 23.0\r",
      "ep 1502 : reward 10.0\r",
      "ep 1503 : reward 12.0\r",
      "ep 1504 : reward 10.0\r",
      "ep 1505 : reward 9.0\r",
      "ep 1506 : reward 9.0\r",
      "ep 1507 : reward 9.0\r",
      "ep 1508 : reward 12.0\r"
     ]
    },
    {
     "name": "stdout",
     "output_type": "stream",
     "text": [
      "ep 1509 : reward 9.0\r",
      "ep 1510 : reward 10.0\r",
      "ep 1511 : reward 10.0\r",
      "ep 1512 : reward 47.0\r",
      "ep 1513 : reward 9.0\r"
     ]
    },
    {
     "name": "stdout",
     "output_type": "stream",
     "text": [
      "ep 1514 : reward 9.0\r",
      "ep 1515 : reward 10.0\r",
      "ep 1516 : reward 10.0\r",
      "ep 1517 : reward 9.0\r",
      "ep 1518 : reward 8.0\r",
      "ep 1519 : reward 10.0\r",
      "ep 1520 : reward 10.0\r",
      "ep 1521 : reward 17.0\r"
     ]
    },
    {
     "name": "stdout",
     "output_type": "stream",
     "text": [
      "ep 1522 : reward 9.0\r",
      "ep 1523 : reward 11.0\r",
      "ep 1524 : reward 9.0\r",
      "ep 1525 : reward 19.0\r",
      "ep 1526 : reward 9.0\r",
      "ep 1527 : reward 11.0\r"
     ]
    },
    {
     "name": "stdout",
     "output_type": "stream",
     "text": [
      "ep 1528 : reward 49.0\r",
      "ep 1529 : reward 9.0\r",
      "ep 1530 : reward 11.0\r",
      "ep 1531 : reward 10.0\r",
      "ep 1532 : reward 10.0\r",
      "ep 1533 : reward 10.0\r",
      "ep 1534 : reward 10.0\r",
      "ep 1535 : reward 12.0\r"
     ]
    },
    {
     "name": "stdout",
     "output_type": "stream",
     "text": [
      "ep 1536 : reward 10.0\r",
      "ep 1537 : reward 15.0\r",
      "ep 1538 : reward 9.0\r",
      "ep 1539 : reward 9.0\r",
      "ep 1540 : reward 10.0\r",
      "ep 1541 : reward 9.0\r",
      "ep 1542 : reward 10.0\r",
      "ep 1543 : reward 13.0\r",
      "ep 1544 : reward 9.0\r",
      "ep 1545 : reward 9.0\r"
     ]
    },
    {
     "name": "stdout",
     "output_type": "stream",
     "text": [
      "ep 1546 : reward 9.0\r",
      "ep 1547 : reward 9.0\r",
      "ep 1548 : reward 10.0\r",
      "ep 1549 : reward 10.0\r",
      "ep 1550 : reward 9.0\r",
      "ep 1551 : reward 10.0\r",
      "ep 1552 : reward 9.0\r",
      "ep 1553 : reward 9.0\r",
      "ep 1554 : reward 11.0\r"
     ]
    },
    {
     "name": "stdout",
     "output_type": "stream",
     "text": [
      "ep 1555 : reward 9.0\r",
      "ep 1556 : reward 30.0\r",
      "ep 1557 : reward 27.0\r",
      "ep 1558 : reward 9.0\r",
      "ep 1559 : reward 10.0\r"
     ]
    },
    {
     "name": "stdout",
     "output_type": "stream",
     "text": [
      "ep 1560 : reward 9.0\r",
      "ep 1561 : reward 10.0\r",
      "ep 1562 : reward 9.0\r",
      "ep 1563 : reward 20.0\r",
      "ep 1564 : reward 26.0\r",
      "ep 1565 : reward 9.0\r"
     ]
    },
    {
     "name": "stdout",
     "output_type": "stream",
     "text": [
      "ep 1566 : reward 11.0\r",
      "ep 1567 : reward 25.0\r",
      "ep 1568 : reward 10.0\r",
      "ep 1569 : reward 12.0\r",
      "ep 1570 : reward 8.0\r",
      "ep 1571 : reward 8.0\r",
      "ep 1572 : reward 11.0\r"
     ]
    },
    {
     "name": "stdout",
     "output_type": "stream",
     "text": [
      "ep 1573 : reward 10.0\r",
      "ep 1574 : reward 11.0\r",
      "ep 1575 : reward 9.0\r",
      "ep 1576 : reward 10.0\r",
      "ep 1577 : reward 11.0\r",
      "ep 1578 : reward 9.0\r",
      "ep 1579 : reward 17.0\r",
      "ep 1580 : reward 10.0\r"
     ]
    },
    {
     "name": "stdout",
     "output_type": "stream",
     "text": [
      "ep 1581 : reward 9.0\r",
      "ep 1582 : reward 10.0\r",
      "ep 1583 : reward 12.0\r",
      "ep 1584 : reward 11.0\r",
      "ep 1585 : reward 21.0\r",
      "ep 1586 : reward 22.0\r"
     ]
    },
    {
     "name": "stdout",
     "output_type": "stream",
     "text": [
      "ep 1587 : reward 28.0\r",
      "ep 1588 : reward 24.0\r",
      "ep 1589 : reward 21.0\r",
      "ep 1590 : reward 24.0\r"
     ]
    },
    {
     "name": "stdout",
     "output_type": "stream",
     "text": [
      "ep 1591 : reward 20.0\r",
      "ep 1592 : reward 24.0\r",
      "ep 1593 : reward 25.0\r"
     ]
    },
    {
     "name": "stdout",
     "output_type": "stream",
     "text": [
      "ep 1594 : reward 58.0\r",
      "ep 1595 : reward 19.0\r",
      "ep 1596 : reward 10.0\r",
      "ep 1597 : reward 32.0\r",
      "ep 1598 : reward 11.0\r"
     ]
    },
    {
     "name": "stdout",
     "output_type": "stream",
     "text": [
      "ep 1599 : reward 12.0\r",
      "ep 1600 : reward 9.0\r",
      "ep 1601 : reward 9.0\r",
      "ep 1602 : reward 10.0\r",
      "ep 1603 : reward 14.0\r",
      "ep 1604 : reward 22.0\r",
      "ep 1605 : reward 11.0\r"
     ]
    },
    {
     "name": "stdout",
     "output_type": "stream",
     "text": [
      "ep 1606 : reward 10.0\r",
      "ep 1607 : reward 9.0\r",
      "ep 1608 : reward 30.0\r",
      "ep 1609 : reward 11.0\r"
     ]
    },
    {
     "name": "stdout",
     "output_type": "stream",
     "text": [
      "ep 1610 : reward 66.0\r",
      "ep 1611 : reward 10.0\r",
      "ep 1612 : reward 55.0\r",
      "ep 1613 : reward 10.0\r"
     ]
    },
    {
     "name": "stdout",
     "output_type": "stream",
     "text": [
      "ep 1614 : reward 11.0\r",
      "ep 1615 : reward 53.0\r",
      "ep 1616 : reward 29.0\r"
     ]
    },
    {
     "name": "stdout",
     "output_type": "stream",
     "text": [
      "ep 1617 : reward 8.0\r",
      "ep 1618 : reward 10.0\r",
      "ep 1619 : reward 18.0\r",
      "ep 1620 : reward 22.0\r",
      "ep 1621 : reward 9.0\r",
      "ep 1622 : reward 10.0\r",
      "ep 1623 : reward 9.0\r"
     ]
    },
    {
     "name": "stdout",
     "output_type": "stream",
     "text": [
      "ep 1624 : reward 9.0\r",
      "ep 1625 : reward 9.0\r",
      "ep 1626 : reward 10.0\r",
      "ep 1627 : reward 10.0\r",
      "ep 1628 : reward 11.0\r",
      "ep 1629 : reward 10.0\r",
      "ep 1630 : reward 10.0\r",
      "ep 1631 : reward 12.0\r"
     ]
    },
    {
     "name": "stdout",
     "output_type": "stream",
     "text": [
      "ep 1632 : reward 25.0\r",
      "ep 1633 : reward 8.0\r",
      "ep 1634 : reward 10.0\r",
      "ep 1635 : reward 10.0\r",
      "ep 1636 : reward 9.0\r",
      "ep 1637 : reward 9.0\r",
      "ep 1638 : reward 9.0\r",
      "ep 1639 : reward 9.0\r",
      "ep 1640 : reward 12.0\r"
     ]
    },
    {
     "name": "stdout",
     "output_type": "stream",
     "text": [
      "ep 1641 : reward 28.0\r",
      "ep 1642 : reward 18.0\r",
      "ep 1643 : reward 12.0\r",
      "ep 1644 : reward 10.0\r",
      "ep 1645 : reward 9.0\r",
      "ep 1646 : reward 11.0\r",
      "ep 1647 : reward 23.0\r"
     ]
    },
    {
     "name": "stdout",
     "output_type": "stream",
     "text": [
      "ep 1648 : reward 26.0\r",
      "ep 1649 : reward 10.0\r",
      "ep 1650 : reward 25.0\r",
      "ep 1651 : reward 12.0\r",
      "ep 1652 : reward 10.0\r",
      "ep 1653 : reward 11.0\r",
      "ep 1654 : reward 8.0\r"
     ]
    },
    {
     "name": "stdout",
     "output_type": "stream",
     "text": [
      "ep 1655 : reward 8.0\r",
      "ep 1656 : reward 9.0\r",
      "ep 1657 : reward 24.0\r",
      "ep 1658 : reward 10.0\r",
      "ep 1659 : reward 21.0\r",
      "ep 1660 : reward 10.0\r",
      "ep 1661 : reward 9.0\r"
     ]
    },
    {
     "name": "stdout",
     "output_type": "stream",
     "text": [
      "ep 1662 : reward 13.0\r",
      "ep 1663 : reward 9.0\r",
      "ep 1664 : reward 9.0\r",
      "ep 1665 : reward 8.0\r",
      "ep 1666 : reward 10.0\r",
      "ep 1667 : reward 11.0\r",
      "ep 1668 : reward 10.0\r",
      "ep 1669 : reward 11.0\r",
      "ep 1670 : reward 8.0\r"
     ]
    },
    {
     "name": "stdout",
     "output_type": "stream",
     "text": [
      "ep 1671 : reward 9.0\r",
      "ep 1672 : reward 8.0\r",
      "ep 1673 : reward 9.0\r",
      "ep 1674 : reward 10.0\r",
      "ep 1675 : reward 10.0\r",
      "ep 1676 : reward 10.0\r",
      "ep 1677 : reward 9.0\r",
      "ep 1678 : reward 11.0\r",
      "ep 1679 : reward 9.0\r"
     ]
    },
    {
     "name": "stdout",
     "output_type": "stream",
     "text": [
      "ep 1680 : reward 9.0\r",
      "ep 1681 : reward 9.0\r",
      "ep 1682 : reward 13.0\r",
      "ep 1683 : reward 10.0\r",
      "ep 1684 : reward 10.0\r",
      "ep 1685 : reward 13.0\r",
      "ep 1686 : reward 8.0\r",
      "ep 1687 : reward 9.0\r",
      "ep 1688 : reward 9.0\r"
     ]
    },
    {
     "name": "stdout",
     "output_type": "stream",
     "text": [
      "ep 1689 : reward 8.0\r",
      "ep 1690 : reward 9.0\r",
      "ep 1691 : reward 9.0\r",
      "ep 1692 : reward 12.0\r",
      "ep 1693 : reward 9.0\r",
      "ep 1694 : reward 10.0\r",
      "ep 1695 : reward 10.0\r",
      "ep 1696 : reward 9.0\r",
      "ep 1697 : reward 10.0\r"
     ]
    },
    {
     "name": "stdout",
     "output_type": "stream",
     "text": [
      "ep 1698 : reward 24.0\r",
      "ep 1699 : reward 9.0\r",
      "ep 1700 : reward 10.0\r",
      "ep 1701 : reward 10.0\r",
      "ep 1702 : reward 10.0\r",
      "ep 1703 : reward 10.0\r",
      "ep 1704 : reward 23.0\r",
      "ep 1705 : reward 9.0\r"
     ]
    },
    {
     "name": "stdout",
     "output_type": "stream",
     "text": [
      "ep 1706 : reward 10.0\r",
      "ep 1707 : reward 13.0\r",
      "ep 1708 : reward 11.0\r",
      "ep 1709 : reward 34.0\r",
      "ep 1710 : reward 11.0\r",
      "ep 1711 : reward 10.0\r"
     ]
    },
    {
     "name": "stdout",
     "output_type": "stream",
     "text": [
      "ep 1712 : reward 23.0\r",
      "ep 1713 : reward 32.0\r",
      "ep 1714 : reward 21.0\r"
     ]
    },
    {
     "name": "stdout",
     "output_type": "stream",
     "text": [
      "ep 1715 : reward 35.0\r",
      "ep 1716 : reward 10.0\r",
      "ep 1717 : reward 26.0\r",
      "ep 1718 : reward 10.0\r",
      "ep 1719 : reward 17.0\r"
     ]
    },
    {
     "name": "stdout",
     "output_type": "stream",
     "text": [
      "ep 1720 : reward 27.0\r",
      "ep 1721 : reward 15.0\r",
      "ep 1722 : reward 10.0\r",
      "ep 1723 : reward 9.0\r",
      "ep 1724 : reward 27.0\r"
     ]
    },
    {
     "name": "stdout",
     "output_type": "stream",
     "text": [
      "ep 1725 : reward 23.0\r",
      "ep 1726 : reward 14.0\r",
      "ep 1727 : reward 11.0\r",
      "ep 1728 : reward 12.0\r",
      "ep 1729 : reward 22.0\r",
      "ep 1730 : reward 22.0\r"
     ]
    },
    {
     "name": "stdout",
     "output_type": "stream",
     "text": [
      "ep 1731 : reward 28.0\r",
      "ep 1732 : reward 27.0\r",
      "ep 1733 : reward 10.0\r",
      "ep 1734 : reward 11.0\r",
      "ep 1735 : reward 11.0\r"
     ]
    },
    {
     "name": "stdout",
     "output_type": "stream",
     "text": [
      "ep 1736 : reward 39.0\r",
      "ep 1737 : reward 12.0\r",
      "ep 1738 : reward 18.0\r",
      "ep 1739 : reward 11.0\r",
      "ep 1740 : reward 26.0\r"
     ]
    },
    {
     "name": "stdout",
     "output_type": "stream",
     "text": [
      "ep 1741 : reward 11.0\r",
      "ep 1742 : reward 9.0\r",
      "ep 1743 : reward 10.0\r",
      "ep 1744 : reward 10.0\r",
      "ep 1745 : reward 11.0\r",
      "ep 1746 : reward 9.0\r",
      "ep 1747 : reward 10.0\r",
      "ep 1748 : reward 10.0\r"
     ]
    },
    {
     "name": "stdout",
     "output_type": "stream",
     "text": [
      "ep 1749 : reward 26.0\r",
      "ep 1750 : reward 9.0\r",
      "ep 1751 : reward 8.0\r",
      "ep 1752 : reward 9.0\r",
      "ep 1753 : reward 10.0\r",
      "ep 1754 : reward 9.0\r",
      "ep 1755 : reward 11.0\r",
      "ep 1756 : reward 11.0\r",
      "ep 1757 : reward 11.0\r"
     ]
    },
    {
     "name": "stdout",
     "output_type": "stream",
     "text": [
      "ep 1758 : reward 22.0\r",
      "ep 1759 : reward 10.0\r",
      "ep 1760 : reward 10.0\r",
      "ep 1761 : reward 9.0\r",
      "ep 1762 : reward 10.0\r",
      "ep 1763 : reward 9.0\r",
      "ep 1764 : reward 10.0\r",
      "ep 1765 : reward 10.0\r",
      "ep 1766 : reward 8.0\r"
     ]
    },
    {
     "name": "stdout",
     "output_type": "stream",
     "text": [
      "ep 1767 : reward 11.0\r",
      "ep 1768 : reward 8.0\r",
      "ep 1769 : reward 10.0\r",
      "ep 1770 : reward 11.0\r",
      "ep 1771 : reward 11.0\r",
      "ep 1772 : reward 9.0\r",
      "ep 1773 : reward 10.0\r",
      "ep 1774 : reward 10.0\r",
      "ep 1775 : reward 10.0\r"
     ]
    },
    {
     "name": "stdout",
     "output_type": "stream",
     "text": [
      "ep 1776 : reward 10.0\r",
      "ep 1777 : reward 10.0\r",
      "ep 1778 : reward 9.0\r",
      "ep 1779 : reward 13.0\r",
      "ep 1780 : reward 9.0\r",
      "ep 1781 : reward 9.0\r",
      "ep 1782 : reward 8.0\r",
      "ep 1783 : reward 10.0\r",
      "ep 1784 : reward 10.0\r"
     ]
    },
    {
     "name": "stdout",
     "output_type": "stream",
     "text": [
      "ep 1785 : reward 12.0\r",
      "ep 1786 : reward 24.0\r",
      "ep 1787 : reward 24.0\r",
      "ep 1788 : reward 25.0\r"
     ]
    },
    {
     "name": "stdout",
     "output_type": "stream",
     "text": [
      "ep 1789 : reward 11.0\r",
      "ep 1790 : reward 35.0\r",
      "ep 1791 : reward 26.0\r",
      "ep 1792 : reward 11.0\r"
     ]
    },
    {
     "name": "stdout",
     "output_type": "stream",
     "text": [
      "ep 1793 : reward 22.0\r",
      "ep 1794 : reward 9.0\r",
      "ep 1795 : reward 9.0\r",
      "ep 1796 : reward 24.0\r",
      "ep 1797 : reward 25.0\r"
     ]
    },
    {
     "name": "stdout",
     "output_type": "stream",
     "text": [
      "ep 1798 : reward 21.0\r"
     ]
    },
    {
     "name": "stdout",
     "output_type": "stream",
     "text": [
      "ep 1799 : reward 91.0\r",
      "ep 1800 : reward 10.0\r",
      "ep 1801 : reward 10.0\r",
      "ep 1802 : reward 10.0\r",
      "ep 1803 : reward 24.0\r",
      "ep 1804 : reward 15.0\r"
     ]
    },
    {
     "name": "stdout",
     "output_type": "stream",
     "text": [
      "ep 1805 : reward 10.0\r",
      "ep 1806 : reward 26.0\r",
      "ep 1807 : reward 12.0\r",
      "ep 1808 : reward 10.0\r",
      "ep 1809 : reward 10.0\r"
     ]
    },
    {
     "name": "stdout",
     "output_type": "stream",
     "text": [
      "ep 1810 : reward 26.0\r",
      "ep 1811 : reward 30.0\r",
      "ep 1812 : reward 10.0\r",
      "ep 1813 : reward 9.0\r",
      "ep 1814 : reward 24.0\r"
     ]
    },
    {
     "name": "stdout",
     "output_type": "stream",
     "text": [
      "ep 1815 : reward 50.0\r",
      "ep 1816 : reward 43.0\r",
      "ep 1817 : reward 42.0\r"
     ]
    },
    {
     "name": "stdout",
     "output_type": "stream",
     "text": [
      "ep 1818 : reward 23.0\r",
      "ep 1819 : reward 15.0\r",
      "ep 1820 : reward 34.0\r",
      "ep 1821 : reward 21.0\r"
     ]
    },
    {
     "name": "stdout",
     "output_type": "stream",
     "text": [
      "ep 1822 : reward 12.0\r",
      "ep 1823 : reward 10.0\r",
      "ep 1824 : reward 12.0\r",
      "ep 1825 : reward 10.0\r",
      "ep 1826 : reward 10.0\r",
      "ep 1827 : reward 9.0\r",
      "ep 1828 : reward 21.0\r"
     ]
    },
    {
     "name": "stdout",
     "output_type": "stream",
     "text": [
      "ep 1829 : reward 13.0\r",
      "ep 1830 : reward 9.0\r",
      "ep 1831 : reward 12.0\r",
      "ep 1832 : reward 9.0\r",
      "ep 1833 : reward 10.0\r",
      "ep 1834 : reward 10.0\r",
      "ep 1835 : reward 10.0\r",
      "ep 1836 : reward 10.0\r",
      "ep 1837 : reward 10.0\r"
     ]
    },
    {
     "name": "stdout",
     "output_type": "stream",
     "text": [
      "ep 1838 : reward 9.0\r",
      "ep 1839 : reward 8.0\r",
      "ep 1840 : reward 10.0\r",
      "ep 1841 : reward 11.0\r",
      "ep 1842 : reward 9.0\r",
      "ep 1843 : reward 9.0\r",
      "ep 1844 : reward 11.0\r",
      "ep 1845 : reward 10.0\r",
      "ep 1846 : reward 8.0\r"
     ]
    },
    {
     "name": "stdout",
     "output_type": "stream",
     "text": [
      "ep 1847 : reward 10.0\r",
      "ep 1848 : reward 9.0\r",
      "ep 1849 : reward 9.0\r",
      "ep 1850 : reward 9.0\r",
      "ep 1851 : reward 8.0\r",
      "ep 1852 : reward 9.0\r",
      "ep 1853 : reward 9.0\r",
      "ep 1854 : reward 9.0\r",
      "ep 1855 : reward 11.0\r"
     ]
    },
    {
     "name": "stdout",
     "output_type": "stream",
     "text": [
      "ep 1856 : reward 25.0\r",
      "ep 1857 : reward 10.0\r",
      "ep 1858 : reward 10.0\r",
      "ep 1859 : reward 11.0\r",
      "ep 1860 : reward 11.0\r",
      "ep 1861 : reward 9.0\r",
      "ep 1862 : reward 10.0\r",
      "ep 1863 : reward 9.0\r",
      "ep 1864 : reward 10.0\r"
     ]
    },
    {
     "name": "stdout",
     "output_type": "stream",
     "text": [
      "ep 1865 : reward 11.0\r",
      "ep 1866 : reward 23.0\r",
      "ep 1867 : reward 9.0\r",
      "ep 1868 : reward 9.0\r",
      "ep 1869 : reward 9.0\r",
      "ep 1870 : reward 10.0\r",
      "ep 1871 : reward 9.0\r",
      "ep 1872 : reward 9.0\r"
     ]
    },
    {
     "name": "stdout",
     "output_type": "stream",
     "text": [
      "ep 1873 : reward 9.0\r",
      "ep 1874 : reward 8.0\r",
      "ep 1875 : reward 10.0\r",
      "ep 1876 : reward 11.0\r",
      "ep 1877 : reward 8.0\r",
      "ep 1878 : reward 9.0\r",
      "ep 1879 : reward 9.0\r",
      "ep 1880 : reward 10.0\r",
      "ep 1881 : reward 11.0\r"
     ]
    },
    {
     "name": "stdout",
     "output_type": "stream",
     "text": [
      "ep 1882 : reward 26.0\r",
      "ep 1883 : reward 10.0\r",
      "ep 1884 : reward 13.0\r",
      "ep 1885 : reward 27.0\r",
      "ep 1886 : reward 25.0\r"
     ]
    },
    {
     "name": "stdout",
     "output_type": "stream",
     "text": [
      "ep 1887 : reward 46.0\r",
      "ep 1888 : reward 15.0\r",
      "ep 1889 : reward 10.0\r",
      "ep 1890 : reward 13.0\r",
      "ep 1891 : reward 19.0\r",
      "ep 1892 : reward 9.0\r",
      "ep 1893 : reward 9.0\r"
     ]
    },
    {
     "name": "stdout",
     "output_type": "stream",
     "text": [
      "ep 1894 : reward 9.0\r",
      "ep 1895 : reward 23.0\r",
      "ep 1896 : reward 11.0\r"
     ]
    },
    {
     "name": "stdout",
     "output_type": "stream",
     "text": [
      "ep 1897 : reward 61.0\r",
      "ep 1898 : reward 10.0\r",
      "ep 1899 : reward 9.0\r",
      "ep 1900 : reward 25.0\r",
      "ep 1901 : reward 9.0\r",
      "ep 1902 : reward 10.0\r",
      "ep 1903 : reward 10.0\r"
     ]
    },
    {
     "name": "stdout",
     "output_type": "stream",
     "text": [
      "ep 1904 : reward 27.0\r",
      "ep 1905 : reward 12.0\r",
      "ep 1906 : reward 20.0\r"
     ]
    },
    {
     "name": "stdout",
     "output_type": "stream",
     "text": [
      "ep 1907 : reward 59.0\r",
      "ep 1908 : reward 10.0\r",
      "ep 1909 : reward 10.0\r",
      "ep 1910 : reward 9.0\r",
      "ep 1911 : reward 10.0\r",
      "ep 1912 : reward 22.0\r",
      "ep 1913 : reward 15.0\r"
     ]
    },
    {
     "name": "stdout",
     "output_type": "stream",
     "text": [
      "ep 1914 : reward 71.0\r",
      "ep 1915 : reward 10.0\r",
      "ep 1916 : reward 10.0\r",
      "ep 1917 : reward 26.0\r",
      "ep 1918 : reward 8.0\r",
      "ep 1919 : reward 10.0\r",
      "ep 1920 : reward 10.0\r"
     ]
    },
    {
     "name": "stdout",
     "output_type": "stream",
     "text": [
      "ep 1921 : reward 27.0\r",
      "ep 1922 : reward 26.0\r"
     ]
    },
    {
     "name": "stdout",
     "output_type": "stream",
     "text": [
      "ep 1923 : reward 81.0\r",
      "ep 1924 : reward 19.0\r",
      "ep 1925 : reward 22.0\r",
      "ep 1926 : reward 9.0\r",
      "ep 1927 : reward 11.0\r"
     ]
    },
    {
     "name": "stdout",
     "output_type": "stream",
     "text": [
      "ep 1928 : reward 59.0\r",
      "ep 1929 : reward 22.0\r",
      "ep 1930 : reward 29.0\r",
      "ep 1931 : reward 12.0\r",
      "ep 1932 : reward 20.0\r"
     ]
    },
    {
     "name": "stdout",
     "output_type": "stream",
     "text": [
      "ep 1933 : reward 13.0\r",
      "ep 1934 : reward 64.0\r",
      "ep 1935 : reward 18.0\r"
     ]
    },
    {
     "name": "stdout",
     "output_type": "stream",
     "text": [
      "ep 1936 : reward 10.0\r",
      "ep 1937 : reward 26.0\r",
      "ep 1938 : reward 11.0\r",
      "ep 1939 : reward 9.0\r",
      "ep 1940 : reward 9.0\r",
      "ep 1941 : reward 10.0\r",
      "ep 1942 : reward 9.0\r",
      "ep 1943 : reward 9.0\r"
     ]
    },
    {
     "name": "stdout",
     "output_type": "stream",
     "text": [
      "ep 1944 : reward 10.0\r",
      "ep 1945 : reward 10.0\r",
      "ep 1946 : reward 45.0\r",
      "ep 1947 : reward 13.0\r"
     ]
    },
    {
     "name": "stdout",
     "output_type": "stream",
     "text": [
      "ep 1948 : reward 11.0\r",
      "ep 1949 : reward 70.0\r",
      "ep 1950 : reward 9.0\r"
     ]
    },
    {
     "name": "stdout",
     "output_type": "stream",
     "text": [
      "ep 1951 : reward 10.0\r",
      "ep 1952 : reward 9.0\r",
      "ep 1953 : reward 12.0\r",
      "ep 1954 : reward 51.0\r"
     ]
    },
    {
     "name": "stdout",
     "output_type": "stream",
     "text": [
      "ep 1955 : reward 23.0\r",
      "ep 1956 : reward 26.0\r",
      "ep 1957 : reward 10.0\r",
      "ep 1958 : reward 9.0\r",
      "ep 1959 : reward 9.0\r",
      "ep 1960 : reward 10.0\r",
      "ep 1961 : reward 9.0\r"
     ]
    },
    {
     "name": "stdout",
     "output_type": "stream",
     "text": [
      "ep 1962 : reward 13.0\r",
      "ep 1963 : reward 38.0\r"
     ]
    },
    {
     "name": "stdout",
     "output_type": "stream",
     "text": [
      "ep 1964 : reward 118.0\r"
     ]
    },
    {
     "name": "stdout",
     "output_type": "stream",
     "text": [
      "ep 1965 : reward 236.0\r",
      "ep 1966 : reward 9.0\r",
      "ep 1967 : reward 9.0\r",
      "ep 1968 : reward 9.0\r",
      "ep 1969 : reward 11.0\r",
      "ep 1970 : reward 10.0\r",
      "ep 1971 : reward 10.0\r",
      "ep 1972 : reward 10.0\r"
     ]
    },
    {
     "name": "stdout",
     "output_type": "stream",
     "text": [
      "ep 1973 : reward 72.0\r",
      "ep 1974 : reward 9.0\r",
      "ep 1975 : reward 22.0\r",
      "ep 1976 : reward 9.0\r",
      "ep 1977 : reward 10.0\r",
      "ep 1978 : reward 9.0\r",
      "ep 1979 : reward 9.0\r",
      "ep 1980 : reward 10.0\r"
     ]
    },
    {
     "name": "stdout",
     "output_type": "stream",
     "text": [
      "ep 1981 : reward 29.0\r"
     ]
    },
    {
     "name": "stdout",
     "output_type": "stream",
     "text": [
      "ep 1982 : reward 500.0\r"
     ]
    },
    {
     "name": "stdout",
     "output_type": "stream",
     "text": [
      "ep 1983 : reward 104.0\r",
      "ep 1984 : reward 21.0\r"
     ]
    },
    {
     "name": "stdout",
     "output_type": "stream",
     "text": [
      "ep 1985 : reward 101.0\r",
      "ep 1986 : reward 10.0\r",
      "ep 1987 : reward 17.0\r",
      "ep 1988 : reward 10.0\r",
      "ep 1989 : reward 10.0\r",
      "ep 1990 : reward 16.0\r",
      "ep 1991 : reward 9.0\r"
     ]
    },
    {
     "name": "stdout",
     "output_type": "stream",
     "text": [
      "ep 1992 : reward 10.0\r",
      "ep 1993 : reward 8.0\r",
      "ep 1994 : reward 26.0\r"
     ]
    },
    {
     "name": "stdout",
     "output_type": "stream",
     "text": [
      "ep 1995 : reward 69.0\r",
      "ep 1996 : reward 22.0\r",
      "ep 1997 : reward 21.0\r"
     ]
    },
    {
     "name": "stdout",
     "output_type": "stream",
     "text": [
      "ep 1998 : reward 98.0\r",
      "ep 1999 : reward 27.0\r"
     ]
    },
    {
     "name": "stdout",
     "output_type": "stream",
     "text": [
      "ep 2000 : reward 59.0\r"
     ]
    },
    {
     "name": "stdout",
     "output_type": "stream",
     "text": [
      "ep 2001 : reward 229.0\r",
      "ep 2002 : reward 14.0\r",
      "ep 2003 : reward 13.0\r",
      "ep 2004 : reward 12.0\r",
      "ep 2005 : reward 10.0\r"
     ]
    },
    {
     "name": "stdout",
     "output_type": "stream",
     "text": [
      "ep 2006 : reward 48.0\r",
      "ep 2007 : reward 40.0\r"
     ]
    },
    {
     "name": "stdout",
     "output_type": "stream",
     "text": [
      "ep 2008 : reward 183.0\r",
      "ep 2009 : reward 10.0\r",
      "ep 2010 : reward 29.0\r"
     ]
    },
    {
     "name": "stdout",
     "output_type": "stream",
     "text": [
      "ep 2011 : reward 364.0\r"
     ]
    },
    {
     "name": "stdout",
     "output_type": "stream",
     "text": [
      "ep 2012 : reward 231.0\r",
      "ep 2013 : reward 80.0\r"
     ]
    },
    {
     "name": "stdout",
     "output_type": "stream",
     "text": [
      "ep 2014 : reward 55.0\r"
     ]
    },
    {
     "name": "stdout",
     "output_type": "stream",
     "text": [
      "ep 2015 : reward 155.0\r",
      "ep 2016 : reward 38.0\r",
      "ep 2017 : reward 11.0\r",
      "ep 2018 : reward 10.0\r",
      "ep 2019 : reward 10.0\r"
     ]
    },
    {
     "name": "stdout",
     "output_type": "stream",
     "text": [
      "ep 2020 : reward 125.0\r",
      "ep 2021 : reward 14.0\r",
      "ep 2022 : reward 12.0\r"
     ]
    },
    {
     "name": "stdout",
     "output_type": "stream",
     "text": [
      "ep 2023 : reward 61.0\r",
      "ep 2024 : reward 10.0\r",
      "ep 2025 : reward 10.0\r",
      "ep 2026 : reward 10.0\r",
      "ep 2027 : reward 23.0\r",
      "ep 2028 : reward 9.0\r"
     ]
    },
    {
     "name": "stdout",
     "output_type": "stream",
     "text": [
      "ep 2029 : reward 29.0\r",
      "ep 2030 : reward 9.0\r",
      "ep 2031 : reward 9.0\r",
      "ep 2032 : reward 8.0\r",
      "ep 2033 : reward 9.0\r",
      "ep 2034 : reward 8.0\r",
      "ep 2035 : reward 10.0\r",
      "ep 2036 : reward 9.0\r",
      "ep 2037 : reward 9.0\r"
     ]
    },
    {
     "name": "stdout",
     "output_type": "stream",
     "text": [
      "ep 2038 : reward 11.0\r",
      "ep 2039 : reward 10.0\r",
      "ep 2040 : reward 48.0\r",
      "ep 2041 : reward 9.0\r"
     ]
    },
    {
     "name": "stdout",
     "output_type": "stream",
     "text": [
      "ep 2042 : reward 23.0\r",
      "ep 2043 : reward 46.0\r",
      "ep 2044 : reward 10.0\r",
      "ep 2045 : reward 10.0\r"
     ]
    },
    {
     "name": "stdout",
     "output_type": "stream",
     "text": [
      "ep 2046 : reward 31.0\r",
      "ep 2047 : reward 25.0\r",
      "ep 2048 : reward 10.0\r",
      "ep 2049 : reward 9.0\r",
      "ep 2050 : reward 9.0\r",
      "ep 2051 : reward 9.0\r",
      "ep 2052 : reward 9.0\r"
     ]
    },
    {
     "name": "stdout",
     "output_type": "stream",
     "text": [
      "ep 2053 : reward 10.0\r",
      "ep 2054 : reward 11.0\r",
      "ep 2055 : reward 9.0\r",
      "ep 2056 : reward 9.0\r",
      "ep 2057 : reward 11.0\r"
     ]
    },
    {
     "name": "stdout",
     "output_type": "stream",
     "text": [
      "ep 2058 : reward 69.0\r",
      "ep 2059 : reward 9.0\r",
      "ep 2060 : reward 10.0\r",
      "ep 2061 : reward 12.0\r",
      "ep 2062 : reward 39.0\r"
     ]
    },
    {
     "name": "stdout",
     "output_type": "stream",
     "text": [
      "ep 2063 : reward 149.0\r",
      "ep 2064 : reward 32.0\r"
     ]
    },
    {
     "name": "stdout",
     "output_type": "stream",
     "text": [
      "ep 2065 : reward 114.0\r",
      "ep 2066 : reward 11.0\r",
      "ep 2067 : reward 48.0\r"
     ]
    },
    {
     "name": "stdout",
     "output_type": "stream",
     "text": [
      "ep 2068 : reward 30.0\r"
     ]
    },
    {
     "name": "stdout",
     "output_type": "stream",
     "text": [
      "ep 2069 : reward 224.0\r"
     ]
    },
    {
     "name": "stdout",
     "output_type": "stream",
     "text": [
      "ep 2070 : reward 236.0\r"
     ]
    },
    {
     "name": "stdout",
     "output_type": "stream",
     "text": [
      "ep 2071 : reward 242.0\r"
     ]
    },
    {
     "name": "stdout",
     "output_type": "stream",
     "text": [
      "ep 2072 : reward 271.0\r"
     ]
    },
    {
     "name": "stdout",
     "output_type": "stream",
     "text": [
      "ep 2073 : reward 222.0\r",
      "ep 2074 : reward 13.0\r"
     ]
    },
    {
     "name": "stdout",
     "output_type": "stream",
     "text": [
      "ep 2075 : reward 71.0\r",
      "ep 2076 : reward 10.0\r",
      "ep 2077 : reward 9.0\r",
      "ep 2078 : reward 9.0\r",
      "ep 2079 : reward 10.0\r",
      "ep 2080 : reward 10.0\r",
      "ep 2081 : reward 10.0\r",
      "ep 2082 : reward 10.0\r",
      "ep 2083 : reward 9.0\r"
     ]
    },
    {
     "name": "stdout",
     "output_type": "stream",
     "text": [
      "ep 2084 : reward 11.0\r",
      "ep 2085 : reward 8.0\r",
      "ep 2086 : reward 9.0\r",
      "ep 2087 : reward 9.0\r",
      "ep 2088 : reward 10.0\r",
      "ep 2089 : reward 10.0\r",
      "ep 2090 : reward 8.0\r",
      "ep 2091 : reward 10.0\r",
      "ep 2092 : reward 10.0\r",
      "ep 2093 : reward 9.0\r"
     ]
    },
    {
     "name": "stdout",
     "output_type": "stream",
     "text": [
      "ep 2094 : reward 9.0\r",
      "ep 2095 : reward 8.0\r",
      "ep 2096 : reward 10.0\r",
      "ep 2097 : reward 10.0\r",
      "ep 2098 : reward 11.0\r",
      "ep 2099 : reward 25.0\r"
     ]
    },
    {
     "name": "stdout",
     "output_type": "stream",
     "text": [
      "ep 2100 : reward 31.0\r",
      "ep 2101 : reward 11.0\r",
      "ep 2102 : reward 49.0\r",
      "ep 2103 : reward 10.0\r",
      "ep 2104 : reward 9.0\r"
     ]
    },
    {
     "name": "stdout",
     "output_type": "stream",
     "text": [
      "ep 2105 : reward 9.0\r",
      "ep 2106 : reward 10.0\r",
      "ep 2107 : reward 9.0\r",
      "ep 2108 : reward 9.0\r",
      "ep 2109 : reward 10.0\r",
      "ep 2110 : reward 8.0\r",
      "ep 2111 : reward 10.0\r",
      "ep 2112 : reward 10.0\r",
      "ep 2113 : reward 8.0\r"
     ]
    },
    {
     "name": "stdout",
     "output_type": "stream",
     "text": [
      "ep 2114 : reward 8.0\r",
      "ep 2115 : reward 8.0\r",
      "ep 2116 : reward 10.0\r",
      "ep 2117 : reward 8.0\r",
      "ep 2118 : reward 10.0\r",
      "ep 2119 : reward 10.0\r",
      "ep 2120 : reward 11.0\r",
      "ep 2121 : reward 10.0\r",
      "ep 2122 : reward 9.0\r"
     ]
    },
    {
     "name": "stdout",
     "output_type": "stream",
     "text": [
      "ep 2123 : reward 68.0\r",
      "ep 2124 : reward 13.0\r",
      "ep 2125 : reward 8.0\r",
      "ep 2126 : reward 9.0\r",
      "ep 2127 : reward 13.0\r",
      "ep 2128 : reward 24.0\r",
      "ep 2129 : reward 9.0\r",
      "ep 2130 : reward 10.0\r"
     ]
    },
    {
     "name": "stdout",
     "output_type": "stream",
     "text": [
      "ep 2131 : reward 11.0\r",
      "ep 2132 : reward 9.0\r",
      "ep 2133 : reward 9.0\r",
      "ep 2134 : reward 10.0\r",
      "ep 2135 : reward 45.0\r"
     ]
    },
    {
     "name": "stdout",
     "output_type": "stream",
     "text": [
      "ep 2136 : reward 10.0\r",
      "ep 2137 : reward 10.0\r",
      "ep 2138 : reward 9.0\r",
      "ep 2139 : reward 10.0\r",
      "ep 2140 : reward 13.0\r",
      "ep 2141 : reward 10.0\r",
      "ep 2142 : reward 8.0\r"
     ]
    },
    {
     "name": "stdout",
     "output_type": "stream",
     "text": [
      "ep 2143 : reward 92.0\r",
      "ep 2144 : reward 9.0\r",
      "ep 2145 : reward 9.0\r",
      "ep 2146 : reward 10.0\r",
      "ep 2147 : reward 11.0\r",
      "ep 2148 : reward 13.0\r",
      "ep 2149 : reward 10.0\r",
      "ep 2150 : reward 9.0\r"
     ]
    },
    {
     "name": "stdout",
     "output_type": "stream",
     "text": [
      "ep 2151 : reward 11.0\r",
      "ep 2152 : reward 10.0\r",
      "ep 2153 : reward 11.0\r",
      "ep 2154 : reward 9.0\r",
      "ep 2155 : reward 9.0\r",
      "ep 2156 : reward 9.0\r",
      "ep 2157 : reward 10.0\r",
      "ep 2158 : reward 9.0\r"
     ]
    },
    {
     "name": "stdout",
     "output_type": "stream",
     "text": [
      "ep 2159 : reward 12.0\r",
      "ep 2160 : reward 9.0\r",
      "ep 2161 : reward 13.0\r",
      "ep 2162 : reward 9.0\r",
      "ep 2163 : reward 9.0\r",
      "ep 2164 : reward 9.0\r",
      "ep 2165 : reward 11.0\r",
      "ep 2166 : reward 9.0\r",
      "ep 2167 : reward 9.0\r"
     ]
    },
    {
     "name": "stdout",
     "output_type": "stream",
     "text": [
      "ep 2168 : reward 10.0\r",
      "ep 2169 : reward 10.0\r",
      "ep 2170 : reward 9.0\r",
      "ep 2171 : reward 9.0\r",
      "ep 2172 : reward 8.0\r",
      "ep 2173 : reward 10.0\r",
      "ep 2174 : reward 10.0\r",
      "ep 2175 : reward 9.0\r"
     ]
    },
    {
     "name": "stdout",
     "output_type": "stream",
     "text": [
      "ep 2176 : reward 30.0\r",
      "ep 2177 : reward 9.0\r",
      "ep 2178 : reward 9.0\r",
      "ep 2179 : reward 10.0\r",
      "ep 2180 : reward 9.0\r",
      "ep 2181 : reward 12.0\r",
      "ep 2182 : reward 11.0\r",
      "ep 2183 : reward 10.0\r",
      "ep 2184 : reward 9.0\r"
     ]
    },
    {
     "name": "stdout",
     "output_type": "stream",
     "text": [
      "ep 2185 : reward 10.0\r",
      "ep 2186 : reward 10.0\r",
      "ep 2187 : reward 8.0\r",
      "ep 2188 : reward 10.0\r",
      "ep 2189 : reward 10.0\r",
      "ep 2190 : reward 10.0\r",
      "ep 2191 : reward 8.0\r",
      "ep 2192 : reward 10.0\r"
     ]
    },
    {
     "name": "stdout",
     "output_type": "stream",
     "text": [
      "ep 2193 : reward 9.0\r",
      "ep 2194 : reward 10.0\r",
      "ep 2195 : reward 9.0\r",
      "ep 2196 : reward 9.0\r",
      "ep 2197 : reward 10.0\r",
      "ep 2198 : reward 10.0\r",
      "ep 2199 : reward 9.0\r",
      "ep 2200 : reward 8.0\r",
      "ep 2201 : reward 8.0\r"
     ]
    },
    {
     "name": "stdout",
     "output_type": "stream",
     "text": [
      "ep 2202 : reward 9.0\r",
      "ep 2203 : reward 9.0\r",
      "ep 2204 : reward 10.0\r",
      "ep 2205 : reward 12.0\r",
      "ep 2206 : reward 9.0\r",
      "ep 2207 : reward 9.0\r",
      "ep 2208 : reward 10.0\r",
      "ep 2209 : reward 9.0\r"
     ]
    },
    {
     "name": "stdout",
     "output_type": "stream",
     "text": [
      "ep 2210 : reward 12.0\r",
      "ep 2211 : reward 12.0\r",
      "ep 2212 : reward 8.0\r",
      "ep 2213 : reward 9.0\r",
      "ep 2214 : reward 8.0\r",
      "ep 2215 : reward 11.0\r",
      "ep 2216 : reward 10.0\r",
      "ep 2217 : reward 9.0\r",
      "ep 2218 : reward 8.0\r"
     ]
    },
    {
     "name": "stdout",
     "output_type": "stream",
     "text": [
      "ep 2219 : reward 10.0\r",
      "ep 2220 : reward 9.0\r",
      "ep 2221 : reward 10.0\r",
      "ep 2222 : reward 9.0\r",
      "ep 2223 : reward 11.0\r",
      "ep 2224 : reward 9.0\r",
      "ep 2225 : reward 9.0\r",
      "ep 2226 : reward 12.0\r",
      "ep 2227 : reward 9.0\r"
     ]
    },
    {
     "name": "stdout",
     "output_type": "stream",
     "text": [
      "ep 2228 : reward 10.0\r",
      "ep 2229 : reward 9.0\r",
      "ep 2230 : reward 10.0\r",
      "ep 2231 : reward 9.0\r",
      "ep 2232 : reward 10.0\r",
      "ep 2233 : reward 8.0\r"
     ]
    },
    {
     "name": "stdout",
     "output_type": "stream",
     "text": [
      "ep 2234 : reward 169.0\r"
     ]
    },
    {
     "name": "stdout",
     "output_type": "stream",
     "text": [
      "ep 2235 : reward 168.0\r"
     ]
    },
    {
     "name": "stdout",
     "output_type": "stream",
     "text": [
      "ep 2236 : reward 145.0\r"
     ]
    },
    {
     "name": "stdout",
     "output_type": "stream",
     "text": [
      "ep 2237 : reward 160.0\r"
     ]
    },
    {
     "name": "stdout",
     "output_type": "stream",
     "text": [
      "ep 2238 : reward 196.0\r"
     ]
    },
    {
     "name": "stdout",
     "output_type": "stream",
     "text": [
      "ep 2239 : reward 239.0\r"
     ]
    },
    {
     "name": "stdout",
     "output_type": "stream",
     "text": [
      "ep 2240 : reward 217.0\r"
     ]
    },
    {
     "name": "stdout",
     "output_type": "stream",
     "text": [
      "ep 2241 : reward 289.0\r"
     ]
    },
    {
     "name": "stdout",
     "output_type": "stream",
     "text": [
      "ep 2242 : reward 176.0\r"
     ]
    },
    {
     "name": "stdout",
     "output_type": "stream",
     "text": [
      "ep 2243 : reward 174.0\r"
     ]
    },
    {
     "name": "stdout",
     "output_type": "stream",
     "text": [
      "ep 2244 : reward 199.0\r"
     ]
    },
    {
     "name": "stdout",
     "output_type": "stream",
     "text": [
      "ep 2245 : reward 211.0\r"
     ]
    },
    {
     "name": "stdout",
     "output_type": "stream",
     "text": [
      "ep 2246 : reward 274.0\r"
     ]
    },
    {
     "name": "stdout",
     "output_type": "stream",
     "text": [
      "ep 2247 : reward 301.0\r"
     ]
    },
    {
     "name": "stdout",
     "output_type": "stream",
     "text": [
      "ep 2248 : reward 268.0\r"
     ]
    },
    {
     "name": "stdout",
     "output_type": "stream",
     "text": [
      "ep 2249 : reward 238.0\r"
     ]
    },
    {
     "name": "stdout",
     "output_type": "stream",
     "text": [
      "ep 2250 : reward 272.0\r"
     ]
    },
    {
     "name": "stdout",
     "output_type": "stream",
     "text": [
      "ep 2251 : reward 246.0\r"
     ]
    },
    {
     "name": "stdout",
     "output_type": "stream",
     "text": [
      "ep 2252 : reward 308.0\r"
     ]
    },
    {
     "name": "stdout",
     "output_type": "stream",
     "text": [
      "ep 2253 : reward 334.0\r"
     ]
    },
    {
     "name": "stdout",
     "output_type": "stream",
     "text": [
      "ep 2254 : reward 241.0\r"
     ]
    },
    {
     "name": "stdout",
     "output_type": "stream",
     "text": [
      "ep 2255 : reward 277.0\r"
     ]
    },
    {
     "name": "stdout",
     "output_type": "stream",
     "text": [
      "ep 2256 : reward 215.0\r"
     ]
    },
    {
     "name": "stdout",
     "output_type": "stream",
     "text": [
      "ep 2257 : reward 214.0\r"
     ]
    },
    {
     "name": "stdout",
     "output_type": "stream",
     "text": [
      "ep 2258 : reward 200.0\r"
     ]
    },
    {
     "name": "stdout",
     "output_type": "stream",
     "text": [
      "ep 2259 : reward 222.0\r"
     ]
    },
    {
     "name": "stdout",
     "output_type": "stream",
     "text": [
      "ep 2260 : reward 244.0\r"
     ]
    },
    {
     "name": "stdout",
     "output_type": "stream",
     "text": [
      "ep 2261 : reward 249.0\r"
     ]
    },
    {
     "name": "stdout",
     "output_type": "stream",
     "text": [
      "ep 2262 : reward 198.0\r",
      "ep 2263 : reward 14.0\r"
     ]
    },
    {
     "name": "stdout",
     "output_type": "stream",
     "text": [
      "ep 2264 : reward 116.0\r",
      "ep 2265 : reward 9.0\r",
      "ep 2266 : reward 10.0\r",
      "ep 2267 : reward 9.0\r",
      "ep 2268 : reward 9.0\r",
      "ep 2269 : reward 10.0\r",
      "ep 2270 : reward 11.0\r",
      "ep 2271 : reward 11.0\r"
     ]
    },
    {
     "name": "stdout",
     "output_type": "stream",
     "text": [
      "ep 2272 : reward 10.0\r"
     ]
    },
    {
     "name": "stdout",
     "output_type": "stream",
     "text": [
      "ep 2273 : reward 408.0\r"
     ]
    },
    {
     "name": "stdout",
     "output_type": "stream",
     "text": [
      "ep 2274 : reward 398.0\r"
     ]
    },
    {
     "name": "stdout",
     "output_type": "stream",
     "text": [
      "ep 2275 : reward 500.0\r",
      "ep 2276 : reward 19.0\r"
     ]
    },
    {
     "name": "stdout",
     "output_type": "stream",
     "text": [
      "ep 2277 : reward 159.0\r",
      "ep 2278 : reward 48.0\r",
      "ep 2279 : reward 18.0\r",
      "ep 2280 : reward 10.0\r"
     ]
    },
    {
     "name": "stdout",
     "output_type": "stream",
     "text": [
      "ep 2281 : reward 10.0\r",
      "ep 2282 : reward 10.0\r",
      "ep 2283 : reward 10.0\r",
      "ep 2284 : reward 11.0\r",
      "ep 2285 : reward 21.0\r"
     ]
    },
    {
     "name": "stdout",
     "output_type": "stream",
     "text": [
      "ep 2286 : reward 202.0\r",
      "ep 2287 : reward 10.0\r",
      "ep 2288 : reward 10.0\r",
      "ep 2289 : reward 10.0\r",
      "ep 2290 : reward 23.0\r",
      "ep 2291 : reward 10.0\r",
      "ep 2292 : reward 10.0\r"
     ]
    },
    {
     "name": "stdout",
     "output_type": "stream",
     "text": [
      "ep 2293 : reward 24.0\r"
     ]
    },
    {
     "name": "stdout",
     "output_type": "stream",
     "text": [
      "ep 2294 : reward 104.0\r",
      "ep 2295 : reward 24.0\r",
      "ep 2296 : reward 10.0\r",
      "ep 2297 : reward 12.0\r",
      "ep 2298 : reward 13.0\r",
      "ep 2299 : reward 10.0\r",
      "ep 2300 : reward 9.0\r"
     ]
    },
    {
     "name": "stdout",
     "output_type": "stream",
     "text": [
      "ep 2301 : reward 8.0\r",
      "ep 2302 : reward 10.0\r",
      "ep 2303 : reward 10.0\r",
      "ep 2304 : reward 9.0\r",
      "ep 2305 : reward 10.0\r",
      "ep 2306 : reward 10.0\r",
      "ep 2307 : reward 9.0\r",
      "ep 2308 : reward 10.0\r",
      "ep 2309 : reward 9.0\r",
      "ep 2310 : reward 8.0\r"
     ]
    },
    {
     "name": "stdout",
     "output_type": "stream",
     "text": [
      "ep 2311 : reward 12.0\r",
      "ep 2312 : reward 9.0\r",
      "ep 2313 : reward 10.0\r",
      "ep 2314 : reward 10.0\r",
      "ep 2315 : reward 10.0\r",
      "ep 2316 : reward 10.0\r",
      "ep 2317 : reward 8.0\r",
      "ep 2318 : reward 9.0\r",
      "ep 2319 : reward 9.0\r"
     ]
    },
    {
     "name": "stdout",
     "output_type": "stream",
     "text": [
      "ep 2320 : reward 11.0\r",
      "ep 2321 : reward 10.0\r",
      "ep 2322 : reward 10.0\r",
      "ep 2323 : reward 11.0\r",
      "ep 2324 : reward 9.0\r",
      "ep 2325 : reward 10.0\r",
      "ep 2326 : reward 12.0\r",
      "ep 2327 : reward 9.0\r"
     ]
    },
    {
     "name": "stdout",
     "output_type": "stream",
     "text": [
      "ep 2328 : reward 9.0\r",
      "ep 2329 : reward 10.0\r",
      "ep 2330 : reward 10.0\r",
      "ep 2331 : reward 9.0\r",
      "ep 2332 : reward 10.0\r",
      "ep 2333 : reward 9.0\r",
      "ep 2334 : reward 9.0\r",
      "ep 2335 : reward 10.0\r",
      "ep 2336 : reward 10.0\r"
     ]
    },
    {
     "name": "stdout",
     "output_type": "stream",
     "text": [
      "ep 2337 : reward 10.0\r",
      "ep 2338 : reward 10.0\r",
      "ep 2339 : reward 9.0\r",
      "ep 2340 : reward 10.0\r",
      "ep 2341 : reward 10.0\r",
      "ep 2342 : reward 9.0\r",
      "ep 2343 : reward 11.0\r",
      "ep 2344 : reward 12.0\r"
     ]
    },
    {
     "name": "stdout",
     "output_type": "stream",
     "text": [
      "ep 2345 : reward 208.0\r"
     ]
    },
    {
     "name": "stdout",
     "output_type": "stream",
     "text": [
      "ep 2346 : reward 254.0\r"
     ]
    },
    {
     "name": "stdout",
     "output_type": "stream",
     "text": [
      "ep 2347 : reward 266.0\r"
     ]
    },
    {
     "name": "stdout",
     "output_type": "stream",
     "text": [
      "ep 2348 : reward 288.0\r"
     ]
    },
    {
     "name": "stdout",
     "output_type": "stream",
     "text": [
      "ep 2349 : reward 252.0\r"
     ]
    },
    {
     "name": "stdout",
     "output_type": "stream",
     "text": [
      "ep 2350 : reward 322.0\r"
     ]
    },
    {
     "name": "stdout",
     "output_type": "stream",
     "text": [
      "ep 2351 : reward 458.0\r"
     ]
    },
    {
     "name": "stdout",
     "output_type": "stream",
     "text": [
      "ep 2352 : reward 354.0\r"
     ]
    },
    {
     "name": "stdout",
     "output_type": "stream",
     "text": [
      "ep 2353 : reward 252.0\r"
     ]
    },
    {
     "name": "stdout",
     "output_type": "stream",
     "text": [
      "ep 2354 : reward 345.0\r"
     ]
    },
    {
     "name": "stdout",
     "output_type": "stream",
     "text": [
      "ep 2355 : reward 142.0\r",
      "ep 2356 : reward 12.0\r",
      "ep 2357 : reward 9.0\r",
      "ep 2358 : reward 10.0\r",
      "ep 2359 : reward 9.0\r",
      "ep 2360 : reward 9.0\r",
      "ep 2361 : reward 11.0\r",
      "ep 2362 : reward 9.0\r",
      "ep 2363 : reward 9.0\r"
     ]
    },
    {
     "name": "stdout",
     "output_type": "stream",
     "text": [
      "ep 2364 : reward 11.0\r",
      "ep 2365 : reward 10.0\r",
      "ep 2366 : reward 10.0\r",
      "ep 2367 : reward 10.0\r",
      "ep 2368 : reward 10.0\r",
      "ep 2369 : reward 10.0\r",
      "ep 2370 : reward 11.0\r",
      "ep 2371 : reward 12.0\r"
     ]
    },
    {
     "name": "stdout",
     "output_type": "stream",
     "text": [
      "ep 2372 : reward 10.0\r",
      "ep 2373 : reward 10.0\r",
      "ep 2374 : reward 10.0\r",
      "ep 2375 : reward 10.0\r",
      "ep 2376 : reward 9.0\r",
      "ep 2377 : reward 10.0\r",
      "ep 2378 : reward 10.0\r",
      "ep 2379 : reward 8.0\r",
      "ep 2380 : reward 8.0\r"
     ]
    },
    {
     "name": "stdout",
     "output_type": "stream",
     "text": [
      "ep 2381 : reward 10.0\r",
      "ep 2382 : reward 9.0\r",
      "ep 2383 : reward 10.0\r",
      "ep 2384 : reward 9.0\r",
      "ep 2385 : reward 10.0\r",
      "ep 2386 : reward 10.0\r",
      "ep 2387 : reward 10.0\r",
      "ep 2388 : reward 10.0\r",
      "ep 2389 : reward 10.0\r"
     ]
    },
    {
     "name": "stdout",
     "output_type": "stream",
     "text": [
      "ep 2390 : reward 10.0\r",
      "ep 2391 : reward 9.0\r",
      "ep 2392 : reward 9.0\r",
      "ep 2393 : reward 9.0\r",
      "ep 2394 : reward 11.0\r",
      "ep 2395 : reward 10.0\r",
      "ep 2396 : reward 11.0\r"
     ]
    },
    {
     "name": "stdout",
     "output_type": "stream",
     "text": [
      "ep 2397 : reward 58.0\r"
     ]
    },
    {
     "name": "stdout",
     "output_type": "stream",
     "text": [
      "ep 2398 : reward 189.0\r"
     ]
    },
    {
     "name": "stdout",
     "output_type": "stream",
     "text": [
      "ep 2399 : reward 182.0\r",
      "ep 2400 : reward 10.0\r",
      "ep 2401 : reward 26.0\r",
      "ep 2402 : reward 22.0\r"
     ]
    },
    {
     "name": "stdout",
     "output_type": "stream",
     "text": [
      "ep 2403 : reward 27.0\r",
      "ep 2404 : reward 25.0\r",
      "ep 2405 : reward 12.0\r",
      "ep 2406 : reward 13.0\r",
      "ep 2407 : reward 26.0\r"
     ]
    },
    {
     "name": "stdout",
     "output_type": "stream",
     "text": [
      "ep 2408 : reward 23.0\r",
      "ep 2409 : reward 24.0\r"
     ]
    },
    {
     "name": "stdout",
     "output_type": "stream",
     "text": [
      "ep 2410 : reward 189.0\r"
     ]
    },
    {
     "name": "stdout",
     "output_type": "stream",
     "text": [
      "ep 2411 : reward 109.0\r",
      "ep 2412 : reward 9.0\r",
      "ep 2413 : reward 10.0\r",
      "ep 2414 : reward 9.0\r",
      "ep 2415 : reward 10.0\r",
      "ep 2416 : reward 26.0\r"
     ]
    },
    {
     "name": "stdout",
     "output_type": "stream",
     "text": [
      "ep 2417 : reward 11.0\r",
      "ep 2418 : reward 9.0\r",
      "ep 2419 : reward 12.0\r",
      "ep 2420 : reward 10.0\r",
      "ep 2421 : reward 9.0\r",
      "ep 2422 : reward 13.0\r"
     ]
    },
    {
     "name": "stdout",
     "output_type": "stream",
     "text": [
      "ep 2423 : reward 43.0\r"
     ]
    },
    {
     "name": "stdout",
     "output_type": "stream",
     "text": [
      "ep 2424 : reward 197.0\r",
      "ep 2425 : reward 25.0\r",
      "ep 2426 : reward 25.0\r"
     ]
    },
    {
     "name": "stdout",
     "output_type": "stream",
     "text": [
      "ep 2427 : reward 253.0\r"
     ]
    },
    {
     "name": "stdout",
     "output_type": "stream",
     "text": [
      "ep 2428 : reward 248.0\r"
     ]
    },
    {
     "name": "stdout",
     "output_type": "stream",
     "text": [
      "ep 2429 : reward 151.0\r",
      "ep 2430 : reward 10.0\r",
      "ep 2431 : reward 10.0\r",
      "ep 2432 : reward 10.0\r",
      "ep 2433 : reward 10.0\r",
      "ep 2434 : reward 10.0\r"
     ]
    },
    {
     "name": "stdout",
     "output_type": "stream",
     "text": [
      "ep 2435 : reward 9.0\r",
      "ep 2436 : reward 10.0\r",
      "ep 2437 : reward 10.0\r",
      "ep 2438 : reward 11.0\r",
      "ep 2439 : reward 10.0\r",
      "ep 2440 : reward 10.0\r"
     ]
    },
    {
     "name": "stdout",
     "output_type": "stream",
     "text": [
      "ep 2441 : reward 9.0\r",
      "ep 2442 : reward 10.0\r",
      "ep 2443 : reward 9.0\r",
      "ep 2444 : reward 11.0\r",
      "ep 2445 : reward 9.0\r",
      "ep 2446 : reward 9.0\r"
     ]
    },
    {
     "name": "stdout",
     "output_type": "stream",
     "text": [
      "ep 2447 : reward 10.0\r",
      "ep 2448 : reward 9.0\r",
      "ep 2449 : reward 10.0\r",
      "ep 2450 : reward 10.0\r",
      "ep 2451 : reward 10.0\r",
      "ep 2452 : reward 9.0\r"
     ]
    },
    {
     "name": "stdout",
     "output_type": "stream",
     "text": [
      "ep 2453 : reward 10.0\r",
      "ep 2454 : reward 9.0\r",
      "ep 2455 : reward 9.0\r",
      "ep 2456 : reward 10.0\r",
      "ep 2457 : reward 10.0\r",
      "ep 2458 : reward 12.0\r"
     ]
    },
    {
     "name": "stdout",
     "output_type": "stream",
     "text": [
      "ep 2459 : reward 9.0\r",
      "ep 2460 : reward 8.0\r",
      "ep 2461 : reward 11.0\r",
      "ep 2462 : reward 9.0\r",
      "ep 2463 : reward 9.0\r",
      "ep 2464 : reward 10.0\r"
     ]
    },
    {
     "name": "stdout",
     "output_type": "stream",
     "text": [
      "ep 2465 : reward 12.0\r",
      "ep 2466 : reward 9.0\r",
      "ep 2467 : reward 9.0\r",
      "ep 2468 : reward 9.0\r",
      "ep 2469 : reward 10.0\r",
      "ep 2470 : reward 11.0\r",
      "ep 2471 : reward 9.0\r",
      "ep 2472 : reward 10.0\r"
     ]
    },
    {
     "name": "stdout",
     "output_type": "stream",
     "text": [
      "ep 2473 : reward 9.0\r",
      "ep 2474 : reward 9.0\r",
      "ep 2475 : reward 10.0\r",
      "ep 2476 : reward 8.0\r",
      "ep 2477 : reward 9.0\r",
      "ep 2478 : reward 11.0\r"
     ]
    },
    {
     "name": "stdout",
     "output_type": "stream",
     "text": [
      "ep 2479 : reward 9.0\r",
      "ep 2480 : reward 10.0\r",
      "ep 2481 : reward 8.0\r",
      "ep 2482 : reward 9.0\r",
      "ep 2483 : reward 9.0\r",
      "ep 2484 : reward 10.0\r"
     ]
    },
    {
     "name": "stdout",
     "output_type": "stream",
     "text": [
      "ep 2485 : reward 10.0\r",
      "ep 2486 : reward 11.0\r",
      "ep 2487 : reward 11.0\r",
      "ep 2488 : reward 10.0\r",
      "ep 2489 : reward 13.0\r",
      "ep 2490 : reward 11.0\r",
      "ep 2491 : reward 11.0\r"
     ]
    },
    {
     "name": "stdout",
     "output_type": "stream",
     "text": [
      "ep 2492 : reward 25.0\r",
      "ep 2493 : reward 13.0\r",
      "ep 2494 : reward 11.0\r",
      "ep 2495 : reward 10.0\r",
      "ep 2496 : reward 10.0\r",
      "ep 2497 : reward 11.0\r",
      "ep 2498 : reward 12.0\r"
     ]
    },
    {
     "name": "stdout",
     "output_type": "stream",
     "text": [
      "ep 2499 : reward 26.0\r",
      "ep 2500 : reward 11.0\r",
      "ep 2501 : reward 9.0\r",
      "ep 2502 : reward 9.0\r",
      "ep 2503 : reward 9.0\r",
      "ep 2504 : reward 10.0\r",
      "ep 2505 : reward 9.0\r",
      "ep 2506 : reward 9.0\r",
      "ep 2507 : reward 10.0\r"
     ]
    },
    {
     "name": "stdout",
     "output_type": "stream",
     "text": [
      "ep 2508 : reward 10.0\r",
      "ep 2509 : reward 10.0\r",
      "ep 2510 : reward 12.0\r",
      "ep 2511 : reward 10.0\r",
      "ep 2512 : reward 10.0\r",
      "ep 2513 : reward 9.0\r",
      "ep 2514 : reward 10.0\r"
     ]
    },
    {
     "name": "stdout",
     "output_type": "stream",
     "text": [
      "ep 2515 : reward 204.0\r",
      "ep 2516 : reward 26.0\r",
      "ep 2517 : reward 11.0\r",
      "ep 2518 : reward 10.0\r",
      "ep 2519 : reward 11.0\r",
      "ep 2520 : reward 10.0\r",
      "ep 2521 : reward 10.0\r"
     ]
    },
    {
     "name": "stdout",
     "output_type": "stream",
     "text": [
      "ep 2522 : reward 9.0\r",
      "ep 2523 : reward 10.0\r",
      "ep 2524 : reward 10.0\r",
      "ep 2525 : reward 8.0\r",
      "ep 2526 : reward 9.0\r",
      "ep 2527 : reward 9.0\r",
      "ep 2528 : reward 11.0\r",
      "ep 2529 : reward 13.0\r"
     ]
    },
    {
     "name": "stdout",
     "output_type": "stream",
     "text": [
      "ep 2530 : reward 9.0\r",
      "ep 2531 : reward 9.0\r",
      "ep 2532 : reward 10.0\r",
      "ep 2533 : reward 10.0\r",
      "ep 2534 : reward 8.0\r",
      "ep 2535 : reward 9.0\r",
      "ep 2536 : reward 11.0\r"
     ]
    },
    {
     "name": "stdout",
     "output_type": "stream",
     "text": [
      "ep 2537 : reward 10.0\r",
      "ep 2538 : reward 9.0\r",
      "ep 2539 : reward 10.0\r",
      "ep 2540 : reward 11.0\r",
      "ep 2541 : reward 10.0\r",
      "ep 2542 : reward 9.0\r",
      "ep 2543 : reward 10.0\r",
      "ep 2544 : reward 11.0\r"
     ]
    },
    {
     "name": "stdout",
     "output_type": "stream",
     "text": [
      "ep 2545 : reward 8.0\r",
      "ep 2546 : reward 9.0\r",
      "ep 2547 : reward 10.0\r",
      "ep 2548 : reward 10.0\r",
      "ep 2549 : reward 10.0\r",
      "ep 2550 : reward 9.0\r",
      "ep 2551 : reward 8.0\r",
      "ep 2552 : reward 9.0\r",
      "ep 2553 : reward 10.0\r"
     ]
    },
    {
     "name": "stdout",
     "output_type": "stream",
     "text": [
      "ep 2554 : reward 10.0\r",
      "ep 2555 : reward 10.0\r",
      "ep 2556 : reward 10.0\r",
      "ep 2557 : reward 10.0\r",
      "ep 2558 : reward 8.0\r",
      "ep 2559 : reward 10.0\r",
      "ep 2560 : reward 12.0\r",
      "ep 2561 : reward 10.0\r"
     ]
    },
    {
     "name": "stdout",
     "output_type": "stream",
     "text": [
      "ep 2562 : reward 9.0\r",
      "ep 2563 : reward 10.0\r",
      "ep 2564 : reward 9.0\r",
      "ep 2565 : reward 9.0\r",
      "ep 2566 : reward 28.0\r"
     ]
    },
    {
     "name": "stdout",
     "output_type": "stream",
     "text": [
      "ep 2567 : reward 183.0\r"
     ]
    },
    {
     "name": "stdout",
     "output_type": "stream",
     "text": [
      "ep 2568 : reward 239.0\r",
      "ep 2569 : reward 28.0\r",
      "ep 2570 : reward 12.0\r"
     ]
    },
    {
     "name": "stdout",
     "output_type": "stream",
     "text": [
      "ep 2571 : reward 20.0\r",
      "ep 2572 : reward 13.0\r"
     ]
    },
    {
     "name": "stdout",
     "output_type": "stream",
     "text": [
      "ep 2573 : reward 286.0\r"
     ]
    },
    {
     "name": "stdout",
     "output_type": "stream",
     "text": [
      "ep 2574 : reward 272.0\r"
     ]
    },
    {
     "name": "stdout",
     "output_type": "stream",
     "text": [
      "ep 2575 : reward 299.0\r"
     ]
    },
    {
     "name": "stdout",
     "output_type": "stream",
     "text": [
      "ep 2576 : reward 248.0\r"
     ]
    },
    {
     "name": "stdout",
     "output_type": "stream",
     "text": [
      "ep 2577 : reward 228.0\r"
     ]
    },
    {
     "name": "stdout",
     "output_type": "stream",
     "text": [
      "ep 2578 : reward 186.0\r",
      "ep 2579 : reward 27.0\r"
     ]
    },
    {
     "name": "stdout",
     "output_type": "stream",
     "text": [
      "ep 2580 : reward 311.0\r"
     ]
    },
    {
     "name": "stdout",
     "output_type": "stream",
     "text": [
      "ep 2581 : reward 442.0\r"
     ]
    },
    {
     "name": "stdout",
     "output_type": "stream",
     "text": [
      "ep 2582 : reward 249.0\r",
      "ep 2583 : reward 24.0\r",
      "ep 2584 : reward 59.0\r"
     ]
    },
    {
     "name": "stdout",
     "output_type": "stream",
     "text": [
      "ep 2585 : reward 9.0\r",
      "ep 2586 : reward 9.0\r",
      "ep 2587 : reward 9.0\r",
      "ep 2588 : reward 10.0\r",
      "ep 2589 : reward 9.0\r",
      "ep 2590 : reward 10.0\r",
      "ep 2591 : reward 11.0\r",
      "ep 2592 : reward 10.0\r"
     ]
    },
    {
     "name": "stdout",
     "output_type": "stream",
     "text": [
      "ep 2593 : reward 9.0\r",
      "ep 2594 : reward 10.0\r",
      "ep 2595 : reward 10.0\r",
      "ep 2596 : reward 11.0\r",
      "ep 2597 : reward 9.0\r",
      "ep 2598 : reward 9.0\r",
      "ep 2599 : reward 10.0\r",
      "ep 2600 : reward 10.0\r"
     ]
    },
    {
     "name": "stdout",
     "output_type": "stream",
     "text": [
      "ep 2601 : reward 9.0\r",
      "ep 2602 : reward 8.0\r",
      "ep 2603 : reward 10.0\r",
      "ep 2604 : reward 9.0\r",
      "ep 2605 : reward 8.0\r",
      "ep 2606 : reward 9.0\r",
      "ep 2607 : reward 10.0\r",
      "ep 2608 : reward 10.0\r",
      "ep 2609 : reward 9.0\r"
     ]
    },
    {
     "name": "stdout",
     "output_type": "stream",
     "text": [
      "ep 2610 : reward 9.0\r",
      "ep 2611 : reward 12.0\r",
      "ep 2612 : reward 11.0\r",
      "ep 2613 : reward 8.0\r",
      "ep 2614 : reward 11.0\r",
      "ep 2615 : reward 10.0\r",
      "ep 2616 : reward 10.0\r",
      "ep 2617 : reward 9.0\r"
     ]
    },
    {
     "name": "stdout",
     "output_type": "stream",
     "text": [
      "ep 2618 : reward 10.0\r",
      "ep 2619 : reward 12.0\r",
      "ep 2620 : reward 9.0\r",
      "ep 2621 : reward 9.0\r",
      "ep 2622 : reward 10.0\r",
      "ep 2623 : reward 8.0\r",
      "ep 2624 : reward 10.0\r",
      "ep 2625 : reward 11.0\r"
     ]
    },
    {
     "name": "stdout",
     "output_type": "stream",
     "text": [
      "ep 2626 : reward 10.0\r",
      "ep 2627 : reward 9.0\r",
      "ep 2628 : reward 10.0\r",
      "ep 2629 : reward 11.0\r",
      "ep 2630 : reward 9.0\r",
      "ep 2631 : reward 10.0\r",
      "ep 2632 : reward 10.0\r",
      "ep 2633 : reward 9.0\r"
     ]
    },
    {
     "name": "stdout",
     "output_type": "stream",
     "text": [
      "ep 2634 : reward 9.0\r",
      "ep 2635 : reward 9.0\r",
      "ep 2636 : reward 10.0\r",
      "ep 2637 : reward 10.0\r",
      "ep 2638 : reward 10.0\r",
      "ep 2639 : reward 10.0\r",
      "ep 2640 : reward 8.0\r",
      "ep 2641 : reward 10.0\r"
     ]
    },
    {
     "name": "stdout",
     "output_type": "stream",
     "text": [
      "ep 2642 : reward 10.0\r",
      "ep 2643 : reward 10.0\r",
      "ep 2644 : reward 10.0\r",
      "ep 2645 : reward 10.0\r",
      "ep 2646 : reward 8.0\r",
      "ep 2647 : reward 9.0\r",
      "ep 2648 : reward 10.0\r",
      "ep 2649 : reward 9.0\r",
      "ep 2650 : reward 9.0\r"
     ]
    },
    {
     "name": "stdout",
     "output_type": "stream",
     "text": [
      "ep 2651 : reward 8.0\r",
      "ep 2652 : reward 10.0\r",
      "ep 2653 : reward 9.0\r",
      "ep 2654 : reward 8.0\r",
      "ep 2655 : reward 11.0\r",
      "ep 2656 : reward 10.0\r",
      "ep 2657 : reward 9.0\r",
      "ep 2658 : reward 8.0\r",
      "ep 2659 : reward 9.0\r"
     ]
    },
    {
     "name": "stdout",
     "output_type": "stream",
     "text": [
      "ep 2660 : reward 9.0\r",
      "ep 2661 : reward 10.0\r",
      "ep 2662 : reward 9.0\r",
      "ep 2663 : reward 10.0\r",
      "ep 2664 : reward 10.0\r",
      "ep 2665 : reward 9.0\r",
      "ep 2666 : reward 8.0\r",
      "ep 2667 : reward 10.0\r",
      "ep 2668 : reward 9.0\r"
     ]
    },
    {
     "name": "stdout",
     "output_type": "stream",
     "text": [
      "ep 2669 : reward 9.0\r",
      "ep 2670 : reward 10.0\r",
      "ep 2671 : reward 9.0\r",
      "ep 2672 : reward 12.0\r",
      "ep 2673 : reward 9.0\r",
      "ep 2674 : reward 9.0\r",
      "ep 2675 : reward 10.0\r",
      "ep 2676 : reward 9.0\r"
     ]
    },
    {
     "name": "stdout",
     "output_type": "stream",
     "text": [
      "ep 2677 : reward 10.0\r",
      "ep 2678 : reward 10.0\r",
      "ep 2679 : reward 9.0\r",
      "ep 2680 : reward 9.0\r",
      "ep 2681 : reward 11.0\r",
      "ep 2682 : reward 8.0\r",
      "ep 2683 : reward 9.0\r",
      "ep 2684 : reward 9.0\r",
      "ep 2685 : reward 9.0\r"
     ]
    },
    {
     "name": "stdout",
     "output_type": "stream",
     "text": [
      "ep 2686 : reward 10.0\r",
      "ep 2687 : reward 10.0\r",
      "ep 2688 : reward 8.0\r",
      "ep 2689 : reward 8.0\r",
      "ep 2690 : reward 10.0\r",
      "ep 2691 : reward 9.0\r",
      "ep 2692 : reward 9.0\r",
      "ep 2693 : reward 9.0\r",
      "ep 2694 : reward 10.0\r"
     ]
    },
    {
     "name": "stdout",
     "output_type": "stream",
     "text": [
      "ep 2695 : reward 9.0\r",
      "ep 2696 : reward 10.0\r",
      "ep 2697 : reward 9.0\r",
      "ep 2698 : reward 8.0\r",
      "ep 2699 : reward 10.0\r",
      "ep 2700 : reward 8.0\r",
      "ep 2701 : reward 11.0\r",
      "ep 2702 : reward 9.0\r",
      "ep 2703 : reward 10.0\r"
     ]
    },
    {
     "name": "stdout",
     "output_type": "stream",
     "text": [
      "ep 2704 : reward 9.0\r",
      "ep 2705 : reward 10.0\r",
      "ep 2706 : reward 10.0\r",
      "ep 2707 : reward 9.0\r",
      "ep 2708 : reward 9.0\r",
      "ep 2709 : reward 9.0\r",
      "ep 2710 : reward 8.0\r",
      "ep 2711 : reward 9.0\r",
      "ep 2712 : reward 10.0\r"
     ]
    },
    {
     "name": "stdout",
     "output_type": "stream",
     "text": [
      "ep 2713 : reward 10.0\r",
      "ep 2714 : reward 9.0\r",
      "ep 2715 : reward 9.0\r",
      "ep 2716 : reward 10.0\r",
      "ep 2717 : reward 10.0\r",
      "ep 2718 : reward 12.0\r",
      "ep 2719 : reward 10.0\r"
     ]
    },
    {
     "name": "stdout",
     "output_type": "stream",
     "text": [
      "ep 2720 : reward 11.0\r",
      "ep 2721 : reward 10.0\r",
      "ep 2722 : reward 9.0\r",
      "ep 2723 : reward 8.0\r",
      "ep 2724 : reward 10.0\r",
      "ep 2725 : reward 9.0\r",
      "ep 2726 : reward 10.0\r",
      "ep 2727 : reward 9.0\r",
      "ep 2728 : reward 8.0\r",
      "ep 2729 : reward 8.0\r"
     ]
    },
    {
     "name": "stdout",
     "output_type": "stream",
     "text": [
      "ep 2730 : reward 8.0\r",
      "ep 2731 : reward 10.0\r",
      "ep 2732 : reward 10.0\r",
      "ep 2733 : reward 10.0\r",
      "ep 2734 : reward 9.0\r",
      "ep 2735 : reward 9.0\r",
      "ep 2736 : reward 11.0\r",
      "ep 2737 : reward 9.0\r"
     ]
    },
    {
     "name": "stdout",
     "output_type": "stream",
     "text": [
      "ep 2738 : reward 10.0\r",
      "ep 2739 : reward 10.0\r",
      "ep 2740 : reward 9.0\r",
      "ep 2741 : reward 9.0\r",
      "ep 2742 : reward 9.0\r",
      "ep 2743 : reward 10.0\r",
      "ep 2744 : reward 10.0\r",
      "ep 2745 : reward 11.0\r",
      "ep 2746 : reward 9.0\r"
     ]
    },
    {
     "name": "stdout",
     "output_type": "stream",
     "text": [
      "ep 2747 : reward 10.0\r",
      "ep 2748 : reward 9.0\r",
      "ep 2749 : reward 10.0\r",
      "ep 2750 : reward 11.0\r",
      "ep 2751 : reward 9.0\r",
      "ep 2752 : reward 10.0\r",
      "ep 2753 : reward 12.0\r",
      "ep 2754 : reward 9.0\r"
     ]
    },
    {
     "name": "stdout",
     "output_type": "stream",
     "text": [
      "ep 2755 : reward 10.0\r",
      "ep 2756 : reward 9.0\r",
      "ep 2757 : reward 10.0\r",
      "ep 2758 : reward 10.0\r"
     ]
    },
    {
     "name": "stdout",
     "output_type": "stream",
     "text": [
      "ep 2759 : reward 96.0\r",
      "ep 2760 : reward 10.0\r",
      "ep 2761 : reward 11.0\r"
     ]
    },
    {
     "name": "stdout",
     "output_type": "stream",
     "text": [
      "ep 2762 : reward 123.0\r"
     ]
    },
    {
     "name": "stdout",
     "output_type": "stream",
     "text": [
      "ep 2763 : reward 320.0\r"
     ]
    },
    {
     "name": "stdout",
     "output_type": "stream",
     "text": [
      "ep 2764 : reward 181.0\r"
     ]
    },
    {
     "name": "stdout",
     "output_type": "stream",
     "text": [
      "ep 2765 : reward 160.0\r"
     ]
    },
    {
     "name": "stdout",
     "output_type": "stream",
     "text": [
      "ep 2766 : reward 189.0\r"
     ]
    },
    {
     "name": "stdout",
     "output_type": "stream",
     "text": [
      "ep 2767 : reward 193.0\r"
     ]
    },
    {
     "name": "stdout",
     "output_type": "stream",
     "text": [
      "ep 2768 : reward 186.0\r"
     ]
    },
    {
     "name": "stdout",
     "output_type": "stream",
     "text": [
      "ep 2769 : reward 348.0\r"
     ]
    },
    {
     "name": "stdout",
     "output_type": "stream",
     "text": [
      "ep 2770 : reward 230.0\r"
     ]
    },
    {
     "name": "stdout",
     "output_type": "stream",
     "text": [
      "ep 2771 : reward 367.0\r"
     ]
    },
    {
     "name": "stdout",
     "output_type": "stream",
     "text": [
      "ep 2772 : reward 366.0\r"
     ]
    },
    {
     "name": "stdout",
     "output_type": "stream",
     "text": [
      "ep 2773 : reward 362.0\r"
     ]
    },
    {
     "name": "stdout",
     "output_type": "stream",
     "text": [
      "ep 2774 : reward 219.0\r"
     ]
    },
    {
     "name": "stdout",
     "output_type": "stream",
     "text": [
      "ep 2775 : reward 299.0\r"
     ]
    },
    {
     "name": "stdout",
     "output_type": "stream",
     "text": [
      "ep 2776 : reward 202.0\r"
     ]
    },
    {
     "name": "stdout",
     "output_type": "stream",
     "text": [
      "ep 2777 : reward 207.0\r"
     ]
    },
    {
     "name": "stdout",
     "output_type": "stream",
     "text": [
      "ep 2778 : reward 218.0\r"
     ]
    },
    {
     "name": "stdout",
     "output_type": "stream",
     "text": [
      "ep 2779 : reward 333.0\r"
     ]
    },
    {
     "name": "stdout",
     "output_type": "stream",
     "text": [
      "ep 2780 : reward 185.0\r"
     ]
    },
    {
     "name": "stdout",
     "output_type": "stream",
     "text": [
      "ep 2781 : reward 217.0\r"
     ]
    },
    {
     "name": "stdout",
     "output_type": "stream",
     "text": [
      "ep 2782 : reward 215.0\r"
     ]
    }
   ],
   "source": [
    "for i in range(episode_count):\n",
    "    ob = env.reset()\n",
    "    rewardSum = 0\n",
    "    steps = 0\n",
    "    done = False\n",
    "    while not done:\n",
    "        with torch.no_grad():\n",
    "            action = agent.choose_action(ob, reward, done)\n",
    "        current_state = ob\n",
    "        if render:\n",
    "            if i % episode_render == 0:\n",
    "                env.render()\n",
    "            elif (i - 1) % episode_render == 0:\n",
    "                env.close()\n",
    "        ob, reward, done, _ = env.step(action)\n",
    "        rewardSum += reward\n",
    "        steps += 1\n",
    "\n",
    "        # Experience replay\n",
    "        agent.experience(current_state, action, reward, ob, done)\n",
    "        minibatch = agent.minibatch(size=batch_size)\n",
    "        for batch in minibatch:\n",
    "            optimizer.zero_grad()\n",
    "            with torch.no_grad():\n",
    "                yj = batch.reward\n",
    "                if not batch.done:\n",
    "                    yj += agent.gamma * agent.qvalue(batch.next_state).max().item()\n",
    "            qvalues = agent.qvalue(batch.state)\n",
    "            real_y = qvalues.clone()\n",
    "            # print(f\"size : {qvalues.size()}\")\n",
    "            # print(f\"real : {real_y}\")\n",
    "            # real_y = torch.zeros(qvalues.size())\n",
    "            new_q = (qvalues[batch.action].item() - yj) ** 2\n",
    "            real_y[batch.action] = new_q\n",
    "            # print(f\"old {real_y[batch.action].item()}\")\n",
    "            # print(f\"new {new_q}\")\n",
    "            # print(f\"new ? {real_y[batch.action].item()}\")\n",
    "            # print(f\"qvalues {qvalues}\")\n",
    "            # print(f\"real_y {real_y}\")\n",
    "            loss = criterion(qvalues, real_y)\n",
    "            loss.backward()\n",
    "            optimizer.step()\n",
    "        if done:\n",
    "            print(f\"ep {i} : reward {rewardSum}\", end=\"\\r\")\n",
    "            rewards.append(rewardSum)\n",
    "\n",
    "\n"
   ]
  },
  {
   "cell_type": "code",
   "execution_count": 26,
   "metadata": {
    "autoscroll": false,
    "collapsed": false,
    "ein.hycell": false,
    "ein.tags": "worksheet-0",
    "slideshow": {
     "slide_type": "-"
    }
   },
   "outputs": [
    {
     "name": "stdout",
     "output_type": "stream",
     "text": [
      "INFO: Finished writing results. You can upload them to the scoreboard via gym.upload('/tmp/random-agent-results')\n"
     ]
    },
    {
     "data": {
      "text/plain": [
       "[9.0,\n 10.0,\n 10.0,\n 8.0,\n 10.0,\n 9.0,\n 10.0,\n 10.0,\n 10.0,\n 9.0,\n 11.0,\n 8.0,\n 11.0,\n 10.0,\n 8.0,\n 10.0,\n 9.0,\n 10.0,\n 10.0,\n 9.0,\n 11.0,\n 9.0,\n 10.0,\n 9.0,\n 11.0,\n 9.0,\n 9.0,\n 11.0,\n 10.0,\n 9.0,\n 9.0,\n 10.0,\n 10.0,\n 10.0,\n 10.0,\n 9.0,\n 9.0,\n 9.0,\n 10.0,\n 9.0,\n 9.0,\n 9.0,\n 10.0,\n 9.0,\n 10.0,\n 10.0,\n 10.0,\n 8.0,\n 10.0,\n 8.0,\n 9.0,\n 8.0,\n 10.0,\n 8.0,\n 8.0,\n 9.0,\n 10.0,\n 12.0,\n 9.0,\n 10.0,\n 10.0,\n 9.0,\n 10.0,\n 10.0,\n 10.0,\n 9.0,\n 9.0,\n 10.0,\n 8.0,\n 9.0,\n 11.0,\n 12.0,\n 9.0,\n 9.0,\n 8.0,\n 10.0,\n 10.0,\n 11.0,\n 9.0,\n 10.0,\n 10.0,\n 9.0,\n 10.0,\n 11.0,\n 10.0,\n 10.0,\n 11.0,\n 12.0,\n 8.0,\n 8.0,\n 10.0,\n 10.0,\n 11.0,\n 9.0,\n 9.0,\n 9.0,\n 11.0,\n 9.0,\n 8.0,\n 9.0,\n 9.0,\n 10.0,\n 9.0,\n 9.0,\n 9.0,\n 9.0,\n 10.0,\n 10.0,\n 10.0,\n 9.0,\n 9.0,\n 11.0,\n 10.0,\n 9.0,\n 10.0,\n 9.0,\n 10.0,\n 11.0,\n 10.0,\n 8.0,\n 11.0,\n 10.0,\n 10.0,\n 8.0,\n 9.0,\n 8.0,\n 8.0,\n 11.0,\n 10.0,\n 8.0,\n 10.0,\n 10.0,\n 10.0,\n 10.0,\n 12.0,\n 10.0,\n 9.0,\n 10.0,\n 10.0,\n 9.0,\n 10.0,\n 10.0,\n 9.0,\n 8.0,\n 9.0,\n 9.0,\n 9.0,\n 8.0,\n 10.0,\n 9.0,\n 8.0,\n 10.0,\n 9.0,\n 10.0,\n 9.0,\n 10.0,\n 10.0,\n 9.0,\n 10.0,\n 8.0,\n 10.0,\n 10.0,\n 9.0,\n 9.0,\n 9.0,\n 9.0,\n 10.0,\n 9.0,\n 11.0,\n 8.0,\n 11.0,\n 8.0,\n 9.0,\n 8.0,\n 9.0,\n 9.0,\n 9.0,\n 10.0,\n 9.0,\n 10.0,\n 11.0,\n 8.0,\n 9.0,\n 9.0,\n 10.0,\n 10.0,\n 10.0,\n 10.0,\n 8.0,\n 8.0,\n 9.0,\n 10.0,\n 9.0,\n 11.0,\n 10.0,\n 10.0,\n 11.0,\n 9.0,\n 10.0,\n 9.0,\n 10.0,\n 9.0,\n 9.0,\n 11.0,\n 8.0,\n 9.0,\n 9.0,\n 10.0,\n 8.0,\n 10.0,\n 9.0,\n 9.0,\n 9.0,\n 10.0,\n 9.0,\n 8.0,\n 10.0,\n 9.0,\n 9.0,\n 12.0,\n 11.0,\n 10.0,\n 11.0,\n 10.0,\n 10.0,\n 10.0,\n 10.0,\n 10.0,\n 10.0,\n 10.0,\n 9.0,\n 13.0,\n 11.0,\n 11.0,\n 9.0,\n 11.0,\n 8.0,\n 11.0,\n 10.0,\n 10.0,\n 10.0,\n 10.0,\n 10.0,\n 9.0,\n 9.0,\n 10.0,\n 10.0,\n 10.0,\n 10.0,\n 9.0,\n 10.0,\n 8.0,\n 9.0,\n 11.0,\n 10.0,\n 9.0,\n 8.0,\n 9.0,\n 10.0,\n 9.0,\n 9.0,\n 12.0,\n 10.0,\n 9.0,\n 8.0,\n 9.0,\n 12.0,\n 12.0,\n 10.0,\n 10.0,\n 10.0,\n 11.0,\n 10.0,\n 10.0,\n 9.0,\n 11.0,\n 10.0,\n 10.0,\n 10.0,\n 9.0,\n 9.0,\n 8.0,\n 9.0,\n 10.0,\n 10.0,\n 8.0,\n 9.0,\n 12.0,\n 8.0,\n 10.0,\n 11.0,\n 10.0,\n 9.0,\n 10.0,\n 9.0,\n 10.0,\n 8.0,\n 10.0,\n 10.0,\n 11.0,\n 9.0,\n 10.0,\n 9.0,\n 9.0,\n 10.0,\n 9.0,\n 8.0,\n 10.0,\n 9.0,\n 8.0,\n 9.0,\n 10.0,\n 9.0,\n 11.0,\n 9.0,\n 10.0,\n 9.0,\n 10.0,\n 9.0,\n 10.0,\n 10.0,\n 10.0,\n 9.0,\n 10.0,\n 9.0,\n 8.0,\n 9.0,\n 9.0,\n 11.0,\n 10.0,\n 9.0,\n 10.0,\n 9.0,\n 10.0,\n 9.0,\n 9.0,\n 9.0,\n 9.0,\n 10.0,\n 10.0,\n 10.0,\n 10.0,\n 9.0,\n 9.0,\n 8.0,\n 9.0,\n 8.0,\n 9.0,\n 9.0,\n 11.0,\n 9.0,\n 9.0,\n 9.0,\n 9.0,\n 10.0,\n 8.0,\n 9.0,\n 8.0,\n 11.0,\n 8.0,\n 9.0,\n 10.0,\n 8.0,\n 9.0,\n 11.0,\n 10.0,\n 9.0,\n 9.0,\n 9.0,\n 9.0,\n 9.0,\n 12.0,\n 9.0,\n 9.0,\n 9.0,\n 10.0,\n 9.0,\n 9.0,\n 9.0,\n 10.0,\n 10.0,\n 10.0,\n 9.0,\n 9.0,\n 8.0,\n 9.0,\n 10.0,\n 10.0,\n 10.0,\n 10.0,\n 9.0,\n 10.0,\n 12.0,\n 9.0,\n 10.0,\n 10.0,\n 10.0,\n 9.0,\n 9.0,\n 10.0,\n 10.0,\n 9.0,\n 9.0,\n 12.0,\n 9.0,\n 9.0,\n 8.0,\n 10.0,\n 10.0,\n 9.0,\n 9.0,\n 10.0,\n 9.0,\n 10.0,\n 11.0,\n 10.0,\n 9.0,\n 10.0,\n 9.0,\n 8.0,\n 10.0,\n 11.0,\n 10.0,\n 10.0,\n 9.0,\n 9.0,\n 9.0,\n 12.0,\n 11.0,\n 9.0,\n 9.0,\n 10.0,\n 10.0,\n 10.0,\n 10.0,\n 10.0,\n 9.0,\n 8.0,\n 9.0,\n 9.0,\n 8.0,\n 10.0,\n 10.0,\n 10.0,\n 9.0,\n 9.0,\n 10.0,\n 11.0,\n 9.0,\n 11.0,\n 9.0,\n 9.0,\n 9.0,\n 9.0,\n 10.0,\n 12.0,\n 11.0,\n 10.0,\n 10.0,\n 10.0,\n 9.0,\n 8.0,\n 10.0,\n 10.0,\n 10.0,\n 11.0,\n 10.0,\n 10.0,\n 12.0,\n 10.0,\n 10.0,\n 10.0,\n 10.0,\n 9.0,\n 10.0,\n 8.0,\n 9.0,\n 11.0,\n 8.0,\n 9.0,\n 10.0,\n 10.0,\n 13.0,\n 9.0,\n 11.0,\n 9.0,\n 11.0,\n 8.0,\n 10.0,\n 10.0,\n 11.0,\n 9.0,\n 10.0,\n 9.0,\n 11.0,\n 9.0,\n 9.0,\n 10.0,\n 10.0,\n 10.0,\n 12.0,\n 10.0,\n 8.0,\n 9.0,\n 10.0,\n 11.0,\n 9.0,\n 9.0,\n 10.0,\n 10.0,\n 9.0,\n 11.0,\n 10.0,\n 9.0,\n 9.0,\n 9.0,\n 11.0,\n 9.0,\n 10.0,\n 10.0,\n 9.0,\n 10.0,\n 11.0,\n 12.0,\n 10.0,\n 10.0,\n 11.0,\n 11.0,\n 9.0,\n 10.0,\n 10.0,\n 15.0,\n 14.0,\n 11.0,\n 9.0,\n 9.0,\n 9.0,\n 9.0,\n 9.0,\n 8.0,\n 9.0,\n 10.0,\n 8.0,\n 8.0,\n 12.0,\n 11.0,\n 10.0,\n 10.0,\n 9.0,\n 10.0,\n 9.0,\n 10.0,\n 8.0,\n 11.0,\n 9.0,\n 11.0,\n 10.0,\n 10.0,\n 10.0,\n 8.0,\n 9.0,\n 9.0,\n 8.0,\n 11.0,\n 9.0,\n 9.0,\n 10.0,\n 10.0,\n 9.0,\n 9.0,\n 9.0,\n 12.0,\n 10.0,\n 10.0,\n 10.0,\n 10.0,\n 11.0,\n 9.0,\n 10.0,\n 9.0,\n 12.0,\n 9.0,\n 9.0,\n 9.0,\n 9.0,\n 9.0,\n 10.0,\n 9.0,\n 10.0,\n 8.0,\n 10.0,\n 9.0,\n 9.0,\n 9.0,\n 9.0,\n 10.0,\n 9.0,\n 9.0,\n 9.0,\n 10.0,\n 10.0,\n 10.0,\n 10.0,\n 9.0,\n 10.0,\n 8.0,\n 10.0,\n 13.0,\n 10.0,\n 9.0,\n 10.0,\n 10.0,\n 10.0,\n 10.0,\n 9.0,\n 9.0,\n 9.0,\n 10.0,\n 10.0,\n 10.0,\n 13.0,\n 9.0,\n 9.0,\n 10.0,\n 9.0,\n 9.0,\n 11.0,\n 8.0,\n 9.0,\n 9.0,\n 10.0,\n 11.0,\n 8.0,\n 9.0,\n 9.0,\n 9.0,\n 10.0,\n 10.0,\n 9.0,\n 9.0,\n 10.0,\n 9.0,\n 11.0,\n 8.0,\n 11.0,\n 10.0,\n 9.0,\n 9.0,\n 9.0,\n 9.0,\n 10.0,\n 8.0,\n 10.0,\n 8.0,\n 11.0,\n 11.0,\n 12.0,\n 9.0,\n 11.0,\n 9.0,\n 9.0,\n 9.0,\n 10.0,\n 9.0,\n 8.0,\n 9.0,\n 9.0,\n 10.0,\n 11.0,\n 10.0,\n 9.0,\n 10.0,\n 10.0,\n 8.0,\n 9.0,\n 9.0,\n 8.0,\n 9.0,\n 9.0,\n 11.0,\n 10.0,\n 10.0,\n 9.0,\n 9.0,\n 11.0,\n 9.0,\n 9.0,\n 9.0,\n 9.0,\n 10.0,\n 10.0,\n 11.0,\n 10.0,\n 9.0,\n 9.0,\n 9.0,\n 10.0,\n 11.0,\n 10.0,\n 10.0,\n 10.0,\n 10.0,\n 13.0,\n 10.0,\n 11.0,\n 9.0,\n 9.0,\n 9.0,\n 10.0,\n 11.0,\n 8.0,\n 8.0,\n 10.0,\n 9.0,\n 9.0,\n 8.0,\n 10.0,\n 10.0,\n 8.0,\n 10.0,\n 11.0,\n 9.0,\n 10.0,\n 10.0,\n 8.0,\n 8.0,\n 9.0,\n 9.0,\n 9.0,\n 10.0,\n 12.0,\n 9.0,\n 9.0,\n 9.0,\n 10.0,\n 11.0,\n 9.0,\n 9.0,\n 10.0,\n 10.0,\n 10.0,\n 9.0,\n 10.0,\n 10.0,\n 9.0,\n 8.0,\n 12.0,\n 10.0,\n 9.0,\n 8.0,\n 11.0,\n 14.0,\n 8.0,\n 9.0,\n 10.0,\n 9.0,\n 10.0,\n 9.0,\n 11.0,\n 11.0,\n 10.0,\n 9.0,\n 10.0,\n 9.0,\n 12.0,\n 10.0,\n 9.0,\n 9.0,\n 10.0,\n 10.0,\n 9.0,\n 10.0,\n 10.0,\n 8.0,\n 9.0,\n 10.0,\n 9.0,\n 10.0,\n 8.0,\n 10.0,\n 11.0,\n 11.0,\n 8.0,\n 10.0,\n 9.0,\n 9.0,\n 10.0,\n 9.0,\n 10.0,\n 9.0,\n 12.0,\n 10.0,\n 10.0,\n 9.0,\n 8.0,\n 10.0,\n 10.0,\n 9.0,\n 10.0,\n 9.0,\n 9.0,\n 10.0,\n 10.0,\n 9.0,\n 10.0,\n 10.0,\n 10.0,\n 10.0,\n 8.0,\n 10.0,\n 10.0,\n 9.0,\n 9.0,\n 8.0,\n 10.0,\n 10.0,\n 9.0,\n 10.0,\n 9.0,\n 9.0,\n 10.0,\n 9.0,\n 10.0,\n 10.0,\n 10.0,\n 9.0,\n 9.0,\n 8.0,\n 9.0,\n 10.0,\n 10.0,\n 9.0,\n 8.0,\n 11.0,\n 11.0,\n 10.0,\n 9.0,\n 10.0,\n 11.0,\n 10.0,\n 11.0,\n 9.0,\n 9.0,\n 9.0,\n 10.0,\n 10.0,\n 10.0,\n 9.0,\n 10.0,\n 8.0,\n 10.0,\n 9.0,\n 10.0,\n 9.0,\n 10.0,\n 15.0,\n 10.0,\n 9.0,\n 10.0,\n 10.0,\n 9.0,\n 10.0,\n 9.0,\n 9.0,\n 10.0,\n 9.0,\n 10.0,\n 9.0,\n 10.0,\n 11.0,\n 9.0,\n 9.0,\n 9.0,\n 8.0,\n 10.0,\n 9.0,\n 10.0,\n 9.0,\n 9.0,\n 9.0,\n 9.0,\n 10.0,\n 10.0,\n 10.0,\n 12.0,\n 12.0,\n 9.0,\n 10.0,\n 8.0,\n 10.0,\n 11.0,\n 10.0,\n 10.0,\n 10.0,\n 9.0,\n 10.0,\n 8.0,\n 9.0,\n 11.0,\n 10.0,\n 11.0,\n 10.0,\n 12.0,\n 9.0,\n 10.0,\n 12.0,\n 9.0,\n 9.0,\n 10.0,\n 9.0,\n 11.0,\n 11.0,\n 8.0,\n 10.0,\n 9.0,\n 11.0,\n 11.0,\n 10.0,\n 9.0,\n 9.0,\n 10.0,\n 9.0,\n 10.0,\n 10.0,\n 10.0,\n 10.0,\n 10.0,\n 10.0,\n 9.0,\n 8.0,\n 9.0,\n 10.0,\n 8.0,\n 10.0,\n 11.0,\n 13.0,\n 9.0,\n 10.0,\n 9.0,\n 9.0,\n 11.0,\n 12.0,\n 9.0,\n 10.0,\n 13.0,\n 10.0,\n 8.0,\n 9.0,\n 9.0,\n 10.0,\n 11.0,\n 9.0,\n 10.0,\n 10.0,\n 9.0,\n 10.0,\n 10.0,\n 9.0,\n 10.0,\n 9.0,\n 9.0,\n 8.0,\n 9.0,\n 10.0,\n 9.0,\n 10.0,\n 9.0,\n 10.0,\n 10.0,\n 11.0,\n 10.0,\n 12.0,\n 10.0,\n 9.0,\n 9.0,\n 10.0,\n 10.0,\n 10.0,\n 17.0,\n 9.0,\n 22.0,\n 11.0,\n 11.0,\n 10.0,\n 9.0,\n 9.0,\n 10.0,\n 9.0,\n 11.0,\n 11.0,\n 9.0,\n 11.0,\n 8.0,\n 9.0,\n 10.0,\n 8.0,\n 9.0,\n 10.0,\n 9.0,\n 9.0,\n ...]"
      ]
     },
     "execution_count": 26,
     "metadata": {},
     "output_type": "execute_result"
    }
   ],
   "source": [
    "env.close()\n",
    "rewards"
   ]
  },
  {
   "cell_type": "code",
   "execution_count": 20,
   "metadata": {
    "autoscroll": false,
    "collapsed": false,
    "ein.hycell": false,
    "ein.tags": "worksheet-0",
    "slideshow": {
     "slide_type": "-"
    }
   },
   "outputs": [],
   "source": [
    "eta = 0.01"
   ]
  },
  {
   "cell_type": "code",
   "execution_count": 33,
   "metadata": {
    "autoscroll": false,
    "collapsed": false,
    "ein.hycell": false,
    "ein.tags": "worksheet-0",
    "slideshow": {
     "slide_type": "-"
    }
   },
   "outputs": [
    {
     "data": {
      "image/png": "[encoded data removed]",
      "text/plain": [
       "<Figure size 720x720 with 1 Axes>"
      ]
     },
     "metadata": {},
     "output_type": "display_data"
    }
   ],
   "source": [
    "plot_reward(rewards, \"Evolution des récompenses cumulées\", file_name=f\"{episode_count}_{batch_size}_e{len(rewards)}_eta{eta}\", mean_size=1, type_graph=\"dot\")"
   ]
  },
  {
   "cell_type": "code",
   "execution_count": 34,
   "metadata": {
    "autoscroll": false,
    "collapsed": false,
    "ein.hycell": false,
    "ein.tags": "worksheet-0",
    "slideshow": {
     "slide_type": "-"
    }
   },
   "outputs": [
    {
     "data": {
      "image/png": "[encoded data removed]",
      "text/plain": [
       "<Figure size 720x720 with 1 Axes>"
      ]
     },
     "metadata": {},
     "output_type": "display_data"
    }
   ],
   "source": [
    "plot_reward(rewards, \"Evolution des récompenses cumulées\", file_name=f\"{episode_count}_{batch_size}_e{len(rewards)}_eta{eta}\", mean_size=1, type_graph=\"bar\")"
   ]
  },
  {
   "cell_type": "code",
   "execution_count": null,
   "metadata": {
    "autoscroll": false,
    "collapsed": false,
    "ein.hycell": false,
    "ein.tags": "worksheet-0",
    "slideshow": {
     "slide_type": "-"
    }
   },
   "outputs": [],
   "source": []
  }
 ],
 "metadata": {
  "kernelspec": {
   "argv": [
    "/home/gary/.virtualenvs/deeprl/bin/python",
    "-m",
    "ipykernel_launcher",
    "-f",
    "{connection_file}"
   ],
   "display_name": "deeprl",
   "env": null,
   "interrupt_mode": "signal",
   "language": "python",
   "metadata": null,
   "name": "deeprl"
  },
  "name": "experience_replay.ipynb"
 },
 "nbformat": 4,
 "nbformat_minor": 2
}
