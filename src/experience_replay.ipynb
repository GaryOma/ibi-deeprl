{
 "cells": [
  {
   "cell_type": "code",
   "execution_count": 1,
   "metadata": {
    "autoscroll": false,
    "collapsed": false,
    "ein.hycell": false,
    "ein.tags": "worksheet-0",
    "slideshow": {
     "slide_type": "-"
    }
   },
   "outputs": [],
   "source": [
    "from collections import deque\n",
    "\n",
    "import gym\n",
    "from gym import wrappers, logger\n",
    "\n",
    "import random\n",
    "\n",
    "import torch\n",
    "import torch.nn as nn\n",
    "import torch.optim as optim\n",
    "import torch.nn.functional as F\n",
    "\n",
    "import numpy as np\n",
    "\n",
    "import matplotlib.pyplot as plt"
   ]
  },
  {
   "cell_type": "code",
   "execution_count": 2,
   "metadata": {
    "autoscroll": false,
    "collapsed": false,
    "ein.hycell": false,
    "ein.tags": "worksheet-0",
    "slideshow": {
     "slide_type": "-"
    }
   },
   "outputs": [],
   "source": [
    "SAV = \"img/\""
   ]
  },
  {
   "cell_type": "code",
   "execution_count": 3,
   "metadata": {
    "autoscroll": false,
    "collapsed": false,
    "ein.hycell": false,
    "ein.tags": "worksheet-0",
    "slideshow": {
     "slide_type": "-"
    }
   },
   "outputs": [],
   "source": [
    "def plot_reward(rewards, title=\"\", file_name=\"error\", mean_size=100, type_graph=\"dot\"):\n",
    "    list_e = []\n",
    "    x_s = []\n",
    "    i = 0\n",
    "    if mean_size < 2:\n",
    "        list_e = rewards\n",
    "        x_s = range(len(rewards))\n",
    "    else:\n",
    "        while i < len(rewards):\n",
    "            max_mean = i + mean_size\n",
    "            if max_mean >= len(rewards):\n",
    "                max_mean = len(rewards) - 1\n",
    "            list_e.append(sum(rewards[i:max_mean])/(max_mean - i))\n",
    "            x_s.append((max_mean + i)/2)\n",
    "            i += mean_size\n",
    "    # for error in errors:\n",
    "    #     list_e.append(error.item())\n",
    "    plt.figure(figsize=(10, 10))\n",
    "    if type_graph == \"dot\":\n",
    "        plt.plot(x_s, list_e, 'ok')\n",
    "    else:\n",
    "        # plt.bar(x_s, list_e)\n",
    "        plt.plot(list_e, 'k')\n",
    "    plt.ylabel(\"Récompense\")\n",
    "    plt.xlabel(\"Itération\")\n",
    "    plt.title(title)\n",
    "    if file_name:\n",
    "        plt.savefig(f\"{SAV}{env_name}/{type_graph}_{file_name}.png\")\n",
    "    plt.show()\n"
   ]
  },
  {
   "cell_type": "code",
   "execution_count": 5,
   "metadata": {
    "autoscroll": false,
    "collapsed": false,
    "ein.hycell": false,
    "ein.tags": "worksheet-0",
    "slideshow": {
     "slide_type": "-"
    }
   },
   "outputs": [],
   "source": [
    "class Experience:\n",
    "    def __init__(self, _state, _action, _reward, _next_state, _done):\n",
    "        self.state = _state\n",
    "        self.action = _action\n",
    "        self.reward = _reward\n",
    "        self.next_state = _next_state\n",
    "        self.done = _done"
   ]
  },
  {
   "cell_type": "code",
   "execution_count": 6,
   "metadata": {
    "autoscroll": false,
    "collapsed": false,
    "ein.hycell": false,
    "ein.tags": "worksheet-0",
    "slideshow": {
     "slide_type": "-"
    }
   },
   "outputs": [],
   "source": [
    "env_name = 'CartPole-v1'"
   ]
  },
  {
   "cell_type": "code",
   "execution_count": 8,
   "metadata": {
    "autoscroll": false,
    "collapsed": false,
    "ein.hycell": false,
    "ein.tags": "worksheet-0",
    "slideshow": {
     "slide_type": "-"
    }
   },
   "outputs": [],
   "source": [
    "class Net(nn.Module):\n",
    "    def __init__(self, in_size, out_size):\n",
    "        super(Net, self).__init__()\n",
    "        print(in_size, out_size)\n",
    "        self.in_l = nn.Linear(in_size, out_size)\n",
    "        # self.in_l = nn.Linear(in_size, 3)\n",
    "        # self.in_l2 = nn.Linear(3, out_size)\n",
    "\n",
    "    def forward(self, x):\n",
    "        x = F.sigmoid(self.in_l(x))\n",
    "        # x = F.sigmoid(self.in_l2(x))\n",
    "        return x"
   ]
  },
  {
   "cell_type": "code",
   "execution_count": 43,
   "metadata": {
    "autoscroll": false,
    "collapsed": false,
    "ein.hycell": false,
    "ein.tags": "worksheet-0",
    "slideshow": {
     "slide_type": "-"
    }
   },
   "outputs": [],
   "source": [
    "class Agent:\n",
    "    def __init__(self, _net, _in_size, _out_size):\n",
    "        self.mem = deque(maxlen=10000)\n",
    "        self.net = _net\n",
    "        self.gamma = 0.95\n",
    "        self.in_size = _in_size\n",
    "        self.out_size = _out_size\n",
    "\n",
    "    def choose_action(self, _observation, _reward, _done):\n",
    "        qvalues = self.qvalue(_observation)\n",
    "        # action_ind = self.epsilongreedy(_observation, epsilon=0.05)\n",
    "        action_ind = self.boltzmann(_observation, tau=0.1)\n",
    "        return action_ind\n",
    "\n",
    "    def experience(self, _state, _action, _reward, _next_state, _done):\n",
    "        self.mem.append(Experience(_state, _action, _reward, _next_state, _done))\n",
    "\n",
    "    def minibatch(self, size=5):\n",
    "        batch_s = min(size, len(self.mem))\n",
    "        return random.sample(self.mem, batch_s)\n",
    "\n",
    "    def qvalue(self, state):\n",
    "        inp = torch.tensor(state).type(torch.FloatTensor)\n",
    "        out = self.net(inp)\n",
    "        # print(f\"inp {inp}\")\n",
    "        # print(f\"out {out}\")\n",
    "        return out\n",
    "\n",
    "    def epsilongreedy(self, ob, epsilon=0.5):\n",
    "        if np.random.random() < epsilon:\n",
    "            return np.random.randint(self.out_size)\n",
    "        else:\n",
    "            _, max_ind = self.qvalue(ob).max(0)\n",
    "            return max_ind.item()\n",
    "\n",
    "    def boltzmann(self, ob, tau=1000):\n",
    "        qvalues = self.qvalue(ob)\n",
    "        terms = torch.pow(np.e, torch.div(qvalues, tau))\n",
    "        sum_ = terms.sum()\n",
    "        probs = torch.div(terms, sum_)\n",
    "        probs = np.array(probs)\n",
    "        action_value = np.random.choice(probs,p=probs)\n",
    "        action = np.argmax(probs == action_value)\n",
    "        return action"
   ]
  },
  {
   "cell_type": "code",
   "execution_count": 10,
   "metadata": {
    "autoscroll": false,
    "collapsed": false,
    "ein.hycell": false,
    "ein.tags": "worksheet-0",
    "slideshow": {
     "slide_type": "-"
    }
   },
   "outputs": [
    {
     "ename": "NameError",
     "evalue": "name 'env' is not defined",
     "output_type": "error",
     "traceback": [
      "\u001b[0;31m\u001b[0m",
      "\u001b[0;31mNameError\u001b[0mTraceback (most recent call last)",
      "\u001b[0;32m<ipython-input-10-1baceacf4cb1>\u001b[0m in \u001b[0;36m<module>\u001b[0;34m\u001b[0m\n\u001b[0;32m----> 1\u001b[0;31m \u001b[0menv\u001b[0m\u001b[0;34m.\u001b[0m\u001b[0mclose\u001b[0m\u001b[0;34m(\u001b[0m\u001b[0;34m)\u001b[0m\u001b[0;34m\u001b[0m\u001b[0;34m\u001b[0m\u001b[0m\n\u001b[0m",
      "\u001b[0;31mNameError\u001b[0m: name 'env' is not defined"
     ]
    }
   ],
   "source": [
    "env.close()"
   ]
  },
  {
   "cell_type": "code",
   "execution_count": 47,
   "metadata": {
    "autoscroll": false,
    "collapsed": false,
    "ein.hycell": false,
    "ein.tags": "worksheet-0",
    "slideshow": {
     "slide_type": "-"
    }
   },
   "outputs": [
    {
     "name": "stdout",
     "output_type": "stream",
     "text": [
      "INFO: Making new env: CartPole-v1\n",
      "INFO: Clearing 2 monitor files from previous run (because force=True was provided)\n",
      "4 2\n"
     ]
    }
   ],
   "source": [
    "# You can set the level to logger.DEBUG or logger.WARN if you\n",
    "# want to change the amount of output.\n",
    "logger.set_level(logger.INFO)\n",
    "\n",
    "env = gym.make(env_name)\n",
    "\n",
    "# You provide the directory to write to (can be an existing\n",
    "# directory, including one with existing data -- all monitor files\n",
    "# will be namespaced). You can also dump to a tempdir if you'd\n",
    "# like: tempfile.mkdtemp().\n",
    "outdir = '/tmp/random-agent-results'\n",
    "env = wrappers.Monitor(env, directory=outdir, force=True, video_callable=False)\n",
    "env.seed(0)\n",
    "observation_size = env.observation_space.shape[0]\n",
    "action_size = env.action_space.n\n",
    "\n",
    "eta = 0.01\n",
    "net = Net(observation_size, env.action_space.n)\n",
    "criterion = nn.MSELoss()\n",
    "optimizer = optim.SGD(net.parameters(), lr=eta, momentum=0.9)\n",
    "agent = Agent(net, observation_size, env.action_space.n)\n",
    "\n",
    "render = True\n",
    "episode_count = 5000\n",
    "episode_render = 1000\n",
    "reward = 0\n",
    "batch_size = 5\n",
    "done = False\n",
    "\n",
    "rewards = []"
   ]
  },
  {
   "cell_type": "code",
   "execution_count": null,
   "metadata": {
    "autoscroll": false,
    "collapsed": false,
    "ein.hycell": false,
    "ein.tags": "worksheet-0",
    "slideshow": {
     "slide_type": "-"
    }
   },
   "outputs": [
    {
     "name": "stdout",
     "output_type": "stream",
     "text": [
      "ep 0 : reward 10.0\r",
      "INFO: Finished writing results. You can upload them to the scoreboard via gym.upload('/tmp/random-agent-results')\n",
      "ep 1 : reward 10.0\r",
      "ep 2 : reward 10.0\r",
      "ep 3 : reward 8.0\r",
      "ep 4 : reward 10.0\r",
      "ep 5 : reward 11.0\r",
      "ep 6 : reward 9.0\r",
      "ep 7 : reward 10.0\r"
     ]
    },
    {
     "name": "stdout",
     "output_type": "stream",
     "text": [
      "ep 8 : reward 10.0\r",
      "ep 9 : reward 17.0\r",
      "ep 10 : reward 14.0\r",
      "ep 11 : reward 9.0\r",
      "ep 12 : reward 12.0\r"
     ]
    },
    {
     "name": "stdout",
     "output_type": "stream",
     "text": [
      "ep 13 : reward 15.0\r",
      "ep 14 : reward 11.0\r",
      "ep 15 : reward 13.0\r",
      "ep 16 : reward 18.0\r"
     ]
    },
    {
     "name": "stdout",
     "output_type": "stream",
     "text": [
      "ep 17 : reward 19.0\r",
      "ep 18 : reward 12.0\r",
      "ep 19 : reward 11.0\r",
      "ep 20 : reward 21.0\r",
      "ep 21 : reward 11.0\r"
     ]
    },
    {
     "name": "stdout",
     "output_type": "stream",
     "text": [
      "ep 22 : reward 15.0\r",
      "ep 23 : reward 16.0\r",
      "ep 24 : reward 15.0\r",
      "ep 25 : reward 11.0\r",
      "ep 26 : reward 16.0\r"
     ]
    },
    {
     "name": "stdout",
     "output_type": "stream",
     "text": [
      "ep 27 : reward 18.0\r",
      "ep 28 : reward 28.0\r",
      "ep 29 : reward 15.0\r",
      "ep 30 : reward 12.0\r"
     ]
    },
    {
     "name": "stdout",
     "output_type": "stream",
     "text": [
      "ep 31 : reward 14.0\r",
      "ep 32 : reward 17.0\r"
     ]
    },
    {
     "name": "stdout",
     "output_type": "stream",
     "text": [
      "ep 33 : reward 69.0\r",
      "ep 34 : reward 33.0\r",
      "ep 35 : reward 23.0\r"
     ]
    },
    {
     "name": "stdout",
     "output_type": "stream",
     "text": [
      "ep 36 : reward 25.0\r",
      "ep 37 : reward 27.0\r"
     ]
    },
    {
     "name": "stdout",
     "output_type": "stream",
     "text": [
      "ep 38 : reward 51.0\r",
      "ep 39 : reward 16.0\r",
      "ep 40 : reward 23.0\r"
     ]
    },
    {
     "name": "stdout",
     "output_type": "stream",
     "text": [
      "ep 41 : reward 30.0\r",
      "ep 42 : reward 38.0\r",
      "ep 43 : reward 15.0\r"
     ]
    },
    {
     "name": "stdout",
     "output_type": "stream",
     "text": [
      "ep 44 : reward 20.0\r",
      "ep 45 : reward 12.0\r",
      "ep 46 : reward 27.0\r"
     ]
    },
    {
     "name": "stdout",
     "output_type": "stream",
     "text": [
      "ep 47 : reward 26.0\r",
      "ep 48 : reward 20.0\r",
      "ep 49 : reward 8.0\r",
      "ep 50 : reward 21.0\r"
     ]
    },
    {
     "name": "stdout",
     "output_type": "stream",
     "text": [
      "ep 51 : reward 19.0\r",
      "ep 52 : reward 15.0\r",
      "ep 53 : reward 16.0\r"
     ]
    },
    {
     "name": "stdout",
     "output_type": "stream",
     "text": [
      "ep 54 : reward 29.0\r",
      "ep 55 : reward 41.0\r"
     ]
    },
    {
     "name": "stdout",
     "output_type": "stream",
     "text": [
      "ep 56 : reward 18.0\r",
      "ep 57 : reward 25.0\r",
      "ep 58 : reward 15.0\r"
     ]
    },
    {
     "name": "stdout",
     "output_type": "stream",
     "text": [
      "ep 59 : reward 30.0\r",
      "ep 60 : reward 14.0\r",
      "ep 61 : reward 14.0\r"
     ]
    },
    {
     "name": "stdout",
     "output_type": "stream",
     "text": [
      "ep 62 : reward 37.0\r",
      "ep 63 : reward 31.0\r",
      "ep 64 : reward 20.0\r"
     ]
    },
    {
     "name": "stdout",
     "output_type": "stream",
     "text": [
      "ep 65 : reward 23.0\r",
      "ep 66 : reward 21.0\r",
      "ep 67 : reward 13.0\r",
      "ep 68 : reward 14.0\r"
     ]
    },
    {
     "name": "stdout",
     "output_type": "stream",
     "text": [
      "ep 69 : reward 31.0\r",
      "ep 70 : reward 19.0\r",
      "ep 71 : reward 22.0\r",
      "ep 72 : reward 12.0\r"
     ]
    },
    {
     "name": "stdout",
     "output_type": "stream",
     "text": [
      "ep 73 : reward 20.0\r",
      "ep 74 : reward 45.0\r"
     ]
    },
    {
     "name": "stdout",
     "output_type": "stream",
     "text": [
      "ep 75 : reward 17.0\r",
      "ep 76 : reward 43.0\r",
      "ep 77 : reward 13.0\r"
     ]
    },
    {
     "name": "stdout",
     "output_type": "stream",
     "text": [
      "ep 78 : reward 18.0\r",
      "ep 79 : reward 14.0\r",
      "ep 80 : reward 14.0\r",
      "ep 81 : reward 17.0\r"
     ]
    },
    {
     "name": "stdout",
     "output_type": "stream",
     "text": [
      "ep 82 : reward 23.0\r",
      "ep 83 : reward 15.0\r",
      "ep 84 : reward 17.0\r",
      "ep 85 : reward 26.0\r"
     ]
    },
    {
     "name": "stdout",
     "output_type": "stream",
     "text": [
      "ep 86 : reward 14.0\r",
      "ep 87 : reward 9.0\r",
      "ep 88 : reward 39.0\r"
     ]
    },
    {
     "name": "stdout",
     "output_type": "stream",
     "text": [
      "ep 89 : reward 13.0\r",
      "ep 90 : reward 50.0\r"
     ]
    },
    {
     "name": "stdout",
     "output_type": "stream",
     "text": [
      "ep 91 : reward 25.0\r",
      "ep 92 : reward 32.0\r",
      "ep 93 : reward 22.0\r"
     ]
    },
    {
     "name": "stdout",
     "output_type": "stream",
     "text": [
      "ep 94 : reward 15.0\r",
      "ep 95 : reward 22.0\r",
      "ep 96 : reward 29.0\r"
     ]
    },
    {
     "name": "stdout",
     "output_type": "stream",
     "text": [
      "ep 97 : reward 37.0\r",
      "ep 98 : reward 14.0\r",
      "ep 99 : reward 21.0\r"
     ]
    },
    {
     "name": "stdout",
     "output_type": "stream",
     "text": [
      "ep 100 : reward 74.0\r",
      "ep 101 : reward 46.0\r"
     ]
    },
    {
     "name": "stdout",
     "output_type": "stream",
     "text": [
      "ep 102 : reward 20.0\r",
      "ep 103 : reward 14.0\r",
      "ep 104 : reward 15.0\r",
      "ep 105 : reward 25.0\r"
     ]
    },
    {
     "name": "stdout",
     "output_type": "stream",
     "text": [
      "ep 106 : reward 27.0\r",
      "ep 107 : reward 25.0\r",
      "ep 108 : reward 17.0\r"
     ]
    },
    {
     "name": "stdout",
     "output_type": "stream",
     "text": [
      "ep 109 : reward 19.0\r",
      "ep 110 : reward 11.0\r",
      "ep 111 : reward 16.0\r",
      "ep 112 : reward 23.0\r"
     ]
    },
    {
     "name": "stdout",
     "output_type": "stream",
     "text": [
      "ep 113 : reward 33.0\r",
      "ep 114 : reward 37.0\r"
     ]
    },
    {
     "name": "stdout",
     "output_type": "stream",
     "text": [
      "ep 115 : reward 24.0\r",
      "ep 116 : reward 12.0\r",
      "ep 117 : reward 28.0\r"
     ]
    }
   ],
   "source": [
    "for i in range(episode_count):\n",
    "    ob = env.reset()\n",
    "    rewardSum = 0\n",
    "    steps = 0\n",
    "    done = False\n",
    "    while not done:\n",
    "        with torch.no_grad():\n",
    "            action = agent.choose_action(ob, reward, done)\n",
    "        current_state = ob\n",
    "        if render:\n",
    "            if i % episode_render == 0:\n",
    "                env.render()\n",
    "            elif (i - 1) % episode_render == 0:\n",
    "                env.close()\n",
    "        ob, reward, done, _ = env.step(action)\n",
    "        rewardSum += reward\n",
    "        steps += 1\n",
    "\n",
    "        # Experience replay\n",
    "        agent.experience(current_state, action, reward, ob, done)\n",
    "        minibatch = agent.minibatch(size=batch_size)\n",
    "        for batch in minibatch:\n",
    "            optimizer.zero_grad()\n",
    "            with torch.no_grad():\n",
    "                yj = batch.reward\n",
    "                if not batch.done:\n",
    "                    yj += agent.gamma * agent.qvalue(batch.next_state).max().item()\n",
    "            qvalues = agent.qvalue(batch.state)\n",
    "            real_y = qvalues.clone()\n",
    "            # print(f\"size : {qvalues.size()}\")\n",
    "            # print(f\"real : {real_y}\")\n",
    "            # real_y = torch.zeros(qvalues.size())\n",
    "            new_q = (qvalues[batch.action].item() - yj) ** 2\n",
    "            real_y[batch.action] = new_q\n",
    "            # print(f\"old {real_y[batch.action].item()}\")\n",
    "            # print(f\"new {new_q}\")\n",
    "            # print(f\"new ? {real_y[batch.action].item()}\")\n",
    "            # print(f\"qvalues {qvalues}\")\n",
    "            # print(f\"real_y {real_y}\")\n",
    "            loss = criterion(qvalues, real_y)\n",
    "            loss.backward()\n",
    "            optimizer.step()\n",
    "        if done:\n",
    "            print(f\"ep {i} : reward {rewardSum}\", end=\"\\r\")\n",
    "            rewards.append(rewardSum)\n",
    "\n",
    "\n"
   ]
  },
  {
   "cell_type": "code",
   "execution_count": null,
   "metadata": {
    "autoscroll": false,
    "collapsed": false,
    "ein.hycell": false,
    "ein.tags": "worksheet-0",
    "slideshow": {
     "slide_type": "-"
    }
   },
   "outputs": [],
   "source": [
    "env.close()\n",
    "rewards"
   ]
  },
  {
   "cell_type": "code",
   "execution_count": 41,
   "metadata": {
    "autoscroll": false,
    "collapsed": false,
    "ein.hycell": false,
    "ein.tags": "worksheet-0",
    "slideshow": {
     "slide_type": "-"
    }
   },
   "outputs": [
    {
     "data": {
      "image/png": "[encoded data removed]",
      "text/plain": [
       "<Figure size 720x720 with 1 Axes>"
      ]
     },
     "metadata": {},
     "output_type": "display_data"
    }
   ],
   "source": [
    "plot_reward(rewards, \"Evolution des récompenses cumulées\", file_name=f\"{episode_count}_{batch_size}_e{len(rewards)}_eta{eta}\", mean_size=1, type_graph=\"dot\")"
   ]
  },
  {
   "cell_type": "code",
   "execution_count": 42,
   "metadata": {
    "autoscroll": false,
    "collapsed": false,
    "ein.hycell": false,
    "ein.tags": "worksheet-0",
    "slideshow": {
     "slide_type": "-"
    }
   },
   "outputs": [
    {
     "data": {
      "image/png": "[encoded data removed]",
      "text/plain": [
       "<Figure size 720x720 with 1 Axes>"
      ]
     },
     "metadata": {},
     "output_type": "display_data"
    }
   ],
   "source": [
    "plot_reward(rewards, \"Evolution des récompenses cumulées\", file_name=f\"{episode_count}_{batch_size}_e{len(rewards)}_eta{eta}\", mean_size=1, type_graph=\"bar\")"
   ]
  },
  {
   "cell_type": "code",
   "execution_count": null,
   "metadata": {
    "autoscroll": false,
    "collapsed": false,
    "ein.hycell": false,
    "ein.tags": "worksheet-0",
    "slideshow": {
     "slide_type": "-"
    }
   },
   "outputs": [],
   "source": []
  }
 ],
 "metadata": {
  "kernelspec": {
   "argv": [
    "/home/gary/.virtualenvs/deeprl/bin/python",
    "-m",
    "ipykernel_launcher",
    "-f",
    "{connection_file}"
   ],
   "display_name": "deeprl",
   "env": null,
   "interrupt_mode": "signal",
   "language": "python",
   "metadata": null,
   "name": "deeprl"
  },
  "name": "experience_replay.ipynb"
 },
 "nbformat": 4,
 "nbformat_minor": 2
}
