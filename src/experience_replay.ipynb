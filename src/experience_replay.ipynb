{
 "cells": [
  {
   "cell_type": "code",
   "execution_count": 1,
   "metadata": {
    "autoscroll": false,
    "collapsed": false,
    "ein.hycell": false,
    "ein.tags": "worksheet-0",
    "slideshow": {
     "slide_type": "-"
    }
   },
   "outputs": [],
   "source": [
    "from collections import deque\n",
    "\n",
    "import gym\n",
    "from gym import wrappers, logger\n",
    "\n",
    "import random\n",
    "\n",
    "import torch\n",
    "import torch.nn as nn\n",
    "import torch.optim as optim\n",
    "import torch.nn.functional as F\n",
    "\n",
    "import numpy as np\n",
    "\n",
    "import matplotlib.pyplot as plt\n",
    "\n",
    "import copy"
   ]
  },
  {
   "cell_type": "code",
   "execution_count": 2,
   "metadata": {
    "autoscroll": false,
    "collapsed": false,
    "ein.hycell": false,
    "ein.tags": "worksheet-0",
    "slideshow": {
     "slide_type": "-"
    }
   },
   "outputs": [],
   "source": [
    "SAV = \"img/\""
   ]
  },
  {
   "cell_type": "code",
   "execution_count": 29,
   "metadata": {
    "autoscroll": false,
    "collapsed": false,
    "ein.hycell": false,
    "ein.tags": "worksheet-0",
    "slideshow": {
     "slide_type": "-"
    }
   },
   "outputs": [],
   "source": [
    "def plot_reward(rewards, title=\"\", file_name=\"error\", mean_size=100, type_graph=\"dot\"):\n",
    "    list_e = []\n",
    "    x_s = []\n",
    "    i = 0\n",
    "    if mean_size < 2:\n",
    "        list_e = rewards\n",
    "        x_s = range(len(rewards))\n",
    "    else:\n",
    "        while i < len(rewards):\n",
    "            max_mean = i + mean_size\n",
    "            if max_mean >= len(rewards):\n",
    "                max_mean = len(rewards) - 1\n",
    "            list_e.append(sum(rewards[i:max_mean])/(max_mean - i))\n",
    "            x_s.append((max_mean + i)/2)\n",
    "            i += mean_size\n",
    "    # for error in errors:\n",
    "    #     list_e.append(error.item())\n",
    "    plt.figure(figsize=(20, 10))\n",
    "    if type_graph == \"dot\":\n",
    "        plt.plot(x_s, list_e, 'ok')\n",
    "    else:\n",
    "        # plt.bar(x_s, list_e)\n",
    "        plt.plot(list_e, 'k')\n",
    "    plt.ylabel(\"Récompense\")\n",
    "    plt.xlabel(\"Itération\")\n",
    "    plt.title(title)\n",
    "    if file_name:\n",
    "        plt.savefig(f\"{SAV}{env_name}/{type_graph}_{file_name}.png\")\n",
    "    plt.show()\n"
   ]
  },
  {
   "cell_type": "code",
   "execution_count": 4,
   "metadata": {
    "autoscroll": false,
    "collapsed": false,
    "ein.hycell": false,
    "ein.tags": "worksheet-0",
    "slideshow": {
     "slide_type": "-"
    }
   },
   "outputs": [],
   "source": [
    "class Experience:\n",
    "    def __init__(self, _state, _action, _reward, _next_state, _done):\n",
    "        self.state = _state\n",
    "        self.action = _action\n",
    "        self.reward = _reward\n",
    "        self.next_state = _next_state\n",
    "        self.done = _done"
   ]
  },
  {
   "cell_type": "code",
   "execution_count": 5,
   "metadata": {
    "autoscroll": false,
    "collapsed": false,
    "ein.hycell": false,
    "ein.tags": "worksheet-0",
    "slideshow": {
     "slide_type": "-"
    }
   },
   "outputs": [],
   "source": [
    "env_name = 'CartPole-v1'"
   ]
  },
  {
   "cell_type": "code",
   "execution_count": 15,
   "metadata": {
    "autoscroll": false,
    "collapsed": false,
    "ein.hycell": false,
    "ein.tags": "worksheet-0",
    "slideshow": {
     "slide_type": "-"
    }
   },
   "outputs": [],
   "source": [
    "class Net(nn.Module):\n",
    "    def __init__(self, in_size, out_size):\n",
    "        super(Net, self).__init__()\n",
    "        print(in_size, out_size)\n",
    "        # self.in_l = nn.Linear(in_size, out_size)\n",
    "        self.in_l = nn.Linear(in_size, 3)\n",
    "        self.in_l2 = nn.Linear(3, out_size)\n",
    "\n",
    "    def forward(self, x):\n",
    "        x = F.sigmoid(self.in_l(x))\n",
    "        x = F.sigmoid(self.in_l2(x))\n",
    "        return x"
   ]
  },
  {
   "cell_type": "code",
   "execution_count": 22,
   "metadata": {
    "autoscroll": false,
    "collapsed": false,
    "ein.hycell": false,
    "ein.tags": "worksheet-0",
    "slideshow": {
     "slide_type": "-"
    }
   },
   "outputs": [],
   "source": [
    "class Agent:\n",
    "    def __init__(self, _net, _in_size, _out_size, _target=None):\n",
    "        self.mem = deque(maxlen=10000)\n",
    "        self.net = _net\n",
    "        self.target = _target\n",
    "        self.target_nn = _target\n",
    "        self.gamma = 0.95\n",
    "        self.in_size = _in_size\n",
    "        self.out_size = _out_size\n",
    "\n",
    "    def choose_action(self, _observation, _reward, _done):\n",
    "        qvalues = self.qvalue(_observation)\n",
    "        action_ind = self.epsilongreedy(_observation, epsilon=0.05)\n",
    "        # action_ind = self.boltzmann(_observation, tau=0.1)\n",
    "        return action_ind\n",
    "\n",
    "    def experience(self, _state, _action, _reward, _next_state, _done):\n",
    "        self.mem.append(Experience(_state, _action, _reward, _next_state, _done))\n",
    "\n",
    "    def minibatch(self, size=5):\n",
    "        batch_s = min(size, len(self.mem))\n",
    "        return random.sample(self.mem, batch_s)\n",
    "\n",
    "    def qvalue(self, state):\n",
    "        inp = torch.tensor(state).type(torch.FloatTensor)\n",
    "        out = self.net(inp)\n",
    "        return out\n",
    "\n",
    "    def qvalue_target(self, state):\n",
    "        inp = torch.tensor(state).type(torch.FloatTensor)\n",
    "        if self.target is not None:\n",
    "            out = self.target(inp)\n",
    "        else:\n",
    "            out = self.net(inp)\n",
    "        return out\n",
    "\n",
    "    def epsilongreedy(self, ob, epsilon=0.5):\n",
    "        if np.random.random() < epsilon:\n",
    "            return np.random.randint(self.out_size)\n",
    "        else:\n",
    "            _, max_ind = self.qvalue(ob).max(0)\n",
    "            return max_ind.item()\n",
    "\n",
    "    def boltzmann(self, ob, tau=1000):\n",
    "        qvalues = self.qvalue(ob)\n",
    "        terms = torch.pow(np.e, torch.div(qvalues, tau))\n",
    "        sum_ = terms.sum()\n",
    "        probs = torch.div(terms, sum_)\n",
    "        probs = np.array(probs)\n",
    "        action_value = np.random.choice(probs,p=probs)\n",
    "        action = np.argmax(probs == action_value)\n",
    "        return action\n",
    "\n",
    "    def sync_target(self):\n",
    "        self.target = copy.deepcopy(self.net)"
   ]
  },
  {
   "cell_type": "code",
   "execution_count": 17,
   "metadata": {
    "autoscroll": false,
    "collapsed": false,
    "ein.hycell": false,
    "ein.tags": "worksheet-0",
    "slideshow": {
     "slide_type": "-"
    }
   },
   "outputs": [],
   "source": [
    "env.close()"
   ]
  },
  {
   "cell_type": "code",
   "execution_count": 23,
   "metadata": {
    "autoscroll": false,
    "collapsed": false,
    "ein.hycell": false,
    "ein.tags": "worksheet-0",
    "slideshow": {
     "slide_type": "-"
    }
   },
   "outputs": [
    {
     "name": "stdout",
     "output_type": "stream",
     "text": [
      "INFO: Making new env: CartPole-v1\n",
      "INFO: Clearing 2 monitor files from previous run (because force=True was provided)\n",
      "4 2\n"
     ]
    }
   ],
   "source": [
    "# You can set the level to logger.DEBUG or logger.WARN if you\n",
    "# want to change the amount of output.\n",
    "logger.set_level(logger.INFO)\n",
    "\n",
    "env = gym.make(env_name)\n",
    "\n",
    "# You provide the directory to write to (can be an existing\n",
    "# directory, including one with existing data -- all monitor files\n",
    "# will be namespaced). You can also dump to a tempdir if you'd\n",
    "# like: tempfile.mkdtemp().\n",
    "outdir = '/tmp/random-agent-results'\n",
    "env = wrappers.Monitor(env, directory=outdir, force=True, video_callable=False)\n",
    "env.seed(0)\n",
    "observation_size = env.observation_space.shape[0]\n",
    "action_size = env.action_space.n\n",
    "\n",
    "eta = 0.01\n",
    "net = Net(observation_size, env.action_space.n)\n",
    "target = copy.deepcopy(net)\n",
    "criterion = nn.MSELoss()\n",
    "optimizer = optim.SGD(net.parameters(), lr=eta, momentum=0.9)\n",
    "agent = Agent(net, observation_size, env.action_space.n, _target=target)\n",
    "\n",
    "render = True\n",
    "episode_count = 10000\n",
    "episode_render = 1000\n",
    "reward = 0\n",
    "batch_size = 32\n",
    "target_sync = 100\n",
    "done = False\n",
    "\n",
    "rewards = []"
   ]
  },
  {
   "cell_type": "code",
   "execution_count": 37,
   "metadata": {
    "autoscroll": false,
    "collapsed": false,
    "ein.hycell": false,
    "ein.tags": "worksheet-0",
    "slideshow": {
     "slide_type": "-"
    }
   },
   "outputs": [
    {
     "name": "stdout",
     "output_type": "stream",
     "text": [
      "ep 0 : reward 481.0\r",
      "ep 1 : reward 500.0\r"
     ]
    },
    {
     "name": "stdout",
     "output_type": "stream",
     "text": [
      "ep 2 : reward 401.0\r",
      "ep 3 : reward 500.0\r"
     ]
    },
    {
     "name": "stdout",
     "output_type": "stream",
     "text": [
      "ep 4 : reward 500.0\r",
      "ep 5 : reward 395.0\r"
     ]
    },
    {
     "name": "stdout",
     "output_type": "stream",
     "text": [
      "ep 6 : reward 500.0\r",
      "ep 7 : reward 500.0\r"
     ]
    },
    {
     "name": "stdout",
     "output_type": "stream",
     "text": [
      "ep 8 : reward 500.0\r",
      "ep 9 : reward 325.0\r",
      "ep 10 : reward 325.0\r"
     ]
    },
    {
     "name": "stdout",
     "output_type": "stream",
     "text": [
      "ep 11 : reward 377.0\r",
      "ep 12 : reward 104.0\r",
      "ep 13 : reward 179.0\r",
      "ep 14 : reward 227.0\r"
     ]
    },
    {
     "name": "stdout",
     "output_type": "stream",
     "text": [
      "ep 15 : reward 97.0\r",
      "ep 16 : reward 99.0\r",
      "ep 17 : reward 29.0\r",
      "ep 18 : reward 91.0\r",
      "ep 19 : reward 93.0\r",
      "ep 20 : reward 94.0\r"
     ]
    },
    {
     "name": "stdout",
     "output_type": "stream",
     "text": [
      "ep 21 : reward 33.0\r",
      "ep 22 : reward 97.0\r",
      "ep 23 : reward 121.0\r",
      "ep 24 : reward 385.0\r"
     ]
    },
    {
     "name": "stdout",
     "output_type": "stream",
     "text": [
      "ep 25 : reward 395.0\r",
      "ep 26 : reward 381.0\r"
     ]
    },
    {
     "name": "stdout",
     "output_type": "stream",
     "text": [
      "ep 27 : reward 500.0\r",
      "ep 28 : reward 500.0\r"
     ]
    },
    {
     "name": "stdout",
     "output_type": "stream",
     "text": [
      "ep 29 : reward 500.0\r",
      "ep 30 : reward 500.0\r"
     ]
    },
    {
     "name": "stdout",
     "output_type": "stream",
     "text": [
      "ep 31 : reward 500.0\r",
      "ep 32 : reward 264.0\r",
      "ep 33 : reward 328.0\r"
     ]
    },
    {
     "name": "stdout",
     "output_type": "stream",
     "text": [
      "ep 34 : reward 253.0\r",
      "ep 35 : reward 239.0\r",
      "ep 36 : reward 221.0\r"
     ]
    },
    {
     "name": "stdout",
     "output_type": "stream",
     "text": [
      "ep 37 : reward 231.0\r",
      "ep 38 : reward 382.0\r"
     ]
    },
    {
     "name": "stdout",
     "output_type": "stream",
     "text": [
      "ep 39 : reward 388.0\r",
      "ep 40 : reward 421.0\r"
     ]
    },
    {
     "name": "stdout",
     "output_type": "stream",
     "text": [
      "ep 41 : reward 500.0\r",
      "ep 42 : reward 500.0\r"
     ]
    },
    {
     "name": "stdout",
     "output_type": "stream",
     "text": [
      "ep 43 : reward 500.0\r",
      "ep 44 : reward 500.0\r"
     ]
    },
    {
     "name": "stdout",
     "output_type": "stream",
     "text": [
      "ep 45 : reward 500.0\r",
      "ep 46 : reward 500.0\r"
     ]
    },
    {
     "name": "stdout",
     "output_type": "stream",
     "text": [
      "ep 47 : reward 500.0\r",
      "ep 48 : reward 500.0\r"
     ]
    },
    {
     "name": "stdout",
     "output_type": "stream",
     "text": [
      "ep 49 : reward 500.0\r",
      "ep 50 : reward 500.0\r"
     ]
    },
    {
     "name": "stdout",
     "output_type": "stream",
     "text": [
      "ep 51 : reward 412.0\r",
      "ep 52 : reward 500.0\r"
     ]
    },
    {
     "name": "stdout",
     "output_type": "stream",
     "text": [
      "ep 53 : reward 500.0\r",
      "ep 54 : reward 478.0\r"
     ]
    },
    {
     "name": "stdout",
     "output_type": "stream",
     "text": [
      "ep 55 : reward 382.0\r",
      "ep 56 : reward 400.0\r",
      "ep 57 : reward 313.0\r"
     ]
    },
    {
     "name": "stdout",
     "output_type": "stream",
     "text": [
      "ep 58 : reward 398.0\r",
      "ep 59 : reward 367.0\r",
      "ep 60 : reward 372.0\r"
     ]
    },
    {
     "name": "stdout",
     "output_type": "stream",
     "text": [
      "ep 61 : reward 236.0\r",
      "ep 62 : reward 178.0\r",
      "ep 63 : reward 92.0\r",
      "ep 64 : reward 255.0\r"
     ]
    },
    {
     "name": "stdout",
     "output_type": "stream",
     "text": [
      "ep 65 : reward 243.0\r",
      "ep 66 : reward 182.0\r",
      "ep 67 : reward 316.0\r"
     ]
    },
    {
     "name": "stdout",
     "output_type": "stream",
     "text": [
      "ep 68 : reward 263.0\r",
      "ep 69 : reward 251.0\r",
      "ep 70 : reward 242.0\r",
      "ep 71 : reward 117.0\r"
     ]
    },
    {
     "name": "stdout",
     "output_type": "stream",
     "text": [
      "ep 72 : reward 186.0\r",
      "ep 73 : reward 189.0\r",
      "ep 74 : reward 39.0\r",
      "ep 75 : reward 253.0\r"
     ]
    },
    {
     "name": "stdout",
     "output_type": "stream",
     "text": [
      "ep 76 : reward 195.0\r",
      "ep 77 : reward 240.0\r",
      "ep 78 : reward 188.0\r",
      "ep 79 : reward 107.0\r"
     ]
    },
    {
     "name": "stdout",
     "output_type": "stream",
     "text": [
      "ep 80 : reward 240.0\r",
      "ep 81 : reward 175.0\r",
      "ep 82 : reward 243.0\r"
     ]
    },
    {
     "name": "stdout",
     "output_type": "stream",
     "text": [
      "ep 83 : reward 257.0\r",
      "ep 84 : reward 256.0\r",
      "ep 85 : reward 111.0\r",
      "ep 86 : reward 197.0\r"
     ]
    },
    {
     "name": "stdout",
     "output_type": "stream",
     "text": [
      "ep 87 : reward 253.0\r",
      "ep 88 : reward 182.0\r",
      "ep 89 : reward 329.0\r"
     ]
    },
    {
     "name": "stdout",
     "output_type": "stream",
     "text": [
      "ep 90 : reward 173.0\r",
      "ep 91 : reward 500.0\r"
     ]
    },
    {
     "name": "stdout",
     "output_type": "stream",
     "text": [
      "ep 92 : reward 500.0\r",
      "ep 93 : reward 472.0\r"
     ]
    },
    {
     "name": "stdout",
     "output_type": "stream",
     "text": [
      "ep 94 : reward 318.0\r",
      "ep 95 : reward 500.0\r",
      "ep 96 : reward 244.0\r"
     ]
    },
    {
     "name": "stdout",
     "output_type": "stream",
     "text": [
      "ep 97 : reward 500.0\r",
      "ep 98 : reward 409.0\r",
      "ep 99 : reward 338.0\r"
     ]
    },
    {
     "name": "stdout",
     "output_type": "stream",
     "text": [
      "ep 100 : reward 335.0\r",
      "ep 101 : reward 259.0\r",
      "ep 102 : reward 500.0\r"
     ]
    },
    {
     "name": "stdout",
     "output_type": "stream",
     "text": [
      "ep 103 : reward 500.0\r",
      "ep 104 : reward 396.0\r",
      "ep 105 : reward 242.0\r"
     ]
    },
    {
     "name": "stdout",
     "output_type": "stream",
     "text": [
      "ep 106 : reward 266.0\r",
      "ep 107 : reward 338.0\r",
      "ep 108 : reward 401.0\r"
     ]
    },
    {
     "name": "stdout",
     "output_type": "stream",
     "text": [
      "ep 109 : reward 312.0\r",
      "ep 110 : reward 370.0\r",
      "ep 111 : reward 260.0\r"
     ]
    },
    {
     "name": "stdout",
     "output_type": "stream",
     "text": [
      "ep 112 : reward 250.0\r",
      "ep 113 : reward 385.0\r",
      "ep 114 : reward 260.0\r"
     ]
    },
    {
     "name": "stdout",
     "output_type": "stream",
     "text": [
      "ep 115 : reward 261.0\r",
      "ep 116 : reward 234.0\r",
      "ep 117 : reward 118.0\r",
      "ep 118 : reward 112.0\r"
     ]
    },
    {
     "name": "stdout",
     "output_type": "stream",
     "text": [
      "ep 119 : reward 254.0\r",
      "ep 120 : reward 237.0\r",
      "ep 121 : reward 241.0\r",
      "ep 122 : reward 228.0\r"
     ]
    },
    {
     "name": "stdout",
     "output_type": "stream",
     "text": [
      "ep 123 : reward 260.0\r",
      "ep 124 : reward 341.0\r",
      "ep 125 : reward 445.0\r"
     ]
    },
    {
     "name": "stdout",
     "output_type": "stream",
     "text": [
      "ep 126 : reward 271.0\r",
      "ep 127 : reward 386.0\r"
     ]
    },
    {
     "name": "stdout",
     "output_type": "stream",
     "text": [
      "ep 128 : reward 500.0\r",
      "ep 129 : reward 392.0\r",
      "ep 130 : reward 397.0\r"
     ]
    },
    {
     "name": "stdout",
     "output_type": "stream",
     "text": [
      "ep 131 : reward 394.0\r",
      "ep 132 : reward 353.0\r",
      "ep 133 : reward 248.0\r"
     ]
    },
    {
     "name": "stdout",
     "output_type": "stream",
     "text": [
      "ep 134 : reward 376.0\r",
      "ep 135 : reward 246.0\r",
      "ep 136 : reward 241.0\r"
     ]
    },
    {
     "name": "stdout",
     "output_type": "stream",
     "text": [
      "ep 137 : reward 259.0\r",
      "ep 138 : reward 379.0\r",
      "ep 139 : reward 267.0\r"
     ]
    },
    {
     "name": "stdout",
     "output_type": "stream",
     "text": [
      "ep 140 : reward 393.0\r",
      "ep 141 : reward 240.0\r",
      "ep 142 : reward 266.0\r"
     ]
    },
    {
     "name": "stdout",
     "output_type": "stream",
     "text": [
      "ep 143 : reward 242.0\r",
      "ep 144 : reward 317.0\r",
      "ep 145 : reward 253.0\r"
     ]
    },
    {
     "name": "stdout",
     "output_type": "stream",
     "text": [
      "ep 146 : reward 322.0\r",
      "ep 147 : reward 190.0\r",
      "ep 148 : reward 243.0\r",
      "ep 149 : reward 125.0\r"
     ]
    },
    {
     "name": "stdout",
     "output_type": "stream",
     "text": [
      "ep 150 : reward 175.0\r",
      "ep 151 : reward 250.0\r",
      "ep 152 : reward 254.0\r"
     ]
    },
    {
     "name": "stdout",
     "output_type": "stream",
     "text": [
      "ep 153 : reward 178.0\r",
      "ep 154 : reward 89.0\r",
      "ep 155 : reward 100.0\r",
      "ep 156 : reward 90.0\r",
      "ep 157 : reward 104.0\r"
     ]
    },
    {
     "name": "stdout",
     "output_type": "stream",
     "text": [
      "ep 158 : reward 104.0\r",
      "ep 159 : reward 98.0\r",
      "ep 160 : reward 102.0\r",
      "ep 161 : reward 37.0\r",
      "ep 162 : reward 24.0\r",
      "ep 163 : reward 27.0\r",
      "ep 164 : reward 25.0\r"
     ]
    },
    {
     "name": "stdout",
     "output_type": "stream",
     "text": [
      "ep 165 : reward 39.0\r",
      "ep 166 : reward 23.0\r",
      "ep 167 : reward 92.0\r",
      "ep 168 : reward 88.0\r",
      "ep 169 : reward 99.0\r",
      "ep 170 : reward 106.0\r"
     ]
    },
    {
     "name": "stdout",
     "output_type": "stream",
     "text": [
      "ep 171 : reward 232.0\r",
      "ep 172 : reward 257.0\r",
      "ep 173 : reward 247.0\r"
     ]
    },
    {
     "name": "stdout",
     "output_type": "stream",
     "text": [
      "ep 174 : reward 178.0\r",
      "ep 175 : reward 250.0\r",
      "ep 176 : reward 244.0\r"
     ]
    },
    {
     "name": "stdout",
     "output_type": "stream",
     "text": [
      "ep 177 : reward 254.0\r",
      "ep 178 : reward 265.0\r",
      "ep 179 : reward 248.0\r",
      "ep 180 : reward 96.0\r"
     ]
    },
    {
     "name": "stdout",
     "output_type": "stream",
     "text": [
      "ep 181 : reward 169.0\r",
      "ep 182 : reward 246.0\r",
      "ep 183 : reward 187.0\r"
     ]
    },
    {
     "name": "stdout",
     "output_type": "stream",
     "text": [
      "ep 184 : reward 242.0\r",
      "ep 185 : reward 328.0\r",
      "ep 186 : reward 251.0\r"
     ]
    },
    {
     "name": "stdout",
     "output_type": "stream",
     "text": [
      "ep 187 : reward 243.0\r",
      "ep 188 : reward 101.0\r",
      "ep 189 : reward 251.0\r",
      "ep 190 : reward 183.0\r"
     ]
    },
    {
     "name": "stdout",
     "output_type": "stream",
     "text": [
      "ep 191 : reward 265.0\r",
      "ep 192 : reward 258.0\r",
      "ep 193 : reward 181.0\r"
     ]
    },
    {
     "name": "stdout",
     "output_type": "stream",
     "text": [
      "ep 194 : reward 239.0\r",
      "ep 195 : reward 326.0\r",
      "ep 196 : reward 400.0\r"
     ]
    },
    {
     "name": "stdout",
     "output_type": "stream",
     "text": [
      "ep 197 : reward 500.0\r",
      "ep 198 : reward 500.0\r"
     ]
    },
    {
     "name": "stdout",
     "output_type": "stream",
     "text": [
      "ep 199 : reward 500.0\r",
      "ep 200 : reward 500.0\r"
     ]
    },
    {
     "name": "stdout",
     "output_type": "stream",
     "text": [
      "ep 201 : reward 500.0\r",
      "ep 202 : reward 500.0\r"
     ]
    },
    {
     "name": "stdout",
     "output_type": "stream",
     "text": [
      "ep 203 : reward 367.0\r",
      "ep 204 : reward 322.0\r",
      "ep 205 : reward 244.0\r"
     ]
    },
    {
     "name": "stdout",
     "output_type": "stream",
     "text": [
      "ep 206 : reward 372.0\r",
      "ep 207 : reward 271.0\r",
      "ep 208 : reward 423.0\r"
     ]
    },
    {
     "name": "stdout",
     "output_type": "stream",
     "text": [
      "ep 209 : reward 500.0\r",
      "ep 210 : reward 500.0\r"
     ]
    },
    {
     "name": "stdout",
     "output_type": "stream",
     "text": [
      "ep 211 : reward 463.0\r",
      "ep 212 : reward 398.0\r",
      "ep 213 : reward 173.0\r"
     ]
    },
    {
     "name": "stdout",
     "output_type": "stream",
     "text": [
      "ep 214 : reward 110.0\r",
      "ep 215 : reward 231.0\r",
      "ep 216 : reward 482.0\r"
     ]
    },
    {
     "name": "stdout",
     "output_type": "stream",
     "text": [
      "ep 217 : reward 415.0\r",
      "ep 218 : reward 417.0\r",
      "ep 219 : reward 327.0\r"
     ]
    },
    {
     "name": "stdout",
     "output_type": "stream",
     "text": [
      "ep 220 : reward 251.0\r",
      "ep 221 : reward 500.0\r",
      "ep 222 : reward 242.0\r"
     ]
    },
    {
     "name": "stdout",
     "output_type": "stream",
     "text": [
      "ep 223 : reward 500.0\r",
      "ep 224 : reward 500.0\r"
     ]
    },
    {
     "name": "stdout",
     "output_type": "stream",
     "text": [
      "ep 225 : reward 500.0\r",
      "ep 226 : reward 416.0\r"
     ]
    },
    {
     "name": "stdout",
     "output_type": "stream",
     "text": [
      "ep 227 : reward 468.0\r",
      "ep 228 : reward 394.0\r"
     ]
    },
    {
     "name": "stdout",
     "output_type": "stream",
     "text": [
      "ep 229 : reward 421.0\r",
      "ep 230 : reward 266.0\r",
      "ep 231 : reward 419.0\r"
     ]
    },
    {
     "name": "stdout",
     "output_type": "stream",
     "text": [
      "ep 232 : reward 253.0\r",
      "ep 233 : reward 245.0\r",
      "ep 234 : reward 382.0\r"
     ]
    },
    {
     "name": "stdout",
     "output_type": "stream",
     "text": [
      "ep 235 : reward 245.0\r",
      "ep 236 : reward 171.0\r",
      "ep 237 : reward 248.0\r",
      "ep 238 : reward 185.0\r"
     ]
    },
    {
     "name": "stdout",
     "output_type": "stream",
     "text": [
      "ep 239 : reward 249.0\r",
      "ep 240 : reward 105.0\r",
      "ep 241 : reward 100.0\r",
      "ep 242 : reward 97.0\r",
      "ep 243 : reward 98.0\r"
     ]
    },
    {
     "name": "stdout",
     "output_type": "stream",
     "text": [
      "ep 244 : reward 185.0\r",
      "ep 245 : reward 102.0\r",
      "ep 246 : reward 100.0\r",
      "ep 247 : reward 94.0\r",
      "ep 248 : reward 104.0\r"
     ]
    },
    {
     "name": "stdout",
     "output_type": "stream",
     "text": [
      "ep 249 : reward 243.0\r",
      "ep 250 : reward 235.0\r",
      "ep 251 : reward 357.0\r"
     ]
    },
    {
     "name": "stdout",
     "output_type": "stream",
     "text": [
      "ep 252 : reward 241.0\r",
      "ep 253 : reward 175.0\r",
      "ep 254 : reward 186.0\r"
     ]
    },
    {
     "name": "stdout",
     "output_type": "stream",
     "text": [
      "ep 255 : reward 329.0\r",
      "ep 256 : reward 258.0\r",
      "ep 257 : reward 237.0\r",
      "ep 258 : reward 102.0\r"
     ]
    },
    {
     "name": "stdout",
     "output_type": "stream",
     "text": [
      "ep 259 : reward 92.0\r",
      "ep 260 : reward 180.0\r",
      "ep 261 : reward 252.0\r"
     ]
    },
    {
     "name": "stdout",
     "output_type": "stream",
     "text": [
      "ep 262 : reward 388.0\r",
      "ep 263 : reward 264.0\r",
      "ep 264 : reward 311.0\r"
     ]
    },
    {
     "name": "stdout",
     "output_type": "stream",
     "text": [
      "ep 265 : reward 254.0\r",
      "ep 266 : reward 323.0\r",
      "ep 267 : reward 260.0\r"
     ]
    },
    {
     "name": "stdout",
     "output_type": "stream",
     "text": [
      "ep 268 : reward 116.0\r",
      "ep 269 : reward 93.0\r",
      "ep 270 : reward 95.0\r",
      "ep 271 : reward 99.0\r",
      "ep 272 : reward 108.0\r",
      "ep 273 : reward 88.0\r"
     ]
    },
    {
     "name": "stdout",
     "output_type": "stream",
     "text": [
      "ep 274 : reward 89.0\r",
      "ep 275 : reward 38.0\r",
      "ep 276 : reward 35.0\r",
      "ep 277 : reward 91.0\r",
      "ep 278 : reward 93.0\r",
      "ep 279 : reward 178.0\r"
     ]
    },
    {
     "name": "stdout",
     "output_type": "stream",
     "text": [
      "ep 280 : reward 238.0\r",
      "ep 281 : reward 108.0\r",
      "ep 282 : reward 381.0\r"
     ]
    },
    {
     "name": "stdout",
     "output_type": "stream",
     "text": [
      "ep 283 : reward 245.0\r",
      "ep 284 : reward 181.0\r",
      "ep 285 : reward 267.0\r"
     ]
    },
    {
     "name": "stdout",
     "output_type": "stream",
     "text": [
      "ep 286 : reward 264.0\r",
      "ep 287 : reward 266.0\r",
      "ep 288 : reward 331.0\r"
     ]
    },
    {
     "name": "stdout",
     "output_type": "stream",
     "text": [
      "ep 289 : reward 338.0\r",
      "ep 290 : reward 100.0\r",
      "ep 291 : reward 100.0\r",
      "ep 292 : reward 172.0\r",
      "ep 293 : reward 100.0\r"
     ]
    },
    {
     "name": "stdout",
     "output_type": "stream",
     "text": [
      "ep 294 : reward 184.0\r",
      "ep 295 : reward 185.0\r",
      "ep 296 : reward 393.0\r"
     ]
    },
    {
     "name": "stdout",
     "output_type": "stream",
     "text": [
      "ep 297 : reward 417.0\r",
      "ep 298 : reward 349.0\r",
      "ep 299 : reward 246.0\r"
     ]
    },
    {
     "name": "stdout",
     "output_type": "stream",
     "text": [
      "ep 300 : reward 396.0\r",
      "ep 301 : reward 500.0\r"
     ]
    },
    {
     "name": "stdout",
     "output_type": "stream",
     "text": [
      "ep 302 : reward 385.0\r",
      "ep 303 : reward 500.0\r"
     ]
    },
    {
     "name": "stdout",
     "output_type": "stream",
     "text": [
      "ep 304 : reward 500.0\r",
      "ep 305 : reward 500.0\r",
      "ep 306 : reward 231.0\r"
     ]
    },
    {
     "name": "stdout",
     "output_type": "stream",
     "text": [
      "ep 307 : reward 100.0\r",
      "ep 308 : reward 100.0\r",
      "ep 309 : reward 276.0\r",
      "ep 310 : reward 342.0\r"
     ]
    },
    {
     "name": "stdout",
     "output_type": "stream",
     "text": [
      "ep 311 : reward 500.0\r",
      "ep 312 : reward 500.0\r"
     ]
    },
    {
     "name": "stdout",
     "output_type": "stream",
     "text": [
      "ep 313 : reward 500.0\r",
      "ep 314 : reward 361.0\r"
     ]
    },
    {
     "name": "stdout",
     "output_type": "stream",
     "text": [
      "ep 315 : reward 400.0\r",
      "ep 316 : reward 88.0\r",
      "ep 317 : reward 253.0\r",
      "ep 318 : reward 332.0\r"
     ]
    },
    {
     "name": "stdout",
     "output_type": "stream",
     "text": [
      "ep 319 : reward 387.0\r",
      "ep 320 : reward 370.0\r",
      "ep 321 : reward 385.0\r"
     ]
    },
    {
     "name": "stdout",
     "output_type": "stream",
     "text": [
      "ep 322 : reward 392.0\r",
      "ep 323 : reward 307.0\r",
      "ep 324 : reward 389.0\r"
     ]
    },
    {
     "name": "stdout",
     "output_type": "stream",
     "text": [
      "ep 325 : reward 328.0\r",
      "ep 326 : reward 430.0\r"
     ]
    },
    {
     "name": "stdout",
     "output_type": "stream",
     "text": [
      "ep 327 : reward 385.0\r",
      "ep 328 : reward 413.0\r"
     ]
    },
    {
     "name": "stdout",
     "output_type": "stream",
     "text": [
      "ep 329 : reward 382.0\r",
      "ep 330 : reward 393.0\r",
      "ep 331 : reward 260.0\r"
     ]
    },
    {
     "name": "stdout",
     "output_type": "stream",
     "text": [
      "ep 332 : reward 227.0\r",
      "ep 333 : reward 103.0\r",
      "ep 334 : reward 227.0\r",
      "ep 335 : reward 97.0\r"
     ]
    },
    {
     "name": "stdout",
     "output_type": "stream",
     "text": [
      "ep 336 : reward 174.0\r",
      "ep 337 : reward 90.0\r",
      "ep 338 : reward 99.0\r"
     ]
    },
    {
     "name": "stdout",
     "output_type": "stream",
     "text": [
      "ep 339 : reward 500.0\r",
      "ep 340 : reward 500.0\r"
     ]
    },
    {
     "name": "stdout",
     "output_type": "stream",
     "text": [
      "ep 341 : reward 500.0\r",
      "ep 342 : reward 500.0\r"
     ]
    },
    {
     "name": "stdout",
     "output_type": "stream",
     "text": [
      "ep 343 : reward 500.0\r",
      "ep 344 : reward 484.0\r"
     ]
    },
    {
     "name": "stdout",
     "output_type": "stream",
     "text": [
      "ep 345 : reward 500.0\r",
      "ep 346 : reward 500.0\r"
     ]
    },
    {
     "name": "stdout",
     "output_type": "stream",
     "text": [
      "ep 347 : reward 500.0\r",
      "ep 348 : reward 500.0\r"
     ]
    },
    {
     "name": "stdout",
     "output_type": "stream",
     "text": [
      "ep 349 : reward 500.0\r",
      "ep 350 : reward 500.0\r"
     ]
    },
    {
     "name": "stdout",
     "output_type": "stream",
     "text": [
      "ep 351 : reward 500.0\r",
      "ep 352 : reward 500.0\r"
     ]
    },
    {
     "name": "stdout",
     "output_type": "stream",
     "text": [
      "ep 353 : reward 500.0\r",
      "ep 354 : reward 500.0\r"
     ]
    },
    {
     "name": "stdout",
     "output_type": "stream",
     "text": [
      "ep 355 : reward 452.0\r",
      "ep 356 : reward 419.0\r"
     ]
    },
    {
     "name": "stdout",
     "output_type": "stream",
     "text": [
      "ep 357 : reward 500.0\r",
      "ep 358 : reward 500.0\r"
     ]
    },
    {
     "name": "stdout",
     "output_type": "stream",
     "text": [
      "ep 359 : reward 500.0\r",
      "ep 360 : reward 500.0\r"
     ]
    },
    {
     "name": "stdout",
     "output_type": "stream",
     "text": [
      "ep 361 : reward 500.0\r",
      "ep 362 : reward 261.0\r",
      "ep 363 : reward 367.0\r"
     ]
    },
    {
     "name": "stdout",
     "output_type": "stream",
     "text": [
      "ep 364 : reward 246.0\r",
      "ep 365 : reward 273.0\r",
      "ep 366 : reward 500.0\r"
     ]
    },
    {
     "name": "stdout",
     "output_type": "stream",
     "text": [
      "ep 367 : reward 422.0\r",
      "ep 368 : reward 500.0\r"
     ]
    },
    {
     "name": "stdout",
     "output_type": "stream",
     "text": [
      "ep 369 : reward 500.0\r",
      "ep 370 : reward 500.0\r"
     ]
    },
    {
     "name": "stdout",
     "output_type": "stream",
     "text": [
      "ep 371 : reward 500.0\r",
      "ep 372 : reward 500.0\r"
     ]
    },
    {
     "name": "stdout",
     "output_type": "stream",
     "text": [
      "ep 373 : reward 500.0\r",
      "ep 374 : reward 500.0\r"
     ]
    },
    {
     "name": "stdout",
     "output_type": "stream",
     "text": [
      "ep 375 : reward 500.0\r",
      "ep 376 : reward 500.0\r"
     ]
    },
    {
     "name": "stdout",
     "output_type": "stream",
     "text": [
      "ep 377 : reward 395.0\r",
      "ep 378 : reward 236.0\r",
      "ep 379 : reward 234.0\r"
     ]
    },
    {
     "name": "stdout",
     "output_type": "stream",
     "text": [
      "ep 380 : reward 500.0\r",
      "ep 381 : reward 415.0\r"
     ]
    },
    {
     "name": "stdout",
     "output_type": "stream",
     "text": [
      "ep 382 : reward 402.0\r",
      "ep 383 : reward 395.0\r",
      "ep 384 : reward 395.0\r"
     ]
    },
    {
     "name": "stdout",
     "output_type": "stream",
     "text": [
      "ep 385 : reward 361.0\r",
      "ep 386 : reward 254.0\r",
      "ep 387 : reward 500.0\r"
     ]
    },
    {
     "name": "stdout",
     "output_type": "stream",
     "text": [
      "ep 388 : reward 500.0\r",
      "ep 389 : reward 246.0\r",
      "ep 390 : reward 194.0\r",
      "ep 391 : reward 249.0\r"
     ]
    },
    {
     "name": "stdout",
     "output_type": "stream",
     "text": [
      "ep 392 : reward 240.0\r",
      "ep 393 : reward 234.0\r",
      "ep 394 : reward 247.0\r"
     ]
    },
    {
     "name": "stdout",
     "output_type": "stream",
     "text": [
      "ep 395 : reward 376.0\r",
      "ep 396 : reward 248.0\r",
      "ep 397 : reward 227.0\r",
      "ep 398 : reward 243.0\r"
     ]
    },
    {
     "name": "stdout",
     "output_type": "stream",
     "text": [
      "ep 399 : reward 251.0\r",
      "ep 400 : reward 241.0\r",
      "ep 401 : reward 251.0\r",
      "ep 402 : reward 111.0\r"
     ]
    },
    {
     "name": "stdout",
     "output_type": "stream",
     "text": [
      "ep 403 : reward 112.0\r",
      "ep 404 : reward 256.0\r",
      "ep 405 : reward 242.0\r"
     ]
    },
    {
     "name": "stdout",
     "output_type": "stream",
     "text": [
      "ep 406 : reward 500.0\r",
      "ep 407 : reward 500.0\r"
     ]
    },
    {
     "name": "stdout",
     "output_type": "stream",
     "text": [
      "ep 408 : reward 347.0\r",
      "ep 409 : reward 248.0\r",
      "ep 410 : reward 318.0\r"
     ]
    },
    {
     "name": "stdout",
     "output_type": "stream",
     "text": [
      "ep 411 : reward 393.0\r",
      "ep 412 : reward 275.0\r",
      "ep 413 : reward 337.0\r"
     ]
    },
    {
     "name": "stdout",
     "output_type": "stream",
     "text": [
      "ep 414 : reward 252.0\r",
      "ep 415 : reward 251.0\r",
      "ep 416 : reward 385.0\r"
     ]
    },
    {
     "name": "stdout",
     "output_type": "stream",
     "text": [
      "ep 417 : reward 110.0\r",
      "ep 418 : reward 255.0\r",
      "ep 419 : reward 244.0\r"
     ]
    },
    {
     "name": "stdout",
     "output_type": "stream",
     "text": [
      "ep 420 : reward 250.0\r",
      "ep 421 : reward 181.0\r",
      "ep 422 : reward 250.0\r",
      "ep 423 : reward 101.0\r"
     ]
    },
    {
     "name": "stdout",
     "output_type": "stream",
     "text": [
      "ep 424 : reward 378.0\r",
      "ep 425 : reward 371.0\r",
      "ep 426 : reward 247.0\r"
     ]
    },
    {
     "name": "stdout",
     "output_type": "stream",
     "text": [
      "ep 427 : reward 262.0\r",
      "ep 428 : reward 241.0\r",
      "ep 429 : reward 250.0\r"
     ]
    },
    {
     "name": "stdout",
     "output_type": "stream",
     "text": [
      "ep 430 : reward 321.0\r",
      "ep 431 : reward 190.0\r",
      "ep 432 : reward 246.0\r"
     ]
    },
    {
     "name": "stdout",
     "output_type": "stream",
     "text": [
      "ep 433 : reward 325.0\r",
      "ep 434 : reward 255.0\r",
      "ep 435 : reward 252.0\r"
     ]
    },
    {
     "name": "stdout",
     "output_type": "stream",
     "text": [
      "ep 436 : reward 385.0\r",
      "ep 437 : reward 379.0\r",
      "ep 438 : reward 248.0\r"
     ]
    },
    {
     "name": "stdout",
     "output_type": "stream",
     "text": [
      "ep 439 : reward 172.0\r",
      "ep 440 : reward 231.0\r",
      "ep 441 : reward 248.0\r"
     ]
    },
    {
     "name": "stdout",
     "output_type": "stream",
     "text": [
      "ep 442 : reward 231.0\r",
      "ep 443 : reward 247.0\r",
      "ep 444 : reward 245.0\r"
     ]
    },
    {
     "name": "stdout",
     "output_type": "stream",
     "text": [
      "ep 445 : reward 257.0\r",
      "ep 446 : reward 381.0\r"
     ]
    },
    {
     "name": "stdout",
     "output_type": "stream",
     "text": [
      "ep 447 : reward 427.0\r",
      "ep 448 : reward 500.0\r"
     ]
    },
    {
     "name": "stdout",
     "output_type": "stream",
     "text": [
      "ep 449 : reward 500.0\r",
      "ep 450 : reward 500.0\r"
     ]
    },
    {
     "name": "stdout",
     "output_type": "stream",
     "text": [
      "ep 451 : reward 500.0\r",
      "ep 452 : reward 500.0\r"
     ]
    },
    {
     "name": "stdout",
     "output_type": "stream",
     "text": [
      "ep 453 : reward 500.0\r",
      "ep 454 : reward 500.0\r"
     ]
    },
    {
     "name": "stdout",
     "output_type": "stream",
     "text": [
      "ep 455 : reward 500.0\r",
      "ep 456 : reward 500.0\r"
     ]
    },
    {
     "name": "stdout",
     "output_type": "stream",
     "text": [
      "ep 457 : reward 500.0\r",
      "ep 458 : reward 394.0\r"
     ]
    },
    {
     "name": "stdout",
     "output_type": "stream",
     "text": [
      "ep 459 : reward 500.0\r",
      "ep 460 : reward 500.0\r"
     ]
    },
    {
     "name": "stdout",
     "output_type": "stream",
     "text": [
      "ep 461 : reward 500.0\r",
      "ep 462 : reward 500.0\r"
     ]
    },
    {
     "name": "stdout",
     "output_type": "stream",
     "text": [
      "ep 463 : reward 500.0\r",
      "ep 464 : reward 500.0\r"
     ]
    },
    {
     "name": "stdout",
     "output_type": "stream",
     "text": [
      "ep 465 : reward 500.0\r",
      "ep 466 : reward 500.0\r"
     ]
    },
    {
     "name": "stdout",
     "output_type": "stream",
     "text": [
      "ep 467 : reward 500.0\r",
      "ep 468 : reward 500.0\r"
     ]
    },
    {
     "name": "stdout",
     "output_type": "stream",
     "text": [
      "ep 469 : reward 500.0\r",
      "ep 470 : reward 500.0\r"
     ]
    },
    {
     "name": "stdout",
     "output_type": "stream",
     "text": [
      "ep 471 : reward 500.0\r",
      "ep 472 : reward 386.0\r",
      "ep 473 : reward 247.0\r"
     ]
    },
    {
     "name": "stdout",
     "output_type": "stream",
     "text": [
      "ep 474 : reward 500.0\r",
      "ep 475 : reward 387.0\r",
      "ep 476 : reward 266.0\r"
     ]
    },
    {
     "name": "stdout",
     "output_type": "stream",
     "text": [
      "ep 477 : reward 326.0\r",
      "ep 478 : reward 238.0\r",
      "ep 479 : reward 316.0\r"
     ]
    },
    {
     "name": "stdout",
     "output_type": "stream",
     "text": [
      "ep 480 : reward 367.0\r",
      "ep 481 : reward 184.0\r",
      "ep 482 : reward 244.0\r",
      "ep 483 : reward 200.0\r"
     ]
    },
    {
     "name": "stdout",
     "output_type": "stream",
     "text": [
      "ep 484 : reward 174.0\r",
      "ep 485 : reward 381.0\r",
      "ep 486 : reward 374.0\r"
     ]
    },
    {
     "name": "stdout",
     "output_type": "stream",
     "text": [
      "ep 487 : reward 340.0\r",
      "ep 488 : reward 256.0\r",
      "ep 489 : reward 248.0\r"
     ]
    },
    {
     "name": "stdout",
     "output_type": "stream",
     "text": [
      "ep 490 : reward 262.0\r",
      "ep 491 : reward 241.0\r",
      "ep 492 : reward 185.0\r",
      "ep 493 : reward 114.0\r"
     ]
    },
    {
     "name": "stdout",
     "output_type": "stream",
     "text": [
      "ep 494 : reward 235.0\r",
      "ep 495 : reward 247.0\r",
      "ep 496 : reward 238.0\r"
     ]
    },
    {
     "name": "stdout",
     "output_type": "stream",
     "text": [
      "ep 497 : reward 257.0\r",
      "ep 498 : reward 241.0\r",
      "ep 499 : reward 323.0\r"
     ]
    },
    {
     "name": "stdout",
     "output_type": "stream",
     "text": [
      "ep 500 : reward 249.0\r",
      "ep 501 : reward 189.0\r",
      "ep 502 : reward 243.0\r",
      "ep 503 : reward 183.0\r"
     ]
    },
    {
     "name": "stdout",
     "output_type": "stream",
     "text": [
      "ep 504 : reward 269.0\r",
      "ep 505 : reward 500.0\r"
     ]
    },
    {
     "name": "stdout",
     "output_type": "stream",
     "text": [
      "ep 506 : reward 500.0\r",
      "ep 507 : reward 477.0\r"
     ]
    },
    {
     "name": "stdout",
     "output_type": "stream",
     "text": [
      "ep 508 : reward 463.0\r",
      "ep 509 : reward 500.0\r"
     ]
    },
    {
     "name": "stdout",
     "output_type": "stream",
     "text": [
      "ep 510 : reward 415.0\r",
      "ep 511 : reward 386.0\r",
      "ep 512 : reward 380.0\r"
     ]
    },
    {
     "name": "stdout",
     "output_type": "stream",
     "text": [
      "ep 513 : reward 269.0\r",
      "ep 514 : reward 268.0\r",
      "ep 515 : reward 381.0\r"
     ]
    },
    {
     "name": "stdout",
     "output_type": "stream",
     "text": [
      "ep 516 : reward 184.0\r",
      "ep 517 : reward 263.0\r",
      "ep 518 : reward 252.0\r"
     ]
    },
    {
     "name": "stdout",
     "output_type": "stream",
     "text": [
      "ep 519 : reward 186.0\r",
      "ep 520 : reward 241.0\r",
      "ep 521 : reward 500.0\r"
     ]
    },
    {
     "name": "stdout",
     "output_type": "stream",
     "text": [
      "ep 522 : reward 326.0\r",
      "ep 523 : reward 485.0\r",
      "ep 524 : reward 277.0\r"
     ]
    },
    {
     "name": "stdout",
     "output_type": "stream",
     "text": [
      "ep 525 : reward 394.0\r",
      "ep 526 : reward 413.0\r",
      "ep 527 : reward 326.0\r"
     ]
    },
    {
     "name": "stdout",
     "output_type": "stream",
     "text": [
      "ep 528 : reward 364.0\r",
      "ep 529 : reward 372.0\r"
     ]
    },
    {
     "name": "stdout",
     "output_type": "stream",
     "text": [
      "ep 530 : reward 456.0\r",
      "ep 531 : reward 500.0\r"
     ]
    },
    {
     "name": "stdout",
     "output_type": "stream",
     "text": [
      "ep 532 : reward 473.0\r",
      "ep 533 : reward 500.0\r"
     ]
    },
    {
     "name": "stdout",
     "output_type": "stream",
     "text": [
      "ep 534 : reward 464.0\r",
      "ep 535 : reward 264.0\r",
      "ep 536 : reward 313.0\r"
     ]
    },
    {
     "name": "stdout",
     "output_type": "stream",
     "text": [
      "ep 537 : reward 255.0\r",
      "ep 538 : reward 268.0\r",
      "ep 539 : reward 307.0\r"
     ]
    },
    {
     "name": "stdout",
     "output_type": "stream",
     "text": [
      "ep 540 : reward 177.0\r",
      "ep 541 : reward 99.0\r",
      "ep 542 : reward 102.0\r",
      "ep 543 : reward 100.0\r",
      "ep 544 : reward 91.0\r"
     ]
    },
    {
     "name": "stdout",
     "output_type": "stream",
     "text": [
      "ep 545 : reward 102.0\r",
      "ep 546 : reward 177.0\r",
      "ep 547 : reward 241.0\r",
      "ep 548 : reward 113.0\r"
     ]
    },
    {
     "name": "stdout",
     "output_type": "stream",
     "text": [
      "ep 549 : reward 186.0\r",
      "ep 550 : reward 94.0\r",
      "ep 551 : reward 45.0\r",
      "ep 552 : reward 98.0\r",
      "ep 553 : reward 107.0\r",
      "ep 554 : reward 90.0\r"
     ]
    },
    {
     "name": "stdout",
     "output_type": "stream",
     "text": [
      "ep 555 : reward 95.0\r",
      "ep 556 : reward 95.0\r",
      "ep 557 : reward 388.0\r"
     ]
    },
    {
     "name": "stdout",
     "output_type": "stream",
     "text": [
      "ep 558 : reward 345.0\r",
      "ep 559 : reward 322.0\r",
      "ep 560 : reward 232.0\r",
      "ep 561 : reward 106.0\r"
     ]
    },
    {
     "name": "stdout",
     "output_type": "stream",
     "text": [
      "ep 562 : reward 114.0\r",
      "ep 563 : reward 224.0\r",
      "ep 564 : reward 100.0\r",
      "ep 565 : reward 234.0\r"
     ]
    },
    {
     "name": "stdout",
     "output_type": "stream",
     "text": [
      "ep 566 : reward 115.0\r",
      "ep 567 : reward 245.0\r",
      "ep 568 : reward 175.0\r"
     ]
    },
    {
     "name": "stdout",
     "output_type": "stream",
     "text": [
      "ep 569 : reward 500.0\r",
      "ep 570 : reward 500.0\r"
     ]
    },
    {
     "name": "stdout",
     "output_type": "stream",
     "text": [
      "ep 571 : reward 396.0\r",
      "ep 572 : reward 183.0\r",
      "ep 573 : reward 114.0\r",
      "ep 574 : reward 236.0\r"
     ]
    },
    {
     "name": "stdout",
     "output_type": "stream",
     "text": [
      "ep 575 : reward 189.0\r",
      "ep 576 : reward 241.0\r",
      "ep 577 : reward 360.0\r"
     ]
    },
    {
     "name": "stdout",
     "output_type": "stream",
     "text": [
      "ep 578 : reward 118.0\r",
      "ep 579 : reward 241.0\r",
      "ep 580 : reward 247.0\r",
      "ep 581 : reward 179.0\r"
     ]
    },
    {
     "name": "stdout",
     "output_type": "stream",
     "text": [
      "ep 582 : reward 237.0\r",
      "ep 583 : reward 179.0\r",
      "ep 584 : reward 253.0\r"
     ]
    },
    {
     "name": "stdout",
     "output_type": "stream",
     "text": [
      "ep 585 : reward 260.0\r",
      "ep 586 : reward 376.0\r",
      "ep 587 : reward 336.0\r"
     ]
    },
    {
     "name": "stdout",
     "output_type": "stream",
     "text": [
      "ep 588 : reward 180.0\r",
      "ep 589 : reward 252.0\r",
      "ep 590 : reward 500.0\r"
     ]
    },
    {
     "name": "stdout",
     "output_type": "stream",
     "text": [
      "ep 591 : reward 500.0\r",
      "ep 592 : reward 466.0\r"
     ]
    },
    {
     "name": "stdout",
     "output_type": "stream",
     "text": [
      "ep 593 : reward 399.0\r",
      "ep 594 : reward 500.0\r"
     ]
    },
    {
     "name": "stdout",
     "output_type": "stream",
     "text": [
      "ep 595 : reward 500.0\r",
      "ep 596 : reward 500.0\r"
     ]
    },
    {
     "name": "stdout",
     "output_type": "stream",
     "text": [
      "ep 597 : reward 500.0\r",
      "ep 598 : reward 500.0\r"
     ]
    },
    {
     "name": "stdout",
     "output_type": "stream",
     "text": [
      "ep 599 : reward 500.0\r",
      "ep 600 : reward 389.0\r",
      "ep 601 : reward 262.0\r"
     ]
    },
    {
     "name": "stdout",
     "output_type": "stream",
     "text": [
      "ep 602 : reward 395.0\r",
      "ep 603 : reward 267.0\r",
      "ep 604 : reward 103.0\r",
      "ep 605 : reward 98.0\r",
      "ep 606 : reward 98.0\r"
     ]
    },
    {
     "name": "stdout",
     "output_type": "stream",
     "text": [
      "ep 607 : reward 217.0\r",
      "ep 608 : reward 102.0\r",
      "ep 609 : reward 246.0\r",
      "ep 610 : reward 115.0\r"
     ]
    },
    {
     "name": "stdout",
     "output_type": "stream",
     "text": [
      "ep 611 : reward 169.0\r",
      "ep 612 : reward 231.0\r",
      "ep 613 : reward 182.0\r",
      "ep 614 : reward 236.0\r"
     ]
    },
    {
     "name": "stdout",
     "output_type": "stream",
     "text": [
      "ep 615 : reward 238.0\r",
      "ep 616 : reward 237.0\r",
      "ep 617 : reward 234.0\r",
      "ep 618 : reward 243.0\r"
     ]
    },
    {
     "name": "stdout",
     "output_type": "stream",
     "text": [
      "ep 619 : reward 96.0\r",
      "ep 620 : reward 87.0\r",
      "ep 621 : reward 110.0\r",
      "ep 622 : reward 101.0\r",
      "ep 623 : reward 103.0\r"
     ]
    },
    {
     "name": "stdout",
     "output_type": "stream",
     "text": [
      "ep 624 : reward 226.0\r",
      "ep 625 : reward 94.0\r",
      "ep 626 : reward 228.0\r",
      "ep 627 : reward 113.0\r"
     ]
    },
    {
     "name": "stdout",
     "output_type": "stream",
     "text": [
      "ep 628 : reward 236.0\r",
      "ep 629 : reward 97.0\r",
      "ep 630 : reward 186.0\r",
      "ep 631 : reward 246.0\r"
     ]
    },
    {
     "name": "stdout",
     "output_type": "stream",
     "text": [
      "ep 632 : reward 245.0\r",
      "ep 633 : reward 251.0\r",
      "ep 634 : reward 250.0\r"
     ]
    },
    {
     "name": "stdout",
     "output_type": "stream",
     "text": [
      "ep 635 : reward 242.0\r",
      "ep 636 : reward 291.0\r",
      "ep 637 : reward 359.0\r"
     ]
    },
    {
     "name": "stdout",
     "output_type": "stream",
     "text": [
      "ep 638 : reward 322.0\r",
      "ep 639 : reward 257.0\r",
      "ep 640 : reward 258.0\r"
     ]
    },
    {
     "name": "stdout",
     "output_type": "stream",
     "text": [
      "ep 641 : reward 375.0\r",
      "ep 642 : reward 246.0\r",
      "ep 643 : reward 164.0\r",
      "ep 644 : reward 202.0\r"
     ]
    },
    {
     "name": "stdout",
     "output_type": "stream",
     "text": [
      "ep 645 : reward 239.0\r",
      "ep 646 : reward 230.0\r",
      "ep 647 : reward 376.0\r"
     ]
    },
    {
     "name": "stdout",
     "output_type": "stream",
     "text": [
      "ep 648 : reward 118.0\r",
      "ep 649 : reward 321.0\r",
      "ep 650 : reward 95.0\r",
      "ep 651 : reward 94.0\r"
     ]
    },
    {
     "name": "stdout",
     "output_type": "stream",
     "text": [
      "ep 652 : reward 101.0\r",
      "ep 653 : reward 96.0\r",
      "ep 654 : reward 392.0\r"
     ]
    },
    {
     "name": "stdout",
     "output_type": "stream",
     "text": [
      "ep 655 : reward 322.0\r",
      "ep 656 : reward 500.0\r"
     ]
    },
    {
     "name": "stdout",
     "output_type": "stream",
     "text": [
      "ep 657 : reward 500.0\r",
      "ep 658 : reward 500.0\r"
     ]
    },
    {
     "name": "stdout",
     "output_type": "stream",
     "text": [
      "ep 659 : reward 500.0\r",
      "ep 660 : reward 500.0\r"
     ]
    },
    {
     "name": "stdout",
     "output_type": "stream",
     "text": [
      "ep 661 : reward 500.0\r",
      "ep 662 : reward 314.0\r"
     ]
    },
    {
     "name": "stdout",
     "output_type": "stream",
     "text": [
      "ep 663 : reward 500.0\r",
      "ep 664 : reward 313.0\r",
      "ep 665 : reward 326.0\r"
     ]
    },
    {
     "name": "stdout",
     "output_type": "stream",
     "text": [
      "ep 666 : reward 255.0\r",
      "ep 667 : reward 380.0\r",
      "ep 668 : reward 378.0\r"
     ]
    },
    {
     "name": "stdout",
     "output_type": "stream",
     "text": [
      "ep 669 : reward 388.0\r",
      "ep 670 : reward 240.0\r",
      "ep 671 : reward 246.0\r",
      "ep 672 : reward 97.0\r"
     ]
    },
    {
     "name": "stdout",
     "output_type": "stream",
     "text": [
      "ep 673 : reward 188.0\r",
      "ep 674 : reward 102.0\r",
      "ep 675 : reward 105.0\r",
      "ep 676 : reward 226.0\r",
      "ep 677 : reward 98.0\r"
     ]
    },
    {
     "name": "stdout",
     "output_type": "stream",
     "text": [
      "ep 678 : reward 243.0\r",
      "ep 679 : reward 182.0\r",
      "ep 680 : reward 104.0\r",
      "ep 681 : reward 237.0\r"
     ]
    },
    {
     "name": "stdout",
     "output_type": "stream",
     "text": [
      "ep 682 : reward 130.0\r",
      "ep 683 : reward 246.0\r",
      "ep 684 : reward 248.0\r"
     ]
    },
    {
     "name": "stdout",
     "output_type": "stream",
     "text": [
      "ep 685 : reward 248.0\r",
      "ep 686 : reward 266.0\r",
      "ep 687 : reward 242.0\r"
     ]
    },
    {
     "name": "stdout",
     "output_type": "stream",
     "text": [
      "ep 688 : reward 258.0\r",
      "ep 689 : reward 247.0\r",
      "ep 690 : reward 246.0\r"
     ]
    },
    {
     "name": "stdout",
     "output_type": "stream",
     "text": [
      "ep 691 : reward 240.0\r",
      "ep 692 : reward 321.0\r",
      "ep 693 : reward 171.0\r"
     ]
    },
    {
     "name": "stdout",
     "output_type": "stream",
     "text": [
      "ep 694 : reward 196.0\r",
      "ep 695 : reward 500.0\r"
     ]
    },
    {
     "name": "stdout",
     "output_type": "stream",
     "text": [
      "ep 696 : reward 500.0\r",
      "ep 697 : reward 500.0\r"
     ]
    },
    {
     "name": "stdout",
     "output_type": "stream",
     "text": [
      "ep 698 : reward 371.0\r",
      "ep 699 : reward 413.0\r",
      "ep 700 : reward 322.0\r"
     ]
    },
    {
     "name": "stdout",
     "output_type": "stream",
     "text": [
      "ep 701 : reward 500.0\r",
      "ep 702 : reward 394.0\r",
      "ep 703 : reward 267.0\r"
     ]
    },
    {
     "name": "stdout",
     "output_type": "stream",
     "text": [
      "ep 704 : reward 316.0\r",
      "ep 705 : reward 346.0\r",
      "ep 706 : reward 253.0\r"
     ]
    },
    {
     "name": "stdout",
     "output_type": "stream",
     "text": [
      "ep 707 : reward 239.0\r",
      "ep 708 : reward 102.0\r",
      "ep 709 : reward 33.0\r",
      "ep 710 : reward 25.0\r",
      "ep 711 : reward 33.0\r",
      "ep 712 : reward 28.0\r",
      "ep 713 : reward 22.0\r"
     ]
    },
    {
     "name": "stdout",
     "output_type": "stream",
     "text": [
      "ep 714 : reward 28.0\r",
      "ep 715 : reward 34.0\r",
      "ep 716 : reward 92.0\r",
      "ep 717 : reward 96.0\r",
      "ep 718 : reward 104.0\r",
      "ep 719 : reward 101.0\r"
     ]
    },
    {
     "name": "stdout",
     "output_type": "stream",
     "text": [
      "ep 720 : reward 178.0\r",
      "ep 721 : reward 234.0\r",
      "ep 722 : reward 240.0\r"
     ]
    },
    {
     "name": "stdout",
     "output_type": "stream",
     "text": [
      "ep 723 : reward 243.0\r",
      "ep 724 : reward 231.0\r",
      "ep 725 : reward 257.0\r"
     ]
    },
    {
     "name": "stdout",
     "output_type": "stream",
     "text": [
      "ep 726 : reward 250.0\r",
      "ep 727 : reward 261.0\r",
      "ep 728 : reward 254.0\r"
     ]
    },
    {
     "name": "stdout",
     "output_type": "stream",
     "text": [
      "ep 729 : reward 238.0\r",
      "ep 730 : reward 382.0\r",
      "ep 731 : reward 195.0\r"
     ]
    },
    {
     "name": "stdout",
     "output_type": "stream",
     "text": [
      "ep 732 : reward 388.0\r",
      "ep 733 : reward 107.0\r",
      "ep 734 : reward 233.0\r",
      "ep 735 : reward 102.0\r",
      "ep 736 : reward 110.0\r"
     ]
    },
    {
     "name": "stdout",
     "output_type": "stream",
     "text": [
      "ep 737 : reward 226.0\r",
      "ep 738 : reward 119.0\r",
      "ep 739 : reward 231.0\r",
      "ep 740 : reward 114.0\r"
     ]
    },
    {
     "name": "stdout",
     "output_type": "stream",
     "text": [
      "ep 741 : reward 233.0\r",
      "ep 742 : reward 364.0\r",
      "ep 743 : reward 247.0\r"
     ]
    },
    {
     "name": "stdout",
     "output_type": "stream",
     "text": [
      "ep 744 : reward 252.0\r",
      "ep 745 : reward 100.0\r",
      "ep 746 : reward 97.0\r",
      "ep 747 : reward 94.0\r",
      "ep 748 : reward 96.0\r"
     ]
    },
    {
     "name": "stdout",
     "output_type": "stream",
     "text": [
      "ep 749 : reward 189.0\r",
      "ep 750 : reward 173.0\r",
      "ep 751 : reward 99.0\r"
     ]
    },
    {
     "name": "stdout",
     "output_type": "stream",
     "text": [
      "ep 752 : reward 412.0\r",
      "ep 753 : reward 391.0\r",
      "ep 754 : reward 415.0\r"
     ]
    },
    {
     "name": "stdout",
     "output_type": "stream",
     "text": [
      "ep 755 : reward 400.0\r",
      "ep 756 : reward 98.0\r",
      "ep 757 : reward 375.0\r"
     ]
    },
    {
     "name": "stdout",
     "output_type": "stream",
     "text": [
      "ep 758 : reward 406.0\r",
      "ep 759 : reward 238.0\r",
      "ep 760 : reward 379.0\r"
     ]
    },
    {
     "name": "stdout",
     "output_type": "stream",
     "text": [
      "ep 761 : reward 387.0\r",
      "ep 762 : reward 269.0\r",
      "ep 763 : reward 324.0\r"
     ]
    },
    {
     "name": "stdout",
     "output_type": "stream",
     "text": [
      "ep 764 : reward 366.0\r",
      "ep 765 : reward 247.0\r",
      "ep 766 : reward 241.0\r"
     ]
    },
    {
     "name": "stdout",
     "output_type": "stream",
     "text": [
      "ep 767 : reward 500.0\r",
      "ep 768 : reward 500.0\r"
     ]
    },
    {
     "name": "stdout",
     "output_type": "stream",
     "text": [
      "ep 769 : reward 461.0\r",
      "ep 770 : reward 500.0\r"
     ]
    },
    {
     "name": "stdout",
     "output_type": "stream",
     "text": [
      "ep 771 : reward 500.0\r",
      "ep 772 : reward 403.0\r"
     ]
    },
    {
     "name": "stdout",
     "output_type": "stream",
     "text": [
      "ep 773 : reward 500.0\r",
      "ep 774 : reward 500.0\r"
     ]
    },
    {
     "name": "stdout",
     "output_type": "stream",
     "text": [
      "ep 775 : reward 256.0\r",
      "ep 776 : reward 250.0\r",
      "ep 777 : reward 250.0\r"
     ]
    },
    {
     "name": "stdout",
     "output_type": "stream",
     "text": [
      "ep 778 : reward 262.0\r",
      "ep 779 : reward 276.0\r",
      "ep 780 : reward 264.0\r",
      "ep 781 : reward 113.0\r"
     ]
    },
    {
     "name": "stdout",
     "output_type": "stream",
     "text": [
      "ep 782 : reward 256.0\r",
      "ep 783 : reward 97.0\r",
      "ep 784 : reward 241.0\r",
      "ep 785 : reward 249.0\r"
     ]
    },
    {
     "name": "stdout",
     "output_type": "stream",
     "text": [
      "ep 786 : reward 255.0\r",
      "ep 787 : reward 360.0\r",
      "ep 788 : reward 258.0\r"
     ]
    },
    {
     "name": "stdout",
     "output_type": "stream",
     "text": [
      "ep 789 : reward 247.0\r",
      "ep 790 : reward 259.0\r",
      "ep 791 : reward 241.0\r"
     ]
    },
    {
     "name": "stdout",
     "output_type": "stream",
     "text": [
      "ep 792 : reward 170.0\r",
      "ep 793 : reward 250.0\r",
      "ep 794 : reward 200.0\r"
     ]
    },
    {
     "name": "stdout",
     "output_type": "stream",
     "text": [
      "ep 795 : reward 245.0\r",
      "ep 796 : reward 111.0\r",
      "ep 797 : reward 202.0\r",
      "ep 798 : reward 249.0\r"
     ]
    },
    {
     "name": "stdout",
     "output_type": "stream",
     "text": [
      "ep 799 : reward 330.0\r",
      "ep 800 : reward 368.0\r"
     ]
    },
    {
     "name": "stdout",
     "output_type": "stream",
     "text": [
      "ep 801 : reward 500.0\r",
      "ep 802 : reward 500.0\r"
     ]
    },
    {
     "name": "stdout",
     "output_type": "stream",
     "text": [
      "ep 803 : reward 500.0\r",
      "ep 804 : reward 500.0\r"
     ]
    },
    {
     "name": "stdout",
     "output_type": "stream",
     "text": [
      "ep 805 : reward 488.0\r",
      "ep 806 : reward 500.0\r"
     ]
    },
    {
     "name": "stdout",
     "output_type": "stream",
     "text": [
      "ep 807 : reward 321.0\r",
      "ep 808 : reward 338.0\r",
      "ep 809 : reward 315.0\r"
     ]
    },
    {
     "name": "stdout",
     "output_type": "stream",
     "text": [
      "ep 810 : reward 313.0\r",
      "ep 811 : reward 387.0\r",
      "ep 812 : reward 254.0\r"
     ]
    },
    {
     "name": "stdout",
     "output_type": "stream",
     "text": [
      "ep 813 : reward 261.0\r",
      "ep 814 : reward 384.0\r",
      "ep 815 : reward 377.0\r"
     ]
    },
    {
     "name": "stdout",
     "output_type": "stream",
     "text": [
      "ep 816 : reward 391.0\r",
      "ep 817 : reward 400.0\r",
      "ep 818 : reward 259.0\r"
     ]
    },
    {
     "name": "stdout",
     "output_type": "stream",
     "text": [
      "ep 819 : reward 328.0\r",
      "ep 820 : reward 405.0\r",
      "ep 821 : reward 343.0\r"
     ]
    },
    {
     "name": "stdout",
     "output_type": "stream",
     "text": [
      "ep 822 : reward 500.0\r",
      "ep 823 : reward 500.0\r"
     ]
    },
    {
     "name": "stdout",
     "output_type": "stream",
     "text": [
      "ep 824 : reward 500.0\r",
      "ep 825 : reward 194.0\r",
      "ep 826 : reward 500.0\r"
     ]
    },
    {
     "name": "stdout",
     "output_type": "stream",
     "text": [
      "ep 827 : reward 292.0\r",
      "ep 828 : reward 401.0\r",
      "ep 829 : reward 259.0\r"
     ]
    },
    {
     "name": "stdout",
     "output_type": "stream",
     "text": [
      "ep 830 : reward 367.0\r",
      "ep 831 : reward 239.0\r",
      "ep 832 : reward 250.0\r"
     ]
    },
    {
     "name": "stdout",
     "output_type": "stream",
     "text": [
      "ep 833 : reward 252.0\r",
      "ep 834 : reward 253.0\r",
      "ep 835 : reward 115.0\r",
      "ep 836 : reward 298.0\r"
     ]
    },
    {
     "name": "stdout",
     "output_type": "stream",
     "text": [
      "ep 837 : reward 500.0\r",
      "ep 838 : reward 500.0\r"
     ]
    },
    {
     "name": "stdout",
     "output_type": "stream",
     "text": [
      "ep 839 : reward 500.0\r",
      "ep 840 : reward 404.0\r"
     ]
    },
    {
     "name": "stdout",
     "output_type": "stream",
     "text": [
      "ep 841 : reward 500.0\r",
      "ep 842 : reward 198.0\r",
      "ep 843 : reward 326.0\r"
     ]
    },
    {
     "name": "stdout",
     "output_type": "stream",
     "text": [
      "ep 844 : reward 234.0\r",
      "ep 845 : reward 254.0\r",
      "ep 846 : reward 256.0\r"
     ]
    },
    {
     "name": "stdout",
     "output_type": "stream",
     "text": [
      "ep 847 : reward 384.0\r",
      "ep 848 : reward 251.0\r",
      "ep 849 : reward 238.0\r"
     ]
    },
    {
     "name": "stdout",
     "output_type": "stream",
     "text": [
      "ep 850 : reward 254.0\r",
      "ep 851 : reward 248.0\r",
      "ep 852 : reward 240.0\r"
     ]
    },
    {
     "name": "stdout",
     "output_type": "stream",
     "text": [
      "ep 853 : reward 238.0\r",
      "ep 854 : reward 238.0\r",
      "ep 855 : reward 373.0\r"
     ]
    },
    {
     "name": "stdout",
     "output_type": "stream",
     "text": [
      "ep 856 : reward 251.0\r",
      "ep 857 : reward 362.0\r",
      "ep 858 : reward 239.0\r"
     ]
    },
    {
     "name": "stdout",
     "output_type": "stream",
     "text": [
      "ep 859 : reward 377.0\r",
      "ep 860 : reward 372.0\r",
      "ep 861 : reward 322.0\r"
     ]
    },
    {
     "name": "stdout",
     "output_type": "stream",
     "text": [
      "ep 862 : reward 247.0\r",
      "ep 863 : reward 174.0\r",
      "ep 864 : reward 40.0\r",
      "ep 865 : reward 97.0\r",
      "ep 866 : reward 255.0\r"
     ]
    },
    {
     "name": "stdout",
     "output_type": "stream",
     "text": [
      "ep 867 : reward 253.0\r",
      "ep 868 : reward 257.0\r",
      "ep 869 : reward 263.0\r"
     ]
    },
    {
     "name": "stdout",
     "output_type": "stream",
     "text": [
      "ep 870 : reward 259.0\r",
      "ep 871 : reward 248.0\r",
      "ep 872 : reward 184.0\r",
      "ep 873 : reward 244.0\r"
     ]
    },
    {
     "name": "stdout",
     "output_type": "stream",
     "text": [
      "ep 874 : reward 321.0\r",
      "ep 875 : reward 238.0\r",
      "ep 876 : reward 107.0\r",
      "ep 877 : reward 98.0\r",
      "ep 878 : reward 102.0\r"
     ]
    },
    {
     "name": "stdout",
     "output_type": "stream",
     "text": [
      "ep 879 : reward 96.0\r",
      "ep 880 : reward 105.0\r",
      "ep 881 : reward 233.0\r",
      "ep 882 : reward 225.0\r"
     ]
    },
    {
     "name": "stdout",
     "output_type": "stream",
     "text": [
      "ep 883 : reward 109.0\r",
      "ep 884 : reward 110.0\r",
      "ep 885 : reward 192.0\r",
      "ep 886 : reward 95.0\r",
      "ep 887 : reward 185.0\r"
     ]
    },
    {
     "name": "stdout",
     "output_type": "stream",
     "text": [
      "ep 888 : reward 93.0\r",
      "ep 889 : reward 101.0\r",
      "ep 890 : reward 94.0\r",
      "ep 891 : reward 102.0\r",
      "ep 892 : reward 90.0\r"
     ]
    },
    {
     "name": "stdout",
     "output_type": "stream",
     "text": [
      "ep 893 : reward 225.0\r",
      "ep 894 : reward 100.0\r",
      "ep 895 : reward 183.0\r",
      "ep 896 : reward 100.0\r",
      "ep 897 : reward 183.0\r"
     ]
    },
    {
     "name": "stdout",
     "output_type": "stream",
     "text": [
      "ep 898 : reward 181.0\r",
      "ep 899 : reward 240.0\r",
      "ep 900 : reward 391.0\r"
     ]
    },
    {
     "name": "stdout",
     "output_type": "stream",
     "text": [
      "ep 901 : reward 500.0\r",
      "ep 902 : reward 480.0\r"
     ]
    },
    {
     "name": "stdout",
     "output_type": "stream",
     "text": [
      "ep 903 : reward 500.0\r",
      "ep 904 : reward 478.0\r"
     ]
    },
    {
     "name": "stdout",
     "output_type": "stream",
     "text": [
      "ep 905 : reward 387.0\r",
      "ep 906 : reward 191.0\r",
      "ep 907 : reward 331.0\r"
     ]
    },
    {
     "name": "stdout",
     "output_type": "stream",
     "text": [
      "ep 908 : reward 342.0\r",
      "ep 909 : reward 500.0\r"
     ]
    },
    {
     "name": "stdout",
     "output_type": "stream",
     "text": [
      "ep 910 : reward 500.0\r",
      "ep 911 : reward 500.0\r"
     ]
    },
    {
     "name": "stdout",
     "output_type": "stream",
     "text": [
      "ep 912 : reward 500.0\r",
      "ep 913 : reward 500.0\r"
     ]
    },
    {
     "name": "stdout",
     "output_type": "stream",
     "text": [
      "ep 914 : reward 500.0\r",
      "ep 915 : reward 500.0\r"
     ]
    },
    {
     "name": "stdout",
     "output_type": "stream",
     "text": [
      "ep 916 : reward 451.0\r",
      "ep 917 : reward 500.0\r"
     ]
    },
    {
     "name": "stdout",
     "output_type": "stream",
     "text": [
      "ep 918 : reward 500.0\r",
      "ep 919 : reward 251.0\r",
      "ep 920 : reward 500.0\r"
     ]
    },
    {
     "name": "stdout",
     "output_type": "stream",
     "text": [
      "ep 921 : reward 335.0\r",
      "ep 922 : reward 245.0\r",
      "ep 923 : reward 385.0\r"
     ]
    },
    {
     "name": "stdout",
     "output_type": "stream",
     "text": [
      "ep 924 : reward 252.0\r",
      "ep 925 : reward 184.0\r",
      "ep 926 : reward 385.0\r"
     ]
    },
    {
     "name": "stdout",
     "output_type": "stream",
     "text": [
      "ep 927 : reward 260.0\r",
      "ep 928 : reward 185.0\r",
      "ep 929 : reward 370.0\r"
     ]
    },
    {
     "name": "stdout",
     "output_type": "stream",
     "text": [
      "ep 930 : reward 234.0\r",
      "ep 931 : reward 262.0\r",
      "ep 932 : reward 243.0\r"
     ]
    },
    {
     "name": "stdout",
     "output_type": "stream",
     "text": [
      "ep 933 : reward 259.0\r",
      "ep 934 : reward 325.0\r",
      "ep 935 : reward 105.0\r"
     ]
    },
    {
     "name": "stdout",
     "output_type": "stream",
     "text": [
      "ep 936 : reward 370.0\r",
      "ep 937 : reward 250.0\r",
      "ep 938 : reward 258.0\r"
     ]
    },
    {
     "name": "stdout",
     "output_type": "stream",
     "text": [
      "ep 939 : reward 175.0\r",
      "ep 940 : reward 105.0\r",
      "ep 941 : reward 231.0\r",
      "ep 942 : reward 103.0\r",
      "ep 943 : reward 96.0\r"
     ]
    },
    {
     "name": "stdout",
     "output_type": "stream",
     "text": [
      "ep 944 : reward 103.0\r",
      "ep 945 : reward 226.0\r",
      "ep 946 : reward 500.0\r"
     ]
    },
    {
     "name": "stdout",
     "output_type": "stream",
     "text": [
      "ep 947 : reward 409.0\r",
      "ep 948 : reward 500.0\r"
     ]
    },
    {
     "name": "stdout",
     "output_type": "stream",
     "text": [
      "ep 949 : reward 376.0\r",
      "ep 950 : reward 331.0\r",
      "ep 951 : reward 327.0\r"
     ]
    },
    {
     "name": "stdout",
     "output_type": "stream",
     "text": [
      "ep 952 : reward 261.0\r",
      "ep 953 : reward 319.0\r",
      "ep 954 : reward 265.0\r"
     ]
    },
    {
     "name": "stdout",
     "output_type": "stream",
     "text": [
      "ep 955 : reward 398.0\r",
      "ep 956 : reward 271.0\r",
      "ep 957 : reward 368.0\r"
     ]
    },
    {
     "name": "stdout",
     "output_type": "stream",
     "text": [
      "ep 958 : reward 245.0\r",
      "ep 959 : reward 193.0\r",
      "ep 960 : reward 312.0\r"
     ]
    },
    {
     "name": "stdout",
     "output_type": "stream",
     "text": [
      "ep 961 : reward 177.0\r",
      "ep 962 : reward 376.0\r"
     ]
    },
    {
     "name": "stdout",
     "output_type": "stream",
     "text": [
      "ep 963 : reward 395.0\r",
      "ep 964 : reward 250.0\r",
      "ep 965 : reward 336.0\r"
     ]
    },
    {
     "name": "stdout",
     "output_type": "stream",
     "text": [
      "ep 966 : reward 240.0\r",
      "ep 967 : reward 254.0\r",
      "ep 968 : reward 222.0\r"
     ]
    },
    {
     "name": "stdout",
     "output_type": "stream",
     "text": [
      "ep 969 : reward 250.0\r",
      "ep 970 : reward 182.0\r",
      "ep 971 : reward 188.0\r",
      "ep 972 : reward 181.0\r"
     ]
    },
    {
     "name": "stdout",
     "output_type": "stream",
     "text": [
      "ep 973 : reward 175.0\r",
      "ep 974 : reward 310.0\r",
      "ep 975 : reward 261.0\r"
     ]
    },
    {
     "name": "stdout",
     "output_type": "stream",
     "text": [
      "ep 976 : reward 266.0\r",
      "ep 977 : reward 246.0\r",
      "ep 978 : reward 238.0\r"
     ]
    },
    {
     "name": "stdout",
     "output_type": "stream",
     "text": [
      "ep 979 : reward 248.0\r",
      "ep 980 : reward 257.0\r",
      "ep 981 : reward 181.0\r",
      "ep 982 : reward 250.0\r"
     ]
    },
    {
     "name": "stdout",
     "output_type": "stream",
     "text": [
      "ep 983 : reward 255.0\r",
      "ep 984 : reward 379.0\r",
      "ep 985 : reward 333.0\r"
     ]
    },
    {
     "name": "stdout",
     "output_type": "stream",
     "text": [
      "ep 986 : reward 242.0\r",
      "ep 987 : reward 170.0\r",
      "ep 988 : reward 372.0\r"
     ]
    },
    {
     "name": "stdout",
     "output_type": "stream",
     "text": [
      "ep 989 : reward 260.0\r",
      "ep 990 : reward 240.0\r",
      "ep 991 : reward 112.0\r",
      "ep 992 : reward 241.0\r"
     ]
    },
    {
     "name": "stdout",
     "output_type": "stream",
     "text": [
      "ep 993 : reward 168.0\r",
      "ep 994 : reward 193.0\r",
      "ep 995 : reward 234.0\r",
      "ep 996 : reward 256.0\r"
     ]
    },
    {
     "name": "stdout",
     "output_type": "stream",
     "text": [
      "ep 997 : reward 255.0\r",
      "ep 998 : reward 103.0\r",
      "ep 999 : reward 96.0\r",
      "ep 1000 : reward 22.0\r",
      "ep 1001 : reward 90.0\r"
     ]
    },
    {
     "name": "stdout",
     "output_type": "stream",
     "text": [
      "ep 1002 : reward 32.0\r",
      "ep 1003 : reward 92.0\r",
      "ep 1004 : reward 98.0\r",
      "ep 1005 : reward 98.0\r",
      "ep 1006 : reward 93.0\r"
     ]
    },
    {
     "name": "stdout",
     "output_type": "stream",
     "text": [
      "ep 1007 : reward 108.0\r",
      "ep 1008 : reward 238.0\r",
      "ep 1009 : reward 222.0\r",
      "ep 1010 : reward 177.0\r"
     ]
    },
    {
     "name": "stdout",
     "output_type": "stream",
     "text": [
      "ep 1011 : reward 105.0\r",
      "ep 1012 : reward 189.0\r",
      "ep 1013 : reward 95.0\r",
      "ep 1014 : reward 322.0\r"
     ]
    },
    {
     "name": "stdout",
     "output_type": "stream",
     "text": [
      "ep 1015 : reward 434.0\r",
      "ep 1016 : reward 471.0\r"
     ]
    },
    {
     "name": "stdout",
     "output_type": "stream",
     "text": [
      "ep 1017 : reward 479.0\r",
      "ep 1018 : reward 474.0\r"
     ]
    },
    {
     "name": "stdout",
     "output_type": "stream",
     "text": [
      "ep 1019 : reward 415.0\r",
      "ep 1020 : reward 263.0\r",
      "ep 1021 : reward 191.0\r",
      "ep 1022 : reward 103.0\r"
     ]
    },
    {
     "name": "stdout",
     "output_type": "stream",
     "text": [
      "ep 1023 : reward 100.0\r",
      "ep 1024 : reward 251.0\r",
      "ep 1025 : reward 237.0\r"
     ]
    },
    {
     "name": "stdout",
     "output_type": "stream",
     "text": [
      "ep 1026 : reward 241.0\r",
      "ep 1027 : reward 231.0\r",
      "ep 1028 : reward 178.0\r",
      "ep 1029 : reward 234.0\r"
     ]
    },
    {
     "name": "stdout",
     "output_type": "stream",
     "text": [
      "ep 1030 : reward 416.0\r",
      "ep 1031 : reward 388.0\r",
      "ep 1032 : reward 242.0\r"
     ]
    },
    {
     "name": "stdout",
     "output_type": "stream",
     "text": [
      "ep 1033 : reward 102.0\r",
      "ep 1034 : reward 231.0\r",
      "ep 1035 : reward 173.0\r",
      "ep 1036 : reward 112.0\r"
     ]
    },
    {
     "name": "stdout",
     "output_type": "stream",
     "text": [
      "ep 1037 : reward 96.0\r",
      "ep 1038 : reward 245.0\r",
      "ep 1039 : reward 261.0\r"
     ]
    },
    {
     "name": "stdout",
     "output_type": "stream",
     "text": [
      "ep 1040 : reward 375.0\r",
      "ep 1041 : reward 254.0\r",
      "ep 1042 : reward 261.0\r"
     ]
    },
    {
     "name": "stdout",
     "output_type": "stream",
     "text": [
      "ep 1043 : reward 254.0\r",
      "ep 1044 : reward 269.0\r",
      "ep 1045 : reward 168.0\r"
     ]
    },
    {
     "name": "stdout",
     "output_type": "stream",
     "text": [
      "ep 1046 : reward 242.0\r",
      "ep 1047 : reward 168.0\r",
      "ep 1048 : reward 247.0\r",
      "ep 1049 : reward 255.0\r"
     ]
    },
    {
     "name": "stdout",
     "output_type": "stream",
     "text": [
      "ep 1050 : reward 112.0\r",
      "ep 1051 : reward 107.0\r",
      "ep 1052 : reward 240.0\r",
      "ep 1053 : reward 180.0\r",
      "ep 1054 : reward 91.0\r"
     ]
    },
    {
     "name": "stdout",
     "output_type": "stream",
     "text": [
      "ep 1055 : reward 200.0\r",
      "ep 1056 : reward 242.0\r",
      "ep 1057 : reward 185.0\r",
      "ep 1058 : reward 184.0\r"
     ]
    },
    {
     "name": "stdout",
     "output_type": "stream",
     "text": [
      "ep 1059 : reward 236.0\r",
      "ep 1060 : reward 171.0\r",
      "ep 1061 : reward 240.0\r",
      "ep 1062 : reward 234.0\r"
     ]
    },
    {
     "name": "stdout",
     "output_type": "stream",
     "text": [
      "ep 1063 : reward 96.0\r",
      "ep 1064 : reward 99.0\r",
      "ep 1065 : reward 99.0\r",
      "ep 1066 : reward 226.0\r"
     ]
    },
    {
     "name": "stdout",
     "output_type": "stream",
     "text": [
      "ep 1067 : reward 108.0\r",
      "ep 1068 : reward 395.0\r"
     ]
    },
    {
     "name": "stdout",
     "output_type": "stream",
     "text": [
      "ep 1069 : reward 388.0\r",
      "ep 1070 : reward 393.0\r"
     ]
    },
    {
     "name": "stdout",
     "output_type": "stream",
     "text": [
      "ep 1071 : reward 396.0\r",
      "ep 1072 : reward 251.0\r",
      "ep 1073 : reward 109.0\r"
     ]
    },
    {
     "name": "stdout",
     "output_type": "stream",
     "text": [
      "ep 1074 : reward 394.0\r",
      "ep 1075 : reward 173.0\r",
      "ep 1076 : reward 181.0\r",
      "ep 1077 : reward 34.0\r",
      "ep 1078 : reward 25.0\r"
     ]
    },
    {
     "name": "stdout",
     "output_type": "stream",
     "text": [
      "ep 1079 : reward 36.0\r",
      "ep 1080 : reward 241.0\r",
      "ep 1081 : reward 241.0\r"
     ]
    },
    {
     "name": "stdout",
     "output_type": "stream",
     "text": [
      "ep 1082 : reward 236.0\r",
      "ep 1083 : reward 244.0\r",
      "ep 1084 : reward 270.0\r",
      "ep 1085 : reward 114.0\r"
     ]
    },
    {
     "name": "stdout",
     "output_type": "stream",
     "text": [
      "ep 1086 : reward 91.0\r",
      "ep 1087 : reward 104.0\r",
      "ep 1088 : reward 99.0\r",
      "ep 1089 : reward 104.0\r",
      "ep 1090 : reward 100.0\r"
     ]
    },
    {
     "name": "stdout",
     "output_type": "stream",
     "text": [
      "ep 1091 : reward 97.0\r",
      "ep 1092 : reward 93.0\r",
      "ep 1093 : reward 243.0\r"
     ]
    },
    {
     "name": "stdout",
     "output_type": "stream",
     "text": [
      "ep 1094 : reward 365.0\r",
      "ep 1095 : reward 283.0\r",
      "ep 1096 : reward 325.0\r"
     ]
    },
    {
     "name": "stdout",
     "output_type": "stream",
     "text": [
      "ep 1097 : reward 500.0\r",
      "ep 1098 : reward 500.0\r"
     ]
    },
    {
     "name": "stdout",
     "output_type": "stream",
     "text": [
      "ep 1099 : reward 500.0\r",
      "ep 1100 : reward 500.0\r"
     ]
    },
    {
     "name": "stdout",
     "output_type": "stream",
     "text": [
      "ep 1101 : reward 500.0\r",
      "ep 1102 : reward 255.0\r",
      "ep 1103 : reward 350.0\r"
     ]
    },
    {
     "name": "stdout",
     "output_type": "stream",
     "text": [
      "ep 1104 : reward 241.0\r",
      "ep 1105 : reward 231.0\r",
      "ep 1106 : reward 386.0\r"
     ]
    },
    {
     "name": "stdout",
     "output_type": "stream",
     "text": [
      "ep 1107 : reward 413.0\r",
      "ep 1108 : reward 500.0\r"
     ]
    },
    {
     "name": "stdout",
     "output_type": "stream",
     "text": [
      "ep 1109 : reward 410.0\r",
      "ep 1110 : reward 500.0\r"
     ]
    },
    {
     "name": "stdout",
     "output_type": "stream",
     "text": [
      "ep 1111 : reward 500.0\r",
      "ep 1112 : reward 380.0\r",
      "ep 1113 : reward 384.0\r"
     ]
    },
    {
     "name": "stdout",
     "output_type": "stream",
     "text": [
      "ep 1114 : reward 416.0\r",
      "ep 1115 : reward 239.0\r",
      "ep 1116 : reward 239.0\r"
     ]
    },
    {
     "name": "stdout",
     "output_type": "stream",
     "text": [
      "ep 1117 : reward 248.0\r",
      "ep 1118 : reward 376.0\r",
      "ep 1119 : reward 330.0\r"
     ]
    },
    {
     "name": "stdout",
     "output_type": "stream",
     "text": [
      "ep 1120 : reward 256.0\r",
      "ep 1121 : reward 247.0\r",
      "ep 1122 : reward 256.0\r",
      "ep 1123 : reward 180.0\r"
     ]
    },
    {
     "name": "stdout",
     "output_type": "stream",
     "text": [
      "ep 1124 : reward 255.0\r",
      "ep 1125 : reward 247.0\r",
      "ep 1126 : reward 248.0\r"
     ]
    },
    {
     "name": "stdout",
     "output_type": "stream",
     "text": [
      "ep 1127 : reward 179.0\r",
      "ep 1128 : reward 251.0\r",
      "ep 1129 : reward 250.0\r",
      "ep 1130 : reward 112.0\r"
     ]
    },
    {
     "name": "stdout",
     "output_type": "stream",
     "text": [
      "ep 1131 : reward 181.0\r",
      "ep 1132 : reward 263.0\r",
      "ep 1133 : reward 101.0\r",
      "ep 1134 : reward 108.0\r"
     ]
    },
    {
     "name": "stdout",
     "output_type": "stream",
     "text": [
      "ep 1135 : reward 238.0\r",
      "ep 1136 : reward 252.0\r",
      "ep 1137 : reward 242.0\r"
     ]
    },
    {
     "name": "stdout",
     "output_type": "stream",
     "text": [
      "ep 1138 : reward 248.0\r",
      "ep 1139 : reward 237.0\r",
      "ep 1140 : reward 245.0\r"
     ]
    },
    {
     "name": "stdout",
     "output_type": "stream",
     "text": [
      "ep 1141 : reward 242.0\r",
      "ep 1142 : reward 244.0\r",
      "ep 1143 : reward 112.0\r",
      "ep 1144 : reward 257.0\r"
     ]
    },
    {
     "name": "stdout",
     "output_type": "stream",
     "text": [
      "ep 1145 : reward 107.0\r",
      "ep 1146 : reward 115.0\r",
      "ep 1147 : reward 244.0\r",
      "ep 1148 : reward 246.0\r"
     ]
    },
    {
     "name": "stdout",
     "output_type": "stream",
     "text": [
      "ep 1149 : reward 253.0\r",
      "ep 1150 : reward 306.0\r",
      "ep 1151 : reward 250.0\r"
     ]
    },
    {
     "name": "stdout",
     "output_type": "stream",
     "text": [
      "ep 1152 : reward 263.0\r",
      "ep 1153 : reward 247.0\r",
      "ep 1154 : reward 246.0\r"
     ]
    },
    {
     "name": "stdout",
     "output_type": "stream",
     "text": [
      "ep 1155 : reward 329.0\r",
      "ep 1156 : reward 389.0\r",
      "ep 1157 : reward 238.0\r"
     ]
    },
    {
     "name": "stdout",
     "output_type": "stream",
     "text": [
      "ep 1158 : reward 391.0\r",
      "ep 1159 : reward 321.0\r"
     ]
    },
    {
     "name": "stdout",
     "output_type": "stream",
     "text": [
      "ep 1160 : reward 500.0\r",
      "ep 1161 : reward 500.0\r",
      "ep 1162 : reward 257.0\r"
     ]
    },
    {
     "name": "stdout",
     "output_type": "stream",
     "text": [
      "ep 1163 : reward 430.0\r",
      "ep 1164 : reward 500.0\r"
     ]
    },
    {
     "name": "stdout",
     "output_type": "stream",
     "text": [
      "ep 1165 : reward 325.0\r",
      "ep 1166 : reward 260.0\r",
      "ep 1167 : reward 390.0\r"
     ]
    },
    {
     "name": "stdout",
     "output_type": "stream",
     "text": [
      "ep 1168 : reward 412.0\r",
      "ep 1169 : reward 362.0\r",
      "ep 1170 : reward 397.0\r"
     ]
    },
    {
     "name": "stdout",
     "output_type": "stream",
     "text": [
      "ep 1171 : reward 381.0\r",
      "ep 1172 : reward 407.0\r",
      "ep 1173 : reward 370.0\r"
     ]
    },
    {
     "name": "stdout",
     "output_type": "stream",
     "text": [
      "ep 1174 : reward 245.0\r",
      "ep 1175 : reward 176.0\r",
      "ep 1176 : reward 252.0\r",
      "ep 1177 : reward 187.0\r"
     ]
    },
    {
     "name": "stdout",
     "output_type": "stream",
     "text": [
      "ep 1178 : reward 257.0\r",
      "ep 1179 : reward 180.0\r",
      "ep 1180 : reward 177.0\r"
     ]
    },
    {
     "name": "stdout",
     "output_type": "stream",
     "text": [
      "ep 1181 : reward 364.0\r",
      "ep 1182 : reward 241.0\r",
      "ep 1183 : reward 235.0\r"
     ]
    },
    {
     "name": "stdout",
     "output_type": "stream",
     "text": [
      "ep 1184 : reward 254.0\r",
      "ep 1185 : reward 108.0\r",
      "ep 1186 : reward 237.0\r",
      "ep 1187 : reward 106.0\r"
     ]
    },
    {
     "name": "stdout",
     "output_type": "stream",
     "text": [
      "ep 1188 : reward 234.0\r",
      "ep 1189 : reward 252.0\r",
      "ep 1190 : reward 248.0\r"
     ]
    },
    {
     "name": "stdout",
     "output_type": "stream",
     "text": [
      "ep 1191 : reward 232.0\r",
      "ep 1192 : reward 255.0\r",
      "ep 1193 : reward 252.0\r"
     ]
    },
    {
     "name": "stdout",
     "output_type": "stream",
     "text": [
      "ep 1194 : reward 234.0\r",
      "ep 1195 : reward 242.0\r",
      "ep 1196 : reward 449.0\r"
     ]
    },
    {
     "name": "stdout",
     "output_type": "stream",
     "text": [
      "ep 1197 : reward 323.0\r",
      "ep 1198 : reward 500.0\r"
     ]
    },
    {
     "name": "stdout",
     "output_type": "stream",
     "text": [
      "ep 1199 : reward 476.0\r",
      "ep 1200 : reward 168.0\r",
      "ep 1201 : reward 270.0\r"
     ]
    },
    {
     "name": "stdout",
     "output_type": "stream",
     "text": [
      "ep 1202 : reward 384.0\r",
      "ep 1203 : reward 358.0\r",
      "ep 1204 : reward 337.0\r"
     ]
    },
    {
     "name": "stdout",
     "output_type": "stream",
     "text": [
      "ep 1205 : reward 410.0\r",
      "ep 1206 : reward 387.0\r"
     ]
    },
    {
     "name": "stdout",
     "output_type": "stream",
     "text": [
      "ep 1207 : reward 500.0\r",
      "ep 1208 : reward 387.0\r",
      "ep 1209 : reward 189.0\r"
     ]
    },
    {
     "name": "stdout",
     "output_type": "stream",
     "text": [
      "ep 1210 : reward 242.0\r",
      "ep 1211 : reward 266.0\r",
      "ep 1212 : reward 258.0\r"
     ]
    },
    {
     "name": "stdout",
     "output_type": "stream",
     "text": [
      "ep 1213 : reward 269.0\r",
      "ep 1214 : reward 88.0\r",
      "ep 1215 : reward 108.0\r",
      "ep 1216 : reward 100.0\r"
     ]
    },
    {
     "name": "stdout",
     "output_type": "stream",
     "text": [
      "ep 1217 : reward 346.0\r",
      "ep 1218 : reward 391.0\r",
      "ep 1219 : reward 239.0\r"
     ]
    },
    {
     "name": "stdout",
     "output_type": "stream",
     "text": [
      "ep 1220 : reward 256.0\r",
      "ep 1221 : reward 265.0\r",
      "ep 1222 : reward 180.0\r",
      "ep 1223 : reward 233.0\r"
     ]
    },
    {
     "name": "stdout",
     "output_type": "stream",
     "text": [
      "ep 1224 : reward 255.0\r",
      "ep 1225 : reward 230.0\r",
      "ep 1226 : reward 248.0\r"
     ]
    },
    {
     "name": "stdout",
     "output_type": "stream",
     "text": [
      "ep 1227 : reward 236.0\r",
      "ep 1228 : reward 106.0\r",
      "ep 1229 : reward 262.0\r",
      "ep 1230 : reward 244.0\r"
     ]
    },
    {
     "name": "stdout",
     "output_type": "stream",
     "text": [
      "ep 1231 : reward 182.0\r",
      "ep 1232 : reward 243.0\r",
      "ep 1233 : reward 176.0\r",
      "ep 1234 : reward 253.0\r"
     ]
    },
    {
     "name": "stdout",
     "output_type": "stream",
     "text": [
      "ep 1235 : reward 196.0\r",
      "ep 1236 : reward 108.0\r",
      "ep 1237 : reward 88.0\r",
      "ep 1238 : reward 103.0\r",
      "ep 1239 : reward 108.0\r"
     ]
    },
    {
     "name": "stdout",
     "output_type": "stream",
     "text": [
      "ep 1240 : reward 97.0\r",
      "ep 1241 : reward 102.0\r",
      "ep 1242 : reward 402.0\r"
     ]
    },
    {
     "name": "stdout",
     "output_type": "stream",
     "text": [
      "ep 1243 : reward 383.0\r",
      "ep 1244 : reward 374.0\r",
      "ep 1245 : reward 369.0\r"
     ]
    },
    {
     "name": "stdout",
     "output_type": "stream",
     "text": [
      "ep 1246 : reward 325.0\r",
      "ep 1247 : reward 243.0\r",
      "ep 1248 : reward 500.0\r"
     ]
    },
    {
     "name": "stdout",
     "output_type": "stream",
     "text": [
      "ep 1249 : reward 500.0\r",
      "ep 1250 : reward 500.0\r"
     ]
    },
    {
     "name": "stdout",
     "output_type": "stream",
     "text": [
      "ep 1251 : reward 500.0\r",
      "ep 1252 : reward 437.0\r"
     ]
    },
    {
     "name": "stdout",
     "output_type": "stream",
     "text": [
      "ep 1253 : reward 500.0\r",
      "ep 1254 : reward 500.0\r"
     ]
    },
    {
     "name": "stdout",
     "output_type": "stream",
     "text": [
      "ep 1255 : reward 500.0\r",
      "ep 1256 : reward 500.0\r",
      "ep 1257 : reward 228.0\r"
     ]
    },
    {
     "name": "stdout",
     "output_type": "stream",
     "text": [
      "ep 1258 : reward 232.0\r",
      "ep 1259 : reward 254.0\r",
      "ep 1260 : reward 106.0\r",
      "ep 1261 : reward 242.0\r"
     ]
    },
    {
     "name": "stdout",
     "output_type": "stream",
     "text": [
      "ep 1262 : reward 250.0\r",
      "ep 1263 : reward 236.0\r",
      "ep 1264 : reward 380.0\r"
     ]
    },
    {
     "name": "stdout",
     "output_type": "stream",
     "text": [
      "ep 1265 : reward 255.0\r",
      "ep 1266 : reward 242.0\r",
      "ep 1267 : reward 244.0\r"
     ]
    },
    {
     "name": "stdout",
     "output_type": "stream",
     "text": [
      "ep 1268 : reward 368.0\r",
      "ep 1269 : reward 197.0\r",
      "ep 1270 : reward 256.0\r",
      "ep 1271 : reward 183.0\r"
     ]
    },
    {
     "name": "stdout",
     "output_type": "stream",
     "text": [
      "ep 1272 : reward 242.0\r",
      "ep 1273 : reward 258.0\r",
      "ep 1274 : reward 183.0\r"
     ]
    },
    {
     "name": "stdout",
     "output_type": "stream",
     "text": [
      "ep 1275 : reward 377.0\r",
      "ep 1276 : reward 256.0\r",
      "ep 1277 : reward 268.0\r"
     ]
    },
    {
     "name": "stdout",
     "output_type": "stream",
     "text": [
      "ep 1278 : reward 251.0\r",
      "ep 1279 : reward 324.0\r",
      "ep 1280 : reward 334.0\r"
     ]
    },
    {
     "name": "stdout",
     "output_type": "stream",
     "text": [
      "ep 1281 : reward 225.0\r",
      "ep 1282 : reward 101.0\r",
      "ep 1283 : reward 105.0\r",
      "ep 1284 : reward 221.0\r"
     ]
    },
    {
     "name": "stdout",
     "output_type": "stream",
     "text": [
      "ep 1285 : reward 265.0\r",
      "ep 1286 : reward 421.0\r",
      "ep 1287 : reward 246.0\r"
     ]
    },
    {
     "name": "stdout",
     "output_type": "stream",
     "text": [
      "ep 1288 : reward 380.0\r",
      "ep 1289 : reward 379.0\r"
     ]
    },
    {
     "name": "stdout",
     "output_type": "stream",
     "text": [
      "ep 1290 : reward 414.0\r",
      "ep 1291 : reward 314.0\r",
      "ep 1292 : reward 117.0\r"
     ]
    },
    {
     "name": "stdout",
     "output_type": "stream",
     "text": [
      "ep 1293 : reward 380.0\r",
      "ep 1294 : reward 103.0\r",
      "ep 1295 : reward 99.0\r",
      "ep 1296 : reward 109.0\r",
      "ep 1297 : reward 101.0\r"
     ]
    },
    {
     "name": "stdout",
     "output_type": "stream",
     "text": [
      "ep 1298 : reward 182.0\r",
      "ep 1299 : reward 224.0\r",
      "ep 1300 : reward 96.0\r",
      "ep 1301 : reward 117.0\r"
     ]
    },
    {
     "name": "stdout",
     "output_type": "stream",
     "text": [
      "ep 1302 : reward 99.0\r",
      "ep 1303 : reward 194.0\r",
      "ep 1304 : reward 97.0\r",
      "ep 1305 : reward 250.0\r"
     ]
    },
    {
     "name": "stdout",
     "output_type": "stream",
     "text": [
      "ep 1306 : reward 171.0\r",
      "ep 1307 : reward 240.0\r",
      "ep 1308 : reward 232.0\r"
     ]
    },
    {
     "name": "stdout",
     "output_type": "stream",
     "text": [
      "ep 1309 : reward 255.0\r",
      "ep 1310 : reward 249.0\r",
      "ep 1311 : reward 237.0\r",
      "ep 1312 : reward 39.0\r"
     ]
    },
    {
     "name": "stdout",
     "output_type": "stream",
     "text": [
      "ep 1313 : reward 99.0\r",
      "ep 1314 : reward 109.0\r",
      "ep 1315 : reward 227.0\r",
      "ep 1316 : reward 233.0\r"
     ]
    },
    {
     "name": "stdout",
     "output_type": "stream",
     "text": [
      "ep 1317 : reward 236.0\r",
      "ep 1318 : reward 110.0\r",
      "ep 1319 : reward 241.0\r",
      "ep 1320 : reward 105.0\r"
     ]
    },
    {
     "name": "stdout",
     "output_type": "stream",
     "text": [
      "ep 1321 : reward 248.0\r",
      "ep 1322 : reward 107.0\r",
      "ep 1323 : reward 252.0\r",
      "ep 1324 : reward 233.0\r"
     ]
    },
    {
     "name": "stdout",
     "output_type": "stream",
     "text": [
      "ep 1325 : reward 239.0\r",
      "ep 1326 : reward 250.0\r",
      "ep 1327 : reward 264.0\r",
      "ep 1328 : reward 107.0\r"
     ]
    },
    {
     "name": "stdout",
     "output_type": "stream",
     "text": [
      "ep 1329 : reward 95.0\r",
      "ep 1330 : reward 90.0\r",
      "ep 1331 : reward 30.0\r",
      "ep 1332 : reward 26.0\r",
      "ep 1333 : reward 39.0\r",
      "ep 1334 : reward 103.0\r",
      "ep 1335 : reward 33.0\r"
     ]
    },
    {
     "name": "stdout",
     "output_type": "stream",
     "text": [
      "ep 1336 : reward 28.0\r",
      "ep 1337 : reward 38.0\r",
      "ep 1338 : reward 99.0\r",
      "ep 1339 : reward 23.0\r",
      "ep 1340 : reward 25.0\r",
      "ep 1341 : reward 93.0\r"
     ]
    },
    {
     "name": "stdout",
     "output_type": "stream",
     "text": [
      "ep 1342 : reward 93.0\r",
      "ep 1343 : reward 97.0\r",
      "ep 1344 : reward 94.0\r",
      "ep 1345 : reward 94.0\r",
      "ep 1346 : reward 94.0\r",
      "ep 1347 : reward 33.0\r"
     ]
    },
    {
     "name": "stdout",
     "output_type": "stream",
     "text": [
      "ep 1348 : reward 97.0\r",
      "ep 1349 : reward 106.0\r",
      "ep 1350 : reward 100.0\r",
      "ep 1351 : reward 102.0\r",
      "ep 1352 : reward 188.0\r"
     ]
    },
    {
     "name": "stdout",
     "output_type": "stream",
     "text": [
      "ep 1353 : reward 229.0\r",
      "ep 1354 : reward 181.0\r",
      "ep 1355 : reward 243.0\r",
      "ep 1356 : reward 187.0\r"
     ]
    },
    {
     "name": "stdout",
     "output_type": "stream",
     "text": [
      "ep 1357 : reward 232.0\r",
      "ep 1358 : reward 97.0\r",
      "ep 1359 : reward 29.0\r",
      "ep 1360 : reward 27.0\r",
      "ep 1361 : reward 27.0\r",
      "ep 1362 : reward 26.0\r",
      "ep 1363 : reward 30.0\r",
      "ep 1364 : reward 19.0\r"
     ]
    },
    {
     "name": "stdout",
     "output_type": "stream",
     "text": [
      "ep 1365 : reward 20.0\r",
      "ep 1366 : reward 32.0\r",
      "ep 1367 : reward 94.0\r",
      "ep 1368 : reward 35.0\r",
      "ep 1369 : reward 100.0\r",
      "ep 1370 : reward 226.0\r"
     ]
    },
    {
     "name": "stdout",
     "output_type": "stream",
     "text": [
      "ep 1371 : reward 183.0\r",
      "ep 1372 : reward 183.0\r",
      "ep 1373 : reward 35.0\r",
      "ep 1374 : reward 236.0\r"
     ]
    },
    {
     "name": "stdout",
     "output_type": "stream",
     "text": [
      "ep 1375 : reward 259.0\r",
      "ep 1376 : reward 239.0\r",
      "ep 1377 : reward 254.0\r",
      "ep 1378 : reward 109.0\r"
     ]
    },
    {
     "name": "stdout",
     "output_type": "stream",
     "text": [
      "ep 1379 : reward 231.0\r",
      "ep 1380 : reward 100.0\r",
      "ep 1381 : reward 236.0\r",
      "ep 1382 : reward 248.0\r"
     ]
    },
    {
     "name": "stdout",
     "output_type": "stream",
     "text": [
      "ep 1383 : reward 389.0\r",
      "ep 1384 : reward 468.0\r"
     ]
    },
    {
     "name": "stdout",
     "output_type": "stream",
     "text": [
      "ep 1385 : reward 500.0\r",
      "ep 1386 : reward 456.0\r",
      "ep 1387 : reward 182.0\r"
     ]
    },
    {
     "name": "stdout",
     "output_type": "stream",
     "text": [
      "ep 1388 : reward 183.0\r",
      "ep 1389 : reward 245.0\r",
      "ep 1390 : reward 246.0\r"
     ]
    },
    {
     "name": "stdout",
     "output_type": "stream",
     "text": [
      "ep 1391 : reward 188.0\r",
      "ep 1392 : reward 254.0\r",
      "ep 1393 : reward 31.0\r",
      "ep 1394 : reward 28.0\r",
      "ep 1395 : reward 193.0\r"
     ]
    },
    {
     "name": "stdout",
     "output_type": "stream",
     "text": [
      "ep 1396 : reward 500.0\r",
      "ep 1397 : reward 500.0\r"
     ]
    },
    {
     "name": "stdout",
     "output_type": "stream",
     "text": [
      "ep 1398 : reward 500.0\r",
      "ep 1399 : reward 393.0\r",
      "ep 1400 : reward 256.0\r"
     ]
    },
    {
     "name": "stdout",
     "output_type": "stream",
     "text": [
      "ep 1401 : reward 248.0\r",
      "ep 1402 : reward 253.0\r",
      "ep 1403 : reward 91.0\r",
      "ep 1404 : reward 105.0\r",
      "ep 1405 : reward 98.0\r"
     ]
    },
    {
     "name": "stdout",
     "output_type": "stream",
     "text": [
      "ep 1406 : reward 110.0\r",
      "ep 1407 : reward 231.0\r",
      "ep 1408 : reward 237.0\r"
     ]
    },
    {
     "name": "stdout",
     "output_type": "stream",
     "text": [
      "ep 1409 : reward 500.0\r",
      "ep 1410 : reward 427.0\r"
     ]
    },
    {
     "name": "stdout",
     "output_type": "stream",
     "text": [
      "ep 1411 : reward 386.0\r",
      "ep 1412 : reward 284.0\r"
     ]
    },
    {
     "name": "stdout",
     "output_type": "stream",
     "text": [
      "ep 1413 : reward 500.0\r",
      "ep 1414 : reward 247.0\r",
      "ep 1415 : reward 381.0\r"
     ]
    },
    {
     "name": "stdout",
     "output_type": "stream",
     "text": [
      "ep 1416 : reward 369.0\r",
      "ep 1417 : reward 264.0\r",
      "ep 1418 : reward 342.0\r"
     ]
    },
    {
     "name": "stdout",
     "output_type": "stream",
     "text": [
      "ep 1419 : reward 342.0\r",
      "ep 1420 : reward 397.0\r"
     ]
    },
    {
     "name": "stdout",
     "output_type": "stream",
     "text": [
      "ep 1421 : reward 409.0\r",
      "ep 1422 : reward 500.0\r"
     ]
    },
    {
     "name": "stdout",
     "output_type": "stream",
     "text": [
      "ep 1423 : reward 500.0\r",
      "ep 1424 : reward 500.0\r"
     ]
    },
    {
     "name": "stdout",
     "output_type": "stream",
     "text": [
      "ep 1425 : reward 500.0\r",
      "ep 1426 : reward 413.0\r"
     ]
    },
    {
     "name": "stdout",
     "output_type": "stream",
     "text": [
      "ep 1427 : reward 500.0\r",
      "ep 1428 : reward 388.0\r",
      "ep 1429 : reward 263.0\r"
     ]
    },
    {
     "name": "stdout",
     "output_type": "stream",
     "text": [
      "ep 1430 : reward 237.0\r",
      "ep 1431 : reward 232.0\r",
      "ep 1432 : reward 239.0\r"
     ]
    },
    {
     "name": "stdout",
     "output_type": "stream",
     "text": [
      "ep 1433 : reward 245.0\r",
      "ep 1434 : reward 244.0\r",
      "ep 1435 : reward 246.0\r"
     ]
    },
    {
     "name": "stdout",
     "output_type": "stream",
     "text": [
      "ep 1436 : reward 277.0\r",
      "ep 1437 : reward 189.0\r",
      "ep 1438 : reward 244.0\r",
      "ep 1439 : reward 195.0\r"
     ]
    },
    {
     "name": "stdout",
     "output_type": "stream",
     "text": [
      "ep 1440 : reward 105.0\r",
      "ep 1441 : reward 104.0\r",
      "ep 1442 : reward 104.0\r",
      "ep 1443 : reward 233.0\r"
     ]
    },
    {
     "name": "stdout",
     "output_type": "stream",
     "text": [
      "ep 1444 : reward 111.0\r",
      "ep 1445 : reward 184.0\r",
      "ep 1446 : reward 184.0\r",
      "ep 1447 : reward 187.0\r"
     ]
    },
    {
     "name": "stdout",
     "output_type": "stream",
     "text": [
      "ep 1448 : reward 255.0\r",
      "ep 1449 : reward 233.0\r",
      "ep 1450 : reward 194.0\r",
      "ep 1451 : reward 240.0\r"
     ]
    },
    {
     "name": "stdout",
     "output_type": "stream",
     "text": [
      "ep 1452 : reward 89.0\r",
      "ep 1453 : reward 93.0\r",
      "ep 1454 : reward 97.0\r",
      "ep 1455 : reward 98.0\r",
      "ep 1456 : reward 115.0\r"
     ]
    },
    {
     "name": "stdout",
     "output_type": "stream",
     "text": [
      "ep 1457 : reward 98.0\r",
      "ep 1458 : reward 184.0\r",
      "ep 1459 : reward 97.0\r",
      "ep 1460 : reward 108.0\r"
     ]
    },
    {
     "name": "stdout",
     "output_type": "stream",
     "text": [
      "ep 1461 : reward 242.0\r",
      "ep 1462 : reward 112.0\r",
      "ep 1463 : reward 107.0\r",
      "ep 1464 : reward 238.0\r"
     ]
    },
    {
     "name": "stdout",
     "output_type": "stream",
     "text": [
      "ep 1465 : reward 250.0\r",
      "ep 1466 : reward 113.0\r",
      "ep 1467 : reward 194.0\r",
      "ep 1468 : reward 241.0\r"
     ]
    },
    {
     "name": "stdout",
     "output_type": "stream",
     "text": [
      "ep 1469 : reward 242.0\r",
      "ep 1470 : reward 244.0\r",
      "ep 1471 : reward 236.0\r"
     ]
    },
    {
     "name": "stdout",
     "output_type": "stream",
     "text": [
      "ep 1472 : reward 500.0\r",
      "ep 1473 : reward 500.0\r"
     ]
    },
    {
     "name": "stdout",
     "output_type": "stream",
     "text": [
      "ep 1474 : reward 500.0\r",
      "ep 1475 : reward 500.0\r"
     ]
    },
    {
     "name": "stdout",
     "output_type": "stream",
     "text": [
      "ep 1476 : reward 500.0\r",
      "ep 1477 : reward 500.0\r"
     ]
    },
    {
     "name": "stdout",
     "output_type": "stream",
     "text": [
      "ep 1478 : reward 500.0\r",
      "ep 1479 : reward 500.0\r"
     ]
    },
    {
     "name": "stdout",
     "output_type": "stream",
     "text": [
      "ep 1480 : reward 401.0\r",
      "ep 1481 : reward 337.0\r"
     ]
    },
    {
     "name": "stdout",
     "output_type": "stream",
     "text": [
      "ep 1482 : reward 500.0\r",
      "ep 1483 : reward 407.0\r"
     ]
    },
    {
     "name": "stdout",
     "output_type": "stream",
     "text": [
      "ep 1484 : reward 417.0\r",
      "ep 1485 : reward 406.0\r",
      "ep 1486 : reward 401.0\r"
     ]
    },
    {
     "name": "stdout",
     "output_type": "stream",
     "text": [
      "ep 1487 : reward 398.0\r",
      "ep 1488 : reward 254.0\r",
      "ep 1489 : reward 267.0\r"
     ]
    },
    {
     "name": "stdout",
     "output_type": "stream",
     "text": [
      "ep 1490 : reward 349.0\r",
      "ep 1491 : reward 316.0\r",
      "ep 1492 : reward 372.0\r"
     ]
    },
    {
     "name": "stdout",
     "output_type": "stream",
     "text": [
      "ep 1493 : reward 266.0\r",
      "ep 1494 : reward 398.0\r",
      "ep 1495 : reward 188.0\r"
     ]
    },
    {
     "name": "stdout",
     "output_type": "stream",
     "text": [
      "ep 1496 : reward 239.0\r",
      "ep 1497 : reward 246.0\r",
      "ep 1498 : reward 285.0\r",
      "ep 1499 : reward 116.0\r"
     ]
    },
    {
     "name": "stdout",
     "output_type": "stream",
     "text": [
      "ep 1500 : reward 253.0\r",
      "ep 1501 : reward 252.0\r",
      "ep 1502 : reward 246.0\r",
      "ep 1503 : reward 93.0\r"
     ]
    },
    {
     "name": "stdout",
     "output_type": "stream",
     "text": [
      "ep 1504 : reward 262.0\r",
      "ep 1505 : reward 248.0\r",
      "ep 1506 : reward 256.0\r"
     ]
    },
    {
     "name": "stdout",
     "output_type": "stream",
     "text": [
      "ep 1507 : reward 235.0\r",
      "ep 1508 : reward 241.0\r",
      "ep 1509 : reward 241.0\r"
     ]
    },
    {
     "name": "stdout",
     "output_type": "stream",
     "text": [
      "ep 1510 : reward 248.0\r",
      "ep 1511 : reward 254.0\r",
      "ep 1512 : reward 372.0\r"
     ]
    },
    {
     "name": "stdout",
     "output_type": "stream",
     "text": [
      "ep 1513 : reward 368.0\r",
      "ep 1514 : reward 244.0\r",
      "ep 1515 : reward 246.0\r"
     ]
    },
    {
     "name": "stdout",
     "output_type": "stream",
     "text": [
      "ep 1516 : reward 407.0\r",
      "ep 1517 : reward 417.0\r"
     ]
    },
    {
     "name": "stdout",
     "output_type": "stream",
     "text": [
      "ep 1518 : reward 500.0\r",
      "ep 1519 : reward 500.0\r"
     ]
    },
    {
     "name": "stdout",
     "output_type": "stream",
     "text": [
      "ep 1520 : reward 396.0\r",
      "ep 1521 : reward 500.0\r"
     ]
    },
    {
     "name": "stdout",
     "output_type": "stream",
     "text": [
      "ep 1522 : reward 500.0\r",
      "ep 1523 : reward 500.0\r"
     ]
    },
    {
     "name": "stdout",
     "output_type": "stream",
     "text": [
      "ep 1524 : reward 500.0\r",
      "ep 1525 : reward 479.0\r"
     ]
    },
    {
     "name": "stdout",
     "output_type": "stream",
     "text": [
      "ep 1526 : reward 500.0\r",
      "ep 1527 : reward 500.0\r"
     ]
    },
    {
     "name": "stdout",
     "output_type": "stream",
     "text": [
      "ep 1528 : reward 500.0\r",
      "ep 1529 : reward 269.0\r",
      "ep 1530 : reward 382.0\r"
     ]
    },
    {
     "name": "stdout",
     "output_type": "stream",
     "text": [
      "ep 1531 : reward 500.0\r",
      "ep 1532 : reward 500.0\r"
     ]
    },
    {
     "name": "stdout",
     "output_type": "stream",
     "text": [
      "ep 1533 : reward 500.0\r",
      "ep 1534 : reward 383.0\r",
      "ep 1535 : reward 227.0\r"
     ]
    },
    {
     "name": "stdout",
     "output_type": "stream",
     "text": [
      "ep 1536 : reward 245.0\r",
      "ep 1537 : reward 246.0\r",
      "ep 1538 : reward 202.0\r",
      "ep 1539 : reward 106.0\r"
     ]
    },
    {
     "name": "stdout",
     "output_type": "stream",
     "text": [
      "ep 1540 : reward 247.0\r",
      "ep 1541 : reward 94.0\r",
      "ep 1542 : reward 112.0\r",
      "ep 1543 : reward 241.0\r"
     ]
    },
    {
     "name": "stdout",
     "output_type": "stream",
     "text": [
      "ep 1544 : reward 261.0\r",
      "ep 1545 : reward 199.0\r",
      "ep 1546 : reward 265.0\r",
      "ep 1547 : reward 183.0\r"
     ]
    },
    {
     "name": "stdout",
     "output_type": "stream",
     "text": [
      "ep 1548 : reward 230.0\r",
      "ep 1549 : reward 239.0\r",
      "ep 1550 : reward 244.0\r"
     ]
    },
    {
     "name": "stdout",
     "output_type": "stream",
     "text": [
      "ep 1551 : reward 235.0\r",
      "ep 1552 : reward 250.0\r",
      "ep 1553 : reward 106.0\r",
      "ep 1554 : reward 125.0\r"
     ]
    },
    {
     "name": "stdout",
     "output_type": "stream",
     "text": [
      "ep 1555 : reward 257.0\r",
      "ep 1556 : reward 241.0\r",
      "ep 1557 : reward 196.0\r",
      "ep 1558 : reward 249.0\r"
     ]
    },
    {
     "name": "stdout",
     "output_type": "stream",
     "text": [
      "ep 1559 : reward 186.0\r",
      "ep 1560 : reward 266.0\r",
      "ep 1561 : reward 231.0\r",
      "ep 1562 : reward 180.0\r"
     ]
    },
    {
     "name": "stdout",
     "output_type": "stream",
     "text": [
      "ep 1563 : reward 373.0\r",
      "ep 1564 : reward 243.0\r",
      "ep 1565 : reward 231.0\r",
      "ep 1566 : reward 238.0\r"
     ]
    },
    {
     "name": "stdout",
     "output_type": "stream",
     "text": [
      "ep 1567 : reward 239.0\r",
      "ep 1568 : reward 259.0\r",
      "ep 1569 : reward 100.0\r",
      "ep 1570 : reward 247.0\r"
     ]
    },
    {
     "name": "stdout",
     "output_type": "stream",
     "text": [
      "ep 1571 : reward 262.0\r",
      "ep 1572 : reward 272.0\r",
      "ep 1573 : reward 272.0\r"
     ]
    },
    {
     "name": "stdout",
     "output_type": "stream",
     "text": [
      "ep 1574 : reward 256.0\r",
      "ep 1575 : reward 171.0\r",
      "ep 1576 : reward 105.0\r",
      "ep 1577 : reward 98.0\r",
      "ep 1578 : reward 90.0\r"
     ]
    },
    {
     "name": "stdout",
     "output_type": "stream",
     "text": [
      "ep 1579 : reward 37.0\r",
      "ep 1580 : reward 92.0\r",
      "ep 1581 : reward 23.0\r",
      "ep 1582 : reward 31.0\r",
      "ep 1583 : reward 106.0\r"
     ]
    },
    {
     "name": "stdout",
     "output_type": "stream",
     "text": [
      "ep 1584 : reward 413.0\r",
      "ep 1585 : reward 325.0\r",
      "ep 1586 : reward 318.0\r"
     ]
    },
    {
     "name": "stdout",
     "output_type": "stream",
     "text": [
      "ep 1587 : reward 92.0\r",
      "ep 1588 : reward 105.0\r",
      "ep 1589 : reward 103.0\r",
      "ep 1590 : reward 94.0\r",
      "ep 1591 : reward 103.0\r"
     ]
    },
    {
     "name": "stdout",
     "output_type": "stream",
     "text": [
      "ep 1592 : reward 103.0\r",
      "ep 1593 : reward 187.0\r",
      "ep 1594 : reward 239.0\r",
      "ep 1595 : reward 173.0\r"
     ]
    },
    {
     "name": "stdout",
     "output_type": "stream",
     "text": [
      "ep 1596 : reward 98.0\r",
      "ep 1597 : reward 31.0\r",
      "ep 1598 : reward 39.0\r",
      "ep 1599 : reward 101.0\r",
      "ep 1600 : reward 37.0\r",
      "ep 1601 : reward 98.0\r"
     ]
    },
    {
     "name": "stdout",
     "output_type": "stream",
     "text": [
      "ep 1602 : reward 110.0\r",
      "ep 1603 : reward 93.0\r",
      "ep 1604 : reward 24.0\r",
      "ep 1605 : reward 21.0\r",
      "ep 1606 : reward 105.0\r",
      "ep 1607 : reward 246.0\r"
     ]
    },
    {
     "name": "stdout",
     "output_type": "stream",
     "text": [
      "ep 1608 : reward 248.0\r",
      "ep 1609 : reward 383.0\r",
      "ep 1610 : reward 251.0\r"
     ]
    },
    {
     "name": "stdout",
     "output_type": "stream",
     "text": [
      "ep 1611 : reward 379.0\r",
      "ep 1612 : reward 342.0\r",
      "ep 1613 : reward 391.0\r"
     ]
    },
    {
     "name": "stdout",
     "output_type": "stream",
     "text": [
      "ep 1614 : reward 500.0\r",
      "ep 1615 : reward 500.0\r"
     ]
    },
    {
     "name": "stdout",
     "output_type": "stream",
     "text": [
      "ep 1616 : reward 500.0\r",
      "ep 1617 : reward 500.0\r"
     ]
    },
    {
     "name": "stdout",
     "output_type": "stream",
     "text": [
      "ep 1618 : reward 500.0\r",
      "ep 1619 : reward 401.0\r"
     ]
    },
    {
     "name": "stdout",
     "output_type": "stream",
     "text": [
      "ep 1620 : reward 417.0\r",
      "ep 1621 : reward 265.0\r",
      "ep 1622 : reward 373.0\r"
     ]
    },
    {
     "name": "stdout",
     "output_type": "stream",
     "text": [
      "ep 1623 : reward 231.0\r",
      "ep 1624 : reward 96.0\r",
      "ep 1625 : reward 231.0\r",
      "ep 1626 : reward 113.0\r",
      "ep 1627 : reward 122.0\r"
     ]
    },
    {
     "name": "stdout",
     "output_type": "stream",
     "text": [
      "ep 1628 : reward 266.0\r",
      "ep 1629 : reward 392.0\r"
     ]
    },
    {
     "name": "stdout",
     "output_type": "stream",
     "text": [
      "ep 1630 : reward 500.0\r",
      "ep 1631 : reward 500.0\r"
     ]
    },
    {
     "name": "stdout",
     "output_type": "stream",
     "text": [
      "ep 1632 : reward 404.0\r",
      "ep 1633 : reward 382.0\r",
      "ep 1634 : reward 293.0\r"
     ]
    },
    {
     "name": "stdout",
     "output_type": "stream",
     "text": [
      "ep 1635 : reward 500.0\r",
      "ep 1636 : reward 470.0\r"
     ]
    },
    {
     "name": "stdout",
     "output_type": "stream",
     "text": [
      "ep 1637 : reward 500.0\r",
      "ep 1638 : reward 500.0\r"
     ]
    },
    {
     "name": "stdout",
     "output_type": "stream",
     "text": [
      "ep 1639 : reward 500.0\r",
      "ep 1640 : reward 500.0\r"
     ]
    },
    {
     "name": "stdout",
     "output_type": "stream",
     "text": [
      "ep 1641 : reward 500.0\r",
      "ep 1642 : reward 429.0\r"
     ]
    },
    {
     "name": "stdout",
     "output_type": "stream",
     "text": [
      "ep 1643 : reward 500.0\r",
      "ep 1644 : reward 500.0\r"
     ]
    },
    {
     "name": "stdout",
     "output_type": "stream",
     "text": [
      "ep 1645 : reward 500.0\r",
      "ep 1646 : reward 500.0\r"
     ]
    },
    {
     "name": "stdout",
     "output_type": "stream",
     "text": [
      "ep 1647 : reward 500.0\r",
      "ep 1648 : reward 500.0\r"
     ]
    },
    {
     "name": "stdout",
     "output_type": "stream",
     "text": [
      "ep 1649 : reward 481.0\r",
      "ep 1650 : reward 335.0\r",
      "ep 1651 : reward 382.0\r"
     ]
    },
    {
     "name": "stdout",
     "output_type": "stream",
     "text": [
      "ep 1652 : reward 259.0\r",
      "ep 1653 : reward 261.0\r",
      "ep 1654 : reward 318.0\r"
     ]
    },
    {
     "name": "stdout",
     "output_type": "stream",
     "text": [
      "ep 1655 : reward 398.0\r",
      "ep 1656 : reward 176.0\r",
      "ep 1657 : reward 390.0\r"
     ]
    },
    {
     "name": "stdout",
     "output_type": "stream",
     "text": [
      "ep 1658 : reward 336.0\r",
      "ep 1659 : reward 265.0\r",
      "ep 1660 : reward 271.0\r",
      "ep 1661 : reward 23.0\r",
      "ep 1662 : reward 22.0\r"
     ]
    },
    {
     "name": "stdout",
     "output_type": "stream",
     "text": [
      "ep 1663 : reward 26.0\r",
      "ep 1664 : reward 29.0\r",
      "ep 1665 : reward 28.0\r",
      "ep 1666 : reward 35.0\r",
      "ep 1667 : reward 98.0\r",
      "ep 1668 : reward 97.0\r",
      "ep 1669 : reward 102.0\r"
     ]
    },
    {
     "name": "stdout",
     "output_type": "stream",
     "text": [
      "ep 1670 : reward 93.0\r",
      "ep 1671 : reward 38.0\r",
      "ep 1672 : reward 91.0\r",
      "ep 1673 : reward 101.0\r",
      "ep 1674 : reward 98.0\r",
      "ep 1675 : reward 102.0\r"
     ]
    },
    {
     "name": "stdout",
     "output_type": "stream",
     "text": [
      "ep 1676 : reward 183.0\r",
      "ep 1677 : reward 235.0\r",
      "ep 1678 : reward 500.0\r"
     ]
    },
    {
     "name": "stdout",
     "output_type": "stream",
     "text": [
      "ep 1679 : reward 421.0\r",
      "ep 1680 : reward 401.0\r"
     ]
    },
    {
     "name": "stdout",
     "output_type": "stream",
     "text": [
      "ep 1681 : reward 396.0\r",
      "ep 1682 : reward 412.0\r",
      "ep 1683 : reward 116.0\r",
      "ep 1684 : reward 113.0\r"
     ]
    },
    {
     "name": "stdout",
     "output_type": "stream",
     "text": [
      "ep 1685 : reward 184.0\r",
      "ep 1686 : reward 194.0\r",
      "ep 1687 : reward 251.0\r"
     ]
    },
    {
     "name": "stdout",
     "output_type": "stream",
     "text": [
      "ep 1688 : reward 252.0\r",
      "ep 1689 : reward 233.0\r",
      "ep 1690 : reward 272.0\r"
     ]
    },
    {
     "name": "stdout",
     "output_type": "stream",
     "text": [
      "ep 1691 : reward 387.0\r",
      "ep 1692 : reward 179.0\r",
      "ep 1693 : reward 272.0\r"
     ]
    },
    {
     "name": "stdout",
     "output_type": "stream",
     "text": [
      "ep 1694 : reward 377.0\r",
      "ep 1695 : reward 260.0\r",
      "ep 1696 : reward 365.0\r"
     ]
    },
    {
     "name": "stdout",
     "output_type": "stream",
     "text": [
      "ep 1697 : reward 264.0\r",
      "ep 1698 : reward 369.0\r",
      "ep 1699 : reward 394.0\r"
     ]
    },
    {
     "name": "stdout",
     "output_type": "stream",
     "text": [
      "ep 1700 : reward 264.0\r",
      "ep 1701 : reward 110.0\r",
      "ep 1702 : reward 263.0\r"
     ]
    },
    {
     "name": "stdout",
     "output_type": "stream",
     "text": [
      "ep 1703 : reward 379.0\r",
      "ep 1704 : reward 253.0\r",
      "ep 1705 : reward 112.0\r",
      "ep 1706 : reward 180.0\r"
     ]
    },
    {
     "name": "stdout",
     "output_type": "stream",
     "text": [
      "ep 1707 : reward 100.0\r",
      "ep 1708 : reward 180.0\r",
      "ep 1709 : reward 33.0\r",
      "ep 1710 : reward 101.0\r",
      "ep 1711 : reward 231.0\r"
     ]
    },
    {
     "name": "stdout",
     "output_type": "stream",
     "text": [
      "ep 1712 : reward 500.0\r",
      "ep 1713 : reward 500.0\r"
     ]
    },
    {
     "name": "stdout",
     "output_type": "stream",
     "text": [
      "ep 1714 : reward 500.0\r",
      "ep 1715 : reward 500.0\r"
     ]
    },
    {
     "name": "stdout",
     "output_type": "stream",
     "text": [
      "ep 1716 : reward 500.0\r",
      "ep 1717 : reward 500.0\r",
      "ep 1718 : reward 175.0\r"
     ]
    },
    {
     "name": "stdout",
     "output_type": "stream",
     "text": [
      "ep 1719 : reward 390.0\r",
      "ep 1720 : reward 254.0\r",
      "ep 1721 : reward 256.0\r"
     ]
    },
    {
     "name": "stdout",
     "output_type": "stream",
     "text": [
      "ep 1722 : reward 413.0\r",
      "ep 1723 : reward 385.0\r"
     ]
    },
    {
     "name": "stdout",
     "output_type": "stream",
     "text": [
      "ep 1724 : reward 500.0\r",
      "ep 1725 : reward 500.0\r"
     ]
    },
    {
     "name": "stdout",
     "output_type": "stream",
     "text": [
      "ep 1726 : reward 500.0\r",
      "ep 1727 : reward 500.0\r"
     ]
    },
    {
     "name": "stdout",
     "output_type": "stream",
     "text": [
      "ep 1728 : reward 500.0\r",
      "ep 1729 : reward 432.0\r"
     ]
    },
    {
     "name": "stdout",
     "output_type": "stream",
     "text": [
      "ep 1730 : reward 410.0\r",
      "ep 1731 : reward 500.0\r"
     ]
    },
    {
     "name": "stdout",
     "output_type": "stream",
     "text": [
      "ep 1732 : reward 393.0\r",
      "ep 1733 : reward 175.0\r",
      "ep 1734 : reward 373.0\r"
     ]
    },
    {
     "name": "stdout",
     "output_type": "stream",
     "text": [
      "ep 1735 : reward 500.0\r",
      "ep 1736 : reward 500.0\r"
     ]
    },
    {
     "name": "stdout",
     "output_type": "stream",
     "text": [
      "ep 1737 : reward 500.0\r",
      "ep 1738 : reward 500.0\r",
      "ep 1739 : reward 255.0\r"
     ]
    },
    {
     "name": "stdout",
     "output_type": "stream",
     "text": [
      "ep 1740 : reward 189.0\r",
      "ep 1741 : reward 243.0\r",
      "ep 1742 : reward 246.0\r",
      "ep 1743 : reward 100.0\r"
     ]
    },
    {
     "name": "stdout",
     "output_type": "stream",
     "text": [
      "ep 1744 : reward 89.0\r",
      "ep 1745 : reward 98.0\r",
      "ep 1746 : reward 91.0\r",
      "ep 1747 : reward 96.0\r",
      "ep 1748 : reward 107.0\r"
     ]
    },
    {
     "name": "stdout",
     "output_type": "stream",
     "text": [
      "ep 1749 : reward 110.0\r",
      "ep 1750 : reward 110.0\r",
      "ep 1751 : reward 110.0\r",
      "ep 1752 : reward 236.0\r"
     ]
    },
    {
     "name": "stdout",
     "output_type": "stream",
     "text": [
      "ep 1753 : reward 234.0\r",
      "ep 1754 : reward 240.0\r",
      "ep 1755 : reward 237.0\r"
     ]
    },
    {
     "name": "stdout",
     "output_type": "stream",
     "text": [
      "ep 1756 : reward 252.0\r",
      "ep 1757 : reward 249.0\r",
      "ep 1758 : reward 250.0\r"
     ]
    },
    {
     "name": "stdout",
     "output_type": "stream",
     "text": [
      "ep 1759 : reward 398.0\r",
      "ep 1760 : reward 254.0\r",
      "ep 1761 : reward 243.0\r"
     ]
    },
    {
     "name": "stdout",
     "output_type": "stream",
     "text": [
      "ep 1762 : reward 272.0\r",
      "ep 1763 : reward 257.0\r",
      "ep 1764 : reward 258.0\r"
     ]
    },
    {
     "name": "stdout",
     "output_type": "stream",
     "text": [
      "ep 1765 : reward 272.0\r",
      "ep 1766 : reward 242.0\r",
      "ep 1767 : reward 390.0\r"
     ]
    },
    {
     "name": "stdout",
     "output_type": "stream",
     "text": [
      "ep 1768 : reward 381.0\r",
      "ep 1769 : reward 241.0\r",
      "ep 1770 : reward 262.0\r"
     ]
    },
    {
     "name": "stdout",
     "output_type": "stream",
     "text": [
      "ep 1771 : reward 394.0\r",
      "ep 1772 : reward 239.0\r",
      "ep 1773 : reward 373.0\r"
     ]
    },
    {
     "name": "stdout",
     "output_type": "stream",
     "text": [
      "ep 1774 : reward 381.0\r",
      "ep 1775 : reward 260.0\r",
      "ep 1776 : reward 255.0\r",
      "ep 1777 : reward 92.0\r"
     ]
    },
    {
     "name": "stdout",
     "output_type": "stream",
     "text": [
      "ep 1778 : reward 500.0\r",
      "ep 1779 : reward 493.0\r"
     ]
    },
    {
     "name": "stdout",
     "output_type": "stream",
     "text": [
      "ep 1780 : reward 484.0\r",
      "ep 1781 : reward 500.0\r"
     ]
    },
    {
     "name": "stdout",
     "output_type": "stream",
     "text": [
      "ep 1782 : reward 500.0\r",
      "ep 1783 : reward 500.0\r"
     ]
    },
    {
     "name": "stdout",
     "output_type": "stream",
     "text": [
      "ep 1784 : reward 500.0\r",
      "ep 1785 : reward 500.0\r"
     ]
    },
    {
     "name": "stdout",
     "output_type": "stream",
     "text": [
      "ep 1786 : reward 500.0\r",
      "ep 1787 : reward 500.0\r"
     ]
    },
    {
     "name": "stdout",
     "output_type": "stream",
     "text": [
      "ep 1788 : reward 500.0\r",
      "ep 1789 : reward 413.0\r"
     ]
    },
    {
     "name": "stdout",
     "output_type": "stream",
     "text": [
      "ep 1790 : reward 500.0\r",
      "ep 1791 : reward 500.0\r"
     ]
    },
    {
     "name": "stdout",
     "output_type": "stream",
     "text": [
      "ep 1792 : reward 320.0\r",
      "ep 1793 : reward 334.0\r",
      "ep 1794 : reward 367.0\r"
     ]
    },
    {
     "name": "stdout",
     "output_type": "stream",
     "text": [
      "ep 1795 : reward 500.0\r",
      "ep 1796 : reward 273.0\r",
      "ep 1797 : reward 500.0\r"
     ]
    },
    {
     "name": "stdout",
     "output_type": "stream",
     "text": [
      "ep 1798 : reward 500.0\r",
      "ep 1799 : reward 404.0\r"
     ]
    },
    {
     "name": "stdout",
     "output_type": "stream",
     "text": [
      "ep 1800 : reward 441.0\r",
      "ep 1801 : reward 500.0\r"
     ]
    },
    {
     "name": "stdout",
     "output_type": "stream",
     "text": [
      "ep 1802 : reward 402.0\r",
      "ep 1803 : reward 188.0\r",
      "ep 1804 : reward 326.0\r"
     ]
    },
    {
     "name": "stdout",
     "output_type": "stream",
     "text": [
      "ep 1805 : reward 383.0\r",
      "ep 1806 : reward 265.0\r",
      "ep 1807 : reward 267.0\r"
     ]
    },
    {
     "name": "stdout",
     "output_type": "stream",
     "text": [
      "ep 1808 : reward 396.0\r",
      "ep 1809 : reward 261.0\r",
      "ep 1810 : reward 328.0\r"
     ]
    },
    {
     "name": "stdout",
     "output_type": "stream",
     "text": [
      "ep 1811 : reward 398.0\r",
      "ep 1812 : reward 500.0\r"
     ]
    },
    {
     "name": "stdout",
     "output_type": "stream",
     "text": [
      "ep 1813 : reward 500.0\r",
      "ep 1814 : reward 500.0\r",
      "ep 1815 : reward 100.0\r"
     ]
    },
    {
     "name": "stdout",
     "output_type": "stream",
     "text": [
      "ep 1816 : reward 98.0\r",
      "ep 1817 : reward 91.0\r",
      "ep 1818 : reward 106.0\r",
      "ep 1819 : reward 89.0\r",
      "ep 1820 : reward 175.0\r"
     ]
    },
    {
     "name": "stdout",
     "output_type": "stream",
     "text": [
      "ep 1821 : reward 104.0\r",
      "ep 1822 : reward 255.0\r",
      "ep 1823 : reward 238.0\r"
     ]
    },
    {
     "name": "stdout",
     "output_type": "stream",
     "text": [
      "ep 1824 : reward 231.0\r",
      "ep 1825 : reward 98.0\r",
      "ep 1826 : reward 233.0\r",
      "ep 1827 : reward 239.0\r"
     ]
    },
    {
     "name": "stdout",
     "output_type": "stream",
     "text": [
      "ep 1828 : reward 248.0\r",
      "ep 1829 : reward 240.0\r",
      "ep 1830 : reward 181.0\r",
      "ep 1831 : reward 179.0\r"
     ]
    },
    {
     "name": "stdout",
     "output_type": "stream",
     "text": [
      "ep 1832 : reward 106.0\r",
      "ep 1833 : reward 249.0\r",
      "ep 1834 : reward 367.0\r"
     ]
    },
    {
     "name": "stdout",
     "output_type": "stream",
     "text": [
      "ep 1835 : reward 254.0\r",
      "ep 1836 : reward 192.0\r",
      "ep 1837 : reward 167.0\r",
      "ep 1838 : reward 246.0\r"
     ]
    },
    {
     "name": "stdout",
     "output_type": "stream",
     "text": [
      "ep 1839 : reward 252.0\r",
      "ep 1840 : reward 257.0\r",
      "ep 1841 : reward 237.0\r"
     ]
    },
    {
     "name": "stdout",
     "output_type": "stream",
     "text": [
      "ep 1842 : reward 250.0\r",
      "ep 1843 : reward 245.0\r",
      "ep 1844 : reward 266.0\r",
      "ep 1845 : reward 133.0\r"
     ]
    },
    {
     "name": "stdout",
     "output_type": "stream",
     "text": [
      "ep 1846 : reward 107.0\r",
      "ep 1847 : reward 108.0\r",
      "ep 1848 : reward 38.0\r",
      "ep 1849 : reward 92.0\r",
      "ep 1850 : reward 26.0\r",
      "ep 1851 : reward 185.0\r"
     ]
    },
    {
     "name": "stdout",
     "output_type": "stream",
     "text": [
      "ep 1852 : reward 117.0\r",
      "ep 1853 : reward 238.0\r",
      "ep 1854 : reward 365.0\r"
     ]
    },
    {
     "name": "stdout",
     "output_type": "stream",
     "text": [
      "ep 1855 : reward 500.0\r",
      "ep 1856 : reward 500.0\r"
     ]
    },
    {
     "name": "stdout",
     "output_type": "stream",
     "text": [
      "ep 1857 : reward 500.0\r",
      "ep 1858 : reward 500.0\r"
     ]
    },
    {
     "name": "stdout",
     "output_type": "stream",
     "text": [
      "ep 1859 : reward 500.0\r",
      "ep 1860 : reward 500.0\r"
     ]
    },
    {
     "name": "stdout",
     "output_type": "stream",
     "text": [
      "ep 1861 : reward 420.0\r",
      "ep 1862 : reward 500.0\r"
     ]
    },
    {
     "name": "stdout",
     "output_type": "stream",
     "text": [
      "ep 1863 : reward 500.0\r",
      "ep 1864 : reward 500.0\r"
     ]
    },
    {
     "name": "stdout",
     "output_type": "stream",
     "text": [
      "ep 1865 : reward 500.0\r",
      "ep 1866 : reward 500.0\r"
     ]
    },
    {
     "name": "stdout",
     "output_type": "stream",
     "text": [
      "ep 1867 : reward 500.0\r",
      "ep 1868 : reward 498.0\r"
     ]
    },
    {
     "name": "stdout",
     "output_type": "stream",
     "text": [
      "ep 1869 : reward 500.0\r",
      "ep 1870 : reward 399.0\r",
      "ep 1871 : reward 385.0\r"
     ]
    },
    {
     "name": "stdout",
     "output_type": "stream",
     "text": [
      "ep 1872 : reward 388.0\r",
      "ep 1873 : reward 309.0\r",
      "ep 1874 : reward 238.0\r"
     ]
    },
    {
     "name": "stdout",
     "output_type": "stream",
     "text": [
      "ep 1875 : reward 254.0\r",
      "ep 1876 : reward 260.0\r",
      "ep 1877 : reward 264.0\r"
     ]
    },
    {
     "name": "stdout",
     "output_type": "stream",
     "text": [
      "ep 1878 : reward 275.0\r",
      "ep 1879 : reward 243.0\r",
      "ep 1880 : reward 181.0\r",
      "ep 1881 : reward 244.0\r"
     ]
    },
    {
     "name": "stdout",
     "output_type": "stream",
     "text": [
      "ep 1882 : reward 500.0\r",
      "ep 1883 : reward 260.0\r",
      "ep 1884 : reward 271.0\r"
     ]
    },
    {
     "name": "stdout",
     "output_type": "stream",
     "text": [
      "ep 1885 : reward 232.0\r",
      "ep 1886 : reward 248.0\r",
      "ep 1887 : reward 265.0\r"
     ]
    },
    {
     "name": "stdout",
     "output_type": "stream",
     "text": [
      "ep 1888 : reward 247.0\r",
      "ep 1889 : reward 263.0\r",
      "ep 1890 : reward 254.0\r"
     ]
    },
    {
     "name": "stdout",
     "output_type": "stream",
     "text": [
      "ep 1891 : reward 193.0\r",
      "ep 1892 : reward 268.0\r",
      "ep 1893 : reward 258.0\r"
     ]
    },
    {
     "name": "stdout",
     "output_type": "stream",
     "text": [
      "ep 1894 : reward 253.0\r",
      "ep 1895 : reward 242.0\r",
      "ep 1896 : reward 119.0\r",
      "ep 1897 : reward 180.0\r"
     ]
    },
    {
     "name": "stdout",
     "output_type": "stream",
     "text": [
      "ep 1898 : reward 252.0\r",
      "ep 1899 : reward 236.0\r",
      "ep 1900 : reward 228.0\r"
     ]
    },
    {
     "name": "stdout",
     "output_type": "stream",
     "text": [
      "ep 1901 : reward 245.0\r",
      "ep 1902 : reward 183.0\r",
      "ep 1903 : reward 253.0\r"
     ]
    },
    {
     "name": "stdout",
     "output_type": "stream",
     "text": [
      "ep 1904 : reward 393.0\r",
      "ep 1905 : reward 360.0\r",
      "ep 1906 : reward 244.0\r"
     ]
    },
    {
     "name": "stdout",
     "output_type": "stream",
     "text": [
      "ep 1907 : reward 400.0\r",
      "ep 1908 : reward 500.0\r"
     ]
    },
    {
     "name": "stdout",
     "output_type": "stream",
     "text": [
      "ep 1909 : reward 500.0\r",
      "ep 1910 : reward 500.0\r"
     ]
    },
    {
     "name": "stdout",
     "output_type": "stream",
     "text": [
      "ep 1911 : reward 500.0\r",
      "ep 1912 : reward 407.0\r"
     ]
    },
    {
     "name": "stdout",
     "output_type": "stream",
     "text": [
      "ep 1913 : reward 419.0\r",
      "ep 1914 : reward 500.0\r"
     ]
    },
    {
     "name": "stdout",
     "output_type": "stream",
     "text": [
      "ep 1915 : reward 500.0\r",
      "ep 1916 : reward 500.0\r"
     ]
    },
    {
     "name": "stdout",
     "output_type": "stream",
     "text": [
      "ep 1917 : reward 500.0\r",
      "ep 1918 : reward 500.0\r"
     ]
    },
    {
     "name": "stdout",
     "output_type": "stream",
     "text": [
      "ep 1919 : reward 500.0\r",
      "ep 1920 : reward 500.0\r"
     ]
    },
    {
     "name": "stdout",
     "output_type": "stream",
     "text": [
      "ep 1921 : reward 500.0\r",
      "ep 1922 : reward 409.0\r"
     ]
    },
    {
     "name": "stdout",
     "output_type": "stream",
     "text": [
      "ep 1923 : reward 378.0\r",
      "ep 1924 : reward 405.0\r",
      "ep 1925 : reward 345.0\r"
     ]
    },
    {
     "name": "stdout",
     "output_type": "stream",
     "text": [
      "ep 1926 : reward 261.0\r",
      "ep 1927 : reward 379.0\r",
      "ep 1928 : reward 241.0\r"
     ]
    },
    {
     "name": "stdout",
     "output_type": "stream",
     "text": [
      "ep 1929 : reward 246.0\r",
      "ep 1930 : reward 260.0\r",
      "ep 1931 : reward 182.0\r"
     ]
    },
    {
     "name": "stdout",
     "output_type": "stream",
     "text": [
      "ep 1932 : reward 267.0\r",
      "ep 1933 : reward 360.0\r",
      "ep 1934 : reward 249.0\r"
     ]
    },
    {
     "name": "stdout",
     "output_type": "stream",
     "text": [
      "ep 1935 : reward 327.0\r",
      "ep 1936 : reward 246.0\r",
      "ep 1937 : reward 500.0\r"
     ]
    },
    {
     "name": "stdout",
     "output_type": "stream",
     "text": [
      "ep 1938 : reward 500.0\r",
      "ep 1939 : reward 472.0\r"
     ]
    },
    {
     "name": "stdout",
     "output_type": "stream",
     "text": [
      "ep 1940 : reward 500.0\r",
      "ep 1941 : reward 400.0\r"
     ]
    },
    {
     "name": "stdout",
     "output_type": "stream",
     "text": [
      "ep 1942 : reward 500.0\r",
      "ep 1943 : reward 500.0\r"
     ]
    },
    {
     "name": "stdout",
     "output_type": "stream",
     "text": [
      "ep 1944 : reward 500.0\r",
      "ep 1945 : reward 395.0\r",
      "ep 1946 : reward 251.0\r"
     ]
    },
    {
     "name": "stdout",
     "output_type": "stream",
     "text": [
      "ep 1947 : reward 189.0\r",
      "ep 1948 : reward 259.0\r",
      "ep 1949 : reward 222.0\r"
     ]
    },
    {
     "name": "stdout",
     "output_type": "stream",
     "text": [
      "ep 1950 : reward 232.0\r",
      "ep 1951 : reward 262.0\r",
      "ep 1952 : reward 243.0\r"
     ]
    },
    {
     "name": "stdout",
     "output_type": "stream",
     "text": [
      "ep 1953 : reward 252.0\r",
      "ep 1954 : reward 311.0\r",
      "ep 1955 : reward 372.0\r"
     ]
    },
    {
     "name": "stdout",
     "output_type": "stream",
     "text": [
      "ep 1956 : reward 500.0\r",
      "ep 1957 : reward 500.0\r"
     ]
    },
    {
     "name": "stdout",
     "output_type": "stream",
     "text": [
      "ep 1958 : reward 500.0\r",
      "ep 1959 : reward 500.0\r"
     ]
    },
    {
     "name": "stdout",
     "output_type": "stream",
     "text": [
      "ep 1960 : reward 383.0\r",
      "ep 1961 : reward 373.0\r",
      "ep 1962 : reward 381.0\r"
     ]
    },
    {
     "name": "stdout",
     "output_type": "stream",
     "text": [
      "ep 1963 : reward 255.0\r",
      "ep 1964 : reward 260.0\r",
      "ep 1965 : reward 105.0\r",
      "ep 1966 : reward 256.0\r"
     ]
    },
    {
     "name": "stdout",
     "output_type": "stream",
     "text": [
      "ep 1967 : reward 251.0\r",
      "ep 1968 : reward 194.0\r",
      "ep 1969 : reward 252.0\r"
     ]
    },
    {
     "name": "stdout",
     "output_type": "stream",
     "text": [
      "ep 1970 : reward 256.0\r",
      "ep 1971 : reward 237.0\r",
      "ep 1972 : reward 113.0\r",
      "ep 1973 : reward 107.0\r"
     ]
    },
    {
     "name": "stdout",
     "output_type": "stream",
     "text": [
      "ep 1974 : reward 241.0\r",
      "ep 1975 : reward 258.0\r",
      "ep 1976 : reward 109.0\r",
      "ep 1977 : reward 259.0\r"
     ]
    },
    {
     "name": "stdout",
     "output_type": "stream",
     "text": [
      "ep 1978 : reward 246.0\r",
      "ep 1979 : reward 246.0\r",
      "ep 1980 : reward 249.0\r"
     ]
    },
    {
     "name": "stdout",
     "output_type": "stream",
     "text": [
      "ep 1981 : reward 252.0\r",
      "ep 1982 : reward 417.0\r",
      "ep 1983 : reward 260.0\r"
     ]
    },
    {
     "name": "stdout",
     "output_type": "stream",
     "text": [
      "ep 1984 : reward 229.0\r",
      "ep 1985 : reward 108.0\r",
      "ep 1986 : reward 178.0\r",
      "ep 1987 : reward 247.0\r"
     ]
    },
    {
     "name": "stdout",
     "output_type": "stream",
     "text": [
      "ep 1988 : reward 242.0\r",
      "ep 1989 : reward 172.0\r",
      "ep 1990 : reward 242.0\r"
     ]
    },
    {
     "name": "stdout",
     "output_type": "stream",
     "text": [
      "ep 1991 : reward 500.0\r",
      "ep 1992 : reward 246.0\r",
      "ep 1993 : reward 419.0\r"
     ]
    },
    {
     "name": "stdout",
     "output_type": "stream",
     "text": [
      "ep 1994 : reward 403.0\r",
      "ep 1995 : reward 316.0\r",
      "ep 1996 : reward 385.0\r"
     ]
    },
    {
     "name": "stdout",
     "output_type": "stream",
     "text": [
      "ep 1997 : reward 321.0\r",
      "ep 1998 : reward 500.0\r"
     ]
    },
    {
     "name": "stdout",
     "output_type": "stream",
     "text": [
      "ep 1999 : reward 500.0\r"
     ]
    },
    {
     "name": "stdout",
     "output_type": "stream",
     "text": [
      "ep 2000 : reward 406.0\r",
      "ep 2001 : reward 500.0\r"
     ]
    },
    {
     "name": "stdout",
     "output_type": "stream",
     "text": [
      "ep 2002 : reward 500.0\r",
      "ep 2003 : reward 410.0\r"
     ]
    },
    {
     "name": "stdout",
     "output_type": "stream",
     "text": [
      "ep 2004 : reward 379.0\r",
      "ep 2005 : reward 419.0\r"
     ]
    },
    {
     "name": "stdout",
     "output_type": "stream",
     "text": [
      "ep 2006 : reward 398.0\r",
      "ep 2007 : reward 364.0\r",
      "ep 2008 : reward 272.0\r"
     ]
    },
    {
     "name": "stdout",
     "output_type": "stream",
     "text": [
      "ep 2009 : reward 395.0\r",
      "ep 2010 : reward 251.0\r",
      "ep 2011 : reward 234.0\r",
      "ep 2012 : reward 236.0\r"
     ]
    },
    {
     "name": "stdout",
     "output_type": "stream",
     "text": [
      "ep 2013 : reward 260.0\r",
      "ep 2014 : reward 117.0\r",
      "ep 2015 : reward 185.0\r",
      "ep 2016 : reward 263.0\r"
     ]
    },
    {
     "name": "stdout",
     "output_type": "stream",
     "text": [
      "ep 2017 : reward 315.0\r",
      "ep 2018 : reward 392.0\r",
      "ep 2019 : reward 268.0\r"
     ]
    },
    {
     "name": "stdout",
     "output_type": "stream",
     "text": [
      "ep 2020 : reward 269.0\r",
      "ep 2021 : reward 252.0\r",
      "ep 2022 : reward 189.0\r"
     ]
    },
    {
     "name": "stdout",
     "output_type": "stream",
     "text": [
      "ep 2023 : reward 500.0\r",
      "ep 2024 : reward 500.0\r"
     ]
    },
    {
     "name": "stdout",
     "output_type": "stream",
     "text": [
      "ep 2025 : reward 500.0\r",
      "ep 2026 : reward 406.0\r"
     ]
    },
    {
     "name": "stdout",
     "output_type": "stream",
     "text": [
      "ep 2027 : reward 500.0\r",
      "ep 2028 : reward 500.0\r"
     ]
    },
    {
     "name": "stdout",
     "output_type": "stream",
     "text": [
      "ep 2029 : reward 395.0\r",
      "ep 2030 : reward 413.0\r",
      "ep 2031 : reward 350.0\r"
     ]
    },
    {
     "name": "stdout",
     "output_type": "stream",
     "text": [
      "ep 2032 : reward 266.0\r",
      "ep 2033 : reward 393.0\r",
      "ep 2034 : reward 181.0\r"
     ]
    },
    {
     "name": "stdout",
     "output_type": "stream",
     "text": [
      "ep 2035 : reward 273.0\r",
      "ep 2036 : reward 378.0\r",
      "ep 2037 : reward 255.0\r"
     ]
    },
    {
     "name": "stdout",
     "output_type": "stream",
     "text": [
      "ep 2038 : reward 264.0\r",
      "ep 2039 : reward 259.0\r",
      "ep 2040 : reward 384.0\r"
     ]
    },
    {
     "name": "stdout",
     "output_type": "stream",
     "text": [
      "ep 2041 : reward 500.0\r",
      "ep 2042 : reward 500.0\r",
      "ep 2043 : reward 176.0\r"
     ]
    },
    {
     "name": "stdout",
     "output_type": "stream",
     "text": [
      "ep 2044 : reward 249.0\r",
      "ep 2045 : reward 238.0\r",
      "ep 2046 : reward 122.0\r",
      "ep 2047 : reward 255.0\r"
     ]
    },
    {
     "name": "stdout",
     "output_type": "stream",
     "text": [
      "ep 2048 : reward 255.0\r",
      "ep 2049 : reward 236.0\r",
      "ep 2050 : reward 253.0\r"
     ]
    },
    {
     "name": "stdout",
     "output_type": "stream",
     "text": [
      "ep 2051 : reward 335.0\r",
      "ep 2052 : reward 387.0\r",
      "ep 2053 : reward 270.0\r"
     ]
    },
    {
     "name": "stdout",
     "output_type": "stream",
     "text": [
      "ep 2054 : reward 378.0\r",
      "ep 2055 : reward 412.0\r"
     ]
    },
    {
     "name": "stdout",
     "output_type": "stream",
     "text": [
      "ep 2056 : reward 500.0\r",
      "ep 2057 : reward 394.0\r",
      "ep 2058 : reward 123.0\r"
     ]
    },
    {
     "name": "stdout",
     "output_type": "stream",
     "text": [
      "ep 2059 : reward 326.0\r",
      "ep 2060 : reward 389.0\r",
      "ep 2061 : reward 325.0\r"
     ]
    },
    {
     "name": "stdout",
     "output_type": "stream",
     "text": [
      "ep 2062 : reward 252.0\r",
      "ep 2063 : reward 332.0\r",
      "ep 2064 : reward 262.0\r"
     ]
    },
    {
     "name": "stdout",
     "output_type": "stream",
     "text": [
      "ep 2065 : reward 260.0\r",
      "ep 2066 : reward 242.0\r",
      "ep 2067 : reward 108.0\r",
      "ep 2068 : reward 105.0\r"
     ]
    },
    {
     "name": "stdout",
     "output_type": "stream",
     "text": [
      "ep 2069 : reward 231.0\r",
      "ep 2070 : reward 101.0\r",
      "ep 2071 : reward 94.0\r",
      "ep 2072 : reward 112.0\r"
     ]
    },
    {
     "name": "stdout",
     "output_type": "stream",
     "text": [
      "ep 2073 : reward 357.0\r",
      "ep 2074 : reward 326.0\r",
      "ep 2075 : reward 391.0\r"
     ]
    },
    {
     "name": "stdout",
     "output_type": "stream",
     "text": [
      "ep 2076 : reward 249.0\r",
      "ep 2077 : reward 328.0\r",
      "ep 2078 : reward 372.0\r"
     ]
    },
    {
     "name": "stdout",
     "output_type": "stream",
     "text": [
      "ep 2079 : reward 250.0\r",
      "ep 2080 : reward 263.0\r",
      "ep 2081 : reward 500.0\r"
     ]
    },
    {
     "name": "stdout",
     "output_type": "stream",
     "text": [
      "ep 2082 : reward 500.0\r",
      "ep 2083 : reward 500.0\r",
      "ep 2084 : reward 235.0\r"
     ]
    },
    {
     "name": "stdout",
     "output_type": "stream",
     "text": [
      "ep 2085 : reward 190.0\r",
      "ep 2086 : reward 237.0\r",
      "ep 2087 : reward 183.0\r"
     ]
    },
    {
     "name": "stdout",
     "output_type": "stream",
     "text": [
      "ep 2088 : reward 261.0\r",
      "ep 2089 : reward 174.0\r",
      "ep 2090 : reward 110.0\r",
      "ep 2091 : reward 94.0\r",
      "ep 2092 : reward 94.0\r"
     ]
    },
    {
     "name": "stdout",
     "output_type": "stream",
     "text": [
      "ep 2093 : reward 103.0\r",
      "ep 2094 : reward 389.0\r"
     ]
    },
    {
     "name": "stdout",
     "output_type": "stream",
     "text": [
      "ep 2095 : reward 393.0\r",
      "ep 2096 : reward 500.0\r"
     ]
    },
    {
     "name": "stdout",
     "output_type": "stream",
     "text": [
      "ep 2097 : reward 500.0\r",
      "ep 2098 : reward 500.0\r"
     ]
    },
    {
     "name": "stdout",
     "output_type": "stream",
     "text": [
      "ep 2099 : reward 500.0\r",
      "ep 2100 : reward 500.0\r"
     ]
    },
    {
     "name": "stdout",
     "output_type": "stream",
     "text": [
      "ep 2101 : reward 500.0\r",
      "ep 2102 : reward 500.0\r"
     ]
    },
    {
     "name": "stdout",
     "output_type": "stream",
     "text": [
      "ep 2103 : reward 500.0\r",
      "ep 2104 : reward 500.0\r"
     ]
    },
    {
     "name": "stdout",
     "output_type": "stream",
     "text": [
      "ep 2105 : reward 406.0\r",
      "ep 2106 : reward 388.0\r",
      "ep 2107 : reward 230.0\r"
     ]
    },
    {
     "name": "stdout",
     "output_type": "stream",
     "text": [
      "ep 2108 : reward 181.0\r",
      "ep 2109 : reward 241.0\r",
      "ep 2110 : reward 231.0\r"
     ]
    },
    {
     "name": "stdout",
     "output_type": "stream",
     "text": [
      "ep 2111 : reward 236.0\r",
      "ep 2112 : reward 108.0\r",
      "ep 2113 : reward 190.0\r"
     ]
    },
    {
     "name": "stdout",
     "output_type": "stream",
     "text": [
      "ep 2114 : reward 500.0\r",
      "ep 2115 : reward 500.0\r"
     ]
    },
    {
     "name": "stdout",
     "output_type": "stream",
     "text": [
      "ep 2116 : reward 500.0\r",
      "ep 2117 : reward 428.0\r",
      "ep 2118 : reward 270.0\r"
     ]
    },
    {
     "name": "stdout",
     "output_type": "stream",
     "text": [
      "ep 2119 : reward 251.0\r",
      "ep 2120 : reward 392.0\r",
      "ep 2121 : reward 373.0\r"
     ]
    },
    {
     "name": "stdout",
     "output_type": "stream",
     "text": [
      "ep 2122 : reward 402.0\r",
      "ep 2123 : reward 254.0\r",
      "ep 2124 : reward 346.0\r"
     ]
    },
    {
     "name": "stdout",
     "output_type": "stream",
     "text": [
      "ep 2125 : reward 379.0\r",
      "ep 2126 : reward 253.0\r",
      "ep 2127 : reward 252.0\r"
     ]
    },
    {
     "name": "stdout",
     "output_type": "stream",
     "text": [
      "ep 2128 : reward 244.0\r",
      "ep 2129 : reward 246.0\r",
      "ep 2130 : reward 274.0\r"
     ]
    },
    {
     "name": "stdout",
     "output_type": "stream",
     "text": [
      "ep 2131 : reward 272.0\r",
      "ep 2132 : reward 248.0\r",
      "ep 2133 : reward 271.0\r"
     ]
    },
    {
     "name": "stdout",
     "output_type": "stream",
     "text": [
      "ep 2134 : reward 256.0\r",
      "ep 2135 : reward 249.0\r",
      "ep 2136 : reward 258.0\r"
     ]
    },
    {
     "name": "stdout",
     "output_type": "stream",
     "text": [
      "ep 2137 : reward 255.0\r",
      "ep 2138 : reward 253.0\r",
      "ep 2139 : reward 251.0\r"
     ]
    },
    {
     "name": "stdout",
     "output_type": "stream",
     "text": [
      "ep 2140 : reward 237.0\r",
      "ep 2141 : reward 403.0\r"
     ]
    },
    {
     "name": "stdout",
     "output_type": "stream",
     "text": [
      "ep 2142 : reward 398.0\r",
      "ep 2143 : reward 112.0\r",
      "ep 2144 : reward 179.0\r",
      "ep 2145 : reward 95.0\r",
      "ep 2146 : reward 175.0\r"
     ]
    },
    {
     "name": "stdout",
     "output_type": "stream",
     "text": [
      "ep 2147 : reward 236.0\r",
      "ep 2148 : reward 96.0\r",
      "ep 2149 : reward 197.0\r",
      "ep 2150 : reward 121.0\r"
     ]
    },
    {
     "name": "stdout",
     "output_type": "stream",
     "text": [
      "ep 2151 : reward 244.0\r",
      "ep 2152 : reward 233.0\r",
      "ep 2153 : reward 241.0\r",
      "ep 2154 : reward 104.0\r"
     ]
    },
    {
     "name": "stdout",
     "output_type": "stream",
     "text": [
      "ep 2155 : reward 116.0\r",
      "ep 2156 : reward 244.0\r",
      "ep 2157 : reward 253.0\r"
     ]
    },
    {
     "name": "stdout",
     "output_type": "stream",
     "text": [
      "ep 2158 : reward 246.0\r",
      "ep 2159 : reward 107.0\r",
      "ep 2160 : reward 174.0\r",
      "ep 2161 : reward 248.0\r"
     ]
    },
    {
     "name": "stdout",
     "output_type": "stream",
     "text": [
      "ep 2162 : reward 254.0\r",
      "ep 2163 : reward 243.0\r",
      "ep 2164 : reward 247.0\r",
      "ep 2165 : reward 109.0\r"
     ]
    },
    {
     "name": "stdout",
     "output_type": "stream",
     "text": [
      "ep 2166 : reward 188.0\r",
      "ep 2167 : reward 90.0\r",
      "ep 2168 : reward 93.0\r",
      "ep 2169 : reward 42.0\r",
      "ep 2170 : reward 109.0\r"
     ]
    },
    {
     "name": "stdout",
     "output_type": "stream",
     "text": [
      "ep 2171 : reward 113.0\r",
      "ep 2172 : reward 43.0\r",
      "ep 2173 : reward 247.0\r",
      "ep 2174 : reward 238.0\r"
     ]
    },
    {
     "name": "stdout",
     "output_type": "stream",
     "text": [
      "ep 2175 : reward 261.0\r",
      "ep 2176 : reward 372.0\r",
      "ep 2177 : reward 97.0\r"
     ]
    },
    {
     "name": "stdout",
     "output_type": "stream",
     "text": [
      "ep 2178 : reward 278.0\r",
      "ep 2179 : reward 265.0\r",
      "ep 2180 : reward 266.0\r"
     ]
    },
    {
     "name": "stdout",
     "output_type": "stream",
     "text": [
      "ep 2181 : reward 198.0\r",
      "ep 2182 : reward 263.0\r",
      "ep 2183 : reward 318.0\r",
      "ep 2184 : reward 116.0\r"
     ]
    },
    {
     "name": "stdout",
     "output_type": "stream",
     "text": [
      "ep 2185 : reward 121.0\r",
      "ep 2186 : reward 231.0\r",
      "ep 2187 : reward 17.0\r",
      "ep 2188 : reward 21.0\r",
      "ep 2189 : reward 20.0\r",
      "ep 2190 : reward 26.0\r",
      "ep 2191 : reward 34.0\r"
     ]
    },
    {
     "name": "stdout",
     "output_type": "stream",
     "text": [
      "ep 2192 : reward 91.0\r",
      "ep 2193 : reward 38.0\r",
      "ep 2194 : reward 100.0\r",
      "ep 2195 : reward 93.0\r",
      "ep 2196 : reward 111.0\r"
     ]
    },
    {
     "name": "stdout",
     "output_type": "stream",
     "text": [
      "ep 2197 : reward 227.0\r",
      "ep 2198 : reward 106.0\r",
      "ep 2199 : reward 226.0\r",
      "ep 2200 : reward 94.0\r"
     ]
    },
    {
     "name": "stdout",
     "output_type": "stream",
     "text": [
      "ep 2201 : reward 234.0\r",
      "ep 2202 : reward 248.0\r",
      "ep 2203 : reward 247.0\r"
     ]
    },
    {
     "name": "stdout",
     "output_type": "stream",
     "text": [
      "ep 2204 : reward 189.0\r",
      "ep 2205 : reward 247.0\r",
      "ep 2206 : reward 245.0\r"
     ]
    },
    {
     "name": "stdout",
     "output_type": "stream",
     "text": [
      "ep 2207 : reward 230.0\r",
      "ep 2208 : reward 387.0\r",
      "ep 2209 : reward 187.0\r"
     ]
    },
    {
     "name": "stdout",
     "output_type": "stream",
     "text": [
      "ep 2210 : reward 270.0\r",
      "ep 2211 : reward 258.0\r",
      "ep 2212 : reward 266.0\r"
     ]
    },
    {
     "name": "stdout",
     "output_type": "stream",
     "text": [
      "ep 2213 : reward 268.0\r",
      "ep 2214 : reward 342.0\r"
     ]
    },
    {
     "name": "stdout",
     "output_type": "stream",
     "text": [
      "ep 2215 : reward 500.0\r",
      "ep 2216 : reward 457.0\r"
     ]
    },
    {
     "name": "stdout",
     "output_type": "stream",
     "text": [
      "ep 2217 : reward 500.0\r",
      "ep 2218 : reward 379.0\r"
     ]
    },
    {
     "name": "stdout",
     "output_type": "stream",
     "text": [
      "ep 2219 : reward 500.0\r",
      "ep 2220 : reward 500.0\r"
     ]
    },
    {
     "name": "stdout",
     "output_type": "stream",
     "text": [
      "ep 2221 : reward 500.0\r",
      "ep 2222 : reward 500.0\r"
     ]
    },
    {
     "name": "stdout",
     "output_type": "stream",
     "text": [
      "ep 2223 : reward 500.0\r",
      "ep 2224 : reward 500.0\r"
     ]
    },
    {
     "name": "stdout",
     "output_type": "stream",
     "text": [
      "ep 2225 : reward 500.0\r",
      "ep 2226 : reward 500.0\r"
     ]
    },
    {
     "name": "stdout",
     "output_type": "stream",
     "text": [
      "ep 2227 : reward 398.0\r",
      "ep 2228 : reward 192.0\r",
      "ep 2229 : reward 181.0\r",
      "ep 2230 : reward 111.0\r"
     ]
    },
    {
     "name": "stdout",
     "output_type": "stream",
     "text": [
      "ep 2231 : reward 120.0\r",
      "ep 2232 : reward 115.0\r",
      "ep 2233 : reward 98.0\r",
      "ep 2234 : reward 260.0\r"
     ]
    },
    {
     "name": "stdout",
     "output_type": "stream",
     "text": [
      "ep 2235 : reward 245.0\r",
      "ep 2236 : reward 248.0\r",
      "ep 2237 : reward 246.0\r",
      "ep 2238 : reward 98.0\r"
     ]
    },
    {
     "name": "stdout",
     "output_type": "stream",
     "text": [
      "ep 2239 : reward 243.0\r",
      "ep 2240 : reward 250.0\r",
      "ep 2241 : reward 108.0\r",
      "ep 2242 : reward 241.0\r"
     ]
    },
    {
     "name": "stdout",
     "output_type": "stream",
     "text": [
      "ep 2243 : reward 249.0\r",
      "ep 2244 : reward 250.0\r",
      "ep 2245 : reward 255.0\r"
     ]
    },
    {
     "name": "stdout",
     "output_type": "stream",
     "text": [
      "ep 2246 : reward 374.0\r",
      "ep 2247 : reward 253.0\r",
      "ep 2248 : reward 246.0\r"
     ]
    },
    {
     "name": "stdout",
     "output_type": "stream",
     "text": [
      "ep 2249 : reward 245.0\r",
      "ep 2250 : reward 183.0\r",
      "ep 2251 : reward 197.0\r",
      "ep 2252 : reward 113.0\r"
     ]
    },
    {
     "name": "stdout",
     "output_type": "stream",
     "text": [
      "ep 2253 : reward 234.0\r",
      "ep 2254 : reward 110.0\r",
      "ep 2255 : reward 242.0\r",
      "ep 2256 : reward 246.0\r"
     ]
    },
    {
     "name": "stdout",
     "output_type": "stream",
     "text": [
      "ep 2257 : reward 249.0\r",
      "ep 2258 : reward 257.0\r",
      "ep 2259 : reward 248.0\r"
     ]
    },
    {
     "name": "stdout",
     "output_type": "stream",
     "text": [
      "ep 2260 : reward 230.0\r",
      "ep 2261 : reward 251.0\r",
      "ep 2262 : reward 264.0\r"
     ]
    },
    {
     "name": "stdout",
     "output_type": "stream",
     "text": [
      "ep 2263 : reward 368.0\r",
      "ep 2264 : reward 275.0\r",
      "ep 2265 : reward 242.0\r"
     ]
    },
    {
     "name": "stdout",
     "output_type": "stream",
     "text": [
      "ep 2266 : reward 500.0\r",
      "ep 2267 : reward 475.0\r"
     ]
    },
    {
     "name": "stdout",
     "output_type": "stream",
     "text": [
      "ep 2268 : reward 481.0\r",
      "ep 2269 : reward 500.0\r"
     ]
    },
    {
     "name": "stdout",
     "output_type": "stream",
     "text": [
      "ep 2270 : reward 401.0\r",
      "ep 2271 : reward 500.0\r"
     ]
    },
    {
     "name": "stdout",
     "output_type": "stream",
     "text": [
      "ep 2272 : reward 500.0\r",
      "ep 2273 : reward 330.0\r",
      "ep 2274 : reward 320.0\r"
     ]
    },
    {
     "name": "stdout",
     "output_type": "stream",
     "text": [
      "ep 2275 : reward 393.0\r",
      "ep 2276 : reward 356.0\r",
      "ep 2277 : reward 398.0\r"
     ]
    },
    {
     "name": "stdout",
     "output_type": "stream",
     "text": [
      "ep 2278 : reward 201.0\r",
      "ep 2279 : reward 339.0\r",
      "ep 2280 : reward 256.0\r"
     ]
    },
    {
     "name": "stdout",
     "output_type": "stream",
     "text": [
      "ep 2281 : reward 100.0\r",
      "ep 2282 : reward 241.0\r",
      "ep 2283 : reward 242.0\r"
     ]
    },
    {
     "name": "stdout",
     "output_type": "stream",
     "text": [
      "ep 2284 : reward 250.0\r",
      "ep 2285 : reward 256.0\r",
      "ep 2286 : reward 376.0\r"
     ]
    },
    {
     "name": "stdout",
     "output_type": "stream",
     "text": [
      "ep 2287 : reward 93.0\r",
      "ep 2288 : reward 95.0\r",
      "ep 2289 : reward 111.0\r",
      "ep 2290 : reward 113.0\r",
      "ep 2291 : reward 103.0\r"
     ]
    },
    {
     "name": "stdout",
     "output_type": "stream",
     "text": [
      "ep 2292 : reward 94.0\r",
      "ep 2293 : reward 99.0\r",
      "ep 2294 : reward 236.0\r",
      "ep 2295 : reward 237.0\r"
     ]
    },
    {
     "name": "stdout",
     "output_type": "stream",
     "text": [
      "ep 2296 : reward 226.0\r",
      "ep 2297 : reward 247.0\r",
      "ep 2298 : reward 99.0\r",
      "ep 2299 : reward 32.0\r",
      "ep 2300 : reward 91.0\r"
     ]
    },
    {
     "name": "stdout",
     "output_type": "stream",
     "text": [
      "ep 2301 : reward 96.0\r",
      "ep 2302 : reward 192.0\r",
      "ep 2303 : reward 189.0\r"
     ]
    },
    {
     "name": "stdout",
     "output_type": "stream",
     "text": [
      "ep 2304 : reward 253.0\r",
      "ep 2305 : reward 185.0\r",
      "ep 2306 : reward 263.0\r"
     ]
    },
    {
     "name": "stdout",
     "output_type": "stream",
     "text": [
      "ep 2307 : reward 231.0\r",
      "ep 2308 : reward 94.0\r",
      "ep 2309 : reward 103.0\r",
      "ep 2310 : reward 188.0\r",
      "ep 2311 : reward 33.0\r"
     ]
    },
    {
     "name": "stdout",
     "output_type": "stream",
     "text": [
      "ep 2312 : reward 92.0\r",
      "ep 2313 : reward 96.0\r",
      "ep 2314 : reward 104.0\r",
      "ep 2315 : reward 93.0\r"
     ]
    },
    {
     "name": "stdout",
     "output_type": "stream",
     "text": [
      "ep 2316 : reward 394.0\r",
      "ep 2317 : reward 410.0\r",
      "ep 2318 : reward 243.0\r"
     ]
    },
    {
     "name": "stdout",
     "output_type": "stream",
     "text": [
      "ep 2319 : reward 117.0\r",
      "ep 2320 : reward 399.0\r"
     ]
    },
    {
     "name": "stdout",
     "output_type": "stream",
     "text": [
      "ep 2321 : reward 400.0\r",
      "ep 2322 : reward 500.0\r"
     ]
    },
    {
     "name": "stdout",
     "output_type": "stream",
     "text": [
      "ep 2323 : reward 500.0\r",
      "ep 2324 : reward 500.0\r"
     ]
    },
    {
     "name": "stdout",
     "output_type": "stream",
     "text": [
      "ep 2325 : reward 500.0\r",
      "ep 2326 : reward 500.0\r"
     ]
    },
    {
     "name": "stdout",
     "output_type": "stream",
     "text": [
      "ep 2327 : reward 369.0\r",
      "ep 2328 : reward 403.0\r",
      "ep 2329 : reward 273.0\r"
     ]
    },
    {
     "name": "stdout",
     "output_type": "stream",
     "text": [
      "ep 2330 : reward 500.0\r",
      "ep 2331 : reward 500.0\r"
     ]
    },
    {
     "name": "stdout",
     "output_type": "stream",
     "text": [
      "ep 2332 : reward 500.0\r",
      "ep 2333 : reward 500.0\r"
     ]
    },
    {
     "name": "stdout",
     "output_type": "stream",
     "text": [
      "ep 2334 : reward 500.0\r",
      "ep 2335 : reward 500.0\r"
     ]
    },
    {
     "name": "stdout",
     "output_type": "stream",
     "text": [
      "ep 2336 : reward 371.0\r",
      "ep 2337 : reward 105.0\r",
      "ep 2338 : reward 100.0\r",
      "ep 2339 : reward 229.0\r"
     ]
    },
    {
     "name": "stdout",
     "output_type": "stream",
     "text": [
      "ep 2340 : reward 184.0\r",
      "ep 2341 : reward 184.0\r",
      "ep 2342 : reward 242.0\r",
      "ep 2343 : reward 234.0\r"
     ]
    },
    {
     "name": "stdout",
     "output_type": "stream",
     "text": [
      "ep 2344 : reward 239.0\r",
      "ep 2345 : reward 245.0\r",
      "ep 2346 : reward 251.0\r"
     ]
    },
    {
     "name": "stdout",
     "output_type": "stream",
     "text": [
      "ep 2347 : reward 227.0\r",
      "ep 2348 : reward 235.0\r",
      "ep 2349 : reward 230.0\r",
      "ep 2350 : reward 199.0\r"
     ]
    },
    {
     "name": "stdout",
     "output_type": "stream",
     "text": [
      "ep 2351 : reward 265.0\r",
      "ep 2352 : reward 190.0\r",
      "ep 2353 : reward 182.0\r",
      "ep 2354 : reward 106.0\r",
      "ep 2355 : reward 90.0\r"
     ]
    },
    {
     "name": "stdout",
     "output_type": "stream",
     "text": [
      "ep 2356 : reward 97.0\r",
      "ep 2357 : reward 177.0\r",
      "ep 2358 : reward 255.0\r",
      "ep 2359 : reward 250.0\r"
     ]
    },
    {
     "name": "stdout",
     "output_type": "stream",
     "text": [
      "ep 2360 : reward 261.0\r",
      "ep 2361 : reward 267.0\r",
      "ep 2362 : reward 242.0\r"
     ]
    },
    {
     "name": "stdout",
     "output_type": "stream",
     "text": [
      "ep 2363 : reward 260.0\r",
      "ep 2364 : reward 258.0\r",
      "ep 2365 : reward 253.0\r"
     ]
    },
    {
     "name": "stdout",
     "output_type": "stream",
     "text": [
      "ep 2366 : reward 362.0\r",
      "ep 2367 : reward 268.0\r",
      "ep 2368 : reward 396.0\r"
     ]
    },
    {
     "name": "stdout",
     "output_type": "stream",
     "text": [
      "ep 2369 : reward 384.0\r",
      "ep 2370 : reward 261.0\r",
      "ep 2371 : reward 235.0\r"
     ]
    },
    {
     "name": "stdout",
     "output_type": "stream",
     "text": [
      "ep 2372 : reward 241.0\r",
      "ep 2373 : reward 113.0\r",
      "ep 2374 : reward 105.0\r",
      "ep 2375 : reward 98.0\r",
      "ep 2376 : reward 99.0\r"
     ]
    },
    {
     "name": "stdout",
     "output_type": "stream",
     "text": [
      "ep 2377 : reward 226.0\r",
      "ep 2378 : reward 109.0\r",
      "ep 2379 : reward 238.0\r",
      "ep 2380 : reward 183.0\r"
     ]
    },
    {
     "name": "stdout",
     "output_type": "stream",
     "text": [
      "ep 2381 : reward 120.0\r",
      "ep 2382 : reward 248.0\r",
      "ep 2383 : reward 241.0\r",
      "ep 2384 : reward 53.0\r",
      "ep 2385 : reward 24.0\r"
     ]
    },
    {
     "name": "stdout",
     "output_type": "stream",
     "text": [
      "ep 2386 : reward 38.0\r",
      "ep 2387 : reward 28.0\r",
      "ep 2388 : reward 96.0\r",
      "ep 2389 : reward 99.0\r",
      "ep 2390 : reward 99.0\r",
      "ep 2391 : reward 91.0\r"
     ]
    },
    {
     "name": "stdout",
     "output_type": "stream",
     "text": [
      "ep 2392 : reward 95.0\r",
      "ep 2393 : reward 190.0\r",
      "ep 2394 : reward 114.0\r",
      "ep 2395 : reward 118.0\r"
     ]
    },
    {
     "name": "stdout",
     "output_type": "stream",
     "text": [
      "ep 2396 : reward 189.0\r",
      "ep 2397 : reward 184.0\r",
      "ep 2398 : reward 229.0\r"
     ]
    },
    {
     "name": "stdout",
     "output_type": "stream",
     "text": [
      "ep 2399 : reward 255.0\r",
      "ep 2400 : reward 500.0\r"
     ]
    },
    {
     "name": "stdout",
     "output_type": "stream",
     "text": [
      "ep 2401 : reward 500.0\r",
      "ep 2402 : reward 500.0\r"
     ]
    },
    {
     "name": "stdout",
     "output_type": "stream",
     "text": [
      "ep 2403 : reward 500.0\r",
      "ep 2404 : reward 500.0\r"
     ]
    },
    {
     "name": "stdout",
     "output_type": "stream",
     "text": [
      "ep 2405 : reward 500.0\r",
      "ep 2406 : reward 263.0\r",
      "ep 2407 : reward 500.0\r"
     ]
    },
    {
     "name": "stdout",
     "output_type": "stream",
     "text": [
      "ep 2408 : reward 413.0\r",
      "ep 2409 : reward 403.0\r"
     ]
    },
    {
     "name": "stdout",
     "output_type": "stream",
     "text": [
      "ep 2410 : reward 500.0\r",
      "ep 2411 : reward 385.0\r",
      "ep 2412 : reward 394.0\r"
     ]
    },
    {
     "name": "stdout",
     "output_type": "stream",
     "text": [
      "ep 2413 : reward 344.0\r",
      "ep 2414 : reward 383.0\r",
      "ep 2415 : reward 384.0\r"
     ]
    },
    {
     "name": "stdout",
     "output_type": "stream",
     "text": [
      "ep 2416 : reward 500.0\r",
      "ep 2417 : reward 500.0\r"
     ]
    },
    {
     "name": "stdout",
     "output_type": "stream",
     "text": [
      "ep 2418 : reward 500.0\r",
      "ep 2419 : reward 500.0\r"
     ]
    },
    {
     "name": "stdout",
     "output_type": "stream",
     "text": [
      "ep 2420 : reward 500.0\r",
      "ep 2421 : reward 500.0\r"
     ]
    },
    {
     "name": "stdout",
     "output_type": "stream",
     "text": [
      "ep 2422 : reward 500.0\r",
      "ep 2423 : reward 500.0\r"
     ]
    },
    {
     "name": "stdout",
     "output_type": "stream",
     "text": [
      "ep 2424 : reward 500.0\r",
      "ep 2425 : reward 500.0\r"
     ]
    },
    {
     "name": "stdout",
     "output_type": "stream",
     "text": [
      "ep 2426 : reward 390.0\r",
      "ep 2427 : reward 413.0\r",
      "ep 2428 : reward 380.0\r"
     ]
    },
    {
     "name": "stdout",
     "output_type": "stream",
     "text": [
      "ep 2429 : reward 390.0\r",
      "ep 2430 : reward 255.0\r",
      "ep 2431 : reward 389.0\r"
     ]
    },
    {
     "name": "stdout",
     "output_type": "stream",
     "text": [
      "ep 2432 : reward 379.0\r",
      "ep 2433 : reward 389.0\r",
      "ep 2434 : reward 255.0\r"
     ]
    },
    {
     "name": "stdout",
     "output_type": "stream",
     "text": [
      "ep 2435 : reward 267.0\r",
      "ep 2436 : reward 250.0\r",
      "ep 2437 : reward 500.0\r"
     ]
    },
    {
     "name": "stdout",
     "output_type": "stream",
     "text": [
      "ep 2438 : reward 271.0\r",
      "ep 2439 : reward 255.0\r",
      "ep 2440 : reward 163.0\r"
     ]
    },
    {
     "name": "stdout",
     "output_type": "stream",
     "text": [
      "ep 2441 : reward 500.0\r",
      "ep 2442 : reward 324.0\r"
     ]
    },
    {
     "name": "stdout",
     "output_type": "stream",
     "text": [
      "ep 2443 : reward 500.0\r",
      "ep 2444 : reward 500.0\r"
     ]
    },
    {
     "name": "stdout",
     "output_type": "stream",
     "text": [
      "ep 2445 : reward 414.0\r",
      "ep 2446 : reward 346.0\r",
      "ep 2447 : reward 395.0\r"
     ]
    },
    {
     "name": "stdout",
     "output_type": "stream",
     "text": [
      "ep 2448 : reward 377.0\r",
      "ep 2449 : reward 361.0\r",
      "ep 2450 : reward 395.0\r"
     ]
    },
    {
     "name": "stdout",
     "output_type": "stream",
     "text": [
      "ep 2451 : reward 258.0\r",
      "ep 2452 : reward 263.0\r",
      "ep 2453 : reward 236.0\r"
     ]
    },
    {
     "name": "stdout",
     "output_type": "stream",
     "text": [
      "ep 2454 : reward 244.0\r",
      "ep 2455 : reward 240.0\r",
      "ep 2456 : reward 259.0\r"
     ]
    },
    {
     "name": "stdout",
     "output_type": "stream",
     "text": [
      "ep 2457 : reward 238.0\r",
      "ep 2458 : reward 191.0\r",
      "ep 2459 : reward 441.0\r"
     ]
    },
    {
     "name": "stdout",
     "output_type": "stream",
     "text": [
      "ep 2460 : reward 500.0\r",
      "ep 2461 : reward 391.0\r"
     ]
    },
    {
     "name": "stdout",
     "output_type": "stream",
     "text": [
      "ep 2462 : reward 398.0\r",
      "ep 2463 : reward 400.0\r"
     ]
    },
    {
     "name": "stdout",
     "output_type": "stream",
     "text": [
      "ep 2464 : reward 410.0\r",
      "ep 2465 : reward 253.0\r",
      "ep 2466 : reward 269.0\r"
     ]
    },
    {
     "name": "stdout",
     "output_type": "stream",
     "text": [
      "ep 2467 : reward 261.0\r",
      "ep 2468 : reward 202.0\r",
      "ep 2469 : reward 250.0\r"
     ]
    },
    {
     "name": "stdout",
     "output_type": "stream",
     "text": [
      "ep 2470 : reward 229.0\r",
      "ep 2471 : reward 250.0\r",
      "ep 2472 : reward 377.0\r"
     ]
    },
    {
     "name": "stdout",
     "output_type": "stream",
     "text": [
      "ep 2473 : reward 240.0\r",
      "ep 2474 : reward 249.0\r",
      "ep 2475 : reward 194.0\r"
     ]
    },
    {
     "name": "stdout",
     "output_type": "stream",
     "text": [
      "ep 2476 : reward 265.0\r",
      "ep 2477 : reward 245.0\r",
      "ep 2478 : reward 244.0\r",
      "ep 2479 : reward 180.0\r"
     ]
    },
    {
     "name": "stdout",
     "output_type": "stream",
     "text": [
      "ep 2480 : reward 100.0\r",
      "ep 2481 : reward 100.0\r",
      "ep 2482 : reward 32.0\r",
      "ep 2483 : reward 32.0\r",
      "ep 2484 : reward 47.0\r",
      "ep 2485 : reward 109.0\r"
     ]
    },
    {
     "name": "stdout",
     "output_type": "stream",
     "text": [
      "ep 2486 : reward 99.0\r",
      "ep 2487 : reward 101.0\r",
      "ep 2488 : reward 97.0\r",
      "ep 2489 : reward 105.0\r",
      "ep 2490 : reward 103.0\r"
     ]
    },
    {
     "name": "stdout",
     "output_type": "stream",
     "text": [
      "ep 2491 : reward 105.0\r",
      "ep 2492 : reward 500.0\r"
     ]
    },
    {
     "name": "stdout",
     "output_type": "stream",
     "text": [
      "ep 2493 : reward 500.0\r",
      "ep 2494 : reward 500.0\r"
     ]
    },
    {
     "name": "stdout",
     "output_type": "stream",
     "text": [
      "ep 2495 : reward 500.0\r",
      "ep 2496 : reward 500.0\r"
     ]
    },
    {
     "name": "stdout",
     "output_type": "stream",
     "text": [
      "ep 2497 : reward 411.0\r",
      "ep 2498 : reward 500.0\r",
      "ep 2499 : reward 115.0\r"
     ]
    },
    {
     "name": "stdout",
     "output_type": "stream",
     "text": [
      "ep 2500 : reward 236.0\r",
      "ep 2501 : reward 243.0\r",
      "ep 2502 : reward 363.0\r"
     ]
    },
    {
     "name": "stdout",
     "output_type": "stream",
     "text": [
      "ep 2503 : reward 500.0\r",
      "ep 2504 : reward 395.0\r"
     ]
    },
    {
     "name": "stdout",
     "output_type": "stream",
     "text": [
      "ep 2505 : reward 500.0\r",
      "ep 2506 : reward 375.0\r"
     ]
    },
    {
     "name": "stdout",
     "output_type": "stream",
     "text": [
      "ep 2507 : reward 401.0\r",
      "ep 2508 : reward 227.0\r",
      "ep 2509 : reward 254.0\r"
     ]
    },
    {
     "name": "stdout",
     "output_type": "stream",
     "text": [
      "ep 2510 : reward 339.0\r",
      "ep 2511 : reward 277.0\r",
      "ep 2512 : reward 407.0\r"
     ]
    },
    {
     "name": "stdout",
     "output_type": "stream",
     "text": [
      "ep 2513 : reward 315.0\r",
      "ep 2514 : reward 338.0\r",
      "ep 2515 : reward 243.0\r"
     ]
    },
    {
     "name": "stdout",
     "output_type": "stream",
     "text": [
      "ep 2516 : reward 262.0\r",
      "ep 2517 : reward 268.0\r",
      "ep 2518 : reward 380.0\r"
     ]
    },
    {
     "name": "stdout",
     "output_type": "stream",
     "text": [
      "ep 2519 : reward 349.0\r",
      "ep 2520 : reward 390.0\r",
      "ep 2521 : reward 262.0\r"
     ]
    },
    {
     "name": "stdout",
     "output_type": "stream",
     "text": [
      "ep 2522 : reward 246.0\r",
      "ep 2523 : reward 257.0\r",
      "ep 2524 : reward 266.0\r"
     ]
    },
    {
     "name": "stdout",
     "output_type": "stream",
     "text": [
      "ep 2525 : reward 257.0\r",
      "ep 2526 : reward 254.0\r",
      "ep 2527 : reward 176.0\r"
     ]
    },
    {
     "name": "stdout",
     "output_type": "stream",
     "text": [
      "ep 2528 : reward 481.0\r",
      "ep 2529 : reward 500.0\r"
     ]
    },
    {
     "name": "stdout",
     "output_type": "stream",
     "text": [
      "ep 2530 : reward 500.0\r",
      "ep 2531 : reward 500.0\r"
     ]
    },
    {
     "name": "stdout",
     "output_type": "stream",
     "text": [
      "ep 2532 : reward 423.0\r",
      "ep 2533 : reward 244.0\r",
      "ep 2534 : reward 269.0\r",
      "ep 2535 : reward 98.0\r"
     ]
    },
    {
     "name": "stdout",
     "output_type": "stream",
     "text": [
      "ep 2536 : reward 102.0\r",
      "ep 2537 : reward 188.0\r",
      "ep 2538 : reward 108.0\r",
      "ep 2539 : reward 242.0\r"
     ]
    },
    {
     "name": "stdout",
     "output_type": "stream",
     "text": [
      "ep 2540 : reward 111.0\r",
      "ep 2541 : reward 238.0\r",
      "ep 2542 : reward 103.0\r",
      "ep 2543 : reward 258.0\r"
     ]
    },
    {
     "name": "stdout",
     "output_type": "stream",
     "text": [
      "ep 2544 : reward 235.0\r",
      "ep 2545 : reward 111.0\r",
      "ep 2546 : reward 40.0\r",
      "ep 2547 : reward 101.0\r",
      "ep 2548 : reward 246.0\r"
     ]
    },
    {
     "name": "stdout",
     "output_type": "stream",
     "text": [
      "ep 2549 : reward 382.0\r",
      "ep 2550 : reward 391.0\r",
      "ep 2551 : reward 269.0\r"
     ]
    },
    {
     "name": "stdout",
     "output_type": "stream",
     "text": [
      "ep 2552 : reward 399.0\r",
      "ep 2553 : reward 500.0\r"
     ]
    },
    {
     "name": "stdout",
     "output_type": "stream",
     "text": [
      "ep 2554 : reward 500.0\r",
      "ep 2555 : reward 483.0\r"
     ]
    },
    {
     "name": "stdout",
     "output_type": "stream",
     "text": [
      "ep 2556 : reward 500.0\r",
      "ep 2557 : reward 500.0\r"
     ]
    },
    {
     "name": "stdout",
     "output_type": "stream",
     "text": [
      "ep 2558 : reward 500.0\r",
      "ep 2559 : reward 500.0\r"
     ]
    },
    {
     "name": "stdout",
     "output_type": "stream",
     "text": [
      "ep 2560 : reward 500.0\r",
      "ep 2561 : reward 423.0\r"
     ]
    },
    {
     "name": "stdout",
     "output_type": "stream",
     "text": [
      "ep 2562 : reward 500.0\r",
      "ep 2563 : reward 430.0\r"
     ]
    },
    {
     "name": "stdout",
     "output_type": "stream",
     "text": [
      "ep 2564 : reward 500.0\r",
      "ep 2565 : reward 391.0\r",
      "ep 2566 : reward 264.0\r"
     ]
    },
    {
     "name": "stdout",
     "output_type": "stream",
     "text": [
      "ep 2567 : reward 346.0\r",
      "ep 2568 : reward 415.0\r"
     ]
    },
    {
     "name": "stdout",
     "output_type": "stream",
     "text": [
      "ep 2569 : reward 377.0\r",
      "ep 2570 : reward 386.0\r",
      "ep 2571 : reward 124.0\r",
      "ep 2572 : reward 109.0\r"
     ]
    },
    {
     "name": "stdout",
     "output_type": "stream",
     "text": [
      "ep 2573 : reward 113.0\r",
      "ep 2574 : reward 230.0\r",
      "ep 2575 : reward 102.0\r"
     ]
    },
    {
     "name": "stdout",
     "output_type": "stream",
     "text": [
      "ep 2576 : reward 500.0\r",
      "ep 2577 : reward 500.0\r"
     ]
    },
    {
     "name": "stdout",
     "output_type": "stream",
     "text": [
      "ep 2578 : reward 500.0\r",
      "ep 2579 : reward 500.0\r"
     ]
    },
    {
     "name": "stdout",
     "output_type": "stream",
     "text": [
      "ep 2580 : reward 500.0\r",
      "ep 2581 : reward 500.0\r"
     ]
    },
    {
     "name": "stdout",
     "output_type": "stream",
     "text": [
      "ep 2582 : reward 412.0\r",
      "ep 2583 : reward 398.0\r",
      "ep 2584 : reward 265.0\r"
     ]
    },
    {
     "name": "stdout",
     "output_type": "stream",
     "text": [
      "ep 2585 : reward 344.0\r",
      "ep 2586 : reward 381.0\r",
      "ep 2587 : reward 256.0\r"
     ]
    },
    {
     "name": "stdout",
     "output_type": "stream",
     "text": [
      "ep 2588 : reward 259.0\r",
      "ep 2589 : reward 392.0\r"
     ]
    },
    {
     "name": "stdout",
     "output_type": "stream",
     "text": [
      "ep 2590 : reward 500.0\r",
      "ep 2591 : reward 500.0\r"
     ]
    },
    {
     "name": "stdout",
     "output_type": "stream",
     "text": [
      "ep 2592 : reward 500.0\r",
      "ep 2593 : reward 379.0\r",
      "ep 2594 : reward 392.0\r"
     ]
    },
    {
     "name": "stdout",
     "output_type": "stream",
     "text": [
      "ep 2595 : reward 382.0\r",
      "ep 2596 : reward 371.0\r",
      "ep 2597 : reward 265.0\r"
     ]
    },
    {
     "name": "stdout",
     "output_type": "stream",
     "text": [
      "ep 2598 : reward 254.0\r",
      "ep 2599 : reward 277.0\r",
      "ep 2600 : reward 185.0\r"
     ]
    },
    {
     "name": "stdout",
     "output_type": "stream",
     "text": [
      "ep 2601 : reward 500.0\r",
      "ep 2602 : reward 435.0\r"
     ]
    },
    {
     "name": "stdout",
     "output_type": "stream",
     "text": [
      "ep 2603 : reward 500.0\r",
      "ep 2604 : reward 500.0\r"
     ]
    },
    {
     "name": "stdout",
     "output_type": "stream",
     "text": [
      "ep 2605 : reward 500.0\r",
      "ep 2606 : reward 409.0\r"
     ]
    },
    {
     "name": "stdout",
     "output_type": "stream",
     "text": [
      "ep 2607 : reward 406.0\r",
      "ep 2608 : reward 378.0\r",
      "ep 2609 : reward 391.0\r"
     ]
    },
    {
     "name": "stdout",
     "output_type": "stream",
     "text": [
      "ep 2610 : reward 398.0\r",
      "ep 2611 : reward 330.0\r",
      "ep 2612 : reward 386.0\r"
     ]
    },
    {
     "name": "stdout",
     "output_type": "stream",
     "text": [
      "ep 2613 : reward 256.0\r",
      "ep 2614 : reward 255.0\r",
      "ep 2615 : reward 245.0\r"
     ]
    },
    {
     "name": "stdout",
     "output_type": "stream",
     "text": [
      "ep 2616 : reward 235.0\r",
      "ep 2617 : reward 256.0\r",
      "ep 2618 : reward 241.0\r"
     ]
    },
    {
     "name": "stdout",
     "output_type": "stream",
     "text": [
      "ep 2619 : reward 500.0\r",
      "ep 2620 : reward 500.0\r"
     ]
    },
    {
     "name": "stdout",
     "output_type": "stream",
     "text": [
      "ep 2621 : reward 500.0\r",
      "ep 2622 : reward 284.0\r",
      "ep 2623 : reward 403.0\r"
     ]
    },
    {
     "name": "stdout",
     "output_type": "stream",
     "text": [
      "ep 2624 : reward 378.0\r",
      "ep 2625 : reward 351.0\r",
      "ep 2626 : reward 266.0\r"
     ]
    },
    {
     "name": "stdout",
     "output_type": "stream",
     "text": [
      "ep 2627 : reward 190.0\r",
      "ep 2628 : reward 249.0\r",
      "ep 2629 : reward 239.0\r"
     ]
    },
    {
     "name": "stdout",
     "output_type": "stream",
     "text": [
      "ep 2630 : reward 231.0\r",
      "ep 2631 : reward 248.0\r",
      "ep 2632 : reward 251.0\r"
     ]
    },
    {
     "name": "stdout",
     "output_type": "stream",
     "text": [
      "ep 2633 : reward 500.0\r",
      "ep 2634 : reward 500.0\r"
     ]
    },
    {
     "name": "stdout",
     "output_type": "stream",
     "text": [
      "ep 2635 : reward 403.0\r",
      "ep 2636 : reward 420.0\r",
      "ep 2637 : reward 334.0\r"
     ]
    },
    {
     "name": "stdout",
     "output_type": "stream",
     "text": [
      "ep 2638 : reward 394.0\r",
      "ep 2639 : reward 400.0\r",
      "ep 2640 : reward 252.0\r"
     ]
    },
    {
     "name": "stdout",
     "output_type": "stream",
     "text": [
      "ep 2641 : reward 411.0\r",
      "ep 2642 : reward 198.0\r",
      "ep 2643 : reward 184.0\r",
      "ep 2644 : reward 252.0\r"
     ]
    },
    {
     "name": "stdout",
     "output_type": "stream",
     "text": [
      "ep 2645 : reward 256.0\r",
      "ep 2646 : reward 118.0\r",
      "ep 2647 : reward 249.0\r",
      "ep 2648 : reward 93.0\r",
      "ep 2649 : reward 92.0\r"
     ]
    },
    {
     "name": "stdout",
     "output_type": "stream",
     "text": [
      "ep 2650 : reward 104.0\r",
      "ep 2651 : reward 107.0\r",
      "ep 2652 : reward 120.0\r",
      "ep 2653 : reward 91.0\r",
      "ep 2654 : reward 110.0\r"
     ]
    },
    {
     "name": "stdout",
     "output_type": "stream",
     "text": [
      "ep 2655 : reward 226.0\r",
      "ep 2656 : reward 237.0\r",
      "ep 2657 : reward 191.0\r",
      "ep 2658 : reward 102.0\r"
     ]
    },
    {
     "name": "stdout",
     "output_type": "stream",
     "text": [
      "ep 2659 : reward 171.0\r",
      "ep 2660 : reward 117.0\r",
      "ep 2661 : reward 180.0\r"
     ]
    },
    {
     "name": "stdout",
     "output_type": "stream",
     "text": [
      "ep 2662 : reward 500.0\r",
      "ep 2663 : reward 500.0\r"
     ]
    },
    {
     "name": "stdout",
     "output_type": "stream",
     "text": [
      "ep 2664 : reward 424.0\r",
      "ep 2665 : reward 292.0\r",
      "ep 2666 : reward 400.0\r"
     ]
    },
    {
     "name": "stdout",
     "output_type": "stream",
     "text": [
      "ep 2667 : reward 416.0\r",
      "ep 2668 : reward 316.0\r",
      "ep 2669 : reward 382.0\r"
     ]
    },
    {
     "name": "stdout",
     "output_type": "stream",
     "text": [
      "ep 2670 : reward 104.0\r",
      "ep 2671 : reward 103.0\r",
      "ep 2672 : reward 105.0\r",
      "ep 2673 : reward 107.0\r",
      "ep 2674 : reward 105.0\r"
     ]
    },
    {
     "name": "stdout",
     "output_type": "stream",
     "text": [
      "ep 2675 : reward 113.0\r",
      "ep 2676 : reward 240.0\r",
      "ep 2677 : reward 102.0\r",
      "ep 2678 : reward 234.0\r"
     ]
    },
    {
     "name": "stdout",
     "output_type": "stream",
     "text": [
      "ep 2679 : reward 122.0\r",
      "ep 2680 : reward 233.0\r",
      "ep 2681 : reward 173.0\r"
     ]
    },
    {
     "name": "stdout",
     "output_type": "stream",
     "text": [
      "ep 2682 : reward 273.0\r",
      "ep 2683 : reward 258.0\r",
      "ep 2684 : reward 230.0\r"
     ]
    },
    {
     "name": "stdout",
     "output_type": "stream",
     "text": [
      "ep 2685 : reward 253.0\r",
      "ep 2686 : reward 170.0\r",
      "ep 2687 : reward 500.0\r"
     ]
    },
    {
     "name": "stdout",
     "output_type": "stream",
     "text": [
      "ep 2688 : reward 500.0\r",
      "ep 2689 : reward 500.0\r"
     ]
    },
    {
     "name": "stdout",
     "output_type": "stream",
     "text": [
      "ep 2690 : reward 500.0\r",
      "ep 2691 : reward 185.0\r",
      "ep 2692 : reward 348.0\r"
     ]
    },
    {
     "name": "stdout",
     "output_type": "stream",
     "text": [
      "ep 2693 : reward 500.0\r",
      "ep 2694 : reward 500.0\r"
     ]
    },
    {
     "name": "stdout",
     "output_type": "stream",
     "text": [
      "ep 2695 : reward 500.0\r",
      "ep 2696 : reward 500.0\r",
      "ep 2697 : reward 251.0\r"
     ]
    },
    {
     "name": "stdout",
     "output_type": "stream",
     "text": [
      "ep 2698 : reward 415.0\r",
      "ep 2699 : reward 421.0\r"
     ]
    },
    {
     "name": "stdout",
     "output_type": "stream",
     "text": [
      "ep 2700 : reward 397.0\r",
      "ep 2701 : reward 355.0\r",
      "ep 2702 : reward 401.0\r"
     ]
    },
    {
     "name": "stdout",
     "output_type": "stream",
     "text": [
      "ep 2703 : reward 382.0\r",
      "ep 2704 : reward 394.0\r",
      "ep 2705 : reward 265.0\r"
     ]
    },
    {
     "name": "stdout",
     "output_type": "stream",
     "text": [
      "ep 2706 : reward 379.0\r",
      "ep 2707 : reward 383.0\r"
     ]
    },
    {
     "name": "stdout",
     "output_type": "stream",
     "text": [
      "ep 2708 : reward 393.0\r",
      "ep 2709 : reward 407.0\r",
      "ep 2710 : reward 248.0\r"
     ]
    },
    {
     "name": "stdout",
     "output_type": "stream",
     "text": [
      "ep 2711 : reward 372.0\r",
      "ep 2712 : reward 245.0\r",
      "ep 2713 : reward 463.0\r"
     ]
    },
    {
     "name": "stdout",
     "output_type": "stream",
     "text": [
      "ep 2714 : reward 500.0\r",
      "ep 2715 : reward 405.0\r"
     ]
    },
    {
     "name": "stdout",
     "output_type": "stream",
     "text": [
      "ep 2716 : reward 439.0\r",
      "ep 2717 : reward 418.0\r"
     ]
    },
    {
     "name": "stdout",
     "output_type": "stream",
     "text": [
      "ep 2718 : reward 429.0\r",
      "ep 2719 : reward 308.0\r",
      "ep 2720 : reward 370.0\r"
     ]
    },
    {
     "name": "stdout",
     "output_type": "stream",
     "text": [
      "ep 2721 : reward 238.0\r",
      "ep 2722 : reward 178.0\r",
      "ep 2723 : reward 232.0\r",
      "ep 2724 : reward 175.0\r"
     ]
    },
    {
     "name": "stdout",
     "output_type": "stream",
     "text": [
      "ep 2725 : reward 182.0\r",
      "ep 2726 : reward 250.0\r",
      "ep 2727 : reward 251.0\r"
     ]
    },
    {
     "name": "stdout",
     "output_type": "stream",
     "text": [
      "ep 2728 : reward 500.0\r",
      "ep 2729 : reward 500.0\r"
     ]
    },
    {
     "name": "stdout",
     "output_type": "stream",
     "text": [
      "ep 2730 : reward 500.0\r",
      "ep 2731 : reward 338.0\r",
      "ep 2732 : reward 267.0\r"
     ]
    },
    {
     "name": "stdout",
     "output_type": "stream",
     "text": [
      "ep 2733 : reward 409.0\r",
      "ep 2734 : reward 242.0\r",
      "ep 2735 : reward 500.0\r"
     ]
    },
    {
     "name": "stdout",
     "output_type": "stream",
     "text": [
      "ep 2736 : reward 500.0\r",
      "ep 2737 : reward 500.0\r"
     ]
    },
    {
     "name": "stdout",
     "output_type": "stream",
     "text": [
      "ep 2738 : reward 500.0\r",
      "ep 2739 : reward 500.0\r"
     ]
    },
    {
     "name": "stdout",
     "output_type": "stream",
     "text": [
      "ep 2740 : reward 387.0\r",
      "ep 2741 : reward 390.0\r"
     ]
    },
    {
     "name": "stdout",
     "output_type": "stream",
     "text": [
      "ep 2742 : reward 422.0\r",
      "ep 2743 : reward 267.0\r",
      "ep 2744 : reward 261.0\r"
     ]
    },
    {
     "name": "stdout",
     "output_type": "stream",
     "text": [
      "ep 2745 : reward 379.0\r",
      "ep 2746 : reward 362.0\r",
      "ep 2747 : reward 384.0\r"
     ]
    },
    {
     "name": "stdout",
     "output_type": "stream",
     "text": [
      "ep 2748 : reward 262.0\r",
      "ep 2749 : reward 168.0\r",
      "ep 2750 : reward 25.0\r",
      "ep 2751 : reward 248.0\r"
     ]
    },
    {
     "name": "stdout",
     "output_type": "stream",
     "text": [
      "ep 2752 : reward 183.0\r",
      "ep 2753 : reward 249.0\r",
      "ep 2754 : reward 178.0\r"
     ]
    },
    {
     "name": "stdout",
     "output_type": "stream",
     "text": [
      "ep 2755 : reward 248.0\r",
      "ep 2756 : reward 258.0\r",
      "ep 2757 : reward 280.0\r"
     ]
    },
    {
     "name": "stdout",
     "output_type": "stream",
     "text": [
      "ep 2758 : reward 189.0\r",
      "ep 2759 : reward 108.0\r",
      "ep 2760 : reward 383.0\r"
     ]
    },
    {
     "name": "stdout",
     "output_type": "stream",
     "text": [
      "ep 2761 : reward 264.0\r",
      "ep 2762 : reward 245.0\r",
      "ep 2763 : reward 243.0\r"
     ]
    },
    {
     "name": "stdout",
     "output_type": "stream",
     "text": [
      "ep 2764 : reward 187.0\r",
      "ep 2765 : reward 103.0\r",
      "ep 2766 : reward 236.0\r",
      "ep 2767 : reward 241.0\r"
     ]
    },
    {
     "name": "stdout",
     "output_type": "stream",
     "text": [
      "ep 2768 : reward 248.0\r",
      "ep 2769 : reward 248.0\r",
      "ep 2770 : reward 245.0\r"
     ]
    },
    {
     "name": "stdout",
     "output_type": "stream",
     "text": [
      "ep 2771 : reward 239.0\r",
      "ep 2772 : reward 251.0\r",
      "ep 2773 : reward 104.0\r",
      "ep 2774 : reward 187.0\r"
     ]
    },
    {
     "name": "stdout",
     "output_type": "stream",
     "text": [
      "ep 2775 : reward 250.0\r",
      "ep 2776 : reward 178.0\r",
      "ep 2777 : reward 240.0\r",
      "ep 2778 : reward 226.0\r"
     ]
    },
    {
     "name": "stdout",
     "output_type": "stream",
     "text": [
      "ep 2779 : reward 238.0\r",
      "ep 2780 : reward 188.0\r",
      "ep 2781 : reward 109.0\r",
      "ep 2782 : reward 259.0\r"
     ]
    },
    {
     "name": "stdout",
     "output_type": "stream",
     "text": [
      "ep 2783 : reward 251.0\r",
      "ep 2784 : reward 236.0\r",
      "ep 2785 : reward 251.0\r"
     ]
    },
    {
     "name": "stdout",
     "output_type": "stream",
     "text": [
      "ep 2786 : reward 255.0\r",
      "ep 2787 : reward 189.0\r",
      "ep 2788 : reward 245.0\r",
      "ep 2789 : reward 183.0\r"
     ]
    },
    {
     "name": "stdout",
     "output_type": "stream",
     "text": [
      "ep 2790 : reward 386.0\r",
      "ep 2791 : reward 265.0\r",
      "ep 2792 : reward 175.0\r"
     ]
    },
    {
     "name": "stdout",
     "output_type": "stream",
     "text": [
      "ep 2793 : reward 244.0\r",
      "ep 2794 : reward 246.0\r",
      "ep 2795 : reward 241.0\r"
     ]
    },
    {
     "name": "stdout",
     "output_type": "stream",
     "text": [
      "ep 2796 : reward 500.0\r",
      "ep 2797 : reward 311.0\r"
     ]
    },
    {
     "name": "stdout",
     "output_type": "stream",
     "text": [
      "ep 2798 : reward 500.0\r",
      "ep 2799 : reward 246.0\r",
      "ep 2800 : reward 406.0\r"
     ]
    },
    {
     "name": "stdout",
     "output_type": "stream",
     "text": [
      "ep 2801 : reward 500.0\r",
      "ep 2802 : reward 500.0\r"
     ]
    },
    {
     "name": "stdout",
     "output_type": "stream",
     "text": [
      "ep 2803 : reward 500.0\r",
      "ep 2804 : reward 500.0\r"
     ]
    },
    {
     "name": "stdout",
     "output_type": "stream",
     "text": [
      "ep 2805 : reward 500.0\r",
      "ep 2806 : reward 500.0\r"
     ]
    },
    {
     "name": "stdout",
     "output_type": "stream",
     "text": [
      "ep 2807 : reward 410.0\r",
      "ep 2808 : reward 261.0\r",
      "ep 2809 : reward 500.0\r"
     ]
    },
    {
     "name": "stdout",
     "output_type": "stream",
     "text": [
      "ep 2810 : reward 360.0\r",
      "ep 2811 : reward 500.0\r"
     ]
    },
    {
     "name": "stdout",
     "output_type": "stream",
     "text": [
      "ep 2812 : reward 401.0\r",
      "ep 2813 : reward 382.0\r",
      "ep 2814 : reward 383.0\r"
     ]
    },
    {
     "name": "stdout",
     "output_type": "stream",
     "text": [
      "ep 2815 : reward 265.0\r",
      "ep 2816 : reward 384.0\r",
      "ep 2817 : reward 329.0\r"
     ]
    },
    {
     "name": "stdout",
     "output_type": "stream",
     "text": [
      "ep 2818 : reward 249.0\r",
      "ep 2819 : reward 404.0\r",
      "ep 2820 : reward 389.0\r"
     ]
    },
    {
     "name": "stdout",
     "output_type": "stream",
     "text": [
      "ep 2821 : reward 370.0\r",
      "ep 2822 : reward 256.0\r",
      "ep 2823 : reward 391.0\r"
     ]
    },
    {
     "name": "stdout",
     "output_type": "stream",
     "text": [
      "ep 2824 : reward 267.0\r",
      "ep 2825 : reward 230.0\r",
      "ep 2826 : reward 246.0\r",
      "ep 2827 : reward 254.0\r"
     ]
    },
    {
     "name": "stdout",
     "output_type": "stream",
     "text": [
      "ep 2828 : reward 251.0\r",
      "ep 2829 : reward 189.0\r",
      "ep 2830 : reward 245.0\r",
      "ep 2831 : reward 247.0\r"
     ]
    },
    {
     "name": "stdout",
     "output_type": "stream",
     "text": [
      "ep 2832 : reward 262.0\r",
      "ep 2833 : reward 253.0\r",
      "ep 2834 : reward 97.0\r",
      "ep 2835 : reward 20.0\r",
      "ep 2836 : reward 24.0\r",
      "ep 2837 : reward 32.0\r"
     ]
    },
    {
     "name": "stdout",
     "output_type": "stream",
     "text": [
      "ep 2838 : reward 86.0\r",
      "ep 2839 : reward 104.0\r",
      "ep 2840 : reward 96.0\r",
      "ep 2841 : reward 85.0\r",
      "ep 2842 : reward 103.0\r"
     ]
    },
    {
     "name": "stdout",
     "output_type": "stream",
     "text": [
      "ep 2843 : reward 255.0\r",
      "ep 2844 : reward 332.0\r",
      "ep 2845 : reward 325.0\r"
     ]
    },
    {
     "name": "stdout",
     "output_type": "stream",
     "text": [
      "ep 2846 : reward 264.0\r",
      "ep 2847 : reward 272.0\r",
      "ep 2848 : reward 233.0\r"
     ]
    },
    {
     "name": "stdout",
     "output_type": "stream",
     "text": [
      "ep 2849 : reward 263.0\r",
      "ep 2850 : reward 259.0\r",
      "ep 2851 : reward 258.0\r"
     ]
    },
    {
     "name": "stdout",
     "output_type": "stream",
     "text": [
      "ep 2852 : reward 247.0\r",
      "ep 2853 : reward 245.0\r",
      "ep 2854 : reward 248.0\r"
     ]
    },
    {
     "name": "stdout",
     "output_type": "stream",
     "text": [
      "ep 2855 : reward 262.0\r",
      "ep 2856 : reward 258.0\r",
      "ep 2857 : reward 258.0\r"
     ]
    },
    {
     "name": "stdout",
     "output_type": "stream",
     "text": [
      "ep 2858 : reward 238.0\r",
      "ep 2859 : reward 380.0\r",
      "ep 2860 : reward 269.0\r"
     ]
    },
    {
     "name": "stdout",
     "output_type": "stream",
     "text": [
      "ep 2861 : reward 334.0\r",
      "ep 2862 : reward 233.0\r",
      "ep 2863 : reward 255.0\r"
     ]
    },
    {
     "name": "stdout",
     "output_type": "stream",
     "text": [
      "ep 2864 : reward 239.0\r",
      "ep 2865 : reward 104.0\r",
      "ep 2866 : reward 117.0\r",
      "ep 2867 : reward 31.0\r",
      "ep 2868 : reward 25.0\r",
      "ep 2869 : reward 25.0\r"
     ]
    },
    {
     "name": "stdout",
     "output_type": "stream",
     "text": [
      "ep 2870 : reward 90.0\r",
      "ep 2871 : reward 87.0\r",
      "ep 2872 : reward 104.0\r",
      "ep 2873 : reward 99.0\r",
      "ep 2874 : reward 261.0\r"
     ]
    },
    {
     "name": "stdout",
     "output_type": "stream",
     "text": [
      "ep 2875 : reward 259.0\r",
      "ep 2876 : reward 312.0\r",
      "ep 2877 : reward 240.0\r"
     ]
    },
    {
     "name": "stdout",
     "output_type": "stream",
     "text": [
      "ep 2878 : reward 260.0\r",
      "ep 2879 : reward 239.0\r",
      "ep 2880 : reward 351.0\r"
     ]
    },
    {
     "name": "stdout",
     "output_type": "stream",
     "text": [
      "ep 2881 : reward 257.0\r",
      "ep 2882 : reward 199.0\r",
      "ep 2883 : reward 189.0\r",
      "ep 2884 : reward 99.0\r"
     ]
    },
    {
     "name": "stdout",
     "output_type": "stream",
     "text": [
      "ep 2885 : reward 100.0\r",
      "ep 2886 : reward 111.0\r",
      "ep 2887 : reward 109.0\r",
      "ep 2888 : reward 112.0\r",
      "ep 2889 : reward 238.0\r"
     ]
    },
    {
     "name": "stdout",
     "output_type": "stream",
     "text": [
      "ep 2890 : reward 100.0\r",
      "ep 2891 : reward 100.0\r",
      "ep 2892 : reward 187.0\r",
      "ep 2893 : reward 251.0\r"
     ]
    },
    {
     "name": "stdout",
     "output_type": "stream",
     "text": [
      "ep 2894 : reward 245.0\r",
      "ep 2895 : reward 178.0\r",
      "ep 2896 : reward 107.0\r",
      "ep 2897 : reward 185.0\r"
     ]
    },
    {
     "name": "stdout",
     "output_type": "stream",
     "text": [
      "ep 2898 : reward 253.0\r",
      "ep 2899 : reward 249.0\r",
      "ep 2900 : reward 92.0\r",
      "ep 2901 : reward 92.0\r",
      "ep 2902 : reward 109.0\r"
     ]
    },
    {
     "name": "stdout",
     "output_type": "stream",
     "text": [
      "ep 2903 : reward 113.0\r",
      "ep 2904 : reward 112.0\r",
      "ep 2905 : reward 493.0\r"
     ]
    },
    {
     "name": "stdout",
     "output_type": "stream",
     "text": [
      "ep 2906 : reward 500.0\r",
      "ep 2907 : reward 200.0\r",
      "ep 2908 : reward 400.0\r"
     ]
    },
    {
     "name": "stdout",
     "output_type": "stream",
     "text": [
      "ep 2909 : reward 240.0\r",
      "ep 2910 : reward 395.0\r",
      "ep 2911 : reward 238.0\r"
     ]
    },
    {
     "name": "stdout",
     "output_type": "stream",
     "text": [
      "ep 2912 : reward 112.0\r",
      "ep 2913 : reward 108.0\r",
      "ep 2914 : reward 107.0\r",
      "ep 2915 : reward 241.0\r",
      "ep 2916 : reward 111.0\r"
     ]
    },
    {
     "name": "stdout",
     "output_type": "stream",
     "text": [
      "ep 2917 : reward 120.0\r",
      "ep 2918 : reward 251.0\r",
      "ep 2919 : reward 125.0\r",
      "ep 2920 : reward 248.0\r"
     ]
    },
    {
     "name": "stdout",
     "output_type": "stream",
     "text": [
      "ep 2921 : reward 242.0\r",
      "ep 2922 : reward 280.0\r",
      "ep 2923 : reward 335.0\r"
     ]
    },
    {
     "name": "stdout",
     "output_type": "stream",
     "text": [
      "ep 2924 : reward 250.0\r",
      "ep 2925 : reward 239.0\r",
      "ep 2926 : reward 243.0\r"
     ]
    },
    {
     "name": "stdout",
     "output_type": "stream",
     "text": [
      "ep 2927 : reward 333.0\r",
      "ep 2928 : reward 247.0\r",
      "ep 2929 : reward 240.0\r"
     ]
    },
    {
     "name": "stdout",
     "output_type": "stream",
     "text": [
      "ep 2930 : reward 253.0\r",
      "ep 2931 : reward 251.0\r",
      "ep 2932 : reward 236.0\r"
     ]
    },
    {
     "name": "stdout",
     "output_type": "stream",
     "text": [
      "ep 2933 : reward 243.0\r",
      "ep 2934 : reward 251.0\r",
      "ep 2935 : reward 327.0\r"
     ]
    },
    {
     "name": "stdout",
     "output_type": "stream",
     "text": [
      "ep 2936 : reward 245.0\r",
      "ep 2937 : reward 312.0\r",
      "ep 2938 : reward 262.0\r"
     ]
    },
    {
     "name": "stdout",
     "output_type": "stream",
     "text": [
      "ep 2939 : reward 255.0\r",
      "ep 2940 : reward 246.0\r",
      "ep 2941 : reward 269.0\r"
     ]
    },
    {
     "name": "stdout",
     "output_type": "stream",
     "text": [
      "ep 2942 : reward 232.0\r",
      "ep 2943 : reward 258.0\r",
      "ep 2944 : reward 250.0\r"
     ]
    },
    {
     "name": "stdout",
     "output_type": "stream",
     "text": [
      "ep 2945 : reward 265.0\r",
      "ep 2946 : reward 105.0\r",
      "ep 2947 : reward 98.0\r",
      "ep 2948 : reward 99.0\r",
      "ep 2949 : reward 247.0\r"
     ]
    },
    {
     "name": "stdout",
     "output_type": "stream",
     "text": [
      "ep 2950 : reward 480.0\r",
      "ep 2951 : reward 500.0\r"
     ]
    },
    {
     "name": "stdout",
     "output_type": "stream",
     "text": [
      "ep 2952 : reward 305.0\r",
      "ep 2953 : reward 482.0\r"
     ]
    },
    {
     "name": "stdout",
     "output_type": "stream",
     "text": [
      "ep 2954 : reward 500.0\r",
      "ep 2955 : reward 500.0\r"
     ]
    },
    {
     "name": "stdout",
     "output_type": "stream",
     "text": [
      "ep 2956 : reward 335.0\r",
      "ep 2957 : reward 353.0\r",
      "ep 2958 : reward 410.0\r"
     ]
    },
    {
     "name": "stdout",
     "output_type": "stream",
     "text": [
      "ep 2959 : reward 272.0\r",
      "ep 2960 : reward 266.0\r",
      "ep 2961 : reward 332.0\r"
     ]
    },
    {
     "name": "stdout",
     "output_type": "stream",
     "text": [
      "ep 2962 : reward 318.0\r",
      "ep 2963 : reward 383.0\r"
     ]
    },
    {
     "name": "stdout",
     "output_type": "stream",
     "text": [
      "ep 2964 : reward 500.0\r",
      "ep 2965 : reward 500.0\r",
      "ep 2966 : reward 238.0\r"
     ]
    },
    {
     "name": "stdout",
     "output_type": "stream",
     "text": [
      "ep 2967 : reward 185.0\r",
      "ep 2968 : reward 254.0\r",
      "ep 2969 : reward 240.0\r",
      "ep 2970 : reward 201.0\r"
     ]
    },
    {
     "name": "stdout",
     "output_type": "stream",
     "text": [
      "ep 2971 : reward 242.0\r",
      "ep 2972 : reward 192.0\r",
      "ep 2973 : reward 267.0\r",
      "ep 2974 : reward 198.0\r"
     ]
    },
    {
     "name": "stdout",
     "output_type": "stream",
     "text": [
      "ep 2975 : reward 170.0\r",
      "ep 2976 : reward 191.0\r",
      "ep 2977 : reward 244.0\r",
      "ep 2978 : reward 250.0\r"
     ]
    },
    {
     "name": "stdout",
     "output_type": "stream",
     "text": [
      "ep 2979 : reward 262.0\r",
      "ep 2980 : reward 185.0\r",
      "ep 2981 : reward 182.0\r",
      "ep 2982 : reward 263.0\r"
     ]
    },
    {
     "name": "stdout",
     "output_type": "stream",
     "text": [
      "ep 2983 : reward 206.0\r",
      "ep 2984 : reward 269.0\r",
      "ep 2985 : reward 107.0\r",
      "ep 2986 : reward 239.0\r"
     ]
    },
    {
     "name": "stdout",
     "output_type": "stream",
     "text": [
      "ep 2987 : reward 179.0\r",
      "ep 2988 : reward 104.0\r",
      "ep 2989 : reward 241.0\r",
      "ep 2990 : reward 103.0\r"
     ]
    },
    {
     "name": "stdout",
     "output_type": "stream",
     "text": [
      "ep 2991 : reward 241.0\r",
      "ep 2992 : reward 416.0\r"
     ]
    },
    {
     "name": "stdout",
     "output_type": "stream",
     "text": [
      "ep 2993 : reward 397.0\r",
      "ep 2994 : reward 421.0\r"
     ]
    },
    {
     "name": "stdout",
     "output_type": "stream",
     "text": [
      "ep 2995 : reward 399.0\r",
      "ep 2996 : reward 500.0\r"
     ]
    },
    {
     "name": "stdout",
     "output_type": "stream",
     "text": [
      "ep 2997 : reward 500.0\r",
      "ep 2998 : reward 500.0\r"
     ]
    },
    {
     "name": "stdout",
     "output_type": "stream",
     "text": [
      "ep 2999 : reward 500.0\r"
     ]
    },
    {
     "name": "stdout",
     "output_type": "stream",
     "text": [
      "ep 3000 : reward 500.0\r",
      "ep 3001 : reward 500.0\r"
     ]
    },
    {
     "name": "stdout",
     "output_type": "stream",
     "text": [
      "ep 3002 : reward 254.0\r",
      "ep 3003 : reward 464.0\r"
     ]
    },
    {
     "name": "stdout",
     "output_type": "stream",
     "text": [
      "ep 3004 : reward 500.0\r",
      "ep 3005 : reward 267.0\r",
      "ep 3006 : reward 101.0\r",
      "ep 3007 : reward 102.0\r"
     ]
    },
    {
     "name": "stdout",
     "output_type": "stream",
     "text": [
      "ep 3008 : reward 178.0\r",
      "ep 3009 : reward 114.0\r",
      "ep 3010 : reward 104.0\r",
      "ep 3011 : reward 194.0\r"
     ]
    },
    {
     "name": "stdout",
     "output_type": "stream",
     "text": [
      "ep 3012 : reward 235.0\r",
      "ep 3013 : reward 271.0\r",
      "ep 3014 : reward 500.0\r"
     ]
    },
    {
     "name": "stdout",
     "output_type": "stream",
     "text": [
      "ep 3015 : reward 283.0\r",
      "ep 3016 : reward 500.0\r"
     ]
    },
    {
     "name": "stdout",
     "output_type": "stream",
     "text": [
      "ep 3017 : reward 426.0\r",
      "ep 3018 : reward 326.0\r",
      "ep 3019 : reward 373.0\r"
     ]
    },
    {
     "name": "stdout",
     "output_type": "stream",
     "text": [
      "ep 3020 : reward 284.0\r",
      "ep 3021 : reward 196.0\r",
      "ep 3022 : reward 376.0\r"
     ]
    },
    {
     "name": "stdout",
     "output_type": "stream",
     "text": [
      "ep 3023 : reward 271.0\r",
      "ep 3024 : reward 231.0\r",
      "ep 3025 : reward 241.0\r"
     ]
    },
    {
     "name": "stdout",
     "output_type": "stream",
     "text": [
      "ep 3026 : reward 263.0\r",
      "ep 3027 : reward 255.0\r",
      "ep 3028 : reward 195.0\r"
     ]
    },
    {
     "name": "stdout",
     "output_type": "stream",
     "text": [
      "ep 3029 : reward 326.0\r",
      "ep 3030 : reward 383.0\r",
      "ep 3031 : reward 126.0\r"
     ]
    },
    {
     "name": "stdout",
     "output_type": "stream",
     "text": [
      "ep 3032 : reward 256.0\r",
      "ep 3033 : reward 182.0\r",
      "ep 3034 : reward 29.0\r",
      "ep 3035 : reward 33.0\r",
      "ep 3036 : reward 25.0\r",
      "ep 3037 : reward 100.0\r"
     ]
    },
    {
     "name": "stdout",
     "output_type": "stream",
     "text": [
      "ep 3038 : reward 194.0\r",
      "ep 3039 : reward 239.0\r",
      "ep 3040 : reward 94.0\r",
      "ep 3041 : reward 100.0\r",
      "ep 3042 : reward 93.0\r"
     ]
    },
    {
     "name": "stdout",
     "output_type": "stream",
     "text": [
      "ep 3043 : reward 101.0\r",
      "ep 3044 : reward 235.0\r",
      "ep 3045 : reward 101.0\r",
      "ep 3046 : reward 237.0\r"
     ]
    },
    {
     "name": "stdout",
     "output_type": "stream",
     "text": [
      "ep 3047 : reward 252.0\r",
      "ep 3048 : reward 409.0\r"
     ]
    },
    {
     "name": "stdout",
     "output_type": "stream",
     "text": [
      "ep 3049 : reward 395.0\r",
      "ep 3050 : reward 398.0\r"
     ]
    },
    {
     "name": "stdout",
     "output_type": "stream",
     "text": [
      "ep 3051 : reward 395.0\r",
      "ep 3052 : reward 275.0\r",
      "ep 3053 : reward 263.0\r"
     ]
    },
    {
     "name": "stdout",
     "output_type": "stream",
     "text": [
      "ep 3054 : reward 284.0\r",
      "ep 3055 : reward 390.0\r",
      "ep 3056 : reward 200.0\r"
     ]
    },
    {
     "name": "stdout",
     "output_type": "stream",
     "text": [
      "ep 3057 : reward 373.0\r",
      "ep 3058 : reward 91.0\r",
      "ep 3059 : reward 89.0\r",
      "ep 3060 : reward 110.0\r",
      "ep 3061 : reward 115.0\r"
     ]
    },
    {
     "name": "stdout",
     "output_type": "stream",
     "text": [
      "ep 3062 : reward 108.0\r",
      "ep 3063 : reward 115.0\r",
      "ep 3064 : reward 110.0\r",
      "ep 3065 : reward 230.0\r"
     ]
    },
    {
     "name": "stdout",
     "output_type": "stream",
     "text": [
      "ep 3066 : reward 240.0\r",
      "ep 3067 : reward 192.0\r",
      "ep 3068 : reward 99.0\r",
      "ep 3069 : reward 391.0\r"
     ]
    },
    {
     "name": "stdout",
     "output_type": "stream",
     "text": [
      "ep 3070 : reward 257.0\r",
      "ep 3071 : reward 93.0\r",
      "ep 3072 : reward 127.0\r",
      "ep 3073 : reward 261.0\r"
     ]
    },
    {
     "name": "stdout",
     "output_type": "stream",
     "text": [
      "ep 3074 : reward 268.0\r",
      "ep 3075 : reward 500.0\r"
     ]
    },
    {
     "name": "stdout",
     "output_type": "stream",
     "text": [
      "ep 3076 : reward 500.0\r",
      "ep 3077 : reward 500.0\r"
     ]
    },
    {
     "name": "stdout",
     "output_type": "stream",
     "text": [
      "ep 3078 : reward 500.0\r",
      "ep 3079 : reward 500.0\r"
     ]
    },
    {
     "name": "stdout",
     "output_type": "stream",
     "text": [
      "ep 3080 : reward 500.0\r",
      "ep 3081 : reward 500.0\r"
     ]
    },
    {
     "name": "stdout",
     "output_type": "stream",
     "text": [
      "ep 3082 : reward 402.0\r",
      "ep 3083 : reward 351.0\r",
      "ep 3084 : reward 291.0\r"
     ]
    },
    {
     "name": "stdout",
     "output_type": "stream",
     "text": [
      "ep 3085 : reward 259.0\r",
      "ep 3086 : reward 199.0\r",
      "ep 3087 : reward 500.0\r"
     ]
    },
    {
     "name": "stdout",
     "output_type": "stream",
     "text": [
      "ep 3088 : reward 500.0\r",
      "ep 3089 : reward 500.0\r"
     ]
    },
    {
     "name": "stdout",
     "output_type": "stream",
     "text": [
      "ep 3090 : reward 500.0\r",
      "ep 3091 : reward 479.0\r"
     ]
    },
    {
     "name": "stdout",
     "output_type": "stream",
     "text": [
      "ep 3092 : reward 415.0\r",
      "ep 3093 : reward 334.0\r",
      "ep 3094 : reward 414.0\r"
     ]
    },
    {
     "name": "stdout",
     "output_type": "stream",
     "text": [
      "ep 3095 : reward 412.0\r",
      "ep 3096 : reward 405.0\r",
      "ep 3097 : reward 400.0\r"
     ]
    },
    {
     "name": "stdout",
     "output_type": "stream",
     "text": [
      "ep 3098 : reward 378.0\r",
      "ep 3099 : reward 411.0\r",
      "ep 3100 : reward 245.0\r"
     ]
    },
    {
     "name": "stdout",
     "output_type": "stream",
     "text": [
      "ep 3101 : reward 258.0\r",
      "ep 3102 : reward 369.0\r",
      "ep 3103 : reward 347.0\r"
     ]
    },
    {
     "name": "stdout",
     "output_type": "stream",
     "text": [
      "ep 3104 : reward 258.0\r",
      "ep 3105 : reward 388.0\r",
      "ep 3106 : reward 237.0\r"
     ]
    },
    {
     "name": "stdout",
     "output_type": "stream",
     "text": [
      "ep 3107 : reward 255.0\r",
      "ep 3108 : reward 248.0\r",
      "ep 3109 : reward 97.0\r",
      "ep 3110 : reward 99.0\r"
     ]
    },
    {
     "name": "stdout",
     "output_type": "stream",
     "text": [
      "ep 3111 : reward 234.0\r",
      "ep 3112 : reward 409.0\r",
      "ep 3113 : reward 267.0\r"
     ]
    },
    {
     "name": "stdout",
     "output_type": "stream",
     "text": [
      "ep 3114 : reward 374.0\r",
      "ep 3115 : reward 329.0\r"
     ]
    },
    {
     "name": "stdout",
     "output_type": "stream",
     "text": [
      "ep 3116 : reward 500.0\r",
      "ep 3117 : reward 500.0\r"
     ]
    },
    {
     "name": "stdout",
     "output_type": "stream",
     "text": [
      "ep 3118 : reward 500.0\r",
      "ep 3119 : reward 463.0\r"
     ]
    },
    {
     "name": "stdout",
     "output_type": "stream",
     "text": [
      "ep 3120 : reward 341.0\r",
      "ep 3121 : reward 249.0\r",
      "ep 3122 : reward 258.0\r"
     ]
    },
    {
     "name": "stdout",
     "output_type": "stream",
     "text": [
      "ep 3123 : reward 251.0\r",
      "ep 3124 : reward 250.0\r",
      "ep 3125 : reward 257.0\r"
     ]
    },
    {
     "name": "stdout",
     "output_type": "stream",
     "text": [
      "ep 3126 : reward 277.0\r",
      "ep 3127 : reward 118.0\r",
      "ep 3128 : reward 86.0\r",
      "ep 3129 : reward 93.0\r",
      "ep 3130 : reward 104.0\r"
     ]
    },
    {
     "name": "stdout",
     "output_type": "stream",
     "text": [
      "ep 3131 : reward 115.0\r",
      "ep 3132 : reward 115.0\r",
      "ep 3133 : reward 109.0\r",
      "ep 3134 : reward 105.0\r",
      "ep 3135 : reward 103.0\r"
     ]
    },
    {
     "name": "stdout",
     "output_type": "stream",
     "text": [
      "ep 3136 : reward 336.0\r",
      "ep 3137 : reward 500.0\r"
     ]
    },
    {
     "name": "stdout",
     "output_type": "stream",
     "text": [
      "ep 3138 : reward 500.0\r",
      "ep 3139 : reward 471.0\r"
     ]
    },
    {
     "name": "stdout",
     "output_type": "stream",
     "text": [
      "ep 3140 : reward 500.0\r",
      "ep 3141 : reward 500.0\r"
     ]
    },
    {
     "name": "stdout",
     "output_type": "stream",
     "text": [
      "ep 3142 : reward 466.0\r",
      "ep 3143 : reward 500.0\r"
     ]
    },
    {
     "name": "stdout",
     "output_type": "stream",
     "text": [
      "ep 3144 : reward 500.0\r",
      "ep 3145 : reward 500.0\r"
     ]
    },
    {
     "name": "stdout",
     "output_type": "stream",
     "text": [
      "ep 3146 : reward 500.0\r",
      "ep 3147 : reward 500.0\r"
     ]
    },
    {
     "name": "stdout",
     "output_type": "stream",
     "text": [
      "ep 3148 : reward 500.0\r",
      "ep 3149 : reward 440.0\r"
     ]
    },
    {
     "name": "stdout",
     "output_type": "stream",
     "text": [
      "ep 3150 : reward 500.0\r",
      "ep 3151 : reward 391.0\r",
      "ep 3152 : reward 285.0\r"
     ]
    },
    {
     "name": "stdout",
     "output_type": "stream",
     "text": [
      "ep 3153 : reward 246.0\r",
      "ep 3154 : reward 498.0\r"
     ]
    },
    {
     "name": "stdout",
     "output_type": "stream",
     "text": [
      "ep 3155 : reward 397.0\r",
      "ep 3156 : reward 396.0\r"
     ]
    },
    {
     "name": "stdout",
     "output_type": "stream",
     "text": [
      "ep 3157 : reward 373.0\r",
      "ep 3158 : reward 398.0\r"
     ]
    },
    {
     "name": "stdout",
     "output_type": "stream",
     "text": [
      "ep 3159 : reward 393.0\r",
      "ep 3160 : reward 242.0\r",
      "ep 3161 : reward 377.0\r"
     ]
    },
    {
     "name": "stdout",
     "output_type": "stream",
     "text": [
      "ep 3162 : reward 247.0\r",
      "ep 3163 : reward 249.0\r",
      "ep 3164 : reward 257.0\r"
     ]
    },
    {
     "name": "stdout",
     "output_type": "stream",
     "text": [
      "ep 3165 : reward 243.0\r",
      "ep 3166 : reward 242.0\r",
      "ep 3167 : reward 235.0\r",
      "ep 3168 : reward 186.0\r"
     ]
    },
    {
     "name": "stdout",
     "output_type": "stream",
     "text": [
      "ep 3169 : reward 248.0\r",
      "ep 3170 : reward 331.0\r",
      "ep 3171 : reward 204.0\r"
     ]
    },
    {
     "name": "stdout",
     "output_type": "stream",
     "text": [
      "ep 3172 : reward 254.0\r",
      "ep 3173 : reward 392.0\r"
     ]
    },
    {
     "name": "stdout",
     "output_type": "stream",
     "text": [
      "ep 3174 : reward 369.0\r",
      "ep 3175 : reward 263.0\r",
      "ep 3176 : reward 346.0\r"
     ]
    },
    {
     "name": "stdout",
     "output_type": "stream",
     "text": [
      "ep 3177 : reward 408.0\r",
      "ep 3178 : reward 176.0\r",
      "ep 3179 : reward 249.0\r"
     ]
    },
    {
     "name": "stdout",
     "output_type": "stream",
     "text": [
      "ep 3180 : reward 343.0\r",
      "ep 3181 : reward 259.0\r",
      "ep 3182 : reward 240.0\r"
     ]
    },
    {
     "name": "stdout",
     "output_type": "stream",
     "text": [
      "ep 3183 : reward 253.0\r",
      "ep 3184 : reward 243.0\r",
      "ep 3185 : reward 258.0\r"
     ]
    },
    {
     "name": "stdout",
     "output_type": "stream",
     "text": [
      "ep 3186 : reward 328.0\r",
      "ep 3187 : reward 500.0\r"
     ]
    },
    {
     "name": "stdout",
     "output_type": "stream",
     "text": [
      "ep 3188 : reward 500.0\r",
      "ep 3189 : reward 492.0\r",
      "ep 3190 : reward 251.0\r"
     ]
    },
    {
     "name": "stdout",
     "output_type": "stream",
     "text": [
      "ep 3191 : reward 500.0\r",
      "ep 3192 : reward 399.0\r"
     ]
    },
    {
     "name": "stdout",
     "output_type": "stream",
     "text": [
      "ep 3193 : reward 407.0\r",
      "ep 3194 : reward 401.0\r",
      "ep 3195 : reward 329.0\r"
     ]
    },
    {
     "name": "stdout",
     "output_type": "stream",
     "text": [
      "ep 3196 : reward 355.0\r",
      "ep 3197 : reward 165.0\r",
      "ep 3198 : reward 258.0\r"
     ]
    },
    {
     "name": "stdout",
     "output_type": "stream",
     "text": [
      "ep 3199 : reward 321.0\r",
      "ep 3200 : reward 377.0\r",
      "ep 3201 : reward 190.0\r"
     ]
    },
    {
     "name": "stdout",
     "output_type": "stream",
     "text": [
      "ep 3202 : reward 323.0\r",
      "ep 3203 : reward 269.0\r",
      "ep 3204 : reward 260.0\r"
     ]
    },
    {
     "name": "stdout",
     "output_type": "stream",
     "text": [
      "ep 3205 : reward 377.0\r",
      "ep 3206 : reward 331.0\r",
      "ep 3207 : reward 251.0\r"
     ]
    },
    {
     "name": "stdout",
     "output_type": "stream",
     "text": [
      "ep 3208 : reward 242.0\r",
      "ep 3209 : reward 208.0\r",
      "ep 3210 : reward 315.0\r",
      "ep 3211 : reward 174.0\r"
     ]
    },
    {
     "name": "stdout",
     "output_type": "stream",
     "text": [
      "ep 3212 : reward 483.0\r",
      "ep 3213 : reward 500.0\r"
     ]
    },
    {
     "name": "stdout",
     "output_type": "stream",
     "text": [
      "ep 3214 : reward 312.0\r",
      "ep 3215 : reward 500.0\r"
     ]
    },
    {
     "name": "stdout",
     "output_type": "stream",
     "text": [
      "ep 3216 : reward 321.0\r",
      "ep 3217 : reward 244.0\r",
      "ep 3218 : reward 276.0\r"
     ]
    },
    {
     "name": "stdout",
     "output_type": "stream",
     "text": [
      "ep 3219 : reward 324.0\r",
      "ep 3220 : reward 382.0\r",
      "ep 3221 : reward 372.0\r"
     ]
    },
    {
     "name": "stdout",
     "output_type": "stream",
     "text": [
      "ep 3222 : reward 241.0\r",
      "ep 3223 : reward 273.0\r",
      "ep 3224 : reward 500.0\r"
     ]
    },
    {
     "name": "stdout",
     "output_type": "stream",
     "text": [
      "ep 3225 : reward 500.0\r",
      "ep 3226 : reward 391.0\r",
      "ep 3227 : reward 254.0\r"
     ]
    },
    {
     "name": "stdout",
     "output_type": "stream",
     "text": [
      "ep 3228 : reward 244.0\r",
      "ep 3229 : reward 236.0\r",
      "ep 3230 : reward 191.0\r",
      "ep 3231 : reward 246.0\r"
     ]
    },
    {
     "name": "stdout",
     "output_type": "stream",
     "text": [
      "ep 3232 : reward 250.0\r",
      "ep 3233 : reward 247.0\r",
      "ep 3234 : reward 231.0\r",
      "ep 3235 : reward 241.0\r"
     ]
    },
    {
     "name": "stdout",
     "output_type": "stream",
     "text": [
      "ep 3236 : reward 237.0\r",
      "ep 3237 : reward 180.0\r",
      "ep 3238 : reward 322.0\r",
      "ep 3239 : reward 174.0\r"
     ]
    },
    {
     "name": "stdout",
     "output_type": "stream",
     "text": [
      "ep 3240 : reward 237.0\r",
      "ep 3241 : reward 263.0\r",
      "ep 3242 : reward 246.0\r"
     ]
    },
    {
     "name": "stdout",
     "output_type": "stream",
     "text": [
      "ep 3243 : reward 240.0\r",
      "ep 3244 : reward 197.0\r",
      "ep 3245 : reward 267.0\r"
     ]
    },
    {
     "name": "stdout",
     "output_type": "stream",
     "text": [
      "ep 3246 : reward 241.0\r",
      "ep 3247 : reward 247.0\r",
      "ep 3248 : reward 250.0\r"
     ]
    },
    {
     "name": "stdout",
     "output_type": "stream",
     "text": [
      "ep 3249 : reward 243.0\r",
      "ep 3250 : reward 120.0\r",
      "ep 3251 : reward 247.0\r",
      "ep 3252 : reward 255.0\r"
     ]
    },
    {
     "name": "stdout",
     "output_type": "stream",
     "text": [
      "ep 3253 : reward 258.0\r",
      "ep 3254 : reward 391.0\r",
      "ep 3255 : reward 362.0\r"
     ]
    },
    {
     "name": "stdout",
     "output_type": "stream",
     "text": [
      "ep 3256 : reward 500.0\r",
      "ep 3257 : reward 500.0\r"
     ]
    },
    {
     "name": "stdout",
     "output_type": "stream",
     "text": [
      "ep 3258 : reward 497.0\r",
      "ep 3259 : reward 375.0\r",
      "ep 3260 : reward 408.0\r"
     ]
    },
    {
     "name": "stdout",
     "output_type": "stream",
     "text": [
      "ep 3261 : reward 392.0\r",
      "ep 3262 : reward 436.0\r"
     ]
    },
    {
     "name": "stdout",
     "output_type": "stream",
     "text": [
      "ep 3263 : reward 408.0\r",
      "ep 3264 : reward 265.0\r",
      "ep 3265 : reward 390.0\r"
     ]
    },
    {
     "name": "stdout",
     "output_type": "stream",
     "text": [
      "ep 3266 : reward 327.0\r",
      "ep 3267 : reward 413.0\r"
     ]
    },
    {
     "name": "stdout",
     "output_type": "stream",
     "text": [
      "ep 3268 : reward 407.0\r",
      "ep 3269 : reward 112.0\r",
      "ep 3270 : reward 180.0\r",
      "ep 3271 : reward 246.0\r"
     ]
    },
    {
     "name": "stdout",
     "output_type": "stream",
     "text": [
      "ep 3272 : reward 241.0\r",
      "ep 3273 : reward 368.0\r",
      "ep 3274 : reward 252.0\r"
     ]
    },
    {
     "name": "stdout",
     "output_type": "stream",
     "text": [
      "ep 3275 : reward 267.0\r",
      "ep 3276 : reward 199.0\r",
      "ep 3277 : reward 371.0\r"
     ]
    },
    {
     "name": "stdout",
     "output_type": "stream",
     "text": [
      "ep 3278 : reward 182.0\r",
      "ep 3279 : reward 385.0\r",
      "ep 3280 : reward 256.0\r"
     ]
    },
    {
     "name": "stdout",
     "output_type": "stream",
     "text": [
      "ep 3281 : reward 257.0\r",
      "ep 3282 : reward 124.0\r",
      "ep 3283 : reward 96.0\r",
      "ep 3284 : reward 89.0\r",
      "ep 3285 : reward 95.0\r"
     ]
    },
    {
     "name": "stdout",
     "output_type": "stream",
     "text": [
      "ep 3286 : reward 85.0\r",
      "ep 3287 : reward 99.0\r",
      "ep 3288 : reward 103.0\r",
      "ep 3289 : reward 229.0\r",
      "ep 3290 : reward 113.0\r"
     ]
    },
    {
     "name": "stdout",
     "output_type": "stream",
     "text": [
      "ep 3291 : reward 428.0\r",
      "ep 3292 : reward 500.0\r"
     ]
    },
    {
     "name": "stdout",
     "output_type": "stream",
     "text": [
      "ep 3293 : reward 500.0\r",
      "ep 3294 : reward 500.0\r"
     ]
    },
    {
     "name": "stdout",
     "output_type": "stream",
     "text": [
      "ep 3295 : reward 500.0\r",
      "ep 3296 : reward 500.0\r"
     ]
    },
    {
     "name": "stdout",
     "output_type": "stream",
     "text": [
      "ep 3297 : reward 500.0\r",
      "ep 3298 : reward 500.0\r"
     ]
    },
    {
     "name": "stdout",
     "output_type": "stream",
     "text": [
      "ep 3299 : reward 500.0\r",
      "ep 3300 : reward 468.0\r"
     ]
    },
    {
     "name": "stdout",
     "output_type": "stream",
     "text": [
      "ep 3301 : reward 386.0\r",
      "ep 3302 : reward 264.0\r",
      "ep 3303 : reward 280.0\r"
     ]
    },
    {
     "name": "stdout",
     "output_type": "stream",
     "text": [
      "ep 3304 : reward 396.0\r",
      "ep 3305 : reward 254.0\r",
      "ep 3306 : reward 398.0\r"
     ]
    },
    {
     "name": "stdout",
     "output_type": "stream",
     "text": [
      "ep 3307 : reward 340.0\r",
      "ep 3308 : reward 244.0\r",
      "ep 3309 : reward 370.0\r"
     ]
    },
    {
     "name": "stdout",
     "output_type": "stream",
     "text": [
      "ep 3310 : reward 242.0\r",
      "ep 3311 : reward 198.0\r",
      "ep 3312 : reward 271.0\r",
      "ep 3313 : reward 33.0\r"
     ]
    },
    {
     "name": "stdout",
     "output_type": "stream",
     "text": [
      "ep 3314 : reward 314.0\r",
      "ep 3315 : reward 394.0\r",
      "ep 3316 : reward 252.0\r"
     ]
    },
    {
     "name": "stdout",
     "output_type": "stream",
     "text": [
      "ep 3317 : reward 386.0\r",
      "ep 3318 : reward 366.0\r",
      "ep 3319 : reward 336.0\r"
     ]
    },
    {
     "name": "stdout",
     "output_type": "stream",
     "text": [
      "ep 3320 : reward 245.0\r",
      "ep 3321 : reward 96.0\r",
      "ep 3322 : reward 103.0\r",
      "ep 3323 : reward 90.0\r",
      "ep 3324 : reward 107.0\r"
     ]
    },
    {
     "name": "stdout",
     "output_type": "stream",
     "text": [
      "ep 3325 : reward 402.0\r",
      "ep 3326 : reward 344.0\r",
      "ep 3327 : reward 259.0\r"
     ]
    },
    {
     "name": "stdout",
     "output_type": "stream",
     "text": [
      "ep 3328 : reward 383.0\r",
      "ep 3329 : reward 420.0\r",
      "ep 3330 : reward 265.0\r"
     ]
    },
    {
     "name": "stdout",
     "output_type": "stream",
     "text": [
      "ep 3331 : reward 107.0\r",
      "ep 3332 : reward 112.0\r",
      "ep 3333 : reward 393.0\r"
     ]
    },
    {
     "name": "stdout",
     "output_type": "stream",
     "text": [
      "ep 3334 : reward 195.0\r",
      "ep 3335 : reward 327.0\r",
      "ep 3336 : reward 104.0\r",
      "ep 3337 : reward 103.0\r"
     ]
    },
    {
     "name": "stdout",
     "output_type": "stream",
     "text": [
      "ep 3338 : reward 99.0\r",
      "ep 3339 : reward 100.0\r",
      "ep 3340 : reward 112.0\r",
      "ep 3341 : reward 235.0\r"
     ]
    },
    {
     "name": "stdout",
     "output_type": "stream",
     "text": [
      "ep 3342 : reward 238.0\r",
      "ep 3343 : reward 175.0\r",
      "ep 3344 : reward 254.0\r",
      "ep 3345 : reward 110.0\r"
     ]
    },
    {
     "name": "stdout",
     "output_type": "stream",
     "text": [
      "ep 3346 : reward 102.0\r",
      "ep 3347 : reward 179.0\r",
      "ep 3348 : reward 318.0\r"
     ]
    },
    {
     "name": "stdout",
     "output_type": "stream",
     "text": [
      "ep 3349 : reward 500.0\r",
      "ep 3350 : reward 500.0\r",
      "ep 3351 : reward 252.0\r"
     ]
    },
    {
     "name": "stdout",
     "output_type": "stream",
     "text": [
      "ep 3352 : reward 95.0\r",
      "ep 3353 : reward 230.0\r",
      "ep 3354 : reward 378.0\r"
     ]
    },
    {
     "name": "stdout",
     "output_type": "stream",
     "text": [
      "ep 3355 : reward 500.0\r",
      "ep 3356 : reward 500.0\r"
     ]
    },
    {
     "name": "stdout",
     "output_type": "stream",
     "text": [
      "ep 3357 : reward 389.0\r",
      "ep 3358 : reward 387.0\r",
      "ep 3359 : reward 258.0\r"
     ]
    },
    {
     "name": "stdout",
     "output_type": "stream",
     "text": [
      "ep 3360 : reward 95.0\r",
      "ep 3361 : reward 273.0\r",
      "ep 3362 : reward 500.0\r"
     ]
    },
    {
     "name": "stdout",
     "output_type": "stream",
     "text": [
      "ep 3363 : reward 234.0\r",
      "ep 3364 : reward 399.0\r",
      "ep 3365 : reward 108.0\r",
      "ep 3366 : reward 104.0\r"
     ]
    },
    {
     "name": "stdout",
     "output_type": "stream",
     "text": [
      "ep 3367 : reward 178.0\r",
      "ep 3368 : reward 344.0\r"
     ]
    },
    {
     "name": "stdout",
     "output_type": "stream",
     "text": [
      "ep 3369 : reward 500.0\r",
      "ep 3370 : reward 500.0\r"
     ]
    },
    {
     "name": "stdout",
     "output_type": "stream",
     "text": [
      "ep 3371 : reward 500.0\r",
      "ep 3372 : reward 500.0\r"
     ]
    },
    {
     "name": "stdout",
     "output_type": "stream",
     "text": [
      "ep 3373 : reward 500.0\r",
      "ep 3374 : reward 410.0\r"
     ]
    },
    {
     "name": "stdout",
     "output_type": "stream",
     "text": [
      "ep 3375 : reward 500.0\r",
      "ep 3376 : reward 389.0\r",
      "ep 3377 : reward 335.0\r"
     ]
    },
    {
     "name": "stdout",
     "output_type": "stream",
     "text": [
      "ep 3378 : reward 277.0\r",
      "ep 3379 : reward 403.0\r"
     ]
    },
    {
     "name": "stdout",
     "output_type": "stream",
     "text": [
      "ep 3380 : reward 379.0\r",
      "ep 3381 : reward 285.0\r",
      "ep 3382 : reward 310.0\r"
     ]
    },
    {
     "name": "stdout",
     "output_type": "stream",
     "text": [
      "ep 3383 : reward 259.0\r",
      "ep 3384 : reward 250.0\r",
      "ep 3385 : reward 418.0\r"
     ]
    },
    {
     "name": "stdout",
     "output_type": "stream",
     "text": [
      "ep 3386 : reward 401.0\r",
      "ep 3387 : reward 403.0\r",
      "ep 3388 : reward 245.0\r"
     ]
    },
    {
     "name": "stdout",
     "output_type": "stream",
     "text": [
      "ep 3389 : reward 278.0\r",
      "ep 3390 : reward 398.0\r",
      "ep 3391 : reward 324.0\r"
     ]
    },
    {
     "name": "stdout",
     "output_type": "stream",
     "text": [
      "ep 3392 : reward 257.0\r",
      "ep 3393 : reward 308.0\r",
      "ep 3394 : reward 265.0\r"
     ]
    },
    {
     "name": "stdout",
     "output_type": "stream",
     "text": [
      "ep 3395 : reward 382.0\r",
      "ep 3396 : reward 307.0\r",
      "ep 3397 : reward 197.0\r"
     ]
    },
    {
     "name": "stdout",
     "output_type": "stream",
     "text": [
      "ep 3398 : reward 380.0\r",
      "ep 3399 : reward 333.0\r",
      "ep 3400 : reward 240.0\r"
     ]
    },
    {
     "name": "stdout",
     "output_type": "stream",
     "text": [
      "ep 3401 : reward 326.0\r",
      "ep 3402 : reward 382.0\r",
      "ep 3403 : reward 265.0\r"
     ]
    },
    {
     "name": "stdout",
     "output_type": "stream",
     "text": [
      "ep 3404 : reward 500.0\r",
      "ep 3405 : reward 500.0\r"
     ]
    },
    {
     "name": "stdout",
     "output_type": "stream",
     "text": [
      "ep 3406 : reward 500.0\r",
      "ep 3407 : reward 500.0\r"
     ]
    },
    {
     "name": "stdout",
     "output_type": "stream",
     "text": [
      "ep 3408 : reward 293.0\r",
      "ep 3409 : reward 500.0\r"
     ]
    },
    {
     "name": "stdout",
     "output_type": "stream",
     "text": [
      "ep 3410 : reward 383.0\r",
      "ep 3411 : reward 407.0\r",
      "ep 3412 : reward 247.0\r"
     ]
    },
    {
     "name": "stdout",
     "output_type": "stream",
     "text": [
      "ep 3413 : reward 207.0\r",
      "ep 3414 : reward 258.0\r",
      "ep 3415 : reward 251.0\r"
     ]
    },
    {
     "name": "stdout",
     "output_type": "stream",
     "text": [
      "ep 3416 : reward 260.0\r",
      "ep 3417 : reward 267.0\r",
      "ep 3418 : reward 257.0\r"
     ]
    },
    {
     "name": "stdout",
     "output_type": "stream",
     "text": [
      "ep 3419 : reward 398.0\r",
      "ep 3420 : reward 381.0\r",
      "ep 3421 : reward 254.0\r"
     ]
    },
    {
     "name": "stdout",
     "output_type": "stream",
     "text": [
      "ep 3422 : reward 261.0\r",
      "ep 3423 : reward 247.0\r",
      "ep 3424 : reward 251.0\r"
     ]
    },
    {
     "name": "stdout",
     "output_type": "stream",
     "text": [
      "ep 3425 : reward 374.0\r",
      "ep 3426 : reward 326.0\r",
      "ep 3427 : reward 268.0\r"
     ]
    },
    {
     "name": "stdout",
     "output_type": "stream",
     "text": [
      "ep 3428 : reward 265.0\r",
      "ep 3429 : reward 115.0\r",
      "ep 3430 : reward 176.0\r",
      "ep 3431 : reward 250.0\r"
     ]
    },
    {
     "name": "stdout",
     "output_type": "stream",
     "text": [
      "ep 3432 : reward 236.0\r",
      "ep 3433 : reward 257.0\r",
      "ep 3434 : reward 326.0\r"
     ]
    },
    {
     "name": "stdout",
     "output_type": "stream",
     "text": [
      "ep 3435 : reward 193.0\r",
      "ep 3436 : reward 179.0\r",
      "ep 3437 : reward 99.0\r",
      "ep 3438 : reward 89.0\r",
      "ep 3439 : reward 95.0\r"
     ]
    },
    {
     "name": "stdout",
     "output_type": "stream",
     "text": [
      "ep 3440 : reward 105.0\r",
      "ep 3441 : reward 109.0\r",
      "ep 3442 : reward 106.0\r",
      "ep 3443 : reward 94.0\r",
      "ep 3444 : reward 181.0\r"
     ]
    },
    {
     "name": "stdout",
     "output_type": "stream",
     "text": [
      "ep 3445 : reward 113.0\r",
      "ep 3446 : reward 259.0\r",
      "ep 3447 : reward 267.0\r"
     ]
    },
    {
     "name": "stdout",
     "output_type": "stream",
     "text": [
      "ep 3448 : reward 190.0\r",
      "ep 3449 : reward 246.0\r",
      "ep 3450 : reward 500.0\r"
     ]
    },
    {
     "name": "stdout",
     "output_type": "stream",
     "text": [
      "ep 3451 : reward 468.0\r",
      "ep 3452 : reward 408.0\r"
     ]
    },
    {
     "name": "stdout",
     "output_type": "stream",
     "text": [
      "ep 3453 : reward 500.0\r",
      "ep 3454 : reward 456.0\r"
     ]
    },
    {
     "name": "stdout",
     "output_type": "stream",
     "text": [
      "ep 3455 : reward 500.0\r",
      "ep 3456 : reward 500.0\r"
     ]
    },
    {
     "name": "stdout",
     "output_type": "stream",
     "text": [
      "ep 3457 : reward 500.0\r",
      "ep 3458 : reward 500.0\r"
     ]
    },
    {
     "name": "stdout",
     "output_type": "stream",
     "text": [
      "ep 3459 : reward 500.0\r",
      "ep 3460 : reward 391.0\r",
      "ep 3461 : reward 357.0\r"
     ]
    },
    {
     "name": "stdout",
     "output_type": "stream",
     "text": [
      "ep 3462 : reward 329.0\r",
      "ep 3463 : reward 377.0\r",
      "ep 3464 : reward 318.0\r"
     ]
    },
    {
     "name": "stdout",
     "output_type": "stream",
     "text": [
      "ep 3465 : reward 248.0\r",
      "ep 3466 : reward 179.0\r",
      "ep 3467 : reward 251.0\r"
     ]
    },
    {
     "name": "stdout",
     "output_type": "stream",
     "text": [
      "ep 3468 : reward 250.0\r",
      "ep 3469 : reward 244.0\r",
      "ep 3470 : reward 185.0\r"
     ]
    },
    {
     "name": "stdout",
     "output_type": "stream",
     "text": [
      "ep 3471 : reward 260.0\r",
      "ep 3472 : reward 238.0\r",
      "ep 3473 : reward 110.0\r",
      "ep 3474 : reward 239.0\r"
     ]
    },
    {
     "name": "stdout",
     "output_type": "stream",
     "text": [
      "ep 3475 : reward 246.0\r",
      "ep 3476 : reward 261.0\r",
      "ep 3477 : reward 406.0\r"
     ]
    },
    {
     "name": "stdout",
     "output_type": "stream",
     "text": [
      "ep 3478 : reward 258.0\r",
      "ep 3479 : reward 402.0\r",
      "ep 3480 : reward 237.0\r"
     ]
    },
    {
     "name": "stdout",
     "output_type": "stream",
     "text": [
      "ep 3481 : reward 107.0\r",
      "ep 3482 : reward 103.0\r",
      "ep 3483 : reward 237.0\r",
      "ep 3484 : reward 276.0\r"
     ]
    },
    {
     "name": "stdout",
     "output_type": "stream",
     "text": [
      "ep 3485 : reward 115.0\r",
      "ep 3486 : reward 261.0\r",
      "ep 3487 : reward 258.0\r"
     ]
    },
    {
     "name": "stdout",
     "output_type": "stream",
     "text": [
      "ep 3488 : reward 388.0\r",
      "ep 3489 : reward 98.0\r",
      "ep 3490 : reward 101.0\r",
      "ep 3491 : reward 268.0\r"
     ]
    },
    {
     "name": "stdout",
     "output_type": "stream",
     "text": [
      "ep 3492 : reward 282.0\r",
      "ep 3493 : reward 248.0\r",
      "ep 3494 : reward 382.0\r"
     ]
    },
    {
     "name": "stdout",
     "output_type": "stream",
     "text": [
      "ep 3495 : reward 370.0\r",
      "ep 3496 : reward 400.0\r"
     ]
    },
    {
     "name": "stdout",
     "output_type": "stream",
     "text": [
      "ep 3497 : reward 379.0\r",
      "ep 3498 : reward 323.0\r",
      "ep 3499 : reward 329.0\r"
     ]
    },
    {
     "name": "stdout",
     "output_type": "stream",
     "text": [
      "ep 3500 : reward 326.0\r",
      "ep 3501 : reward 334.0\r"
     ]
    },
    {
     "name": "stdout",
     "output_type": "stream",
     "text": [
      "ep 3502 : reward 500.0\r",
      "ep 3503 : reward 500.0\r"
     ]
    },
    {
     "name": "stdout",
     "output_type": "stream",
     "text": [
      "ep 3504 : reward 330.0\r",
      "ep 3505 : reward 403.0\r"
     ]
    },
    {
     "name": "stdout",
     "output_type": "stream",
     "text": [
      "ep 3506 : reward 500.0\r",
      "ep 3507 : reward 284.0\r",
      "ep 3508 : reward 371.0\r"
     ]
    },
    {
     "name": "stdout",
     "output_type": "stream",
     "text": [
      "ep 3509 : reward 333.0\r",
      "ep 3510 : reward 355.0\r",
      "ep 3511 : reward 321.0\r"
     ]
    },
    {
     "name": "stdout",
     "output_type": "stream",
     "text": [
      "ep 3512 : reward 177.0\r",
      "ep 3513 : reward 332.0\r",
      "ep 3514 : reward 253.0\r"
     ]
    },
    {
     "name": "stdout",
     "output_type": "stream",
     "text": [
      "ep 3515 : reward 336.0\r",
      "ep 3516 : reward 402.0\r",
      "ep 3517 : reward 235.0\r"
     ]
    },
    {
     "name": "stdout",
     "output_type": "stream",
     "text": [
      "ep 3518 : reward 267.0\r",
      "ep 3519 : reward 245.0\r",
      "ep 3520 : reward 258.0\r"
     ]
    },
    {
     "name": "stdout",
     "output_type": "stream",
     "text": [
      "ep 3521 : reward 263.0\r",
      "ep 3522 : reward 264.0\r",
      "ep 3523 : reward 320.0\r"
     ]
    },
    {
     "name": "stdout",
     "output_type": "stream",
     "text": [
      "ep 3524 : reward 494.0\r",
      "ep 3525 : reward 500.0\r"
     ]
    },
    {
     "name": "stdout",
     "output_type": "stream",
     "text": [
      "ep 3526 : reward 500.0\r",
      "ep 3527 : reward 500.0\r"
     ]
    },
    {
     "name": "stdout",
     "output_type": "stream",
     "text": [
      "ep 3528 : reward 500.0\r",
      "ep 3529 : reward 343.0\r"
     ]
    },
    {
     "name": "stdout",
     "output_type": "stream",
     "text": [
      "ep 3530 : reward 500.0\r",
      "ep 3531 : reward 282.0\r"
     ]
    },
    {
     "name": "stdout",
     "output_type": "stream",
     "text": [
      "ep 3532 : reward 500.0\r",
      "ep 3533 : reward 500.0\r"
     ]
    },
    {
     "name": "stdout",
     "output_type": "stream",
     "text": [
      "ep 3534 : reward 329.0\r",
      "ep 3535 : reward 384.0\r",
      "ep 3536 : reward 250.0\r"
     ]
    },
    {
     "name": "stdout",
     "output_type": "stream",
     "text": [
      "ep 3537 : reward 190.0\r",
      "ep 3538 : reward 246.0\r",
      "ep 3539 : reward 253.0\r"
     ]
    },
    {
     "name": "stdout",
     "output_type": "stream",
     "text": [
      "ep 3540 : reward 252.0\r",
      "ep 3541 : reward 236.0\r",
      "ep 3542 : reward 253.0\r"
     ]
    },
    {
     "name": "stdout",
     "output_type": "stream",
     "text": [
      "ep 3543 : reward 188.0\r",
      "ep 3544 : reward 247.0\r",
      "ep 3545 : reward 97.0\r",
      "ep 3546 : reward 98.0\r"
     ]
    },
    {
     "name": "stdout",
     "output_type": "stream",
     "text": [
      "ep 3547 : reward 263.0\r",
      "ep 3548 : reward 337.0\r",
      "ep 3549 : reward 257.0\r"
     ]
    },
    {
     "name": "stdout",
     "output_type": "stream",
     "text": [
      "ep 3550 : reward 252.0\r",
      "ep 3551 : reward 245.0\r",
      "ep 3552 : reward 233.0\r"
     ]
    },
    {
     "name": "stdout",
     "output_type": "stream",
     "text": [
      "ep 3553 : reward 390.0\r",
      "ep 3554 : reward 322.0\r",
      "ep 3555 : reward 253.0\r"
     ]
    },
    {
     "name": "stdout",
     "output_type": "stream",
     "text": [
      "ep 3556 : reward 245.0\r",
      "ep 3557 : reward 317.0\r",
      "ep 3558 : reward 167.0\r"
     ]
    },
    {
     "name": "stdout",
     "output_type": "stream",
     "text": [
      "ep 3559 : reward 328.0\r",
      "ep 3560 : reward 98.0\r",
      "ep 3561 : reward 247.0\r",
      "ep 3562 : reward 265.0\r"
     ]
    },
    {
     "name": "stdout",
     "output_type": "stream",
     "text": [
      "ep 3563 : reward 242.0\r",
      "ep 3564 : reward 179.0\r",
      "ep 3565 : reward 500.0\r"
     ]
    },
    {
     "name": "stdout",
     "output_type": "stream",
     "text": [
      "ep 3566 : reward 500.0\r",
      "ep 3567 : reward 390.0\r"
     ]
    },
    {
     "name": "stdout",
     "output_type": "stream",
     "text": [
      "ep 3568 : reward 414.0\r",
      "ep 3569 : reward 500.0\r",
      "ep 3570 : reward 270.0\r"
     ]
    },
    {
     "name": "stdout",
     "output_type": "stream",
     "text": [
      "ep 3571 : reward 102.0\r",
      "ep 3572 : reward 102.0\r",
      "ep 3573 : reward 95.0\r",
      "ep 3574 : reward 93.0\r",
      "ep 3575 : reward 99.0\r"
     ]
    },
    {
     "name": "stdout",
     "output_type": "stream",
     "text": [
      "ep 3576 : reward 90.0\r",
      "ep 3577 : reward 30.0\r",
      "ep 3578 : reward 32.0\r",
      "ep 3579 : reward 33.0\r",
      "ep 3580 : reward 89.0\r"
     ]
    },
    {
     "name": "stdout",
     "output_type": "stream",
     "text": [
      "ep 3581 : reward 365.0\r",
      "ep 3582 : reward 387.0\r"
     ]
    },
    {
     "name": "stdout",
     "output_type": "stream",
     "text": [
      "ep 3583 : reward 383.0\r",
      "ep 3584 : reward 258.0\r",
      "ep 3585 : reward 396.0\r"
     ]
    },
    {
     "name": "stdout",
     "output_type": "stream",
     "text": [
      "ep 3586 : reward 295.0\r",
      "ep 3587 : reward 256.0\r",
      "ep 3588 : reward 258.0\r"
     ]
    },
    {
     "name": "stdout",
     "output_type": "stream",
     "text": [
      "ep 3589 : reward 256.0\r",
      "ep 3590 : reward 189.0\r",
      "ep 3591 : reward 263.0\r"
     ]
    },
    {
     "name": "stdout",
     "output_type": "stream",
     "text": [
      "ep 3592 : reward 242.0\r",
      "ep 3593 : reward 257.0\r",
      "ep 3594 : reward 185.0\r"
     ]
    },
    {
     "name": "stdout",
     "output_type": "stream",
     "text": [
      "ep 3595 : reward 242.0\r",
      "ep 3596 : reward 258.0\r",
      "ep 3597 : reward 242.0\r"
     ]
    },
    {
     "name": "stdout",
     "output_type": "stream",
     "text": [
      "ep 3598 : reward 256.0\r",
      "ep 3599 : reward 179.0\r",
      "ep 3600 : reward 368.0\r"
     ]
    },
    {
     "name": "stdout",
     "output_type": "stream",
     "text": [
      "ep 3601 : reward 500.0\r",
      "ep 3602 : reward 500.0\r"
     ]
    },
    {
     "name": "stdout",
     "output_type": "stream",
     "text": [
      "ep 3603 : reward 500.0\r",
      "ep 3604 : reward 500.0\r"
     ]
    },
    {
     "name": "stdout",
     "output_type": "stream",
     "text": [
      "ep 3605 : reward 500.0\r",
      "ep 3606 : reward 500.0\r"
     ]
    },
    {
     "name": "stdout",
     "output_type": "stream",
     "text": [
      "ep 3607 : reward 500.0\r",
      "ep 3608 : reward 491.0\r"
     ]
    },
    {
     "name": "stdout",
     "output_type": "stream",
     "text": [
      "ep 3609 : reward 319.0\r",
      "ep 3610 : reward 500.0\r"
     ]
    },
    {
     "name": "stdout",
     "output_type": "stream",
     "text": [
      "ep 3611 : reward 336.0\r",
      "ep 3612 : reward 400.0\r"
     ]
    },
    {
     "name": "stdout",
     "output_type": "stream",
     "text": [
      "ep 3613 : reward 479.0\r",
      "ep 3614 : reward 318.0\r",
      "ep 3615 : reward 258.0\r",
      "ep 3616 : reward 101.0\r"
     ]
    },
    {
     "name": "stdout",
     "output_type": "stream",
     "text": [
      "ep 3617 : reward 229.0\r",
      "ep 3618 : reward 108.0\r",
      "ep 3619 : reward 188.0\r",
      "ep 3620 : reward 111.0\r"
     ]
    },
    {
     "name": "stdout",
     "output_type": "stream",
     "text": [
      "ep 3621 : reward 239.0\r",
      "ep 3622 : reward 250.0\r",
      "ep 3623 : reward 111.0\r",
      "ep 3624 : reward 110.0\r"
     ]
    },
    {
     "name": "stdout",
     "output_type": "stream",
     "text": [
      "ep 3625 : reward 257.0\r",
      "ep 3626 : reward 247.0\r",
      "ep 3627 : reward 250.0\r"
     ]
    },
    {
     "name": "stdout",
     "output_type": "stream",
     "text": [
      "ep 3628 : reward 199.0\r",
      "ep 3629 : reward 249.0\r",
      "ep 3630 : reward 242.0\r"
     ]
    },
    {
     "name": "stdout",
     "output_type": "stream",
     "text": [
      "ep 3631 : reward 500.0\r",
      "ep 3632 : reward 500.0\r"
     ]
    },
    {
     "name": "stdout",
     "output_type": "stream",
     "text": [
      "ep 3633 : reward 358.0\r",
      "ep 3634 : reward 398.0\r",
      "ep 3635 : reward 95.0\r",
      "ep 3636 : reward 110.0\r"
     ]
    },
    {
     "name": "stdout",
     "output_type": "stream",
     "text": [
      "ep 3637 : reward 240.0\r",
      "ep 3638 : reward 234.0\r",
      "ep 3639 : reward 254.0\r"
     ]
    },
    {
     "name": "stdout",
     "output_type": "stream",
     "text": [
      "ep 3640 : reward 254.0\r",
      "ep 3641 : reward 237.0\r",
      "ep 3642 : reward 379.0\r"
     ]
    },
    {
     "name": "stdout",
     "output_type": "stream",
     "text": [
      "ep 3643 : reward 258.0\r",
      "ep 3644 : reward 252.0\r",
      "ep 3645 : reward 248.0\r",
      "ep 3646 : reward 100.0\r"
     ]
    },
    {
     "name": "stdout",
     "output_type": "stream",
     "text": [
      "ep 3647 : reward 500.0\r",
      "ep 3648 : reward 500.0\r"
     ]
    },
    {
     "name": "stdout",
     "output_type": "stream",
     "text": [
      "ep 3649 : reward 488.0\r",
      "ep 3650 : reward 467.0\r"
     ]
    },
    {
     "name": "stdout",
     "output_type": "stream",
     "text": [
      "ep 3651 : reward 407.0\r",
      "ep 3652 : reward 500.0\r"
     ]
    },
    {
     "name": "stdout",
     "output_type": "stream",
     "text": [
      "ep 3653 : reward 500.0\r",
      "ep 3654 : reward 408.0\r"
     ]
    },
    {
     "name": "stdout",
     "output_type": "stream",
     "text": [
      "ep 3655 : reward 389.0\r",
      "ep 3656 : reward 435.0\r"
     ]
    },
    {
     "name": "stdout",
     "output_type": "stream",
     "text": [
      "ep 3657 : reward 445.0\r",
      "ep 3658 : reward 500.0\r"
     ]
    },
    {
     "name": "stdout",
     "output_type": "stream",
     "text": [
      "ep 3659 : reward 500.0\r",
      "ep 3660 : reward 500.0\r"
     ]
    },
    {
     "name": "stdout",
     "output_type": "stream",
     "text": [
      "ep 3661 : reward 500.0\r",
      "ep 3662 : reward 500.0\r"
     ]
    },
    {
     "name": "stdout",
     "output_type": "stream",
     "text": [
      "ep 3663 : reward 385.0\r",
      "ep 3664 : reward 500.0\r"
     ]
    },
    {
     "name": "stdout",
     "output_type": "stream",
     "text": [
      "ep 3665 : reward 500.0\r",
      "ep 3666 : reward 500.0\r"
     ]
    },
    {
     "name": "stdout",
     "output_type": "stream",
     "text": [
      "ep 3667 : reward 500.0\r",
      "ep 3668 : reward 500.0\r"
     ]
    },
    {
     "name": "stdout",
     "output_type": "stream",
     "text": [
      "ep 3669 : reward 500.0\r",
      "ep 3670 : reward 439.0\r"
     ]
    },
    {
     "name": "stdout",
     "output_type": "stream",
     "text": [
      "ep 3671 : reward 500.0\r",
      "ep 3672 : reward 403.0\r"
     ]
    },
    {
     "name": "stdout",
     "output_type": "stream",
     "text": [
      "ep 3673 : reward 500.0\r",
      "ep 3674 : reward 500.0\r"
     ]
    },
    {
     "name": "stdout",
     "output_type": "stream",
     "text": [
      "ep 3675 : reward 500.0\r",
      "ep 3676 : reward 410.0\r"
     ]
    },
    {
     "name": "stdout",
     "output_type": "stream",
     "text": [
      "ep 3677 : reward 466.0\r",
      "ep 3678 : reward 500.0\r"
     ]
    },
    {
     "name": "stdout",
     "output_type": "stream",
     "text": [
      "ep 3679 : reward 264.0\r",
      "ep 3680 : reward 265.0\r",
      "ep 3681 : reward 395.0\r"
     ]
    },
    {
     "name": "stdout",
     "output_type": "stream",
     "text": [
      "ep 3682 : reward 260.0\r",
      "ep 3683 : reward 324.0\r",
      "ep 3684 : reward 204.0\r"
     ]
    },
    {
     "name": "stdout",
     "output_type": "stream",
     "text": [
      "ep 3685 : reward 370.0\r",
      "ep 3686 : reward 500.0\r",
      "ep 3687 : reward 192.0\r"
     ]
    },
    {
     "name": "stdout",
     "output_type": "stream",
     "text": [
      "ep 3688 : reward 245.0\r",
      "ep 3689 : reward 242.0\r",
      "ep 3690 : reward 258.0\r"
     ]
    },
    {
     "name": "stdout",
     "output_type": "stream",
     "text": [
      "ep 3691 : reward 235.0\r",
      "ep 3692 : reward 250.0\r",
      "ep 3693 : reward 249.0\r"
     ]
    },
    {
     "name": "stdout",
     "output_type": "stream",
     "text": [
      "ep 3694 : reward 321.0\r",
      "ep 3695 : reward 500.0\r"
     ]
    },
    {
     "name": "stdout",
     "output_type": "stream",
     "text": [
      "ep 3696 : reward 475.0\r",
      "ep 3697 : reward 251.0\r",
      "ep 3698 : reward 118.0\r",
      "ep 3699 : reward 242.0\r"
     ]
    },
    {
     "name": "stdout",
     "output_type": "stream",
     "text": [
      "ep 3700 : reward 195.0\r",
      "ep 3701 : reward 94.0\r",
      "ep 3702 : reward 243.0\r"
     ]
    },
    {
     "name": "stdout",
     "output_type": "stream",
     "text": [
      "ep 3703 : reward 386.0\r",
      "ep 3704 : reward 433.0\r"
     ]
    },
    {
     "name": "stdout",
     "output_type": "stream",
     "text": [
      "ep 3705 : reward 500.0\r",
      "ep 3706 : reward 500.0\r"
     ]
    },
    {
     "name": "stdout",
     "output_type": "stream",
     "text": [
      "ep 3707 : reward 500.0\r",
      "ep 3708 : reward 500.0\r"
     ]
    },
    {
     "name": "stdout",
     "output_type": "stream",
     "text": [
      "ep 3709 : reward 500.0\r",
      "ep 3710 : reward 500.0\r"
     ]
    },
    {
     "name": "stdout",
     "output_type": "stream",
     "text": [
      "ep 3711 : reward 500.0\r",
      "ep 3712 : reward 500.0\r"
     ]
    },
    {
     "name": "stdout",
     "output_type": "stream",
     "text": [
      "ep 3713 : reward 500.0\r",
      "ep 3714 : reward 500.0\r"
     ]
    },
    {
     "name": "stdout",
     "output_type": "stream",
     "text": [
      "ep 3715 : reward 500.0\r",
      "ep 3716 : reward 438.0\r"
     ]
    },
    {
     "name": "stdout",
     "output_type": "stream",
     "text": [
      "ep 3717 : reward 500.0\r",
      "ep 3718 : reward 194.0\r",
      "ep 3719 : reward 182.0\r",
      "ep 3720 : reward 111.0\r"
     ]
    },
    {
     "name": "stdout",
     "output_type": "stream",
     "text": [
      "ep 3721 : reward 114.0\r",
      "ep 3722 : reward 350.0\r"
     ]
    },
    {
     "name": "stdout",
     "output_type": "stream",
     "text": [
      "ep 3723 : reward 500.0\r",
      "ep 3724 : reward 410.0\r"
     ]
    },
    {
     "name": "stdout",
     "output_type": "stream",
     "text": [
      "ep 3725 : reward 500.0\r",
      "ep 3726 : reward 333.0\r",
      "ep 3727 : reward 250.0\r"
     ]
    },
    {
     "name": "stdout",
     "output_type": "stream",
     "text": [
      "ep 3728 : reward 259.0\r",
      "ep 3729 : reward 377.0\r",
      "ep 3730 : reward 398.0\r"
     ]
    },
    {
     "name": "stdout",
     "output_type": "stream",
     "text": [
      "ep 3731 : reward 190.0\r",
      "ep 3732 : reward 253.0\r",
      "ep 3733 : reward 371.0\r"
     ]
    },
    {
     "name": "stdout",
     "output_type": "stream",
     "text": [
      "ep 3734 : reward 383.0\r",
      "ep 3735 : reward 500.0\r"
     ]
    },
    {
     "name": "stdout",
     "output_type": "stream",
     "text": [
      "ep 3736 : reward 500.0\r",
      "ep 3737 : reward 478.0\r"
     ]
    },
    {
     "name": "stdout",
     "output_type": "stream",
     "text": [
      "ep 3738 : reward 500.0\r",
      "ep 3739 : reward 500.0\r"
     ]
    },
    {
     "name": "stdout",
     "output_type": "stream",
     "text": [
      "ep 3740 : reward 500.0\r",
      "ep 3741 : reward 500.0\r",
      "ep 3742 : reward 229.0\r"
     ]
    },
    {
     "name": "stdout",
     "output_type": "stream",
     "text": [
      "ep 3743 : reward 233.0\r",
      "ep 3744 : reward 242.0\r",
      "ep 3745 : reward 359.0\r"
     ]
    },
    {
     "name": "stdout",
     "output_type": "stream",
     "text": [
      "ep 3746 : reward 500.0\r",
      "ep 3747 : reward 500.0\r"
     ]
    },
    {
     "name": "stdout",
     "output_type": "stream",
     "text": [
      "ep 3748 : reward 500.0\r",
      "ep 3749 : reward 500.0\r"
     ]
    },
    {
     "name": "stdout",
     "output_type": "stream",
     "text": [
      "ep 3750 : reward 500.0\r",
      "ep 3751 : reward 500.0\r"
     ]
    },
    {
     "name": "stdout",
     "output_type": "stream",
     "text": [
      "ep 3752 : reward 500.0\r",
      "ep 3753 : reward 500.0\r"
     ]
    },
    {
     "name": "stdout",
     "output_type": "stream",
     "text": [
      "ep 3754 : reward 498.0\r",
      "ep 3755 : reward 245.0\r",
      "ep 3756 : reward 233.0\r"
     ]
    },
    {
     "name": "stdout",
     "output_type": "stream",
     "text": [
      "ep 3757 : reward 246.0\r",
      "ep 3758 : reward 250.0\r",
      "ep 3759 : reward 245.0\r"
     ]
    },
    {
     "name": "stdout",
     "output_type": "stream",
     "text": [
      "ep 3760 : reward 242.0\r",
      "ep 3761 : reward 317.0\r",
      "ep 3762 : reward 250.0\r"
     ]
    },
    {
     "name": "stdout",
     "output_type": "stream",
     "text": [
      "ep 3763 : reward 270.0\r",
      "ep 3764 : reward 402.0\r"
     ]
    },
    {
     "name": "stdout",
     "output_type": "stream",
     "text": [
      "ep 3765 : reward 500.0\r",
      "ep 3766 : reward 500.0\r"
     ]
    },
    {
     "name": "stdout",
     "output_type": "stream",
     "text": [
      "ep 3767 : reward 500.0\r",
      "ep 3768 : reward 412.0\r"
     ]
    },
    {
     "name": "stdout",
     "output_type": "stream",
     "text": [
      "ep 3769 : reward 500.0\r",
      "ep 3770 : reward 404.0\r",
      "ep 3771 : reward 267.0\r"
     ]
    },
    {
     "name": "stdout",
     "output_type": "stream",
     "text": [
      "ep 3772 : reward 237.0\r",
      "ep 3773 : reward 272.0\r",
      "ep 3774 : reward 385.0\r"
     ]
    },
    {
     "name": "stdout",
     "output_type": "stream",
     "text": [
      "ep 3775 : reward 256.0\r",
      "ep 3776 : reward 256.0\r",
      "ep 3777 : reward 500.0\r"
     ]
    },
    {
     "name": "stdout",
     "output_type": "stream",
     "text": [
      "ep 3778 : reward 500.0\r",
      "ep 3779 : reward 500.0\r"
     ]
    },
    {
     "name": "stdout",
     "output_type": "stream",
     "text": [
      "ep 3780 : reward 357.0\r",
      "ep 3781 : reward 394.0\r"
     ]
    },
    {
     "name": "stdout",
     "output_type": "stream",
     "text": [
      "ep 3782 : reward 463.0\r",
      "ep 3783 : reward 500.0\r"
     ]
    },
    {
     "name": "stdout",
     "output_type": "stream",
     "text": [
      "ep 3784 : reward 314.0\r",
      "ep 3785 : reward 284.0\r",
      "ep 3786 : reward 318.0\r"
     ]
    },
    {
     "name": "stdout",
     "output_type": "stream",
     "text": [
      "ep 3787 : reward 330.0\r",
      "ep 3788 : reward 402.0\r"
     ]
    },
    {
     "name": "stdout",
     "output_type": "stream",
     "text": [
      "ep 3789 : reward 500.0\r",
      "ep 3790 : reward 480.0\r"
     ]
    },
    {
     "name": "stdout",
     "output_type": "stream",
     "text": [
      "ep 3791 : reward 500.0\r",
      "ep 3792 : reward 179.0\r",
      "ep 3793 : reward 104.0\r",
      "ep 3794 : reward 178.0\r"
     ]
    },
    {
     "name": "stdout",
     "output_type": "stream",
     "text": [
      "ep 3795 : reward 237.0\r",
      "ep 3796 : reward 248.0\r",
      "ep 3797 : reward 246.0\r"
     ]
    },
    {
     "name": "stdout",
     "output_type": "stream",
     "text": [
      "ep 3798 : reward 244.0\r",
      "ep 3799 : reward 249.0\r",
      "ep 3800 : reward 176.0\r",
      "ep 3801 : reward 244.0\r"
     ]
    },
    {
     "name": "stdout",
     "output_type": "stream",
     "text": [
      "ep 3802 : reward 500.0\r",
      "ep 3803 : reward 500.0\r"
     ]
    },
    {
     "name": "stdout",
     "output_type": "stream",
     "text": [
      "ep 3804 : reward 403.0\r",
      "ep 3805 : reward 268.0\r",
      "ep 3806 : reward 255.0\r"
     ]
    },
    {
     "name": "stdout",
     "output_type": "stream",
     "text": [
      "ep 3807 : reward 246.0\r",
      "ep 3808 : reward 256.0\r",
      "ep 3809 : reward 249.0\r"
     ]
    },
    {
     "name": "stdout",
     "output_type": "stream",
     "text": [
      "ep 3810 : reward 393.0\r",
      "ep 3811 : reward 167.0\r",
      "ep 3812 : reward 307.0\r"
     ]
    },
    {
     "name": "stdout",
     "output_type": "stream",
     "text": [
      "ep 3813 : reward 369.0\r",
      "ep 3814 : reward 379.0\r",
      "ep 3815 : reward 411.0\r"
     ]
    },
    {
     "name": "stdout",
     "output_type": "stream",
     "text": [
      "ep 3816 : reward 500.0\r",
      "ep 3817 : reward 414.0\r"
     ]
    },
    {
     "name": "stdout",
     "output_type": "stream",
     "text": [
      "ep 3818 : reward 499.0\r",
      "ep 3819 : reward 388.0\r",
      "ep 3820 : reward 262.0\r"
     ]
    },
    {
     "name": "stdout",
     "output_type": "stream",
     "text": [
      "ep 3821 : reward 500.0\r",
      "ep 3822 : reward 407.0\r",
      "ep 3823 : reward 405.0\r"
     ]
    },
    {
     "name": "stdout",
     "output_type": "stream",
     "text": [
      "ep 3824 : reward 330.0\r",
      "ep 3825 : reward 248.0\r",
      "ep 3826 : reward 264.0\r"
     ]
    },
    {
     "name": "stdout",
     "output_type": "stream",
     "text": [
      "ep 3827 : reward 319.0\r",
      "ep 3828 : reward 262.0\r",
      "ep 3829 : reward 375.0\r"
     ]
    },
    {
     "name": "stdout",
     "output_type": "stream",
     "text": [
      "ep 3830 : reward 176.0\r",
      "ep 3831 : reward 32.0\r",
      "ep 3832 : reward 31.0\r",
      "ep 3833 : reward 91.0\r",
      "ep 3834 : reward 96.0\r",
      "ep 3835 : reward 92.0\r"
     ]
    },
    {
     "name": "stdout",
     "output_type": "stream",
     "text": [
      "ep 3836 : reward 97.0\r",
      "ep 3837 : reward 108.0\r",
      "ep 3838 : reward 102.0\r",
      "ep 3839 : reward 166.0\r",
      "ep 3840 : reward 106.0\r"
     ]
    },
    {
     "name": "stdout",
     "output_type": "stream",
     "text": [
      "ep 3841 : reward 241.0\r",
      "ep 3842 : reward 235.0\r",
      "ep 3843 : reward 256.0\r"
     ]
    },
    {
     "name": "stdout",
     "output_type": "stream",
     "text": [
      "ep 3844 : reward 260.0\r",
      "ep 3845 : reward 111.0\r",
      "ep 3846 : reward 252.0\r",
      "ep 3847 : reward 91.0\r"
     ]
    },
    {
     "name": "stdout",
     "output_type": "stream",
     "text": [
      "ep 3848 : reward 94.0\r",
      "ep 3849 : reward 116.0\r",
      "ep 3850 : reward 409.0\r"
     ]
    },
    {
     "name": "stdout",
     "output_type": "stream",
     "text": [
      "ep 3851 : reward 411.0\r",
      "ep 3852 : reward 178.0\r",
      "ep 3853 : reward 101.0\r",
      "ep 3854 : reward 92.0\r",
      "ep 3855 : reward 165.0\r"
     ]
    },
    {
     "name": "stdout",
     "output_type": "stream",
     "text": [
      "ep 3856 : reward 233.0\r",
      "ep 3857 : reward 115.0\r",
      "ep 3858 : reward 92.0\r",
      "ep 3859 : reward 98.0\r",
      "ep 3860 : reward 36.0\r",
      "ep 3861 : reward 94.0\r"
     ]
    },
    {
     "name": "stdout",
     "output_type": "stream",
     "text": [
      "ep 3862 : reward 113.0\r",
      "ep 3863 : reward 100.0\r",
      "ep 3864 : reward 103.0\r",
      "ep 3865 : reward 105.0\r",
      "ep 3866 : reward 112.0\r"
     ]
    },
    {
     "name": "stdout",
     "output_type": "stream",
     "text": [
      "ep 3867 : reward 245.0\r",
      "ep 3868 : reward 500.0\r"
     ]
    },
    {
     "name": "stdout",
     "output_type": "stream",
     "text": [
      "ep 3869 : reward 402.0\r",
      "ep 3870 : reward 325.0\r"
     ]
    },
    {
     "name": "stdout",
     "output_type": "stream",
     "text": [
      "ep 3871 : reward 500.0\r",
      "ep 3872 : reward 263.0\r",
      "ep 3873 : reward 398.0\r"
     ]
    },
    {
     "name": "stdout",
     "output_type": "stream",
     "text": [
      "ep 3874 : reward 500.0\r",
      "ep 3875 : reward 500.0\r"
     ]
    },
    {
     "name": "stdout",
     "output_type": "stream",
     "text": [
      "ep 3876 : reward 500.0\r",
      "ep 3877 : reward 500.0\r"
     ]
    },
    {
     "name": "stdout",
     "output_type": "stream",
     "text": [
      "ep 3878 : reward 500.0\r",
      "ep 3879 : reward 500.0\r"
     ]
    },
    {
     "name": "stdout",
     "output_type": "stream",
     "text": [
      "ep 3880 : reward 439.0\r",
      "ep 3881 : reward 484.0\r",
      "ep 3882 : reward 285.0\r"
     ]
    },
    {
     "name": "stdout",
     "output_type": "stream",
     "text": [
      "ep 3883 : reward 312.0\r",
      "ep 3884 : reward 339.0\r",
      "ep 3885 : reward 315.0\r"
     ]
    },
    {
     "name": "stdout",
     "output_type": "stream",
     "text": [
      "ep 3886 : reward 312.0\r",
      "ep 3887 : reward 195.0\r",
      "ep 3888 : reward 247.0\r"
     ]
    },
    {
     "name": "stdout",
     "output_type": "stream",
     "text": [
      "ep 3889 : reward 500.0\r",
      "ep 3890 : reward 500.0\r"
     ]
    },
    {
     "name": "stdout",
     "output_type": "stream",
     "text": [
      "ep 3891 : reward 500.0\r",
      "ep 3892 : reward 500.0\r"
     ]
    },
    {
     "name": "stdout",
     "output_type": "stream",
     "text": [
      "ep 3893 : reward 500.0\r",
      "ep 3894 : reward 500.0\r"
     ]
    },
    {
     "name": "stdout",
     "output_type": "stream",
     "text": [
      "ep 3895 : reward 500.0\r",
      "ep 3896 : reward 454.0\r"
     ]
    },
    {
     "name": "stdout",
     "output_type": "stream",
     "text": [
      "ep 3897 : reward 500.0\r",
      "ep 3898 : reward 500.0\r"
     ]
    },
    {
     "name": "stdout",
     "output_type": "stream",
     "text": [
      "ep 3899 : reward 500.0\r",
      "ep 3900 : reward 500.0\r"
     ]
    },
    {
     "name": "stdout",
     "output_type": "stream",
     "text": [
      "ep 3901 : reward 500.0\r",
      "ep 3902 : reward 243.0\r",
      "ep 3903 : reward 235.0\r"
     ]
    },
    {
     "name": "stdout",
     "output_type": "stream",
     "text": [
      "ep 3904 : reward 270.0\r",
      "ep 3905 : reward 418.0\r",
      "ep 3906 : reward 205.0\r"
     ]
    },
    {
     "name": "stdout",
     "output_type": "stream",
     "text": [
      "ep 3907 : reward 343.0\r",
      "ep 3908 : reward 181.0\r",
      "ep 3909 : reward 494.0\r"
     ]
    },
    {
     "name": "stdout",
     "output_type": "stream",
     "text": [
      "ep 3910 : reward 403.0\r",
      "ep 3911 : reward 277.0\r",
      "ep 3912 : reward 244.0\r"
     ]
    },
    {
     "name": "stdout",
     "output_type": "stream",
     "text": [
      "ep 3913 : reward 264.0\r",
      "ep 3914 : reward 500.0\r"
     ]
    },
    {
     "name": "stdout",
     "output_type": "stream",
     "text": [
      "ep 3915 : reward 500.0\r",
      "ep 3916 : reward 437.0\r"
     ]
    },
    {
     "name": "stdout",
     "output_type": "stream",
     "text": [
      "ep 3917 : reward 385.0\r",
      "ep 3918 : reward 500.0\r",
      "ep 3919 : reward 257.0\r"
     ]
    },
    {
     "name": "stdout",
     "output_type": "stream",
     "text": [
      "ep 3920 : reward 352.0\r",
      "ep 3921 : reward 500.0\r"
     ]
    },
    {
     "name": "stdout",
     "output_type": "stream",
     "text": [
      "ep 3922 : reward 500.0\r",
      "ep 3923 : reward 389.0\r",
      "ep 3924 : reward 380.0\r"
     ]
    },
    {
     "name": "stdout",
     "output_type": "stream",
     "text": [
      "ep 3925 : reward 500.0\r",
      "ep 3926 : reward 500.0\r"
     ]
    },
    {
     "name": "stdout",
     "output_type": "stream",
     "text": [
      "ep 3927 : reward 500.0\r",
      "ep 3928 : reward 347.0\r",
      "ep 3929 : reward 236.0\r"
     ]
    },
    {
     "name": "stdout",
     "output_type": "stream",
     "text": [
      "ep 3930 : reward 247.0\r",
      "ep 3931 : reward 387.0\r",
      "ep 3932 : reward 266.0\r"
     ]
    },
    {
     "name": "stdout",
     "output_type": "stream",
     "text": [
      "ep 3933 : reward 399.0\r",
      "ep 3934 : reward 337.0\r",
      "ep 3935 : reward 290.0\r"
     ]
    },
    {
     "name": "stdout",
     "output_type": "stream",
     "text": [
      "ep 3936 : reward 262.0\r",
      "ep 3937 : reward 392.0\r"
     ]
    },
    {
     "name": "stdout",
     "output_type": "stream",
     "text": [
      "ep 3938 : reward 500.0\r",
      "ep 3939 : reward 102.0\r",
      "ep 3940 : reward 99.0\r",
      "ep 3941 : reward 239.0\r"
     ]
    },
    {
     "name": "stdout",
     "output_type": "stream",
     "text": [
      "ep 3942 : reward 243.0\r",
      "ep 3943 : reward 231.0\r",
      "ep 3944 : reward 166.0\r",
      "ep 3945 : reward 178.0\r"
     ]
    },
    {
     "name": "stdout",
     "output_type": "stream",
     "text": [
      "ep 3946 : reward 264.0\r",
      "ep 3947 : reward 260.0\r",
      "ep 3948 : reward 389.0\r"
     ]
    },
    {
     "name": "stdout",
     "output_type": "stream",
     "text": [
      "ep 3949 : reward 377.0\r",
      "ep 3950 : reward 384.0\r",
      "ep 3951 : reward 382.0\r"
     ]
    },
    {
     "name": "stdout",
     "output_type": "stream",
     "text": [
      "ep 3952 : reward 183.0\r",
      "ep 3953 : reward 255.0\r",
      "ep 3954 : reward 277.0\r"
     ]
    },
    {
     "name": "stdout",
     "output_type": "stream",
     "text": [
      "ep 3955 : reward 248.0\r",
      "ep 3956 : reward 259.0\r",
      "ep 3957 : reward 500.0\r"
     ]
    },
    {
     "name": "stdout",
     "output_type": "stream",
     "text": [
      "ep 3958 : reward 500.0\r",
      "ep 3959 : reward 499.0\r"
     ]
    },
    {
     "name": "stdout",
     "output_type": "stream",
     "text": [
      "ep 3960 : reward 485.0\r",
      "ep 3961 : reward 500.0\r"
     ]
    },
    {
     "name": "stdout",
     "output_type": "stream",
     "text": [
      "ep 3962 : reward 430.0\r",
      "ep 3963 : reward 380.0\r"
     ]
    },
    {
     "name": "stdout",
     "output_type": "stream",
     "text": [
      "ep 3964 : reward 463.0\r",
      "ep 3965 : reward 98.0\r",
      "ep 3966 : reward 196.0\r",
      "ep 3967 : reward 108.0\r"
     ]
    },
    {
     "name": "stdout",
     "output_type": "stream",
     "text": [
      "ep 3968 : reward 173.0\r",
      "ep 3969 : reward 40.0\r",
      "ep 3970 : reward 92.0\r",
      "ep 3971 : reward 99.0\r",
      "ep 3972 : reward 96.0\r",
      "ep 3973 : reward 106.0\r"
     ]
    },
    {
     "name": "stdout",
     "output_type": "stream",
     "text": [
      "ep 3974 : reward 97.0\r",
      "ep 3975 : reward 240.0\r",
      "ep 3976 : reward 243.0\r",
      "ep 3977 : reward 103.0\r"
     ]
    },
    {
     "name": "stdout",
     "output_type": "stream",
     "text": [
      "ep 3978 : reward 248.0\r",
      "ep 3979 : reward 252.0\r",
      "ep 3980 : reward 248.0\r"
     ]
    },
    {
     "name": "stdout",
     "output_type": "stream",
     "text": [
      "ep 3981 : reward 195.0\r",
      "ep 3982 : reward 261.0\r",
      "ep 3983 : reward 265.0\r"
     ]
    },
    {
     "name": "stdout",
     "output_type": "stream",
     "text": [
      "ep 3984 : reward 484.0\r",
      "ep 3985 : reward 500.0\r"
     ]
    },
    {
     "name": "stdout",
     "output_type": "stream",
     "text": [
      "ep 3986 : reward 397.0\r",
      "ep 3987 : reward 243.0\r",
      "ep 3988 : reward 500.0\r"
     ]
    },
    {
     "name": "stdout",
     "output_type": "stream",
     "text": [
      "ep 3989 : reward 447.0\r",
      "ep 3990 : reward 452.0\r"
     ]
    },
    {
     "name": "stdout",
     "output_type": "stream",
     "text": [
      "ep 3991 : reward 500.0\r",
      "ep 3992 : reward 264.0\r",
      "ep 3993 : reward 500.0\r"
     ]
    },
    {
     "name": "stdout",
     "output_type": "stream",
     "text": [
      "ep 3994 : reward 399.0\r",
      "ep 3995 : reward 393.0\r"
     ]
    },
    {
     "name": "stdout",
     "output_type": "stream",
     "text": [
      "ep 3996 : reward 409.0\r",
      "ep 3997 : reward 325.0\r",
      "ep 3998 : reward 88.0\r",
      "ep 3999 : reward 126.0\r"
     ]
    },
    {
     "name": "stdout",
     "output_type": "stream",
     "text": [
      "ep 4000 : reward 112.0\r",
      "ep 4001 : reward 96.0\r",
      "ep 4002 : reward 174.0\r",
      "ep 4003 : reward 100.0\r"
     ]
    },
    {
     "name": "stdout",
     "output_type": "stream",
     "text": [
      "ep 4004 : reward 240.0\r",
      "ep 4005 : reward 106.0\r",
      "ep 4006 : reward 91.0\r",
      "ep 4007 : reward 96.0\r",
      "ep 4008 : reward 96.0\r"
     ]
    },
    {
     "name": "stdout",
     "output_type": "stream",
     "text": [
      "ep 4009 : reward 98.0\r",
      "ep 4010 : reward 95.0\r",
      "ep 4011 : reward 106.0\r",
      "ep 4012 : reward 112.0\r",
      "ep 4013 : reward 111.0\r"
     ]
    },
    {
     "name": "stdout",
     "output_type": "stream",
     "text": [
      "ep 4014 : reward 173.0\r",
      "ep 4015 : reward 244.0\r",
      "ep 4016 : reward 182.0\r",
      "ep 4017 : reward 185.0\r"
     ]
    },
    {
     "name": "stdout",
     "output_type": "stream",
     "text": [
      "ep 4018 : reward 123.0\r",
      "ep 4019 : reward 252.0\r",
      "ep 4020 : reward 250.0\r"
     ]
    },
    {
     "name": "stdout",
     "output_type": "stream",
     "text": [
      "ep 4021 : reward 266.0\r",
      "ep 4022 : reward 264.0\r",
      "ep 4023 : reward 235.0\r"
     ]
    },
    {
     "name": "stdout",
     "output_type": "stream",
     "text": [
      "ep 4024 : reward 327.0\r",
      "ep 4025 : reward 383.0\r",
      "ep 4026 : reward 260.0\r"
     ]
    },
    {
     "name": "stdout",
     "output_type": "stream",
     "text": [
      "ep 4027 : reward 500.0\r",
      "ep 4028 : reward 500.0\r"
     ]
    },
    {
     "name": "stdout",
     "output_type": "stream",
     "text": [
      "ep 4029 : reward 500.0\r",
      "ep 4030 : reward 433.0\r"
     ]
    },
    {
     "name": "stdout",
     "output_type": "stream",
     "text": [
      "ep 4031 : reward 470.0\r",
      "ep 4032 : reward 500.0\r"
     ]
    },
    {
     "name": "stdout",
     "output_type": "stream",
     "text": [
      "ep 4033 : reward 387.0\r",
      "ep 4034 : reward 428.0\r"
     ]
    },
    {
     "name": "stdout",
     "output_type": "stream",
     "text": [
      "ep 4035 : reward 410.0\r",
      "ep 4036 : reward 500.0\r"
     ]
    },
    {
     "name": "stdout",
     "output_type": "stream",
     "text": [
      "ep 4037 : reward 379.0\r",
      "ep 4038 : reward 372.0\r",
      "ep 4039 : reward 271.0\r"
     ]
    },
    {
     "name": "stdout",
     "output_type": "stream",
     "text": [
      "ep 4040 : reward 326.0\r",
      "ep 4041 : reward 104.0\r",
      "ep 4042 : reward 95.0\r",
      "ep 4043 : reward 183.0\r"
     ]
    },
    {
     "name": "stdout",
     "output_type": "stream",
     "text": [
      "ep 4044 : reward 466.0\r",
      "ep 4045 : reward 348.0\r",
      "ep 4046 : reward 267.0\r"
     ]
    },
    {
     "name": "stdout",
     "output_type": "stream",
     "text": [
      "ep 4047 : reward 244.0\r",
      "ep 4048 : reward 316.0\r",
      "ep 4049 : reward 402.0\r"
     ]
    },
    {
     "name": "stdout",
     "output_type": "stream",
     "text": [
      "ep 4050 : reward 255.0\r",
      "ep 4051 : reward 373.0\r",
      "ep 4052 : reward 267.0\r"
     ]
    },
    {
     "name": "stdout",
     "output_type": "stream",
     "text": [
      "ep 4053 : reward 500.0\r",
      "ep 4054 : reward 500.0\r"
     ]
    },
    {
     "name": "stdout",
     "output_type": "stream",
     "text": [
      "ep 4055 : reward 500.0\r",
      "ep 4056 : reward 500.0\r"
     ]
    },
    {
     "name": "stdout",
     "output_type": "stream",
     "text": [
      "ep 4057 : reward 500.0\r",
      "ep 4058 : reward 500.0\r"
     ]
    },
    {
     "name": "stdout",
     "output_type": "stream",
     "text": [
      "ep 4059 : reward 500.0\r",
      "ep 4060 : reward 330.0\r"
     ]
    },
    {
     "name": "stdout",
     "output_type": "stream",
     "text": [
      "ep 4061 : reward 500.0\r",
      "ep 4062 : reward 323.0\r",
      "ep 4063 : reward 100.0\r",
      "ep 4064 : reward 98.0\r"
     ]
    },
    {
     "name": "stdout",
     "output_type": "stream",
     "text": [
      "ep 4065 : reward 111.0\r",
      "ep 4066 : reward 242.0\r",
      "ep 4067 : reward 237.0\r",
      "ep 4068 : reward 92.0\r"
     ]
    },
    {
     "name": "stdout",
     "output_type": "stream",
     "text": [
      "ep 4069 : reward 46.0\r",
      "ep 4070 : reward 93.0\r",
      "ep 4071 : reward 105.0\r",
      "ep 4072 : reward 95.0\r",
      "ep 4073 : reward 242.0\r"
     ]
    },
    {
     "name": "stdout",
     "output_type": "stream",
     "text": [
      "ep 4074 : reward 100.0\r",
      "ep 4075 : reward 106.0\r",
      "ep 4076 : reward 241.0\r",
      "ep 4077 : reward 183.0\r"
     ]
    },
    {
     "name": "stdout",
     "output_type": "stream",
     "text": [
      "ep 4078 : reward 111.0\r",
      "ep 4079 : reward 175.0\r",
      "ep 4080 : reward 237.0\r",
      "ep 4081 : reward 255.0\r"
     ]
    },
    {
     "name": "stdout",
     "output_type": "stream",
     "text": [
      "ep 4082 : reward 382.0\r",
      "ep 4083 : reward 324.0\r",
      "ep 4084 : reward 229.0\r"
     ]
    },
    {
     "name": "stdout",
     "output_type": "stream",
     "text": [
      "ep 4085 : reward 263.0\r",
      "ep 4086 : reward 346.0\r",
      "ep 4087 : reward 122.0\r"
     ]
    },
    {
     "name": "stdout",
     "output_type": "stream",
     "text": [
      "ep 4088 : reward 254.0\r",
      "ep 4089 : reward 252.0\r",
      "ep 4090 : reward 251.0\r"
     ]
    },
    {
     "name": "stdout",
     "output_type": "stream",
     "text": [
      "ep 4091 : reward 250.0\r",
      "ep 4092 : reward 89.0\r",
      "ep 4093 : reward 100.0\r",
      "ep 4094 : reward 92.0\r",
      "ep 4095 : reward 87.0\r"
     ]
    },
    {
     "name": "stdout",
     "output_type": "stream",
     "text": [
      "ep 4096 : reward 95.0\r",
      "ep 4097 : reward 175.0\r",
      "ep 4098 : reward 109.0\r",
      "ep 4099 : reward 94.0\r"
     ]
    },
    {
     "name": "stdout",
     "output_type": "stream",
     "text": [
      "ep 4100 : reward 113.0\r",
      "ep 4101 : reward 103.0\r",
      "ep 4102 : reward 235.0\r",
      "ep 4103 : reward 243.0\r"
     ]
    },
    {
     "name": "stdout",
     "output_type": "stream",
     "text": [
      "ep 4104 : reward 242.0\r",
      "ep 4105 : reward 254.0\r",
      "ep 4106 : reward 250.0\r"
     ]
    },
    {
     "name": "stdout",
     "output_type": "stream",
     "text": [
      "ep 4107 : reward 360.0\r",
      "ep 4108 : reward 172.0\r",
      "ep 4109 : reward 242.0\r",
      "ep 4110 : reward 259.0\r"
     ]
    },
    {
     "name": "stdout",
     "output_type": "stream",
     "text": [
      "ep 4111 : reward 500.0\r",
      "ep 4112 : reward 500.0\r"
     ]
    },
    {
     "name": "stdout",
     "output_type": "stream",
     "text": [
      "ep 4113 : reward 500.0\r",
      "ep 4114 : reward 500.0\r"
     ]
    },
    {
     "name": "stdout",
     "output_type": "stream",
     "text": [
      "ep 4115 : reward 500.0\r",
      "ep 4116 : reward 500.0\r"
     ]
    },
    {
     "name": "stdout",
     "output_type": "stream",
     "text": [
      "ep 4117 : reward 500.0\r",
      "ep 4118 : reward 500.0\r"
     ]
    },
    {
     "name": "stdout",
     "output_type": "stream",
     "text": [
      "ep 4119 : reward 500.0\r",
      "ep 4120 : reward 500.0\r"
     ]
    },
    {
     "name": "stdout",
     "output_type": "stream",
     "text": [
      "ep 4121 : reward 418.0\r",
      "ep 4122 : reward 500.0\r"
     ]
    },
    {
     "name": "stdout",
     "output_type": "stream",
     "text": [
      "ep 4123 : reward 500.0\r",
      "ep 4124 : reward 500.0\r"
     ]
    },
    {
     "name": "stdout",
     "output_type": "stream",
     "text": [
      "ep 4125 : reward 500.0\r",
      "ep 4126 : reward 500.0\r"
     ]
    },
    {
     "name": "stdout",
     "output_type": "stream",
     "text": [
      "ep 4127 : reward 500.0\r",
      "ep 4128 : reward 410.0\r",
      "ep 4129 : reward 395.0\r"
     ]
    },
    {
     "name": "stdout",
     "output_type": "stream",
     "text": [
      "ep 4130 : reward 406.0\r",
      "ep 4131 : reward 500.0\r"
     ]
    },
    {
     "name": "stdout",
     "output_type": "stream",
     "text": [
      "ep 4132 : reward 500.0\r",
      "ep 4133 : reward 421.0\r"
     ]
    },
    {
     "name": "stdout",
     "output_type": "stream",
     "text": [
      "ep 4134 : reward 500.0\r",
      "ep 4135 : reward 500.0\r"
     ]
    },
    {
     "name": "stdout",
     "output_type": "stream",
     "text": [
      "ep 4136 : reward 397.0\r",
      "ep 4137 : reward 218.0\r",
      "ep 4138 : reward 401.0\r"
     ]
    },
    {
     "name": "stdout",
     "output_type": "stream",
     "text": [
      "ep 4139 : reward 404.0\r",
      "ep 4140 : reward 500.0\r"
     ]
    },
    {
     "name": "stdout",
     "output_type": "stream",
     "text": [
      "ep 4141 : reward 382.0\r",
      "ep 4142 : reward 263.0\r",
      "ep 4143 : reward 265.0\r"
     ]
    },
    {
     "name": "stdout",
     "output_type": "stream",
     "text": [
      "ep 4144 : reward 251.0\r",
      "ep 4145 : reward 330.0\r",
      "ep 4146 : reward 399.0\r"
     ]
    },
    {
     "name": "stdout",
     "output_type": "stream",
     "text": [
      "ep 4147 : reward 238.0\r",
      "ep 4148 : reward 246.0\r",
      "ep 4149 : reward 390.0\r"
     ]
    },
    {
     "name": "stdout",
     "output_type": "stream",
     "text": [
      "ep 4150 : reward 247.0\r",
      "ep 4151 : reward 391.0\r",
      "ep 4152 : reward 388.0\r"
     ]
    },
    {
     "name": "stdout",
     "output_type": "stream",
     "text": [
      "ep 4153 : reward 187.0\r",
      "ep 4154 : reward 273.0\r",
      "ep 4155 : reward 390.0\r"
     ]
    },
    {
     "name": "stdout",
     "output_type": "stream",
     "text": [
      "ep 4156 : reward 249.0\r",
      "ep 4157 : reward 389.0\r",
      "ep 4158 : reward 265.0\r"
     ]
    },
    {
     "name": "stdout",
     "output_type": "stream",
     "text": [
      "ep 4159 : reward 323.0\r",
      "ep 4160 : reward 259.0\r",
      "ep 4161 : reward 251.0\r"
     ]
    },
    {
     "name": "stdout",
     "output_type": "stream",
     "text": [
      "ep 4162 : reward 250.0\r",
      "ep 4163 : reward 191.0\r",
      "ep 4164 : reward 234.0\r",
      "ep 4165 : reward 251.0\r"
     ]
    },
    {
     "name": "stdout",
     "output_type": "stream",
     "text": [
      "ep 4166 : reward 239.0\r",
      "ep 4167 : reward 342.0\r"
     ]
    },
    {
     "name": "stdout",
     "output_type": "stream",
     "text": [
      "ep 4168 : reward 500.0\r",
      "ep 4169 : reward 500.0\r"
     ]
    },
    {
     "name": "stdout",
     "output_type": "stream",
     "text": [
      "ep 4170 : reward 472.0\r",
      "ep 4171 : reward 500.0\r"
     ]
    },
    {
     "name": "stdout",
     "output_type": "stream",
     "text": [
      "ep 4172 : reward 406.0\r",
      "ep 4173 : reward 400.0\r"
     ]
    },
    {
     "name": "stdout",
     "output_type": "stream",
     "text": [
      "ep 4174 : reward 410.0\r",
      "ep 4175 : reward 391.0\r",
      "ep 4176 : reward 252.0\r"
     ]
    },
    {
     "name": "stdout",
     "output_type": "stream",
     "text": [
      "ep 4177 : reward 253.0\r",
      "ep 4178 : reward 252.0\r",
      "ep 4179 : reward 267.0\r"
     ]
    },
    {
     "name": "stdout",
     "output_type": "stream",
     "text": [
      "ep 4180 : reward 241.0\r",
      "ep 4181 : reward 252.0\r",
      "ep 4182 : reward 243.0\r"
     ]
    },
    {
     "name": "stdout",
     "output_type": "stream",
     "text": [
      "ep 4183 : reward 189.0\r",
      "ep 4184 : reward 246.0\r",
      "ep 4185 : reward 236.0\r"
     ]
    },
    {
     "name": "stdout",
     "output_type": "stream",
     "text": [
      "ep 4186 : reward 243.0\r",
      "ep 4187 : reward 205.0\r",
      "ep 4188 : reward 248.0\r",
      "ep 4189 : reward 169.0\r"
     ]
    },
    {
     "name": "stdout",
     "output_type": "stream",
     "text": [
      "ep 4190 : reward 254.0\r",
      "ep 4191 : reward 243.0\r",
      "ep 4192 : reward 95.0\r",
      "ep 4193 : reward 185.0\r"
     ]
    },
    {
     "name": "stdout",
     "output_type": "stream",
     "text": [
      "ep 4194 : reward 239.0\r",
      "ep 4195 : reward 256.0\r",
      "ep 4196 : reward 268.0\r"
     ]
    },
    {
     "name": "stdout",
     "output_type": "stream",
     "text": [
      "ep 4197 : reward 254.0\r",
      "ep 4198 : reward 190.0\r",
      "ep 4199 : reward 369.0\r"
     ]
    },
    {
     "name": "stdout",
     "output_type": "stream",
     "text": [
      "ep 4200 : reward 184.0\r",
      "ep 4201 : reward 266.0\r",
      "ep 4202 : reward 95.0\r",
      "ep 4203 : reward 106.0\r",
      "ep 4204 : reward 113.0\r"
     ]
    },
    {
     "name": "stdout",
     "output_type": "stream",
     "text": [
      "ep 4205 : reward 256.0\r",
      "ep 4206 : reward 328.0\r",
      "ep 4207 : reward 323.0\r"
     ]
    },
    {
     "name": "stdout",
     "output_type": "stream",
     "text": [
      "ep 4208 : reward 250.0\r",
      "ep 4209 : reward 394.0\r",
      "ep 4210 : reward 174.0\r"
     ]
    },
    {
     "name": "stdout",
     "output_type": "stream",
     "text": [
      "ep 4211 : reward 403.0\r",
      "ep 4212 : reward 266.0\r",
      "ep 4213 : reward 269.0\r",
      "ep 4214 : reward 99.0\r"
     ]
    },
    {
     "name": "stdout",
     "output_type": "stream",
     "text": [
      "ep 4215 : reward 90.0\r",
      "ep 4216 : reward 238.0\r",
      "ep 4217 : reward 229.0\r",
      "ep 4218 : reward 250.0\r"
     ]
    },
    {
     "name": "stdout",
     "output_type": "stream",
     "text": [
      "ep 4219 : reward 256.0\r",
      "ep 4220 : reward 388.0\r",
      "ep 4221 : reward 262.0\r"
     ]
    },
    {
     "name": "stdout",
     "output_type": "stream",
     "text": [
      "ep 4222 : reward 346.0\r",
      "ep 4223 : reward 340.0\r",
      "ep 4224 : reward 400.0\r"
     ]
    },
    {
     "name": "stdout",
     "output_type": "stream",
     "text": [
      "ep 4225 : reward 500.0\r",
      "ep 4226 : reward 172.0\r",
      "ep 4227 : reward 345.0\r"
     ]
    },
    {
     "name": "stdout",
     "output_type": "stream",
     "text": [
      "ep 4228 : reward 367.0\r",
      "ep 4229 : reward 400.0\r",
      "ep 4230 : reward 330.0\r"
     ]
    },
    {
     "name": "stdout",
     "output_type": "stream",
     "text": [
      "ep 4231 : reward 265.0\r",
      "ep 4232 : reward 265.0\r",
      "ep 4233 : reward 500.0\r"
     ]
    },
    {
     "name": "stdout",
     "output_type": "stream",
     "text": [
      "ep 4234 : reward 325.0\r",
      "ep 4235 : reward 98.0\r",
      "ep 4236 : reward 106.0\r",
      "ep 4237 : reward 181.0\r",
      "ep 4238 : reward 96.0\r"
     ]
    },
    {
     "name": "stdout",
     "output_type": "stream",
     "text": [
      "ep 4239 : reward 183.0\r",
      "ep 4240 : reward 251.0\r",
      "ep 4241 : reward 122.0\r",
      "ep 4242 : reward 258.0\r"
     ]
    },
    {
     "name": "stdout",
     "output_type": "stream",
     "text": [
      "ep 4243 : reward 184.0\r",
      "ep 4244 : reward 184.0\r",
      "ep 4245 : reward 245.0\r",
      "ep 4246 : reward 252.0\r"
     ]
    },
    {
     "name": "stdout",
     "output_type": "stream",
     "text": [
      "ep 4247 : reward 321.0\r",
      "ep 4248 : reward 95.0\r",
      "ep 4249 : reward 95.0\r",
      "ep 4250 : reward 106.0\r",
      "ep 4251 : reward 232.0\r"
     ]
    },
    {
     "name": "stdout",
     "output_type": "stream",
     "text": [
      "ep 4252 : reward 119.0\r",
      "ep 4253 : reward 193.0\r",
      "ep 4254 : reward 256.0\r",
      "ep 4255 : reward 104.0\r"
     ]
    },
    {
     "name": "stdout",
     "output_type": "stream",
     "text": [
      "ep 4256 : reward 250.0\r",
      "ep 4257 : reward 248.0\r",
      "ep 4258 : reward 235.0\r"
     ]
    },
    {
     "name": "stdout",
     "output_type": "stream",
     "text": [
      "ep 4259 : reward 251.0\r",
      "ep 4260 : reward 252.0\r",
      "ep 4261 : reward 249.0\r"
     ]
    },
    {
     "name": "stdout",
     "output_type": "stream",
     "text": [
      "ep 4262 : reward 248.0\r",
      "ep 4263 : reward 258.0\r",
      "ep 4264 : reward 252.0\r"
     ]
    },
    {
     "name": "stdout",
     "output_type": "stream",
     "text": [
      "ep 4265 : reward 264.0\r",
      "ep 4266 : reward 234.0\r",
      "ep 4267 : reward 254.0\r"
     ]
    },
    {
     "name": "stdout",
     "output_type": "stream",
     "text": [
      "ep 4268 : reward 450.0\r",
      "ep 4269 : reward 500.0\r"
     ]
    },
    {
     "name": "stdout",
     "output_type": "stream",
     "text": [
      "ep 4270 : reward 352.0\r",
      "ep 4271 : reward 456.0\r"
     ]
    },
    {
     "name": "stdout",
     "output_type": "stream",
     "text": [
      "ep 4272 : reward 500.0\r",
      "ep 4273 : reward 245.0\r",
      "ep 4274 : reward 333.0\r"
     ]
    },
    {
     "name": "stdout",
     "output_type": "stream",
     "text": [
      "ep 4275 : reward 351.0\r",
      "ep 4276 : reward 377.0\r"
     ]
    },
    {
     "name": "stdout",
     "output_type": "stream",
     "text": [
      "ep 4277 : reward 500.0\r",
      "ep 4278 : reward 500.0\r"
     ]
    },
    {
     "name": "stdout",
     "output_type": "stream",
     "text": [
      "ep 4279 : reward 500.0\r",
      "ep 4280 : reward 500.0\r"
     ]
    },
    {
     "name": "stdout",
     "output_type": "stream",
     "text": [
      "ep 4281 : reward 500.0\r",
      "ep 4282 : reward 394.0\r"
     ]
    },
    {
     "name": "stdout",
     "output_type": "stream",
     "text": [
      "ep 4283 : reward 380.0\r",
      "ep 4284 : reward 339.0\r"
     ]
    },
    {
     "name": "stdout",
     "output_type": "stream",
     "text": [
      "ep 4285 : reward 418.0\r",
      "ep 4286 : reward 482.0\r",
      "ep 4287 : reward 264.0\r"
     ]
    },
    {
     "name": "stdout",
     "output_type": "stream",
     "text": [
      "ep 4288 : reward 240.0\r",
      "ep 4289 : reward 242.0\r",
      "ep 4290 : reward 182.0\r",
      "ep 4291 : reward 102.0\r"
     ]
    },
    {
     "name": "stdout",
     "output_type": "stream",
     "text": [
      "ep 4292 : reward 100.0\r",
      "ep 4293 : reward 99.0\r",
      "ep 4294 : reward 112.0\r",
      "ep 4295 : reward 100.0\r"
     ]
    },
    {
     "name": "stdout",
     "output_type": "stream",
     "text": [
      "ep 4296 : reward 235.0\r",
      "ep 4297 : reward 235.0\r",
      "ep 4298 : reward 403.0\r"
     ]
    },
    {
     "name": "stdout",
     "output_type": "stream",
     "text": [
      "ep 4299 : reward 500.0\r",
      "ep 4300 : reward 500.0\r"
     ]
    },
    {
     "name": "stdout",
     "output_type": "stream",
     "text": [
      "ep 4301 : reward 406.0\r",
      "ep 4302 : reward 389.0\r",
      "ep 4303 : reward 269.0\r"
     ]
    },
    {
     "name": "stdout",
     "output_type": "stream",
     "text": [
      "ep 4304 : reward 404.0\r",
      "ep 4305 : reward 242.0\r",
      "ep 4306 : reward 323.0\r"
     ]
    },
    {
     "name": "stdout",
     "output_type": "stream",
     "text": [
      "ep 4307 : reward 265.0\r",
      "ep 4308 : reward 176.0\r",
      "ep 4309 : reward 256.0\r",
      "ep 4310 : reward 173.0\r"
     ]
    },
    {
     "name": "stdout",
     "output_type": "stream",
     "text": [
      "ep 4311 : reward 309.0\r",
      "ep 4312 : reward 174.0\r",
      "ep 4313 : reward 196.0\r"
     ]
    },
    {
     "name": "stdout",
     "output_type": "stream",
     "text": [
      "ep 4314 : reward 388.0\r",
      "ep 4315 : reward 249.0\r"
     ]
    },
    {
     "name": "stdout",
     "output_type": "stream",
     "text": [
      "ep 4316 : reward 241.0\r",
      "ep 4317 : reward 248.0\r",
      "ep 4318 : reward 241.0\r",
      "ep 4319 : reward 97.0\r"
     ]
    },
    {
     "name": "stdout",
     "output_type": "stream",
     "text": [
      "ep 4320 : reward 236.0\r",
      "ep 4321 : reward 500.0\r"
     ]
    },
    {
     "name": "stdout",
     "output_type": "stream",
     "text": [
      "ep 4322 : reward 500.0\r",
      "ep 4323 : reward 482.0\r"
     ]
    },
    {
     "name": "stdout",
     "output_type": "stream",
     "text": [
      "ep 4324 : reward 485.0\r",
      "ep 4325 : reward 495.0\r"
     ]
    },
    {
     "name": "stdout",
     "output_type": "stream",
     "text": [
      "ep 4326 : reward 403.0\r",
      "ep 4327 : reward 500.0\r"
     ]
    },
    {
     "name": "stdout",
     "output_type": "stream",
     "text": [
      "ep 4328 : reward 500.0\r",
      "ep 4329 : reward 500.0\r",
      "ep 4330 : reward 278.0\r"
     ]
    },
    {
     "name": "stdout",
     "output_type": "stream",
     "text": [
      "ep 4331 : reward 380.0\r",
      "ep 4332 : reward 265.0\r",
      "ep 4333 : reward 345.0\r"
     ]
    },
    {
     "name": "stdout",
     "output_type": "stream",
     "text": [
      "ep 4334 : reward 117.0\r",
      "ep 4335 : reward 239.0\r",
      "ep 4336 : reward 202.0\r"
     ]
    },
    {
     "name": "stdout",
     "output_type": "stream",
     "text": [
      "ep 4337 : reward 315.0\r",
      "ep 4338 : reward 236.0\r",
      "ep 4339 : reward 276.0\r"
     ]
    },
    {
     "name": "stdout",
     "output_type": "stream",
     "text": [
      "ep 4340 : reward 370.0\r",
      "ep 4341 : reward 107.0\r",
      "ep 4342 : reward 203.0\r",
      "ep 4343 : reward 169.0\r"
     ]
    },
    {
     "name": "stdout",
     "output_type": "stream",
     "text": [
      "ep 4344 : reward 242.0\r",
      "ep 4345 : reward 96.0\r",
      "ep 4346 : reward 100.0\r",
      "ep 4347 : reward 105.0\r",
      "ep 4348 : reward 102.0\r"
     ]
    },
    {
     "name": "stdout",
     "output_type": "stream",
     "text": [
      "ep 4349 : reward 108.0\r",
      "ep 4350 : reward 106.0\r",
      "ep 4351 : reward 230.0\r",
      "ep 4352 : reward 249.0\r"
     ]
    },
    {
     "name": "stdout",
     "output_type": "stream",
     "text": [
      "ep 4353 : reward 99.0\r",
      "ep 4354 : reward 33.0\r",
      "ep 4355 : reward 100.0\r",
      "ep 4356 : reward 98.0\r",
      "ep 4357 : reward 103.0\r",
      "ep 4358 : reward 107.0\r"
     ]
    },
    {
     "name": "stdout",
     "output_type": "stream",
     "text": [
      "ep 4359 : reward 91.0\r",
      "ep 4360 : reward 27.0\r",
      "ep 4361 : reward 88.0\r",
      "ep 4362 : reward 87.0\r",
      "ep 4363 : reward 98.0\r",
      "ep 4364 : reward 96.0\r"
     ]
    },
    {
     "name": "stdout",
     "output_type": "stream",
     "text": [
      "ep 4365 : reward 106.0\r",
      "ep 4366 : reward 102.0\r",
      "ep 4367 : reward 237.0\r",
      "ep 4368 : reward 236.0\r"
     ]
    },
    {
     "name": "stdout",
     "output_type": "stream",
     "text": [
      "ep 4369 : reward 241.0\r",
      "ep 4370 : reward 239.0\r",
      "ep 4371 : reward 105.0\r",
      "ep 4372 : reward 117.0\r"
     ]
    },
    {
     "name": "stdout",
     "output_type": "stream",
     "text": [
      "ep 4373 : reward 248.0\r",
      "ep 4374 : reward 326.0\r",
      "ep 4375 : reward 246.0\r"
     ]
    },
    {
     "name": "stdout",
     "output_type": "stream",
     "text": [
      "ep 4376 : reward 257.0\r",
      "ep 4377 : reward 245.0\r",
      "ep 4378 : reward 264.0\r"
     ]
    },
    {
     "name": "stdout",
     "output_type": "stream",
     "text": [
      "ep 4379 : reward 328.0\r",
      "ep 4380 : reward 386.0\r",
      "ep 4381 : reward 386.0\r"
     ]
    },
    {
     "name": "stdout",
     "output_type": "stream",
     "text": [
      "ep 4382 : reward 385.0\r",
      "ep 4383 : reward 345.0\r",
      "ep 4384 : reward 399.0\r"
     ]
    },
    {
     "name": "stdout",
     "output_type": "stream",
     "text": [
      "ep 4385 : reward 328.0\r",
      "ep 4386 : reward 322.0\r",
      "ep 4387 : reward 377.0\r"
     ]
    },
    {
     "name": "stdout",
     "output_type": "stream",
     "text": [
      "ep 4388 : reward 380.0\r",
      "ep 4389 : reward 393.0\r",
      "ep 4390 : reward 338.0\r"
     ]
    },
    {
     "name": "stdout",
     "output_type": "stream",
     "text": [
      "ep 4391 : reward 261.0\r",
      "ep 4392 : reward 200.0\r",
      "ep 4393 : reward 258.0\r"
     ]
    },
    {
     "name": "stdout",
     "output_type": "stream",
     "text": [
      "ep 4394 : reward 235.0\r",
      "ep 4395 : reward 104.0\r",
      "ep 4396 : reward 500.0\r"
     ]
    },
    {
     "name": "stdout",
     "output_type": "stream",
     "text": [
      "ep 4397 : reward 500.0\r",
      "ep 4398 : reward 500.0\r"
     ]
    },
    {
     "name": "stdout",
     "output_type": "stream",
     "text": [
      "ep 4399 : reward 500.0\r",
      "ep 4400 : reward 492.0\r"
     ]
    },
    {
     "name": "stdout",
     "output_type": "stream",
     "text": [
      "ep 4401 : reward 330.0\r",
      "ep 4402 : reward 365.0\r",
      "ep 4403 : reward 382.0\r"
     ]
    },
    {
     "name": "stdout",
     "output_type": "stream",
     "text": [
      "ep 4404 : reward 90.0\r",
      "ep 4405 : reward 257.0\r",
      "ep 4406 : reward 255.0\r"
     ]
    },
    {
     "name": "stdout",
     "output_type": "stream",
     "text": [
      "ep 4407 : reward 245.0\r",
      "ep 4408 : reward 249.0\r",
      "ep 4409 : reward 500.0\r"
     ]
    },
    {
     "name": "stdout",
     "output_type": "stream",
     "text": [
      "ep 4410 : reward 500.0\r",
      "ep 4411 : reward 265.0\r",
      "ep 4412 : reward 500.0\r"
     ]
    },
    {
     "name": "stdout",
     "output_type": "stream",
     "text": [
      "ep 4413 : reward 411.0\r",
      "ep 4414 : reward 393.0\r",
      "ep 4415 : reward 391.0\r"
     ]
    },
    {
     "name": "stdout",
     "output_type": "stream",
     "text": [
      "ep 4416 : reward 387.0\r",
      "ep 4417 : reward 345.0\r",
      "ep 4418 : reward 411.0\r"
     ]
    },
    {
     "name": "stdout",
     "output_type": "stream",
     "text": [
      "ep 4419 : reward 385.0\r",
      "ep 4420 : reward 259.0\r",
      "ep 4421 : reward 321.0\r"
     ]
    },
    {
     "name": "stdout",
     "output_type": "stream",
     "text": [
      "ep 4422 : reward 340.0\r",
      "ep 4423 : reward 255.0\r",
      "ep 4424 : reward 264.0\r"
     ]
    },
    {
     "name": "stdout",
     "output_type": "stream",
     "text": [
      "ep 4425 : reward 322.0\r",
      "ep 4426 : reward 277.0\r",
      "ep 4427 : reward 185.0\r"
     ]
    },
    {
     "name": "stdout",
     "output_type": "stream",
     "text": [
      "ep 4428 : reward 242.0\r",
      "ep 4429 : reward 349.0\r"
     ]
    },
    {
     "name": "stdout",
     "output_type": "stream",
     "text": [
      "ep 4430 : reward 500.0\r",
      "ep 4431 : reward 500.0\r",
      "ep 4432 : reward 262.0\r"
     ]
    },
    {
     "name": "stdout",
     "output_type": "stream",
     "text": [
      "ep 4433 : reward 398.0\r",
      "ep 4434 : reward 261.0\r",
      "ep 4435 : reward 267.0\r"
     ]
    },
    {
     "name": "stdout",
     "output_type": "stream",
     "text": [
      "ep 4436 : reward 236.0\r",
      "ep 4437 : reward 393.0\r",
      "ep 4438 : reward 400.0\r"
     ]
    },
    {
     "name": "stdout",
     "output_type": "stream",
     "text": [
      "ep 4439 : reward 186.0\r",
      "ep 4440 : reward 100.0\r",
      "ep 4441 : reward 256.0\r",
      "ep 4442 : reward 240.0\r"
     ]
    },
    {
     "name": "stdout",
     "output_type": "stream",
     "text": [
      "ep 4443 : reward 190.0\r",
      "ep 4444 : reward 249.0\r",
      "ep 4445 : reward 265.0\r"
     ]
    },
    {
     "name": "stdout",
     "output_type": "stream",
     "text": [
      "ep 4446 : reward 257.0\r",
      "ep 4447 : reward 181.0\r",
      "ep 4448 : reward 367.0\r"
     ]
    },
    {
     "name": "stdout",
     "output_type": "stream",
     "text": [
      "ep 4449 : reward 248.0\r",
      "ep 4450 : reward 260.0\r",
      "ep 4451 : reward 390.0\r"
     ]
    },
    {
     "name": "stdout",
     "output_type": "stream",
     "text": [
      "ep 4452 : reward 393.0\r",
      "ep 4453 : reward 409.0\r"
     ]
    },
    {
     "name": "stdout",
     "output_type": "stream",
     "text": [
      "ep 4454 : reward 401.0\r",
      "ep 4455 : reward 233.0\r",
      "ep 4456 : reward 255.0\r"
     ]
    },
    {
     "name": "stdout",
     "output_type": "stream",
     "text": [
      "ep 4457 : reward 262.0\r",
      "ep 4458 : reward 257.0\r",
      "ep 4459 : reward 244.0\r"
     ]
    },
    {
     "name": "stdout",
     "output_type": "stream",
     "text": [
      "ep 4460 : reward 248.0\r",
      "ep 4461 : reward 184.0\r",
      "ep 4462 : reward 242.0\r",
      "ep 4463 : reward 231.0\r"
     ]
    },
    {
     "name": "stdout",
     "output_type": "stream",
     "text": [
      "ep 4464 : reward 262.0\r",
      "ep 4465 : reward 262.0\r",
      "ep 4466 : reward 182.0\r"
     ]
    },
    {
     "name": "stdout",
     "output_type": "stream",
     "text": [
      "ep 4467 : reward 329.0\r",
      "ep 4468 : reward 250.0\r",
      "ep 4469 : reward 248.0\r"
     ]
    },
    {
     "name": "stdout",
     "output_type": "stream",
     "text": [
      "ep 4470 : reward 372.0\r",
      "ep 4471 : reward 261.0\r",
      "ep 4472 : reward 101.0\r",
      "ep 4473 : reward 116.0\r"
     ]
    },
    {
     "name": "stdout",
     "output_type": "stream",
     "text": [
      "ep 4474 : reward 379.0\r",
      "ep 4475 : reward 177.0\r",
      "ep 4476 : reward 195.0\r",
      "ep 4477 : reward 242.0\r"
     ]
    },
    {
     "name": "stdout",
     "output_type": "stream",
     "text": [
      "ep 4478 : reward 104.0\r",
      "ep 4479 : reward 109.0\r",
      "ep 4480 : reward 41.0\r",
      "ep 4481 : reward 89.0\r",
      "ep 4482 : reward 87.0\r",
      "ep 4483 : reward 96.0\r"
     ]
    },
    {
     "name": "stdout",
     "output_type": "stream",
     "text": [
      "ep 4484 : reward 93.0\r",
      "ep 4485 : reward 98.0\r",
      "ep 4486 : reward 108.0\r",
      "ep 4487 : reward 107.0\r",
      "ep 4488 : reward 112.0\r"
     ]
    },
    {
     "name": "stdout",
     "output_type": "stream",
     "text": [
      "ep 4489 : reward 186.0\r",
      "ep 4490 : reward 173.0\r",
      "ep 4491 : reward 92.0\r",
      "ep 4492 : reward 94.0\r",
      "ep 4493 : reward 27.0\r"
     ]
    },
    {
     "name": "stdout",
     "output_type": "stream",
     "text": [
      "ep 4494 : reward 87.0\r",
      "ep 4495 : reward 45.0\r",
      "ep 4496 : reward 93.0\r",
      "ep 4497 : reward 220.0\r",
      "ep 4498 : reward 106.0\r"
     ]
    },
    {
     "name": "stdout",
     "output_type": "stream",
     "text": [
      "ep 4499 : reward 240.0\r",
      "ep 4500 : reward 349.0\r",
      "ep 4501 : reward 415.0\r"
     ]
    },
    {
     "name": "stdout",
     "output_type": "stream",
     "text": [
      "ep 4502 : reward 500.0\r",
      "ep 4503 : reward 500.0\r"
     ]
    },
    {
     "name": "stdout",
     "output_type": "stream",
     "text": [
      "ep 4504 : reward 500.0\r",
      "ep 4505 : reward 500.0\r"
     ]
    },
    {
     "name": "stdout",
     "output_type": "stream",
     "text": [
      "ep 4506 : reward 500.0\r",
      "ep 4507 : reward 500.0\r"
     ]
    },
    {
     "name": "stdout",
     "output_type": "stream",
     "text": [
      "ep 4508 : reward 500.0\r",
      "ep 4509 : reward 239.0\r",
      "ep 4510 : reward 100.0\r",
      "ep 4511 : reward 242.0\r"
     ]
    },
    {
     "name": "stdout",
     "output_type": "stream",
     "text": [
      "ep 4512 : reward 181.0\r",
      "ep 4513 : reward 189.0\r",
      "ep 4514 : reward 110.0\r",
      "ep 4515 : reward 257.0\r"
     ]
    },
    {
     "name": "stdout",
     "output_type": "stream",
     "text": [
      "ep 4516 : reward 252.0\r",
      "ep 4517 : reward 372.0\r",
      "ep 4518 : reward 248.0\r"
     ]
    },
    {
     "name": "stdout",
     "output_type": "stream",
     "text": [
      "ep 4519 : reward 500.0\r",
      "ep 4520 : reward 401.0\r"
     ]
    },
    {
     "name": "stdout",
     "output_type": "stream",
     "text": [
      "ep 4521 : reward 495.0\r",
      "ep 4522 : reward 500.0\r"
     ]
    },
    {
     "name": "stdout",
     "output_type": "stream",
     "text": [
      "ep 4523 : reward 328.0\r",
      "ep 4524 : reward 104.0\r",
      "ep 4525 : reward 186.0\r",
      "ep 4526 : reward 243.0\r"
     ]
    },
    {
     "name": "stdout",
     "output_type": "stream",
     "text": [
      "ep 4527 : reward 193.0\r",
      "ep 4528 : reward 244.0\r",
      "ep 4529 : reward 167.0\r",
      "ep 4530 : reward 238.0\r"
     ]
    },
    {
     "name": "stdout",
     "output_type": "stream",
     "text": [
      "ep 4531 : reward 244.0\r",
      "ep 4532 : reward 252.0\r",
      "ep 4533 : reward 249.0\r"
     ]
    },
    {
     "name": "stdout",
     "output_type": "stream",
     "text": [
      "ep 4534 : reward 218.0\r",
      "ep 4535 : reward 96.0\r",
      "ep 4536 : reward 39.0\r",
      "ep 4537 : reward 28.0\r",
      "ep 4538 : reward 96.0\r",
      "ep 4539 : reward 99.0\r"
     ]
    },
    {
     "name": "stdout",
     "output_type": "stream",
     "text": [
      "ep 4540 : reward 92.0\r",
      "ep 4541 : reward 105.0\r",
      "ep 4542 : reward 166.0\r",
      "ep 4543 : reward 124.0\r"
     ]
    },
    {
     "name": "stdout",
     "output_type": "stream",
     "text": [
      "ep 4544 : reward 195.0\r",
      "ep 4545 : reward 96.0\r",
      "ep 4546 : reward 106.0\r",
      "ep 4547 : reward 246.0\r"
     ]
    },
    {
     "name": "stdout",
     "output_type": "stream",
     "text": [
      "ep 4548 : reward 254.0\r",
      "ep 4549 : reward 253.0\r",
      "ep 4550 : reward 96.0\r",
      "ep 4551 : reward 94.0\r",
      "ep 4552 : reward 94.0\r"
     ]
    },
    {
     "name": "stdout",
     "output_type": "stream",
     "text": [
      "ep 4553 : reward 96.0\r",
      "ep 4554 : reward 103.0\r",
      "ep 4555 : reward 173.0\r",
      "ep 4556 : reward 184.0\r"
     ]
    },
    {
     "name": "stdout",
     "output_type": "stream",
     "text": [
      "ep 4557 : reward 233.0\r",
      "ep 4558 : reward 206.0\r",
      "ep 4559 : reward 105.0\r",
      "ep 4560 : reward 183.0\r"
     ]
    },
    {
     "name": "stdout",
     "output_type": "stream",
     "text": [
      "ep 4561 : reward 244.0\r",
      "ep 4562 : reward 248.0\r",
      "ep 4563 : reward 183.0\r",
      "ep 4564 : reward 262.0\r"
     ]
    },
    {
     "name": "stdout",
     "output_type": "stream",
     "text": [
      "ep 4565 : reward 250.0\r",
      "ep 4566 : reward 396.0\r",
      "ep 4567 : reward 385.0\r"
     ]
    },
    {
     "name": "stdout",
     "output_type": "stream",
     "text": [
      "ep 4568 : reward 334.0\r",
      "ep 4569 : reward 114.0\r",
      "ep 4570 : reward 102.0\r",
      "ep 4571 : reward 99.0\r",
      "ep 4572 : reward 29.0\r",
      "ep 4573 : reward 28.0\r"
     ]
    },
    {
     "name": "stdout",
     "output_type": "stream",
     "text": [
      "ep 4574 : reward 35.0\r",
      "ep 4575 : reward 94.0\r",
      "ep 4576 : reward 97.0\r",
      "ep 4577 : reward 185.0\r"
     ]
    },
    {
     "name": "stdout",
     "output_type": "stream",
     "text": [
      "ep 4578 : reward 382.0\r",
      "ep 4579 : reward 350.0\r"
     ]
    },
    {
     "name": "stdout",
     "output_type": "stream",
     "text": [
      "ep 4580 : reward 500.0\r",
      "ep 4581 : reward 256.0\r",
      "ep 4582 : reward 191.0\r"
     ]
    },
    {
     "name": "stdout",
     "output_type": "stream",
     "text": [
      "ep 4583 : reward 336.0\r",
      "ep 4584 : reward 332.0\r",
      "ep 4585 : reward 418.0\r"
     ]
    },
    {
     "name": "stdout",
     "output_type": "stream",
     "text": [
      "ep 4586 : reward 500.0\r",
      "ep 4587 : reward 500.0\r"
     ]
    },
    {
     "name": "stdout",
     "output_type": "stream",
     "text": [
      "ep 4588 : reward 500.0\r",
      "ep 4589 : reward 500.0\r"
     ]
    },
    {
     "name": "stdout",
     "output_type": "stream",
     "text": [
      "ep 4590 : reward 500.0\r",
      "ep 4591 : reward 500.0\r",
      "ep 4592 : reward 255.0\r"
     ]
    },
    {
     "name": "stdout",
     "output_type": "stream",
     "text": [
      "ep 4593 : reward 500.0\r",
      "ep 4594 : reward 281.0\r",
      "ep 4595 : reward 353.0\r"
     ]
    },
    {
     "name": "stdout",
     "output_type": "stream",
     "text": [
      "ep 4596 : reward 252.0\r",
      "ep 4597 : reward 264.0\r",
      "ep 4598 : reward 399.0\r"
     ]
    },
    {
     "name": "stdout",
     "output_type": "stream",
     "text": [
      "ep 4599 : reward 99.0\r",
      "ep 4600 : reward 109.0\r",
      "ep 4601 : reward 103.0\r",
      "ep 4602 : reward 229.0\r"
     ]
    },
    {
     "name": "stdout",
     "output_type": "stream",
     "text": [
      "ep 4603 : reward 113.0\r",
      "ep 4604 : reward 255.0\r",
      "ep 4605 : reward 246.0\r"
     ]
    },
    {
     "name": "stdout",
     "output_type": "stream",
     "text": [
      "ep 4606 : reward 261.0\r",
      "ep 4607 : reward 119.0\r",
      "ep 4608 : reward 98.0\r",
      "ep 4609 : reward 91.0\r",
      "ep 4610 : reward 104.0\r"
     ]
    },
    {
     "name": "stdout",
     "output_type": "stream",
     "text": [
      "ep 4611 : reward 403.0\r",
      "ep 4612 : reward 348.0\r",
      "ep 4613 : reward 380.0\r"
     ]
    },
    {
     "name": "stdout",
     "output_type": "stream",
     "text": [
      "ep 4614 : reward 377.0\r",
      "ep 4615 : reward 338.0\r",
      "ep 4616 : reward 242.0\r"
     ]
    },
    {
     "name": "stdout",
     "output_type": "stream",
     "text": [
      "ep 4617 : reward 250.0\r",
      "ep 4618 : reward 381.0\r",
      "ep 4619 : reward 264.0\r"
     ]
    },
    {
     "name": "stdout",
     "output_type": "stream",
     "text": [
      "ep 4620 : reward 351.0\r",
      "ep 4621 : reward 391.0\r",
      "ep 4622 : reward 275.0\r"
     ]
    },
    {
     "name": "stdout",
     "output_type": "stream",
     "text": [
      "ep 4623 : reward 252.0\r",
      "ep 4624 : reward 373.0\r",
      "ep 4625 : reward 388.0\r"
     ]
    },
    {
     "name": "stdout",
     "output_type": "stream",
     "text": [
      "ep 4626 : reward 254.0\r",
      "ep 4627 : reward 117.0\r",
      "ep 4628 : reward 273.0\r",
      "ep 4629 : reward 235.0\r"
     ]
    },
    {
     "name": "stdout",
     "output_type": "stream",
     "text": [
      "ep 4630 : reward 242.0\r",
      "ep 4631 : reward 181.0\r",
      "ep 4632 : reward 256.0\r",
      "ep 4633 : reward 96.0\r"
     ]
    },
    {
     "name": "stdout",
     "output_type": "stream",
     "text": [
      "ep 4634 : reward 90.0\r",
      "ep 4635 : reward 38.0\r",
      "ep 4636 : reward 175.0\r",
      "ep 4637 : reward 92.0\r",
      "ep 4638 : reward 34.0\r",
      "ep 4639 : reward 96.0\r"
     ]
    },
    {
     "name": "stdout",
     "output_type": "stream",
     "text": [
      "ep 4640 : reward 86.0\r",
      "ep 4641 : reward 104.0\r",
      "ep 4642 : reward 183.0\r",
      "ep 4643 : reward 30.0\r",
      "ep 4644 : reward 27.0\r",
      "ep 4645 : reward 31.0\r",
      "ep 4646 : reward 31.0\r"
     ]
    },
    {
     "name": "stdout",
     "output_type": "stream",
     "text": [
      "ep 4647 : reward 33.0\r",
      "ep 4648 : reward 236.0\r",
      "ep 4649 : reward 96.0\r",
      "ep 4650 : reward 316.0\r"
     ]
    },
    {
     "name": "stdout",
     "output_type": "stream",
     "text": [
      "ep 4651 : reward 253.0\r",
      "ep 4652 : reward 235.0\r",
      "ep 4653 : reward 111.0\r",
      "ep 4654 : reward 246.0\r"
     ]
    },
    {
     "name": "stdout",
     "output_type": "stream",
     "text": [
      "ep 4655 : reward 249.0\r",
      "ep 4656 : reward 240.0\r",
      "ep 4657 : reward 253.0\r"
     ]
    },
    {
     "name": "stdout",
     "output_type": "stream",
     "text": [
      "ep 4658 : reward 329.0\r",
      "ep 4659 : reward 110.0\r",
      "ep 4660 : reward 326.0\r",
      "ep 4661 : reward 253.0\r"
     ]
    },
    {
     "name": "stdout",
     "output_type": "stream",
     "text": [
      "ep 4662 : reward 285.0\r",
      "ep 4663 : reward 241.0\r",
      "ep 4664 : reward 256.0\r",
      "ep 4665 : reward 175.0\r"
     ]
    },
    {
     "name": "stdout",
     "output_type": "stream",
     "text": [
      "ep 4666 : reward 500.0\r",
      "ep 4667 : reward 500.0\r"
     ]
    },
    {
     "name": "stdout",
     "output_type": "stream",
     "text": [
      "ep 4668 : reward 500.0\r",
      "ep 4669 : reward 500.0\r"
     ]
    },
    {
     "name": "stdout",
     "output_type": "stream",
     "text": [
      "ep 4670 : reward 477.0\r",
      "ep 4671 : reward 500.0\r"
     ]
    },
    {
     "name": "stdout",
     "output_type": "stream",
     "text": [
      "ep 4672 : reward 414.0\r",
      "ep 4673 : reward 424.0\r"
     ]
    },
    {
     "name": "stdout",
     "output_type": "stream",
     "text": [
      "ep 4674 : reward 500.0\r",
      "ep 4675 : reward 417.0\r",
      "ep 4676 : reward 403.0\r"
     ]
    },
    {
     "name": "stdout",
     "output_type": "stream",
     "text": [
      "ep 4677 : reward 247.0\r",
      "ep 4678 : reward 283.0\r",
      "ep 4679 : reward 394.0\r"
     ]
    },
    {
     "name": "stdout",
     "output_type": "stream",
     "text": [
      "ep 4680 : reward 317.0\r",
      "ep 4681 : reward 243.0\r",
      "ep 4682 : reward 322.0\r"
     ]
    },
    {
     "name": "stdout",
     "output_type": "stream",
     "text": [
      "ep 4683 : reward 408.0\r",
      "ep 4684 : reward 312.0\r",
      "ep 4685 : reward 371.0\r"
     ]
    },
    {
     "name": "stdout",
     "output_type": "stream",
     "text": [
      "ep 4686 : reward 335.0\r",
      "ep 4687 : reward 254.0\r",
      "ep 4688 : reward 275.0\r"
     ]
    },
    {
     "name": "stdout",
     "output_type": "stream",
     "text": [
      "ep 4689 : reward 373.0\r",
      "ep 4690 : reward 239.0\r",
      "ep 4691 : reward 312.0\r"
     ]
    },
    {
     "name": "stdout",
     "output_type": "stream",
     "text": [
      "ep 4692 : reward 388.0\r",
      "ep 4693 : reward 389.0\r",
      "ep 4694 : reward 105.0\r"
     ]
    },
    {
     "name": "stdout",
     "output_type": "stream",
     "text": [
      "ep 4695 : reward 262.0\r",
      "ep 4696 : reward 500.0\r"
     ]
    },
    {
     "name": "stdout",
     "output_type": "stream",
     "text": [
      "ep 4697 : reward 500.0\r",
      "ep 4698 : reward 500.0\r"
     ]
    },
    {
     "name": "stdout",
     "output_type": "stream",
     "text": [
      "ep 4699 : reward 391.0\r",
      "ep 4700 : reward 106.0\r",
      "ep 4701 : reward 182.0\r",
      "ep 4702 : reward 245.0\r"
     ]
    },
    {
     "name": "stdout",
     "output_type": "stream",
     "text": [
      "ep 4703 : reward 191.0\r",
      "ep 4704 : reward 241.0\r",
      "ep 4705 : reward 270.0\r"
     ]
    },
    {
     "name": "stdout",
     "output_type": "stream",
     "text": [
      "ep 4706 : reward 250.0\r",
      "ep 4707 : reward 344.0\r"
     ]
    },
    {
     "name": "stdout",
     "output_type": "stream",
     "text": [
      "ep 4708 : reward 500.0\r",
      "ep 4709 : reward 337.0\r"
     ]
    },
    {
     "name": "stdout",
     "output_type": "stream",
     "text": [
      "ep 4710 : reward 500.0\r",
      "ep 4711 : reward 283.0\r",
      "ep 4712 : reward 245.0\r"
     ]
    },
    {
     "name": "stdout",
     "output_type": "stream",
     "text": [
      "ep 4713 : reward 257.0\r",
      "ep 4714 : reward 233.0\r",
      "ep 4715 : reward 104.0\r",
      "ep 4716 : reward 252.0\r"
     ]
    },
    {
     "name": "stdout",
     "output_type": "stream",
     "text": [
      "ep 4717 : reward 178.0\r",
      "ep 4718 : reward 193.0\r",
      "ep 4719 : reward 378.0\r"
     ]
    },
    {
     "name": "stdout",
     "output_type": "stream",
     "text": [
      "ep 4720 : reward 251.0\r",
      "ep 4721 : reward 500.0\r"
     ]
    },
    {
     "name": "stdout",
     "output_type": "stream",
     "text": [
      "ep 4722 : reward 500.0\r",
      "ep 4723 : reward 421.0\r"
     ]
    },
    {
     "name": "stdout",
     "output_type": "stream",
     "text": [
      "ep 4724 : reward 481.0\r",
      "ep 4725 : reward 400.0\r",
      "ep 4726 : reward 313.0\r"
     ]
    },
    {
     "name": "stdout",
     "output_type": "stream",
     "text": [
      "ep 4727 : reward 321.0\r",
      "ep 4728 : reward 265.0\r",
      "ep 4729 : reward 380.0\r"
     ]
    },
    {
     "name": "stdout",
     "output_type": "stream",
     "text": [
      "ep 4730 : reward 500.0\r",
      "ep 4731 : reward 500.0\r"
     ]
    },
    {
     "name": "stdout",
     "output_type": "stream",
     "text": [
      "ep 4732 : reward 500.0\r",
      "ep 4733 : reward 500.0\r"
     ]
    },
    {
     "name": "stdout",
     "output_type": "stream",
     "text": [
      "ep 4734 : reward 500.0\r",
      "ep 4735 : reward 500.0\r"
     ]
    },
    {
     "name": "stdout",
     "output_type": "stream",
     "text": [
      "ep 4736 : reward 500.0\r",
      "ep 4737 : reward 500.0\r"
     ]
    },
    {
     "name": "stdout",
     "output_type": "stream",
     "text": [
      "ep 4738 : reward 410.0\r",
      "ep 4739 : reward 500.0\r"
     ]
    },
    {
     "name": "stdout",
     "output_type": "stream",
     "text": [
      "ep 4740 : reward 409.0\r",
      "ep 4741 : reward 253.0\r",
      "ep 4742 : reward 241.0\r"
     ]
    },
    {
     "name": "stdout",
     "output_type": "stream",
     "text": [
      "ep 4743 : reward 324.0\r",
      "ep 4744 : reward 102.0\r",
      "ep 4745 : reward 104.0\r",
      "ep 4746 : reward 94.0\r",
      "ep 4747 : reward 100.0\r"
     ]
    },
    {
     "name": "stdout",
     "output_type": "stream",
     "text": [
      "ep 4748 : reward 204.0\r",
      "ep 4749 : reward 186.0\r",
      "ep 4750 : reward 113.0\r",
      "ep 4751 : reward 240.0\r"
     ]
    },
    {
     "name": "stdout",
     "output_type": "stream",
     "text": [
      "ep 4752 : reward 169.0\r",
      "ep 4753 : reward 255.0\r",
      "ep 4754 : reward 500.0\r"
     ]
    },
    {
     "name": "stdout",
     "output_type": "stream",
     "text": [
      "ep 4755 : reward 500.0\r",
      "ep 4756 : reward 500.0\r"
     ]
    },
    {
     "name": "stdout",
     "output_type": "stream",
     "text": [
      "ep 4757 : reward 500.0\r",
      "ep 4758 : reward 500.0\r"
     ]
    },
    {
     "name": "stdout",
     "output_type": "stream",
     "text": [
      "ep 4759 : reward 500.0\r",
      "ep 4760 : reward 111.0\r",
      "ep 4761 : reward 102.0\r",
      "ep 4762 : reward 103.0\r",
      "ep 4763 : reward 95.0\r"
     ]
    },
    {
     "name": "stdout",
     "output_type": "stream",
     "text": [
      "ep 4764 : reward 185.0\r",
      "ep 4765 : reward 105.0\r",
      "ep 4766 : reward 102.0\r",
      "ep 4767 : reward 250.0\r",
      "ep 4768 : reward 101.0\r"
     ]
    },
    {
     "name": "stdout",
     "output_type": "stream",
     "text": [
      "ep 4769 : reward 228.0\r",
      "ep 4770 : reward 112.0\r",
      "ep 4771 : reward 175.0\r",
      "ep 4772 : reward 112.0\r",
      "ep 4773 : reward 171.0\r"
     ]
    },
    {
     "name": "stdout",
     "output_type": "stream",
     "text": [
      "ep 4774 : reward 245.0\r",
      "ep 4775 : reward 500.0\r"
     ]
    },
    {
     "name": "stdout",
     "output_type": "stream",
     "text": [
      "ep 4776 : reward 500.0\r",
      "ep 4777 : reward 500.0\r"
     ]
    },
    {
     "name": "stdout",
     "output_type": "stream",
     "text": [
      "ep 4778 : reward 500.0\r",
      "ep 4779 : reward 500.0\r"
     ]
    },
    {
     "name": "stdout",
     "output_type": "stream",
     "text": [
      "ep 4780 : reward 500.0\r",
      "ep 4781 : reward 360.0\r",
      "ep 4782 : reward 274.0\r"
     ]
    },
    {
     "name": "stdout",
     "output_type": "stream",
     "text": [
      "ep 4783 : reward 422.0\r",
      "ep 4784 : reward 178.0\r",
      "ep 4785 : reward 240.0\r",
      "ep 4786 : reward 237.0\r"
     ]
    },
    {
     "name": "stdout",
     "output_type": "stream",
     "text": [
      "ep 4787 : reward 107.0\r",
      "ep 4788 : reward 500.0\r"
     ]
    },
    {
     "name": "stdout",
     "output_type": "stream",
     "text": [
      "ep 4789 : reward 499.0\r",
      "ep 4790 : reward 404.0\r"
     ]
    },
    {
     "name": "stdout",
     "output_type": "stream",
     "text": [
      "ep 4791 : reward 421.0\r",
      "ep 4792 : reward 360.0\r",
      "ep 4793 : reward 399.0\r"
     ]
    },
    {
     "name": "stdout",
     "output_type": "stream",
     "text": [
      "ep 4794 : reward 411.0\r",
      "ep 4795 : reward 413.0\r"
     ]
    },
    {
     "name": "stdout",
     "output_type": "stream",
     "text": [
      "ep 4796 : reward 384.0\r",
      "ep 4797 : reward 396.0\r",
      "ep 4798 : reward 101.0\r"
     ]
    },
    {
     "name": "stdout",
     "output_type": "stream",
     "text": [
      "ep 4799 : reward 254.0\r",
      "ep 4800 : reward 378.0\r",
      "ep 4801 : reward 253.0\r"
     ]
    },
    {
     "name": "stdout",
     "output_type": "stream",
     "text": [
      "ep 4802 : reward 404.0\r",
      "ep 4803 : reward 404.0\r",
      "ep 4804 : reward 317.0\r"
     ]
    },
    {
     "name": "stdout",
     "output_type": "stream",
     "text": [
      "ep 4805 : reward 269.0\r",
      "ep 4806 : reward 246.0\r",
      "ep 4807 : reward 393.0\r"
     ]
    },
    {
     "name": "stdout",
     "output_type": "stream",
     "text": [
      "ep 4808 : reward 376.0\r",
      "ep 4809 : reward 266.0\r",
      "ep 4810 : reward 379.0\r"
     ]
    },
    {
     "name": "stdout",
     "output_type": "stream",
     "text": [
      "ep 4811 : reward 44.0\r",
      "ep 4812 : reward 197.0\r",
      "ep 4813 : reward 241.0\r",
      "ep 4814 : reward 124.0\r"
     ]
    },
    {
     "name": "stdout",
     "output_type": "stream",
     "text": [
      "ep 4815 : reward 182.0\r",
      "ep 4816 : reward 382.0\r"
     ]
    },
    {
     "name": "stdout",
     "output_type": "stream",
     "text": [
      "ep 4817 : reward 500.0\r",
      "ep 4818 : reward 427.0\r"
     ]
    },
    {
     "name": "stdout",
     "output_type": "stream",
     "text": [
      "ep 4819 : reward 464.0\r",
      "ep 4820 : reward 500.0\r"
     ]
    },
    {
     "name": "stdout",
     "output_type": "stream",
     "text": [
      "ep 4821 : reward 500.0\r",
      "ep 4822 : reward 403.0\r"
     ]
    },
    {
     "name": "stdout",
     "output_type": "stream",
     "text": [
      "ep 4823 : reward 402.0\r",
      "ep 4824 : reward 363.0\r",
      "ep 4825 : reward 246.0\r"
     ]
    },
    {
     "name": "stdout",
     "output_type": "stream",
     "text": [
      "ep 4826 : reward 364.0\r",
      "ep 4827 : reward 256.0\r",
      "ep 4828 : reward 246.0\r"
     ]
    },
    {
     "name": "stdout",
     "output_type": "stream",
     "text": [
      "ep 4829 : reward 178.0\r",
      "ep 4830 : reward 258.0\r",
      "ep 4831 : reward 327.0\r"
     ]
    },
    {
     "name": "stdout",
     "output_type": "stream",
     "text": [
      "ep 4832 : reward 500.0\r",
      "ep 4833 : reward 500.0\r"
     ]
    },
    {
     "name": "stdout",
     "output_type": "stream",
     "text": [
      "ep 4834 : reward 415.0\r",
      "ep 4835 : reward 387.0\r"
     ]
    },
    {
     "name": "stdout",
     "output_type": "stream",
     "text": [
      "ep 4836 : reward 472.0\r",
      "ep 4837 : reward 500.0\r"
     ]
    },
    {
     "name": "stdout",
     "output_type": "stream",
     "text": [
      "ep 4838 : reward 500.0\r",
      "ep 4839 : reward 500.0\r"
     ]
    },
    {
     "name": "stdout",
     "output_type": "stream",
     "text": [
      "ep 4840 : reward 500.0\r",
      "ep 4841 : reward 500.0\r"
     ]
    },
    {
     "name": "stdout",
     "output_type": "stream",
     "text": [
      "ep 4842 : reward 489.0\r",
      "ep 4843 : reward 391.0\r",
      "ep 4844 : reward 201.0\r"
     ]
    },
    {
     "name": "stdout",
     "output_type": "stream",
     "text": [
      "ep 4845 : reward 500.0\r",
      "ep 4846 : reward 460.0\r"
     ]
    },
    {
     "name": "stdout",
     "output_type": "stream",
     "text": [
      "ep 4847 : reward 394.0\r",
      "ep 4848 : reward 335.0\r",
      "ep 4849 : reward 172.0\r"
     ]
    },
    {
     "name": "stdout",
     "output_type": "stream",
     "text": [
      "ep 4850 : reward 256.0\r",
      "ep 4851 : reward 257.0\r",
      "ep 4852 : reward 207.0\r"
     ]
    },
    {
     "name": "stdout",
     "output_type": "stream",
     "text": [
      "ep 4853 : reward 249.0\r",
      "ep 4854 : reward 250.0\r",
      "ep 4855 : reward 246.0\r"
     ]
    },
    {
     "name": "stdout",
     "output_type": "stream",
     "text": [
      "ep 4856 : reward 253.0\r",
      "ep 4857 : reward 253.0\r",
      "ep 4858 : reward 230.0\r"
     ]
    },
    {
     "name": "stdout",
     "output_type": "stream",
     "text": [
      "ep 4859 : reward 249.0\r",
      "ep 4860 : reward 251.0\r",
      "ep 4861 : reward 189.0\r",
      "ep 4862 : reward 187.0\r"
     ]
    },
    {
     "name": "stdout",
     "output_type": "stream",
     "text": [
      "ep 4863 : reward 256.0\r",
      "ep 4864 : reward 122.0\r",
      "ep 4865 : reward 246.0\r",
      "ep 4866 : reward 258.0\r"
     ]
    },
    {
     "name": "stdout",
     "output_type": "stream",
     "text": [
      "ep 4867 : reward 199.0\r",
      "ep 4868 : reward 245.0\r",
      "ep 4869 : reward 101.0\r",
      "ep 4870 : reward 244.0\r"
     ]
    },
    {
     "name": "stdout",
     "output_type": "stream",
     "text": [
      "ep 4871 : reward 174.0\r",
      "ep 4872 : reward 186.0\r",
      "ep 4873 : reward 100.0\r",
      "ep 4874 : reward 180.0\r"
     ]
    },
    {
     "name": "stdout",
     "output_type": "stream",
     "text": [
      "ep 4875 : reward 254.0\r",
      "ep 4876 : reward 247.0\r",
      "ep 4877 : reward 267.0\r"
     ]
    },
    {
     "name": "stdout",
     "output_type": "stream",
     "text": [
      "ep 4878 : reward 252.0\r",
      "ep 4879 : reward 247.0\r",
      "ep 4880 : reward 239.0\r"
     ]
    },
    {
     "name": "stdout",
     "output_type": "stream",
     "text": [
      "ep 4881 : reward 234.0\r",
      "ep 4882 : reward 250.0\r",
      "ep 4883 : reward 255.0\r"
     ]
    },
    {
     "name": "stdout",
     "output_type": "stream",
     "text": [
      "ep 4884 : reward 229.0\r",
      "ep 4885 : reward 384.0\r",
      "ep 4886 : reward 251.0\r"
     ]
    },
    {
     "name": "stdout",
     "output_type": "stream",
     "text": [
      "ep 4887 : reward 177.0\r",
      "ep 4888 : reward 108.0\r",
      "ep 4889 : reward 333.0\r",
      "ep 4890 : reward 117.0\r"
     ]
    },
    {
     "name": "stdout",
     "output_type": "stream",
     "text": [
      "ep 4891 : reward 270.0\r",
      "ep 4892 : reward 242.0\r",
      "ep 4893 : reward 188.0\r",
      "ep 4894 : reward 236.0\r"
     ]
    },
    {
     "name": "stdout",
     "output_type": "stream",
     "text": [
      "ep 4895 : reward 114.0\r",
      "ep 4896 : reward 254.0\r",
      "ep 4897 : reward 346.0\r"
     ]
    },
    {
     "name": "stdout",
     "output_type": "stream",
     "text": [
      "ep 4898 : reward 379.0\r",
      "ep 4899 : reward 94.0\r",
      "ep 4900 : reward 166.0\r",
      "ep 4901 : reward 392.0\r"
     ]
    },
    {
     "name": "stdout",
     "output_type": "stream",
     "text": [
      "ep 4902 : reward 393.0\r",
      "ep 4903 : reward 96.0\r",
      "ep 4904 : reward 92.0\r",
      "ep 4905 : reward 99.0\r",
      "ep 4906 : reward 92.0\r",
      "ep 4907 : reward 87.0\r"
     ]
    },
    {
     "name": "stdout",
     "output_type": "stream",
     "text": [
      "ep 4908 : reward 88.0\r",
      "ep 4909 : reward 90.0\r",
      "ep 4910 : reward 40.0\r",
      "ep 4911 : reward 99.0\r",
      "ep 4912 : reward 101.0\r"
     ]
    },
    {
     "name": "stdout",
     "output_type": "stream",
     "text": [
      "ep 4913 : reward 328.0\r",
      "ep 4914 : reward 415.0\r"
     ]
    },
    {
     "name": "stdout",
     "output_type": "stream",
     "text": [
      "ep 4915 : reward 415.0\r",
      "ep 4916 : reward 348.0\r",
      "ep 4917 : reward 383.0\r"
     ]
    },
    {
     "name": "stdout",
     "output_type": "stream",
     "text": [
      "ep 4918 : reward 356.0\r",
      "ep 4919 : reward 284.0\r",
      "ep 4920 : reward 326.0\r"
     ]
    },
    {
     "name": "stdout",
     "output_type": "stream",
     "text": [
      "ep 4921 : reward 330.0\r",
      "ep 4922 : reward 391.0\r"
     ]
    },
    {
     "name": "stdout",
     "output_type": "stream",
     "text": [
      "ep 4923 : reward 424.0\r",
      "ep 4924 : reward 411.0\r",
      "ep 4925 : reward 322.0\r"
     ]
    },
    {
     "name": "stdout",
     "output_type": "stream",
     "text": [
      "ep 4926 : reward 247.0\r",
      "ep 4927 : reward 249.0\r",
      "ep 4928 : reward 263.0\r"
     ]
    },
    {
     "name": "stdout",
     "output_type": "stream",
     "text": [
      "ep 4929 : reward 247.0\r",
      "ep 4930 : reward 238.0\r",
      "ep 4931 : reward 313.0\r"
     ]
    },
    {
     "name": "stdout",
     "output_type": "stream",
     "text": [
      "ep 4932 : reward 248.0\r",
      "ep 4933 : reward 447.0\r"
     ]
    },
    {
     "name": "stdout",
     "output_type": "stream",
     "text": [
      "ep 4934 : reward 458.0\r",
      "ep 4935 : reward 387.0\r"
     ]
    },
    {
     "name": "stdout",
     "output_type": "stream",
     "text": [
      "ep 4936 : reward 427.0\r",
      "ep 4937 : reward 368.0\r"
     ]
    },
    {
     "name": "stdout",
     "output_type": "stream",
     "text": [
      "ep 4938 : reward 500.0\r",
      "ep 4939 : reward 500.0\r"
     ]
    },
    {
     "name": "stdout",
     "output_type": "stream",
     "text": [
      "ep 4940 : reward 500.0\r",
      "ep 4941 : reward 500.0\r"
     ]
    },
    {
     "name": "stdout",
     "output_type": "stream",
     "text": [
      "ep 4942 : reward 500.0\r",
      "ep 4943 : reward 238.0\r",
      "ep 4944 : reward 116.0\r",
      "ep 4945 : reward 98.0\r"
     ]
    },
    {
     "name": "stdout",
     "output_type": "stream",
     "text": [
      "ep 4946 : reward 181.0\r",
      "ep 4947 : reward 244.0\r",
      "ep 4948 : reward 112.0\r",
      "ep 4949 : reward 261.0\r"
     ]
    },
    {
     "name": "stdout",
     "output_type": "stream",
     "text": [
      "ep 4950 : reward 349.0\r",
      "ep 4951 : reward 176.0\r",
      "ep 4952 : reward 119.0\r",
      "ep 4953 : reward 124.0\r"
     ]
    },
    {
     "name": "stdout",
     "output_type": "stream",
     "text": [
      "ep 4954 : reward 244.0\r",
      "ep 4955 : reward 256.0\r",
      "ep 4956 : reward 247.0\r"
     ]
    },
    {
     "name": "stdout",
     "output_type": "stream",
     "text": [
      "ep 4957 : reward 251.0\r",
      "ep 4958 : reward 251.0\r",
      "ep 4959 : reward 234.0\r",
      "ep 4960 : reward 184.0\r"
     ]
    },
    {
     "name": "stdout",
     "output_type": "stream",
     "text": [
      "ep 4961 : reward 244.0\r",
      "ep 4962 : reward 256.0\r",
      "ep 4963 : reward 247.0\r"
     ]
    },
    {
     "name": "stdout",
     "output_type": "stream",
     "text": [
      "ep 4964 : reward 271.0\r",
      "ep 4965 : reward 189.0\r",
      "ep 4966 : reward 173.0\r",
      "ep 4967 : reward 41.0\r",
      "ep 4968 : reward 97.0\r"
     ]
    },
    {
     "name": "stdout",
     "output_type": "stream",
     "text": [
      "ep 4969 : reward 91.0\r",
      "ep 4970 : reward 91.0\r",
      "ep 4971 : reward 103.0\r",
      "ep 4972 : reward 111.0\r",
      "ep 4973 : reward 248.0\r"
     ]
    },
    {
     "name": "stdout",
     "output_type": "stream",
     "text": [
      "ep 4974 : reward 500.0\r",
      "ep 4975 : reward 382.0\r",
      "ep 4976 : reward 438.0\r"
     ]
    },
    {
     "name": "stdout",
     "output_type": "stream",
     "text": [
      "ep 4977 : reward 500.0\r",
      "ep 4978 : reward 500.0\r",
      "ep 4979 : reward 109.0\r",
      "ep 4980 : reward 97.0\r"
     ]
    },
    {
     "name": "stdout",
     "output_type": "stream",
     "text": [
      "ep 4981 : reward 185.0\r",
      "ep 4982 : reward 108.0\r",
      "ep 4983 : reward 101.0\r",
      "ep 4984 : reward 185.0\r",
      "ep 4985 : reward 113.0\r"
     ]
    },
    {
     "name": "stdout",
     "output_type": "stream",
     "text": [
      "ep 4986 : reward 484.0\r",
      "ep 4987 : reward 404.0\r",
      "ep 4988 : reward 318.0\r"
     ]
    },
    {
     "name": "stdout",
     "output_type": "stream",
     "text": [
      "ep 4989 : reward 202.0\r",
      "ep 4990 : reward 249.0\r",
      "ep 4991 : reward 191.0\r",
      "ep 4992 : reward 111.0\r"
     ]
    },
    {
     "name": "stdout",
     "output_type": "stream",
     "text": [
      "ep 4993 : reward 94.0\r",
      "ep 4994 : reward 91.0\r",
      "ep 4995 : reward 87.0\r",
      "ep 4996 : reward 97.0\r",
      "ep 4997 : reward 102.0\r",
      "ep 4998 : reward 101.0\r"
     ]
    },
    {
     "name": "stdout",
     "output_type": "stream",
     "text": [
      "ep 4999 : reward 248.0\r"
     ]
    },
    {
     "name": "stdout",
     "output_type": "stream",
     "text": [
      "ep 5000 : reward 500.0\r",
      "ep 5001 : reward 500.0\r"
     ]
    },
    {
     "name": "stdout",
     "output_type": "stream",
     "text": [
      "ep 5002 : reward 347.0\r",
      "ep 5003 : reward 266.0\r",
      "ep 5004 : reward 171.0\r"
     ]
    },
    {
     "name": "stdout",
     "output_type": "stream",
     "text": [
      "ep 5005 : reward 385.0\r",
      "ep 5006 : reward 321.0\r",
      "ep 5007 : reward 258.0\r"
     ]
    },
    {
     "name": "stdout",
     "output_type": "stream",
     "text": [
      "ep 5008 : reward 240.0\r",
      "ep 5009 : reward 486.0\r"
     ]
    },
    {
     "name": "stdout",
     "output_type": "stream",
     "text": [
      "ep 5010 : reward 343.0\r",
      "ep 5011 : reward 346.0\r",
      "ep 5012 : reward 336.0\r"
     ]
    },
    {
     "name": "stdout",
     "output_type": "stream",
     "text": [
      "ep 5013 : reward 322.0\r",
      "ep 5014 : reward 391.0\r",
      "ep 5015 : reward 98.0\r",
      "ep 5016 : reward 93.0\r"
     ]
    },
    {
     "name": "stdout",
     "output_type": "stream",
     "text": [
      "ep 5017 : reward 98.0\r",
      "ep 5018 : reward 96.0\r",
      "ep 5019 : reward 96.0\r",
      "ep 5020 : reward 94.0\r",
      "ep 5021 : reward 93.0\r"
     ]
    },
    {
     "name": "stdout",
     "output_type": "stream",
     "text": [
      "ep 5022 : reward 27.0\r",
      "ep 5023 : reward 27.0\r",
      "ep 5024 : reward 92.0\r",
      "ep 5025 : reward 247.0\r",
      "ep 5026 : reward 126.0\r"
     ]
    },
    {
     "name": "stdout",
     "output_type": "stream",
     "text": [
      "ep 5027 : reward 188.0\r",
      "ep 5028 : reward 251.0\r",
      "ep 5029 : reward 246.0\r"
     ]
    },
    {
     "name": "stdout",
     "output_type": "stream",
     "text": [
      "ep 5030 : reward 256.0\r",
      "ep 5031 : reward 328.0\r",
      "ep 5032 : reward 249.0\r"
     ]
    },
    {
     "name": "stdout",
     "output_type": "stream",
     "text": [
      "ep 5033 : reward 243.0\r",
      "ep 5034 : reward 263.0\r",
      "ep 5035 : reward 259.0\r"
     ]
    },
    {
     "name": "stdout",
     "output_type": "stream",
     "text": [
      "ep 5036 : reward 254.0\r",
      "ep 5037 : reward 248.0\r",
      "ep 5038 : reward 335.0\r"
     ]
    },
    {
     "name": "stdout",
     "output_type": "stream",
     "text": [
      "ep 5039 : reward 500.0\r",
      "ep 5040 : reward 500.0\r"
     ]
    },
    {
     "name": "stdout",
     "output_type": "stream",
     "text": [
      "ep 5041 : reward 500.0\r",
      "ep 5042 : reward 419.0\r",
      "ep 5043 : reward 330.0\r"
     ]
    },
    {
     "name": "stdout",
     "output_type": "stream",
     "text": [
      "ep 5044 : reward 240.0\r",
      "ep 5045 : reward 500.0\r",
      "ep 5046 : reward 185.0\r"
     ]
    },
    {
     "name": "stdout",
     "output_type": "stream",
     "text": [
      "ep 5047 : reward 263.0\r",
      "ep 5048 : reward 261.0\r",
      "ep 5049 : reward 500.0\r"
     ]
    },
    {
     "name": "stdout",
     "output_type": "stream",
     "text": [
      "ep 5050 : reward 497.0\r",
      "ep 5051 : reward 500.0\r"
     ]
    },
    {
     "name": "stdout",
     "output_type": "stream",
     "text": [
      "ep 5052 : reward 471.0\r",
      "ep 5053 : reward 404.0\r"
     ]
    },
    {
     "name": "stdout",
     "output_type": "stream",
     "text": [
      "ep 5054 : reward 500.0\r",
      "ep 5055 : reward 274.0\r",
      "ep 5056 : reward 283.0\r"
     ]
    },
    {
     "name": "stdout",
     "output_type": "stream",
     "text": [
      "ep 5057 : reward 257.0\r",
      "ep 5058 : reward 415.0\r",
      "ep 5059 : reward 320.0\r"
     ]
    },
    {
     "name": "stdout",
     "output_type": "stream",
     "text": [
      "ep 5060 : reward 243.0\r",
      "ep 5061 : reward 109.0\r",
      "ep 5062 : reward 408.0\r"
     ]
    },
    {
     "name": "stdout",
     "output_type": "stream",
     "text": [
      "ep 5063 : reward 375.0\r",
      "ep 5064 : reward 385.0\r",
      "ep 5065 : reward 322.0\r"
     ]
    },
    {
     "name": "stdout",
     "output_type": "stream",
     "text": [
      "ep 5066 : reward 407.0\r",
      "ep 5067 : reward 261.0\r",
      "ep 5068 : reward 332.0\r"
     ]
    },
    {
     "name": "stdout",
     "output_type": "stream",
     "text": [
      "ep 5069 : reward 376.0\r",
      "ep 5070 : reward 177.0\r",
      "ep 5071 : reward 369.0\r"
     ]
    },
    {
     "name": "stdout",
     "output_type": "stream",
     "text": [
      "ep 5072 : reward 380.0\r",
      "ep 5073 : reward 386.0\r",
      "ep 5074 : reward 110.0\r"
     ]
    },
    {
     "name": "stdout",
     "output_type": "stream",
     "text": [
      "ep 5075 : reward 388.0\r",
      "ep 5076 : reward 248.0\r",
      "ep 5077 : reward 191.0\r"
     ]
    },
    {
     "name": "stdout",
     "output_type": "stream",
     "text": [
      "ep 5078 : reward 260.0\r",
      "ep 5079 : reward 246.0\r",
      "ep 5080 : reward 178.0\r",
      "ep 5081 : reward 101.0\r"
     ]
    },
    {
     "name": "stdout",
     "output_type": "stream",
     "text": [
      "ep 5082 : reward 347.0\r",
      "ep 5083 : reward 186.0\r",
      "ep 5084 : reward 248.0\r",
      "ep 5085 : reward 251.0\r"
     ]
    },
    {
     "name": "stdout",
     "output_type": "stream",
     "text": [
      "ep 5086 : reward 255.0\r",
      "ep 5087 : reward 238.0\r",
      "ep 5088 : reward 106.0\r",
      "ep 5089 : reward 93.0\r"
     ]
    },
    {
     "name": "stdout",
     "output_type": "stream",
     "text": [
      "ep 5090 : reward 198.0\r",
      "ep 5091 : reward 102.0\r",
      "ep 5092 : reward 94.0\r",
      "ep 5093 : reward 196.0\r"
     ]
    },
    {
     "name": "stdout",
     "output_type": "stream",
     "text": [
      "ep 5094 : reward 185.0\r",
      "ep 5095 : reward 179.0\r",
      "ep 5096 : reward 183.0\r",
      "ep 5097 : reward 109.0\r"
     ]
    },
    {
     "name": "stdout",
     "output_type": "stream",
     "text": [
      "ep 5098 : reward 244.0\r",
      "ep 5099 : reward 176.0\r",
      "ep 5100 : reward 102.0\r",
      "ep 5101 : reward 254.0\r"
     ]
    },
    {
     "name": "stdout",
     "output_type": "stream",
     "text": [
      "ep 5102 : reward 107.0\r",
      "ep 5103 : reward 107.0\r",
      "ep 5104 : reward 107.0\r",
      "ep 5105 : reward 111.0\r",
      "ep 5106 : reward 101.0\r"
     ]
    },
    {
     "name": "stdout",
     "output_type": "stream",
     "text": [
      "ep 5107 : reward 106.0\r",
      "ep 5108 : reward 109.0\r",
      "ep 5109 : reward 184.0\r",
      "ep 5110 : reward 227.0\r"
     ]
    },
    {
     "name": "stdout",
     "output_type": "stream",
     "text": [
      "ep 5111 : reward 258.0\r",
      "ep 5112 : reward 115.0\r",
      "ep 5113 : reward 246.0\r",
      "ep 5114 : reward 187.0\r"
     ]
    },
    {
     "name": "stdout",
     "output_type": "stream",
     "text": [
      "ep 5115 : reward 168.0\r",
      "ep 5116 : reward 105.0\r",
      "ep 5117 : reward 102.0\r",
      "ep 5118 : reward 193.0\r",
      "ep 5119 : reward 104.0\r"
     ]
    },
    {
     "name": "stdout",
     "output_type": "stream",
     "text": [
      "ep 5120 : reward 236.0\r",
      "ep 5121 : reward 101.0\r",
      "ep 5122 : reward 110.0\r",
      "ep 5123 : reward 188.0\r"
     ]
    },
    {
     "name": "stdout",
     "output_type": "stream",
     "text": [
      "ep 5124 : reward 500.0\r",
      "ep 5125 : reward 500.0\r",
      "ep 5126 : reward 258.0\r"
     ]
    },
    {
     "name": "stdout",
     "output_type": "stream",
     "text": [
      "ep 5127 : reward 500.0\r",
      "ep 5128 : reward 301.0\r",
      "ep 5129 : reward 341.0\r"
     ]
    },
    {
     "name": "stdout",
     "output_type": "stream",
     "text": [
      "ep 5130 : reward 500.0\r",
      "ep 5131 : reward 500.0\r"
     ]
    },
    {
     "name": "stdout",
     "output_type": "stream",
     "text": [
      "ep 5132 : reward 500.0\r",
      "ep 5133 : reward 500.0\r",
      "ep 5134 : reward 245.0\r"
     ]
    },
    {
     "name": "stdout",
     "output_type": "stream",
     "text": [
      "ep 5135 : reward 338.0\r",
      "ep 5136 : reward 464.0\r"
     ]
    },
    {
     "name": "stdout",
     "output_type": "stream",
     "text": [
      "ep 5137 : reward 402.0\r",
      "ep 5138 : reward 271.0\r",
      "ep 5139 : reward 341.0\r"
     ]
    },
    {
     "name": "stdout",
     "output_type": "stream",
     "text": [
      "ep 5140 : reward 194.0\r",
      "ep 5141 : reward 101.0\r",
      "ep 5142 : reward 108.0\r",
      "ep 5143 : reward 91.0\r",
      "ep 5144 : reward 238.0\r"
     ]
    },
    {
     "name": "stdout",
     "output_type": "stream",
     "text": [
      "ep 5145 : reward 322.0\r",
      "ep 5146 : reward 112.0\r",
      "ep 5147 : reward 264.0\r",
      "ep 5148 : reward 248.0\r"
     ]
    },
    {
     "name": "stdout",
     "output_type": "stream",
     "text": [
      "ep 5149 : reward 96.0\r",
      "ep 5150 : reward 259.0\r",
      "ep 5151 : reward 255.0\r"
     ]
    },
    {
     "name": "stdout",
     "output_type": "stream",
     "text": [
      "ep 5152 : reward 261.0\r",
      "ep 5153 : reward 376.0\r",
      "ep 5154 : reward 258.0\r"
     ]
    },
    {
     "name": "stdout",
     "output_type": "stream",
     "text": [
      "ep 5155 : reward 326.0\r",
      "ep 5156 : reward 401.0\r"
     ]
    },
    {
     "name": "stdout",
     "output_type": "stream",
     "text": [
      "ep 5157 : reward 391.0\r",
      "ep 5158 : reward 404.0\r",
      "ep 5159 : reward 237.0\r"
     ]
    },
    {
     "name": "stdout",
     "output_type": "stream",
     "text": [
      "ep 5160 : reward 415.0\r",
      "ep 5161 : reward 500.0\r"
     ]
    },
    {
     "name": "stdout",
     "output_type": "stream",
     "text": [
      "ep 5162 : reward 395.0\r",
      "ep 5163 : reward 500.0\r"
     ]
    },
    {
     "name": "stdout",
     "output_type": "stream",
     "text": [
      "ep 5164 : reward 445.0\r",
      "ep 5165 : reward 450.0\r"
     ]
    },
    {
     "name": "stdout",
     "output_type": "stream",
     "text": [
      "ep 5166 : reward 388.0\r",
      "ep 5167 : reward 487.0\r"
     ]
    },
    {
     "name": "stdout",
     "output_type": "stream",
     "text": [
      "ep 5168 : reward 324.0\r",
      "ep 5169 : reward 327.0\r",
      "ep 5170 : reward 196.0\r",
      "ep 5171 : reward 102.0\r"
     ]
    },
    {
     "name": "stdout",
     "output_type": "stream",
     "text": [
      "ep 5172 : reward 106.0\r",
      "ep 5173 : reward 104.0\r",
      "ep 5174 : reward 106.0\r",
      "ep 5175 : reward 178.0\r"
     ]
    },
    {
     "name": "stdout",
     "output_type": "stream",
     "text": [
      "ep 5176 : reward 240.0\r",
      "ep 5177 : reward 246.0\r",
      "ep 5178 : reward 253.0\r"
     ]
    },
    {
     "name": "stdout",
     "output_type": "stream",
     "text": [
      "ep 5179 : reward 242.0\r",
      "ep 5180 : reward 348.0\r"
     ]
    },
    {
     "name": "stdout",
     "output_type": "stream",
     "text": [
      "ep 5181 : reward 500.0\r",
      "ep 5182 : reward 447.0\r"
     ]
    },
    {
     "name": "stdout",
     "output_type": "stream",
     "text": [
      "ep 5183 : reward 500.0\r",
      "ep 5184 : reward 494.0\r"
     ]
    },
    {
     "name": "stdout",
     "output_type": "stream",
     "text": [
      "ep 5185 : reward 439.0\r",
      "ep 5186 : reward 399.0\r",
      "ep 5187 : reward 351.0\r"
     ]
    },
    {
     "name": "stdout",
     "output_type": "stream",
     "text": [
      "ep 5188 : reward 332.0\r",
      "ep 5189 : reward 390.0\r",
      "ep 5190 : reward 341.0\r"
     ]
    },
    {
     "name": "stdout",
     "output_type": "stream",
     "text": [
      "ep 5191 : reward 247.0\r",
      "ep 5192 : reward 116.0\r",
      "ep 5193 : reward 259.0\r"
     ]
    },
    {
     "name": "stdout",
     "output_type": "stream",
     "text": [
      "ep 5194 : reward 390.0\r",
      "ep 5195 : reward 500.0\r"
     ]
    },
    {
     "name": "stdout",
     "output_type": "stream",
     "text": [
      "ep 5196 : reward 420.0\r",
      "ep 5197 : reward 500.0\r"
     ]
    },
    {
     "name": "stdout",
     "output_type": "stream",
     "text": [
      "ep 5198 : reward 463.0\r",
      "ep 5199 : reward 378.0\r",
      "ep 5200 : reward 279.0\r"
     ]
    },
    {
     "name": "stdout",
     "output_type": "stream",
     "text": [
      "ep 5201 : reward 351.0\r",
      "ep 5202 : reward 411.0\r"
     ]
    },
    {
     "name": "stdout",
     "output_type": "stream",
     "text": [
      "ep 5203 : reward 399.0\r",
      "ep 5204 : reward 406.0\r"
     ]
    },
    {
     "name": "stdout",
     "output_type": "stream",
     "text": [
      "ep 5205 : reward 415.0\r",
      "ep 5206 : reward 224.0\r",
      "ep 5207 : reward 181.0\r",
      "ep 5208 : reward 184.0\r"
     ]
    },
    {
     "name": "stdout",
     "output_type": "stream",
     "text": [
      "ep 5209 : reward 239.0\r",
      "ep 5210 : reward 500.0\r"
     ]
    },
    {
     "name": "stdout",
     "output_type": "stream",
     "text": [
      "ep 5211 : reward 334.0\r",
      "ep 5212 : reward 401.0\r"
     ]
    },
    {
     "name": "stdout",
     "output_type": "stream",
     "text": [
      "ep 5213 : reward 380.0\r",
      "ep 5214 : reward 262.0\r",
      "ep 5215 : reward 275.0\r"
     ]
    },
    {
     "name": "stdout",
     "output_type": "stream",
     "text": [
      "ep 5216 : reward 252.0\r",
      "ep 5217 : reward 271.0\r",
      "ep 5218 : reward 258.0\r"
     ]
    },
    {
     "name": "stdout",
     "output_type": "stream",
     "text": [
      "ep 5219 : reward 280.0\r",
      "ep 5220 : reward 251.0\r",
      "ep 5221 : reward 195.0\r"
     ]
    },
    {
     "name": "stdout",
     "output_type": "stream",
     "text": [
      "ep 5222 : reward 263.0\r",
      "ep 5223 : reward 260.0\r",
      "ep 5224 : reward 245.0\r"
     ]
    },
    {
     "name": "stdout",
     "output_type": "stream",
     "text": [
      "ep 5225 : reward 438.0\r",
      "ep 5226 : reward 323.0\r"
     ]
    },
    {
     "name": "stdout",
     "output_type": "stream",
     "text": [
      "ep 5227 : reward 500.0\r",
      "ep 5228 : reward 481.0\r"
     ]
    },
    {
     "name": "stdout",
     "output_type": "stream",
     "text": [
      "ep 5229 : reward 349.0\r",
      "ep 5230 : reward 411.0\r"
     ]
    },
    {
     "name": "stdout",
     "output_type": "stream",
     "text": [
      "ep 5231 : reward 500.0\r",
      "ep 5232 : reward 403.0\r",
      "ep 5233 : reward 249.0\r"
     ]
    },
    {
     "name": "stdout",
     "output_type": "stream",
     "text": [
      "ep 5234 : reward 390.0\r",
      "ep 5235 : reward 260.0\r",
      "ep 5236 : reward 398.0\r"
     ]
    },
    {
     "name": "stdout",
     "output_type": "stream",
     "text": [
      "ep 5237 : reward 260.0\r",
      "ep 5238 : reward 406.0\r"
     ]
    },
    {
     "name": "stdout",
     "output_type": "stream",
     "text": [
      "ep 5239 : reward 500.0\r",
      "ep 5240 : reward 500.0\r"
     ]
    },
    {
     "name": "stdout",
     "output_type": "stream",
     "text": [
      "ep 5241 : reward 469.0\r",
      "ep 5242 : reward 500.0\r"
     ]
    },
    {
     "name": "stdout",
     "output_type": "stream",
     "text": [
      "ep 5243 : reward 500.0\r",
      "ep 5244 : reward 500.0\r"
     ]
    },
    {
     "name": "stdout",
     "output_type": "stream",
     "text": [
      "ep 5245 : reward 413.0\r",
      "ep 5246 : reward 178.0\r",
      "ep 5247 : reward 272.0\r"
     ]
    },
    {
     "name": "stdout",
     "output_type": "stream",
     "text": [
      "ep 5248 : reward 416.0\r",
      "ep 5249 : reward 352.0\r",
      "ep 5250 : reward 248.0\r"
     ]
    },
    {
     "name": "stdout",
     "output_type": "stream",
     "text": [
      "ep 5251 : reward 97.0\r",
      "ep 5252 : reward 228.0\r",
      "ep 5253 : reward 106.0\r",
      "ep 5254 : reward 190.0\r"
     ]
    },
    {
     "name": "stdout",
     "output_type": "stream",
     "text": [
      "ep 5255 : reward 172.0\r",
      "ep 5256 : reward 185.0\r",
      "ep 5257 : reward 108.0\r",
      "ep 5258 : reward 99.0\r"
     ]
    },
    {
     "name": "stdout",
     "output_type": "stream",
     "text": [
      "ep 5259 : reward 241.0\r",
      "ep 5260 : reward 85.0\r",
      "ep 5261 : reward 95.0\r",
      "ep 5262 : reward 95.0\r",
      "ep 5263 : reward 97.0\r"
     ]
    },
    {
     "name": "stdout",
     "output_type": "stream",
     "text": [
      "ep 5264 : reward 101.0\r",
      "ep 5265 : reward 102.0\r",
      "ep 5266 : reward 100.0\r",
      "ep 5267 : reward 100.0\r",
      "ep 5268 : reward 235.0\r"
     ]
    },
    {
     "name": "stdout",
     "output_type": "stream",
     "text": [
      "ep 5269 : reward 99.0\r",
      "ep 5270 : reward 231.0\r",
      "ep 5271 : reward 187.0\r",
      "ep 5272 : reward 178.0\r"
     ]
    },
    {
     "name": "stdout",
     "output_type": "stream",
     "text": [
      "ep 5273 : reward 243.0\r",
      "ep 5274 : reward 123.0\r",
      "ep 5275 : reward 183.0\r"
     ]
    },
    {
     "name": "stdout",
     "output_type": "stream",
     "text": [
      "ep 5276 : reward 382.0\r",
      "ep 5277 : reward 248.0\r",
      "ep 5278 : reward 249.0\r"
     ]
    },
    {
     "name": "stdout",
     "output_type": "stream",
     "text": [
      "ep 5279 : reward 198.0\r",
      "ep 5280 : reward 326.0\r",
      "ep 5281 : reward 250.0\r"
     ]
    },
    {
     "name": "stdout",
     "output_type": "stream",
     "text": [
      "ep 5282 : reward 238.0\r",
      "ep 5283 : reward 500.0\r"
     ]
    },
    {
     "name": "stdout",
     "output_type": "stream",
     "text": [
      "ep 5284 : reward 500.0\r",
      "ep 5285 : reward 500.0\r"
     ]
    },
    {
     "name": "stdout",
     "output_type": "stream",
     "text": [
      "ep 5286 : reward 390.0\r",
      "ep 5287 : reward 484.0\r"
     ]
    },
    {
     "name": "stdout",
     "output_type": "stream",
     "text": [
      "ep 5288 : reward 401.0\r",
      "ep 5289 : reward 500.0\r"
     ]
    },
    {
     "name": "stdout",
     "output_type": "stream",
     "text": [
      "ep 5290 : reward 325.0\r",
      "ep 5291 : reward 331.0\r",
      "ep 5292 : reward 393.0\r"
     ]
    },
    {
     "name": "stdout",
     "output_type": "stream",
     "text": [
      "ep 5293 : reward 466.0\r",
      "ep 5294 : reward 500.0\r"
     ]
    },
    {
     "name": "stdout",
     "output_type": "stream",
     "text": [
      "ep 5295 : reward 500.0\r",
      "ep 5296 : reward 472.0\r"
     ]
    },
    {
     "name": "stdout",
     "output_type": "stream",
     "text": [
      "ep 5297 : reward 403.0\r",
      "ep 5298 : reward 252.0\r",
      "ep 5299 : reward 297.0\r"
     ]
    },
    {
     "name": "stdout",
     "output_type": "stream",
     "text": [
      "ep 5300 : reward 464.0\r",
      "ep 5301 : reward 328.0\r",
      "ep 5302 : reward 394.0\r"
     ]
    },
    {
     "name": "stdout",
     "output_type": "stream",
     "text": [
      "ep 5303 : reward 331.0\r",
      "ep 5304 : reward 253.0\r",
      "ep 5305 : reward 343.0\r"
     ]
    },
    {
     "name": "stdout",
     "output_type": "stream",
     "text": [
      "ep 5306 : reward 242.0\r",
      "ep 5307 : reward 395.0\r",
      "ep 5308 : reward 118.0\r",
      "ep 5309 : reward 115.0\r"
     ]
    },
    {
     "name": "stdout",
     "output_type": "stream",
     "text": [
      "ep 5310 : reward 99.0\r",
      "ep 5311 : reward 97.0\r",
      "ep 5312 : reward 102.0\r",
      "ep 5313 : reward 172.0\r"
     ]
    },
    {
     "name": "stdout",
     "output_type": "stream",
     "text": [
      "ep 5314 : reward 232.0\r",
      "ep 5315 : reward 231.0\r",
      "ep 5316 : reward 242.0\r",
      "ep 5317 : reward 180.0\r"
     ]
    },
    {
     "name": "stdout",
     "output_type": "stream",
     "text": [
      "ep 5318 : reward 254.0\r",
      "ep 5319 : reward 250.0\r",
      "ep 5320 : reward 115.0\r",
      "ep 5321 : reward 260.0\r"
     ]
    },
    {
     "name": "stdout",
     "output_type": "stream",
     "text": [
      "ep 5322 : reward 183.0\r",
      "ep 5323 : reward 112.0\r",
      "ep 5324 : reward 313.0\r",
      "ep 5325 : reward 103.0\r"
     ]
    },
    {
     "name": "stdout",
     "output_type": "stream",
     "text": [
      "ep 5326 : reward 97.0\r",
      "ep 5327 : reward 90.0\r",
      "ep 5328 : reward 93.0\r",
      "ep 5329 : reward 102.0\r",
      "ep 5330 : reward 93.0\r",
      "ep 5331 : reward 38.0\r"
     ]
    },
    {
     "name": "stdout",
     "output_type": "stream",
     "text": [
      "ep 5332 : reward 40.0\r",
      "ep 5333 : reward 100.0\r",
      "ep 5334 : reward 247.0\r"
     ]
    },
    {
     "name": "stdout",
     "output_type": "stream",
     "text": [
      "ep 5335 : reward 500.0\r",
      "ep 5336 : reward 500.0\r"
     ]
    },
    {
     "name": "stdout",
     "output_type": "stream",
     "text": [
      "ep 5337 : reward 500.0\r",
      "ep 5338 : reward 500.0\r"
     ]
    },
    {
     "name": "stdout",
     "output_type": "stream",
     "text": [
      "ep 5339 : reward 500.0\r",
      "ep 5340 : reward 390.0\r"
     ]
    },
    {
     "name": "stdout",
     "output_type": "stream",
     "text": [
      "ep 5341 : reward 500.0\r",
      "ep 5342 : reward 268.0\r",
      "ep 5343 : reward 238.0\r",
      "ep 5344 : reward 96.0\r"
     ]
    },
    {
     "name": "stdout",
     "output_type": "stream",
     "text": [
      "ep 5345 : reward 94.0\r",
      "ep 5346 : reward 101.0\r",
      "ep 5347 : reward 101.0\r",
      "ep 5348 : reward 96.0\r",
      "ep 5349 : reward 228.0\r"
     ]
    },
    {
     "name": "stdout",
     "output_type": "stream",
     "text": [
      "ep 5350 : reward 238.0\r",
      "ep 5351 : reward 239.0\r",
      "ep 5352 : reward 198.0\r",
      "ep 5353 : reward 112.0\r"
     ]
    },
    {
     "name": "stdout",
     "output_type": "stream",
     "text": [
      "ep 5354 : reward 107.0\r",
      "ep 5355 : reward 335.0\r"
     ]
    },
    {
     "name": "stdout",
     "output_type": "stream",
     "text": [
      "ep 5356 : reward 500.0\r",
      "ep 5357 : reward 454.0\r",
      "ep 5358 : reward 186.0\r"
     ]
    },
    {
     "name": "stdout",
     "output_type": "stream",
     "text": [
      "ep 5359 : reward 116.0\r",
      "ep 5360 : reward 252.0\r",
      "ep 5361 : reward 266.0\r"
     ]
    },
    {
     "name": "stdout",
     "output_type": "stream",
     "text": [
      "ep 5362 : reward 247.0\r",
      "ep 5363 : reward 377.0\r",
      "ep 5364 : reward 270.0\r"
     ]
    },
    {
     "name": "stdout",
     "output_type": "stream",
     "text": [
      "ep 5365 : reward 182.0\r",
      "ep 5366 : reward 209.0\r",
      "ep 5367 : reward 388.0\r"
     ]
    },
    {
     "name": "stdout",
     "output_type": "stream",
     "text": [
      "ep 5368 : reward 405.0\r",
      "ep 5369 : reward 397.0\r",
      "ep 5370 : reward 251.0\r"
     ]
    },
    {
     "name": "stdout",
     "output_type": "stream",
     "text": [
      "ep 5371 : reward 193.0\r",
      "ep 5372 : reward 335.0\r",
      "ep 5373 : reward 398.0\r"
     ]
    },
    {
     "name": "stdout",
     "output_type": "stream",
     "text": [
      "ep 5374 : reward 373.0\r",
      "ep 5375 : reward 339.0\r",
      "ep 5376 : reward 329.0\r"
     ]
    },
    {
     "name": "stdout",
     "output_type": "stream",
     "text": [
      "ep 5377 : reward 313.0\r",
      "ep 5378 : reward 364.0\r",
      "ep 5379 : reward 258.0\r"
     ]
    },
    {
     "name": "stdout",
     "output_type": "stream",
     "text": [
      "ep 5380 : reward 327.0\r",
      "ep 5381 : reward 500.0\r"
     ]
    },
    {
     "name": "stdout",
     "output_type": "stream",
     "text": [
      "ep 5382 : reward 500.0\r",
      "ep 5383 : reward 397.0\r"
     ]
    },
    {
     "name": "stdout",
     "output_type": "stream",
     "text": [
      "ep 5384 : reward 500.0\r",
      "ep 5385 : reward 431.0\r",
      "ep 5386 : reward 326.0\r"
     ]
    },
    {
     "name": "stdout",
     "output_type": "stream",
     "text": [
      "ep 5387 : reward 421.0\r",
      "ep 5388 : reward 336.0\r"
     ]
    },
    {
     "name": "stdout",
     "output_type": "stream",
     "text": [
      "ep 5389 : reward 500.0\r",
      "ep 5390 : reward 259.0\r",
      "ep 5391 : reward 245.0\r"
     ]
    },
    {
     "name": "stdout",
     "output_type": "stream",
     "text": [
      "ep 5392 : reward 236.0\r",
      "ep 5393 : reward 423.0\r"
     ]
    },
    {
     "name": "stdout",
     "output_type": "stream",
     "text": [
      "ep 5394 : reward 391.0\r",
      "ep 5395 : reward 259.0\r",
      "ep 5396 : reward 244.0\r"
     ]
    },
    {
     "name": "stdout",
     "output_type": "stream",
     "text": [
      "ep 5397 : reward 343.0\r",
      "ep 5398 : reward 179.0\r",
      "ep 5399 : reward 103.0\r",
      "ep 5400 : reward 42.0\r",
      "ep 5401 : reward 23.0\r",
      "ep 5402 : reward 26.0\r",
      "ep 5403 : reward 24.0\r"
     ]
    },
    {
     "name": "stdout",
     "output_type": "stream",
     "text": [
      "ep 5404 : reward 25.0\r",
      "ep 5405 : reward 24.0\r",
      "ep 5406 : reward 29.0\r",
      "ep 5407 : reward 26.0\r",
      "ep 5408 : reward 38.0\r",
      "ep 5409 : reward 90.0\r"
     ]
    },
    {
     "name": "stdout",
     "output_type": "stream",
     "text": [
      "ep 5410 : reward 95.0\r",
      "ep 5411 : reward 331.0\r",
      "ep 5412 : reward 176.0\r",
      "ep 5413 : reward 26.0\r"
     ]
    },
    {
     "name": "stdout",
     "output_type": "stream",
     "text": [
      "ep 5414 : reward 30.0\r",
      "ep 5415 : reward 25.0\r",
      "ep 5416 : reward 37.0\r",
      "ep 5417 : reward 32.0\r",
      "ep 5418 : reward 28.0\r",
      "ep 5419 : reward 17.0\r",
      "ep 5420 : reward 23.0\r"
     ]
    },
    {
     "name": "stdout",
     "output_type": "stream",
     "text": [
      "ep 5421 : reward 27.0\r",
      "ep 5422 : reward 26.0\r",
      "ep 5423 : reward 35.0\r",
      "ep 5424 : reward 32.0\r",
      "ep 5425 : reward 28.0\r",
      "ep 5426 : reward 98.0\r",
      "ep 5427 : reward 97.0\r"
     ]
    },
    {
     "name": "stdout",
     "output_type": "stream",
     "text": [
      "ep 5428 : reward 96.0\r",
      "ep 5429 : reward 245.0\r",
      "ep 5430 : reward 95.0\r",
      "ep 5431 : reward 114.0\r"
     ]
    },
    {
     "name": "stdout",
     "output_type": "stream",
     "text": [
      "ep 5432 : reward 195.0\r",
      "ep 5433 : reward 377.0\r",
      "ep 5434 : reward 391.0\r"
     ]
    },
    {
     "name": "stdout",
     "output_type": "stream",
     "text": [
      "ep 5435 : reward 250.0\r",
      "ep 5436 : reward 261.0\r",
      "ep 5437 : reward 413.0\r"
     ]
    },
    {
     "name": "stdout",
     "output_type": "stream",
     "text": [
      "ep 5438 : reward 320.0\r",
      "ep 5439 : reward 111.0\r",
      "ep 5440 : reward 115.0\r",
      "ep 5441 : reward 323.0\r"
     ]
    },
    {
     "name": "stdout",
     "output_type": "stream",
     "text": [
      "ep 5442 : reward 500.0\r",
      "ep 5443 : reward 500.0\r"
     ]
    },
    {
     "name": "stdout",
     "output_type": "stream",
     "text": [
      "ep 5444 : reward 500.0\r",
      "ep 5445 : reward 339.0\r",
      "ep 5446 : reward 395.0\r"
     ]
    },
    {
     "name": "stdout",
     "output_type": "stream",
     "text": [
      "ep 5447 : reward 393.0\r",
      "ep 5448 : reward 178.0\r",
      "ep 5449 : reward 98.0\r",
      "ep 5450 : reward 115.0\r"
     ]
    },
    {
     "name": "stdout",
     "output_type": "stream",
     "text": [
      "ep 5451 : reward 369.0\r",
      "ep 5452 : reward 247.0\r",
      "ep 5453 : reward 104.0\r",
      "ep 5454 : reward 327.0\r"
     ]
    },
    {
     "name": "stdout",
     "output_type": "stream",
     "text": [
      "ep 5455 : reward 175.0\r",
      "ep 5456 : reward 94.0\r",
      "ep 5457 : reward 31.0\r",
      "ep 5458 : reward 24.0\r",
      "ep 5459 : reward 22.0\r",
      "ep 5460 : reward 33.0\r",
      "ep 5461 : reward 86.0\r"
     ]
    },
    {
     "name": "stdout",
     "output_type": "stream",
     "text": [
      "ep 5462 : reward 107.0\r",
      "ep 5463 : reward 98.0\r",
      "ep 5464 : reward 91.0\r",
      "ep 5465 : reward 244.0\r"
     ]
    },
    {
     "name": "stdout",
     "output_type": "stream",
     "text": [
      "ep 5466 : reward 258.0\r",
      "ep 5467 : reward 262.0\r",
      "ep 5468 : reward 317.0\r"
     ]
    },
    {
     "name": "stdout",
     "output_type": "stream",
     "text": [
      "ep 5469 : reward 500.0\r",
      "ep 5470 : reward 495.0\r"
     ]
    },
    {
     "name": "stdout",
     "output_type": "stream",
     "text": [
      "ep 5471 : reward 500.0\r",
      "ep 5472 : reward 500.0\r"
     ]
    },
    {
     "name": "stdout",
     "output_type": "stream",
     "text": [
      "ep 5473 : reward 500.0\r",
      "ep 5474 : reward 500.0\r"
     ]
    },
    {
     "name": "stdout",
     "output_type": "stream",
     "text": [
      "ep 5475 : reward 500.0\r",
      "ep 5476 : reward 500.0\r"
     ]
    },
    {
     "name": "stdout",
     "output_type": "stream",
     "text": [
      "ep 5477 : reward 500.0\r",
      "ep 5478 : reward 420.0\r"
     ]
    },
    {
     "name": "stdout",
     "output_type": "stream",
     "text": [
      "ep 5479 : reward 500.0\r",
      "ep 5480 : reward 500.0\r"
     ]
    },
    {
     "name": "stdout",
     "output_type": "stream",
     "text": [
      "ep 5481 : reward 403.0\r",
      "ep 5482 : reward 410.0\r"
     ]
    },
    {
     "name": "stdout",
     "output_type": "stream",
     "text": [
      "ep 5483 : reward 481.0\r",
      "ep 5484 : reward 500.0\r"
     ]
    },
    {
     "name": "stdout",
     "output_type": "stream",
     "text": [
      "ep 5485 : reward 500.0\r",
      "ep 5486 : reward 500.0\r"
     ]
    },
    {
     "name": "stdout",
     "output_type": "stream",
     "text": [
      "ep 5487 : reward 500.0\r",
      "ep 5488 : reward 500.0\r"
     ]
    },
    {
     "name": "stdout",
     "output_type": "stream",
     "text": [
      "ep 5489 : reward 488.0\r",
      "ep 5490 : reward 386.0\r",
      "ep 5491 : reward 370.0\r"
     ]
    },
    {
     "name": "stdout",
     "output_type": "stream",
     "text": [
      "ep 5492 : reward 332.0\r",
      "ep 5493 : reward 330.0\r",
      "ep 5494 : reward 249.0\r"
     ]
    },
    {
     "name": "stdout",
     "output_type": "stream",
     "text": [
      "ep 5495 : reward 346.0\r",
      "ep 5496 : reward 249.0\r",
      "ep 5497 : reward 326.0\r"
     ]
    },
    {
     "name": "stdout",
     "output_type": "stream",
     "text": [
      "ep 5498 : reward 268.0\r",
      "ep 5499 : reward 354.0\r",
      "ep 5500 : reward 259.0\r"
     ]
    },
    {
     "name": "stdout",
     "output_type": "stream",
     "text": [
      "ep 5501 : reward 337.0\r",
      "ep 5502 : reward 261.0\r",
      "ep 5503 : reward 372.0\r"
     ]
    },
    {
     "name": "stdout",
     "output_type": "stream",
     "text": [
      "ep 5504 : reward 258.0\r",
      "ep 5505 : reward 193.0\r",
      "ep 5506 : reward 256.0\r",
      "ep 5507 : reward 185.0\r"
     ]
    },
    {
     "name": "stdout",
     "output_type": "stream",
     "text": [
      "ep 5508 : reward 254.0\r",
      "ep 5509 : reward 270.0\r",
      "ep 5510 : reward 242.0\r"
     ]
    },
    {
     "name": "stdout",
     "output_type": "stream",
     "text": [
      "ep 5511 : reward 251.0\r",
      "ep 5512 : reward 100.0\r",
      "ep 5513 : reward 391.0\r"
     ]
    },
    {
     "name": "stdout",
     "output_type": "stream",
     "text": [
      "ep 5514 : reward 500.0\r",
      "ep 5515 : reward 500.0\r"
     ]
    },
    {
     "name": "stdout",
     "output_type": "stream",
     "text": [
      "ep 5516 : reward 500.0\r",
      "ep 5517 : reward 500.0\r",
      "ep 5518 : reward 248.0\r"
     ]
    },
    {
     "name": "stdout",
     "output_type": "stream",
     "text": [
      "ep 5519 : reward 180.0\r",
      "ep 5520 : reward 247.0\r",
      "ep 5521 : reward 112.0\r",
      "ep 5522 : reward 256.0\r"
     ]
    },
    {
     "name": "stdout",
     "output_type": "stream",
     "text": [
      "ep 5523 : reward 500.0\r",
      "ep 5524 : reward 500.0\r"
     ]
    },
    {
     "name": "stdout",
     "output_type": "stream",
     "text": [
      "ep 5525 : reward 500.0\r",
      "ep 5526 : reward 500.0\r"
     ]
    },
    {
     "name": "stdout",
     "output_type": "stream",
     "text": [
      "ep 5527 : reward 500.0\r",
      "ep 5528 : reward 500.0\r"
     ]
    },
    {
     "name": "stdout",
     "output_type": "stream",
     "text": [
      "ep 5529 : reward 500.0\r",
      "ep 5530 : reward 500.0\r"
     ]
    },
    {
     "name": "stdout",
     "output_type": "stream",
     "text": [
      "ep 5531 : reward 500.0\r",
      "ep 5532 : reward 500.0\r",
      "ep 5533 : reward 254.0\r"
     ]
    },
    {
     "name": "stdout",
     "output_type": "stream",
     "text": [
      "ep 5534 : reward 486.0\r",
      "ep 5535 : reward 366.0\r",
      "ep 5536 : reward 402.0\r"
     ]
    },
    {
     "name": "stdout",
     "output_type": "stream",
     "text": [
      "ep 5537 : reward 316.0\r",
      "ep 5538 : reward 256.0\r",
      "ep 5539 : reward 243.0\r"
     ]
    },
    {
     "name": "stdout",
     "output_type": "stream",
     "text": [
      "ep 5540 : reward 340.0\r",
      "ep 5541 : reward 500.0\r"
     ]
    },
    {
     "name": "stdout",
     "output_type": "stream",
     "text": [
      "ep 5542 : reward 455.0\r",
      "ep 5543 : reward 500.0\r",
      "ep 5544 : reward 93.0\r"
     ]
    },
    {
     "name": "stdout",
     "output_type": "stream",
     "text": [
      "ep 5545 : reward 186.0\r",
      "ep 5546 : reward 33.0\r",
      "ep 5547 : reward 28.0\r",
      "ep 5548 : reward 90.0\r",
      "ep 5549 : reward 91.0\r",
      "ep 5550 : reward 87.0\r"
     ]
    },
    {
     "name": "stdout",
     "output_type": "stream",
     "text": [
      "ep 5551 : reward 103.0\r",
      "ep 5552 : reward 100.0\r",
      "ep 5553 : reward 96.0\r",
      "ep 5554 : reward 99.0\r",
      "ep 5555 : reward 104.0\r",
      "ep 5556 : reward 35.0\r"
     ]
    },
    {
     "name": "stdout",
     "output_type": "stream",
     "text": [
      "ep 5557 : reward 90.0\r",
      "ep 5558 : reward 91.0\r",
      "ep 5559 : reward 345.0\r"
     ]
    },
    {
     "name": "stdout",
     "output_type": "stream",
     "text": [
      "ep 5560 : reward 405.0\r",
      "ep 5561 : reward 316.0\r",
      "ep 5562 : reward 252.0\r"
     ]
    },
    {
     "name": "stdout",
     "output_type": "stream",
     "text": [
      "ep 5563 : reward 311.0\r",
      "ep 5564 : reward 252.0\r",
      "ep 5565 : reward 338.0\r"
     ]
    },
    {
     "name": "stdout",
     "output_type": "stream",
     "text": [
      "ep 5566 : reward 245.0\r",
      "ep 5567 : reward 246.0\r",
      "ep 5568 : reward 244.0\r"
     ]
    },
    {
     "name": "stdout",
     "output_type": "stream",
     "text": [
      "ep 5569 : reward 340.0\r",
      "ep 5570 : reward 249.0\r",
      "ep 5571 : reward 265.0\r"
     ]
    },
    {
     "name": "stdout",
     "output_type": "stream",
     "text": [
      "ep 5572 : reward 405.0\r",
      "ep 5573 : reward 371.0\r",
      "ep 5574 : reward 351.0\r"
     ]
    },
    {
     "name": "stdout",
     "output_type": "stream",
     "text": [
      "ep 5575 : reward 235.0\r",
      "ep 5576 : reward 251.0\r",
      "ep 5577 : reward 386.0\r"
     ]
    },
    {
     "name": "stdout",
     "output_type": "stream",
     "text": [
      "ep 5578 : reward 381.0\r",
      "ep 5579 : reward 238.0\r",
      "ep 5580 : reward 229.0\r"
     ]
    },
    {
     "name": "stdout",
     "output_type": "stream",
     "text": [
      "ep 5581 : reward 239.0\r",
      "ep 5582 : reward 328.0\r",
      "ep 5583 : reward 323.0\r"
     ]
    },
    {
     "name": "stdout",
     "output_type": "stream",
     "text": [
      "ep 5584 : reward 324.0\r",
      "ep 5585 : reward 387.0\r",
      "ep 5586 : reward 333.0\r"
     ]
    },
    {
     "name": "stdout",
     "output_type": "stream",
     "text": [
      "ep 5587 : reward 266.0\r",
      "ep 5588 : reward 241.0\r",
      "ep 5589 : reward 246.0\r"
     ]
    },
    {
     "name": "stdout",
     "output_type": "stream",
     "text": [
      "ep 5590 : reward 327.0\r",
      "ep 5591 : reward 327.0\r",
      "ep 5592 : reward 259.0\r"
     ]
    },
    {
     "name": "stdout",
     "output_type": "stream",
     "text": [
      "ep 5593 : reward 238.0\r",
      "ep 5594 : reward 261.0\r",
      "ep 5595 : reward 330.0\r"
     ]
    },
    {
     "name": "stdout",
     "output_type": "stream",
     "text": [
      "ep 5596 : reward 500.0\r",
      "ep 5597 : reward 500.0\r"
     ]
    },
    {
     "name": "stdout",
     "output_type": "stream",
     "text": [
      "ep 5598 : reward 500.0\r",
      "ep 5599 : reward 325.0\r"
     ]
    },
    {
     "name": "stdout",
     "output_type": "stream",
     "text": [
      "ep 5600 : reward 500.0\r",
      "ep 5601 : reward 335.0\r",
      "ep 5602 : reward 266.0\r"
     ]
    },
    {
     "name": "stdout",
     "output_type": "stream",
     "text": [
      "ep 5603 : reward 344.0\r",
      "ep 5604 : reward 390.0\r",
      "ep 5605 : reward 395.0\r"
     ]
    },
    {
     "name": "stdout",
     "output_type": "stream",
     "text": [
      "ep 5606 : reward 393.0\r",
      "ep 5607 : reward 394.0\r",
      "ep 5608 : reward 257.0\r"
     ]
    },
    {
     "name": "stdout",
     "output_type": "stream",
     "text": [
      "ep 5609 : reward 322.0\r",
      "ep 5610 : reward 256.0\r",
      "ep 5611 : reward 500.0\r"
     ]
    },
    {
     "name": "stdout",
     "output_type": "stream",
     "text": [
      "ep 5612 : reward 500.0\r",
      "ep 5613 : reward 500.0\r"
     ]
    },
    {
     "name": "stdout",
     "output_type": "stream",
     "text": [
      "ep 5614 : reward 498.0\r",
      "ep 5615 : reward 355.0\r",
      "ep 5616 : reward 273.0\r",
      "ep 5617 : reward 98.0\r"
     ]
    },
    {
     "name": "stdout",
     "output_type": "stream",
     "text": [
      "ep 5618 : reward 101.0\r",
      "ep 5619 : reward 107.0\r",
      "ep 5620 : reward 110.0\r",
      "ep 5621 : reward 238.0\r",
      "ep 5622 : reward 108.0\r"
     ]
    },
    {
     "name": "stdout",
     "output_type": "stream",
     "text": [
      "ep 5623 : reward 165.0\r",
      "ep 5624 : reward 238.0\r",
      "ep 5625 : reward 102.0\r",
      "ep 5626 : reward 254.0\r"
     ]
    },
    {
     "name": "stdout",
     "output_type": "stream",
     "text": [
      "ep 5627 : reward 209.0\r",
      "ep 5628 : reward 240.0\r",
      "ep 5629 : reward 325.0\r"
     ]
    },
    {
     "name": "stdout",
     "output_type": "stream",
     "text": [
      "ep 5630 : reward 316.0\r",
      "ep 5631 : reward 103.0\r",
      "ep 5632 : reward 249.0\r",
      "ep 5633 : reward 264.0\r"
     ]
    },
    {
     "name": "stdout",
     "output_type": "stream",
     "text": [
      "ep 5634 : reward 264.0\r",
      "ep 5635 : reward 264.0\r",
      "ep 5636 : reward 113.0\r",
      "ep 5637 : reward 188.0\r"
     ]
    },
    {
     "name": "stdout",
     "output_type": "stream",
     "text": [
      "ep 5638 : reward 320.0\r",
      "ep 5639 : reward 106.0\r",
      "ep 5640 : reward 268.0\r",
      "ep 5641 : reward 247.0\r"
     ]
    },
    {
     "name": "stdout",
     "output_type": "stream",
     "text": [
      "ep 5642 : reward 173.0\r",
      "ep 5643 : reward 324.0\r",
      "ep 5644 : reward 414.0\r"
     ]
    },
    {
     "name": "stdout",
     "output_type": "stream",
     "text": [
      "ep 5645 : reward 324.0\r",
      "ep 5646 : reward 403.0\r",
      "ep 5647 : reward 365.0\r"
     ]
    },
    {
     "name": "stdout",
     "output_type": "stream",
     "text": [
      "ep 5648 : reward 500.0\r",
      "ep 5649 : reward 500.0\r"
     ]
    },
    {
     "name": "stdout",
     "output_type": "stream",
     "text": [
      "ep 5650 : reward 500.0\r",
      "ep 5651 : reward 332.0\r"
     ]
    },
    {
     "name": "stdout",
     "output_type": "stream",
     "text": [
      "ep 5652 : reward 462.0\r",
      "ep 5653 : reward 277.0\r",
      "ep 5654 : reward 500.0\r"
     ]
    },
    {
     "name": "stdout",
     "output_type": "stream",
     "text": [
      "ep 5655 : reward 259.0\r",
      "ep 5656 : reward 265.0\r",
      "ep 5657 : reward 255.0\r",
      "ep 5658 : reward 182.0\r"
     ]
    },
    {
     "name": "stdout",
     "output_type": "stream",
     "text": [
      "ep 5659 : reward 97.0\r",
      "ep 5660 : reward 265.0\r",
      "ep 5661 : reward 415.0\r"
     ]
    },
    {
     "name": "stdout",
     "output_type": "stream",
     "text": [
      "ep 5662 : reward 402.0\r",
      "ep 5663 : reward 205.0\r",
      "ep 5664 : reward 396.0\r"
     ]
    },
    {
     "name": "stdout",
     "output_type": "stream",
     "text": [
      "ep 5665 : reward 334.0\r",
      "ep 5666 : reward 265.0\r",
      "ep 5667 : reward 243.0\r"
     ]
    },
    {
     "name": "stdout",
     "output_type": "stream",
     "text": [
      "ep 5668 : reward 316.0\r",
      "ep 5669 : reward 338.0\r",
      "ep 5670 : reward 325.0\r"
     ]
    },
    {
     "name": "stdout",
     "output_type": "stream",
     "text": [
      "ep 5671 : reward 332.0\r",
      "ep 5672 : reward 226.0\r",
      "ep 5673 : reward 472.0\r"
     ]
    },
    {
     "name": "stdout",
     "output_type": "stream",
     "text": [
      "ep 5674 : reward 500.0\r",
      "ep 5675 : reward 481.0\r"
     ]
    },
    {
     "name": "stdout",
     "output_type": "stream",
     "text": [
      "ep 5676 : reward 328.0\r",
      "ep 5677 : reward 500.0\r"
     ]
    },
    {
     "name": "stdout",
     "output_type": "stream",
     "text": [
      "ep 5678 : reward 500.0\r",
      "ep 5679 : reward 262.0\r",
      "ep 5680 : reward 484.0\r"
     ]
    },
    {
     "name": "stdout",
     "output_type": "stream",
     "text": [
      "ep 5681 : reward 263.0\r",
      "ep 5682 : reward 398.0\r"
     ]
    },
    {
     "name": "stdout",
     "output_type": "stream",
     "text": [
      "ep 5683 : reward 500.0\r",
      "ep 5684 : reward 500.0\r"
     ]
    },
    {
     "name": "stdout",
     "output_type": "stream",
     "text": [
      "ep 5685 : reward 500.0\r",
      "ep 5686 : reward 500.0\r"
     ]
    },
    {
     "name": "stdout",
     "output_type": "stream",
     "text": [
      "ep 5687 : reward 417.0\r",
      "ep 5688 : reward 480.0\r",
      "ep 5689 : reward 272.0\r"
     ]
    },
    {
     "name": "stdout",
     "output_type": "stream",
     "text": [
      "ep 5690 : reward 303.0\r",
      "ep 5691 : reward 500.0\r",
      "ep 5692 : reward 169.0\r"
     ]
    },
    {
     "name": "stdout",
     "output_type": "stream",
     "text": [
      "ep 5693 : reward 189.0\r",
      "ep 5694 : reward 500.0\r"
     ]
    },
    {
     "name": "stdout",
     "output_type": "stream",
     "text": [
      "ep 5695 : reward 500.0\r",
      "ep 5696 : reward 500.0\r"
     ]
    },
    {
     "name": "stdout",
     "output_type": "stream",
     "text": [
      "ep 5697 : reward 484.0\r",
      "ep 5698 : reward 500.0\r"
     ]
    },
    {
     "name": "stdout",
     "output_type": "stream",
     "text": [
      "ep 5699 : reward 500.0\r",
      "ep 5700 : reward 478.0\r",
      "ep 5701 : reward 265.0\r"
     ]
    },
    {
     "name": "stdout",
     "output_type": "stream",
     "text": [
      "ep 5702 : reward 270.0\r",
      "ep 5703 : reward 251.0\r",
      "ep 5704 : reward 256.0\r",
      "ep 5705 : reward 190.0\r"
     ]
    },
    {
     "name": "stdout",
     "output_type": "stream",
     "text": [
      "ep 5706 : reward 260.0\r",
      "ep 5707 : reward 317.0\r",
      "ep 5708 : reward 243.0\r",
      "ep 5709 : reward 119.0\r"
     ]
    },
    {
     "name": "stdout",
     "output_type": "stream",
     "text": [
      "ep 5710 : reward 500.0\r",
      "ep 5711 : reward 477.0\r"
     ]
    },
    {
     "name": "stdout",
     "output_type": "stream",
     "text": [
      "ep 5712 : reward 487.0\r",
      "ep 5713 : reward 500.0\r"
     ]
    },
    {
     "name": "stdout",
     "output_type": "stream",
     "text": [
      "ep 5714 : reward 500.0\r",
      "ep 5715 : reward 500.0\r"
     ]
    },
    {
     "name": "stdout",
     "output_type": "stream",
     "text": [
      "ep 5716 : reward 463.0\r",
      "ep 5717 : reward 476.0\r"
     ]
    },
    {
     "name": "stdout",
     "output_type": "stream",
     "text": [
      "ep 5718 : reward 500.0\r",
      "ep 5719 : reward 500.0\r"
     ]
    },
    {
     "name": "stdout",
     "output_type": "stream",
     "text": [
      "ep 5720 : reward 500.0\r",
      "ep 5721 : reward 470.0\r"
     ]
    },
    {
     "name": "stdout",
     "output_type": "stream",
     "text": [
      "ep 5722 : reward 380.0\r",
      "ep 5723 : reward 240.0\r",
      "ep 5724 : reward 282.0\r"
     ]
    },
    {
     "name": "stdout",
     "output_type": "stream",
     "text": [
      "ep 5725 : reward 398.0\r",
      "ep 5726 : reward 500.0\r"
     ]
    },
    {
     "name": "stdout",
     "output_type": "stream",
     "text": [
      "ep 5727 : reward 500.0\r",
      "ep 5728 : reward 486.0\r"
     ]
    },
    {
     "name": "stdout",
     "output_type": "stream",
     "text": [
      "ep 5729 : reward 334.0\r",
      "ep 5730 : reward 406.0\r"
     ]
    },
    {
     "name": "stdout",
     "output_type": "stream",
     "text": [
      "ep 5731 : reward 400.0\r",
      "ep 5732 : reward 328.0\r",
      "ep 5733 : reward 331.0\r"
     ]
    },
    {
     "name": "stdout",
     "output_type": "stream",
     "text": [
      "ep 5734 : reward 384.0\r",
      "ep 5735 : reward 239.0\r",
      "ep 5736 : reward 102.0\r",
      "ep 5737 : reward 106.0\r",
      "ep 5738 : reward 103.0\r"
     ]
    },
    {
     "name": "stdout",
     "output_type": "stream",
     "text": [
      "ep 5739 : reward 175.0\r",
      "ep 5740 : reward 112.0\r",
      "ep 5741 : reward 169.0\r",
      "ep 5742 : reward 111.0\r"
     ]
    },
    {
     "name": "stdout",
     "output_type": "stream",
     "text": [
      "ep 5743 : reward 250.0\r",
      "ep 5744 : reward 101.0\r",
      "ep 5745 : reward 182.0\r",
      "ep 5746 : reward 187.0\r"
     ]
    },
    {
     "name": "stdout",
     "output_type": "stream",
     "text": [
      "ep 5747 : reward 251.0\r",
      "ep 5748 : reward 162.0\r",
      "ep 5749 : reward 329.0\r"
     ]
    },
    {
     "name": "stdout",
     "output_type": "stream",
     "text": [
      "ep 5750 : reward 108.0\r",
      "ep 5751 : reward 269.0\r",
      "ep 5752 : reward 248.0\r"
     ]
    },
    {
     "name": "stdout",
     "output_type": "stream",
     "text": [
      "ep 5753 : reward 254.0\r",
      "ep 5754 : reward 116.0\r",
      "ep 5755 : reward 256.0\r",
      "ep 5756 : reward 245.0\r"
     ]
    },
    {
     "name": "stdout",
     "output_type": "stream",
     "text": [
      "ep 5757 : reward 318.0\r",
      "ep 5758 : reward 256.0\r",
      "ep 5759 : reward 262.0\r"
     ]
    },
    {
     "name": "stdout",
     "output_type": "stream",
     "text": [
      "ep 5760 : reward 265.0\r",
      "ep 5761 : reward 324.0\r",
      "ep 5762 : reward 255.0\r"
     ]
    },
    {
     "name": "stdout",
     "output_type": "stream",
     "text": [
      "ep 5763 : reward 401.0\r",
      "ep 5764 : reward 500.0\r"
     ]
    },
    {
     "name": "stdout",
     "output_type": "stream",
     "text": [
      "ep 5765 : reward 500.0\r",
      "ep 5766 : reward 500.0\r"
     ]
    },
    {
     "name": "stdout",
     "output_type": "stream",
     "text": [
      "ep 5767 : reward 500.0\r",
      "ep 5768 : reward 500.0\r"
     ]
    },
    {
     "name": "stdout",
     "output_type": "stream",
     "text": [
      "ep 5769 : reward 500.0\r",
      "ep 5770 : reward 500.0\r"
     ]
    },
    {
     "name": "stdout",
     "output_type": "stream",
     "text": [
      "ep 5771 : reward 500.0\r",
      "ep 5772 : reward 500.0\r"
     ]
    },
    {
     "name": "stdout",
     "output_type": "stream",
     "text": [
      "ep 5773 : reward 500.0\r",
      "ep 5774 : reward 500.0\r"
     ]
    },
    {
     "name": "stdout",
     "output_type": "stream",
     "text": [
      "ep 5775 : reward 500.0\r",
      "ep 5776 : reward 500.0\r"
     ]
    },
    {
     "name": "stdout",
     "output_type": "stream",
     "text": [
      "ep 5777 : reward 500.0\r",
      "ep 5778 : reward 500.0\r"
     ]
    },
    {
     "name": "stdout",
     "output_type": "stream",
     "text": [
      "ep 5779 : reward 500.0\r",
      "ep 5780 : reward 500.0\r"
     ]
    },
    {
     "name": "stdout",
     "output_type": "stream",
     "text": [
      "ep 5781 : reward 500.0\r",
      "ep 5782 : reward 317.0\r",
      "ep 5783 : reward 462.0\r"
     ]
    },
    {
     "name": "stdout",
     "output_type": "stream",
     "text": [
      "ep 5784 : reward 391.0\r",
      "ep 5785 : reward 251.0\r",
      "ep 5786 : reward 263.0\r"
     ]
    },
    {
     "name": "stdout",
     "output_type": "stream",
     "text": [
      "ep 5787 : reward 251.0\r",
      "ep 5788 : reward 120.0\r",
      "ep 5789 : reward 280.0\r",
      "ep 5790 : reward 241.0\r"
     ]
    },
    {
     "name": "stdout",
     "output_type": "stream",
     "text": [
      "ep 5791 : reward 367.0\r",
      "ep 5792 : reward 272.0\r",
      "ep 5793 : reward 378.0\r"
     ]
    },
    {
     "name": "stdout",
     "output_type": "stream",
     "text": [
      "ep 5794 : reward 500.0\r",
      "ep 5795 : reward 258.0\r",
      "ep 5796 : reward 378.0\r"
     ]
    },
    {
     "name": "stdout",
     "output_type": "stream",
     "text": [
      "ep 5797 : reward 329.0\r",
      "ep 5798 : reward 312.0\r",
      "ep 5799 : reward 196.0\r"
     ]
    },
    {
     "name": "stdout",
     "output_type": "stream",
     "text": [
      "ep 5800 : reward 323.0\r",
      "ep 5801 : reward 500.0\r"
     ]
    },
    {
     "name": "stdout",
     "output_type": "stream",
     "text": [
      "ep 5802 : reward 439.0\r",
      "ep 5803 : reward 500.0\r"
     ]
    },
    {
     "name": "stdout",
     "output_type": "stream",
     "text": [
      "ep 5804 : reward 500.0\r",
      "ep 5805 : reward 256.0\r",
      "ep 5806 : reward 500.0\r"
     ]
    },
    {
     "name": "stdout",
     "output_type": "stream",
     "text": [
      "ep 5807 : reward 393.0\r",
      "ep 5808 : reward 500.0\r"
     ]
    },
    {
     "name": "stdout",
     "output_type": "stream",
     "text": [
      "ep 5809 : reward 500.0\r",
      "ep 5810 : reward 500.0\r"
     ]
    },
    {
     "name": "stdout",
     "output_type": "stream",
     "text": [
      "ep 5811 : reward 500.0\r",
      "ep 5812 : reward 310.0\r",
      "ep 5813 : reward 379.0\r"
     ]
    },
    {
     "name": "stdout",
     "output_type": "stream",
     "text": [
      "ep 5814 : reward 403.0\r",
      "ep 5815 : reward 500.0\r"
     ]
    },
    {
     "name": "stdout",
     "output_type": "stream",
     "text": [
      "ep 5816 : reward 481.0\r",
      "ep 5817 : reward 417.0\r"
     ]
    },
    {
     "name": "stdout",
     "output_type": "stream",
     "text": [
      "ep 5818 : reward 500.0\r",
      "ep 5819 : reward 391.0\r",
      "ep 5820 : reward 266.0\r"
     ]
    },
    {
     "name": "stdout",
     "output_type": "stream",
     "text": [
      "ep 5821 : reward 411.0\r",
      "ep 5822 : reward 324.0\r"
     ]
    },
    {
     "name": "stdout",
     "output_type": "stream",
     "text": [
      "ep 5823 : reward 500.0\r",
      "ep 5824 : reward 387.0\r",
      "ep 5825 : reward 190.0\r"
     ]
    },
    {
     "name": "stdout",
     "output_type": "stream",
     "text": [
      "ep 5826 : reward 262.0\r",
      "ep 5827 : reward 244.0\r",
      "ep 5828 : reward 111.0\r",
      "ep 5829 : reward 247.0\r"
     ]
    },
    {
     "name": "stdout",
     "output_type": "stream",
     "text": [
      "ep 5830 : reward 118.0\r",
      "ep 5831 : reward 103.0\r",
      "ep 5832 : reward 339.0\r",
      "ep 5833 : reward 193.0\r"
     ]
    },
    {
     "name": "stdout",
     "output_type": "stream",
     "text": [
      "ep 5834 : reward 264.0\r",
      "ep 5835 : reward 266.0\r",
      "ep 5836 : reward 390.0\r"
     ]
    },
    {
     "name": "stdout",
     "output_type": "stream",
     "text": [
      "ep 5837 : reward 258.0\r",
      "ep 5838 : reward 262.0\r",
      "ep 5839 : reward 306.0\r"
     ]
    },
    {
     "name": "stdout",
     "output_type": "stream",
     "text": [
      "ep 5840 : reward 273.0\r",
      "ep 5841 : reward 410.0\r",
      "ep 5842 : reward 259.0\r"
     ]
    },
    {
     "name": "stdout",
     "output_type": "stream",
     "text": [
      "ep 5843 : reward 500.0\r",
      "ep 5844 : reward 183.0\r",
      "ep 5845 : reward 115.0\r"
     ]
    },
    {
     "name": "stdout",
     "output_type": "stream",
     "text": [
      "ep 5846 : reward 388.0\r",
      "ep 5847 : reward 250.0\r",
      "ep 5848 : reward 500.0\r"
     ]
    },
    {
     "name": "stdout",
     "output_type": "stream",
     "text": [
      "ep 5849 : reward 500.0\r",
      "ep 5850 : reward 500.0\r"
     ]
    },
    {
     "name": "stdout",
     "output_type": "stream",
     "text": [
      "ep 5851 : reward 500.0\r",
      "ep 5852 : reward 479.0\r"
     ]
    },
    {
     "name": "stdout",
     "output_type": "stream",
     "text": [
      "ep 5853 : reward 500.0\r",
      "ep 5854 : reward 408.0\r"
     ]
    },
    {
     "name": "stdout",
     "output_type": "stream",
     "text": [
      "ep 5855 : reward 499.0\r",
      "ep 5856 : reward 193.0\r",
      "ep 5857 : reward 247.0\r"
     ]
    },
    {
     "name": "stdout",
     "output_type": "stream",
     "text": [
      "ep 5858 : reward 243.0\r",
      "ep 5859 : reward 249.0\r",
      "ep 5860 : reward 371.0\r"
     ]
    },
    {
     "name": "stdout",
     "output_type": "stream",
     "text": [
      "ep 5861 : reward 93.0\r",
      "ep 5862 : reward 269.0\r",
      "ep 5863 : reward 231.0\r"
     ]
    },
    {
     "name": "stdout",
     "output_type": "stream",
     "text": [
      "ep 5864 : reward 313.0\r",
      "ep 5865 : reward 416.0\r",
      "ep 5866 : reward 252.0\r"
     ]
    },
    {
     "name": "stdout",
     "output_type": "stream",
     "text": [
      "ep 5867 : reward 332.0\r",
      "ep 5868 : reward 241.0\r",
      "ep 5869 : reward 235.0\r"
     ]
    },
    {
     "name": "stdout",
     "output_type": "stream",
     "text": [
      "ep 5870 : reward 243.0\r",
      "ep 5871 : reward 277.0\r",
      "ep 5872 : reward 258.0\r"
     ]
    },
    {
     "name": "stdout",
     "output_type": "stream",
     "text": [
      "ep 5873 : reward 195.0\r",
      "ep 5874 : reward 244.0\r",
      "ep 5875 : reward 327.0\r"
     ]
    },
    {
     "name": "stdout",
     "output_type": "stream",
     "text": [
      "ep 5876 : reward 325.0\r",
      "ep 5877 : reward 236.0\r",
      "ep 5878 : reward 252.0\r"
     ]
    },
    {
     "name": "stdout",
     "output_type": "stream",
     "text": [
      "ep 5879 : reward 330.0\r",
      "ep 5880 : reward 180.0\r",
      "ep 5881 : reward 500.0\r"
     ]
    },
    {
     "name": "stdout",
     "output_type": "stream",
     "text": [
      "ep 5882 : reward 500.0\r",
      "ep 5883 : reward 404.0\r"
     ]
    },
    {
     "name": "stdout",
     "output_type": "stream",
     "text": [
      "ep 5884 : reward 479.0\r",
      "ep 5885 : reward 391.0\r"
     ]
    },
    {
     "name": "stdout",
     "output_type": "stream",
     "text": [
      "ep 5886 : reward 488.0\r",
      "ep 5887 : reward 345.0\r",
      "ep 5888 : reward 255.0\r"
     ]
    },
    {
     "name": "stdout",
     "output_type": "stream",
     "text": [
      "ep 5889 : reward 459.0\r",
      "ep 5890 : reward 500.0\r"
     ]
    },
    {
     "name": "stdout",
     "output_type": "stream",
     "text": [
      "ep 5891 : reward 500.0\r",
      "ep 5892 : reward 418.0\r"
     ]
    },
    {
     "name": "stdout",
     "output_type": "stream",
     "text": [
      "ep 5893 : reward 500.0\r",
      "ep 5894 : reward 500.0\r"
     ]
    },
    {
     "name": "stdout",
     "output_type": "stream",
     "text": [
      "ep 5895 : reward 463.0\r",
      "ep 5896 : reward 400.0\r",
      "ep 5897 : reward 248.0\r"
     ]
    },
    {
     "name": "stdout",
     "output_type": "stream",
     "text": [
      "ep 5898 : reward 251.0\r",
      "ep 5899 : reward 259.0\r",
      "ep 5900 : reward 236.0\r"
     ]
    },
    {
     "name": "stdout",
     "output_type": "stream",
     "text": [
      "ep 5901 : reward 258.0\r",
      "ep 5902 : reward 392.0\r"
     ]
    },
    {
     "name": "stdout",
     "output_type": "stream",
     "text": [
      "ep 5903 : reward 500.0\r",
      "ep 5904 : reward 430.0\r",
      "ep 5905 : reward 319.0\r"
     ]
    },
    {
     "name": "stdout",
     "output_type": "stream",
     "text": [
      "ep 5906 : reward 261.0\r",
      "ep 5907 : reward 500.0\r"
     ]
    },
    {
     "name": "stdout",
     "output_type": "stream",
     "text": [
      "ep 5908 : reward 310.0\r",
      "ep 5909 : reward 344.0\r",
      "ep 5910 : reward 423.0\r"
     ]
    },
    {
     "name": "stdout",
     "output_type": "stream",
     "text": [
      "ep 5911 : reward 254.0\r",
      "ep 5912 : reward 238.0\r",
      "ep 5913 : reward 322.0\r"
     ]
    },
    {
     "name": "stdout",
     "output_type": "stream",
     "text": [
      "ep 5914 : reward 417.0\r",
      "ep 5915 : reward 234.0\r",
      "ep 5916 : reward 262.0\r"
     ]
    },
    {
     "name": "stdout",
     "output_type": "stream",
     "text": [
      "ep 5917 : reward 245.0\r",
      "ep 5918 : reward 336.0\r",
      "ep 5919 : reward 260.0\r"
     ]
    },
    {
     "name": "stdout",
     "output_type": "stream",
     "text": [
      "ep 5920 : reward 253.0\r",
      "ep 5921 : reward 318.0\r",
      "ep 5922 : reward 198.0\r"
     ]
    },
    {
     "name": "stdout",
     "output_type": "stream",
     "text": [
      "ep 5923 : reward 401.0\r",
      "ep 5924 : reward 323.0\r",
      "ep 5925 : reward 241.0\r"
     ]
    },
    {
     "name": "stdout",
     "output_type": "stream",
     "text": [
      "ep 5926 : reward 249.0\r",
      "ep 5927 : reward 186.0\r",
      "ep 5928 : reward 251.0\r",
      "ep 5929 : reward 189.0\r"
     ]
    },
    {
     "name": "stdout",
     "output_type": "stream",
     "text": [
      "ep 5930 : reward 249.0\r",
      "ep 5931 : reward 452.0\r"
     ]
    },
    {
     "name": "stdout",
     "output_type": "stream",
     "text": [
      "ep 5932 : reward 409.0\r",
      "ep 5933 : reward 244.0\r",
      "ep 5934 : reward 313.0\r"
     ]
    },
    {
     "name": "stdout",
     "output_type": "stream",
     "text": [
      "ep 5935 : reward 250.0\r",
      "ep 5936 : reward 304.0\r",
      "ep 5937 : reward 190.0\r",
      "ep 5938 : reward 90.0\r"
     ]
    },
    {
     "name": "stdout",
     "output_type": "stream",
     "text": [
      "ep 5939 : reward 107.0\r",
      "ep 5940 : reward 189.0\r",
      "ep 5941 : reward 320.0\r",
      "ep 5942 : reward 179.0\r"
     ]
    },
    {
     "name": "stdout",
     "output_type": "stream",
     "text": [
      "ep 5943 : reward 104.0\r",
      "ep 5944 : reward 269.0\r",
      "ep 5945 : reward 336.0\r"
     ]
    },
    {
     "name": "stdout",
     "output_type": "stream",
     "text": [
      "ep 5946 : reward 353.0\r",
      "ep 5947 : reward 254.0\r",
      "ep 5948 : reward 317.0\r"
     ]
    },
    {
     "name": "stdout",
     "output_type": "stream",
     "text": [
      "ep 5949 : reward 322.0\r",
      "ep 5950 : reward 394.0\r",
      "ep 5951 : reward 181.0\r"
     ]
    },
    {
     "name": "stdout",
     "output_type": "stream",
     "text": [
      "ep 5952 : reward 327.0\r",
      "ep 5953 : reward 251.0\r",
      "ep 5954 : reward 106.0\r",
      "ep 5955 : reward 283.0\r"
     ]
    },
    {
     "name": "stdout",
     "output_type": "stream",
     "text": [
      "ep 5956 : reward 500.0\r",
      "ep 5957 : reward 500.0\r"
     ]
    },
    {
     "name": "stdout",
     "output_type": "stream",
     "text": [
      "ep 5958 : reward 500.0\r",
      "ep 5959 : reward 460.0\r"
     ]
    },
    {
     "name": "stdout",
     "output_type": "stream",
     "text": [
      "ep 5960 : reward 500.0\r",
      "ep 5961 : reward 500.0\r"
     ]
    },
    {
     "name": "stdout",
     "output_type": "stream",
     "text": [
      "ep 5962 : reward 500.0\r",
      "ep 5963 : reward 500.0\r"
     ]
    },
    {
     "name": "stdout",
     "output_type": "stream",
     "text": [
      "ep 5964 : reward 500.0\r",
      "ep 5965 : reward 500.0\r"
     ]
    },
    {
     "name": "stdout",
     "output_type": "stream",
     "text": [
      "ep 5966 : reward 500.0\r",
      "ep 5967 : reward 500.0\r"
     ]
    },
    {
     "name": "stdout",
     "output_type": "stream",
     "text": [
      "ep 5968 : reward 500.0\r",
      "ep 5969 : reward 500.0\r"
     ]
    },
    {
     "name": "stdout",
     "output_type": "stream",
     "text": [
      "ep 5970 : reward 500.0\r",
      "ep 5971 : reward 500.0\r"
     ]
    },
    {
     "name": "stdout",
     "output_type": "stream",
     "text": [
      "ep 5972 : reward 425.0\r",
      "ep 5973 : reward 500.0\r"
     ]
    },
    {
     "name": "stdout",
     "output_type": "stream",
     "text": [
      "ep 5974 : reward 335.0\r",
      "ep 5975 : reward 251.0\r",
      "ep 5976 : reward 414.0\r"
     ]
    },
    {
     "name": "stdout",
     "output_type": "stream",
     "text": [
      "ep 5977 : reward 324.0\r",
      "ep 5978 : reward 234.0\r",
      "ep 5979 : reward 246.0\r"
     ]
    },
    {
     "name": "stdout",
     "output_type": "stream",
     "text": [
      "ep 5980 : reward 316.0\r",
      "ep 5981 : reward 170.0\r",
      "ep 5982 : reward 242.0\r"
     ]
    },
    {
     "name": "stdout",
     "output_type": "stream",
     "text": [
      "ep 5983 : reward 341.0\r",
      "ep 5984 : reward 270.0\r",
      "ep 5985 : reward 324.0\r"
     ]
    },
    {
     "name": "stdout",
     "output_type": "stream",
     "text": [
      "ep 5986 : reward 257.0\r",
      "ep 5987 : reward 382.0\r",
      "ep 5988 : reward 389.0\r"
     ]
    },
    {
     "name": "stdout",
     "output_type": "stream",
     "text": [
      "ep 5989 : reward 190.0\r",
      "ep 5990 : reward 259.0\r",
      "ep 5991 : reward 323.0\r"
     ]
    },
    {
     "name": "stdout",
     "output_type": "stream",
     "text": [
      "ep 5992 : reward 408.0\r",
      "ep 5993 : reward 343.0\r",
      "ep 5994 : reward 251.0\r"
     ]
    },
    {
     "name": "stdout",
     "output_type": "stream",
     "text": [
      "ep 5995 : reward 262.0\r",
      "ep 5996 : reward 325.0\r",
      "ep 5997 : reward 252.0\r"
     ]
    },
    {
     "name": "stdout",
     "output_type": "stream",
     "text": [
      "ep 5998 : reward 250.0\r",
      "ep 5999 : reward 89.0\r"
     ]
    },
    {
     "name": "stdout",
     "output_type": "stream",
     "text": [
      "ep 6000 : reward 95.0\r",
      "ep 6001 : reward 396.0\r"
     ]
    },
    {
     "name": "stdout",
     "output_type": "stream",
     "text": [
      "ep 6002 : reward 281.0\r",
      "ep 6003 : reward 265.0\r",
      "ep 6004 : reward 183.0\r"
     ]
    },
    {
     "name": "stdout",
     "output_type": "stream",
     "text": [
      "ep 6005 : reward 318.0\r",
      "ep 6006 : reward 347.0\r",
      "ep 6007 : reward 187.0\r",
      "ep 6008 : reward 185.0\r"
     ]
    },
    {
     "name": "stdout",
     "output_type": "stream",
     "text": [
      "ep 6009 : reward 264.0\r",
      "ep 6010 : reward 97.0\r",
      "ep 6011 : reward 254.0\r",
      "ep 6012 : reward 237.0\r"
     ]
    },
    {
     "name": "stdout",
     "output_type": "stream",
     "text": [
      "ep 6013 : reward 331.0\r",
      "ep 6014 : reward 500.0\r"
     ]
    },
    {
     "name": "stdout",
     "output_type": "stream",
     "text": [
      "ep 6015 : reward 391.0\r",
      "ep 6016 : reward 333.0\r",
      "ep 6017 : reward 239.0\r"
     ]
    },
    {
     "name": "stdout",
     "output_type": "stream",
     "text": [
      "ep 6018 : reward 500.0\r",
      "ep 6019 : reward 103.0\r",
      "ep 6020 : reward 98.0\r",
      "ep 6021 : reward 113.0\r",
      "ep 6022 : reward 107.0\r"
     ]
    },
    {
     "name": "stdout",
     "output_type": "stream",
     "text": [
      "ep 6023 : reward 105.0\r",
      "ep 6024 : reward 246.0\r",
      "ep 6025 : reward 178.0\r",
      "ep 6026 : reward 241.0\r"
     ]
    },
    {
     "name": "stdout",
     "output_type": "stream",
     "text": [
      "ep 6027 : reward 275.0\r",
      "ep 6028 : reward 190.0\r",
      "ep 6029 : reward 318.0\r"
     ]
    },
    {
     "name": "stdout",
     "output_type": "stream",
     "text": [
      "ep 6030 : reward 500.0\r",
      "ep 6031 : reward 458.0\r"
     ]
    },
    {
     "name": "stdout",
     "output_type": "stream",
     "text": [
      "ep 6032 : reward 404.0\r",
      "ep 6033 : reward 299.0\r",
      "ep 6034 : reward 435.0\r"
     ]
    },
    {
     "name": "stdout",
     "output_type": "stream",
     "text": [
      "ep 6035 : reward 500.0\r",
      "ep 6036 : reward 243.0\r",
      "ep 6037 : reward 400.0\r"
     ]
    },
    {
     "name": "stdout",
     "output_type": "stream",
     "text": [
      "ep 6038 : reward 394.0\r",
      "ep 6039 : reward 500.0\r",
      "ep 6040 : reward 246.0\r"
     ]
    },
    {
     "name": "stdout",
     "output_type": "stream",
     "text": [
      "ep 6041 : reward 330.0\r",
      "ep 6042 : reward 337.0\r",
      "ep 6043 : reward 371.0\r"
     ]
    },
    {
     "name": "stdout",
     "output_type": "stream",
     "text": [
      "ep 6044 : reward 192.0\r",
      "ep 6045 : reward 500.0\r"
     ]
    },
    {
     "name": "stdout",
     "output_type": "stream",
     "text": [
      "ep 6046 : reward 390.0\r",
      "ep 6047 : reward 100.0\r",
      "ep 6048 : reward 338.0\r"
     ]
    },
    {
     "name": "stdout",
     "output_type": "stream",
     "text": [
      "ep 6049 : reward 487.0\r",
      "ep 6050 : reward 276.0\r",
      "ep 6051 : reward 199.0\r"
     ]
    },
    {
     "name": "stdout",
     "output_type": "stream",
     "text": [
      "ep 6052 : reward 370.0\r",
      "ep 6053 : reward 252.0\r",
      "ep 6054 : reward 265.0\r"
     ]
    },
    {
     "name": "stdout",
     "output_type": "stream",
     "text": [
      "ep 6055 : reward 401.0\r",
      "ep 6056 : reward 385.0\r"
     ]
    },
    {
     "name": "stdout",
     "output_type": "stream",
     "text": [
      "ep 6057 : reward 479.0\r",
      "ep 6058 : reward 339.0\r",
      "ep 6059 : reward 330.0\r"
     ]
    },
    {
     "name": "stdout",
     "output_type": "stream",
     "text": [
      "ep 6060 : reward 259.0\r",
      "ep 6061 : reward 380.0\r",
      "ep 6062 : reward 178.0\r"
     ]
    },
    {
     "name": "stdout",
     "output_type": "stream",
     "text": [
      "ep 6063 : reward 340.0\r",
      "ep 6064 : reward 238.0\r",
      "ep 6065 : reward 175.0\r"
     ]
    },
    {
     "name": "stdout",
     "output_type": "stream",
     "text": [
      "ep 6066 : reward 380.0\r",
      "ep 6067 : reward 271.0\r",
      "ep 6068 : reward 258.0\r"
     ]
    },
    {
     "name": "stdout",
     "output_type": "stream",
     "text": [
      "ep 6069 : reward 254.0\r",
      "ep 6070 : reward 266.0\r",
      "ep 6071 : reward 400.0\r"
     ]
    },
    {
     "name": "stdout",
     "output_type": "stream",
     "text": [
      "ep 6072 : reward 343.0\r",
      "ep 6073 : reward 250.0\r",
      "ep 6074 : reward 412.0\r"
     ]
    },
    {
     "name": "stdout",
     "output_type": "stream",
     "text": [
      "ep 6075 : reward 346.0\r",
      "ep 6076 : reward 340.0\r",
      "ep 6077 : reward 98.0\r",
      "ep 6078 : reward 102.0\r"
     ]
    },
    {
     "name": "stdout",
     "output_type": "stream",
     "text": [
      "ep 6079 : reward 101.0\r",
      "ep 6080 : reward 105.0\r",
      "ep 6081 : reward 109.0\r",
      "ep 6082 : reward 27.0\r",
      "ep 6083 : reward 103.0\r",
      "ep 6084 : reward 105.0\r"
     ]
    },
    {
     "name": "stdout",
     "output_type": "stream",
     "text": [
      "ep 6085 : reward 186.0\r",
      "ep 6086 : reward 102.0\r",
      "ep 6087 : reward 319.0\r"
     ]
    },
    {
     "name": "stdout",
     "output_type": "stream",
     "text": [
      "ep 6088 : reward 320.0\r",
      "ep 6089 : reward 329.0\r",
      "ep 6090 : reward 272.0\r"
     ]
    },
    {
     "name": "stdout",
     "output_type": "stream",
     "text": [
      "ep 6091 : reward 190.0\r",
      "ep 6092 : reward 282.0\r",
      "ep 6093 : reward 170.0\r",
      "ep 6094 : reward 246.0\r"
     ]
    },
    {
     "name": "stdout",
     "output_type": "stream",
     "text": [
      "ep 6095 : reward 332.0\r",
      "ep 6096 : reward 327.0\r",
      "ep 6097 : reward 247.0\r"
     ]
    },
    {
     "name": "stdout",
     "output_type": "stream",
     "text": [
      "ep 6098 : reward 208.0\r",
      "ep 6099 : reward 248.0\r",
      "ep 6100 : reward 500.0\r"
     ]
    },
    {
     "name": "stdout",
     "output_type": "stream",
     "text": [
      "ep 6101 : reward 251.0\r",
      "ep 6102 : reward 342.0\r",
      "ep 6103 : reward 263.0\r"
     ]
    },
    {
     "name": "stdout",
     "output_type": "stream",
     "text": [
      "ep 6104 : reward 500.0\r",
      "ep 6105 : reward 500.0\r"
     ]
    },
    {
     "name": "stdout",
     "output_type": "stream",
     "text": [
      "ep 6106 : reward 500.0\r",
      "ep 6107 : reward 500.0\r"
     ]
    },
    {
     "name": "stdout",
     "output_type": "stream",
     "text": [
      "ep 6108 : reward 500.0\r",
      "ep 6109 : reward 488.0\r"
     ]
    },
    {
     "name": "stdout",
     "output_type": "stream",
     "text": [
      "ep 6110 : reward 500.0\r",
      "ep 6111 : reward 500.0\r"
     ]
    },
    {
     "name": "stdout",
     "output_type": "stream",
     "text": [
      "ep 6112 : reward 500.0\r",
      "ep 6113 : reward 353.0\r",
      "ep 6114 : reward 276.0\r"
     ]
    },
    {
     "name": "stdout",
     "output_type": "stream",
     "text": [
      "ep 6115 : reward 481.0\r",
      "ep 6116 : reward 384.0\r",
      "ep 6117 : reward 110.0\r"
     ]
    },
    {
     "name": "stdout",
     "output_type": "stream",
     "text": [
      "ep 6118 : reward 260.0\r",
      "ep 6119 : reward 267.0\r",
      "ep 6120 : reward 314.0\r"
     ]
    },
    {
     "name": "stdout",
     "output_type": "stream",
     "text": [
      "ep 6121 : reward 251.0\r",
      "ep 6122 : reward 275.0\r",
      "ep 6123 : reward 188.0\r"
     ]
    },
    {
     "name": "stdout",
     "output_type": "stream",
     "text": [
      "ep 6124 : reward 249.0\r",
      "ep 6125 : reward 382.0\r",
      "ep 6126 : reward 253.0\r"
     ]
    },
    {
     "name": "stdout",
     "output_type": "stream",
     "text": [
      "ep 6127 : reward 101.0\r",
      "ep 6128 : reward 99.0\r",
      "ep 6129 : reward 99.0\r",
      "ep 6130 : reward 93.0\r",
      "ep 6131 : reward 111.0\r"
     ]
    },
    {
     "name": "stdout",
     "output_type": "stream",
     "text": [
      "ep 6132 : reward 101.0\r",
      "ep 6133 : reward 106.0\r",
      "ep 6134 : reward 98.0\r",
      "ep 6135 : reward 99.0\r",
      "ep 6136 : reward 112.0\r"
     ]
    },
    {
     "name": "stdout",
     "output_type": "stream",
     "text": [
      "ep 6137 : reward 247.0\r",
      "ep 6138 : reward 104.0\r",
      "ep 6139 : reward 261.0\r"
     ]
    },
    {
     "name": "stdout",
     "output_type": "stream",
     "text": [
      "ep 6140 : reward 323.0\r",
      "ep 6141 : reward 327.0\r",
      "ep 6142 : reward 250.0\r"
     ]
    },
    {
     "name": "stdout",
     "output_type": "stream",
     "text": [
      "ep 6143 : reward 240.0\r",
      "ep 6144 : reward 260.0\r",
      "ep 6145 : reward 500.0\r"
     ]
    },
    {
     "name": "stdout",
     "output_type": "stream",
     "text": [
      "ep 6146 : reward 500.0\r",
      "ep 6147 : reward 500.0\r"
     ]
    },
    {
     "name": "stdout",
     "output_type": "stream",
     "text": [
      "ep 6148 : reward 391.0\r",
      "ep 6149 : reward 500.0\r"
     ]
    },
    {
     "name": "stdout",
     "output_type": "stream",
     "text": [
      "ep 6150 : reward 489.0\r",
      "ep 6151 : reward 470.0\r"
     ]
    },
    {
     "name": "stdout",
     "output_type": "stream",
     "text": [
      "ep 6152 : reward 472.0\r",
      "ep 6153 : reward 488.0\r"
     ]
    },
    {
     "name": "stdout",
     "output_type": "stream",
     "text": [
      "ep 6154 : reward 331.0\r",
      "ep 6155 : reward 325.0\r",
      "ep 6156 : reward 315.0\r"
     ]
    },
    {
     "name": "stdout",
     "output_type": "stream",
     "text": [
      "ep 6157 : reward 271.0\r",
      "ep 6158 : reward 259.0\r",
      "ep 6159 : reward 235.0\r",
      "ep 6160 : reward 99.0\r"
     ]
    },
    {
     "name": "stdout",
     "output_type": "stream",
     "text": [
      "ep 6161 : reward 173.0\r",
      "ep 6162 : reward 100.0\r",
      "ep 6163 : reward 170.0\r",
      "ep 6164 : reward 111.0\r"
     ]
    },
    {
     "name": "stdout",
     "output_type": "stream",
     "text": [
      "ep 6165 : reward 238.0\r",
      "ep 6166 : reward 249.0\r",
      "ep 6167 : reward 109.0\r",
      "ep 6168 : reward 101.0\r",
      "ep 6169 : reward 22.0\r"
     ]
    },
    {
     "name": "stdout",
     "output_type": "stream",
     "text": [
      "ep 6170 : reward 94.0\r",
      "ep 6171 : reward 95.0\r",
      "ep 6172 : reward 403.0\r"
     ]
    },
    {
     "name": "stdout",
     "output_type": "stream",
     "text": [
      "ep 6173 : reward 500.0\r",
      "ep 6174 : reward 500.0\r"
     ]
    },
    {
     "name": "stdout",
     "output_type": "stream",
     "text": [
      "ep 6175 : reward 500.0\r",
      "ep 6176 : reward 500.0\r"
     ]
    },
    {
     "name": "stdout",
     "output_type": "stream",
     "text": [
      "ep 6177 : reward 500.0\r",
      "ep 6178 : reward 464.0\r"
     ]
    },
    {
     "name": "stdout",
     "output_type": "stream",
     "text": [
      "ep 6179 : reward 500.0\r",
      "ep 6180 : reward 500.0\r"
     ]
    },
    {
     "name": "stdout",
     "output_type": "stream",
     "text": [
      "ep 6181 : reward 403.0\r",
      "ep 6182 : reward 306.0\r",
      "ep 6183 : reward 259.0\r"
     ]
    },
    {
     "name": "stdout",
     "output_type": "stream",
     "text": [
      "ep 6184 : reward 392.0\r",
      "ep 6185 : reward 399.0\r",
      "ep 6186 : reward 326.0\r"
     ]
    },
    {
     "name": "stdout",
     "output_type": "stream",
     "text": [
      "ep 6187 : reward 377.0\r",
      "ep 6188 : reward 257.0\r",
      "ep 6189 : reward 110.0\r",
      "ep 6190 : reward 179.0\r"
     ]
    },
    {
     "name": "stdout",
     "output_type": "stream",
     "text": [
      "ep 6191 : reward 109.0\r",
      "ep 6192 : reward 105.0\r",
      "ep 6193 : reward 179.0\r",
      "ep 6194 : reward 231.0\r"
     ]
    },
    {
     "name": "stdout",
     "output_type": "stream",
     "text": [
      "ep 6195 : reward 235.0\r",
      "ep 6196 : reward 257.0\r",
      "ep 6197 : reward 308.0\r"
     ]
    },
    {
     "name": "stdout",
     "output_type": "stream",
     "text": [
      "ep 6198 : reward 262.0\r",
      "ep 6199 : reward 242.0\r",
      "ep 6200 : reward 241.0\r"
     ]
    },
    {
     "name": "stdout",
     "output_type": "stream",
     "text": [
      "ep 6201 : reward 270.0\r",
      "ep 6202 : reward 240.0\r",
      "ep 6203 : reward 315.0\r"
     ]
    },
    {
     "name": "stdout",
     "output_type": "stream",
     "text": [
      "ep 6204 : reward 183.0\r",
      "ep 6205 : reward 236.0\r",
      "ep 6206 : reward 237.0\r"
     ]
    },
    {
     "name": "stdout",
     "output_type": "stream",
     "text": [
      "ep 6207 : reward 369.0\r",
      "ep 6208 : reward 319.0\r",
      "ep 6209 : reward 316.0\r"
     ]
    },
    {
     "name": "stdout",
     "output_type": "stream",
     "text": [
      "ep 6210 : reward 331.0\r",
      "ep 6211 : reward 249.0\r",
      "ep 6212 : reward 480.0\r"
     ]
    },
    {
     "name": "stdout",
     "output_type": "stream",
     "text": [
      "ep 6213 : reward 500.0\r",
      "ep 6214 : reward 500.0\r"
     ]
    },
    {
     "name": "stdout",
     "output_type": "stream",
     "text": [
      "ep 6215 : reward 500.0\r",
      "ep 6216 : reward 500.0\r"
     ]
    },
    {
     "name": "stdout",
     "output_type": "stream",
     "text": [
      "ep 6217 : reward 500.0\r",
      "ep 6218 : reward 318.0\r",
      "ep 6219 : reward 254.0\r"
     ]
    },
    {
     "name": "stdout",
     "output_type": "stream",
     "text": [
      "ep 6220 : reward 255.0\r",
      "ep 6221 : reward 396.0\r"
     ]
    },
    {
     "name": "stdout",
     "output_type": "stream",
     "text": [
      "ep 6222 : reward 462.0\r",
      "ep 6223 : reward 332.0\r"
     ]
    },
    {
     "name": "stdout",
     "output_type": "stream",
     "text": [
      "ep 6224 : reward 461.0\r",
      "ep 6225 : reward 400.0\r",
      "ep 6226 : reward 244.0\r"
     ]
    },
    {
     "name": "stdout",
     "output_type": "stream",
     "text": [
      "ep 6227 : reward 251.0\r",
      "ep 6228 : reward 335.0\r"
     ]
    },
    {
     "name": "stdout",
     "output_type": "stream",
     "text": [
      "ep 6229 : reward 500.0\r",
      "ep 6230 : reward 394.0\r",
      "ep 6231 : reward 268.0\r"
     ]
    },
    {
     "name": "stdout",
     "output_type": "stream",
     "text": [
      "ep 6232 : reward 251.0\r",
      "ep 6233 : reward 389.0\r",
      "ep 6234 : reward 184.0\r"
     ]
    },
    {
     "name": "stdout",
     "output_type": "stream",
     "text": [
      "ep 6235 : reward 333.0\r",
      "ep 6236 : reward 118.0\r",
      "ep 6237 : reward 385.0\r"
     ]
    },
    {
     "name": "stdout",
     "output_type": "stream",
     "text": [
      "ep 6238 : reward 236.0\r",
      "ep 6239 : reward 236.0\r",
      "ep 6240 : reward 183.0\r"
     ]
    },
    {
     "name": "stdout",
     "output_type": "stream",
     "text": [
      "ep 6241 : reward 326.0\r",
      "ep 6242 : reward 159.0\r",
      "ep 6243 : reward 190.0\r",
      "ep 6244 : reward 312.0\r"
     ]
    },
    {
     "name": "stdout",
     "output_type": "stream",
     "text": [
      "ep 6245 : reward 233.0\r",
      "ep 6246 : reward 403.0\r",
      "ep 6247 : reward 269.0\r"
     ]
    },
    {
     "name": "stdout",
     "output_type": "stream",
     "text": [
      "ep 6248 : reward 500.0\r",
      "ep 6249 : reward 500.0\r"
     ]
    },
    {
     "name": "stdout",
     "output_type": "stream",
     "text": [
      "ep 6250 : reward 500.0\r",
      "ep 6251 : reward 500.0\r"
     ]
    },
    {
     "name": "stdout",
     "output_type": "stream",
     "text": [
      "ep 6252 : reward 469.0\r",
      "ep 6253 : reward 420.0\r"
     ]
    },
    {
     "name": "stdout",
     "output_type": "stream",
     "text": [
      "ep 6254 : reward 500.0\r",
      "ep 6255 : reward 417.0\r",
      "ep 6256 : reward 399.0\r"
     ]
    },
    {
     "name": "stdout",
     "output_type": "stream",
     "text": [
      "ep 6257 : reward 397.0\r",
      "ep 6258 : reward 312.0\r",
      "ep 6259 : reward 254.0\r"
     ]
    },
    {
     "name": "stdout",
     "output_type": "stream",
     "text": [
      "ep 6260 : reward 305.0\r",
      "ep 6261 : reward 319.0\r",
      "ep 6262 : reward 254.0\r"
     ]
    },
    {
     "name": "stdout",
     "output_type": "stream",
     "text": [
      "ep 6263 : reward 500.0\r",
      "ep 6264 : reward 500.0\r"
     ]
    },
    {
     "name": "stdout",
     "output_type": "stream",
     "text": [
      "ep 6265 : reward 500.0\r",
      "ep 6266 : reward 500.0\r"
     ]
    },
    {
     "name": "stdout",
     "output_type": "stream",
     "text": [
      "ep 6267 : reward 500.0\r",
      "ep 6268 : reward 500.0\r"
     ]
    },
    {
     "name": "stdout",
     "output_type": "stream",
     "text": [
      "ep 6269 : reward 500.0\r",
      "ep 6270 : reward 393.0\r"
     ]
    },
    {
     "name": "stdout",
     "output_type": "stream",
     "text": [
      "ep 6271 : reward 500.0\r",
      "ep 6272 : reward 337.0\r",
      "ep 6273 : reward 404.0\r"
     ]
    },
    {
     "name": "stdout",
     "output_type": "stream",
     "text": [
      "ep 6274 : reward 500.0\r",
      "ep 6275 : reward 500.0\r"
     ]
    },
    {
     "name": "stdout",
     "output_type": "stream",
     "text": [
      "ep 6276 : reward 500.0\r",
      "ep 6277 : reward 340.0\r"
     ]
    },
    {
     "name": "stdout",
     "output_type": "stream",
     "text": [
      "ep 6278 : reward 500.0\r",
      "ep 6279 : reward 476.0\r"
     ]
    },
    {
     "name": "stdout",
     "output_type": "stream",
     "text": [
      "ep 6280 : reward 491.0\r",
      "ep 6281 : reward 393.0\r",
      "ep 6282 : reward 253.0\r"
     ]
    },
    {
     "name": "stdout",
     "output_type": "stream",
     "text": [
      "ep 6283 : reward 283.0\r",
      "ep 6284 : reward 500.0\r"
     ]
    },
    {
     "name": "stdout",
     "output_type": "stream",
     "text": [
      "ep 6285 : reward 500.0\r",
      "ep 6286 : reward 500.0\r"
     ]
    },
    {
     "name": "stdout",
     "output_type": "stream",
     "text": [
      "ep 6287 : reward 500.0\r",
      "ep 6288 : reward 473.0\r"
     ]
    },
    {
     "name": "stdout",
     "output_type": "stream",
     "text": [
      "ep 6289 : reward 500.0\r",
      "ep 6290 : reward 500.0\r"
     ]
    },
    {
     "name": "stdout",
     "output_type": "stream",
     "text": [
      "ep 6291 : reward 500.0\r",
      "ep 6292 : reward 500.0\r"
     ]
    },
    {
     "name": "stdout",
     "output_type": "stream",
     "text": [
      "ep 6293 : reward 492.0\r",
      "ep 6294 : reward 492.0\r"
     ]
    },
    {
     "name": "stdout",
     "output_type": "stream",
     "text": [
      "ep 6295 : reward 414.0\r",
      "ep 6296 : reward 401.0\r",
      "ep 6297 : reward 174.0\r"
     ]
    },
    {
     "name": "stdout",
     "output_type": "stream",
     "text": [
      "ep 6298 : reward 99.0\r",
      "ep 6299 : reward 99.0\r",
      "ep 6300 : reward 109.0\r",
      "ep 6301 : reward 176.0\r"
     ]
    },
    {
     "name": "stdout",
     "output_type": "stream",
     "text": [
      "ep 6302 : reward 246.0\r",
      "ep 6303 : reward 331.0\r",
      "ep 6304 : reward 195.0\r"
     ]
    },
    {
     "name": "stdout",
     "output_type": "stream",
     "text": [
      "ep 6305 : reward 324.0\r",
      "ep 6306 : reward 263.0\r",
      "ep 6307 : reward 500.0\r"
     ]
    },
    {
     "name": "stdout",
     "output_type": "stream",
     "text": [
      "ep 6308 : reward 500.0\r",
      "ep 6309 : reward 500.0\r"
     ]
    },
    {
     "name": "stdout",
     "output_type": "stream",
     "text": [
      "ep 6310 : reward 386.0\r",
      "ep 6311 : reward 500.0\r"
     ]
    },
    {
     "name": "stdout",
     "output_type": "stream",
     "text": [
      "ep 6312 : reward 500.0\r",
      "ep 6313 : reward 399.0\r"
     ]
    },
    {
     "name": "stdout",
     "output_type": "stream",
     "text": [
      "ep 6314 : reward 500.0\r",
      "ep 6315 : reward 500.0\r"
     ]
    },
    {
     "name": "stdout",
     "output_type": "stream",
     "text": [
      "ep 6316 : reward 500.0\r",
      "ep 6317 : reward 399.0\r"
     ]
    },
    {
     "name": "stdout",
     "output_type": "stream",
     "text": [
      "ep 6318 : reward 500.0\r",
      "ep 6319 : reward 500.0\r"
     ]
    },
    {
     "name": "stdout",
     "output_type": "stream",
     "text": [
      "ep 6320 : reward 500.0\r",
      "ep 6321 : reward 345.0\r"
     ]
    },
    {
     "name": "stdout",
     "output_type": "stream",
     "text": [
      "ep 6322 : reward 500.0\r",
      "ep 6323 : reward 500.0\r"
     ]
    },
    {
     "name": "stdout",
     "output_type": "stream",
     "text": [
      "ep 6324 : reward 500.0\r",
      "ep 6325 : reward 500.0\r"
     ]
    },
    {
     "name": "stdout",
     "output_type": "stream",
     "text": [
      "ep 6326 : reward 500.0\r",
      "ep 6327 : reward 500.0\r"
     ]
    },
    {
     "name": "stdout",
     "output_type": "stream",
     "text": [
      "ep 6328 : reward 500.0\r",
      "ep 6329 : reward 500.0\r"
     ]
    },
    {
     "name": "stdout",
     "output_type": "stream",
     "text": [
      "ep 6330 : reward 318.0\r",
      "ep 6331 : reward 500.0\r"
     ]
    },
    {
     "name": "stdout",
     "output_type": "stream",
     "text": [
      "ep 6332 : reward 500.0\r",
      "ep 6333 : reward 400.0\r"
     ]
    },
    {
     "name": "stdout",
     "output_type": "stream",
     "text": [
      "ep 6334 : reward 500.0\r",
      "ep 6335 : reward 500.0\r"
     ]
    },
    {
     "name": "stdout",
     "output_type": "stream",
     "text": [
      "ep 6336 : reward 500.0\r",
      "ep 6337 : reward 500.0\r"
     ]
    },
    {
     "name": "stdout",
     "output_type": "stream",
     "text": [
      "ep 6338 : reward 500.0\r",
      "ep 6339 : reward 500.0\r"
     ]
    },
    {
     "name": "stdout",
     "output_type": "stream",
     "text": [
      "ep 6340 : reward 500.0\r",
      "ep 6341 : reward 500.0\r"
     ]
    },
    {
     "name": "stdout",
     "output_type": "stream",
     "text": [
      "ep 6342 : reward 500.0\r",
      "ep 6343 : reward 500.0\r"
     ]
    },
    {
     "name": "stdout",
     "output_type": "stream",
     "text": [
      "ep 6344 : reward 500.0\r",
      "ep 6345 : reward 500.0\r"
     ]
    },
    {
     "name": "stdout",
     "output_type": "stream",
     "text": [
      "ep 6346 : reward 500.0\r",
      "ep 6347 : reward 417.0\r"
     ]
    },
    {
     "name": "stdout",
     "output_type": "stream",
     "text": [
      "ep 6348 : reward 500.0\r",
      "ep 6349 : reward 384.0\r"
     ]
    },
    {
     "name": "stdout",
     "output_type": "stream",
     "text": [
      "ep 6350 : reward 470.0\r",
      "ep 6351 : reward 484.0\r"
     ]
    },
    {
     "name": "stdout",
     "output_type": "stream",
     "text": [
      "ep 6352 : reward 326.0\r",
      "ep 6353 : reward 249.0\r",
      "ep 6354 : reward 337.0\r"
     ]
    },
    {
     "name": "stdout",
     "output_type": "stream",
     "text": [
      "ep 6355 : reward 243.0\r",
      "ep 6356 : reward 247.0\r",
      "ep 6357 : reward 258.0\r"
     ]
    },
    {
     "name": "stdout",
     "output_type": "stream",
     "text": [
      "ep 6358 : reward 248.0\r",
      "ep 6359 : reward 262.0\r"
     ]
    },
    {
     "name": "stdout",
     "output_type": "stream",
     "text": [
      "ep 6360 : reward 500.0\r",
      "ep 6361 : reward 500.0\r"
     ]
    },
    {
     "name": "stdout",
     "output_type": "stream",
     "text": [
      "ep 6362 : reward 500.0\r",
      "ep 6363 : reward 500.0\r",
      "ep 6364 : reward 281.0\r"
     ]
    },
    {
     "name": "stdout",
     "output_type": "stream",
     "text": [
      "ep 6365 : reward 238.0\r",
      "ep 6366 : reward 227.0\r",
      "ep 6367 : reward 190.0\r"
     ]
    },
    {
     "name": "stdout",
     "output_type": "stream",
     "text": [
      "ep 6368 : reward 266.0\r",
      "ep 6369 : reward 314.0\r",
      "ep 6370 : reward 344.0\r"
     ]
    },
    {
     "name": "stdout",
     "output_type": "stream",
     "text": [
      "ep 6371 : reward 500.0\r",
      "ep 6372 : reward 500.0\r"
     ]
    },
    {
     "name": "stdout",
     "output_type": "stream",
     "text": [
      "ep 6373 : reward 500.0\r",
      "ep 6374 : reward 500.0\r"
     ]
    },
    {
     "name": "stdout",
     "output_type": "stream",
     "text": [
      "ep 6375 : reward 500.0\r",
      "ep 6376 : reward 500.0\r"
     ]
    },
    {
     "name": "stdout",
     "output_type": "stream",
     "text": [
      "ep 6377 : reward 500.0\r",
      "ep 6378 : reward 500.0\r"
     ]
    },
    {
     "name": "stdout",
     "output_type": "stream",
     "text": [
      "ep 6379 : reward 500.0\r",
      "ep 6380 : reward 500.0\r"
     ]
    },
    {
     "name": "stdout",
     "output_type": "stream",
     "text": [
      "ep 6381 : reward 500.0\r",
      "ep 6382 : reward 391.0\r",
      "ep 6383 : reward 395.0\r"
     ]
    },
    {
     "name": "stdout",
     "output_type": "stream",
     "text": [
      "ep 6384 : reward 190.0\r",
      "ep 6385 : reward 98.0\r",
      "ep 6386 : reward 92.0\r",
      "ep 6387 : reward 94.0\r",
      "ep 6388 : reward 176.0\r"
     ]
    },
    {
     "name": "stdout",
     "output_type": "stream",
     "text": [
      "ep 6389 : reward 368.0\r",
      "ep 6390 : reward 111.0\r",
      "ep 6391 : reward 184.0\r",
      "ep 6392 : reward 327.0\r"
     ]
    },
    {
     "name": "stdout",
     "output_type": "stream",
     "text": [
      "ep 6393 : reward 401.0\r",
      "ep 6394 : reward 252.0\r",
      "ep 6395 : reward 267.0\r",
      "ep 6396 : reward 98.0\r"
     ]
    },
    {
     "name": "stdout",
     "output_type": "stream",
     "text": [
      "ep 6397 : reward 99.0\r",
      "ep 6398 : reward 111.0\r",
      "ep 6399 : reward 108.0\r",
      "ep 6400 : reward 239.0\r"
     ]
    },
    {
     "name": "stdout",
     "output_type": "stream",
     "text": [
      "ep 6401 : reward 243.0\r",
      "ep 6402 : reward 26.0\r",
      "ep 6403 : reward 180.0\r",
      "ep 6404 : reward 238.0\r"
     ]
    },
    {
     "name": "stdout",
     "output_type": "stream",
     "text": [
      "ep 6405 : reward 251.0\r",
      "ep 6406 : reward 234.0\r",
      "ep 6407 : reward 324.0\r"
     ]
    },
    {
     "name": "stdout",
     "output_type": "stream",
     "text": [
      "ep 6408 : reward 176.0\r",
      "ep 6409 : reward 264.0\r",
      "ep 6410 : reward 348.0\r"
     ]
    },
    {
     "name": "stdout",
     "output_type": "stream",
     "text": [
      "ep 6411 : reward 248.0\r",
      "ep 6412 : reward 344.0\r",
      "ep 6413 : reward 269.0\r"
     ]
    },
    {
     "name": "stdout",
     "output_type": "stream",
     "text": [
      "ep 6414 : reward 277.0\r",
      "ep 6415 : reward 241.0\r",
      "ep 6416 : reward 399.0\r"
     ]
    },
    {
     "name": "stdout",
     "output_type": "stream",
     "text": [
      "ep 6417 : reward 345.0\r",
      "ep 6418 : reward 312.0\r"
     ]
    },
    {
     "name": "stdout",
     "output_type": "stream",
     "text": [
      "ep 6419 : reward 500.0\r",
      "ep 6420 : reward 482.0\r"
     ]
    },
    {
     "name": "stdout",
     "output_type": "stream",
     "text": [
      "ep 6421 : reward 500.0\r",
      "ep 6422 : reward 500.0\r"
     ]
    },
    {
     "name": "stdout",
     "output_type": "stream",
     "text": [
      "ep 6423 : reward 500.0\r",
      "ep 6424 : reward 500.0\r"
     ]
    },
    {
     "name": "stdout",
     "output_type": "stream",
     "text": [
      "ep 6425 : reward 500.0\r",
      "ep 6426 : reward 500.0\r"
     ]
    },
    {
     "name": "stdout",
     "output_type": "stream",
     "text": [
      "ep 6427 : reward 500.0\r",
      "ep 6428 : reward 430.0\r"
     ]
    },
    {
     "name": "stdout",
     "output_type": "stream",
     "text": [
      "ep 6429 : reward 500.0\r",
      "ep 6430 : reward 458.0\r"
     ]
    },
    {
     "name": "stdout",
     "output_type": "stream",
     "text": [
      "ep 6431 : reward 500.0\r",
      "ep 6432 : reward 404.0\r"
     ]
    },
    {
     "name": "stdout",
     "output_type": "stream",
     "text": [
      "ep 6433 : reward 500.0\r",
      "ep 6434 : reward 392.0\r"
     ]
    },
    {
     "name": "stdout",
     "output_type": "stream",
     "text": [
      "ep 6435 : reward 433.0\r",
      "ep 6436 : reward 366.0\r",
      "ep 6437 : reward 252.0\r"
     ]
    },
    {
     "name": "stdout",
     "output_type": "stream",
     "text": [
      "ep 6438 : reward 404.0\r",
      "ep 6439 : reward 336.0\r"
     ]
    },
    {
     "name": "stdout",
     "output_type": "stream",
     "text": [
      "ep 6440 : reward 466.0\r",
      "ep 6441 : reward 261.0\r",
      "ep 6442 : reward 244.0\r"
     ]
    },
    {
     "name": "stdout",
     "output_type": "stream",
     "text": [
      "ep 6443 : reward 327.0\r",
      "ep 6444 : reward 297.0\r",
      "ep 6445 : reward 396.0\r"
     ]
    },
    {
     "name": "stdout",
     "output_type": "stream",
     "text": [
      "ep 6446 : reward 259.0\r",
      "ep 6447 : reward 500.0\r",
      "ep 6448 : reward 275.0\r"
     ]
    },
    {
     "name": "stdout",
     "output_type": "stream",
     "text": [
      "ep 6449 : reward 264.0\r",
      "ep 6450 : reward 357.0\r"
     ]
    },
    {
     "name": "stdout",
     "output_type": "stream",
     "text": [
      "ep 6451 : reward 500.0\r",
      "ep 6452 : reward 331.0\r"
     ]
    },
    {
     "name": "stdout",
     "output_type": "stream",
     "text": [
      "ep 6453 : reward 500.0\r",
      "ep 6454 : reward 424.0\r"
     ]
    },
    {
     "name": "stdout",
     "output_type": "stream",
     "text": [
      "ep 6455 : reward 500.0\r",
      "ep 6456 : reward 470.0\r"
     ]
    },
    {
     "name": "stdout",
     "output_type": "stream",
     "text": [
      "ep 6457 : reward 500.0\r",
      "ep 6458 : reward 323.0\r",
      "ep 6459 : reward 408.0\r"
     ]
    },
    {
     "name": "stdout",
     "output_type": "stream",
     "text": [
      "ep 6460 : reward 256.0\r",
      "ep 6461 : reward 351.0\r",
      "ep 6462 : reward 178.0\r"
     ]
    },
    {
     "name": "stdout",
     "output_type": "stream",
     "text": [
      "ep 6463 : reward 419.0\r",
      "ep 6464 : reward 256.0\r",
      "ep 6465 : reward 384.0\r"
     ]
    },
    {
     "name": "stdout",
     "output_type": "stream",
     "text": [
      "ep 6466 : reward 323.0\r",
      "ep 6467 : reward 316.0\r",
      "ep 6468 : reward 333.0\r"
     ]
    },
    {
     "name": "stdout",
     "output_type": "stream",
     "text": [
      "ep 6469 : reward 254.0\r",
      "ep 6470 : reward 364.0\r",
      "ep 6471 : reward 255.0\r"
     ]
    },
    {
     "name": "stdout",
     "output_type": "stream",
     "text": [
      "ep 6472 : reward 252.0\r",
      "ep 6473 : reward 176.0\r",
      "ep 6474 : reward 390.0\r"
     ]
    },
    {
     "name": "stdout",
     "output_type": "stream",
     "text": [
      "ep 6475 : reward 239.0\r",
      "ep 6476 : reward 256.0\r",
      "ep 6477 : reward 182.0\r"
     ]
    },
    {
     "name": "stdout",
     "output_type": "stream",
     "text": [
      "ep 6478 : reward 330.0\r",
      "ep 6479 : reward 260.0\r",
      "ep 6480 : reward 241.0\r"
     ]
    },
    {
     "name": "stdout",
     "output_type": "stream",
     "text": [
      "ep 6481 : reward 280.0\r",
      "ep 6482 : reward 236.0\r",
      "ep 6483 : reward 245.0\r"
     ]
    },
    {
     "name": "stdout",
     "output_type": "stream",
     "text": [
      "ep 6484 : reward 236.0\r",
      "ep 6485 : reward 247.0\r",
      "ep 6486 : reward 111.0\r",
      "ep 6487 : reward 240.0\r"
     ]
    },
    {
     "name": "stdout",
     "output_type": "stream",
     "text": [
      "ep 6488 : reward 247.0\r",
      "ep 6489 : reward 320.0\r",
      "ep 6490 : reward 177.0\r"
     ]
    },
    {
     "name": "stdout",
     "output_type": "stream",
     "text": [
      "ep 6491 : reward 340.0\r",
      "ep 6492 : reward 230.0\r",
      "ep 6493 : reward 237.0\r",
      "ep 6494 : reward 96.0\r"
     ]
    },
    {
     "name": "stdout",
     "output_type": "stream",
     "text": [
      "ep 6495 : reward 90.0\r",
      "ep 6496 : reward 95.0\r",
      "ep 6497 : reward 113.0\r",
      "ep 6498 : reward 113.0\r",
      "ep 6499 : reward 244.0\r"
     ]
    },
    {
     "name": "stdout",
     "output_type": "stream",
     "text": [
      "ep 6500 : reward 90.0\r",
      "ep 6501 : reward 96.0\r",
      "ep 6502 : reward 96.0\r",
      "ep 6503 : reward 101.0\r",
      "ep 6504 : reward 92.0\r"
     ]
    },
    {
     "name": "stdout",
     "output_type": "stream",
     "text": [
      "ep 6505 : reward 242.0\r",
      "ep 6506 : reward 99.0\r",
      "ep 6507 : reward 106.0\r",
      "ep 6508 : reward 179.0\r"
     ]
    },
    {
     "name": "stdout",
     "output_type": "stream",
     "text": [
      "ep 6509 : reward 245.0\r",
      "ep 6510 : reward 397.0\r",
      "ep 6511 : reward 106.0\r"
     ]
    },
    {
     "name": "stdout",
     "output_type": "stream",
     "text": [
      "ep 6512 : reward 258.0\r",
      "ep 6513 : reward 262.0\r",
      "ep 6514 : reward 250.0\r"
     ]
    },
    {
     "name": "stdout",
     "output_type": "stream",
     "text": [
      "ep 6515 : reward 320.0\r",
      "ep 6516 : reward 164.0\r",
      "ep 6517 : reward 191.0\r",
      "ep 6518 : reward 262.0\r"
     ]
    },
    {
     "name": "stdout",
     "output_type": "stream",
     "text": [
      "ep 6519 : reward 248.0\r",
      "ep 6520 : reward 410.0\r",
      "ep 6521 : reward 260.0\r"
     ]
    },
    {
     "name": "stdout",
     "output_type": "stream",
     "text": [
      "ep 6522 : reward 257.0\r",
      "ep 6523 : reward 198.0\r",
      "ep 6524 : reward 259.0\r"
     ]
    },
    {
     "name": "stdout",
     "output_type": "stream",
     "text": [
      "ep 6525 : reward 256.0\r",
      "ep 6526 : reward 315.0\r",
      "ep 6527 : reward 242.0\r"
     ]
    },
    {
     "name": "stdout",
     "output_type": "stream",
     "text": [
      "ep 6528 : reward 252.0\r",
      "ep 6529 : reward 500.0\r"
     ]
    },
    {
     "name": "stdout",
     "output_type": "stream",
     "text": [
      "ep 6530 : reward 500.0\r",
      "ep 6531 : reward 500.0\r"
     ]
    },
    {
     "name": "stdout",
     "output_type": "stream",
     "text": [
      "ep 6532 : reward 500.0\r",
      "ep 6533 : reward 500.0\r"
     ]
    },
    {
     "name": "stdout",
     "output_type": "stream",
     "text": [
      "ep 6534 : reward 500.0\r",
      "ep 6535 : reward 500.0\r"
     ]
    },
    {
     "name": "stdout",
     "output_type": "stream",
     "text": [
      "ep 6536 : reward 500.0\r",
      "ep 6537 : reward 382.0\r",
      "ep 6538 : reward 273.0\r"
     ]
    },
    {
     "name": "stdout",
     "output_type": "stream",
     "text": [
      "ep 6539 : reward 240.0\r",
      "ep 6540 : reward 500.0\r"
     ]
    },
    {
     "name": "stdout",
     "output_type": "stream",
     "text": [
      "ep 6541 : reward 500.0\r",
      "ep 6542 : reward 500.0\r"
     ]
    },
    {
     "name": "stdout",
     "output_type": "stream",
     "text": [
      "ep 6543 : reward 440.0\r",
      "ep 6544 : reward 500.0\r"
     ]
    },
    {
     "name": "stdout",
     "output_type": "stream",
     "text": [
      "ep 6545 : reward 375.0\r",
      "ep 6546 : reward 350.0\r",
      "ep 6547 : reward 411.0\r"
     ]
    },
    {
     "name": "stdout",
     "output_type": "stream",
     "text": [
      "ep 6548 : reward 500.0\r",
      "ep 6549 : reward 500.0\r"
     ]
    },
    {
     "name": "stdout",
     "output_type": "stream",
     "text": [
      "ep 6550 : reward 500.0\r",
      "ep 6551 : reward 500.0\r"
     ]
    },
    {
     "name": "stdout",
     "output_type": "stream",
     "text": [
      "ep 6552 : reward 500.0\r",
      "ep 6553 : reward 334.0\r"
     ]
    },
    {
     "name": "stdout",
     "output_type": "stream",
     "text": [
      "ep 6554 : reward 500.0\r",
      "ep 6555 : reward 362.0\r",
      "ep 6556 : reward 271.0\r"
     ]
    },
    {
     "name": "stdout",
     "output_type": "stream",
     "text": [
      "ep 6557 : reward 261.0\r",
      "ep 6558 : reward 399.0\r",
      "ep 6559 : reward 336.0\r"
     ]
    },
    {
     "name": "stdout",
     "output_type": "stream",
     "text": [
      "ep 6560 : reward 242.0\r",
      "ep 6561 : reward 181.0\r",
      "ep 6562 : reward 244.0\r",
      "ep 6563 : reward 253.0\r"
     ]
    },
    {
     "name": "stdout",
     "output_type": "stream",
     "text": [
      "ep 6564 : reward 326.0\r",
      "ep 6565 : reward 243.0\r",
      "ep 6566 : reward 250.0\r"
     ]
    },
    {
     "name": "stdout",
     "output_type": "stream",
     "text": [
      "ep 6567 : reward 262.0\r",
      "ep 6568 : reward 184.0\r",
      "ep 6569 : reward 240.0\r",
      "ep 6570 : reward 235.0\r"
     ]
    },
    {
     "name": "stdout",
     "output_type": "stream",
     "text": [
      "ep 6571 : reward 372.0\r",
      "ep 6572 : reward 97.0\r",
      "ep 6573 : reward 89.0\r",
      "ep 6574 : reward 93.0\r",
      "ep 6575 : reward 179.0\r"
     ]
    },
    {
     "name": "stdout",
     "output_type": "stream",
     "text": [
      "ep 6576 : reward 116.0\r",
      "ep 6577 : reward 95.0\r",
      "ep 6578 : reward 96.0\r",
      "ep 6579 : reward 238.0\r"
     ]
    },
    {
     "name": "stdout",
     "output_type": "stream",
     "text": [
      "ep 6580 : reward 241.0\r",
      "ep 6581 : reward 244.0\r",
      "ep 6582 : reward 271.0\r"
     ]
    },
    {
     "name": "stdout",
     "output_type": "stream",
     "text": [
      "ep 6583 : reward 390.0\r",
      "ep 6584 : reward 114.0\r",
      "ep 6585 : reward 316.0\r"
     ]
    },
    {
     "name": "stdout",
     "output_type": "stream",
     "text": [
      "ep 6586 : reward 374.0\r",
      "ep 6587 : reward 238.0\r",
      "ep 6588 : reward 366.0\r"
     ]
    },
    {
     "name": "stdout",
     "output_type": "stream",
     "text": [
      "ep 6589 : reward 255.0\r",
      "ep 6590 : reward 122.0\r",
      "ep 6591 : reward 265.0\r"
     ]
    },
    {
     "name": "stdout",
     "output_type": "stream",
     "text": [
      "ep 6592 : reward 326.0\r",
      "ep 6593 : reward 254.0\r",
      "ep 6594 : reward 269.0\r"
     ]
    },
    {
     "name": "stdout",
     "output_type": "stream",
     "text": [
      "ep 6595 : reward 171.0\r",
      "ep 6596 : reward 321.0\r",
      "ep 6597 : reward 351.0\r"
     ]
    },
    {
     "name": "stdout",
     "output_type": "stream",
     "text": [
      "ep 6598 : reward 355.0\r",
      "ep 6599 : reward 320.0\r",
      "ep 6600 : reward 325.0\r"
     ]
    },
    {
     "name": "stdout",
     "output_type": "stream",
     "text": [
      "ep 6601 : reward 399.0\r",
      "ep 6602 : reward 500.0\r"
     ]
    },
    {
     "name": "stdout",
     "output_type": "stream",
     "text": [
      "ep 6603 : reward 500.0\r",
      "ep 6604 : reward 266.0\r",
      "ep 6605 : reward 329.0\r"
     ]
    },
    {
     "name": "stdout",
     "output_type": "stream",
     "text": [
      "ep 6606 : reward 249.0\r",
      "ep 6607 : reward 185.0\r",
      "ep 6608 : reward 189.0\r",
      "ep 6609 : reward 184.0\r"
     ]
    },
    {
     "name": "stdout",
     "output_type": "stream",
     "text": [
      "ep 6610 : reward 248.0\r",
      "ep 6611 : reward 285.0\r",
      "ep 6612 : reward 185.0\r"
     ]
    },
    {
     "name": "stdout",
     "output_type": "stream",
     "text": [
      "ep 6613 : reward 254.0\r",
      "ep 6614 : reward 250.0\r",
      "ep 6615 : reward 263.0\r"
     ]
    },
    {
     "name": "stdout",
     "output_type": "stream",
     "text": [
      "ep 6616 : reward 247.0\r",
      "ep 6617 : reward 178.0\r",
      "ep 6618 : reward 247.0\r",
      "ep 6619 : reward 237.0\r"
     ]
    },
    {
     "name": "stdout",
     "output_type": "stream",
     "text": [
      "ep 6620 : reward 239.0\r",
      "ep 6621 : reward 262.0\r",
      "ep 6622 : reward 245.0\r"
     ]
    },
    {
     "name": "stdout",
     "output_type": "stream",
     "text": [
      "ep 6623 : reward 500.0\r",
      "ep 6624 : reward 500.0\r"
     ]
    },
    {
     "name": "stdout",
     "output_type": "stream",
     "text": [
      "ep 6625 : reward 500.0\r",
      "ep 6626 : reward 470.0\r"
     ]
    },
    {
     "name": "stdout",
     "output_type": "stream",
     "text": [
      "ep 6627 : reward 500.0\r",
      "ep 6628 : reward 500.0\r"
     ]
    },
    {
     "name": "stdout",
     "output_type": "stream",
     "text": [
      "ep 6629 : reward 500.0\r",
      "ep 6630 : reward 500.0\r"
     ]
    },
    {
     "name": "stdout",
     "output_type": "stream",
     "text": [
      "ep 6631 : reward 500.0\r",
      "ep 6632 : reward 500.0\r"
     ]
    },
    {
     "name": "stdout",
     "output_type": "stream",
     "text": [
      "ep 6633 : reward 500.0\r",
      "ep 6634 : reward 500.0\r"
     ]
    },
    {
     "name": "stdout",
     "output_type": "stream",
     "text": [
      "ep 6635 : reward 500.0\r",
      "ep 6636 : reward 500.0\r"
     ]
    },
    {
     "name": "stdout",
     "output_type": "stream",
     "text": [
      "ep 6637 : reward 500.0\r",
      "ep 6638 : reward 500.0\r"
     ]
    },
    {
     "name": "stdout",
     "output_type": "stream",
     "text": [
      "ep 6639 : reward 479.0\r",
      "ep 6640 : reward 311.0\r",
      "ep 6641 : reward 500.0\r"
     ]
    },
    {
     "name": "stdout",
     "output_type": "stream",
     "text": [
      "ep 6642 : reward 385.0\r",
      "ep 6643 : reward 398.0\r",
      "ep 6644 : reward 351.0\r"
     ]
    },
    {
     "name": "stdout",
     "output_type": "stream",
     "text": [
      "ep 6645 : reward 500.0\r",
      "ep 6646 : reward 408.0\r",
      "ep 6647 : reward 302.0\r"
     ]
    },
    {
     "name": "stdout",
     "output_type": "stream",
     "text": [
      "ep 6648 : reward 266.0\r",
      "ep 6649 : reward 375.0\r",
      "ep 6650 : reward 199.0\r"
     ]
    },
    {
     "name": "stdout",
     "output_type": "stream",
     "text": [
      "ep 6651 : reward 327.0\r",
      "ep 6652 : reward 262.0\r",
      "ep 6653 : reward 251.0\r"
     ]
    },
    {
     "name": "stdout",
     "output_type": "stream",
     "text": [
      "ep 6654 : reward 236.0\r",
      "ep 6655 : reward 334.0\r",
      "ep 6656 : reward 402.0\r"
     ]
    },
    {
     "name": "stdout",
     "output_type": "stream",
     "text": [
      "ep 6657 : reward 121.0\r",
      "ep 6658 : reward 184.0\r",
      "ep 6659 : reward 182.0\r",
      "ep 6660 : reward 250.0\r"
     ]
    },
    {
     "name": "stdout",
     "output_type": "stream",
     "text": [
      "ep 6661 : reward 316.0\r",
      "ep 6662 : reward 264.0\r",
      "ep 6663 : reward 112.0\r",
      "ep 6664 : reward 269.0\r"
     ]
    },
    {
     "name": "stdout",
     "output_type": "stream",
     "text": [
      "ep 6665 : reward 399.0\r",
      "ep 6666 : reward 188.0\r",
      "ep 6667 : reward 324.0\r"
     ]
    },
    {
     "name": "stdout",
     "output_type": "stream",
     "text": [
      "ep 6668 : reward 249.0\r",
      "ep 6669 : reward 235.0\r",
      "ep 6670 : reward 240.0\r",
      "ep 6671 : reward 176.0\r"
     ]
    },
    {
     "name": "stdout",
     "output_type": "stream",
     "text": [
      "ep 6672 : reward 313.0\r",
      "ep 6673 : reward 500.0\r"
     ]
    },
    {
     "name": "stdout",
     "output_type": "stream",
     "text": [
      "ep 6674 : reward 500.0\r",
      "ep 6675 : reward 500.0\r"
     ]
    },
    {
     "name": "stdout",
     "output_type": "stream",
     "text": [
      "ep 6676 : reward 500.0\r",
      "ep 6677 : reward 500.0\r"
     ]
    },
    {
     "name": "stdout",
     "output_type": "stream",
     "text": [
      "ep 6678 : reward 500.0\r",
      "ep 6679 : reward 500.0\r"
     ]
    },
    {
     "name": "stdout",
     "output_type": "stream",
     "text": [
      "ep 6680 : reward 500.0\r",
      "ep 6681 : reward 500.0\r"
     ]
    },
    {
     "name": "stdout",
     "output_type": "stream",
     "text": [
      "ep 6682 : reward 500.0\r",
      "ep 6683 : reward 500.0\r"
     ]
    },
    {
     "name": "stdout",
     "output_type": "stream",
     "text": [
      "ep 6684 : reward 500.0\r",
      "ep 6685 : reward 469.0\r"
     ]
    },
    {
     "name": "stdout",
     "output_type": "stream",
     "text": [
      "ep 6686 : reward 500.0\r",
      "ep 6687 : reward 236.0\r",
      "ep 6688 : reward 360.0\r"
     ]
    },
    {
     "name": "stdout",
     "output_type": "stream",
     "text": [
      "ep 6689 : reward 321.0\r",
      "ep 6690 : reward 336.0\r",
      "ep 6691 : reward 253.0\r"
     ]
    },
    {
     "name": "stdout",
     "output_type": "stream",
     "text": [
      "ep 6692 : reward 256.0\r",
      "ep 6693 : reward 398.0\r",
      "ep 6694 : reward 315.0\r"
     ]
    },
    {
     "name": "stdout",
     "output_type": "stream",
     "text": [
      "ep 6695 : reward 398.0\r",
      "ep 6696 : reward 248.0\r",
      "ep 6697 : reward 500.0\r"
     ]
    },
    {
     "name": "stdout",
     "output_type": "stream",
     "text": [
      "ep 6698 : reward 405.0\r",
      "ep 6699 : reward 181.0\r",
      "ep 6700 : reward 269.0\r",
      "ep 6701 : reward 234.0\r"
     ]
    },
    {
     "name": "stdout",
     "output_type": "stream",
     "text": [
      "ep 6702 : reward 258.0\r",
      "ep 6703 : reward 243.0\r",
      "ep 6704 : reward 315.0\r"
     ]
    },
    {
     "name": "stdout",
     "output_type": "stream",
     "text": [
      "ep 6705 : reward 273.0\r",
      "ep 6706 : reward 500.0\r"
     ]
    },
    {
     "name": "stdout",
     "output_type": "stream",
     "text": [
      "ep 6707 : reward 500.0\r",
      "ep 6708 : reward 500.0\r"
     ]
    },
    {
     "name": "stdout",
     "output_type": "stream",
     "text": [
      "ep 6709 : reward 491.0\r",
      "ep 6710 : reward 272.0\r",
      "ep 6711 : reward 486.0\r"
     ]
    },
    {
     "name": "stdout",
     "output_type": "stream",
     "text": [
      "ep 6712 : reward 363.0\r",
      "ep 6713 : reward 159.0\r",
      "ep 6714 : reward 258.0\r",
      "ep 6715 : reward 95.0\r"
     ]
    },
    {
     "name": "stdout",
     "output_type": "stream",
     "text": [
      "ep 6716 : reward 276.0\r",
      "ep 6717 : reward 397.0\r"
     ]
    },
    {
     "name": "stdout",
     "output_type": "stream",
     "text": [
      "ep 6718 : reward 390.0\r",
      "ep 6719 : reward 158.0\r",
      "ep 6720 : reward 175.0\r",
      "ep 6721 : reward 319.0\r"
     ]
    },
    {
     "name": "stdout",
     "output_type": "stream",
     "text": [
      "ep 6722 : reward 393.0\r",
      "ep 6723 : reward 254.0\r",
      "ep 6724 : reward 252.0\r"
     ]
    },
    {
     "name": "stdout",
     "output_type": "stream",
     "text": [
      "ep 6725 : reward 250.0\r",
      "ep 6726 : reward 400.0\r",
      "ep 6727 : reward 193.0\r"
     ]
    },
    {
     "name": "stdout",
     "output_type": "stream",
     "text": [
      "ep 6728 : reward 101.0\r",
      "ep 6729 : reward 237.0\r",
      "ep 6730 : reward 174.0\r",
      "ep 6731 : reward 108.0\r"
     ]
    },
    {
     "name": "stdout",
     "output_type": "stream",
     "text": [
      "ep 6732 : reward 256.0\r",
      "ep 6733 : reward 100.0\r",
      "ep 6734 : reward 44.0\r",
      "ep 6735 : reward 29.0\r",
      "ep 6736 : reward 127.0\r"
     ]
    },
    {
     "name": "stdout",
     "output_type": "stream",
     "text": [
      "ep 6737 : reward 334.0\r",
      "ep 6738 : reward 112.0\r",
      "ep 6739 : reward 325.0\r"
     ]
    },
    {
     "name": "stdout",
     "output_type": "stream",
     "text": [
      "ep 6740 : reward 254.0\r",
      "ep 6741 : reward 410.0\r",
      "ep 6742 : reward 338.0\r"
     ]
    },
    {
     "name": "stdout",
     "output_type": "stream",
     "text": [
      "ep 6743 : reward 462.0\r",
      "ep 6744 : reward 465.0\r",
      "ep 6745 : reward 259.0\r"
     ]
    },
    {
     "name": "stdout",
     "output_type": "stream",
     "text": [
      "ep 6746 : reward 232.0\r",
      "ep 6747 : reward 246.0\r",
      "ep 6748 : reward 252.0\r",
      "ep 6749 : reward 88.0\r"
     ]
    },
    {
     "name": "stdout",
     "output_type": "stream",
     "text": [
      "ep 6750 : reward 103.0\r",
      "ep 6751 : reward 170.0\r",
      "ep 6752 : reward 225.0\r",
      "ep 6753 : reward 112.0\r",
      "ep 6754 : reward 95.0\r"
     ]
    },
    {
     "name": "stdout",
     "output_type": "stream",
     "text": [
      "ep 6755 : reward 246.0\r",
      "ep 6756 : reward 250.0\r",
      "ep 6757 : reward 235.0\r",
      "ep 6758 : reward 110.0\r"
     ]
    },
    {
     "name": "stdout",
     "output_type": "stream",
     "text": [
      "ep 6759 : reward 180.0\r",
      "ep 6760 : reward 249.0\r",
      "ep 6761 : reward 181.0\r"
     ]
    },
    {
     "name": "stdout",
     "output_type": "stream",
     "text": [
      "ep 6762 : reward 385.0\r",
      "ep 6763 : reward 256.0\r",
      "ep 6764 : reward 169.0\r"
     ]
    },
    {
     "name": "stdout",
     "output_type": "stream",
     "text": [
      "ep 6765 : reward 389.0\r",
      "ep 6766 : reward 395.0\r",
      "ep 6767 : reward 332.0\r"
     ]
    },
    {
     "name": "stdout",
     "output_type": "stream",
     "text": [
      "ep 6768 : reward 236.0\r",
      "ep 6769 : reward 186.0\r",
      "ep 6770 : reward 242.0\r"
     ]
    },
    {
     "name": "stdout",
     "output_type": "stream",
     "text": [
      "ep 6771 : reward 317.0\r",
      "ep 6772 : reward 312.0\r",
      "ep 6773 : reward 96.0\r",
      "ep 6774 : reward 105.0\r"
     ]
    },
    {
     "name": "stdout",
     "output_type": "stream",
     "text": [
      "ep 6775 : reward 104.0\r",
      "ep 6776 : reward 88.0\r",
      "ep 6777 : reward 31.0\r",
      "ep 6778 : reward 22.0\r",
      "ep 6779 : reward 29.0\r",
      "ep 6780 : reward 47.0\r",
      "ep 6781 : reward 38.0\r"
     ]
    },
    {
     "name": "stdout",
     "output_type": "stream",
     "text": [
      "ep 6782 : reward 90.0\r",
      "ep 6783 : reward 96.0\r",
      "ep 6784 : reward 94.0\r",
      "ep 6785 : reward 97.0\r",
      "ep 6786 : reward 109.0\r"
     ]
    },
    {
     "name": "stdout",
     "output_type": "stream",
     "text": [
      "ep 6787 : reward 248.0\r",
      "ep 6788 : reward 252.0\r",
      "ep 6789 : reward 261.0\r"
     ]
    },
    {
     "name": "stdout",
     "output_type": "stream",
     "text": [
      "ep 6790 : reward 327.0\r",
      "ep 6791 : reward 92.0\r",
      "ep 6792 : reward 88.0\r",
      "ep 6793 : reward 100.0\r",
      "ep 6794 : reward 185.0\r"
     ]
    },
    {
     "name": "stdout",
     "output_type": "stream",
     "text": [
      "ep 6795 : reward 192.0\r",
      "ep 6796 : reward 120.0\r",
      "ep 6797 : reward 103.0\r",
      "ep 6798 : reward 248.0\r"
     ]
    },
    {
     "name": "stdout",
     "output_type": "stream",
     "text": [
      "ep 6799 : reward 500.0\r",
      "ep 6800 : reward 247.0\r",
      "ep 6801 : reward 292.0\r"
     ]
    },
    {
     "name": "stdout",
     "output_type": "stream",
     "text": [
      "ep 6802 : reward 261.0\r",
      "ep 6803 : reward 500.0\r"
     ]
    },
    {
     "name": "stdout",
     "output_type": "stream",
     "text": [
      "ep 6804 : reward 500.0\r",
      "ep 6805 : reward 500.0\r"
     ]
    },
    {
     "name": "stdout",
     "output_type": "stream",
     "text": [
      "ep 6806 : reward 500.0\r",
      "ep 6807 : reward 500.0\r"
     ]
    },
    {
     "name": "stdout",
     "output_type": "stream",
     "text": [
      "ep 6808 : reward 500.0\r",
      "ep 6809 : reward 500.0\r"
     ]
    },
    {
     "name": "stdout",
     "output_type": "stream",
     "text": [
      "ep 6810 : reward 500.0\r",
      "ep 6811 : reward 500.0\r"
     ]
    },
    {
     "name": "stdout",
     "output_type": "stream",
     "text": [
      "ep 6812 : reward 403.0\r",
      "ep 6813 : reward 500.0\r",
      "ep 6814 : reward 92.0\r",
      "ep 6815 : reward 96.0\r"
     ]
    },
    {
     "name": "stdout",
     "output_type": "stream",
     "text": [
      "ep 6816 : reward 23.0\r",
      "ep 6817 : reward 24.0\r",
      "ep 6818 : reward 25.0\r",
      "ep 6819 : reward 33.0\r",
      "ep 6820 : reward 25.0\r",
      "ep 6821 : reward 93.0\r"
     ]
    },
    {
     "name": "stdout",
     "output_type": "stream",
     "text": [
      "ep 6822 : reward 255.0\r",
      "ep 6823 : reward 500.0\r"
     ]
    },
    {
     "name": "stdout",
     "output_type": "stream",
     "text": [
      "ep 6824 : reward 500.0\r",
      "ep 6825 : reward 173.0\r",
      "ep 6826 : reward 155.0\r",
      "ep 6827 : reward 206.0\r"
     ]
    },
    {
     "name": "stdout",
     "output_type": "stream",
     "text": [
      "ep 6828 : reward 143.0\r",
      "ep 6829 : reward 140.0\r",
      "ep 6830 : reward 208.0\r",
      "ep 6831 : reward 248.0\r"
     ]
    },
    {
     "name": "stdout",
     "output_type": "stream",
     "text": [
      "ep 6832 : reward 342.0\r",
      "ep 6833 : reward 500.0\r"
     ]
    },
    {
     "name": "stdout",
     "output_type": "stream",
     "text": [
      "ep 6834 : reward 500.0\r",
      "ep 6835 : reward 500.0\r"
     ]
    },
    {
     "name": "stdout",
     "output_type": "stream",
     "text": [
      "ep 6836 : reward 500.0\r",
      "ep 6837 : reward 214.0\r",
      "ep 6838 : reward 322.0\r"
     ]
    },
    {
     "name": "stdout",
     "output_type": "stream",
     "text": [
      "ep 6839 : reward 206.0\r",
      "ep 6840 : reward 244.0\r",
      "ep 6841 : reward 370.0\r"
     ]
    },
    {
     "name": "stdout",
     "output_type": "stream",
     "text": [
      "ep 6842 : reward 411.0\r",
      "ep 6843 : reward 444.0\r"
     ]
    },
    {
     "name": "stdout",
     "output_type": "stream",
     "text": [
      "ep 6844 : reward 500.0\r",
      "ep 6845 : reward 500.0\r"
     ]
    },
    {
     "name": "stdout",
     "output_type": "stream",
     "text": [
      "ep 6846 : reward 500.0\r",
      "ep 6847 : reward 500.0\r"
     ]
    },
    {
     "name": "stdout",
     "output_type": "stream",
     "text": [
      "ep 6848 : reward 500.0\r",
      "ep 6849 : reward 500.0\r"
     ]
    },
    {
     "name": "stdout",
     "output_type": "stream",
     "text": [
      "ep 6850 : reward 500.0\r",
      "ep 6851 : reward 500.0\r"
     ]
    },
    {
     "name": "stdout",
     "output_type": "stream",
     "text": [
      "ep 6852 : reward 500.0\r",
      "ep 6853 : reward 500.0\r"
     ]
    },
    {
     "name": "stdout",
     "output_type": "stream",
     "text": [
      "ep 6854 : reward 500.0\r",
      "ep 6855 : reward 500.0\r"
     ]
    },
    {
     "name": "stdout",
     "output_type": "stream",
     "text": [
      "ep 6856 : reward 500.0\r",
      "ep 6857 : reward 500.0\r"
     ]
    },
    {
     "name": "stdout",
     "output_type": "stream",
     "text": [
      "ep 6858 : reward 500.0\r",
      "ep 6859 : reward 500.0\r"
     ]
    },
    {
     "name": "stdout",
     "output_type": "stream",
     "text": [
      "ep 6860 : reward 500.0\r",
      "ep 6861 : reward 500.0\r"
     ]
    },
    {
     "name": "stdout",
     "output_type": "stream",
     "text": [
      "ep 6862 : reward 500.0\r",
      "ep 6863 : reward 500.0\r"
     ]
    },
    {
     "name": "stdout",
     "output_type": "stream",
     "text": [
      "ep 6864 : reward 500.0\r",
      "ep 6865 : reward 500.0\r"
     ]
    },
    {
     "name": "stdout",
     "output_type": "stream",
     "text": [
      "ep 6866 : reward 483.0\r",
      "ep 6867 : reward 500.0\r"
     ]
    },
    {
     "name": "stdout",
     "output_type": "stream",
     "text": [
      "ep 6868 : reward 403.0\r",
      "ep 6869 : reward 400.0\r",
      "ep 6870 : reward 278.0\r"
     ]
    },
    {
     "name": "stdout",
     "output_type": "stream",
     "text": [
      "ep 6871 : reward 396.0\r",
      "ep 6872 : reward 245.0\r",
      "ep 6873 : reward 267.0\r"
     ]
    },
    {
     "name": "stdout",
     "output_type": "stream",
     "text": [
      "ep 6874 : reward 500.0\r",
      "ep 6875 : reward 453.0\r"
     ]
    },
    {
     "name": "stdout",
     "output_type": "stream",
     "text": [
      "ep 6876 : reward 379.0\r",
      "ep 6877 : reward 331.0\r",
      "ep 6878 : reward 399.0\r"
     ]
    },
    {
     "name": "stdout",
     "output_type": "stream",
     "text": [
      "ep 6879 : reward 387.0\r",
      "ep 6880 : reward 404.0\r",
      "ep 6881 : reward 237.0\r"
     ]
    },
    {
     "name": "stdout",
     "output_type": "stream",
     "text": [
      "ep 6882 : reward 404.0\r",
      "ep 6883 : reward 405.0\r",
      "ep 6884 : reward 339.0\r"
     ]
    },
    {
     "name": "stdout",
     "output_type": "stream",
     "text": [
      "ep 6885 : reward 278.0\r",
      "ep 6886 : reward 177.0\r",
      "ep 6887 : reward 227.0\r",
      "ep 6888 : reward 93.0\r"
     ]
    },
    {
     "name": "stdout",
     "output_type": "stream",
     "text": [
      "ep 6889 : reward 115.0\r",
      "ep 6890 : reward 91.0\r",
      "ep 6891 : reward 98.0\r",
      "ep 6892 : reward 238.0\r"
     ]
    },
    {
     "name": "stdout",
     "output_type": "stream",
     "text": [
      "ep 6893 : reward 235.0\r",
      "ep 6894 : reward 390.0\r"
     ]
    },
    {
     "name": "stdout",
     "output_type": "stream",
     "text": [
      "ep 6895 : reward 394.0\r",
      "ep 6896 : reward 404.0\r"
     ]
    },
    {
     "name": "stdout",
     "output_type": "stream",
     "text": [
      "ep 6897 : reward 464.0\r",
      "ep 6898 : reward 481.0\r"
     ]
    },
    {
     "name": "stdout",
     "output_type": "stream",
     "text": [
      "ep 6899 : reward 500.0\r",
      "ep 6900 : reward 367.0\r"
     ]
    },
    {
     "name": "stdout",
     "output_type": "stream",
     "text": [
      "ep 6901 : reward 388.0\r",
      "ep 6902 : reward 392.0\r"
     ]
    },
    {
     "name": "stdout",
     "output_type": "stream",
     "text": [
      "ep 6903 : reward 321.0\r",
      "ep 6904 : reward 110.0\r"
     ]
    },
    {
     "name": "stdout",
     "output_type": "stream",
     "text": [
      "ep 6905 : reward 500.0\r",
      "ep 6906 : reward 249.0\r",
      "ep 6907 : reward 336.0\r"
     ]
    },
    {
     "name": "stdout",
     "output_type": "stream",
     "text": [
      "ep 6908 : reward 401.0\r",
      "ep 6909 : reward 315.0\r",
      "ep 6910 : reward 174.0\r"
     ]
    },
    {
     "name": "stdout",
     "output_type": "stream",
     "text": [
      "ep 6911 : reward 248.0\r",
      "ep 6912 : reward 245.0\r",
      "ep 6913 : reward 394.0\r"
     ]
    },
    {
     "name": "stdout",
     "output_type": "stream",
     "text": [
      "ep 6914 : reward 313.0\r",
      "ep 6915 : reward 241.0\r",
      "ep 6916 : reward 392.0\r"
     ]
    },
    {
     "name": "stdout",
     "output_type": "stream",
     "text": [
      "ep 6917 : reward 332.0\r",
      "ep 6918 : reward 264.0\r",
      "ep 6919 : reward 388.0\r"
     ]
    },
    {
     "name": "stdout",
     "output_type": "stream",
     "text": [
      "ep 6920 : reward 188.0\r",
      "ep 6921 : reward 241.0\r",
      "ep 6922 : reward 400.0\r"
     ]
    },
    {
     "name": "stdout",
     "output_type": "stream",
     "text": [
      "ep 6923 : reward 311.0\r",
      "ep 6924 : reward 243.0\r",
      "ep 6925 : reward 317.0\r"
     ]
    },
    {
     "name": "stdout",
     "output_type": "stream",
     "text": [
      "ep 6926 : reward 346.0\r",
      "ep 6927 : reward 190.0\r",
      "ep 6928 : reward 359.0\r"
     ]
    },
    {
     "name": "stdout",
     "output_type": "stream",
     "text": [
      "ep 6929 : reward 500.0\r",
      "ep 6930 : reward 500.0\r",
      "ep 6931 : reward 249.0\r"
     ]
    },
    {
     "name": "stdout",
     "output_type": "stream",
     "text": [
      "ep 6932 : reward 458.0\r",
      "ep 6933 : reward 486.0\r",
      "ep 6934 : reward 328.0\r"
     ]
    },
    {
     "name": "stdout",
     "output_type": "stream",
     "text": [
      "ep 6935 : reward 500.0\r",
      "ep 6936 : reward 500.0\r"
     ]
    },
    {
     "name": "stdout",
     "output_type": "stream",
     "text": [
      "ep 6937 : reward 500.0\r",
      "ep 6938 : reward 500.0\r"
     ]
    },
    {
     "name": "stdout",
     "output_type": "stream",
     "text": [
      "ep 6939 : reward 377.0\r",
      "ep 6940 : reward 500.0\r"
     ]
    },
    {
     "name": "stdout",
     "output_type": "stream",
     "text": [
      "ep 6941 : reward 397.0\r",
      "ep 6942 : reward 497.0\r"
     ]
    },
    {
     "name": "stdout",
     "output_type": "stream",
     "text": [
      "ep 6943 : reward 500.0\r",
      "ep 6944 : reward 242.0\r",
      "ep 6945 : reward 264.0\r"
     ]
    },
    {
     "name": "stdout",
     "output_type": "stream",
     "text": [
      "ep 6946 : reward 409.0\r",
      "ep 6947 : reward 345.0\r",
      "ep 6948 : reward 87.0\r",
      "ep 6949 : reward 94.0\r"
     ]
    },
    {
     "name": "stdout",
     "output_type": "stream",
     "text": [
      "ep 6950 : reward 230.0\r",
      "ep 6951 : reward 102.0\r",
      "ep 6952 : reward 186.0\r",
      "ep 6953 : reward 246.0\r"
     ]
    },
    {
     "name": "stdout",
     "output_type": "stream",
     "text": [
      "ep 6954 : reward 183.0\r",
      "ep 6955 : reward 109.0\r",
      "ep 6956 : reward 190.0\r",
      "ep 6957 : reward 170.0\r"
     ]
    },
    {
     "name": "stdout",
     "output_type": "stream",
     "text": [
      "ep 6958 : reward 317.0\r",
      "ep 6959 : reward 254.0\r",
      "ep 6960 : reward 242.0\r"
     ]
    },
    {
     "name": "stdout",
     "output_type": "stream",
     "text": [
      "ep 6961 : reward 253.0\r",
      "ep 6962 : reward 403.0\r",
      "ep 6963 : reward 249.0\r"
     ]
    },
    {
     "name": "stdout",
     "output_type": "stream",
     "text": [
      "ep 6964 : reward 385.0\r",
      "ep 6965 : reward 244.0\r",
      "ep 6966 : reward 109.0\r",
      "ep 6967 : reward 252.0\r"
     ]
    },
    {
     "name": "stdout",
     "output_type": "stream",
     "text": [
      "ep 6968 : reward 317.0\r",
      "ep 6969 : reward 300.0\r",
      "ep 6970 : reward 247.0\r"
     ]
    },
    {
     "name": "stdout",
     "output_type": "stream",
     "text": [
      "ep 6971 : reward 500.0\r",
      "ep 6972 : reward 500.0\r"
     ]
    },
    {
     "name": "stdout",
     "output_type": "stream",
     "text": [
      "ep 6973 : reward 458.0\r",
      "ep 6974 : reward 500.0\r"
     ]
    },
    {
     "name": "stdout",
     "output_type": "stream",
     "text": [
      "ep 6975 : reward 468.0\r",
      "ep 6976 : reward 447.0\r"
     ]
    },
    {
     "name": "stdout",
     "output_type": "stream",
     "text": [
      "ep 6977 : reward 398.0\r",
      "ep 6978 : reward 415.0\r"
     ]
    },
    {
     "name": "stdout",
     "output_type": "stream",
     "text": [
      "ep 6979 : reward 427.0\r",
      "ep 6980 : reward 489.0\r"
     ]
    },
    {
     "name": "stdout",
     "output_type": "stream",
     "text": [
      "ep 6981 : reward 453.0\r",
      "ep 6982 : reward 399.0\r"
     ]
    },
    {
     "name": "stdout",
     "output_type": "stream",
     "text": [
      "ep 6983 : reward 413.0\r",
      "ep 6984 : reward 458.0\r",
      "ep 6985 : reward 251.0\r"
     ]
    },
    {
     "name": "stdout",
     "output_type": "stream",
     "text": [
      "ep 6986 : reward 257.0\r",
      "ep 6987 : reward 129.0\r",
      "ep 6988 : reward 249.0\r",
      "ep 6989 : reward 115.0\r"
     ]
    },
    {
     "name": "stdout",
     "output_type": "stream",
     "text": [
      "ep 6990 : reward 408.0\r",
      "ep 6991 : reward 189.0\r",
      "ep 6992 : reward 246.0\r"
     ]
    },
    {
     "name": "stdout",
     "output_type": "stream",
     "text": [
      "ep 6993 : reward 257.0\r",
      "ep 6994 : reward 332.0\r",
      "ep 6995 : reward 267.0\r"
     ]
    },
    {
     "name": "stdout",
     "output_type": "stream",
     "text": [
      "ep 6996 : reward 184.0\r",
      "ep 6997 : reward 329.0\r",
      "ep 6998 : reward 97.0\r"
     ]
    },
    {
     "name": "stdout",
     "output_type": "stream",
     "text": [
      "ep 6999 : reward 402.0\r"
     ]
    },
    {
     "name": "stdout",
     "output_type": "stream",
     "text": [
      "ep 7000 : reward 391.0\r",
      "ep 7001 : reward 500.0\r"
     ]
    },
    {
     "name": "stdout",
     "output_type": "stream",
     "text": [
      "ep 7002 : reward 500.0\r",
      "ep 7003 : reward 500.0\r"
     ]
    },
    {
     "name": "stdout",
     "output_type": "stream",
     "text": [
      "ep 7004 : reward 328.0\r",
      "ep 7005 : reward 332.0\r",
      "ep 7006 : reward 322.0\r"
     ]
    },
    {
     "name": "stdout",
     "output_type": "stream",
     "text": [
      "ep 7007 : reward 478.0\r",
      "ep 7008 : reward 343.0\r",
      "ep 7009 : reward 246.0\r"
     ]
    },
    {
     "name": "stdout",
     "output_type": "stream",
     "text": [
      "ep 7010 : reward 257.0\r",
      "ep 7011 : reward 332.0\r",
      "ep 7012 : reward 268.0\r"
     ]
    },
    {
     "name": "stdout",
     "output_type": "stream",
     "text": [
      "ep 7013 : reward 339.0\r",
      "ep 7014 : reward 326.0\r",
      "ep 7015 : reward 321.0\r"
     ]
    },
    {
     "name": "stdout",
     "output_type": "stream",
     "text": [
      "ep 7016 : reward 229.0\r",
      "ep 7017 : reward 500.0\r"
     ]
    },
    {
     "name": "stdout",
     "output_type": "stream",
     "text": [
      "ep 7018 : reward 500.0\r",
      "ep 7019 : reward 500.0\r"
     ]
    },
    {
     "name": "stdout",
     "output_type": "stream",
     "text": [
      "ep 7020 : reward 403.0\r",
      "ep 7021 : reward 500.0\r"
     ]
    },
    {
     "name": "stdout",
     "output_type": "stream",
     "text": [
      "ep 7022 : reward 465.0\r",
      "ep 7023 : reward 385.0\r"
     ]
    },
    {
     "name": "stdout",
     "output_type": "stream",
     "text": [
      "ep 7024 : reward 475.0\r",
      "ep 7025 : reward 420.0\r"
     ]
    },
    {
     "name": "stdout",
     "output_type": "stream",
     "text": [
      "ep 7026 : reward 410.0\r",
      "ep 7027 : reward 380.0\r",
      "ep 7028 : reward 371.0\r"
     ]
    },
    {
     "name": "stdout",
     "output_type": "stream",
     "text": [
      "ep 7029 : reward 343.0\r",
      "ep 7030 : reward 111.0\r",
      "ep 7031 : reward 254.0\r"
     ]
    },
    {
     "name": "stdout",
     "output_type": "stream",
     "text": [
      "ep 7032 : reward 453.0\r",
      "ep 7033 : reward 321.0\r",
      "ep 7034 : reward 390.0\r"
     ]
    },
    {
     "name": "stdout",
     "output_type": "stream",
     "text": [
      "ep 7035 : reward 318.0\r",
      "ep 7036 : reward 388.0\r",
      "ep 7037 : reward 250.0\r"
     ]
    },
    {
     "name": "stdout",
     "output_type": "stream",
     "text": [
      "ep 7038 : reward 327.0\r",
      "ep 7039 : reward 261.0\r",
      "ep 7040 : reward 165.0\r"
     ]
    },
    {
     "name": "stdout",
     "output_type": "stream",
     "text": [
      "ep 7041 : reward 250.0\r",
      "ep 7042 : reward 315.0\r"
     ]
    },
    {
     "name": "stdout",
     "output_type": "stream",
     "text": [
      "ep 7043 : reward 500.0\r",
      "ep 7044 : reward 482.0\r",
      "ep 7045 : reward 94.0\r"
     ]
    },
    {
     "name": "stdout",
     "output_type": "stream",
     "text": [
      "ep 7046 : reward 180.0\r",
      "ep 7047 : reward 310.0\r",
      "ep 7048 : reward 308.0\r"
     ]
    },
    {
     "name": "stdout",
     "output_type": "stream",
     "text": [
      "ep 7049 : reward 256.0\r",
      "ep 7050 : reward 253.0\r",
      "ep 7051 : reward 113.0\r",
      "ep 7052 : reward 247.0\r"
     ]
    },
    {
     "name": "stdout",
     "output_type": "stream",
     "text": [
      "ep 7053 : reward 110.0\r",
      "ep 7054 : reward 325.0\r"
     ]
    },
    {
     "name": "stdout",
     "output_type": "stream",
     "text": [
      "ep 7055 : reward 500.0\r",
      "ep 7056 : reward 335.0\r",
      "ep 7057 : reward 434.0\r"
     ]
    },
    {
     "name": "stdout",
     "output_type": "stream",
     "text": [
      "ep 7058 : reward 394.0\r",
      "ep 7059 : reward 240.0\r",
      "ep 7060 : reward 341.0\r"
     ]
    },
    {
     "name": "stdout",
     "output_type": "stream",
     "text": [
      "ep 7061 : reward 391.0\r",
      "ep 7062 : reward 323.0\r",
      "ep 7063 : reward 330.0\r"
     ]
    },
    {
     "name": "stdout",
     "output_type": "stream",
     "text": [
      "ep 7064 : reward 252.0\r",
      "ep 7065 : reward 317.0\r",
      "ep 7066 : reward 256.0\r"
     ]
    },
    {
     "name": "stdout",
     "output_type": "stream",
     "text": [
      "ep 7067 : reward 187.0\r",
      "ep 7068 : reward 256.0\r",
      "ep 7069 : reward 339.0\r"
     ]
    },
    {
     "name": "stdout",
     "output_type": "stream",
     "text": [
      "ep 7070 : reward 375.0\r",
      "ep 7071 : reward 179.0\r",
      "ep 7072 : reward 171.0\r",
      "ep 7073 : reward 117.0\r"
     ]
    },
    {
     "name": "stdout",
     "output_type": "stream",
     "text": [
      "ep 7074 : reward 239.0\r",
      "ep 7075 : reward 311.0\r",
      "ep 7076 : reward 249.0\r",
      "ep 7077 : reward 87.0\r"
     ]
    },
    {
     "name": "stdout",
     "output_type": "stream",
     "text": [
      "ep 7078 : reward 344.0\r",
      "ep 7079 : reward 306.0\r",
      "ep 7080 : reward 253.0\r"
     ]
    },
    {
     "name": "stdout",
     "output_type": "stream",
     "text": [
      "ep 7081 : reward 332.0\r",
      "ep 7082 : reward 500.0\r"
     ]
    },
    {
     "name": "stdout",
     "output_type": "stream",
     "text": [
      "ep 7083 : reward 500.0\r",
      "ep 7084 : reward 500.0\r"
     ]
    },
    {
     "name": "stdout",
     "output_type": "stream",
     "text": [
      "ep 7085 : reward 324.0\r",
      "ep 7086 : reward 466.0\r"
     ]
    },
    {
     "name": "stdout",
     "output_type": "stream",
     "text": [
      "ep 7087 : reward 474.0\r",
      "ep 7088 : reward 500.0\r"
     ]
    },
    {
     "name": "stdout",
     "output_type": "stream",
     "text": [
      "ep 7089 : reward 500.0\r",
      "ep 7090 : reward 500.0\r"
     ]
    },
    {
     "name": "stdout",
     "output_type": "stream",
     "text": [
      "ep 7091 : reward 500.0\r",
      "ep 7092 : reward 278.0\r",
      "ep 7093 : reward 500.0\r"
     ]
    },
    {
     "name": "stdout",
     "output_type": "stream",
     "text": [
      "ep 7094 : reward 409.0\r",
      "ep 7095 : reward 401.0\r",
      "ep 7096 : reward 236.0\r"
     ]
    },
    {
     "name": "stdout",
     "output_type": "stream",
     "text": [
      "ep 7097 : reward 259.0\r",
      "ep 7098 : reward 409.0\r",
      "ep 7099 : reward 169.0\r"
     ]
    },
    {
     "name": "stdout",
     "output_type": "stream",
     "text": [
      "ep 7100 : reward 406.0\r",
      "ep 7101 : reward 183.0\r",
      "ep 7102 : reward 191.0\r"
     ]
    },
    {
     "name": "stdout",
     "output_type": "stream",
     "text": [
      "ep 7103 : reward 350.0\r",
      "ep 7104 : reward 500.0\r"
     ]
    },
    {
     "name": "stdout",
     "output_type": "stream",
     "text": [
      "ep 7105 : reward 500.0\r",
      "ep 7106 : reward 500.0\r"
     ]
    },
    {
     "name": "stdout",
     "output_type": "stream",
     "text": [
      "ep 7107 : reward 500.0\r",
      "ep 7108 : reward 500.0\r"
     ]
    },
    {
     "name": "stdout",
     "output_type": "stream",
     "text": [
      "ep 7109 : reward 500.0\r",
      "ep 7110 : reward 273.0\r",
      "ep 7111 : reward 423.0\r"
     ]
    },
    {
     "name": "stdout",
     "output_type": "stream",
     "text": [
      "ep 7112 : reward 187.0\r",
      "ep 7113 : reward 268.0\r",
      "ep 7114 : reward 339.0\r"
     ]
    },
    {
     "name": "stdout",
     "output_type": "stream",
     "text": [
      "ep 7115 : reward 288.0\r",
      "ep 7116 : reward 500.0\r"
     ]
    },
    {
     "name": "stdout",
     "output_type": "stream",
     "text": [
      "ep 7117 : reward 372.0\r",
      "ep 7118 : reward 106.0\r",
      "ep 7119 : reward 370.0\r"
     ]
    },
    {
     "name": "stdout",
     "output_type": "stream",
     "text": [
      "ep 7120 : reward 334.0\r",
      "ep 7121 : reward 237.0\r",
      "ep 7122 : reward 237.0\r"
     ]
    },
    {
     "name": "stdout",
     "output_type": "stream",
     "text": [
      "ep 7123 : reward 250.0\r",
      "ep 7124 : reward 242.0\r",
      "ep 7125 : reward 392.0\r"
     ]
    },
    {
     "name": "stdout",
     "output_type": "stream",
     "text": [
      "ep 7126 : reward 265.0\r",
      "ep 7127 : reward 191.0\r",
      "ep 7128 : reward 191.0\r"
     ]
    },
    {
     "name": "stdout",
     "output_type": "stream",
     "text": [
      "ep 7129 : reward 500.0\r",
      "ep 7130 : reward 238.0\r",
      "ep 7131 : reward 114.0\r",
      "ep 7132 : reward 244.0\r"
     ]
    },
    {
     "name": "stdout",
     "output_type": "stream",
     "text": [
      "ep 7133 : reward 259.0\r",
      "ep 7134 : reward 238.0\r",
      "ep 7135 : reward 262.0\r"
     ]
    },
    {
     "name": "stdout",
     "output_type": "stream",
     "text": [
      "ep 7136 : reward 260.0\r",
      "ep 7137 : reward 241.0\r",
      "ep 7138 : reward 182.0\r"
     ]
    },
    {
     "name": "stdout",
     "output_type": "stream",
     "text": [
      "ep 7139 : reward 267.0\r",
      "ep 7140 : reward 466.0\r"
     ]
    },
    {
     "name": "stdout",
     "output_type": "stream",
     "text": [
      "ep 7141 : reward 500.0\r",
      "ep 7142 : reward 500.0\r"
     ]
    },
    {
     "name": "stdout",
     "output_type": "stream",
     "text": [
      "ep 7143 : reward 379.0\r",
      "ep 7144 : reward 500.0\r"
     ]
    },
    {
     "name": "stdout",
     "output_type": "stream",
     "text": [
      "ep 7145 : reward 500.0\r",
      "ep 7146 : reward 500.0\r"
     ]
    },
    {
     "name": "stdout",
     "output_type": "stream",
     "text": [
      "ep 7147 : reward 356.0\r",
      "ep 7148 : reward 500.0\r"
     ]
    },
    {
     "name": "stdout",
     "output_type": "stream",
     "text": [
      "ep 7149 : reward 500.0\r",
      "ep 7150 : reward 500.0\r"
     ]
    },
    {
     "name": "stdout",
     "output_type": "stream",
     "text": [
      "ep 7151 : reward 500.0\r",
      "ep 7152 : reward 500.0\r"
     ]
    },
    {
     "name": "stdout",
     "output_type": "stream",
     "text": [
      "ep 7153 : reward 500.0\r",
      "ep 7154 : reward 500.0\r"
     ]
    },
    {
     "name": "stdout",
     "output_type": "stream",
     "text": [
      "ep 7155 : reward 463.0\r",
      "ep 7156 : reward 384.0\r",
      "ep 7157 : reward 245.0\r"
     ]
    },
    {
     "name": "stdout",
     "output_type": "stream",
     "text": [
      "ep 7158 : reward 243.0\r",
      "ep 7159 : reward 249.0\r",
      "ep 7160 : reward 234.0\r"
     ]
    },
    {
     "name": "stdout",
     "output_type": "stream",
     "text": [
      "ep 7161 : reward 246.0\r",
      "ep 7162 : reward 178.0\r",
      "ep 7163 : reward 97.0\r",
      "ep 7164 : reward 85.0\r",
      "ep 7165 : reward 106.0\r"
     ]
    },
    {
     "name": "stdout",
     "output_type": "stream",
     "text": [
      "ep 7166 : reward 173.0\r",
      "ep 7167 : reward 114.0\r",
      "ep 7168 : reward 109.0\r",
      "ep 7169 : reward 95.0\r",
      "ep 7170 : reward 89.0\r"
     ]
    },
    {
     "name": "stdout",
     "output_type": "stream",
     "text": [
      "ep 7171 : reward 99.0\r",
      "ep 7172 : reward 407.0\r"
     ]
    },
    {
     "name": "stdout",
     "output_type": "stream",
     "text": [
      "ep 7173 : reward 500.0\r",
      "ep 7174 : reward 500.0\r",
      "ep 7175 : reward 258.0\r"
     ]
    },
    {
     "name": "stdout",
     "output_type": "stream",
     "text": [
      "ep 7176 : reward 246.0\r",
      "ep 7177 : reward 275.0\r",
      "ep 7178 : reward 378.0\r"
     ]
    },
    {
     "name": "stdout",
     "output_type": "stream",
     "text": [
      "ep 7179 : reward 273.0\r",
      "ep 7180 : reward 339.0\r"
     ]
    },
    {
     "name": "stdout",
     "output_type": "stream",
     "text": [
      "ep 7181 : reward 500.0\r",
      "ep 7182 : reward 258.0\r",
      "ep 7183 : reward 500.0\r"
     ]
    },
    {
     "name": "stdout",
     "output_type": "stream",
     "text": [
      "ep 7184 : reward 396.0\r",
      "ep 7185 : reward 245.0\r",
      "ep 7186 : reward 241.0\r"
     ]
    },
    {
     "name": "stdout",
     "output_type": "stream",
     "text": [
      "ep 7187 : reward 248.0\r",
      "ep 7188 : reward 233.0\r",
      "ep 7189 : reward 328.0\r"
     ]
    },
    {
     "name": "stdout",
     "output_type": "stream",
     "text": [
      "ep 7190 : reward 187.0\r",
      "ep 7191 : reward 101.0\r",
      "ep 7192 : reward 171.0\r",
      "ep 7193 : reward 107.0\r",
      "ep 7194 : reward 113.0\r"
     ]
    },
    {
     "name": "stdout",
     "output_type": "stream",
     "text": [
      "ep 7195 : reward 243.0\r",
      "ep 7196 : reward 500.0\r"
     ]
    },
    {
     "name": "stdout",
     "output_type": "stream",
     "text": [
      "ep 7197 : reward 306.0\r",
      "ep 7198 : reward 327.0\r"
     ]
    },
    {
     "name": "stdout",
     "output_type": "stream",
     "text": [
      "ep 7199 : reward 500.0\r",
      "ep 7200 : reward 500.0\r"
     ]
    },
    {
     "name": "stdout",
     "output_type": "stream",
     "text": [
      "ep 7201 : reward 332.0\r",
      "ep 7202 : reward 315.0\r",
      "ep 7203 : reward 244.0\r",
      "ep 7204 : reward 93.0\r"
     ]
    },
    {
     "name": "stdout",
     "output_type": "stream",
     "text": [
      "ep 7205 : reward 106.0\r",
      "ep 7206 : reward 110.0\r",
      "ep 7207 : reward 118.0\r",
      "ep 7208 : reward 101.0\r",
      "ep 7209 : reward 195.0\r"
     ]
    },
    {
     "name": "stdout",
     "output_type": "stream",
     "text": [
      "ep 7210 : reward 251.0\r",
      "ep 7211 : reward 328.0\r",
      "ep 7212 : reward 243.0\r"
     ]
    },
    {
     "name": "stdout",
     "output_type": "stream",
     "text": [
      "ep 7213 : reward 258.0\r",
      "ep 7214 : reward 337.0\r",
      "ep 7215 : reward 255.0\r"
     ]
    },
    {
     "name": "stdout",
     "output_type": "stream",
     "text": [
      "ep 7216 : reward 242.0\r",
      "ep 7217 : reward 251.0\r",
      "ep 7218 : reward 257.0\r"
     ]
    },
    {
     "name": "stdout",
     "output_type": "stream",
     "text": [
      "ep 7219 : reward 337.0\r",
      "ep 7220 : reward 317.0\r",
      "ep 7221 : reward 254.0\r"
     ]
    },
    {
     "name": "stdout",
     "output_type": "stream",
     "text": [
      "ep 7222 : reward 258.0\r",
      "ep 7223 : reward 352.0\r",
      "ep 7224 : reward 233.0\r"
     ]
    },
    {
     "name": "stdout",
     "output_type": "stream",
     "text": [
      "ep 7225 : reward 352.0\r",
      "ep 7226 : reward 235.0\r",
      "ep 7227 : reward 241.0\r"
     ]
    },
    {
     "name": "stdout",
     "output_type": "stream",
     "text": [
      "ep 7228 : reward 320.0\r",
      "ep 7229 : reward 500.0\r"
     ]
    },
    {
     "name": "stdout",
     "output_type": "stream",
     "text": [
      "ep 7230 : reward 500.0\r",
      "ep 7231 : reward 435.0\r"
     ]
    },
    {
     "name": "stdout",
     "output_type": "stream",
     "text": [
      "ep 7232 : reward 500.0\r",
      "ep 7233 : reward 489.0\r"
     ]
    },
    {
     "name": "stdout",
     "output_type": "stream",
     "text": [
      "ep 7234 : reward 484.0\r",
      "ep 7235 : reward 473.0\r"
     ]
    },
    {
     "name": "stdout",
     "output_type": "stream",
     "text": [
      "ep 7236 : reward 380.0\r",
      "ep 7237 : reward 262.0\r",
      "ep 7238 : reward 326.0\r"
     ]
    },
    {
     "name": "stdout",
     "output_type": "stream",
     "text": [
      "ep 7239 : reward 411.0\r",
      "ep 7240 : reward 258.0\r",
      "ep 7241 : reward 258.0\r"
     ]
    },
    {
     "name": "stdout",
     "output_type": "stream",
     "text": [
      "ep 7242 : reward 322.0\r",
      "ep 7243 : reward 263.0\r",
      "ep 7244 : reward 256.0\r"
     ]
    },
    {
     "name": "stdout",
     "output_type": "stream",
     "text": [
      "ep 7245 : reward 257.0\r",
      "ep 7246 : reward 239.0\r",
      "ep 7247 : reward 250.0\r"
     ]
    },
    {
     "name": "stdout",
     "output_type": "stream",
     "text": [
      "ep 7248 : reward 322.0\r",
      "ep 7249 : reward 280.0\r",
      "ep 7250 : reward 258.0\r"
     ]
    },
    {
     "name": "stdout",
     "output_type": "stream",
     "text": [
      "ep 7251 : reward 195.0\r",
      "ep 7252 : reward 112.0\r",
      "ep 7253 : reward 328.0\r"
     ]
    },
    {
     "name": "stdout",
     "output_type": "stream",
     "text": [
      "ep 7254 : reward 325.0\r",
      "ep 7255 : reward 246.0\r",
      "ep 7256 : reward 234.0\r"
     ]
    },
    {
     "name": "stdout",
     "output_type": "stream",
     "text": [
      "ep 7257 : reward 307.0\r",
      "ep 7258 : reward 315.0\r",
      "ep 7259 : reward 391.0\r"
     ]
    },
    {
     "name": "stdout",
     "output_type": "stream",
     "text": [
      "ep 7260 : reward 184.0\r",
      "ep 7261 : reward 395.0\r",
      "ep 7262 : reward 237.0\r"
     ]
    },
    {
     "name": "stdout",
     "output_type": "stream",
     "text": [
      "ep 7263 : reward 250.0\r",
      "ep 7264 : reward 315.0\r",
      "ep 7265 : reward 103.0\r",
      "ep 7266 : reward 249.0\r"
     ]
    },
    {
     "name": "stdout",
     "output_type": "stream",
     "text": [
      "ep 7267 : reward 244.0\r",
      "ep 7268 : reward 256.0\r",
      "ep 7269 : reward 316.0\r"
     ]
    },
    {
     "name": "stdout",
     "output_type": "stream",
     "text": [
      "ep 7270 : reward 273.0\r",
      "ep 7271 : reward 127.0\r",
      "ep 7272 : reward 272.0\r"
     ]
    },
    {
     "name": "stdout",
     "output_type": "stream",
     "text": [
      "ep 7273 : reward 322.0\r",
      "ep 7274 : reward 316.0\r",
      "ep 7275 : reward 403.0\r"
     ]
    },
    {
     "name": "stdout",
     "output_type": "stream",
     "text": [
      "ep 7276 : reward 239.0\r",
      "ep 7277 : reward 180.0\r",
      "ep 7278 : reward 333.0\r"
     ]
    },
    {
     "name": "stdout",
     "output_type": "stream",
     "text": [
      "ep 7279 : reward 500.0\r",
      "ep 7280 : reward 500.0\r"
     ]
    },
    {
     "name": "stdout",
     "output_type": "stream",
     "text": [
      "ep 7281 : reward 500.0\r",
      "ep 7282 : reward 500.0\r"
     ]
    },
    {
     "name": "stdout",
     "output_type": "stream",
     "text": [
      "ep 7283 : reward 500.0\r",
      "ep 7284 : reward 500.0\r"
     ]
    },
    {
     "name": "stdout",
     "output_type": "stream",
     "text": [
      "ep 7285 : reward 500.0\r",
      "ep 7286 : reward 500.0\r"
     ]
    },
    {
     "name": "stdout",
     "output_type": "stream",
     "text": [
      "ep 7287 : reward 500.0\r",
      "ep 7288 : reward 496.0\r"
     ]
    },
    {
     "name": "stdout",
     "output_type": "stream",
     "text": [
      "ep 7289 : reward 396.0\r",
      "ep 7290 : reward 500.0\r"
     ]
    },
    {
     "name": "stdout",
     "output_type": "stream",
     "text": [
      "ep 7291 : reward 442.0\r",
      "ep 7292 : reward 500.0\r",
      "ep 7293 : reward 269.0\r"
     ]
    },
    {
     "name": "stdout",
     "output_type": "stream",
     "text": [
      "ep 7294 : reward 330.0\r",
      "ep 7295 : reward 175.0\r",
      "ep 7296 : reward 182.0\r",
      "ep 7297 : reward 259.0\r"
     ]
    },
    {
     "name": "stdout",
     "output_type": "stream",
     "text": [
      "ep 7298 : reward 113.0\r",
      "ep 7299 : reward 186.0\r",
      "ep 7300 : reward 177.0\r",
      "ep 7301 : reward 257.0\r"
     ]
    },
    {
     "name": "stdout",
     "output_type": "stream",
     "text": [
      "ep 7302 : reward 377.0\r",
      "ep 7303 : reward 190.0\r",
      "ep 7304 : reward 270.0\r"
     ]
    },
    {
     "name": "stdout",
     "output_type": "stream",
     "text": [
      "ep 7305 : reward 250.0\r",
      "ep 7306 : reward 392.0\r",
      "ep 7307 : reward 247.0\r"
     ]
    },
    {
     "name": "stdout",
     "output_type": "stream",
     "text": [
      "ep 7308 : reward 235.0\r",
      "ep 7309 : reward 315.0\r",
      "ep 7310 : reward 101.0\r",
      "ep 7311 : reward 89.0\r"
     ]
    },
    {
     "name": "stdout",
     "output_type": "stream",
     "text": [
      "ep 7312 : reward 103.0\r",
      "ep 7313 : reward 104.0\r",
      "ep 7314 : reward 96.0\r",
      "ep 7315 : reward 104.0\r",
      "ep 7316 : reward 180.0\r"
     ]
    },
    {
     "name": "stdout",
     "output_type": "stream",
     "text": [
      "ep 7317 : reward 109.0\r",
      "ep 7318 : reward 105.0\r",
      "ep 7319 : reward 100.0\r",
      "ep 7320 : reward 90.0\r",
      "ep 7321 : reward 89.0\r"
     ]
    },
    {
     "name": "stdout",
     "output_type": "stream",
     "text": [
      "ep 7322 : reward 97.0\r",
      "ep 7323 : reward 88.0\r",
      "ep 7324 : reward 240.0\r"
     ]
    },
    {
     "name": "stdout",
     "output_type": "stream",
     "text": [
      "ep 7325 : reward 328.0\r",
      "ep 7326 : reward 332.0\r"
     ]
    },
    {
     "name": "stdout",
     "output_type": "stream",
     "text": [
      "ep 7327 : reward 473.0\r",
      "ep 7328 : reward 417.0\r",
      "ep 7329 : reward 245.0\r"
     ]
    },
    {
     "name": "stdout",
     "output_type": "stream",
     "text": [
      "ep 7330 : reward 500.0\r",
      "ep 7331 : reward 385.0\r"
     ]
    },
    {
     "name": "stdout",
     "output_type": "stream",
     "text": [
      "ep 7332 : reward 391.0\r",
      "ep 7333 : reward 189.0\r",
      "ep 7334 : reward 323.0\r"
     ]
    },
    {
     "name": "stdout",
     "output_type": "stream",
     "text": [
      "ep 7335 : reward 170.0\r",
      "ep 7336 : reward 189.0\r",
      "ep 7337 : reward 404.0\r"
     ]
    },
    {
     "name": "stdout",
     "output_type": "stream",
     "text": [
      "ep 7338 : reward 258.0\r",
      "ep 7339 : reward 258.0\r",
      "ep 7340 : reward 186.0\r"
     ]
    },
    {
     "name": "stdout",
     "output_type": "stream",
     "text": [
      "ep 7341 : reward 274.0\r",
      "ep 7342 : reward 254.0\r",
      "ep 7343 : reward 390.0\r"
     ]
    },
    {
     "name": "stdout",
     "output_type": "stream",
     "text": [
      "ep 7344 : reward 371.0\r",
      "ep 7345 : reward 257.0\r",
      "ep 7346 : reward 405.0\r"
     ]
    },
    {
     "name": "stdout",
     "output_type": "stream",
     "text": [
      "ep 7347 : reward 330.0\r",
      "ep 7348 : reward 337.0\r",
      "ep 7349 : reward 167.0\r"
     ]
    },
    {
     "name": "stdout",
     "output_type": "stream",
     "text": [
      "ep 7350 : reward 478.0\r",
      "ep 7351 : reward 401.0\r",
      "ep 7352 : reward 324.0\r"
     ]
    },
    {
     "name": "stdout",
     "output_type": "stream",
     "text": [
      "ep 7353 : reward 500.0\r",
      "ep 7354 : reward 500.0\r"
     ]
    },
    {
     "name": "stdout",
     "output_type": "stream",
     "text": [
      "ep 7355 : reward 500.0\r",
      "ep 7356 : reward 500.0\r"
     ]
    },
    {
     "name": "stdout",
     "output_type": "stream",
     "text": [
      "ep 7357 : reward 500.0\r",
      "ep 7358 : reward 474.0\r"
     ]
    },
    {
     "name": "stdout",
     "output_type": "stream",
     "text": [
      "ep 7359 : reward 335.0\r",
      "ep 7360 : reward 236.0\r",
      "ep 7361 : reward 243.0\r"
     ]
    },
    {
     "name": "stdout",
     "output_type": "stream",
     "text": [
      "ep 7362 : reward 500.0\r",
      "ep 7363 : reward 500.0\r"
     ]
    },
    {
     "name": "stdout",
     "output_type": "stream",
     "text": [
      "ep 7364 : reward 500.0\r",
      "ep 7365 : reward 468.0\r",
      "ep 7366 : reward 231.0\r"
     ]
    },
    {
     "name": "stdout",
     "output_type": "stream",
     "text": [
      "ep 7367 : reward 419.0\r",
      "ep 7368 : reward 459.0\r",
      "ep 7369 : reward 310.0\r"
     ]
    },
    {
     "name": "stdout",
     "output_type": "stream",
     "text": [
      "ep 7370 : reward 348.0\r",
      "ep 7371 : reward 383.0\r",
      "ep 7372 : reward 181.0\r"
     ]
    },
    {
     "name": "stdout",
     "output_type": "stream",
     "text": [
      "ep 7373 : reward 500.0\r",
      "ep 7374 : reward 305.0\r",
      "ep 7375 : reward 378.0\r"
     ]
    },
    {
     "name": "stdout",
     "output_type": "stream",
     "text": [
      "ep 7376 : reward 246.0\r",
      "ep 7377 : reward 248.0\r",
      "ep 7378 : reward 255.0\r"
     ]
    },
    {
     "name": "stdout",
     "output_type": "stream",
     "text": [
      "ep 7379 : reward 266.0\r",
      "ep 7380 : reward 179.0\r",
      "ep 7381 : reward 251.0\r"
     ]
    },
    {
     "name": "stdout",
     "output_type": "stream",
     "text": [
      "ep 7382 : reward 263.0\r",
      "ep 7383 : reward 264.0\r",
      "ep 7384 : reward 257.0\r"
     ]
    },
    {
     "name": "stdout",
     "output_type": "stream",
     "text": [
      "ep 7385 : reward 260.0\r",
      "ep 7386 : reward 455.0\r"
     ]
    },
    {
     "name": "stdout",
     "output_type": "stream",
     "text": [
      "ep 7387 : reward 409.0\r",
      "ep 7388 : reward 335.0\r",
      "ep 7389 : reward 256.0\r"
     ]
    },
    {
     "name": "stdout",
     "output_type": "stream",
     "text": [
      "ep 7390 : reward 374.0\r",
      "ep 7391 : reward 242.0\r",
      "ep 7392 : reward 323.0\r"
     ]
    },
    {
     "name": "stdout",
     "output_type": "stream",
     "text": [
      "ep 7393 : reward 317.0\r",
      "ep 7394 : reward 169.0\r",
      "ep 7395 : reward 254.0\r",
      "ep 7396 : reward 187.0\r"
     ]
    },
    {
     "name": "stdout",
     "output_type": "stream",
     "text": [
      "ep 7397 : reward 93.0\r",
      "ep 7398 : reward 98.0\r",
      "ep 7399 : reward 98.0\r",
      "ep 7400 : reward 171.0\r"
     ]
    },
    {
     "name": "stdout",
     "output_type": "stream",
     "text": [
      "ep 7401 : reward 344.0\r",
      "ep 7402 : reward 466.0\r",
      "ep 7403 : reward 243.0\r"
     ]
    },
    {
     "name": "stdout",
     "output_type": "stream",
     "text": [
      "ep 7404 : reward 270.0\r",
      "ep 7405 : reward 500.0\r",
      "ep 7406 : reward 264.0\r"
     ]
    },
    {
     "name": "stdout",
     "output_type": "stream",
     "text": [
      "ep 7407 : reward 403.0\r",
      "ep 7408 : reward 247.0\r",
      "ep 7409 : reward 249.0\r"
     ]
    },
    {
     "name": "stdout",
     "output_type": "stream",
     "text": [
      "ep 7410 : reward 317.0\r",
      "ep 7411 : reward 397.0\r",
      "ep 7412 : reward 380.0\r"
     ]
    },
    {
     "name": "stdout",
     "output_type": "stream",
     "text": [
      "ep 7413 : reward 254.0\r",
      "ep 7414 : reward 102.0\r",
      "ep 7415 : reward 465.0\r"
     ]
    },
    {
     "name": "stdout",
     "output_type": "stream",
     "text": [
      "ep 7416 : reward 500.0\r",
      "ep 7417 : reward 222.0\r",
      "ep 7418 : reward 327.0\r"
     ]
    },
    {
     "name": "stdout",
     "output_type": "stream",
     "text": [
      "ep 7419 : reward 500.0\r",
      "ep 7420 : reward 500.0\r"
     ]
    },
    {
     "name": "stdout",
     "output_type": "stream",
     "text": [
      "ep 7421 : reward 500.0\r",
      "ep 7422 : reward 500.0\r"
     ]
    },
    {
     "name": "stdout",
     "output_type": "stream",
     "text": [
      "ep 7423 : reward 500.0\r",
      "ep 7424 : reward 407.0\r"
     ]
    },
    {
     "name": "stdout",
     "output_type": "stream",
     "text": [
      "ep 7425 : reward 419.0\r",
      "ep 7426 : reward 350.0\r"
     ]
    },
    {
     "name": "stdout",
     "output_type": "stream",
     "text": [
      "ep 7427 : reward 500.0\r",
      "ep 7428 : reward 500.0\r"
     ]
    },
    {
     "name": "stdout",
     "output_type": "stream",
     "text": [
      "ep 7429 : reward 426.0\r",
      "ep 7430 : reward 346.0\r"
     ]
    },
    {
     "name": "stdout",
     "output_type": "stream",
     "text": [
      "ep 7431 : reward 478.0\r",
      "ep 7432 : reward 350.0\r",
      "ep 7433 : reward 392.0\r"
     ]
    },
    {
     "name": "stdout",
     "output_type": "stream",
     "text": [
      "ep 7434 : reward 271.0\r",
      "ep 7435 : reward 378.0\r",
      "ep 7436 : reward 378.0\r"
     ]
    },
    {
     "name": "stdout",
     "output_type": "stream",
     "text": [
      "ep 7437 : reward 500.0\r",
      "ep 7438 : reward 500.0\r"
     ]
    },
    {
     "name": "stdout",
     "output_type": "stream",
     "text": [
      "ep 7439 : reward 500.0\r",
      "ep 7440 : reward 500.0\r"
     ]
    },
    {
     "name": "stdout",
     "output_type": "stream",
     "text": [
      "ep 7441 : reward 500.0\r",
      "ep 7442 : reward 500.0\r"
     ]
    },
    {
     "name": "stdout",
     "output_type": "stream",
     "text": [
      "ep 7443 : reward 335.0\r",
      "ep 7444 : reward 440.0\r"
     ]
    },
    {
     "name": "stdout",
     "output_type": "stream",
     "text": [
      "ep 7445 : reward 417.0\r",
      "ep 7446 : reward 471.0\r"
     ]
    },
    {
     "name": "stdout",
     "output_type": "stream",
     "text": [
      "ep 7447 : reward 500.0\r",
      "ep 7448 : reward 252.0\r",
      "ep 7449 : reward 261.0\r"
     ]
    },
    {
     "name": "stdout",
     "output_type": "stream",
     "text": [
      "ep 7450 : reward 328.0\r",
      "ep 7451 : reward 261.0\r",
      "ep 7452 : reward 180.0\r",
      "ep 7453 : reward 178.0\r"
     ]
    },
    {
     "name": "stdout",
     "output_type": "stream",
     "text": [
      "ep 7454 : reward 106.0\r",
      "ep 7455 : reward 119.0\r",
      "ep 7456 : reward 243.0\r",
      "ep 7457 : reward 93.0\r",
      "ep 7458 : reward 110.0\r"
     ]
    },
    {
     "name": "stdout",
     "output_type": "stream",
     "text": [
      "ep 7459 : reward 245.0\r",
      "ep 7460 : reward 188.0\r",
      "ep 7461 : reward 110.0\r",
      "ep 7462 : reward 254.0\r"
     ]
    },
    {
     "name": "stdout",
     "output_type": "stream",
     "text": [
      "ep 7463 : reward 258.0\r",
      "ep 7464 : reward 329.0\r",
      "ep 7465 : reward 393.0\r"
     ]
    },
    {
     "name": "stdout",
     "output_type": "stream",
     "text": [
      "ep 7466 : reward 231.0\r",
      "ep 7467 : reward 102.0\r",
      "ep 7468 : reward 252.0\r",
      "ep 7469 : reward 97.0\r",
      "ep 7470 : reward 92.0\r"
     ]
    },
    {
     "name": "stdout",
     "output_type": "stream",
     "text": [
      "ep 7471 : reward 97.0\r",
      "ep 7472 : reward 42.0\r",
      "ep 7473 : reward 100.0\r",
      "ep 7474 : reward 90.0\r",
      "ep 7475 : reward 107.0\r",
      "ep 7476 : reward 109.0\r"
     ]
    },
    {
     "name": "stdout",
     "output_type": "stream",
     "text": [
      "ep 7477 : reward 253.0\r",
      "ep 7478 : reward 185.0\r",
      "ep 7479 : reward 437.0\r"
     ]
    },
    {
     "name": "stdout",
     "output_type": "stream",
     "text": [
      "ep 7480 : reward 109.0\r",
      "ep 7481 : reward 180.0\r",
      "ep 7482 : reward 179.0\r",
      "ep 7483 : reward 108.0\r"
     ]
    },
    {
     "name": "stdout",
     "output_type": "stream",
     "text": [
      "ep 7484 : reward 318.0\r",
      "ep 7485 : reward 482.0\r"
     ]
    },
    {
     "name": "stdout",
     "output_type": "stream",
     "text": [
      "ep 7486 : reward 488.0\r",
      "ep 7487 : reward 500.0\r"
     ]
    },
    {
     "name": "stdout",
     "output_type": "stream",
     "text": [
      "ep 7488 : reward 415.0\r",
      "ep 7489 : reward 500.0\r"
     ]
    },
    {
     "name": "stdout",
     "output_type": "stream",
     "text": [
      "ep 7490 : reward 375.0\r",
      "ep 7491 : reward 244.0\r",
      "ep 7492 : reward 500.0\r"
     ]
    },
    {
     "name": "stdout",
     "output_type": "stream",
     "text": [
      "ep 7493 : reward 318.0\r",
      "ep 7494 : reward 334.0\r",
      "ep 7495 : reward 258.0\r"
     ]
    },
    {
     "name": "stdout",
     "output_type": "stream",
     "text": [
      "ep 7496 : reward 260.0\r",
      "ep 7497 : reward 333.0\r"
     ]
    },
    {
     "name": "stdout",
     "output_type": "stream",
     "text": [
      "ep 7498 : reward 500.0\r",
      "ep 7499 : reward 500.0\r"
     ]
    },
    {
     "name": "stdout",
     "output_type": "stream",
     "text": [
      "ep 7500 : reward 500.0\r",
      "ep 7501 : reward 500.0\r"
     ]
    },
    {
     "name": "stdout",
     "output_type": "stream",
     "text": [
      "ep 7502 : reward 500.0\r",
      "ep 7503 : reward 475.0\r"
     ]
    },
    {
     "name": "stdout",
     "output_type": "stream",
     "text": [
      "ep 7504 : reward 484.0\r",
      "ep 7505 : reward 110.0\r",
      "ep 7506 : reward 172.0\r",
      "ep 7507 : reward 110.0\r"
     ]
    },
    {
     "name": "stdout",
     "output_type": "stream",
     "text": [
      "ep 7508 : reward 241.0\r",
      "ep 7509 : reward 247.0\r",
      "ep 7510 : reward 245.0\r"
     ]
    },
    {
     "name": "stdout",
     "output_type": "stream",
     "text": [
      "ep 7511 : reward 260.0\r",
      "ep 7512 : reward 102.0\r",
      "ep 7513 : reward 97.0\r",
      "ep 7514 : reward 102.0\r",
      "ep 7515 : reward 258.0\r"
     ]
    },
    {
     "name": "stdout",
     "output_type": "stream",
     "text": [
      "ep 7516 : reward 500.0\r",
      "ep 7517 : reward 500.0\r"
     ]
    },
    {
     "name": "stdout",
     "output_type": "stream",
     "text": [
      "ep 7518 : reward 500.0\r",
      "ep 7519 : reward 457.0\r"
     ]
    },
    {
     "name": "stdout",
     "output_type": "stream",
     "text": [
      "ep 7520 : reward 411.0\r",
      "ep 7521 : reward 187.0\r",
      "ep 7522 : reward 243.0\r"
     ]
    },
    {
     "name": "stdout",
     "output_type": "stream",
     "text": [
      "ep 7523 : reward 326.0\r",
      "ep 7524 : reward 377.0\r"
     ]
    },
    {
     "name": "stdout",
     "output_type": "stream",
     "text": [
      "ep 7525 : reward 423.0\r",
      "ep 7526 : reward 265.0\r",
      "ep 7527 : reward 427.0\r"
     ]
    },
    {
     "name": "stdout",
     "output_type": "stream",
     "text": [
      "ep 7528 : reward 239.0\r",
      "ep 7529 : reward 258.0\r",
      "ep 7530 : reward 401.0\r"
     ]
    },
    {
     "name": "stdout",
     "output_type": "stream",
     "text": [
      "ep 7531 : reward 119.0\r",
      "ep 7532 : reward 343.0\r",
      "ep 7533 : reward 339.0\r"
     ]
    },
    {
     "name": "stdout",
     "output_type": "stream",
     "text": [
      "ep 7534 : reward 500.0\r",
      "ep 7535 : reward 414.0\r"
     ]
    },
    {
     "name": "stdout",
     "output_type": "stream",
     "text": [
      "ep 7536 : reward 458.0\r",
      "ep 7537 : reward 257.0\r",
      "ep 7538 : reward 242.0\r"
     ]
    },
    {
     "name": "stdout",
     "output_type": "stream",
     "text": [
      "ep 7539 : reward 348.0\r",
      "ep 7540 : reward 271.0\r",
      "ep 7541 : reward 244.0\r"
     ]
    },
    {
     "name": "stdout",
     "output_type": "stream",
     "text": [
      "ep 7542 : reward 319.0\r",
      "ep 7543 : reward 253.0\r",
      "ep 7544 : reward 99.0\r"
     ]
    },
    {
     "name": "stdout",
     "output_type": "stream",
     "text": [
      "ep 7545 : reward 376.0\r",
      "ep 7546 : reward 215.0\r",
      "ep 7547 : reward 169.0\r",
      "ep 7548 : reward 258.0\r"
     ]
    },
    {
     "name": "stdout",
     "output_type": "stream",
     "text": [
      "ep 7549 : reward 245.0\r",
      "ep 7550 : reward 118.0\r",
      "ep 7551 : reward 330.0\r",
      "ep 7552 : reward 250.0\r"
     ]
    },
    {
     "name": "stdout",
     "output_type": "stream",
     "text": [
      "ep 7553 : reward 255.0\r",
      "ep 7554 : reward 187.0\r",
      "ep 7555 : reward 331.0\r"
     ]
    },
    {
     "name": "stdout",
     "output_type": "stream",
     "text": [
      "ep 7556 : reward 258.0\r",
      "ep 7557 : reward 188.0\r",
      "ep 7558 : reward 272.0\r"
     ]
    },
    {
     "name": "stdout",
     "output_type": "stream",
     "text": [
      "ep 7559 : reward 346.0\r",
      "ep 7560 : reward 269.0\r",
      "ep 7561 : reward 261.0\r"
     ]
    },
    {
     "name": "stdout",
     "output_type": "stream",
     "text": [
      "ep 7562 : reward 330.0\r",
      "ep 7563 : reward 190.0\r",
      "ep 7564 : reward 256.0\r",
      "ep 7565 : reward 252.0\r"
     ]
    },
    {
     "name": "stdout",
     "output_type": "stream",
     "text": [
      "ep 7566 : reward 324.0\r",
      "ep 7567 : reward 187.0\r",
      "ep 7568 : reward 500.0\r"
     ]
    },
    {
     "name": "stdout",
     "output_type": "stream",
     "text": [
      "ep 7569 : reward 500.0\r",
      "ep 7570 : reward 500.0\r"
     ]
    },
    {
     "name": "stdout",
     "output_type": "stream",
     "text": [
      "ep 7571 : reward 500.0\r",
      "ep 7572 : reward 469.0\r"
     ]
    },
    {
     "name": "stdout",
     "output_type": "stream",
     "text": [
      "ep 7573 : reward 500.0\r",
      "ep 7574 : reward 500.0\r",
      "ep 7575 : reward 256.0\r"
     ]
    },
    {
     "name": "stdout",
     "output_type": "stream",
     "text": [
      "ep 7576 : reward 387.0\r",
      "ep 7577 : reward 315.0\r",
      "ep 7578 : reward 400.0\r"
     ]
    },
    {
     "name": "stdout",
     "output_type": "stream",
     "text": [
      "ep 7579 : reward 353.0\r",
      "ep 7580 : reward 500.0\r"
     ]
    },
    {
     "name": "stdout",
     "output_type": "stream",
     "text": [
      "ep 7581 : reward 500.0\r",
      "ep 7582 : reward 500.0\r"
     ]
    },
    {
     "name": "stdout",
     "output_type": "stream",
     "text": [
      "ep 7583 : reward 500.0\r",
      "ep 7584 : reward 500.0\r"
     ]
    },
    {
     "name": "stdout",
     "output_type": "stream",
     "text": [
      "ep 7585 : reward 500.0\r",
      "ep 7586 : reward 500.0\r"
     ]
    },
    {
     "name": "stdout",
     "output_type": "stream",
     "text": [
      "ep 7587 : reward 372.0\r",
      "ep 7588 : reward 246.0\r",
      "ep 7589 : reward 182.0\r"
     ]
    },
    {
     "name": "stdout",
     "output_type": "stream",
     "text": [
      "ep 7590 : reward 325.0\r",
      "ep 7591 : reward 390.0\r",
      "ep 7592 : reward 267.0\r"
     ]
    },
    {
     "name": "stdout",
     "output_type": "stream",
     "text": [
      "ep 7593 : reward 326.0\r",
      "ep 7594 : reward 412.0\r"
     ]
    },
    {
     "name": "stdout",
     "output_type": "stream",
     "text": [
      "ep 7595 : reward 500.0\r",
      "ep 7596 : reward 500.0\r"
     ]
    },
    {
     "name": "stdout",
     "output_type": "stream",
     "text": [
      "ep 7597 : reward 330.0\r",
      "ep 7598 : reward 380.0\r",
      "ep 7599 : reward 361.0\r"
     ]
    },
    {
     "name": "stdout",
     "output_type": "stream",
     "text": [
      "ep 7600 : reward 400.0\r",
      "ep 7601 : reward 459.0\r",
      "ep 7602 : reward 325.0\r"
     ]
    },
    {
     "name": "stdout",
     "output_type": "stream",
     "text": [
      "ep 7603 : reward 344.0\r",
      "ep 7604 : reward 471.0\r"
     ]
    },
    {
     "name": "stdout",
     "output_type": "stream",
     "text": [
      "ep 7605 : reward 500.0\r",
      "ep 7606 : reward 500.0\r"
     ]
    },
    {
     "name": "stdout",
     "output_type": "stream",
     "text": [
      "ep 7607 : reward 500.0\r",
      "ep 7608 : reward 500.0\r"
     ]
    },
    {
     "name": "stdout",
     "output_type": "stream",
     "text": [
      "ep 7609 : reward 500.0\r",
      "ep 7610 : reward 500.0\r"
     ]
    },
    {
     "name": "stdout",
     "output_type": "stream",
     "text": [
      "ep 7611 : reward 500.0\r",
      "ep 7612 : reward 500.0\r"
     ]
    },
    {
     "name": "stdout",
     "output_type": "stream",
     "text": [
      "ep 7613 : reward 367.0\r",
      "ep 7614 : reward 234.0\r",
      "ep 7615 : reward 104.0\r",
      "ep 7616 : reward 117.0\r"
     ]
    },
    {
     "name": "stdout",
     "output_type": "stream",
     "text": [
      "ep 7617 : reward 108.0\r",
      "ep 7618 : reward 234.0\r",
      "ep 7619 : reward 101.0\r",
      "ep 7620 : reward 125.0\r",
      "ep 7621 : reward 106.0\r"
     ]
    },
    {
     "name": "stdout",
     "output_type": "stream",
     "text": [
      "ep 7622 : reward 104.0\r",
      "ep 7623 : reward 117.0\r",
      "ep 7624 : reward 107.0\r",
      "ep 7625 : reward 237.0\r"
     ]
    },
    {
     "name": "stdout",
     "output_type": "stream",
     "text": [
      "ep 7626 : reward 101.0\r",
      "ep 7627 : reward 243.0\r",
      "ep 7628 : reward 258.0\r"
     ]
    },
    {
     "name": "stdout",
     "output_type": "stream",
     "text": [
      "ep 7629 : reward 250.0\r",
      "ep 7630 : reward 99.0\r",
      "ep 7631 : reward 40.0\r",
      "ep 7632 : reward 100.0\r",
      "ep 7633 : reward 95.0\r"
     ]
    },
    {
     "name": "stdout",
     "output_type": "stream",
     "text": [
      "ep 7634 : reward 236.0\r",
      "ep 7635 : reward 102.0\r",
      "ep 7636 : reward 108.0\r",
      "ep 7637 : reward 273.0\r"
     ]
    },
    {
     "name": "stdout",
     "output_type": "stream",
     "text": [
      "ep 7638 : reward 500.0\r",
      "ep 7639 : reward 500.0\r"
     ]
    },
    {
     "name": "stdout",
     "output_type": "stream",
     "text": [
      "ep 7640 : reward 500.0\r",
      "ep 7641 : reward 500.0\r"
     ]
    },
    {
     "name": "stdout",
     "output_type": "stream",
     "text": [
      "ep 7642 : reward 500.0\r",
      "ep 7643 : reward 459.0\r"
     ]
    },
    {
     "name": "stdout",
     "output_type": "stream",
     "text": [
      "ep 7644 : reward 500.0\r",
      "ep 7645 : reward 500.0\r"
     ]
    },
    {
     "name": "stdout",
     "output_type": "stream",
     "text": [
      "ep 7646 : reward 500.0\r",
      "ep 7647 : reward 500.0\r"
     ]
    },
    {
     "name": "stdout",
     "output_type": "stream",
     "text": [
      "ep 7648 : reward 500.0\r",
      "ep 7649 : reward 483.0\r"
     ]
    },
    {
     "name": "stdout",
     "output_type": "stream",
     "text": [
      "ep 7650 : reward 500.0\r",
      "ep 7651 : reward 500.0\r"
     ]
    },
    {
     "name": "stdout",
     "output_type": "stream",
     "text": [
      "ep 7652 : reward 500.0\r",
      "ep 7653 : reward 500.0\r"
     ]
    },
    {
     "name": "stdout",
     "output_type": "stream",
     "text": [
      "ep 7654 : reward 500.0\r",
      "ep 7655 : reward 460.0\r"
     ]
    },
    {
     "name": "stdout",
     "output_type": "stream",
     "text": [
      "ep 7656 : reward 500.0\r",
      "ep 7657 : reward 500.0\r"
     ]
    },
    {
     "name": "stdout",
     "output_type": "stream",
     "text": [
      "ep 7658 : reward 500.0\r",
      "ep 7659 : reward 490.0\r"
     ]
    },
    {
     "name": "stdout",
     "output_type": "stream",
     "text": [
      "ep 7660 : reward 464.0\r",
      "ep 7661 : reward 242.0\r",
      "ep 7662 : reward 392.0\r"
     ]
    },
    {
     "name": "stdout",
     "output_type": "stream",
     "text": [
      "ep 7663 : reward 500.0\r",
      "ep 7664 : reward 450.0\r"
     ]
    },
    {
     "name": "stdout",
     "output_type": "stream",
     "text": [
      "ep 7665 : reward 404.0\r",
      "ep 7666 : reward 402.0\r"
     ]
    },
    {
     "name": "stdout",
     "output_type": "stream",
     "text": [
      "ep 7667 : reward 500.0\r",
      "ep 7668 : reward 500.0\r"
     ]
    },
    {
     "name": "stdout",
     "output_type": "stream",
     "text": [
      "ep 7669 : reward 416.0\r",
      "ep 7670 : reward 249.0\r",
      "ep 7671 : reward 390.0\r"
     ]
    },
    {
     "name": "stdout",
     "output_type": "stream",
     "text": [
      "ep 7672 : reward 471.0\r",
      "ep 7673 : reward 358.0\r",
      "ep 7674 : reward 275.0\r"
     ]
    },
    {
     "name": "stdout",
     "output_type": "stream",
     "text": [
      "ep 7675 : reward 321.0\r",
      "ep 7676 : reward 398.0\r",
      "ep 7677 : reward 245.0\r"
     ]
    },
    {
     "name": "stdout",
     "output_type": "stream",
     "text": [
      "ep 7678 : reward 404.0\r",
      "ep 7679 : reward 309.0\r",
      "ep 7680 : reward 191.0\r"
     ]
    },
    {
     "name": "stdout",
     "output_type": "stream",
     "text": [
      "ep 7681 : reward 245.0\r",
      "ep 7682 : reward 251.0\r",
      "ep 7683 : reward 239.0\r"
     ]
    },
    {
     "name": "stdout",
     "output_type": "stream",
     "text": [
      "ep 7684 : reward 373.0\r",
      "ep 7685 : reward 333.0\r",
      "ep 7686 : reward 259.0\r"
     ]
    },
    {
     "name": "stdout",
     "output_type": "stream",
     "text": [
      "ep 7687 : reward 178.0\r",
      "ep 7688 : reward 241.0\r",
      "ep 7689 : reward 251.0\r"
     ]
    },
    {
     "name": "stdout",
     "output_type": "stream",
     "text": [
      "ep 7690 : reward 500.0\r",
      "ep 7691 : reward 500.0\r",
      "ep 7692 : reward 173.0\r"
     ]
    },
    {
     "name": "stdout",
     "output_type": "stream",
     "text": [
      "ep 7693 : reward 109.0\r",
      "ep 7694 : reward 116.0\r",
      "ep 7695 : reward 238.0\r",
      "ep 7696 : reward 266.0\r"
     ]
    },
    {
     "name": "stdout",
     "output_type": "stream",
     "text": [
      "ep 7697 : reward 244.0\r",
      "ep 7698 : reward 244.0\r",
      "ep 7699 : reward 172.0\r"
     ]
    },
    {
     "name": "stdout",
     "output_type": "stream",
     "text": [
      "ep 7700 : reward 254.0\r",
      "ep 7701 : reward 91.0\r",
      "ep 7702 : reward 93.0\r",
      "ep 7703 : reward 102.0\r",
      "ep 7704 : reward 100.0\r",
      "ep 7705 : reward 28.0\r"
     ]
    },
    {
     "name": "stdout",
     "output_type": "stream",
     "text": [
      "ep 7706 : reward 25.0\r",
      "ep 7707 : reward 25.0\r",
      "ep 7708 : reward 25.0\r",
      "ep 7709 : reward 84.0\r",
      "ep 7710 : reward 89.0\r",
      "ep 7711 : reward 95.0\r"
     ]
    },
    {
     "name": "stdout",
     "output_type": "stream",
     "text": [
      "ep 7712 : reward 104.0\r",
      "ep 7713 : reward 94.0\r",
      "ep 7714 : reward 183.0\r",
      "ep 7715 : reward 97.0\r",
      "ep 7716 : reward 98.0\r"
     ]
    },
    {
     "name": "stdout",
     "output_type": "stream",
     "text": [
      "ep 7717 : reward 101.0\r",
      "ep 7718 : reward 103.0\r",
      "ep 7719 : reward 112.0\r",
      "ep 7720 : reward 243.0\r",
      "ep 7721 : reward 95.0\r"
     ]
    },
    {
     "name": "stdout",
     "output_type": "stream",
     "text": [
      "ep 7722 : reward 103.0\r",
      "ep 7723 : reward 103.0\r",
      "ep 7724 : reward 102.0\r",
      "ep 7725 : reward 182.0\r",
      "ep 7726 : reward 112.0\r"
     ]
    },
    {
     "name": "stdout",
     "output_type": "stream",
     "text": [
      "ep 7727 : reward 249.0\r",
      "ep 7728 : reward 175.0\r",
      "ep 7729 : reward 266.0\r"
     ]
    },
    {
     "name": "stdout",
     "output_type": "stream",
     "text": [
      "ep 7730 : reward 253.0\r",
      "ep 7731 : reward 246.0\r",
      "ep 7732 : reward 239.0\r"
     ]
    },
    {
     "name": "stdout",
     "output_type": "stream",
     "text": [
      "ep 7733 : reward 500.0\r",
      "ep 7734 : reward 500.0\r"
     ]
    },
    {
     "name": "stdout",
     "output_type": "stream",
     "text": [
      "ep 7735 : reward 500.0\r",
      "ep 7736 : reward 500.0\r"
     ]
    },
    {
     "name": "stdout",
     "output_type": "stream",
     "text": [
      "ep 7737 : reward 500.0\r",
      "ep 7738 : reward 114.0\r",
      "ep 7739 : reward 174.0\r",
      "ep 7740 : reward 239.0\r"
     ]
    },
    {
     "name": "stdout",
     "output_type": "stream",
     "text": [
      "ep 7741 : reward 175.0\r",
      "ep 7742 : reward 324.0\r",
      "ep 7743 : reward 258.0\r"
     ]
    },
    {
     "name": "stdout",
     "output_type": "stream",
     "text": [
      "ep 7744 : reward 250.0\r",
      "ep 7745 : reward 277.0\r",
      "ep 7746 : reward 312.0\r"
     ]
    },
    {
     "name": "stdout",
     "output_type": "stream",
     "text": [
      "ep 7747 : reward 399.0\r",
      "ep 7748 : reward 254.0\r",
      "ep 7749 : reward 387.0\r"
     ]
    },
    {
     "name": "stdout",
     "output_type": "stream",
     "text": [
      "ep 7750 : reward 261.0\r",
      "ep 7751 : reward 263.0\r",
      "ep 7752 : reward 339.0\r"
     ]
    },
    {
     "name": "stdout",
     "output_type": "stream",
     "text": [
      "ep 7753 : reward 259.0\r",
      "ep 7754 : reward 262.0\r",
      "ep 7755 : reward 333.0\r"
     ]
    },
    {
     "name": "stdout",
     "output_type": "stream",
     "text": [
      "ep 7756 : reward 267.0\r",
      "ep 7757 : reward 331.0\r",
      "ep 7758 : reward 385.0\r"
     ]
    },
    {
     "name": "stdout",
     "output_type": "stream",
     "text": [
      "ep 7759 : reward 257.0\r",
      "ep 7760 : reward 251.0\r",
      "ep 7761 : reward 255.0\r"
     ]
    },
    {
     "name": "stdout",
     "output_type": "stream",
     "text": [
      "ep 7762 : reward 396.0\r",
      "ep 7763 : reward 253.0\r",
      "ep 7764 : reward 321.0\r"
     ]
    },
    {
     "name": "stdout",
     "output_type": "stream",
     "text": [
      "ep 7765 : reward 271.0\r",
      "ep 7766 : reward 317.0\r",
      "ep 7767 : reward 252.0\r"
     ]
    },
    {
     "name": "stdout",
     "output_type": "stream",
     "text": [
      "ep 7768 : reward 377.0\r",
      "ep 7769 : reward 249.0\r",
      "ep 7770 : reward 242.0\r"
     ]
    },
    {
     "name": "stdout",
     "output_type": "stream",
     "text": [
      "ep 7771 : reward 394.0\r",
      "ep 7772 : reward 500.0\r"
     ]
    },
    {
     "name": "stdout",
     "output_type": "stream",
     "text": [
      "ep 7773 : reward 500.0\r",
      "ep 7774 : reward 500.0\r"
     ]
    },
    {
     "name": "stdout",
     "output_type": "stream",
     "text": [
      "ep 7775 : reward 412.0\r",
      "ep 7776 : reward 409.0\r",
      "ep 7777 : reward 99.0\r",
      "ep 7778 : reward 109.0\r"
     ]
    },
    {
     "name": "stdout",
     "output_type": "stream",
     "text": [
      "ep 7779 : reward 111.0\r",
      "ep 7780 : reward 32.0\r",
      "ep 7781 : reward 98.0\r",
      "ep 7782 : reward 95.0\r",
      "ep 7783 : reward 96.0\r",
      "ep 7784 : reward 98.0\r"
     ]
    },
    {
     "name": "stdout",
     "output_type": "stream",
     "text": [
      "ep 7785 : reward 115.0\r",
      "ep 7786 : reward 118.0\r",
      "ep 7787 : reward 250.0\r",
      "ep 7788 : reward 230.0\r"
     ]
    },
    {
     "name": "stdout",
     "output_type": "stream",
     "text": [
      "ep 7789 : reward 256.0\r",
      "ep 7790 : reward 234.0\r",
      "ep 7791 : reward 189.0\r",
      "ep 7792 : reward 186.0\r"
     ]
    },
    {
     "name": "stdout",
     "output_type": "stream",
     "text": [
      "ep 7793 : reward 320.0\r",
      "ep 7794 : reward 259.0\r",
      "ep 7795 : reward 316.0\r"
     ]
    },
    {
     "name": "stdout",
     "output_type": "stream",
     "text": [
      "ep 7796 : reward 332.0\r",
      "ep 7797 : reward 399.0\r",
      "ep 7798 : reward 311.0\r"
     ]
    },
    {
     "name": "stdout",
     "output_type": "stream",
     "text": [
      "ep 7799 : reward 260.0\r",
      "ep 7800 : reward 400.0\r"
     ]
    },
    {
     "name": "stdout",
     "output_type": "stream",
     "text": [
      "ep 7801 : reward 393.0\r",
      "ep 7802 : reward 339.0\r",
      "ep 7803 : reward 264.0\r"
     ]
    },
    {
     "name": "stdout",
     "output_type": "stream",
     "text": [
      "ep 7804 : reward 310.0\r",
      "ep 7805 : reward 387.0\r",
      "ep 7806 : reward 183.0\r"
     ]
    },
    {
     "name": "stdout",
     "output_type": "stream",
     "text": [
      "ep 7807 : reward 500.0\r",
      "ep 7808 : reward 500.0\r"
     ]
    },
    {
     "name": "stdout",
     "output_type": "stream",
     "text": [
      "ep 7809 : reward 296.0\r",
      "ep 7810 : reward 198.0\r",
      "ep 7811 : reward 257.0\r"
     ]
    },
    {
     "name": "stdout",
     "output_type": "stream",
     "text": [
      "ep 7812 : reward 311.0\r",
      "ep 7813 : reward 414.0\r"
     ]
    },
    {
     "name": "stdout",
     "output_type": "stream",
     "text": [
      "ep 7814 : reward 500.0\r",
      "ep 7815 : reward 500.0\r"
     ]
    },
    {
     "name": "stdout",
     "output_type": "stream",
     "text": [
      "ep 7816 : reward 500.0\r",
      "ep 7817 : reward 500.0\r",
      "ep 7818 : reward 186.0\r"
     ]
    },
    {
     "name": "stdout",
     "output_type": "stream",
     "text": [
      "ep 7819 : reward 401.0\r",
      "ep 7820 : reward 279.0\r",
      "ep 7821 : reward 253.0\r"
     ]
    },
    {
     "name": "stdout",
     "output_type": "stream",
     "text": [
      "ep 7822 : reward 354.0\r",
      "ep 7823 : reward 249.0\r",
      "ep 7824 : reward 89.0\r",
      "ep 7825 : reward 245.0\r"
     ]
    },
    {
     "name": "stdout",
     "output_type": "stream",
     "text": [
      "ep 7826 : reward 106.0\r",
      "ep 7827 : reward 228.0\r",
      "ep 7828 : reward 249.0\r"
     ]
    },
    {
     "name": "stdout",
     "output_type": "stream",
     "text": [
      "ep 7829 : reward 469.0\r",
      "ep 7830 : reward 476.0\r"
     ]
    },
    {
     "name": "stdout",
     "output_type": "stream",
     "text": [
      "ep 7831 : reward 500.0\r",
      "ep 7832 : reward 500.0\r"
     ]
    },
    {
     "name": "stdout",
     "output_type": "stream",
     "text": [
      "ep 7833 : reward 399.0\r",
      "ep 7834 : reward 500.0\r"
     ]
    },
    {
     "name": "stdout",
     "output_type": "stream",
     "text": [
      "ep 7835 : reward 500.0\r",
      "ep 7836 : reward 500.0\r"
     ]
    },
    {
     "name": "stdout",
     "output_type": "stream",
     "text": [
      "ep 7837 : reward 500.0\r",
      "ep 7838 : reward 500.0\r"
     ]
    },
    {
     "name": "stdout",
     "output_type": "stream",
     "text": [
      "ep 7839 : reward 500.0\r",
      "ep 7840 : reward 433.0\r"
     ]
    },
    {
     "name": "stdout",
     "output_type": "stream",
     "text": [
      "ep 7841 : reward 348.0\r",
      "ep 7842 : reward 178.0\r",
      "ep 7843 : reward 500.0\r"
     ]
    },
    {
     "name": "stdout",
     "output_type": "stream",
     "text": [
      "ep 7844 : reward 500.0\r",
      "ep 7845 : reward 500.0\r"
     ]
    },
    {
     "name": "stdout",
     "output_type": "stream",
     "text": [
      "ep 7846 : reward 500.0\r",
      "ep 7847 : reward 500.0\r"
     ]
    },
    {
     "name": "stdout",
     "output_type": "stream",
     "text": [
      "ep 7848 : reward 500.0\r",
      "ep 7849 : reward 500.0\r"
     ]
    },
    {
     "name": "stdout",
     "output_type": "stream",
     "text": [
      "ep 7850 : reward 390.0\r",
      "ep 7851 : reward 418.0\r"
     ]
    },
    {
     "name": "stdout",
     "output_type": "stream",
     "text": [
      "ep 7852 : reward 406.0\r",
      "ep 7853 : reward 314.0\r",
      "ep 7854 : reward 395.0\r"
     ]
    },
    {
     "name": "stdout",
     "output_type": "stream",
     "text": [
      "ep 7855 : reward 256.0\r",
      "ep 7856 : reward 342.0\r",
      "ep 7857 : reward 373.0\r"
     ]
    },
    {
     "name": "stdout",
     "output_type": "stream",
     "text": [
      "ep 7858 : reward 272.0\r",
      "ep 7859 : reward 368.0\r",
      "ep 7860 : reward 243.0\r"
     ]
    },
    {
     "name": "stdout",
     "output_type": "stream",
     "text": [
      "ep 7861 : reward 174.0\r",
      "ep 7862 : reward 249.0\r",
      "ep 7863 : reward 333.0\r"
     ]
    },
    {
     "name": "stdout",
     "output_type": "stream",
     "text": [
      "ep 7864 : reward 195.0\r",
      "ep 7865 : reward 407.0\r",
      "ep 7866 : reward 35.0\r",
      "ep 7867 : reward 102.0\r"
     ]
    },
    {
     "name": "stdout",
     "output_type": "stream",
     "text": [
      "ep 7868 : reward 95.0\r",
      "ep 7869 : reward 96.0\r",
      "ep 7870 : reward 314.0\r"
     ]
    },
    {
     "name": "stdout",
     "output_type": "stream",
     "text": [
      "ep 7871 : reward 500.0\r",
      "ep 7872 : reward 459.0\r"
     ]
    },
    {
     "name": "stdout",
     "output_type": "stream",
     "text": [
      "ep 7873 : reward 500.0\r",
      "ep 7874 : reward 383.0\r",
      "ep 7875 : reward 261.0\r"
     ]
    },
    {
     "name": "stdout",
     "output_type": "stream",
     "text": [
      "ep 7876 : reward 400.0\r",
      "ep 7877 : reward 317.0\r",
      "ep 7878 : reward 336.0\r"
     ]
    },
    {
     "name": "stdout",
     "output_type": "stream",
     "text": [
      "ep 7879 : reward 258.0\r",
      "ep 7880 : reward 326.0\r",
      "ep 7881 : reward 337.0\r"
     ]
    },
    {
     "name": "stdout",
     "output_type": "stream",
     "text": [
      "ep 7882 : reward 317.0\r",
      "ep 7883 : reward 340.0\r",
      "ep 7884 : reward 246.0\r"
     ]
    },
    {
     "name": "stdout",
     "output_type": "stream",
     "text": [
      "ep 7885 : reward 264.0\r",
      "ep 7886 : reward 409.0\r",
      "ep 7887 : reward 263.0\r"
     ]
    },
    {
     "name": "stdout",
     "output_type": "stream",
     "text": [
      "ep 7888 : reward 261.0\r",
      "ep 7889 : reward 246.0\r",
      "ep 7890 : reward 316.0\r"
     ]
    },
    {
     "name": "stdout",
     "output_type": "stream",
     "text": [
      "ep 7891 : reward 246.0\r",
      "ep 7892 : reward 179.0\r",
      "ep 7893 : reward 392.0\r"
     ]
    },
    {
     "name": "stdout",
     "output_type": "stream",
     "text": [
      "ep 7894 : reward 323.0\r",
      "ep 7895 : reward 320.0\r",
      "ep 7896 : reward 254.0\r"
     ]
    },
    {
     "name": "stdout",
     "output_type": "stream",
     "text": [
      "ep 7897 : reward 377.0\r",
      "ep 7898 : reward 390.0\r",
      "ep 7899 : reward 327.0\r"
     ]
    },
    {
     "name": "stdout",
     "output_type": "stream",
     "text": [
      "ep 7900 : reward 100.0\r",
      "ep 7901 : reward 96.0\r",
      "ep 7902 : reward 93.0\r",
      "ep 7903 : reward 181.0\r",
      "ep 7904 : reward 100.0\r"
     ]
    },
    {
     "name": "stdout",
     "output_type": "stream",
     "text": [
      "ep 7905 : reward 171.0\r",
      "ep 7906 : reward 179.0\r",
      "ep 7907 : reward 236.0\r",
      "ep 7908 : reward 190.0\r"
     ]
    },
    {
     "name": "stdout",
     "output_type": "stream",
     "text": [
      "ep 7909 : reward 246.0\r",
      "ep 7910 : reward 102.0\r",
      "ep 7911 : reward 252.0\r",
      "ep 7912 : reward 239.0\r"
     ]
    },
    {
     "name": "stdout",
     "output_type": "stream",
     "text": [
      "ep 7913 : reward 42.0\r",
      "ep 7914 : reward 89.0\r",
      "ep 7915 : reward 100.0\r",
      "ep 7916 : reward 182.0\r"
     ]
    },
    {
     "name": "stdout",
     "output_type": "stream",
     "text": [
      "ep 7917 : reward 242.0\r",
      "ep 7918 : reward 247.0\r",
      "ep 7919 : reward 165.0\r",
      "ep 7920 : reward 240.0\r"
     ]
    },
    {
     "name": "stdout",
     "output_type": "stream",
     "text": [
      "ep 7921 : reward 186.0\r",
      "ep 7922 : reward 244.0\r",
      "ep 7923 : reward 315.0\r"
     ]
    },
    {
     "name": "stdout",
     "output_type": "stream",
     "text": [
      "ep 7924 : reward 327.0\r",
      "ep 7925 : reward 256.0\r",
      "ep 7926 : reward 251.0\r"
     ]
    },
    {
     "name": "stdout",
     "output_type": "stream",
     "text": [
      "ep 7927 : reward 334.0\r",
      "ep 7928 : reward 272.0\r",
      "ep 7929 : reward 169.0\r"
     ]
    },
    {
     "name": "stdout",
     "output_type": "stream",
     "text": [
      "ep 7930 : reward 311.0\r",
      "ep 7931 : reward 246.0\r",
      "ep 7932 : reward 95.0\r",
      "ep 7933 : reward 91.0\r",
      "ep 7934 : reward 97.0\r"
     ]
    },
    {
     "name": "stdout",
     "output_type": "stream",
     "text": [
      "ep 7935 : reward 92.0\r",
      "ep 7936 : reward 38.0\r",
      "ep 7937 : reward 34.0\r",
      "ep 7938 : reward 92.0\r",
      "ep 7939 : reward 96.0\r",
      "ep 7940 : reward 95.0\r"
     ]
    },
    {
     "name": "stdout",
     "output_type": "stream",
     "text": [
      "ep 7941 : reward 104.0\r",
      "ep 7942 : reward 181.0\r",
      "ep 7943 : reward 237.0\r",
      "ep 7944 : reward 239.0\r"
     ]
    },
    {
     "name": "stdout",
     "output_type": "stream",
     "text": [
      "ep 7945 : reward 107.0\r",
      "ep 7946 : reward 254.0\r",
      "ep 7947 : reward 262.0\r"
     ]
    },
    {
     "name": "stdout",
     "output_type": "stream",
     "text": [
      "ep 7948 : reward 258.0\r",
      "ep 7949 : reward 190.0\r",
      "ep 7950 : reward 389.0\r"
     ]
    },
    {
     "name": "stdout",
     "output_type": "stream",
     "text": [
      "ep 7951 : reward 388.0\r",
      "ep 7952 : reward 409.0\r",
      "ep 7953 : reward 264.0\r"
     ]
    },
    {
     "name": "stdout",
     "output_type": "stream",
     "text": [
      "ep 7954 : reward 324.0\r",
      "ep 7955 : reward 315.0\r",
      "ep 7956 : reward 396.0\r"
     ]
    },
    {
     "name": "stdout",
     "output_type": "stream",
     "text": [
      "ep 7957 : reward 257.0\r",
      "ep 7958 : reward 183.0\r",
      "ep 7959 : reward 109.0\r",
      "ep 7960 : reward 182.0\r"
     ]
    },
    {
     "name": "stdout",
     "output_type": "stream",
     "text": [
      "ep 7961 : reward 206.0\r",
      "ep 7962 : reward 179.0\r",
      "ep 7963 : reward 108.0\r",
      "ep 7964 : reward 240.0\r"
     ]
    },
    {
     "name": "stdout",
     "output_type": "stream",
     "text": [
      "ep 7965 : reward 248.0\r",
      "ep 7966 : reward 250.0\r",
      "ep 7967 : reward 180.0\r",
      "ep 7968 : reward 253.0\r"
     ]
    },
    {
     "name": "stdout",
     "output_type": "stream",
     "text": [
      "ep 7969 : reward 500.0\r",
      "ep 7970 : reward 500.0\r"
     ]
    },
    {
     "name": "stdout",
     "output_type": "stream",
     "text": [
      "ep 7971 : reward 500.0\r",
      "ep 7972 : reward 500.0\r"
     ]
    },
    {
     "name": "stdout",
     "output_type": "stream",
     "text": [
      "ep 7973 : reward 500.0\r",
      "ep 7974 : reward 442.0\r"
     ]
    },
    {
     "name": "stdout",
     "output_type": "stream",
     "text": [
      "ep 7975 : reward 500.0\r",
      "ep 7976 : reward 487.0\r",
      "ep 7977 : reward 264.0\r"
     ]
    },
    {
     "name": "stdout",
     "output_type": "stream",
     "text": [
      "ep 7978 : reward 466.0\r",
      "ep 7979 : reward 338.0\r",
      "ep 7980 : reward 188.0\r",
      "ep 7981 : reward 175.0\r"
     ]
    },
    {
     "name": "stdout",
     "output_type": "stream",
     "text": [
      "ep 7982 : reward 341.0\r",
      "ep 7983 : reward 343.0\r",
      "ep 7984 : reward 262.0\r"
     ]
    },
    {
     "name": "stdout",
     "output_type": "stream",
     "text": [
      "ep 7985 : reward 345.0\r",
      "ep 7986 : reward 104.0\r",
      "ep 7987 : reward 102.0\r",
      "ep 7988 : reward 91.0\r",
      "ep 7989 : reward 95.0\r"
     ]
    },
    {
     "name": "stdout",
     "output_type": "stream",
     "text": [
      "ep 7990 : reward 106.0\r",
      "ep 7991 : reward 257.0\r",
      "ep 7992 : reward 500.0\r"
     ]
    },
    {
     "name": "stdout",
     "output_type": "stream",
     "text": [
      "ep 7993 : reward 276.0\r",
      "ep 7994 : reward 500.0\r"
     ]
    },
    {
     "name": "stdout",
     "output_type": "stream",
     "text": [
      "ep 7995 : reward 385.0\r",
      "ep 7996 : reward 317.0\r"
     ]
    },
    {
     "name": "stdout",
     "output_type": "stream",
     "text": [
      "ep 7997 : reward 463.0\r",
      "ep 7998 : reward 254.0\r",
      "ep 7999 : reward 113.0\r"
     ]
    },
    {
     "name": "stdout",
     "output_type": "stream",
     "text": [
      "ep 8000 : reward 254.0\r",
      "ep 8001 : reward 383.0\r"
     ]
    },
    {
     "name": "stdout",
     "output_type": "stream",
     "text": [
      "ep 8002 : reward 393.0\r",
      "ep 8003 : reward 187.0\r",
      "ep 8004 : reward 239.0\r"
     ]
    },
    {
     "name": "stdout",
     "output_type": "stream",
     "text": [
      "ep 8005 : reward 314.0\r",
      "ep 8006 : reward 239.0\r",
      "ep 8007 : reward 196.0\r"
     ]
    },
    {
     "name": "stdout",
     "output_type": "stream",
     "text": [
      "ep 8008 : reward 261.0\r",
      "ep 8009 : reward 268.0\r",
      "ep 8010 : reward 249.0\r"
     ]
    },
    {
     "name": "stdout",
     "output_type": "stream",
     "text": [
      "ep 8011 : reward 268.0\r",
      "ep 8012 : reward 333.0\r",
      "ep 8013 : reward 252.0\r"
     ]
    },
    {
     "name": "stdout",
     "output_type": "stream",
     "text": [
      "ep 8014 : reward 181.0\r",
      "ep 8015 : reward 233.0\r",
      "ep 8016 : reward 260.0\r"
     ]
    },
    {
     "name": "stdout",
     "output_type": "stream",
     "text": [
      "ep 8017 : reward 322.0\r",
      "ep 8018 : reward 410.0\r",
      "ep 8019 : reward 321.0\r"
     ]
    },
    {
     "name": "stdout",
     "output_type": "stream",
     "text": [
      "ep 8020 : reward 96.0\r",
      "ep 8021 : reward 93.0\r",
      "ep 8022 : reward 93.0\r",
      "ep 8023 : reward 98.0\r",
      "ep 8024 : reward 175.0\r"
     ]
    },
    {
     "name": "stdout",
     "output_type": "stream",
     "text": [
      "ep 8025 : reward 99.0\r",
      "ep 8026 : reward 183.0\r",
      "ep 8027 : reward 115.0\r",
      "ep 8028 : reward 171.0\r"
     ]
    },
    {
     "name": "stdout",
     "output_type": "stream",
     "text": [
      "ep 8029 : reward 255.0\r",
      "ep 8030 : reward 500.0\r"
     ]
    },
    {
     "name": "stdout",
     "output_type": "stream",
     "text": [
      "ep 8031 : reward 500.0\r",
      "ep 8032 : reward 500.0\r"
     ]
    },
    {
     "name": "stdout",
     "output_type": "stream",
     "text": [
      "ep 8033 : reward 500.0\r",
      "ep 8034 : reward 407.0\r"
     ]
    },
    {
     "name": "stdout",
     "output_type": "stream",
     "text": [
      "ep 8035 : reward 500.0\r",
      "ep 8036 : reward 110.0\r",
      "ep 8037 : reward 227.0\r",
      "ep 8038 : reward 117.0\r"
     ]
    },
    {
     "name": "stdout",
     "output_type": "stream",
     "text": [
      "ep 8039 : reward 111.0\r",
      "ep 8040 : reward 98.0\r",
      "ep 8041 : reward 118.0\r",
      "ep 8042 : reward 188.0\r"
     ]
    },
    {
     "name": "stdout",
     "output_type": "stream",
     "text": [
      "ep 8043 : reward 261.0\r",
      "ep 8044 : reward 253.0\r",
      "ep 8045 : reward 249.0\r"
     ]
    },
    {
     "name": "stdout",
     "output_type": "stream",
     "text": [
      "ep 8046 : reward 500.0\r",
      "ep 8047 : reward 500.0\r"
     ]
    },
    {
     "name": "stdout",
     "output_type": "stream",
     "text": [
      "ep 8048 : reward 435.0\r",
      "ep 8049 : reward 250.0\r",
      "ep 8050 : reward 248.0\r"
     ]
    },
    {
     "name": "stdout",
     "output_type": "stream",
     "text": [
      "ep 8051 : reward 500.0\r",
      "ep 8052 : reward 396.0\r",
      "ep 8053 : reward 384.0\r"
     ]
    },
    {
     "name": "stdout",
     "output_type": "stream",
     "text": [
      "ep 8054 : reward 109.0\r",
      "ep 8055 : reward 207.0\r",
      "ep 8056 : reward 249.0\r"
     ]
    },
    {
     "name": "stdout",
     "output_type": "stream",
     "text": [
      "ep 8057 : reward 500.0\r",
      "ep 8058 : reward 245.0\r",
      "ep 8059 : reward 275.0\r"
     ]
    },
    {
     "name": "stdout",
     "output_type": "stream",
     "text": [
      "ep 8060 : reward 255.0\r",
      "ep 8061 : reward 328.0\r",
      "ep 8062 : reward 239.0\r"
     ]
    },
    {
     "name": "stdout",
     "output_type": "stream",
     "text": [
      "ep 8063 : reward 277.0\r",
      "ep 8064 : reward 388.0\r",
      "ep 8065 : reward 271.0\r"
     ]
    },
    {
     "name": "stdout",
     "output_type": "stream",
     "text": [
      "ep 8066 : reward 230.0\r",
      "ep 8067 : reward 399.0\r",
      "ep 8068 : reward 244.0\r"
     ]
    },
    {
     "name": "stdout",
     "output_type": "stream",
     "text": [
      "ep 8069 : reward 319.0\r",
      "ep 8070 : reward 394.0\r",
      "ep 8071 : reward 323.0\r"
     ]
    },
    {
     "name": "stdout",
     "output_type": "stream",
     "text": [
      "ep 8072 : reward 336.0\r",
      "ep 8073 : reward 103.0\r",
      "ep 8074 : reward 93.0\r",
      "ep 8075 : reward 99.0\r",
      "ep 8076 : reward 103.0\r"
     ]
    },
    {
     "name": "stdout",
     "output_type": "stream",
     "text": [
      "ep 8077 : reward 88.0\r",
      "ep 8078 : reward 236.0\r",
      "ep 8079 : reward 118.0\r",
      "ep 8080 : reward 232.0\r"
     ]
    },
    {
     "name": "stdout",
     "output_type": "stream",
     "text": [
      "ep 8081 : reward 234.0\r",
      "ep 8082 : reward 177.0\r",
      "ep 8083 : reward 99.0\r",
      "ep 8084 : reward 94.0\r",
      "ep 8085 : reward 106.0\r"
     ]
    },
    {
     "name": "stdout",
     "output_type": "stream",
     "text": [
      "ep 8086 : reward 99.0\r",
      "ep 8087 : reward 228.0\r",
      "ep 8088 : reward 340.0\r"
     ]
    },
    {
     "name": "stdout",
     "output_type": "stream",
     "text": [
      "ep 8089 : reward 385.0\r",
      "ep 8090 : reward 348.0\r",
      "ep 8091 : reward 394.0\r"
     ]
    },
    {
     "name": "stdout",
     "output_type": "stream",
     "text": [
      "ep 8092 : reward 500.0\r",
      "ep 8093 : reward 500.0\r"
     ]
    },
    {
     "name": "stdout",
     "output_type": "stream",
     "text": [
      "ep 8094 : reward 500.0\r",
      "ep 8095 : reward 500.0\r"
     ]
    },
    {
     "name": "stdout",
     "output_type": "stream",
     "text": [
      "ep 8096 : reward 500.0\r",
      "ep 8097 : reward 500.0\r"
     ]
    },
    {
     "name": "stdout",
     "output_type": "stream",
     "text": [
      "ep 8098 : reward 500.0\r",
      "ep 8099 : reward 500.0\r"
     ]
    },
    {
     "name": "stdout",
     "output_type": "stream",
     "text": [
      "ep 8100 : reward 500.0\r",
      "ep 8101 : reward 500.0\r"
     ]
    },
    {
     "name": "stdout",
     "output_type": "stream",
     "text": [
      "ep 8102 : reward 500.0\r",
      "ep 8103 : reward 500.0\r"
     ]
    },
    {
     "name": "stdout",
     "output_type": "stream",
     "text": [
      "ep 8104 : reward 500.0\r",
      "ep 8105 : reward 500.0\r"
     ]
    },
    {
     "name": "stdout",
     "output_type": "stream",
     "text": [
      "ep 8106 : reward 500.0\r",
      "ep 8107 : reward 500.0\r"
     ]
    },
    {
     "name": "stdout",
     "output_type": "stream",
     "text": [
      "ep 8108 : reward 500.0\r",
      "ep 8109 : reward 500.0\r"
     ]
    },
    {
     "name": "stdout",
     "output_type": "stream",
     "text": [
      "ep 8110 : reward 500.0\r",
      "ep 8111 : reward 500.0\r"
     ]
    },
    {
     "name": "stdout",
     "output_type": "stream",
     "text": [
      "ep 8112 : reward 385.0\r",
      "ep 8113 : reward 328.0\r",
      "ep 8114 : reward 102.0\r",
      "ep 8115 : reward 102.0\r"
     ]
    },
    {
     "name": "stdout",
     "output_type": "stream",
     "text": [
      "ep 8116 : reward 268.0\r",
      "ep 8117 : reward 120.0\r",
      "ep 8118 : reward 245.0\r",
      "ep 8119 : reward 97.0\r",
      "ep 8120 : reward 94.0\r"
     ]
    },
    {
     "name": "stdout",
     "output_type": "stream",
     "text": [
      "ep 8121 : reward 103.0\r",
      "ep 8122 : reward 261.0\r",
      "ep 8123 : reward 329.0\r"
     ]
    },
    {
     "name": "stdout",
     "output_type": "stream",
     "text": [
      "ep 8124 : reward 263.0\r",
      "ep 8125 : reward 412.0\r",
      "ep 8126 : reward 266.0\r"
     ]
    },
    {
     "name": "stdout",
     "output_type": "stream",
     "text": [
      "ep 8127 : reward 113.0\r",
      "ep 8128 : reward 103.0\r",
      "ep 8129 : reward 118.0\r",
      "ep 8130 : reward 193.0\r"
     ]
    },
    {
     "name": "stdout",
     "output_type": "stream",
     "text": [
      "ep 8131 : reward 242.0\r",
      "ep 8132 : reward 189.0\r",
      "ep 8133 : reward 239.0\r"
     ]
    },
    {
     "name": "stdout",
     "output_type": "stream",
     "text": [
      "ep 8134 : reward 269.0\r",
      "ep 8135 : reward 264.0\r",
      "ep 8136 : reward 265.0\r"
     ]
    },
    {
     "name": "stdout",
     "output_type": "stream",
     "text": [
      "ep 8137 : reward 335.0\r",
      "ep 8138 : reward 410.0\r",
      "ep 8139 : reward 337.0\r"
     ]
    },
    {
     "name": "stdout",
     "output_type": "stream",
     "text": [
      "ep 8140 : reward 500.0\r",
      "ep 8141 : reward 500.0\r"
     ]
    },
    {
     "name": "stdout",
     "output_type": "stream",
     "text": [
      "ep 8142 : reward 500.0\r",
      "ep 8143 : reward 444.0\r",
      "ep 8144 : reward 263.0\r"
     ]
    },
    {
     "name": "stdout",
     "output_type": "stream",
     "text": [
      "ep 8145 : reward 410.0\r",
      "ep 8146 : reward 500.0\r"
     ]
    },
    {
     "name": "stdout",
     "output_type": "stream",
     "text": [
      "ep 8147 : reward 471.0\r",
      "ep 8148 : reward 393.0\r",
      "ep 8149 : reward 380.0\r"
     ]
    },
    {
     "name": "stdout",
     "output_type": "stream",
     "text": [
      "ep 8150 : reward 390.0\r",
      "ep 8151 : reward 283.0\r",
      "ep 8152 : reward 409.0\r"
     ]
    },
    {
     "name": "stdout",
     "output_type": "stream",
     "text": [
      "ep 8153 : reward 312.0\r",
      "ep 8154 : reward 500.0\r"
     ]
    },
    {
     "name": "stdout",
     "output_type": "stream",
     "text": [
      "ep 8155 : reward 487.0\r",
      "ep 8156 : reward 96.0\r",
      "ep 8157 : reward 103.0\r",
      "ep 8158 : reward 187.0\r",
      "ep 8159 : reward 98.0\r"
     ]
    },
    {
     "name": "stdout",
     "output_type": "stream",
     "text": [
      "ep 8160 : reward 106.0\r",
      "ep 8161 : reward 234.0\r",
      "ep 8162 : reward 253.0\r"
     ]
    },
    {
     "name": "stdout",
     "output_type": "stream",
     "text": [
      "ep 8163 : reward 253.0\r",
      "ep 8164 : reward 500.0\r"
     ]
    },
    {
     "name": "stdout",
     "output_type": "stream",
     "text": [
      "ep 8165 : reward 500.0\r",
      "ep 8166 : reward 500.0\r"
     ]
    },
    {
     "name": "stdout",
     "output_type": "stream",
     "text": [
      "ep 8167 : reward 500.0\r",
      "ep 8168 : reward 500.0\r"
     ]
    },
    {
     "name": "stdout",
     "output_type": "stream",
     "text": [
      "ep 8169 : reward 500.0\r",
      "ep 8170 : reward 500.0\r"
     ]
    },
    {
     "name": "stdout",
     "output_type": "stream",
     "text": [
      "ep 8171 : reward 500.0\r",
      "ep 8172 : reward 500.0\r"
     ]
    },
    {
     "name": "stdout",
     "output_type": "stream",
     "text": [
      "ep 8173 : reward 396.0\r",
      "ep 8174 : reward 180.0\r",
      "ep 8175 : reward 170.0\r",
      "ep 8176 : reward 178.0\r"
     ]
    },
    {
     "name": "stdout",
     "output_type": "stream",
     "text": [
      "ep 8177 : reward 234.0\r",
      "ep 8178 : reward 241.0\r",
      "ep 8179 : reward 241.0\r",
      "ep 8180 : reward 167.0\r"
     ]
    },
    {
     "name": "stdout",
     "output_type": "stream",
     "text": [
      "ep 8181 : reward 255.0\r",
      "ep 8182 : reward 104.0\r",
      "ep 8183 : reward 317.0\r",
      "ep 8184 : reward 241.0\r"
     ]
    },
    {
     "name": "stdout",
     "output_type": "stream",
     "text": [
      "ep 8185 : reward 382.0\r",
      "ep 8186 : reward 253.0\r",
      "ep 8187 : reward 264.0\r"
     ]
    },
    {
     "name": "stdout",
     "output_type": "stream",
     "text": [
      "ep 8188 : reward 393.0\r",
      "ep 8189 : reward 258.0\r",
      "ep 8190 : reward 241.0\r"
     ]
    },
    {
     "name": "stdout",
     "output_type": "stream",
     "text": [
      "ep 8191 : reward 397.0\r",
      "ep 8192 : reward 407.0\r",
      "ep 8193 : reward 259.0\r"
     ]
    },
    {
     "name": "stdout",
     "output_type": "stream",
     "text": [
      "ep 8194 : reward 324.0\r",
      "ep 8195 : reward 189.0\r",
      "ep 8196 : reward 275.0\r"
     ]
    },
    {
     "name": "stdout",
     "output_type": "stream",
     "text": [
      "ep 8197 : reward 326.0\r",
      "ep 8198 : reward 366.0\r",
      "ep 8199 : reward 186.0\r"
     ]
    },
    {
     "name": "stdout",
     "output_type": "stream",
     "text": [
      "ep 8200 : reward 169.0\r",
      "ep 8201 : reward 243.0\r",
      "ep 8202 : reward 500.0\r"
     ]
    },
    {
     "name": "stdout",
     "output_type": "stream",
     "text": [
      "ep 8203 : reward 500.0\r",
      "ep 8204 : reward 405.0\r"
     ]
    },
    {
     "name": "stdout",
     "output_type": "stream",
     "text": [
      "ep 8205 : reward 500.0\r",
      "ep 8206 : reward 469.0\r",
      "ep 8207 : reward 234.0\r"
     ]
    },
    {
     "name": "stdout",
     "output_type": "stream",
     "text": [
      "ep 8208 : reward 223.0\r",
      "ep 8209 : reward 92.0\r",
      "ep 8210 : reward 90.0\r",
      "ep 8211 : reward 245.0\r"
     ]
    },
    {
     "name": "stdout",
     "output_type": "stream",
     "text": [
      "ep 8212 : reward 269.0\r",
      "ep 8213 : reward 344.0\r",
      "ep 8214 : reward 323.0\r"
     ]
    },
    {
     "name": "stdout",
     "output_type": "stream",
     "text": [
      "ep 8215 : reward 259.0\r",
      "ep 8216 : reward 317.0\r",
      "ep 8217 : reward 341.0\r"
     ]
    },
    {
     "name": "stdout",
     "output_type": "stream",
     "text": [
      "ep 8218 : reward 246.0\r",
      "ep 8219 : reward 279.0\r",
      "ep 8220 : reward 400.0\r"
     ]
    },
    {
     "name": "stdout",
     "output_type": "stream",
     "text": [
      "ep 8221 : reward 419.0\r",
      "ep 8222 : reward 235.0\r",
      "ep 8223 : reward 491.0\r"
     ]
    },
    {
     "name": "stdout",
     "output_type": "stream",
     "text": [
      "ep 8224 : reward 173.0\r",
      "ep 8225 : reward 364.0\r",
      "ep 8226 : reward 266.0\r"
     ]
    },
    {
     "name": "stdout",
     "output_type": "stream",
     "text": [
      "ep 8227 : reward 261.0\r",
      "ep 8228 : reward 271.0\r",
      "ep 8229 : reward 257.0\r"
     ]
    },
    {
     "name": "stdout",
     "output_type": "stream",
     "text": [
      "ep 8230 : reward 241.0\r",
      "ep 8231 : reward 252.0\r",
      "ep 8232 : reward 177.0\r"
     ]
    },
    {
     "name": "stdout",
     "output_type": "stream",
     "text": [
      "ep 8233 : reward 341.0\r",
      "ep 8234 : reward 330.0\r",
      "ep 8235 : reward 387.0\r"
     ]
    },
    {
     "name": "stdout",
     "output_type": "stream",
     "text": [
      "ep 8236 : reward 241.0\r",
      "ep 8237 : reward 396.0\r",
      "ep 8238 : reward 255.0\r"
     ]
    },
    {
     "name": "stdout",
     "output_type": "stream",
     "text": [
      "ep 8239 : reward 245.0\r",
      "ep 8240 : reward 376.0\r",
      "ep 8241 : reward 242.0\r"
     ]
    },
    {
     "name": "stdout",
     "output_type": "stream",
     "text": [
      "ep 8242 : reward 99.0\r",
      "ep 8243 : reward 120.0\r",
      "ep 8244 : reward 104.0\r",
      "ep 8245 : reward 104.0\r",
      "ep 8246 : reward 181.0\r"
     ]
    },
    {
     "name": "stdout",
     "output_type": "stream",
     "text": [
      "ep 8247 : reward 232.0\r",
      "ep 8248 : reward 255.0\r",
      "ep 8249 : reward 244.0\r",
      "ep 8250 : reward 176.0\r"
     ]
    },
    {
     "name": "stdout",
     "output_type": "stream",
     "text": [
      "ep 8251 : reward 245.0\r",
      "ep 8252 : reward 327.0\r",
      "ep 8253 : reward 379.0\r"
     ]
    },
    {
     "name": "stdout",
     "output_type": "stream",
     "text": [
      "ep 8254 : reward 248.0\r",
      "ep 8255 : reward 392.0\r",
      "ep 8256 : reward 107.0\r"
     ]
    },
    {
     "name": "stdout",
     "output_type": "stream",
     "text": [
      "ep 8257 : reward 254.0\r",
      "ep 8258 : reward 380.0\r",
      "ep 8259 : reward 177.0\r"
     ]
    },
    {
     "name": "stdout",
     "output_type": "stream",
     "text": [
      "ep 8260 : reward 400.0\r",
      "ep 8261 : reward 387.0\r"
     ]
    },
    {
     "name": "stdout",
     "output_type": "stream",
     "text": [
      "ep 8262 : reward 390.0\r",
      "ep 8263 : reward 340.0\r",
      "ep 8264 : reward 271.0\r"
     ]
    },
    {
     "name": "stdout",
     "output_type": "stream",
     "text": [
      "ep 8265 : reward 186.0\r",
      "ep 8266 : reward 244.0\r",
      "ep 8267 : reward 317.0\r"
     ]
    },
    {
     "name": "stdout",
     "output_type": "stream",
     "text": [
      "ep 8268 : reward 179.0\r",
      "ep 8269 : reward 410.0\r"
     ]
    },
    {
     "name": "stdout",
     "output_type": "stream",
     "text": [
      "ep 8270 : reward 500.0\r",
      "ep 8271 : reward 500.0\r"
     ]
    },
    {
     "name": "stdout",
     "output_type": "stream",
     "text": [
      "ep 8272 : reward 500.0\r",
      "ep 8273 : reward 500.0\r"
     ]
    },
    {
     "name": "stdout",
     "output_type": "stream",
     "text": [
      "ep 8274 : reward 500.0\r",
      "ep 8275 : reward 500.0\r"
     ]
    },
    {
     "name": "stdout",
     "output_type": "stream",
     "text": [
      "ep 8276 : reward 500.0\r",
      "ep 8277 : reward 500.0\r"
     ]
    },
    {
     "name": "stdout",
     "output_type": "stream",
     "text": [
      "ep 8278 : reward 369.0\r",
      "ep 8279 : reward 500.0\r"
     ]
    },
    {
     "name": "stdout",
     "output_type": "stream",
     "text": [
      "ep 8280 : reward 500.0\r",
      "ep 8281 : reward 500.0\r"
     ]
    },
    {
     "name": "stdout",
     "output_type": "stream",
     "text": [
      "ep 8282 : reward 500.0\r",
      "ep 8283 : reward 479.0\r"
     ]
    },
    {
     "name": "stdout",
     "output_type": "stream",
     "text": [
      "ep 8284 : reward 482.0\r",
      "ep 8285 : reward 410.0\r",
      "ep 8286 : reward 325.0\r"
     ]
    },
    {
     "name": "stdout",
     "output_type": "stream",
     "text": [
      "ep 8287 : reward 237.0\r",
      "ep 8288 : reward 329.0\r",
      "ep 8289 : reward 336.0\r"
     ]
    },
    {
     "name": "stdout",
     "output_type": "stream",
     "text": [
      "ep 8290 : reward 254.0\r",
      "ep 8291 : reward 426.0\r"
     ]
    },
    {
     "name": "stdout",
     "output_type": "stream",
     "text": [
      "ep 8292 : reward 379.0\r",
      "ep 8293 : reward 264.0\r",
      "ep 8294 : reward 253.0\r"
     ]
    },
    {
     "name": "stdout",
     "output_type": "stream",
     "text": [
      "ep 8295 : reward 335.0\r",
      "ep 8296 : reward 272.0\r",
      "ep 8297 : reward 240.0\r"
     ]
    },
    {
     "name": "stdout",
     "output_type": "stream",
     "text": [
      "ep 8298 : reward 277.0\r",
      "ep 8299 : reward 318.0\r",
      "ep 8300 : reward 99.0\r",
      "ep 8301 : reward 97.0\r"
     ]
    },
    {
     "name": "stdout",
     "output_type": "stream",
     "text": [
      "ep 8302 : reward 108.0\r",
      "ep 8303 : reward 189.0\r",
      "ep 8304 : reward 91.0\r",
      "ep 8305 : reward 108.0\r"
     ]
    },
    {
     "name": "stdout",
     "output_type": "stream",
     "text": [
      "ep 8306 : reward 259.0\r",
      "ep 8307 : reward 89.0\r",
      "ep 8308 : reward 239.0\r",
      "ep 8309 : reward 263.0\r"
     ]
    },
    {
     "name": "stdout",
     "output_type": "stream",
     "text": [
      "ep 8310 : reward 198.0\r",
      "ep 8311 : reward 195.0\r",
      "ep 8312 : reward 258.0\r",
      "ep 8313 : reward 182.0\r"
     ]
    },
    {
     "name": "stdout",
     "output_type": "stream",
     "text": [
      "ep 8314 : reward 321.0\r",
      "ep 8315 : reward 327.0\r",
      "ep 8316 : reward 250.0\r"
     ]
    },
    {
     "name": "stdout",
     "output_type": "stream",
     "text": [
      "ep 8317 : reward 231.0\r",
      "ep 8318 : reward 500.0\r"
     ]
    },
    {
     "name": "stdout",
     "output_type": "stream",
     "text": [
      "ep 8319 : reward 500.0\r",
      "ep 8320 : reward 500.0\r"
     ]
    },
    {
     "name": "stdout",
     "output_type": "stream",
     "text": [
      "ep 8321 : reward 500.0\r",
      "ep 8322 : reward 500.0\r"
     ]
    },
    {
     "name": "stdout",
     "output_type": "stream",
     "text": [
      "ep 8323 : reward 500.0\r",
      "ep 8324 : reward 500.0\r"
     ]
    },
    {
     "name": "stdout",
     "output_type": "stream",
     "text": [
      "ep 8325 : reward 399.0\r",
      "ep 8326 : reward 420.0\r"
     ]
    },
    {
     "name": "stdout",
     "output_type": "stream",
     "text": [
      "ep 8327 : reward 432.0\r",
      "ep 8328 : reward 500.0\r"
     ]
    },
    {
     "name": "stdout",
     "output_type": "stream",
     "text": [
      "ep 8329 : reward 500.0\r",
      "ep 8330 : reward 239.0\r",
      "ep 8331 : reward 472.0\r"
     ]
    },
    {
     "name": "stdout",
     "output_type": "stream",
     "text": [
      "ep 8332 : reward 254.0\r",
      "ep 8333 : reward 246.0\r",
      "ep 8334 : reward 386.0\r"
     ]
    },
    {
     "name": "stdout",
     "output_type": "stream",
     "text": [
      "ep 8335 : reward 115.0\r",
      "ep 8336 : reward 255.0\r",
      "ep 8337 : reward 252.0\r"
     ]
    },
    {
     "name": "stdout",
     "output_type": "stream",
     "text": [
      "ep 8338 : reward 259.0\r",
      "ep 8339 : reward 256.0\r",
      "ep 8340 : reward 500.0\r"
     ]
    },
    {
     "name": "stdout",
     "output_type": "stream",
     "text": [
      "ep 8341 : reward 500.0\r",
      "ep 8342 : reward 415.0\r",
      "ep 8343 : reward 176.0\r"
     ]
    },
    {
     "name": "stdout",
     "output_type": "stream",
     "text": [
      "ep 8344 : reward 107.0\r",
      "ep 8345 : reward 177.0\r",
      "ep 8346 : reward 239.0\r",
      "ep 8347 : reward 248.0\r"
     ]
    },
    {
     "name": "stdout",
     "output_type": "stream",
     "text": [
      "ep 8348 : reward 249.0\r",
      "ep 8349 : reward 256.0\r",
      "ep 8350 : reward 376.0\r"
     ]
    },
    {
     "name": "stdout",
     "output_type": "stream",
     "text": [
      "ep 8351 : reward 408.0\r",
      "ep 8352 : reward 489.0\r"
     ]
    },
    {
     "name": "stdout",
     "output_type": "stream",
     "text": [
      "ep 8353 : reward 500.0\r",
      "ep 8354 : reward 489.0\r",
      "ep 8355 : reward 319.0\r"
     ]
    },
    {
     "name": "stdout",
     "output_type": "stream",
     "text": [
      "ep 8356 : reward 256.0\r",
      "ep 8357 : reward 244.0\r",
      "ep 8358 : reward 255.0\r"
     ]
    },
    {
     "name": "stdout",
     "output_type": "stream",
     "text": [
      "ep 8359 : reward 332.0\r",
      "ep 8360 : reward 340.0\r",
      "ep 8361 : reward 340.0\r"
     ]
    },
    {
     "name": "stdout",
     "output_type": "stream",
     "text": [
      "ep 8362 : reward 159.0\r",
      "ep 8363 : reward 104.0\r",
      "ep 8364 : reward 94.0\r",
      "ep 8365 : reward 233.0\r",
      "ep 8366 : reward 98.0\r"
     ]
    },
    {
     "name": "stdout",
     "output_type": "stream",
     "text": [
      "ep 8367 : reward 97.0\r",
      "ep 8368 : reward 103.0\r",
      "ep 8369 : reward 112.0\r",
      "ep 8370 : reward 114.0\r"
     ]
    },
    {
     "name": "stdout",
     "output_type": "stream",
     "text": [
      "ep 8371 : reward 323.0\r",
      "ep 8372 : reward 102.0\r",
      "ep 8373 : reward 250.0\r",
      "ep 8374 : reward 94.0\r",
      "ep 8375 : reward 24.0\r",
      "ep 8376 : reward 23.0\r"
     ]
    },
    {
     "name": "stdout",
     "output_type": "stream",
     "text": [
      "ep 8377 : reward 87.0\r",
      "ep 8378 : reward 100.0\r",
      "ep 8379 : reward 241.0\r",
      "ep 8380 : reward 253.0\r"
     ]
    },
    {
     "name": "stdout",
     "output_type": "stream",
     "text": [
      "ep 8381 : reward 367.0\r",
      "ep 8382 : reward 339.0\r",
      "ep 8383 : reward 388.0\r"
     ]
    },
    {
     "name": "stdout",
     "output_type": "stream",
     "text": [
      "ep 8384 : reward 500.0\r",
      "ep 8385 : reward 181.0\r",
      "ep 8386 : reward 327.0\r"
     ]
    },
    {
     "name": "stdout",
     "output_type": "stream",
     "text": [
      "ep 8387 : reward 500.0\r",
      "ep 8388 : reward 335.0\r",
      "ep 8389 : reward 389.0\r"
     ]
    },
    {
     "name": "stdout",
     "output_type": "stream",
     "text": [
      "ep 8390 : reward 245.0\r",
      "ep 8391 : reward 245.0\r",
      "ep 8392 : reward 250.0\r"
     ]
    },
    {
     "name": "stdout",
     "output_type": "stream",
     "text": [
      "ep 8393 : reward 325.0\r",
      "ep 8394 : reward 252.0\r",
      "ep 8395 : reward 321.0\r"
     ]
    },
    {
     "name": "stdout",
     "output_type": "stream",
     "text": [
      "ep 8396 : reward 267.0\r",
      "ep 8397 : reward 270.0\r",
      "ep 8398 : reward 327.0\r"
     ]
    },
    {
     "name": "stdout",
     "output_type": "stream",
     "text": [
      "ep 8399 : reward 257.0\r",
      "ep 8400 : reward 386.0\r",
      "ep 8401 : reward 389.0\r"
     ]
    },
    {
     "name": "stdout",
     "output_type": "stream",
     "text": [
      "ep 8402 : reward 248.0\r",
      "ep 8403 : reward 185.0\r",
      "ep 8404 : reward 323.0\r"
     ]
    },
    {
     "name": "stdout",
     "output_type": "stream",
     "text": [
      "ep 8405 : reward 321.0\r",
      "ep 8406 : reward 374.0\r",
      "ep 8407 : reward 312.0\r"
     ]
    },
    {
     "name": "stdout",
     "output_type": "stream",
     "text": [
      "ep 8408 : reward 252.0\r",
      "ep 8409 : reward 333.0\r",
      "ep 8410 : reward 119.0\r"
     ]
    },
    {
     "name": "stdout",
     "output_type": "stream",
     "text": [
      "ep 8411 : reward 381.0\r",
      "ep 8412 : reward 360.0\r",
      "ep 8413 : reward 343.0\r"
     ]
    },
    {
     "name": "stdout",
     "output_type": "stream",
     "text": [
      "ep 8414 : reward 330.0\r",
      "ep 8415 : reward 188.0\r",
      "ep 8416 : reward 404.0\r"
     ]
    },
    {
     "name": "stdout",
     "output_type": "stream",
     "text": [
      "ep 8417 : reward 183.0\r",
      "ep 8418 : reward 257.0\r",
      "ep 8419 : reward 385.0\r"
     ]
    },
    {
     "name": "stdout",
     "output_type": "stream",
     "text": [
      "ep 8420 : reward 259.0\r",
      "ep 8421 : reward 173.0\r",
      "ep 8422 : reward 255.0\r"
     ]
    },
    {
     "name": "stdout",
     "output_type": "stream",
     "text": [
      "ep 8423 : reward 248.0\r",
      "ep 8424 : reward 253.0\r",
      "ep 8425 : reward 385.0\r"
     ]
    },
    {
     "name": "stdout",
     "output_type": "stream",
     "text": [
      "ep 8426 : reward 246.0\r",
      "ep 8427 : reward 178.0\r",
      "ep 8428 : reward 171.0\r",
      "ep 8429 : reward 98.0\r"
     ]
    },
    {
     "name": "stdout",
     "output_type": "stream",
     "text": [
      "ep 8430 : reward 113.0\r",
      "ep 8431 : reward 234.0\r",
      "ep 8432 : reward 241.0\r"
     ]
    },
    {
     "name": "stdout",
     "output_type": "stream",
     "text": [
      "ep 8433 : reward 244.0\r",
      "ep 8434 : reward 113.0\r",
      "ep 8435 : reward 256.0\r",
      "ep 8436 : reward 239.0\r"
     ]
    },
    {
     "name": "stdout",
     "output_type": "stream",
     "text": [
      "ep 8437 : reward 107.0\r",
      "ep 8438 : reward 252.0\r",
      "ep 8439 : reward 379.0\r"
     ]
    },
    {
     "name": "stdout",
     "output_type": "stream",
     "text": [
      "ep 8440 : reward 250.0\r",
      "ep 8441 : reward 384.0\r"
     ]
    },
    {
     "name": "stdout",
     "output_type": "stream",
     "text": [
      "ep 8442 : reward 500.0\r",
      "ep 8443 : reward 462.0\r"
     ]
    },
    {
     "name": "stdout",
     "output_type": "stream",
     "text": [
      "ep 8444 : reward 500.0\r",
      "ep 8445 : reward 399.0\r"
     ]
    },
    {
     "name": "stdout",
     "output_type": "stream",
     "text": [
      "ep 8446 : reward 500.0\r",
      "ep 8447 : reward 500.0\r"
     ]
    },
    {
     "name": "stdout",
     "output_type": "stream",
     "text": [
      "ep 8448 : reward 500.0\r",
      "ep 8449 : reward 500.0\r"
     ]
    },
    {
     "name": "stdout",
     "output_type": "stream",
     "text": [
      "ep 8450 : reward 500.0\r",
      "ep 8451 : reward 500.0\r"
     ]
    },
    {
     "name": "stdout",
     "output_type": "stream",
     "text": [
      "ep 8452 : reward 500.0\r",
      "ep 8453 : reward 500.0\r"
     ]
    },
    {
     "name": "stdout",
     "output_type": "stream",
     "text": [
      "ep 8454 : reward 500.0\r",
      "ep 8455 : reward 500.0\r"
     ]
    },
    {
     "name": "stdout",
     "output_type": "stream",
     "text": [
      "ep 8456 : reward 500.0\r",
      "ep 8457 : reward 500.0\r"
     ]
    },
    {
     "name": "stdout",
     "output_type": "stream",
     "text": [
      "ep 8458 : reward 500.0\r",
      "ep 8459 : reward 500.0\r"
     ]
    },
    {
     "name": "stdout",
     "output_type": "stream",
     "text": [
      "ep 8460 : reward 500.0\r",
      "ep 8461 : reward 500.0\r"
     ]
    },
    {
     "name": "stdout",
     "output_type": "stream",
     "text": [
      "ep 8462 : reward 500.0\r",
      "ep 8463 : reward 500.0\r"
     ]
    },
    {
     "name": "stdout",
     "output_type": "stream",
     "text": [
      "ep 8464 : reward 500.0\r",
      "ep 8465 : reward 500.0\r",
      "ep 8466 : reward 243.0\r"
     ]
    },
    {
     "name": "stdout",
     "output_type": "stream",
     "text": [
      "ep 8467 : reward 329.0\r",
      "ep 8468 : reward 333.0\r"
     ]
    },
    {
     "name": "stdout",
     "output_type": "stream",
     "text": [
      "ep 8469 : reward 500.0\r",
      "ep 8470 : reward 500.0\r",
      "ep 8471 : reward 265.0\r"
     ]
    },
    {
     "name": "stdout",
     "output_type": "stream",
     "text": [
      "ep 8472 : reward 244.0\r",
      "ep 8473 : reward 388.0\r"
     ]
    },
    {
     "name": "stdout",
     "output_type": "stream",
     "text": [
      "ep 8474 : reward 500.0\r",
      "ep 8475 : reward 500.0\r",
      "ep 8476 : reward 125.0\r"
     ]
    },
    {
     "name": "stdout",
     "output_type": "stream",
     "text": [
      "ep 8477 : reward 244.0\r",
      "ep 8478 : reward 247.0\r"
     ]
    },
    {
     "name": "stdout",
     "output_type": "stream",
     "text": [
      "ep 8479 : reward 500.0\r",
      "ep 8480 : reward 500.0\r"
     ]
    },
    {
     "name": "stdout",
     "output_type": "stream",
     "text": [
      "ep 8481 : reward 397.0\r",
      "ep 8482 : reward 500.0\r"
     ]
    },
    {
     "name": "stdout",
     "output_type": "stream",
     "text": [
      "ep 8483 : reward 381.0\r",
      "ep 8484 : reward 500.0\r",
      "ep 8485 : reward 195.0\r"
     ]
    },
    {
     "name": "stdout",
     "output_type": "stream",
     "text": [
      "ep 8486 : reward 414.0\r",
      "ep 8487 : reward 116.0\r",
      "ep 8488 : reward 181.0\r",
      "ep 8489 : reward 186.0\r"
     ]
    },
    {
     "name": "stdout",
     "output_type": "stream",
     "text": [
      "ep 8490 : reward 242.0\r",
      "ep 8491 : reward 252.0\r",
      "ep 8492 : reward 175.0\r",
      "ep 8493 : reward 41.0\r"
     ]
    },
    {
     "name": "stdout",
     "output_type": "stream",
     "text": [
      "ep 8494 : reward 381.0\r",
      "ep 8495 : reward 99.0\r",
      "ep 8496 : reward 103.0\r",
      "ep 8497 : reward 98.0\r",
      "ep 8498 : reward 102.0\r"
     ]
    },
    {
     "name": "stdout",
     "output_type": "stream",
     "text": [
      "ep 8499 : reward 241.0\r",
      "ep 8500 : reward 108.0\r",
      "ep 8501 : reward 99.0\r",
      "ep 8502 : reward 180.0\r",
      "ep 8503 : reward 102.0\r"
     ]
    },
    {
     "name": "stdout",
     "output_type": "stream",
     "text": [
      "ep 8504 : reward 97.0\r",
      "ep 8505 : reward 106.0\r",
      "ep 8506 : reward 102.0\r",
      "ep 8507 : reward 108.0\r",
      "ep 8508 : reward 95.0\r"
     ]
    },
    {
     "name": "stdout",
     "output_type": "stream",
     "text": [
      "ep 8509 : reward 110.0\r",
      "ep 8510 : reward 186.0\r",
      "ep 8511 : reward 239.0\r"
     ]
    },
    {
     "name": "stdout",
     "output_type": "stream",
     "text": [
      "ep 8512 : reward 395.0\r",
      "ep 8513 : reward 500.0\r"
     ]
    },
    {
     "name": "stdout",
     "output_type": "stream",
     "text": [
      "ep 8514 : reward 500.0\r",
      "ep 8515 : reward 500.0\r"
     ]
    },
    {
     "name": "stdout",
     "output_type": "stream",
     "text": [
      "ep 8516 : reward 500.0\r",
      "ep 8517 : reward 500.0\r"
     ]
    },
    {
     "name": "stdout",
     "output_type": "stream",
     "text": [
      "ep 8518 : reward 500.0\r",
      "ep 8519 : reward 500.0\r"
     ]
    },
    {
     "name": "stdout",
     "output_type": "stream",
     "text": [
      "ep 8520 : reward 470.0\r",
      "ep 8521 : reward 500.0\r"
     ]
    },
    {
     "name": "stdout",
     "output_type": "stream",
     "text": [
      "ep 8522 : reward 500.0\r",
      "ep 8523 : reward 472.0\r"
     ]
    },
    {
     "name": "stdout",
     "output_type": "stream",
     "text": [
      "ep 8524 : reward 500.0\r",
      "ep 8525 : reward 294.0\r",
      "ep 8526 : reward 324.0\r"
     ]
    },
    {
     "name": "stdout",
     "output_type": "stream",
     "text": [
      "ep 8527 : reward 97.0\r",
      "ep 8528 : reward 89.0\r",
      "ep 8529 : reward 102.0\r",
      "ep 8530 : reward 28.0\r",
      "ep 8531 : reward 26.0\r",
      "ep 8532 : reward 25.0\r"
     ]
    },
    {
     "name": "stdout",
     "output_type": "stream",
     "text": [
      "ep 8533 : reward 240.0\r",
      "ep 8534 : reward 252.0\r",
      "ep 8535 : reward 309.0\r"
     ]
    },
    {
     "name": "stdout",
     "output_type": "stream",
     "text": [
      "ep 8536 : reward 258.0\r",
      "ep 8537 : reward 246.0\r",
      "ep 8538 : reward 260.0\r"
     ]
    },
    {
     "name": "stdout",
     "output_type": "stream",
     "text": [
      "ep 8539 : reward 267.0\r",
      "ep 8540 : reward 387.0\r",
      "ep 8541 : reward 99.0\r",
      "ep 8542 : reward 90.0\r"
     ]
    },
    {
     "name": "stdout",
     "output_type": "stream",
     "text": [
      "ep 8543 : reward 97.0\r",
      "ep 8544 : reward 93.0\r",
      "ep 8545 : reward 178.0\r",
      "ep 8546 : reward 165.0\r"
     ]
    },
    {
     "name": "stdout",
     "output_type": "stream",
     "text": [
      "ep 8547 : reward 103.0\r",
      "ep 8548 : reward 247.0\r",
      "ep 8549 : reward 245.0\r"
     ]
    },
    {
     "name": "stdout",
     "output_type": "stream",
     "text": [
      "ep 8550 : reward 265.0\r",
      "ep 8551 : reward 178.0\r",
      "ep 8552 : reward 500.0\r"
     ]
    },
    {
     "name": "stdout",
     "output_type": "stream",
     "text": [
      "ep 8553 : reward 500.0\r",
      "ep 8554 : reward 500.0\r"
     ]
    },
    {
     "name": "stdout",
     "output_type": "stream",
     "text": [
      "ep 8555 : reward 500.0\r",
      "ep 8556 : reward 500.0\r"
     ]
    },
    {
     "name": "stdout",
     "output_type": "stream",
     "text": [
      "ep 8557 : reward 500.0\r",
      "ep 8558 : reward 500.0\r"
     ]
    },
    {
     "name": "stdout",
     "output_type": "stream",
     "text": [
      "ep 8559 : reward 500.0\r",
      "ep 8560 : reward 500.0\r"
     ]
    },
    {
     "name": "stdout",
     "output_type": "stream",
     "text": [
      "ep 8561 : reward 500.0\r",
      "ep 8562 : reward 500.0\r"
     ]
    },
    {
     "name": "stdout",
     "output_type": "stream",
     "text": [
      "ep 8563 : reward 500.0\r",
      "ep 8564 : reward 500.0\r"
     ]
    },
    {
     "name": "stdout",
     "output_type": "stream",
     "text": [
      "ep 8565 : reward 500.0\r",
      "ep 8566 : reward 500.0\r"
     ]
    },
    {
     "name": "stdout",
     "output_type": "stream",
     "text": [
      "ep 8567 : reward 500.0\r",
      "ep 8568 : reward 345.0\r"
     ]
    },
    {
     "name": "stdout",
     "output_type": "stream",
     "text": [
      "ep 8569 : reward 419.0\r",
      "ep 8570 : reward 405.0\r",
      "ep 8571 : reward 251.0\r"
     ]
    },
    {
     "name": "stdout",
     "output_type": "stream",
     "text": [
      "ep 8572 : reward 98.0\r",
      "ep 8573 : reward 109.0\r",
      "ep 8574 : reward 256.0\r",
      "ep 8575 : reward 241.0\r"
     ]
    },
    {
     "name": "stdout",
     "output_type": "stream",
     "text": [
      "ep 8576 : reward 316.0\r",
      "ep 8577 : reward 238.0\r",
      "ep 8578 : reward 189.0\r",
      "ep 8579 : reward 105.0\r"
     ]
    },
    {
     "name": "stdout",
     "output_type": "stream",
     "text": [
      "ep 8580 : reward 257.0\r",
      "ep 8581 : reward 334.0\r",
      "ep 8582 : reward 265.0\r"
     ]
    },
    {
     "name": "stdout",
     "output_type": "stream",
     "text": [
      "ep 8583 : reward 250.0\r",
      "ep 8584 : reward 336.0\r",
      "ep 8585 : reward 247.0\r"
     ]
    },
    {
     "name": "stdout",
     "output_type": "stream",
     "text": [
      "ep 8586 : reward 93.0\r",
      "ep 8587 : reward 98.0\r",
      "ep 8588 : reward 255.0\r",
      "ep 8589 : reward 256.0\r"
     ]
    },
    {
     "name": "stdout",
     "output_type": "stream",
     "text": [
      "ep 8590 : reward 250.0\r",
      "ep 8591 : reward 97.0\r",
      "ep 8592 : reward 319.0\r",
      "ep 8593 : reward 252.0\r"
     ]
    },
    {
     "name": "stdout",
     "output_type": "stream",
     "text": [
      "ep 8594 : reward 348.0\r",
      "ep 8595 : reward 104.0\r",
      "ep 8596 : reward 93.0\r",
      "ep 8597 : reward 106.0\r",
      "ep 8598 : reward 278.0\r"
     ]
    },
    {
     "name": "stdout",
     "output_type": "stream",
     "text": [
      "ep 8599 : reward 395.0\r",
      "ep 8600 : reward 500.0\r"
     ]
    },
    {
     "name": "stdout",
     "output_type": "stream",
     "text": [
      "ep 8601 : reward 397.0\r",
      "ep 8602 : reward 412.0\r",
      "ep 8603 : reward 264.0\r"
     ]
    },
    {
     "name": "stdout",
     "output_type": "stream",
     "text": [
      "ep 8604 : reward 500.0\r",
      "ep 8605 : reward 264.0\r",
      "ep 8606 : reward 394.0\r"
     ]
    },
    {
     "name": "stdout",
     "output_type": "stream",
     "text": [
      "ep 8607 : reward 382.0\r",
      "ep 8608 : reward 425.0\r",
      "ep 8609 : reward 323.0\r"
     ]
    },
    {
     "name": "stdout",
     "output_type": "stream",
     "text": [
      "ep 8610 : reward 248.0\r",
      "ep 8611 : reward 500.0\r",
      "ep 8612 : reward 254.0\r"
     ]
    },
    {
     "name": "stdout",
     "output_type": "stream",
     "text": [
      "ep 8613 : reward 242.0\r",
      "ep 8614 : reward 336.0\r"
     ]
    },
    {
     "name": "stdout",
     "output_type": "stream",
     "text": [
      "ep 8615 : reward 500.0\r",
      "ep 8616 : reward 500.0\r"
     ]
    },
    {
     "name": "stdout",
     "output_type": "stream",
     "text": [
      "ep 8617 : reward 500.0\r",
      "ep 8618 : reward 500.0\r"
     ]
    },
    {
     "name": "stdout",
     "output_type": "stream",
     "text": [
      "ep 8619 : reward 414.0\r",
      "ep 8620 : reward 317.0\r",
      "ep 8621 : reward 402.0\r"
     ]
    },
    {
     "name": "stdout",
     "output_type": "stream",
     "text": [
      "ep 8622 : reward 308.0\r",
      "ep 8623 : reward 246.0\r",
      "ep 8624 : reward 251.0\r"
     ]
    },
    {
     "name": "stdout",
     "output_type": "stream",
     "text": [
      "ep 8625 : reward 314.0\r",
      "ep 8626 : reward 254.0\r",
      "ep 8627 : reward 270.0\r"
     ]
    },
    {
     "name": "stdout",
     "output_type": "stream",
     "text": [
      "ep 8628 : reward 391.0\r",
      "ep 8629 : reward 238.0\r",
      "ep 8630 : reward 388.0\r"
     ]
    },
    {
     "name": "stdout",
     "output_type": "stream",
     "text": [
      "ep 8631 : reward 348.0\r",
      "ep 8632 : reward 268.0\r",
      "ep 8633 : reward 191.0\r",
      "ep 8634 : reward 244.0\r"
     ]
    },
    {
     "name": "stdout",
     "output_type": "stream",
     "text": [
      "ep 8635 : reward 245.0\r",
      "ep 8636 : reward 318.0\r",
      "ep 8637 : reward 239.0\r"
     ]
    },
    {
     "name": "stdout",
     "output_type": "stream",
     "text": [
      "ep 8638 : reward 500.0\r",
      "ep 8639 : reward 500.0\r"
     ]
    },
    {
     "name": "stdout",
     "output_type": "stream",
     "text": [
      "ep 8640 : reward 500.0\r",
      "ep 8641 : reward 500.0\r"
     ]
    },
    {
     "name": "stdout",
     "output_type": "stream",
     "text": [
      "ep 8642 : reward 500.0\r",
      "ep 8643 : reward 500.0\r"
     ]
    },
    {
     "name": "stdout",
     "output_type": "stream",
     "text": [
      "ep 8644 : reward 500.0\r",
      "ep 8645 : reward 352.0\r"
     ]
    },
    {
     "name": "stdout",
     "output_type": "stream",
     "text": [
      "ep 8646 : reward 500.0\r",
      "ep 8647 : reward 500.0\r"
     ]
    },
    {
     "name": "stdout",
     "output_type": "stream",
     "text": [
      "ep 8648 : reward 500.0\r",
      "ep 8649 : reward 500.0\r"
     ]
    },
    {
     "name": "stdout",
     "output_type": "stream",
     "text": [
      "ep 8650 : reward 500.0\r",
      "ep 8651 : reward 467.0\r"
     ]
    },
    {
     "name": "stdout",
     "output_type": "stream",
     "text": [
      "ep 8652 : reward 397.0\r",
      "ep 8653 : reward 341.0\r",
      "ep 8654 : reward 384.0\r"
     ]
    },
    {
     "name": "stdout",
     "output_type": "stream",
     "text": [
      "ep 8655 : reward 244.0\r",
      "ep 8656 : reward 261.0\r",
      "ep 8657 : reward 262.0\r"
     ]
    },
    {
     "name": "stdout",
     "output_type": "stream",
     "text": [
      "ep 8658 : reward 337.0\r",
      "ep 8659 : reward 387.0\r",
      "ep 8660 : reward 239.0\r"
     ]
    },
    {
     "name": "stdout",
     "output_type": "stream",
     "text": [
      "ep 8661 : reward 434.0\r",
      "ep 8662 : reward 263.0\r",
      "ep 8663 : reward 331.0\r"
     ]
    },
    {
     "name": "stdout",
     "output_type": "stream",
     "text": [
      "ep 8664 : reward 302.0\r",
      "ep 8665 : reward 102.0\r",
      "ep 8666 : reward 102.0\r",
      "ep 8667 : reward 101.0\r",
      "ep 8668 : reward 225.0\r"
     ]
    },
    {
     "name": "stdout",
     "output_type": "stream",
     "text": [
      "ep 8669 : reward 115.0\r",
      "ep 8670 : reward 186.0\r",
      "ep 8671 : reward 309.0\r"
     ]
    },
    {
     "name": "stdout",
     "output_type": "stream",
     "text": [
      "ep 8672 : reward 182.0\r",
      "ep 8673 : reward 93.0\r",
      "ep 8674 : reward 94.0\r",
      "ep 8675 : reward 92.0\r",
      "ep 8676 : reward 104.0\r"
     ]
    },
    {
     "name": "stdout",
     "output_type": "stream",
     "text": [
      "ep 8677 : reward 457.0\r",
      "ep 8678 : reward 347.0\r"
     ]
    },
    {
     "name": "stdout",
     "output_type": "stream",
     "text": [
      "ep 8679 : reward 500.0\r",
      "ep 8680 : reward 500.0\r"
     ]
    },
    {
     "name": "stdout",
     "output_type": "stream",
     "text": [
      "ep 8681 : reward 500.0\r",
      "ep 8682 : reward 500.0\r"
     ]
    },
    {
     "name": "stdout",
     "output_type": "stream",
     "text": [
      "ep 8683 : reward 500.0\r",
      "ep 8684 : reward 379.0\r",
      "ep 8685 : reward 345.0\r"
     ]
    },
    {
     "name": "stdout",
     "output_type": "stream",
     "text": [
      "ep 8686 : reward 403.0\r",
      "ep 8687 : reward 431.0\r",
      "ep 8688 : reward 241.0\r"
     ]
    },
    {
     "name": "stdout",
     "output_type": "stream",
     "text": [
      "ep 8689 : reward 500.0\r",
      "ep 8690 : reward 467.0\r"
     ]
    },
    {
     "name": "stdout",
     "output_type": "stream",
     "text": [
      "ep 8691 : reward 402.0\r",
      "ep 8692 : reward 400.0\r",
      "ep 8693 : reward 240.0\r"
     ]
    },
    {
     "name": "stdout",
     "output_type": "stream",
     "text": [
      "ep 8694 : reward 110.0\r",
      "ep 8695 : reward 263.0\r",
      "ep 8696 : reward 185.0\r"
     ]
    },
    {
     "name": "stdout",
     "output_type": "stream",
     "text": [
      "ep 8697 : reward 263.0\r",
      "ep 8698 : reward 245.0\r",
      "ep 8699 : reward 108.0\r",
      "ep 8700 : reward 243.0\r"
     ]
    },
    {
     "name": "stdout",
     "output_type": "stream",
     "text": [
      "ep 8701 : reward 382.0\r",
      "ep 8702 : reward 500.0\r"
     ]
    },
    {
     "name": "stdout",
     "output_type": "stream",
     "text": [
      "ep 8703 : reward 500.0\r",
      "ep 8704 : reward 500.0\r",
      "ep 8705 : reward 255.0\r"
     ]
    },
    {
     "name": "stdout",
     "output_type": "stream",
     "text": [
      "ep 8706 : reward 188.0\r",
      "ep 8707 : reward 167.0\r",
      "ep 8708 : reward 377.0\r"
     ]
    },
    {
     "name": "stdout",
     "output_type": "stream",
     "text": [
      "ep 8709 : reward 238.0\r",
      "ep 8710 : reward 180.0\r",
      "ep 8711 : reward 248.0\r"
     ]
    },
    {
     "name": "stdout",
     "output_type": "stream",
     "text": [
      "ep 8712 : reward 336.0\r",
      "ep 8713 : reward 106.0\r",
      "ep 8714 : reward 258.0\r"
     ]
    },
    {
     "name": "stdout",
     "output_type": "stream",
     "text": [
      "ep 8715 : reward 500.0\r",
      "ep 8716 : reward 500.0\r"
     ]
    },
    {
     "name": "stdout",
     "output_type": "stream",
     "text": [
      "ep 8717 : reward 500.0\r",
      "ep 8718 : reward 247.0\r",
      "ep 8719 : reward 170.0\r",
      "ep 8720 : reward 171.0\r"
     ]
    },
    {
     "name": "stdout",
     "output_type": "stream",
     "text": [
      "ep 8721 : reward 190.0\r",
      "ep 8722 : reward 249.0\r",
      "ep 8723 : reward 355.0\r"
     ]
    },
    {
     "name": "stdout",
     "output_type": "stream",
     "text": [
      "ep 8724 : reward 102.0\r",
      "ep 8725 : reward 242.0\r",
      "ep 8726 : reward 374.0\r"
     ]
    },
    {
     "name": "stdout",
     "output_type": "stream",
     "text": [
      "ep 8727 : reward 279.0\r",
      "ep 8728 : reward 341.0\r",
      "ep 8729 : reward 195.0\r"
     ]
    },
    {
     "name": "stdout",
     "output_type": "stream",
     "text": [
      "ep 8730 : reward 416.0\r",
      "ep 8731 : reward 261.0\r",
      "ep 8732 : reward 318.0\r"
     ]
    },
    {
     "name": "stdout",
     "output_type": "stream",
     "text": [
      "ep 8733 : reward 101.0\r",
      "ep 8734 : reward 103.0\r",
      "ep 8735 : reward 97.0\r",
      "ep 8736 : reward 99.0\r",
      "ep 8737 : reward 101.0\r"
     ]
    },
    {
     "name": "stdout",
     "output_type": "stream",
     "text": [
      "ep 8738 : reward 185.0\r",
      "ep 8739 : reward 115.0\r",
      "ep 8740 : reward 238.0\r",
      "ep 8741 : reward 185.0\r"
     ]
    },
    {
     "name": "stdout",
     "output_type": "stream",
     "text": [
      "ep 8742 : reward 95.0\r",
      "ep 8743 : reward 84.0\r",
      "ep 8744 : reward 96.0\r",
      "ep 8745 : reward 95.0\r",
      "ep 8746 : reward 180.0\r"
     ]
    },
    {
     "name": "stdout",
     "output_type": "stream",
     "text": [
      "ep 8747 : reward 109.0\r",
      "ep 8748 : reward 175.0\r",
      "ep 8749 : reward 190.0\r"
     ]
    },
    {
     "name": "stdout",
     "output_type": "stream",
     "text": [
      "ep 8750 : reward 324.0\r",
      "ep 8751 : reward 93.0\r",
      "ep 8752 : reward 95.0\r",
      "ep 8753 : reward 94.0\r",
      "ep 8754 : reward 103.0\r"
     ]
    },
    {
     "name": "stdout",
     "output_type": "stream",
     "text": [
      "ep 8755 : reward 175.0\r",
      "ep 8756 : reward 94.0\r",
      "ep 8757 : reward 242.0\r",
      "ep 8758 : reward 267.0\r"
     ]
    },
    {
     "name": "stdout",
     "output_type": "stream",
     "text": [
      "ep 8759 : reward 396.0\r",
      "ep 8760 : reward 431.0\r"
     ]
    },
    {
     "name": "stdout",
     "output_type": "stream",
     "text": [
      "ep 8761 : reward 500.0\r",
      "ep 8762 : reward 409.0\r"
     ]
    },
    {
     "name": "stdout",
     "output_type": "stream",
     "text": [
      "ep 8763 : reward 389.0\r",
      "ep 8764 : reward 500.0\r"
     ]
    },
    {
     "name": "stdout",
     "output_type": "stream",
     "text": [
      "ep 8765 : reward 400.0\r",
      "ep 8766 : reward 500.0\r"
     ]
    },
    {
     "name": "stdout",
     "output_type": "stream",
     "text": [
      "ep 8767 : reward 500.0\r",
      "ep 8768 : reward 500.0\r"
     ]
    },
    {
     "name": "stdout",
     "output_type": "stream",
     "text": [
      "ep 8769 : reward 500.0\r",
      "ep 8770 : reward 500.0\r"
     ]
    },
    {
     "name": "stdout",
     "output_type": "stream",
     "text": [
      "ep 8771 : reward 500.0\r",
      "ep 8772 : reward 500.0\r"
     ]
    },
    {
     "name": "stdout",
     "output_type": "stream",
     "text": [
      "ep 8773 : reward 500.0\r",
      "ep 8774 : reward 500.0\r"
     ]
    },
    {
     "name": "stdout",
     "output_type": "stream",
     "text": [
      "ep 8775 : reward 500.0\r",
      "ep 8776 : reward 486.0\r"
     ]
    },
    {
     "name": "stdout",
     "output_type": "stream",
     "text": [
      "ep 8777 : reward 500.0\r",
      "ep 8778 : reward 500.0\r"
     ]
    },
    {
     "name": "stdout",
     "output_type": "stream",
     "text": [
      "ep 8779 : reward 500.0\r",
      "ep 8780 : reward 406.0\r"
     ]
    },
    {
     "name": "stdout",
     "output_type": "stream",
     "text": [
      "ep 8781 : reward 500.0\r",
      "ep 8782 : reward 500.0\r"
     ]
    },
    {
     "name": "stdout",
     "output_type": "stream",
     "text": [
      "ep 8783 : reward 500.0\r",
      "ep 8784 : reward 409.0\r",
      "ep 8785 : reward 258.0\r"
     ]
    },
    {
     "name": "stdout",
     "output_type": "stream",
     "text": [
      "ep 8786 : reward 495.0\r",
      "ep 8787 : reward 404.0\r",
      "ep 8788 : reward 330.0\r"
     ]
    },
    {
     "name": "stdout",
     "output_type": "stream",
     "text": [
      "ep 8789 : reward 396.0\r",
      "ep 8790 : reward 469.0\r"
     ]
    },
    {
     "name": "stdout",
     "output_type": "stream",
     "text": [
      "ep 8791 : reward 395.0\r",
      "ep 8792 : reward 412.0\r",
      "ep 8793 : reward 243.0\r"
     ]
    },
    {
     "name": "stdout",
     "output_type": "stream",
     "text": [
      "ep 8794 : reward 247.0\r",
      "ep 8795 : reward 111.0\r",
      "ep 8796 : reward 98.0\r",
      "ep 8797 : reward 176.0\r"
     ]
    },
    {
     "name": "stdout",
     "output_type": "stream",
     "text": [
      "ep 8798 : reward 407.0\r",
      "ep 8799 : reward 500.0\r"
     ]
    },
    {
     "name": "stdout",
     "output_type": "stream",
     "text": [
      "ep 8800 : reward 406.0\r",
      "ep 8801 : reward 350.0\r",
      "ep 8802 : reward 308.0\r"
     ]
    },
    {
     "name": "stdout",
     "output_type": "stream",
     "text": [
      "ep 8803 : reward 344.0\r",
      "ep 8804 : reward 321.0\r",
      "ep 8805 : reward 240.0\r"
     ]
    },
    {
     "name": "stdout",
     "output_type": "stream",
     "text": [
      "ep 8806 : reward 195.0\r",
      "ep 8807 : reward 389.0\r"
     ]
    },
    {
     "name": "stdout",
     "output_type": "stream",
     "text": [
      "ep 8808 : reward 406.0\r",
      "ep 8809 : reward 249.0\r",
      "ep 8810 : reward 343.0\r"
     ]
    },
    {
     "name": "stdout",
     "output_type": "stream",
     "text": [
      "ep 8811 : reward 318.0\r",
      "ep 8812 : reward 250.0\r",
      "ep 8813 : reward 186.0\r",
      "ep 8814 : reward 254.0\r"
     ]
    },
    {
     "name": "stdout",
     "output_type": "stream",
     "text": [
      "ep 8815 : reward 196.0\r",
      "ep 8816 : reward 328.0\r"
     ]
    },
    {
     "name": "stdout",
     "output_type": "stream",
     "text": [
      "ep 8817 : reward 476.0\r",
      "ep 8818 : reward 338.0\r",
      "ep 8819 : reward 333.0\r"
     ]
    },
    {
     "name": "stdout",
     "output_type": "stream",
     "text": [
      "ep 8820 : reward 102.0\r",
      "ep 8821 : reward 97.0\r",
      "ep 8822 : reward 99.0\r",
      "ep 8823 : reward 106.0\r",
      "ep 8824 : reward 98.0\r"
     ]
    },
    {
     "name": "stdout",
     "output_type": "stream",
     "text": [
      "ep 8825 : reward 239.0\r",
      "ep 8826 : reward 99.0\r",
      "ep 8827 : reward 165.0\r",
      "ep 8828 : reward 175.0\r"
     ]
    },
    {
     "name": "stdout",
     "output_type": "stream",
     "text": [
      "ep 8829 : reward 252.0\r",
      "ep 8830 : reward 247.0\r",
      "ep 8831 : reward 390.0\r"
     ]
    },
    {
     "name": "stdout",
     "output_type": "stream",
     "text": [
      "ep 8832 : reward 261.0\r",
      "ep 8833 : reward 103.0\r",
      "ep 8834 : reward 321.0\r"
     ]
    },
    {
     "name": "stdout",
     "output_type": "stream",
     "text": [
      "ep 8835 : reward 242.0\r",
      "ep 8836 : reward 500.0\r"
     ]
    },
    {
     "name": "stdout",
     "output_type": "stream",
     "text": [
      "ep 8837 : reward 463.0\r",
      "ep 8838 : reward 500.0\r"
     ]
    },
    {
     "name": "stdout",
     "output_type": "stream",
     "text": [
      "ep 8839 : reward 500.0\r",
      "ep 8840 : reward 500.0\r"
     ]
    },
    {
     "name": "stdout",
     "output_type": "stream",
     "text": [
      "ep 8841 : reward 500.0\r",
      "ep 8842 : reward 500.0\r"
     ]
    },
    {
     "name": "stdout",
     "output_type": "stream",
     "text": [
      "ep 8843 : reward 500.0\r",
      "ep 8844 : reward 500.0\r"
     ]
    },
    {
     "name": "stdout",
     "output_type": "stream",
     "text": [
      "ep 8845 : reward 500.0\r",
      "ep 8846 : reward 500.0\r"
     ]
    },
    {
     "name": "stdout",
     "output_type": "stream",
     "text": [
      "ep 8847 : reward 387.0\r",
      "ep 8848 : reward 500.0\r"
     ]
    },
    {
     "name": "stdout",
     "output_type": "stream",
     "text": [
      "ep 8849 : reward 500.0\r",
      "ep 8850 : reward 168.0\r",
      "ep 8851 : reward 250.0\r",
      "ep 8852 : reward 236.0\r"
     ]
    },
    {
     "name": "stdout",
     "output_type": "stream",
     "text": [
      "ep 8853 : reward 258.0\r",
      "ep 8854 : reward 244.0\r",
      "ep 8855 : reward 270.0\r",
      "ep 8856 : reward 99.0\r"
     ]
    },
    {
     "name": "stdout",
     "output_type": "stream",
     "text": [
      "ep 8857 : reward 322.0\r",
      "ep 8858 : reward 492.0\r",
      "ep 8859 : reward 252.0\r"
     ]
    },
    {
     "name": "stdout",
     "output_type": "stream",
     "text": [
      "ep 8860 : reward 500.0\r",
      "ep 8861 : reward 265.0\r",
      "ep 8862 : reward 271.0\r"
     ]
    },
    {
     "name": "stdout",
     "output_type": "stream",
     "text": [
      "ep 8863 : reward 389.0\r",
      "ep 8864 : reward 404.0\r"
     ]
    },
    {
     "name": "stdout",
     "output_type": "stream",
     "text": [
      "ep 8865 : reward 395.0\r",
      "ep 8866 : reward 500.0\r"
     ]
    },
    {
     "name": "stdout",
     "output_type": "stream",
     "text": [
      "ep 8867 : reward 500.0\r",
      "ep 8868 : reward 500.0\r"
     ]
    },
    {
     "name": "stdout",
     "output_type": "stream",
     "text": [
      "ep 8869 : reward 500.0\r",
      "ep 8870 : reward 419.0\r",
      "ep 8871 : reward 242.0\r"
     ]
    },
    {
     "name": "stdout",
     "output_type": "stream",
     "text": [
      "ep 8872 : reward 247.0\r",
      "ep 8873 : reward 97.0\r",
      "ep 8874 : reward 167.0\r",
      "ep 8875 : reward 253.0\r"
     ]
    },
    {
     "name": "stdout",
     "output_type": "stream",
     "text": [
      "ep 8876 : reward 253.0\r",
      "ep 8877 : reward 250.0\r",
      "ep 8878 : reward 239.0\r"
     ]
    },
    {
     "name": "stdout",
     "output_type": "stream",
     "text": [
      "ep 8879 : reward 241.0\r",
      "ep 8880 : reward 385.0\r",
      "ep 8881 : reward 346.0\r"
     ]
    },
    {
     "name": "stdout",
     "output_type": "stream",
     "text": [
      "ep 8882 : reward 500.0\r",
      "ep 8883 : reward 500.0\r"
     ]
    },
    {
     "name": "stdout",
     "output_type": "stream",
     "text": [
      "ep 8884 : reward 376.0\r",
      "ep 8885 : reward 455.0\r"
     ]
    },
    {
     "name": "stdout",
     "output_type": "stream",
     "text": [
      "ep 8886 : reward 393.0\r",
      "ep 8887 : reward 440.0\r"
     ]
    },
    {
     "name": "stdout",
     "output_type": "stream",
     "text": [
      "ep 8888 : reward 422.0\r",
      "ep 8889 : reward 500.0\r"
     ]
    },
    {
     "name": "stdout",
     "output_type": "stream",
     "text": [
      "ep 8890 : reward 500.0\r",
      "ep 8891 : reward 318.0\r",
      "ep 8892 : reward 346.0\r"
     ]
    },
    {
     "name": "stdout",
     "output_type": "stream",
     "text": [
      "ep 8893 : reward 344.0\r",
      "ep 8894 : reward 500.0\r",
      "ep 8895 : reward 243.0\r"
     ]
    },
    {
     "name": "stdout",
     "output_type": "stream",
     "text": [
      "ep 8896 : reward 411.0\r",
      "ep 8897 : reward 393.0\r",
      "ep 8898 : reward 386.0\r"
     ]
    },
    {
     "name": "stdout",
     "output_type": "stream",
     "text": [
      "ep 8899 : reward 389.0\r",
      "ep 8900 : reward 334.0\r",
      "ep 8901 : reward 328.0\r"
     ]
    },
    {
     "name": "stdout",
     "output_type": "stream",
     "text": [
      "ep 8902 : reward 267.0\r",
      "ep 8903 : reward 396.0\r",
      "ep 8904 : reward 317.0\r"
     ]
    },
    {
     "name": "stdout",
     "output_type": "stream",
     "text": [
      "ep 8905 : reward 255.0\r",
      "ep 8906 : reward 258.0\r",
      "ep 8907 : reward 187.0\r"
     ]
    },
    {
     "name": "stdout",
     "output_type": "stream",
     "text": [
      "ep 8908 : reward 246.0\r",
      "ep 8909 : reward 250.0\r",
      "ep 8910 : reward 464.0\r"
     ]
    },
    {
     "name": "stdout",
     "output_type": "stream",
     "text": [
      "ep 8911 : reward 221.0\r",
      "ep 8912 : reward 253.0\r",
      "ep 8913 : reward 85.0\r"
     ]
    },
    {
     "name": "stdout",
     "output_type": "stream",
     "text": [
      "ep 8914 : reward 363.0\r",
      "ep 8915 : reward 500.0\r"
     ]
    },
    {
     "name": "stdout",
     "output_type": "stream",
     "text": [
      "ep 8916 : reward 500.0\r",
      "ep 8917 : reward 500.0\r"
     ]
    },
    {
     "name": "stdout",
     "output_type": "stream",
     "text": [
      "ep 8918 : reward 323.0\r",
      "ep 8919 : reward 464.0\r"
     ]
    },
    {
     "name": "stdout",
     "output_type": "stream",
     "text": [
      "ep 8920 : reward 462.0\r",
      "ep 8921 : reward 319.0\r",
      "ep 8922 : reward 395.0\r"
     ]
    },
    {
     "name": "stdout",
     "output_type": "stream",
     "text": [
      "ep 8923 : reward 372.0\r",
      "ep 8924 : reward 493.0\r"
     ]
    },
    {
     "name": "stdout",
     "output_type": "stream",
     "text": [
      "ep 8925 : reward 382.0\r",
      "ep 8926 : reward 397.0\r",
      "ep 8927 : reward 259.0\r"
     ]
    },
    {
     "name": "stdout",
     "output_type": "stream",
     "text": [
      "ep 8928 : reward 126.0\r",
      "ep 8929 : reward 382.0\r",
      "ep 8930 : reward 256.0\r"
     ]
    },
    {
     "name": "stdout",
     "output_type": "stream",
     "text": [
      "ep 8931 : reward 402.0\r",
      "ep 8932 : reward 500.0\r"
     ]
    },
    {
     "name": "stdout",
     "output_type": "stream",
     "text": [
      "ep 8933 : reward 328.0\r",
      "ep 8934 : reward 351.0\r",
      "ep 8935 : reward 386.0\r"
     ]
    },
    {
     "name": "stdout",
     "output_type": "stream",
     "text": [
      "ep 8936 : reward 321.0\r",
      "ep 8937 : reward 391.0\r",
      "ep 8938 : reward 253.0\r"
     ]
    },
    {
     "name": "stdout",
     "output_type": "stream",
     "text": [
      "ep 8939 : reward 249.0\r",
      "ep 8940 : reward 259.0\r",
      "ep 8941 : reward 500.0\r"
     ]
    },
    {
     "name": "stdout",
     "output_type": "stream",
     "text": [
      "ep 8942 : reward 500.0\r",
      "ep 8943 : reward 500.0\r"
     ]
    },
    {
     "name": "stdout",
     "output_type": "stream",
     "text": [
      "ep 8944 : reward 500.0\r",
      "ep 8945 : reward 445.0\r"
     ]
    },
    {
     "name": "stdout",
     "output_type": "stream",
     "text": [
      "ep 8946 : reward 395.0\r",
      "ep 8947 : reward 474.0\r"
     ]
    },
    {
     "name": "stdout",
     "output_type": "stream",
     "text": [
      "ep 8948 : reward 399.0\r",
      "ep 8949 : reward 393.0\r",
      "ep 8950 : reward 255.0\r"
     ]
    },
    {
     "name": "stdout",
     "output_type": "stream",
     "text": [
      "ep 8951 : reward 236.0\r",
      "ep 8952 : reward 189.0\r",
      "ep 8953 : reward 325.0\r"
     ]
    },
    {
     "name": "stdout",
     "output_type": "stream",
     "text": [
      "ep 8954 : reward 257.0\r",
      "ep 8955 : reward 500.0\r"
     ]
    },
    {
     "name": "stdout",
     "output_type": "stream",
     "text": [
      "ep 8956 : reward 500.0\r",
      "ep 8957 : reward 500.0\r"
     ]
    },
    {
     "name": "stdout",
     "output_type": "stream",
     "text": [
      "ep 8958 : reward 484.0\r",
      "ep 8959 : reward 304.0\r"
     ]
    },
    {
     "name": "stdout",
     "output_type": "stream",
     "text": [
      "ep 8960 : reward 468.0\r",
      "ep 8961 : reward 108.0\r",
      "ep 8962 : reward 248.0\r",
      "ep 8963 : reward 109.0\r"
     ]
    },
    {
     "name": "stdout",
     "output_type": "stream",
     "text": [
      "ep 8964 : reward 115.0\r",
      "ep 8965 : reward 108.0\r",
      "ep 8966 : reward 236.0\r",
      "ep 8967 : reward 110.0\r"
     ]
    },
    {
     "name": "stdout",
     "output_type": "stream",
     "text": [
      "ep 8968 : reward 270.0\r",
      "ep 8969 : reward 327.0\r",
      "ep 8970 : reward 252.0\r"
     ]
    },
    {
     "name": "stdout",
     "output_type": "stream",
     "text": [
      "ep 8971 : reward 131.0\r",
      "ep 8972 : reward 242.0\r",
      "ep 8973 : reward 243.0\r"
     ]
    },
    {
     "name": "stdout",
     "output_type": "stream",
     "text": [
      "ep 8974 : reward 273.0\r",
      "ep 8975 : reward 214.0\r",
      "ep 8976 : reward 272.0\r"
     ]
    },
    {
     "name": "stdout",
     "output_type": "stream",
     "text": [
      "ep 8977 : reward 413.0\r",
      "ep 8978 : reward 396.0\r",
      "ep 8979 : reward 251.0\r"
     ]
    },
    {
     "name": "stdout",
     "output_type": "stream",
     "text": [
      "ep 8980 : reward 484.0\r",
      "ep 8981 : reward 311.0\r"
     ]
    },
    {
     "name": "stdout",
     "output_type": "stream",
     "text": [
      "ep 8982 : reward 500.0\r",
      "ep 8983 : reward 418.0\r"
     ]
    },
    {
     "name": "stdout",
     "output_type": "stream",
     "text": [
      "ep 8984 : reward 409.0\r",
      "ep 8985 : reward 385.0\r",
      "ep 8986 : reward 266.0\r"
     ]
    },
    {
     "name": "stdout",
     "output_type": "stream",
     "text": [
      "ep 8987 : reward 471.0\r",
      "ep 8988 : reward 436.0\r"
     ]
    },
    {
     "name": "stdout",
     "output_type": "stream",
     "text": [
      "ep 8989 : reward 409.0\r",
      "ep 8990 : reward 334.0\r"
     ]
    },
    {
     "name": "stdout",
     "output_type": "stream",
     "text": [
      "ep 8991 : reward 453.0\r",
      "ep 8992 : reward 500.0\r"
     ]
    },
    {
     "name": "stdout",
     "output_type": "stream",
     "text": [
      "ep 8993 : reward 500.0\r",
      "ep 8994 : reward 500.0\r"
     ]
    },
    {
     "name": "stdout",
     "output_type": "stream",
     "text": [
      "ep 8995 : reward 500.0\r",
      "ep 8996 : reward 495.0\r"
     ]
    },
    {
     "name": "stdout",
     "output_type": "stream",
     "text": [
      "ep 8997 : reward 399.0\r",
      "ep 8998 : reward 309.0\r",
      "ep 8999 : reward 268.0\r"
     ]
    },
    {
     "name": "stdout",
     "output_type": "stream",
     "text": [
      "ep 9000 : reward 395.0\r",
      "ep 9001 : reward 114.0\r",
      "ep 9002 : reward 104.0\r",
      "ep 9003 : reward 92.0\r",
      "ep 9004 : reward 95.0\r"
     ]
    },
    {
     "name": "stdout",
     "output_type": "stream",
     "text": [
      "ep 9005 : reward 128.0\r",
      "ep 9006 : reward 319.0\r",
      "ep 9007 : reward 253.0\r"
     ]
    },
    {
     "name": "stdout",
     "output_type": "stream",
     "text": [
      "ep 9008 : reward 259.0\r",
      "ep 9009 : reward 178.0\r",
      "ep 9010 : reward 104.0\r",
      "ep 9011 : reward 252.0\r"
     ]
    },
    {
     "name": "stdout",
     "output_type": "stream",
     "text": [
      "ep 9012 : reward 335.0\r",
      "ep 9013 : reward 406.0\r",
      "ep 9014 : reward 245.0\r"
     ]
    },
    {
     "name": "stdout",
     "output_type": "stream",
     "text": [
      "ep 9015 : reward 342.0\r",
      "ep 9016 : reward 308.0\r",
      "ep 9017 : reward 500.0\r"
     ]
    },
    {
     "name": "stdout",
     "output_type": "stream",
     "text": [
      "ep 9018 : reward 500.0\r",
      "ep 9019 : reward 500.0\r"
     ]
    },
    {
     "name": "stdout",
     "output_type": "stream",
     "text": [
      "ep 9020 : reward 500.0\r",
      "ep 9021 : reward 391.0\r",
      "ep 9022 : reward 408.0\r"
     ]
    },
    {
     "name": "stdout",
     "output_type": "stream",
     "text": [
      "ep 9023 : reward 316.0\r",
      "ep 9024 : reward 381.0\r",
      "ep 9025 : reward 333.0\r"
     ]
    },
    {
     "name": "stdout",
     "output_type": "stream",
     "text": [
      "ep 9026 : reward 315.0\r",
      "ep 9027 : reward 409.0\r",
      "ep 9028 : reward 365.0\r"
     ]
    },
    {
     "name": "stdout",
     "output_type": "stream",
     "text": [
      "ep 9029 : reward 500.0\r",
      "ep 9030 : reward 404.0\r",
      "ep 9031 : reward 348.0\r"
     ]
    },
    {
     "name": "stdout",
     "output_type": "stream",
     "text": [
      "ep 9032 : reward 412.0\r",
      "ep 9033 : reward 310.0\r",
      "ep 9034 : reward 260.0\r"
     ]
    },
    {
     "name": "stdout",
     "output_type": "stream",
     "text": [
      "ep 9035 : reward 240.0\r",
      "ep 9036 : reward 406.0\r",
      "ep 9037 : reward 248.0\r"
     ]
    },
    {
     "name": "stdout",
     "output_type": "stream",
     "text": [
      "ep 9038 : reward 388.0\r",
      "ep 9039 : reward 398.0\r"
     ]
    },
    {
     "name": "stdout",
     "output_type": "stream",
     "text": [
      "ep 9040 : reward 395.0\r",
      "ep 9041 : reward 236.0\r",
      "ep 9042 : reward 260.0\r"
     ]
    },
    {
     "name": "stdout",
     "output_type": "stream",
     "text": [
      "ep 9043 : reward 500.0\r",
      "ep 9044 : reward 475.0\r",
      "ep 9045 : reward 262.0\r"
     ]
    },
    {
     "name": "stdout",
     "output_type": "stream",
     "text": [
      "ep 9046 : reward 252.0\r",
      "ep 9047 : reward 342.0\r",
      "ep 9048 : reward 389.0\r"
     ]
    },
    {
     "name": "stdout",
     "output_type": "stream",
     "text": [
      "ep 9049 : reward 406.0\r",
      "ep 9050 : reward 177.0\r",
      "ep 9051 : reward 253.0\r"
     ]
    },
    {
     "name": "stdout",
     "output_type": "stream",
     "text": [
      "ep 9052 : reward 390.0\r",
      "ep 9053 : reward 500.0\r"
     ]
    },
    {
     "name": "stdout",
     "output_type": "stream",
     "text": [
      "ep 9054 : reward 500.0\r",
      "ep 9055 : reward 500.0\r"
     ]
    },
    {
     "name": "stdout",
     "output_type": "stream",
     "text": [
      "ep 9056 : reward 500.0\r",
      "ep 9057 : reward 288.0\r",
      "ep 9058 : reward 413.0\r"
     ]
    },
    {
     "name": "stdout",
     "output_type": "stream",
     "text": [
      "ep 9059 : reward 317.0\r",
      "ep 9060 : reward 397.0\r"
     ]
    },
    {
     "name": "stdout",
     "output_type": "stream",
     "text": [
      "ep 9061 : reward 500.0\r",
      "ep 9062 : reward 500.0\r"
     ]
    },
    {
     "name": "stdout",
     "output_type": "stream",
     "text": [
      "ep 9063 : reward 500.0\r",
      "ep 9064 : reward 500.0\r"
     ]
    },
    {
     "name": "stdout",
     "output_type": "stream",
     "text": [
      "ep 9065 : reward 500.0\r",
      "ep 9066 : reward 309.0\r",
      "ep 9067 : reward 245.0\r",
      "ep 9068 : reward 100.0\r"
     ]
    },
    {
     "name": "stdout",
     "output_type": "stream",
     "text": [
      "ep 9069 : reward 88.0\r",
      "ep 9070 : reward 249.0\r",
      "ep 9071 : reward 89.0\r",
      "ep 9072 : reward 245.0\r"
     ]
    },
    {
     "name": "stdout",
     "output_type": "stream",
     "text": [
      "ep 9073 : reward 321.0\r",
      "ep 9074 : reward 500.0\r"
     ]
    },
    {
     "name": "stdout",
     "output_type": "stream",
     "text": [
      "ep 9075 : reward 500.0\r",
      "ep 9076 : reward 500.0\r"
     ]
    },
    {
     "name": "stdout",
     "output_type": "stream",
     "text": [
      "ep 9077 : reward 500.0\r",
      "ep 9078 : reward 395.0\r"
     ]
    },
    {
     "name": "stdout",
     "output_type": "stream",
     "text": [
      "ep 9079 : reward 500.0\r",
      "ep 9080 : reward 287.0\r",
      "ep 9081 : reward 355.0\r"
     ]
    },
    {
     "name": "stdout",
     "output_type": "stream",
     "text": [
      "ep 9082 : reward 472.0\r",
      "ep 9083 : reward 274.0\r",
      "ep 9084 : reward 107.0\r",
      "ep 9085 : reward 106.0\r"
     ]
    },
    {
     "name": "stdout",
     "output_type": "stream",
     "text": [
      "ep 9086 : reward 173.0\r",
      "ep 9087 : reward 96.0\r",
      "ep 9088 : reward 113.0\r",
      "ep 9089 : reward 98.0\r",
      "ep 9090 : reward 230.0\r"
     ]
    },
    {
     "name": "stdout",
     "output_type": "stream",
     "text": [
      "ep 9091 : reward 95.0\r",
      "ep 9092 : reward 253.0\r",
      "ep 9093 : reward 242.0\r"
     ]
    },
    {
     "name": "stdout",
     "output_type": "stream",
     "text": [
      "ep 9094 : reward 251.0\r",
      "ep 9095 : reward 103.0\r",
      "ep 9096 : reward 243.0\r",
      "ep 9097 : reward 235.0\r"
     ]
    },
    {
     "name": "stdout",
     "output_type": "stream",
     "text": [
      "ep 9098 : reward 247.0\r",
      "ep 9099 : reward 336.0\r",
      "ep 9100 : reward 245.0\r"
     ]
    },
    {
     "name": "stdout",
     "output_type": "stream",
     "text": [
      "ep 9101 : reward 500.0\r",
      "ep 9102 : reward 500.0\r"
     ]
    },
    {
     "name": "stdout",
     "output_type": "stream",
     "text": [
      "ep 9103 : reward 431.0\r",
      "ep 9104 : reward 500.0\r"
     ]
    },
    {
     "name": "stdout",
     "output_type": "stream",
     "text": [
      "ep 9105 : reward 500.0\r",
      "ep 9106 : reward 490.0\r"
     ]
    },
    {
     "name": "stdout",
     "output_type": "stream",
     "text": [
      "ep 9107 : reward 349.0\r",
      "ep 9108 : reward 322.0\r",
      "ep 9109 : reward 382.0\r"
     ]
    },
    {
     "name": "stdout",
     "output_type": "stream",
     "text": [
      "ep 9110 : reward 500.0\r",
      "ep 9111 : reward 500.0\r"
     ]
    },
    {
     "name": "stdout",
     "output_type": "stream",
     "text": [
      "ep 9112 : reward 500.0\r",
      "ep 9113 : reward 500.0\r"
     ]
    },
    {
     "name": "stdout",
     "output_type": "stream",
     "text": [
      "ep 9114 : reward 500.0\r",
      "ep 9115 : reward 500.0\r"
     ]
    },
    {
     "name": "stdout",
     "output_type": "stream",
     "text": [
      "ep 9116 : reward 479.0\r",
      "ep 9117 : reward 442.0\r"
     ]
    },
    {
     "name": "stdout",
     "output_type": "stream",
     "text": [
      "ep 9118 : reward 500.0\r",
      "ep 9119 : reward 410.0\r",
      "ep 9120 : reward 307.0\r"
     ]
    },
    {
     "name": "stdout",
     "output_type": "stream",
     "text": [
      "ep 9121 : reward 269.0\r",
      "ep 9122 : reward 242.0\r",
      "ep 9123 : reward 336.0\r"
     ]
    },
    {
     "name": "stdout",
     "output_type": "stream",
     "text": [
      "ep 9124 : reward 500.0\r",
      "ep 9125 : reward 326.0\r",
      "ep 9126 : reward 346.0\r"
     ]
    },
    {
     "name": "stdout",
     "output_type": "stream",
     "text": [
      "ep 9127 : reward 258.0\r",
      "ep 9128 : reward 178.0\r",
      "ep 9129 : reward 105.0\r",
      "ep 9130 : reward 92.0\r",
      "ep 9131 : reward 87.0\r"
     ]
    },
    {
     "name": "stdout",
     "output_type": "stream",
     "text": [
      "ep 9132 : reward 91.0\r",
      "ep 9133 : reward 101.0\r",
      "ep 9134 : reward 35.0\r",
      "ep 9135 : reward 88.0\r",
      "ep 9136 : reward 38.0\r",
      "ep 9137 : reward 100.0\r"
     ]
    },
    {
     "name": "stdout",
     "output_type": "stream",
     "text": [
      "ep 9138 : reward 94.0\r",
      "ep 9139 : reward 179.0\r",
      "ep 9140 : reward 245.0\r",
      "ep 9141 : reward 177.0\r"
     ]
    },
    {
     "name": "stdout",
     "output_type": "stream",
     "text": [
      "ep 9142 : reward 258.0\r",
      "ep 9143 : reward 256.0\r",
      "ep 9144 : reward 325.0\r"
     ]
    },
    {
     "name": "stdout",
     "output_type": "stream",
     "text": [
      "ep 9145 : reward 249.0\r",
      "ep 9146 : reward 500.0\r"
     ]
    },
    {
     "name": "stdout",
     "output_type": "stream",
     "text": [
      "ep 9147 : reward 500.0\r",
      "ep 9148 : reward 500.0\r",
      "ep 9149 : reward 236.0\r"
     ]
    },
    {
     "name": "stdout",
     "output_type": "stream",
     "text": [
      "ep 9150 : reward 256.0\r",
      "ep 9151 : reward 386.0\r"
     ]
    },
    {
     "name": "stdout",
     "output_type": "stream",
     "text": [
      "ep 9152 : reward 452.0\r",
      "ep 9153 : reward 500.0\r",
      "ep 9154 : reward 246.0\r"
     ]
    },
    {
     "name": "stdout",
     "output_type": "stream",
     "text": [
      "ep 9155 : reward 270.0\r",
      "ep 9156 : reward 403.0\r"
     ]
    },
    {
     "name": "stdout",
     "output_type": "stream",
     "text": [
      "ep 9157 : reward 443.0\r",
      "ep 9158 : reward 500.0\r"
     ]
    },
    {
     "name": "stdout",
     "output_type": "stream",
     "text": [
      "ep 9159 : reward 500.0\r",
      "ep 9160 : reward 500.0\r"
     ]
    },
    {
     "name": "stdout",
     "output_type": "stream",
     "text": [
      "ep 9161 : reward 391.0\r",
      "ep 9162 : reward 500.0\r"
     ]
    },
    {
     "name": "stdout",
     "output_type": "stream",
     "text": [
      "ep 9163 : reward 382.0\r",
      "ep 9164 : reward 348.0\r",
      "ep 9165 : reward 383.0\r"
     ]
    },
    {
     "name": "stdout",
     "output_type": "stream",
     "text": [
      "ep 9166 : reward 401.0\r",
      "ep 9167 : reward 477.0\r"
     ]
    },
    {
     "name": "stdout",
     "output_type": "stream",
     "text": [
      "ep 9168 : reward 398.0\r",
      "ep 9169 : reward 500.0\r"
     ]
    },
    {
     "name": "stdout",
     "output_type": "stream",
     "text": [
      "ep 9170 : reward 399.0\r",
      "ep 9171 : reward 316.0\r"
     ]
    },
    {
     "name": "stdout",
     "output_type": "stream",
     "text": [
      "ep 9172 : reward 500.0\r",
      "ep 9173 : reward 500.0\r"
     ]
    },
    {
     "name": "stdout",
     "output_type": "stream",
     "text": [
      "ep 9174 : reward 500.0\r",
      "ep 9175 : reward 500.0\r"
     ]
    },
    {
     "name": "stdout",
     "output_type": "stream",
     "text": [
      "ep 9176 : reward 471.0\r",
      "ep 9177 : reward 500.0\r"
     ]
    },
    {
     "name": "stdout",
     "output_type": "stream",
     "text": [
      "ep 9178 : reward 500.0\r",
      "ep 9179 : reward 403.0\r"
     ]
    },
    {
     "name": "stdout",
     "output_type": "stream",
     "text": [
      "ep 9180 : reward 500.0\r",
      "ep 9181 : reward 458.0\r"
     ]
    },
    {
     "name": "stdout",
     "output_type": "stream",
     "text": [
      "ep 9182 : reward 500.0\r",
      "ep 9183 : reward 424.0\r",
      "ep 9184 : reward 323.0\r"
     ]
    },
    {
     "name": "stdout",
     "output_type": "stream",
     "text": [
      "ep 9185 : reward 313.0\r",
      "ep 9186 : reward 270.0\r",
      "ep 9187 : reward 108.0\r",
      "ep 9188 : reward 100.0\r"
     ]
    },
    {
     "name": "stdout",
     "output_type": "stream",
     "text": [
      "ep 9189 : reward 110.0\r",
      "ep 9190 : reward 103.0\r",
      "ep 9191 : reward 240.0\r",
      "ep 9192 : reward 246.0\r"
     ]
    },
    {
     "name": "stdout",
     "output_type": "stream",
     "text": [
      "ep 9193 : reward 261.0\r",
      "ep 9194 : reward 398.0\r",
      "ep 9195 : reward 186.0\r"
     ]
    },
    {
     "name": "stdout",
     "output_type": "stream",
     "text": [
      "ep 9196 : reward 317.0\r",
      "ep 9197 : reward 175.0\r",
      "ep 9198 : reward 105.0\r",
      "ep 9199 : reward 267.0\r"
     ]
    },
    {
     "name": "stdout",
     "output_type": "stream",
     "text": [
      "ep 9200 : reward 246.0\r",
      "ep 9201 : reward 340.0\r",
      "ep 9202 : reward 244.0\r"
     ]
    },
    {
     "name": "stdout",
     "output_type": "stream",
     "text": [
      "ep 9203 : reward 262.0\r",
      "ep 9204 : reward 246.0\r",
      "ep 9205 : reward 342.0\r",
      "ep 9206 : reward 105.0\r"
     ]
    },
    {
     "name": "stdout",
     "output_type": "stream",
     "text": [
      "ep 9207 : reward 38.0\r",
      "ep 9208 : reward 102.0\r",
      "ep 9209 : reward 104.0\r",
      "ep 9210 : reward 94.0\r",
      "ep 9211 : reward 175.0\r"
     ]
    },
    {
     "name": "stdout",
     "output_type": "stream",
     "text": [
      "ep 9212 : reward 237.0\r",
      "ep 9213 : reward 307.0\r",
      "ep 9214 : reward 190.0\r"
     ]
    },
    {
     "name": "stdout",
     "output_type": "stream",
     "text": [
      "ep 9215 : reward 387.0\r",
      "ep 9216 : reward 479.0\r"
     ]
    },
    {
     "name": "stdout",
     "output_type": "stream",
     "text": [
      "ep 9217 : reward 400.0\r",
      "ep 9218 : reward 500.0\r"
     ]
    },
    {
     "name": "stdout",
     "output_type": "stream",
     "text": [
      "ep 9219 : reward 500.0\r",
      "ep 9220 : reward 500.0\r"
     ]
    },
    {
     "name": "stdout",
     "output_type": "stream",
     "text": [
      "ep 9221 : reward 500.0\r",
      "ep 9222 : reward 369.0\r"
     ]
    },
    {
     "name": "stdout",
     "output_type": "stream",
     "text": [
      "ep 9223 : reward 441.0\r",
      "ep 9224 : reward 500.0\r"
     ]
    },
    {
     "name": "stdout",
     "output_type": "stream",
     "text": [
      "ep 9225 : reward 500.0\r",
      "ep 9226 : reward 500.0\r",
      "ep 9227 : reward 238.0\r"
     ]
    },
    {
     "name": "stdout",
     "output_type": "stream",
     "text": [
      "ep 9228 : reward 280.0\r",
      "ep 9229 : reward 397.0\r"
     ]
    },
    {
     "name": "stdout",
     "output_type": "stream",
     "text": [
      "ep 9230 : reward 471.0\r",
      "ep 9231 : reward 500.0\r"
     ]
    },
    {
     "name": "stdout",
     "output_type": "stream",
     "text": [
      "ep 9232 : reward 500.0\r",
      "ep 9233 : reward 500.0\r"
     ]
    },
    {
     "name": "stdout",
     "output_type": "stream",
     "text": [
      "ep 9234 : reward 408.0\r",
      "ep 9235 : reward 500.0\r"
     ]
    },
    {
     "name": "stdout",
     "output_type": "stream",
     "text": [
      "ep 9236 : reward 500.0\r",
      "ep 9237 : reward 500.0\r"
     ]
    },
    {
     "name": "stdout",
     "output_type": "stream",
     "text": [
      "ep 9238 : reward 500.0\r",
      "ep 9239 : reward 428.0\r"
     ]
    },
    {
     "name": "stdout",
     "output_type": "stream",
     "text": [
      "ep 9240 : reward 500.0\r",
      "ep 9241 : reward 500.0\r"
     ]
    },
    {
     "name": "stdout",
     "output_type": "stream",
     "text": [
      "ep 9242 : reward 500.0\r",
      "ep 9243 : reward 500.0\r"
     ]
    },
    {
     "name": "stdout",
     "output_type": "stream",
     "text": [
      "ep 9244 : reward 500.0\r",
      "ep 9245 : reward 462.0\r"
     ]
    },
    {
     "name": "stdout",
     "output_type": "stream",
     "text": [
      "ep 9246 : reward 500.0\r",
      "ep 9247 : reward 500.0\r"
     ]
    },
    {
     "name": "stdout",
     "output_type": "stream",
     "text": [
      "ep 9248 : reward 500.0\r",
      "ep 9249 : reward 500.0\r"
     ]
    },
    {
     "name": "stdout",
     "output_type": "stream",
     "text": [
      "ep 9250 : reward 500.0\r",
      "ep 9251 : reward 315.0\r",
      "ep 9252 : reward 379.0\r"
     ]
    },
    {
     "name": "stdout",
     "output_type": "stream",
     "text": [
      "ep 9253 : reward 500.0\r",
      "ep 9254 : reward 500.0\r"
     ]
    },
    {
     "name": "stdout",
     "output_type": "stream",
     "text": [
      "ep 9255 : reward 500.0\r",
      "ep 9256 : reward 500.0\r"
     ]
    },
    {
     "name": "stdout",
     "output_type": "stream",
     "text": [
      "ep 9257 : reward 500.0\r",
      "ep 9258 : reward 500.0\r"
     ]
    },
    {
     "name": "stdout",
     "output_type": "stream",
     "text": [
      "ep 9259 : reward 500.0\r",
      "ep 9260 : reward 500.0\r"
     ]
    },
    {
     "name": "stdout",
     "output_type": "stream",
     "text": [
      "ep 9261 : reward 500.0\r",
      "ep 9262 : reward 500.0\r"
     ]
    },
    {
     "name": "stdout",
     "output_type": "stream",
     "text": [
      "ep 9263 : reward 469.0\r",
      "ep 9264 : reward 263.0\r",
      "ep 9265 : reward 257.0\r",
      "ep 9266 : reward 93.0\r"
     ]
    },
    {
     "name": "stdout",
     "output_type": "stream",
     "text": [
      "ep 9267 : reward 113.0\r",
      "ep 9268 : reward 109.0\r",
      "ep 9269 : reward 175.0\r",
      "ep 9270 : reward 250.0\r"
     ]
    },
    {
     "name": "stdout",
     "output_type": "stream",
     "text": [
      "ep 9271 : reward 206.0\r",
      "ep 9272 : reward 244.0\r",
      "ep 9273 : reward 246.0\r"
     ]
    },
    {
     "name": "stdout",
     "output_type": "stream",
     "text": [
      "ep 9274 : reward 330.0\r",
      "ep 9275 : reward 500.0\r"
     ]
    },
    {
     "name": "stdout",
     "output_type": "stream",
     "text": [
      "ep 9276 : reward 500.0\r",
      "ep 9277 : reward 353.0\r"
     ]
    },
    {
     "name": "stdout",
     "output_type": "stream",
     "text": [
      "ep 9278 : reward 500.0\r",
      "ep 9279 : reward 500.0\r"
     ]
    },
    {
     "name": "stdout",
     "output_type": "stream",
     "text": [
      "ep 9280 : reward 500.0\r",
      "ep 9281 : reward 500.0\r",
      "ep 9282 : reward 269.0\r"
     ]
    },
    {
     "name": "stdout",
     "output_type": "stream",
     "text": [
      "ep 9283 : reward 500.0\r",
      "ep 9284 : reward 500.0\r",
      "ep 9285 : reward 251.0\r"
     ]
    },
    {
     "name": "stdout",
     "output_type": "stream",
     "text": [
      "ep 9286 : reward 330.0\r",
      "ep 9287 : reward 375.0\r",
      "ep 9288 : reward 262.0\r"
     ]
    },
    {
     "name": "stdout",
     "output_type": "stream",
     "text": [
      "ep 9289 : reward 405.0\r",
      "ep 9290 : reward 238.0\r"
     ]
    },
    {
     "name": "stdout",
     "output_type": "stream",
     "text": [
      "ep 9291 : reward 500.0\r",
      "ep 9292 : reward 500.0\r"
     ]
    },
    {
     "name": "stdout",
     "output_type": "stream",
     "text": [
      "ep 9293 : reward 500.0\r",
      "ep 9294 : reward 500.0\r"
     ]
    },
    {
     "name": "stdout",
     "output_type": "stream",
     "text": [
      "ep 9295 : reward 500.0\r",
      "ep 9296 : reward 500.0\r"
     ]
    },
    {
     "name": "stdout",
     "output_type": "stream",
     "text": [
      "ep 9297 : reward 500.0\r",
      "ep 9298 : reward 418.0\r"
     ]
    },
    {
     "name": "stdout",
     "output_type": "stream",
     "text": [
      "ep 9299 : reward 500.0\r",
      "ep 9300 : reward 500.0\r"
     ]
    },
    {
     "name": "stdout",
     "output_type": "stream",
     "text": [
      "ep 9301 : reward 500.0\r",
      "ep 9302 : reward 500.0\r"
     ]
    },
    {
     "name": "stdout",
     "output_type": "stream",
     "text": [
      "ep 9303 : reward 500.0\r",
      "ep 9304 : reward 500.0\r"
     ]
    },
    {
     "name": "stdout",
     "output_type": "stream",
     "text": [
      "ep 9305 : reward 500.0\r",
      "ep 9306 : reward 500.0\r"
     ]
    },
    {
     "name": "stdout",
     "output_type": "stream",
     "text": [
      "ep 9307 : reward 219.0\r",
      "ep 9308 : reward 187.0\r",
      "ep 9309 : reward 246.0\r"
     ]
    },
    {
     "name": "stdout",
     "output_type": "stream",
     "text": [
      "ep 9310 : reward 360.0\r",
      "ep 9311 : reward 455.0\r"
     ]
    },
    {
     "name": "stdout",
     "output_type": "stream",
     "text": [
      "ep 9312 : reward 500.0\r",
      "ep 9313 : reward 500.0\r"
     ]
    },
    {
     "name": "stdout",
     "output_type": "stream",
     "text": [
      "ep 9314 : reward 500.0\r",
      "ep 9315 : reward 500.0\r",
      "ep 9316 : reward 265.0\r"
     ]
    },
    {
     "name": "stdout",
     "output_type": "stream",
     "text": [
      "ep 9317 : reward 253.0\r",
      "ep 9318 : reward 251.0\r",
      "ep 9319 : reward 394.0\r"
     ]
    },
    {
     "name": "stdout",
     "output_type": "stream",
     "text": [
      "ep 9320 : reward 298.0\r",
      "ep 9321 : reward 500.0\r"
     ]
    },
    {
     "name": "stdout",
     "output_type": "stream",
     "text": [
      "ep 9322 : reward 433.0\r",
      "ep 9323 : reward 326.0\r"
     ]
    },
    {
     "name": "stdout",
     "output_type": "stream",
     "text": [
      "ep 9324 : reward 500.0\r",
      "ep 9325 : reward 390.0\r",
      "ep 9326 : reward 318.0\r"
     ]
    },
    {
     "name": "stdout",
     "output_type": "stream",
     "text": [
      "ep 9327 : reward 252.0\r",
      "ep 9328 : reward 500.0\r"
     ]
    },
    {
     "name": "stdout",
     "output_type": "stream",
     "text": [
      "ep 9329 : reward 500.0\r",
      "ep 9330 : reward 500.0\r",
      "ep 9331 : reward 94.0\r"
     ]
    },
    {
     "name": "stdout",
     "output_type": "stream",
     "text": [
      "ep 9332 : reward 101.0\r",
      "ep 9333 : reward 97.0\r",
      "ep 9334 : reward 107.0\r",
      "ep 9335 : reward 97.0\r",
      "ep 9336 : reward 113.0\r"
     ]
    },
    {
     "name": "stdout",
     "output_type": "stream",
     "text": [
      "ep 9337 : reward 192.0\r",
      "ep 9338 : reward 265.0\r",
      "ep 9339 : reward 330.0\r"
     ]
    },
    {
     "name": "stdout",
     "output_type": "stream",
     "text": [
      "ep 9340 : reward 395.0\r",
      "ep 9341 : reward 408.0\r",
      "ep 9342 : reward 258.0\r"
     ]
    },
    {
     "name": "stdout",
     "output_type": "stream",
     "text": [
      "ep 9343 : reward 270.0\r",
      "ep 9344 : reward 315.0\r",
      "ep 9345 : reward 420.0\r"
     ]
    },
    {
     "name": "stdout",
     "output_type": "stream",
     "text": [
      "ep 9346 : reward 277.0\r",
      "ep 9347 : reward 388.0\r"
     ]
    },
    {
     "name": "stdout",
     "output_type": "stream",
     "text": [
      "ep 9348 : reward 401.0\r",
      "ep 9349 : reward 391.0\r",
      "ep 9350 : reward 275.0\r"
     ]
    },
    {
     "name": "stdout",
     "output_type": "stream",
     "text": [
      "ep 9351 : reward 273.0\r",
      "ep 9352 : reward 399.0\r",
      "ep 9353 : reward 341.0\r"
     ]
    },
    {
     "name": "stdout",
     "output_type": "stream",
     "text": [
      "ep 9354 : reward 264.0\r",
      "ep 9355 : reward 233.0\r",
      "ep 9356 : reward 252.0\r"
     ]
    },
    {
     "name": "stdout",
     "output_type": "stream",
     "text": [
      "ep 9357 : reward 267.0\r",
      "ep 9358 : reward 403.0\r"
     ]
    },
    {
     "name": "stdout",
     "output_type": "stream",
     "text": [
      "ep 9359 : reward 500.0\r",
      "ep 9360 : reward 500.0\r"
     ]
    },
    {
     "name": "stdout",
     "output_type": "stream",
     "text": [
      "ep 9361 : reward 313.0\r",
      "ep 9362 : reward 247.0\r",
      "ep 9363 : reward 262.0\r"
     ]
    },
    {
     "name": "stdout",
     "output_type": "stream",
     "text": [
      "ep 9364 : reward 393.0\r",
      "ep 9365 : reward 500.0\r"
     ]
    },
    {
     "name": "stdout",
     "output_type": "stream",
     "text": [
      "ep 9366 : reward 500.0\r",
      "ep 9367 : reward 500.0\r"
     ]
    },
    {
     "name": "stdout",
     "output_type": "stream",
     "text": [
      "ep 9368 : reward 462.0\r",
      "ep 9369 : reward 500.0\r"
     ]
    },
    {
     "name": "stdout",
     "output_type": "stream",
     "text": [
      "ep 9370 : reward 429.0\r",
      "ep 9371 : reward 264.0\r"
     ]
    },
    {
     "name": "stdout",
     "output_type": "stream",
     "text": [
      "ep 9372 : reward 500.0\r",
      "ep 9373 : reward 248.0\r",
      "ep 9374 : reward 334.0\r"
     ]
    },
    {
     "name": "stdout",
     "output_type": "stream",
     "text": [
      "ep 9375 : reward 500.0\r",
      "ep 9376 : reward 500.0\r"
     ]
    },
    {
     "name": "stdout",
     "output_type": "stream",
     "text": [
      "ep 9377 : reward 500.0\r",
      "ep 9378 : reward 500.0\r"
     ]
    },
    {
     "name": "stdout",
     "output_type": "stream",
     "text": [
      "ep 9379 : reward 500.0\r",
      "ep 9380 : reward 500.0\r",
      "ep 9381 : reward 186.0\r"
     ]
    },
    {
     "name": "stdout",
     "output_type": "stream",
     "text": [
      "ep 9382 : reward 236.0\r",
      "ep 9383 : reward 245.0\r",
      "ep 9384 : reward 92.0\r",
      "ep 9385 : reward 93.0\r"
     ]
    },
    {
     "name": "stdout",
     "output_type": "stream",
     "text": [
      "ep 9386 : reward 101.0\r",
      "ep 9387 : reward 102.0\r",
      "ep 9388 : reward 98.0\r",
      "ep 9389 : reward 32.0\r",
      "ep 9390 : reward 27.0\r",
      "ep 9391 : reward 25.0\r",
      "ep 9392 : reward 29.0\r"
     ]
    },
    {
     "name": "stdout",
     "output_type": "stream",
     "text": [
      "ep 9393 : reward 21.0\r",
      "ep 9394 : reward 26.0\r",
      "ep 9395 : reward 32.0\r",
      "ep 9396 : reward 33.0\r",
      "ep 9397 : reward 100.0\r",
      "ep 9398 : reward 102.0\r",
      "ep 9399 : reward 107.0\r"
     ]
    },
    {
     "name": "stdout",
     "output_type": "stream",
     "text": [
      "ep 9400 : reward 118.0\r",
      "ep 9401 : reward 94.0\r",
      "ep 9402 : reward 43.0\r",
      "ep 9403 : reward 235.0\r"
     ]
    },
    {
     "name": "stdout",
     "output_type": "stream",
     "text": [
      "ep 9404 : reward 245.0\r",
      "ep 9405 : reward 265.0\r",
      "ep 9406 : reward 500.0\r"
     ]
    },
    {
     "name": "stdout",
     "output_type": "stream",
     "text": [
      "ep 9407 : reward 238.0\r",
      "ep 9408 : reward 237.0\r",
      "ep 9409 : reward 106.0\r",
      "ep 9410 : reward 240.0\r"
     ]
    },
    {
     "name": "stdout",
     "output_type": "stream",
     "text": [
      "ep 9411 : reward 338.0\r",
      "ep 9412 : reward 250.0\r",
      "ep 9413 : reward 383.0\r"
     ]
    },
    {
     "name": "stdout",
     "output_type": "stream",
     "text": [
      "ep 9414 : reward 500.0\r",
      "ep 9415 : reward 384.0\r",
      "ep 9416 : reward 362.0\r"
     ]
    },
    {
     "name": "stdout",
     "output_type": "stream",
     "text": [
      "ep 9417 : reward 460.0\r",
      "ep 9418 : reward 500.0\r"
     ]
    },
    {
     "name": "stdout",
     "output_type": "stream",
     "text": [
      "ep 9419 : reward 500.0\r",
      "ep 9420 : reward 271.0\r",
      "ep 9421 : reward 376.0\r"
     ]
    },
    {
     "name": "stdout",
     "output_type": "stream",
     "text": [
      "ep 9422 : reward 240.0\r",
      "ep 9423 : reward 450.0\r"
     ]
    },
    {
     "name": "stdout",
     "output_type": "stream",
     "text": [
      "ep 9424 : reward 441.0\r",
      "ep 9425 : reward 500.0\r"
     ]
    },
    {
     "name": "stdout",
     "output_type": "stream",
     "text": [
      "ep 9426 : reward 500.0\r",
      "ep 9427 : reward 500.0\r"
     ]
    },
    {
     "name": "stdout",
     "output_type": "stream",
     "text": [
      "ep 9428 : reward 500.0\r",
      "ep 9429 : reward 500.0\r"
     ]
    },
    {
     "name": "stdout",
     "output_type": "stream",
     "text": [
      "ep 9430 : reward 500.0\r",
      "ep 9431 : reward 500.0\r"
     ]
    },
    {
     "name": "stdout",
     "output_type": "stream",
     "text": [
      "ep 9432 : reward 500.0\r",
      "ep 9433 : reward 500.0\r"
     ]
    },
    {
     "name": "stdout",
     "output_type": "stream",
     "text": [
      "ep 9434 : reward 500.0\r",
      "ep 9435 : reward 500.0\r"
     ]
    },
    {
     "name": "stdout",
     "output_type": "stream",
     "text": [
      "ep 9436 : reward 500.0\r",
      "ep 9437 : reward 500.0\r"
     ]
    },
    {
     "name": "stdout",
     "output_type": "stream",
     "text": [
      "ep 9438 : reward 302.0\r",
      "ep 9439 : reward 354.0\r",
      "ep 9440 : reward 388.0\r"
     ]
    },
    {
     "name": "stdout",
     "output_type": "stream",
     "text": [
      "ep 9441 : reward 500.0\r",
      "ep 9442 : reward 500.0\r"
     ]
    },
    {
     "name": "stdout",
     "output_type": "stream",
     "text": [
      "ep 9443 : reward 500.0\r",
      "ep 9444 : reward 408.0\r"
     ]
    },
    {
     "name": "stdout",
     "output_type": "stream",
     "text": [
      "ep 9445 : reward 384.0\r",
      "ep 9446 : reward 407.0\r"
     ]
    },
    {
     "name": "stdout",
     "output_type": "stream",
     "text": [
      "ep 9447 : reward 500.0\r",
      "ep 9448 : reward 498.0\r"
     ]
    },
    {
     "name": "stdout",
     "output_type": "stream",
     "text": [
      "ep 9449 : reward 319.0\r",
      "ep 9450 : reward 274.0\r",
      "ep 9451 : reward 255.0\r",
      "ep 9452 : reward 108.0\r"
     ]
    },
    {
     "name": "stdout",
     "output_type": "stream",
     "text": [
      "ep 9453 : reward 180.0\r",
      "ep 9454 : reward 108.0\r",
      "ep 9455 : reward 263.0\r",
      "ep 9456 : reward 266.0\r"
     ]
    },
    {
     "name": "stdout",
     "output_type": "stream",
     "text": [
      "ep 9457 : reward 324.0\r",
      "ep 9458 : reward 392.0\r"
     ]
    },
    {
     "name": "stdout",
     "output_type": "stream",
     "text": [
      "ep 9459 : reward 388.0\r",
      "ep 9460 : reward 310.0\r",
      "ep 9461 : reward 381.0\r"
     ]
    },
    {
     "name": "stdout",
     "output_type": "stream",
     "text": [
      "ep 9462 : reward 254.0\r",
      "ep 9463 : reward 320.0\r",
      "ep 9464 : reward 266.0\r"
     ]
    },
    {
     "name": "stdout",
     "output_type": "stream",
     "text": [
      "ep 9465 : reward 426.0\r",
      "ep 9466 : reward 343.0\r",
      "ep 9467 : reward 274.0\r"
     ]
    },
    {
     "name": "stdout",
     "output_type": "stream",
     "text": [
      "ep 9468 : reward 338.0\r",
      "ep 9469 : reward 420.0\r",
      "ep 9470 : reward 330.0\r"
     ]
    },
    {
     "name": "stdout",
     "output_type": "stream",
     "text": [
      "ep 9471 : reward 500.0\r",
      "ep 9472 : reward 348.0\r",
      "ep 9473 : reward 400.0\r"
     ]
    },
    {
     "name": "stdout",
     "output_type": "stream",
     "text": [
      "ep 9474 : reward 397.0\r",
      "ep 9475 : reward 342.0\r",
      "ep 9476 : reward 390.0\r"
     ]
    },
    {
     "name": "stdout",
     "output_type": "stream",
     "text": [
      "ep 9477 : reward 388.0\r",
      "ep 9478 : reward 270.0\r",
      "ep 9479 : reward 319.0\r"
     ]
    },
    {
     "name": "stdout",
     "output_type": "stream",
     "text": [
      "ep 9480 : reward 279.0\r",
      "ep 9481 : reward 396.0\r",
      "ep 9482 : reward 376.0\r"
     ]
    },
    {
     "name": "stdout",
     "output_type": "stream",
     "text": [
      "ep 9483 : reward 276.0\r",
      "ep 9484 : reward 251.0\r",
      "ep 9485 : reward 389.0\r"
     ]
    },
    {
     "name": "stdout",
     "output_type": "stream",
     "text": [
      "ep 9486 : reward 318.0\r",
      "ep 9487 : reward 251.0\r",
      "ep 9488 : reward 264.0\r"
     ]
    },
    {
     "name": "stdout",
     "output_type": "stream",
     "text": [
      "ep 9489 : reward 500.0\r",
      "ep 9490 : reward 500.0\r"
     ]
    },
    {
     "name": "stdout",
     "output_type": "stream",
     "text": [
      "ep 9491 : reward 500.0\r",
      "ep 9492 : reward 500.0\r"
     ]
    },
    {
     "name": "stdout",
     "output_type": "stream",
     "text": [
      "ep 9493 : reward 500.0\r",
      "ep 9494 : reward 500.0\r"
     ]
    },
    {
     "name": "stdout",
     "output_type": "stream",
     "text": [
      "ep 9495 : reward 500.0\r",
      "ep 9496 : reward 500.0\r"
     ]
    },
    {
     "name": "stdout",
     "output_type": "stream",
     "text": [
      "ep 9497 : reward 500.0\r",
      "ep 9498 : reward 500.0\r"
     ]
    },
    {
     "name": "stdout",
     "output_type": "stream",
     "text": [
      "ep 9499 : reward 500.0\r",
      "ep 9500 : reward 500.0\r"
     ]
    },
    {
     "name": "stdout",
     "output_type": "stream",
     "text": [
      "ep 9501 : reward 500.0\r",
      "ep 9502 : reward 500.0\r"
     ]
    },
    {
     "name": "stdout",
     "output_type": "stream",
     "text": [
      "ep 9503 : reward 423.0\r",
      "ep 9504 : reward 500.0\r"
     ]
    },
    {
     "name": "stdout",
     "output_type": "stream",
     "text": [
      "ep 9505 : reward 409.0\r",
      "ep 9506 : reward 500.0\r"
     ]
    },
    {
     "name": "stdout",
     "output_type": "stream",
     "text": [
      "ep 9507 : reward 500.0\r",
      "ep 9508 : reward 270.0\r",
      "ep 9509 : reward 500.0\r"
     ]
    },
    {
     "name": "stdout",
     "output_type": "stream",
     "text": [
      "ep 9510 : reward 500.0\r",
      "ep 9511 : reward 391.0\r"
     ]
    },
    {
     "name": "stdout",
     "output_type": "stream",
     "text": [
      "ep 9512 : reward 406.0\r",
      "ep 9513 : reward 320.0\r"
     ]
    },
    {
     "name": "stdout",
     "output_type": "stream",
     "text": [
      "ep 9514 : reward 479.0\r",
      "ep 9515 : reward 244.0\r",
      "ep 9516 : reward 424.0\r"
     ]
    },
    {
     "name": "stdout",
     "output_type": "stream",
     "text": [
      "ep 9517 : reward 447.0\r",
      "ep 9518 : reward 377.0\r"
     ]
    },
    {
     "name": "stdout",
     "output_type": "stream",
     "text": [
      "ep 9519 : reward 500.0\r",
      "ep 9520 : reward 500.0\r"
     ]
    },
    {
     "name": "stdout",
     "output_type": "stream",
     "text": [
      "ep 9521 : reward 500.0\r",
      "ep 9522 : reward 500.0\r"
     ]
    },
    {
     "name": "stdout",
     "output_type": "stream",
     "text": [
      "ep 9523 : reward 433.0\r",
      "ep 9524 : reward 475.0\r"
     ]
    },
    {
     "name": "stdout",
     "output_type": "stream",
     "text": [
      "ep 9525 : reward 455.0\r",
      "ep 9526 : reward 500.0\r"
     ]
    },
    {
     "name": "stdout",
     "output_type": "stream",
     "text": [
      "ep 9527 : reward 500.0\r",
      "ep 9528 : reward 500.0\r"
     ]
    },
    {
     "name": "stdout",
     "output_type": "stream",
     "text": [
      "ep 9529 : reward 500.0\r",
      "ep 9530 : reward 440.0\r"
     ]
    },
    {
     "name": "stdout",
     "output_type": "stream",
     "text": [
      "ep 9531 : reward 500.0\r",
      "ep 9532 : reward 387.0\r"
     ]
    },
    {
     "name": "stdout",
     "output_type": "stream",
     "text": [
      "ep 9533 : reward 500.0\r",
      "ep 9534 : reward 500.0\r"
     ]
    },
    {
     "name": "stdout",
     "output_type": "stream",
     "text": [
      "ep 9535 : reward 500.0\r",
      "ep 9536 : reward 267.0\r",
      "ep 9537 : reward 411.0\r"
     ]
    },
    {
     "name": "stdout",
     "output_type": "stream",
     "text": [
      "ep 9538 : reward 189.0\r",
      "ep 9539 : reward 97.0\r",
      "ep 9540 : reward 91.0\r",
      "ep 9541 : reward 106.0\r",
      "ep 9542 : reward 108.0\r"
     ]
    },
    {
     "name": "stdout",
     "output_type": "stream",
     "text": [
      "ep 9543 : reward 100.0\r",
      "ep 9544 : reward 95.0\r",
      "ep 9545 : reward 91.0\r",
      "ep 9546 : reward 35.0\r",
      "ep 9547 : reward 27.0\r",
      "ep 9548 : reward 102.0\r"
     ]
    },
    {
     "name": "stdout",
     "output_type": "stream",
     "text": [
      "ep 9549 : reward 351.0\r",
      "ep 9550 : reward 388.0\r"
     ]
    },
    {
     "name": "stdout",
     "output_type": "stream",
     "text": [
      "ep 9551 : reward 385.0\r",
      "ep 9552 : reward 500.0\r"
     ]
    },
    {
     "name": "stdout",
     "output_type": "stream",
     "text": [
      "ep 9553 : reward 500.0\r",
      "ep 9554 : reward 252.0\r",
      "ep 9555 : reward 109.0\r"
     ]
    },
    {
     "name": "stdout",
     "output_type": "stream",
     "text": [
      "ep 9556 : reward 500.0\r",
      "ep 9557 : reward 478.0\r"
     ]
    },
    {
     "name": "stdout",
     "output_type": "stream",
     "text": [
      "ep 9558 : reward 500.0\r",
      "ep 9559 : reward 388.0\r"
     ]
    },
    {
     "name": "stdout",
     "output_type": "stream",
     "text": [
      "ep 9560 : reward 463.0\r",
      "ep 9561 : reward 327.0\r",
      "ep 9562 : reward 116.0\r"
     ]
    },
    {
     "name": "stdout",
     "output_type": "stream",
     "text": [
      "ep 9563 : reward 396.0\r",
      "ep 9564 : reward 418.0\r",
      "ep 9565 : reward 274.0\r"
     ]
    },
    {
     "name": "stdout",
     "output_type": "stream",
     "text": [
      "ep 9566 : reward 257.0\r",
      "ep 9567 : reward 245.0\r",
      "ep 9568 : reward 90.0\r",
      "ep 9569 : reward 104.0\r"
     ]
    },
    {
     "name": "stdout",
     "output_type": "stream",
     "text": [
      "ep 9570 : reward 245.0\r",
      "ep 9571 : reward 247.0\r",
      "ep 9572 : reward 242.0\r"
     ]
    },
    {
     "name": "stdout",
     "output_type": "stream",
     "text": [
      "ep 9573 : reward 249.0\r",
      "ep 9574 : reward 324.0\r"
     ]
    },
    {
     "name": "stdout",
     "output_type": "stream",
     "text": [
      "ep 9575 : reward 500.0\r",
      "ep 9576 : reward 500.0\r"
     ]
    },
    {
     "name": "stdout",
     "output_type": "stream",
     "text": [
      "ep 9577 : reward 500.0\r",
      "ep 9578 : reward 500.0\r"
     ]
    },
    {
     "name": "stdout",
     "output_type": "stream",
     "text": [
      "ep 9579 : reward 500.0\r",
      "ep 9580 : reward 477.0\r"
     ]
    },
    {
     "name": "stdout",
     "output_type": "stream",
     "text": [
      "ep 9581 : reward 500.0\r",
      "ep 9582 : reward 357.0\r"
     ]
    },
    {
     "name": "stdout",
     "output_type": "stream",
     "text": [
      "ep 9583 : reward 456.0\r",
      "ep 9584 : reward 455.0\r"
     ]
    },
    {
     "name": "stdout",
     "output_type": "stream",
     "text": [
      "ep 9585 : reward 320.0\r",
      "ep 9586 : reward 395.0\r",
      "ep 9587 : reward 325.0\r"
     ]
    },
    {
     "name": "stdout",
     "output_type": "stream",
     "text": [
      "ep 9588 : reward 317.0\r",
      "ep 9589 : reward 270.0\r",
      "ep 9590 : reward 339.0\r"
     ]
    },
    {
     "name": "stdout",
     "output_type": "stream",
     "text": [
      "ep 9591 : reward 395.0\r",
      "ep 9592 : reward 403.0\r",
      "ep 9593 : reward 256.0\r"
     ]
    },
    {
     "name": "stdout",
     "output_type": "stream",
     "text": [
      "ep 9594 : reward 312.0\r",
      "ep 9595 : reward 227.0\r",
      "ep 9596 : reward 99.0\r",
      "ep 9597 : reward 110.0\r"
     ]
    },
    {
     "name": "stdout",
     "output_type": "stream",
     "text": [
      "ep 9598 : reward 176.0\r",
      "ep 9599 : reward 119.0\r",
      "ep 9600 : reward 179.0\r",
      "ep 9601 : reward 244.0\r"
     ]
    },
    {
     "name": "stdout",
     "output_type": "stream",
     "text": [
      "ep 9602 : reward 122.0\r",
      "ep 9603 : reward 243.0\r",
      "ep 9604 : reward 197.0\r",
      "ep 9605 : reward 169.0\r"
     ]
    },
    {
     "name": "stdout",
     "output_type": "stream",
     "text": [
      "ep 9606 : reward 89.0\r",
      "ep 9607 : reward 96.0\r",
      "ep 9608 : reward 87.0\r",
      "ep 9609 : reward 108.0\r",
      "ep 9610 : reward 176.0\r"
     ]
    },
    {
     "name": "stdout",
     "output_type": "stream",
     "text": [
      "ep 9611 : reward 37.0\r",
      "ep 9612 : reward 86.0\r",
      "ep 9613 : reward 102.0\r",
      "ep 9614 : reward 177.0\r",
      "ep 9615 : reward 106.0\r"
     ]
    },
    {
     "name": "stdout",
     "output_type": "stream",
     "text": [
      "ep 9616 : reward 187.0\r",
      "ep 9617 : reward 126.0\r",
      "ep 9618 : reward 237.0\r",
      "ep 9619 : reward 261.0\r"
     ]
    },
    {
     "name": "stdout",
     "output_type": "stream",
     "text": [
      "ep 9620 : reward 406.0\r",
      "ep 9621 : reward 241.0\r",
      "ep 9622 : reward 240.0\r",
      "ep 9623 : reward 181.0\r"
     ]
    },
    {
     "name": "stdout",
     "output_type": "stream",
     "text": [
      "ep 9624 : reward 500.0\r",
      "ep 9625 : reward 500.0\r"
     ]
    },
    {
     "name": "stdout",
     "output_type": "stream",
     "text": [
      "ep 9626 : reward 411.0\r",
      "ep 9627 : reward 500.0\r"
     ]
    },
    {
     "name": "stdout",
     "output_type": "stream",
     "text": [
      "ep 9628 : reward 377.0\r",
      "ep 9629 : reward 500.0\r"
     ]
    },
    {
     "name": "stdout",
     "output_type": "stream",
     "text": [
      "ep 9630 : reward 500.0\r",
      "ep 9631 : reward 500.0\r"
     ]
    },
    {
     "name": "stdout",
     "output_type": "stream",
     "text": [
      "ep 9632 : reward 429.0\r",
      "ep 9633 : reward 500.0\r"
     ]
    },
    {
     "name": "stdout",
     "output_type": "stream",
     "text": [
      "ep 9634 : reward 442.0\r",
      "ep 9635 : reward 500.0\r"
     ]
    },
    {
     "name": "stdout",
     "output_type": "stream",
     "text": [
      "ep 9636 : reward 315.0\r",
      "ep 9637 : reward 251.0\r",
      "ep 9638 : reward 350.0\r"
     ]
    },
    {
     "name": "stdout",
     "output_type": "stream",
     "text": [
      "ep 9639 : reward 260.0\r",
      "ep 9640 : reward 407.0\r",
      "ep 9641 : reward 259.0\r"
     ]
    },
    {
     "name": "stdout",
     "output_type": "stream",
     "text": [
      "ep 9642 : reward 243.0\r",
      "ep 9643 : reward 270.0\r",
      "ep 9644 : reward 414.0\r"
     ]
    },
    {
     "name": "stdout",
     "output_type": "stream",
     "text": [
      "ep 9645 : reward 404.0\r",
      "ep 9646 : reward 281.0\r",
      "ep 9647 : reward 411.0\r"
     ]
    },
    {
     "name": "stdout",
     "output_type": "stream",
     "text": [
      "ep 9648 : reward 332.0\r",
      "ep 9649 : reward 335.0\r"
     ]
    },
    {
     "name": "stdout",
     "output_type": "stream",
     "text": [
      "ep 9650 : reward 500.0\r",
      "ep 9651 : reward 393.0\r"
     ]
    },
    {
     "name": "stdout",
     "output_type": "stream",
     "text": [
      "ep 9652 : reward 469.0\r",
      "ep 9653 : reward 322.0\r",
      "ep 9654 : reward 345.0\r"
     ]
    },
    {
     "name": "stdout",
     "output_type": "stream",
     "text": [
      "ep 9655 : reward 390.0\r",
      "ep 9656 : reward 321.0\r",
      "ep 9657 : reward 264.0\r"
     ]
    },
    {
     "name": "stdout",
     "output_type": "stream",
     "text": [
      "ep 9658 : reward 184.0\r",
      "ep 9659 : reward 335.0\r",
      "ep 9660 : reward 327.0\r"
     ]
    },
    {
     "name": "stdout",
     "output_type": "stream",
     "text": [
      "ep 9661 : reward 339.0\r",
      "ep 9662 : reward 333.0\r"
     ]
    },
    {
     "name": "stdout",
     "output_type": "stream",
     "text": [
      "ep 9663 : reward 469.0\r",
      "ep 9664 : reward 249.0\r",
      "ep 9665 : reward 326.0\r"
     ]
    },
    {
     "name": "stdout",
     "output_type": "stream",
     "text": [
      "ep 9666 : reward 172.0\r",
      "ep 9667 : reward 200.0\r",
      "ep 9668 : reward 334.0\r"
     ]
    },
    {
     "name": "stdout",
     "output_type": "stream",
     "text": [
      "ep 9669 : reward 348.0\r",
      "ep 9670 : reward 500.0\r"
     ]
    },
    {
     "name": "stdout",
     "output_type": "stream",
     "text": [
      "ep 9671 : reward 500.0\r",
      "ep 9672 : reward 500.0\r"
     ]
    },
    {
     "name": "stdout",
     "output_type": "stream",
     "text": [
      "ep 9673 : reward 500.0\r",
      "ep 9674 : reward 500.0\r",
      "ep 9675 : reward 251.0\r"
     ]
    },
    {
     "name": "stdout",
     "output_type": "stream",
     "text": [
      "ep 9676 : reward 500.0\r",
      "ep 9677 : reward 488.0\r"
     ]
    },
    {
     "name": "stdout",
     "output_type": "stream",
     "text": [
      "ep 9678 : reward 479.0\r",
      "ep 9679 : reward 426.0\r",
      "ep 9680 : reward 242.0\r"
     ]
    },
    {
     "name": "stdout",
     "output_type": "stream",
     "text": [
      "ep 9681 : reward 382.0\r",
      "ep 9682 : reward 105.0\r",
      "ep 9683 : reward 100.0\r",
      "ep 9684 : reward 180.0\r",
      "ep 9685 : reward 96.0\r"
     ]
    },
    {
     "name": "stdout",
     "output_type": "stream",
     "text": [
      "ep 9686 : reward 234.0\r",
      "ep 9687 : reward 243.0\r",
      "ep 9688 : reward 245.0\r",
      "ep 9689 : reward 176.0\r"
     ]
    },
    {
     "name": "stdout",
     "output_type": "stream",
     "text": [
      "ep 9690 : reward 94.0\r",
      "ep 9691 : reward 94.0\r",
      "ep 9692 : reward 93.0\r",
      "ep 9693 : reward 97.0\r",
      "ep 9694 : reward 183.0\r"
     ]
    },
    {
     "name": "stdout",
     "output_type": "stream",
     "text": [
      "ep 9695 : reward 104.0\r",
      "ep 9696 : reward 185.0\r",
      "ep 9697 : reward 260.0\r"
     ]
    },
    {
     "name": "stdout",
     "output_type": "stream",
     "text": [
      "ep 9698 : reward 249.0\r",
      "ep 9699 : reward 255.0\r",
      "ep 9700 : reward 252.0\r"
     ]
    },
    {
     "name": "stdout",
     "output_type": "stream",
     "text": [
      "ep 9701 : reward 499.0\r",
      "ep 9702 : reward 500.0\r"
     ]
    },
    {
     "name": "stdout",
     "output_type": "stream",
     "text": [
      "ep 9703 : reward 500.0\r",
      "ep 9704 : reward 500.0\r"
     ]
    },
    {
     "name": "stdout",
     "output_type": "stream",
     "text": [
      "ep 9705 : reward 423.0\r",
      "ep 9706 : reward 482.0\r"
     ]
    },
    {
     "name": "stdout",
     "output_type": "stream",
     "text": [
      "ep 9707 : reward 281.0\r",
      "ep 9708 : reward 270.0\r",
      "ep 9709 : reward 324.0\r"
     ]
    },
    {
     "name": "stdout",
     "output_type": "stream",
     "text": [
      "ep 9710 : reward 247.0\r",
      "ep 9711 : reward 320.0\r",
      "ep 9712 : reward 402.0\r"
     ]
    },
    {
     "name": "stdout",
     "output_type": "stream",
     "text": [
      "ep 9713 : reward 500.0\r",
      "ep 9714 : reward 116.0\r",
      "ep 9715 : reward 239.0\r",
      "ep 9716 : reward 105.0\r"
     ]
    },
    {
     "name": "stdout",
     "output_type": "stream",
     "text": [
      "ep 9717 : reward 240.0\r",
      "ep 9718 : reward 104.0\r",
      "ep 9719 : reward 332.0\r"
     ]
    },
    {
     "name": "stdout",
     "output_type": "stream",
     "text": [
      "ep 9720 : reward 324.0\r",
      "ep 9721 : reward 364.0\r",
      "ep 9722 : reward 238.0\r"
     ]
    },
    {
     "name": "stdout",
     "output_type": "stream",
     "text": [
      "ep 9723 : reward 340.0\r",
      "ep 9724 : reward 175.0\r",
      "ep 9725 : reward 182.0\r",
      "ep 9726 : reward 102.0\r"
     ]
    },
    {
     "name": "stdout",
     "output_type": "stream",
     "text": [
      "ep 9727 : reward 237.0\r",
      "ep 9728 : reward 104.0\r",
      "ep 9729 : reward 107.0\r",
      "ep 9730 : reward 247.0\r"
     ]
    },
    {
     "name": "stdout",
     "output_type": "stream",
     "text": [
      "ep 9731 : reward 242.0\r",
      "ep 9732 : reward 337.0\r"
     ]
    },
    {
     "name": "stdout",
     "output_type": "stream",
     "text": [
      "ep 9733 : reward 500.0\r",
      "ep 9734 : reward 500.0\r"
     ]
    },
    {
     "name": "stdout",
     "output_type": "stream",
     "text": [
      "ep 9735 : reward 500.0\r",
      "ep 9736 : reward 500.0\r"
     ]
    },
    {
     "name": "stdout",
     "output_type": "stream",
     "text": [
      "ep 9737 : reward 500.0\r",
      "ep 9738 : reward 271.0\r",
      "ep 9739 : reward 304.0\r"
     ]
    },
    {
     "name": "stdout",
     "output_type": "stream",
     "text": [
      "ep 9740 : reward 500.0\r",
      "ep 9741 : reward 481.0\r"
     ]
    },
    {
     "name": "stdout",
     "output_type": "stream",
     "text": [
      "ep 9742 : reward 399.0\r",
      "ep 9743 : reward 422.0\r",
      "ep 9744 : reward 343.0\r"
     ]
    },
    {
     "name": "stdout",
     "output_type": "stream",
     "text": [
      "ep 9745 : reward 475.0\r",
      "ep 9746 : reward 387.0\r"
     ]
    },
    {
     "name": "stdout",
     "output_type": "stream",
     "text": [
      "ep 9747 : reward 415.0\r",
      "ep 9748 : reward 247.0\r",
      "ep 9749 : reward 403.0\r"
     ]
    },
    {
     "name": "stdout",
     "output_type": "stream",
     "text": [
      "ep 9750 : reward 248.0\r",
      "ep 9751 : reward 282.0\r",
      "ep 9752 : reward 253.0\r"
     ]
    },
    {
     "name": "stdout",
     "output_type": "stream",
     "text": [
      "ep 9753 : reward 417.0\r",
      "ep 9754 : reward 262.0\r",
      "ep 9755 : reward 270.0\r"
     ]
    },
    {
     "name": "stdout",
     "output_type": "stream",
     "text": [
      "ep 9756 : reward 269.0\r",
      "ep 9757 : reward 259.0\r",
      "ep 9758 : reward 399.0\r"
     ]
    },
    {
     "name": "stdout",
     "output_type": "stream",
     "text": [
      "ep 9759 : reward 244.0\r",
      "ep 9760 : reward 257.0\r",
      "ep 9761 : reward 203.0\r"
     ]
    },
    {
     "name": "stdout",
     "output_type": "stream",
     "text": [
      "ep 9762 : reward 252.0\r",
      "ep 9763 : reward 343.0\r",
      "ep 9764 : reward 181.0\r"
     ]
    },
    {
     "name": "stdout",
     "output_type": "stream",
     "text": [
      "ep 9765 : reward 335.0\r",
      "ep 9766 : reward 387.0\r"
     ]
    },
    {
     "name": "stdout",
     "output_type": "stream",
     "text": [
      "ep 9767 : reward 413.0\r",
      "ep 9768 : reward 500.0\r"
     ]
    },
    {
     "name": "stdout",
     "output_type": "stream",
     "text": [
      "ep 9769 : reward 500.0\r",
      "ep 9770 : reward 500.0\r"
     ]
    },
    {
     "name": "stdout",
     "output_type": "stream",
     "text": [
      "ep 9771 : reward 500.0\r",
      "ep 9772 : reward 500.0\r"
     ]
    },
    {
     "name": "stdout",
     "output_type": "stream",
     "text": [
      "ep 9773 : reward 421.0\r",
      "ep 9774 : reward 500.0\r"
     ]
    },
    {
     "name": "stdout",
     "output_type": "stream",
     "text": [
      "ep 9775 : reward 500.0\r",
      "ep 9776 : reward 500.0\r"
     ]
    },
    {
     "name": "stdout",
     "output_type": "stream",
     "text": [
      "ep 9777 : reward 347.0\r",
      "ep 9778 : reward 180.0\r",
      "ep 9779 : reward 397.0\r"
     ]
    },
    {
     "name": "stdout",
     "output_type": "stream",
     "text": [
      "ep 9780 : reward 329.0\r",
      "ep 9781 : reward 280.0\r",
      "ep 9782 : reward 342.0\r"
     ]
    },
    {
     "name": "stdout",
     "output_type": "stream",
     "text": [
      "ep 9783 : reward 346.0\r",
      "ep 9784 : reward 500.0\r"
     ]
    },
    {
     "name": "stdout",
     "output_type": "stream",
     "text": [
      "ep 9785 : reward 330.0\r",
      "ep 9786 : reward 264.0\r",
      "ep 9787 : reward 247.0\r"
     ]
    },
    {
     "name": "stdout",
     "output_type": "stream",
     "text": [
      "ep 9788 : reward 276.0\r",
      "ep 9789 : reward 500.0\r"
     ]
    },
    {
     "name": "stdout",
     "output_type": "stream",
     "text": [
      "ep 9790 : reward 500.0\r",
      "ep 9791 : reward 500.0\r"
     ]
    },
    {
     "name": "stdout",
     "output_type": "stream",
     "text": [
      "ep 9792 : reward 413.0\r",
      "ep 9793 : reward 452.0\r"
     ]
    },
    {
     "name": "stdout",
     "output_type": "stream",
     "text": [
      "ep 9794 : reward 500.0\r",
      "ep 9795 : reward 401.0\r"
     ]
    },
    {
     "name": "stdout",
     "output_type": "stream",
     "text": [
      "ep 9796 : reward 465.0\r",
      "ep 9797 : reward 251.0\r",
      "ep 9798 : reward 386.0\r"
     ]
    },
    {
     "name": "stdout",
     "output_type": "stream",
     "text": [
      "ep 9799 : reward 268.0\r",
      "ep 9800 : reward 452.0\r",
      "ep 9801 : reward 271.0\r"
     ]
    },
    {
     "name": "stdout",
     "output_type": "stream",
     "text": [
      "ep 9802 : reward 428.0\r",
      "ep 9803 : reward 406.0\r",
      "ep 9804 : reward 365.0\r"
     ]
    },
    {
     "name": "stdout",
     "output_type": "stream",
     "text": [
      "ep 9805 : reward 387.0\r",
      "ep 9806 : reward 395.0\r"
     ]
    },
    {
     "name": "stdout",
     "output_type": "stream",
     "text": [
      "ep 9807 : reward 479.0\r",
      "ep 9808 : reward 401.0\r",
      "ep 9809 : reward 248.0\r"
     ]
    },
    {
     "name": "stdout",
     "output_type": "stream",
     "text": [
      "ep 9810 : reward 251.0\r",
      "ep 9811 : reward 242.0\r",
      "ep 9812 : reward 109.0\r",
      "ep 9813 : reward 99.0\r",
      "ep 9814 : reward 109.0\r"
     ]
    },
    {
     "name": "stdout",
     "output_type": "stream",
     "text": [
      "ep 9815 : reward 102.0\r",
      "ep 9816 : reward 110.0\r",
      "ep 9817 : reward 245.0\r",
      "ep 9818 : reward 257.0\r"
     ]
    },
    {
     "name": "stdout",
     "output_type": "stream",
     "text": [
      "ep 9819 : reward 238.0\r",
      "ep 9820 : reward 272.0\r",
      "ep 9821 : reward 398.0\r"
     ]
    },
    {
     "name": "stdout",
     "output_type": "stream",
     "text": [
      "ep 9822 : reward 500.0\r",
      "ep 9823 : reward 500.0\r"
     ]
    },
    {
     "name": "stdout",
     "output_type": "stream",
     "text": [
      "ep 9824 : reward 500.0\r",
      "ep 9825 : reward 500.0\r"
     ]
    },
    {
     "name": "stdout",
     "output_type": "stream",
     "text": [
      "ep 9826 : reward 500.0\r",
      "ep 9827 : reward 500.0\r",
      "ep 9828 : reward 250.0\r"
     ]
    },
    {
     "name": "stdout",
     "output_type": "stream",
     "text": [
      "ep 9829 : reward 407.0\r",
      "ep 9830 : reward 249.0\r",
      "ep 9831 : reward 332.0\r"
     ]
    },
    {
     "name": "stdout",
     "output_type": "stream",
     "text": [
      "ep 9832 : reward 253.0\r",
      "ep 9833 : reward 176.0\r",
      "ep 9834 : reward 500.0\r"
     ]
    },
    {
     "name": "stdout",
     "output_type": "stream",
     "text": [
      "ep 9835 : reward 301.0\r",
      "ep 9836 : reward 268.0\r",
      "ep 9837 : reward 220.0\r"
     ]
    },
    {
     "name": "stdout",
     "output_type": "stream",
     "text": [
      "ep 9838 : reward 401.0\r",
      "ep 9839 : reward 249.0\r",
      "ep 9840 : reward 390.0\r"
     ]
    },
    {
     "name": "stdout",
     "output_type": "stream",
     "text": [
      "ep 9841 : reward 252.0\r",
      "ep 9842 : reward 397.0\r"
     ]
    },
    {
     "name": "stdout",
     "output_type": "stream",
     "text": [
      "ep 9843 : reward 472.0\r",
      "ep 9844 : reward 475.0\r"
     ]
    },
    {
     "name": "stdout",
     "output_type": "stream",
     "text": [
      "ep 9845 : reward 407.0\r",
      "ep 9846 : reward 190.0\r",
      "ep 9847 : reward 246.0\r",
      "ep 9848 : reward 110.0\r"
     ]
    },
    {
     "name": "stdout",
     "output_type": "stream",
     "text": [
      "ep 9849 : reward 115.0\r",
      "ep 9850 : reward 243.0\r",
      "ep 9851 : reward 111.0\r"
     ]
    },
    {
     "name": "stdout",
     "output_type": "stream",
     "text": [
      "ep 9852 : reward 341.0\r",
      "ep 9853 : reward 244.0\r",
      "ep 9854 : reward 188.0\r"
     ]
    },
    {
     "name": "stdout",
     "output_type": "stream",
     "text": [
      "ep 9855 : reward 392.0\r",
      "ep 9856 : reward 397.0\r",
      "ep 9857 : reward 249.0\r"
     ]
    },
    {
     "name": "stdout",
     "output_type": "stream",
     "text": [
      "ep 9858 : reward 246.0\r",
      "ep 9859 : reward 193.0\r",
      "ep 9860 : reward 270.0\r"
     ]
    },
    {
     "name": "stdout",
     "output_type": "stream",
     "text": [
      "ep 9861 : reward 305.0\r",
      "ep 9862 : reward 311.0\r",
      "ep 9863 : reward 263.0\r"
     ]
    },
    {
     "name": "stdout",
     "output_type": "stream",
     "text": [
      "ep 9864 : reward 247.0\r",
      "ep 9865 : reward 357.0\r"
     ]
    },
    {
     "name": "stdout",
     "output_type": "stream",
     "text": [
      "ep 9866 : reward 397.0\r",
      "ep 9867 : reward 451.0\r",
      "ep 9868 : reward 160.0\r"
     ]
    },
    {
     "name": "stdout",
     "output_type": "stream",
     "text": [
      "ep 9869 : reward 325.0\r",
      "ep 9870 : reward 402.0\r",
      "ep 9871 : reward 115.0\r"
     ]
    },
    {
     "name": "stdout",
     "output_type": "stream",
     "text": [
      "ep 9872 : reward 206.0\r",
      "ep 9873 : reward 309.0\r",
      "ep 9874 : reward 329.0\r"
     ]
    },
    {
     "name": "stdout",
     "output_type": "stream",
     "text": [
      "ep 9875 : reward 322.0\r",
      "ep 9876 : reward 329.0\r",
      "ep 9877 : reward 260.0\r"
     ]
    },
    {
     "name": "stdout",
     "output_type": "stream",
     "text": [
      "ep 9878 : reward 392.0\r",
      "ep 9879 : reward 312.0\r",
      "ep 9880 : reward 403.0\r"
     ]
    },
    {
     "name": "stdout",
     "output_type": "stream",
     "text": [
      "ep 9881 : reward 378.0\r",
      "ep 9882 : reward 123.0\r",
      "ep 9883 : reward 377.0\r"
     ]
    },
    {
     "name": "stdout",
     "output_type": "stream",
     "text": [
      "ep 9884 : reward 196.0\r",
      "ep 9885 : reward 172.0\r",
      "ep 9886 : reward 104.0\r",
      "ep 9887 : reward 91.0\r",
      "ep 9888 : reward 98.0\r"
     ]
    },
    {
     "name": "stdout",
     "output_type": "stream",
     "text": [
      "ep 9889 : reward 96.0\r",
      "ep 9890 : reward 116.0\r",
      "ep 9891 : reward 112.0\r",
      "ep 9892 : reward 238.0\r"
     ]
    },
    {
     "name": "stdout",
     "output_type": "stream",
     "text": [
      "ep 9893 : reward 258.0\r",
      "ep 9894 : reward 398.0\r",
      "ep 9895 : reward 265.0\r"
     ]
    },
    {
     "name": "stdout",
     "output_type": "stream",
     "text": [
      "ep 9896 : reward 233.0\r",
      "ep 9897 : reward 381.0\r"
     ]
    },
    {
     "name": "stdout",
     "output_type": "stream",
     "text": [
      "ep 9898 : reward 410.0\r",
      "ep 9899 : reward 98.0\r",
      "ep 9900 : reward 102.0\r",
      "ep 9901 : reward 102.0\r",
      "ep 9902 : reward 111.0\r"
     ]
    },
    {
     "name": "stdout",
     "output_type": "stream",
     "text": [
      "ep 9903 : reward 114.0\r",
      "ep 9904 : reward 500.0\r"
     ]
    },
    {
     "name": "stdout",
     "output_type": "stream",
     "text": [
      "ep 9905 : reward 500.0\r",
      "ep 9906 : reward 500.0\r"
     ]
    },
    {
     "name": "stdout",
     "output_type": "stream",
     "text": [
      "ep 9907 : reward 500.0\r",
      "ep 9908 : reward 500.0\r"
     ]
    },
    {
     "name": "stdout",
     "output_type": "stream",
     "text": [
      "ep 9909 : reward 490.0\r",
      "ep 9910 : reward 500.0\r"
     ]
    },
    {
     "name": "stdout",
     "output_type": "stream",
     "text": [
      "ep 9911 : reward 500.0\r",
      "ep 9912 : reward 500.0\r"
     ]
    },
    {
     "name": "stdout",
     "output_type": "stream",
     "text": [
      "ep 9913 : reward 500.0\r",
      "ep 9914 : reward 500.0\r"
     ]
    },
    {
     "name": "stdout",
     "output_type": "stream",
     "text": [
      "ep 9915 : reward 500.0\r",
      "ep 9916 : reward 500.0\r"
     ]
    },
    {
     "name": "stdout",
     "output_type": "stream",
     "text": [
      "ep 9917 : reward 496.0\r",
      "ep 9918 : reward 412.0\r"
     ]
    },
    {
     "name": "stdout",
     "output_type": "stream",
     "text": [
      "ep 9919 : reward 463.0\r",
      "ep 9920 : reward 500.0\r"
     ]
    },
    {
     "name": "stdout",
     "output_type": "stream",
     "text": [
      "ep 9921 : reward 500.0\r",
      "ep 9922 : reward 500.0\r"
     ]
    },
    {
     "name": "stdout",
     "output_type": "stream",
     "text": [
      "ep 9923 : reward 500.0\r",
      "ep 9924 : reward 500.0\r"
     ]
    },
    {
     "name": "stdout",
     "output_type": "stream",
     "text": [
      "ep 9925 : reward 351.0\r",
      "ep 9926 : reward 500.0\r"
     ]
    },
    {
     "name": "stdout",
     "output_type": "stream",
     "text": [
      "ep 9927 : reward 500.0\r",
      "ep 9928 : reward 500.0\r"
     ]
    },
    {
     "name": "stdout",
     "output_type": "stream",
     "text": [
      "ep 9929 : reward 312.0\r",
      "ep 9930 : reward 209.0\r",
      "ep 9931 : reward 192.0\r"
     ]
    },
    {
     "name": "stdout",
     "output_type": "stream",
     "text": [
      "ep 9932 : reward 341.0\r",
      "ep 9933 : reward 360.0\r",
      "ep 9934 : reward 380.0\r"
     ]
    },
    {
     "name": "stdout",
     "output_type": "stream",
     "text": [
      "ep 9935 : reward 395.0\r",
      "ep 9936 : reward 238.0\r",
      "ep 9937 : reward 391.0\r"
     ]
    },
    {
     "name": "stdout",
     "output_type": "stream",
     "text": [
      "ep 9938 : reward 317.0\r",
      "ep 9939 : reward 398.0\r",
      "ep 9940 : reward 234.0\r"
     ]
    },
    {
     "name": "stdout",
     "output_type": "stream",
     "text": [
      "ep 9941 : reward 194.0\r",
      "ep 9942 : reward 279.0\r",
      "ep 9943 : reward 391.0\r"
     ]
    },
    {
     "name": "stdout",
     "output_type": "stream",
     "text": [
      "ep 9944 : reward 254.0\r",
      "ep 9945 : reward 246.0\r",
      "ep 9946 : reward 104.0\r",
      "ep 9947 : reward 95.0\r"
     ]
    },
    {
     "name": "stdout",
     "output_type": "stream",
     "text": [
      "ep 9948 : reward 235.0\r",
      "ep 9949 : reward 124.0\r",
      "ep 9950 : reward 187.0\r",
      "ep 9951 : reward 238.0\r"
     ]
    },
    {
     "name": "stdout",
     "output_type": "stream",
     "text": [
      "ep 9952 : reward 233.0\r",
      "ep 9953 : reward 257.0\r",
      "ep 9954 : reward 168.0\r"
     ]
    },
    {
     "name": "stdout",
     "output_type": "stream",
     "text": [
      "ep 9955 : reward 396.0\r",
      "ep 9956 : reward 258.0\r",
      "ep 9957 : reward 258.0\r"
     ]
    },
    {
     "name": "stdout",
     "output_type": "stream",
     "text": [
      "ep 9958 : reward 251.0\r",
      "ep 9959 : reward 183.0\r",
      "ep 9960 : reward 254.0\r"
     ]
    },
    {
     "name": "stdout",
     "output_type": "stream",
     "text": [
      "ep 9961 : reward 263.0\r",
      "ep 9962 : reward 269.0\r",
      "ep 9963 : reward 260.0\r"
     ]
    },
    {
     "name": "stdout",
     "output_type": "stream",
     "text": [
      "ep 9964 : reward 467.0\r",
      "ep 9965 : reward 500.0\r"
     ]
    },
    {
     "name": "stdout",
     "output_type": "stream",
     "text": [
      "ep 9966 : reward 405.0\r",
      "ep 9967 : reward 500.0\r"
     ]
    },
    {
     "name": "stdout",
     "output_type": "stream",
     "text": [
      "ep 9968 : reward 500.0\r",
      "ep 9969 : reward 500.0\r"
     ]
    },
    {
     "name": "stdout",
     "output_type": "stream",
     "text": [
      "ep 9970 : reward 485.0\r",
      "ep 9971 : reward 405.0\r"
     ]
    },
    {
     "name": "stdout",
     "output_type": "stream",
     "text": [
      "ep 9972 : reward 453.0\r",
      "ep 9973 : reward 387.0\r",
      "ep 9974 : reward 322.0\r"
     ]
    },
    {
     "name": "stdout",
     "output_type": "stream",
     "text": [
      "ep 9975 : reward 237.0\r",
      "ep 9976 : reward 319.0\r",
      "ep 9977 : reward 387.0\r"
     ]
    },
    {
     "name": "stdout",
     "output_type": "stream",
     "text": [
      "ep 9978 : reward 312.0\r",
      "ep 9979 : reward 257.0\r",
      "ep 9980 : reward 254.0\r"
     ]
    },
    {
     "name": "stdout",
     "output_type": "stream",
     "text": [
      "ep 9981 : reward 343.0\r",
      "ep 9982 : reward 418.0\r",
      "ep 9983 : reward 179.0\r"
     ]
    },
    {
     "name": "stdout",
     "output_type": "stream",
     "text": [
      "ep 9984 : reward 277.0\r",
      "ep 9985 : reward 254.0\r",
      "ep 9986 : reward 97.0\r",
      "ep 9987 : reward 91.0\r",
      "ep 9988 : reward 116.0\r"
     ]
    },
    {
     "name": "stdout",
     "output_type": "stream",
     "text": [
      "ep 9989 : reward 188.0\r",
      "ep 9990 : reward 103.0\r",
      "ep 9991 : reward 178.0\r",
      "ep 9992 : reward 103.0\r",
      "ep 9993 : reward 104.0\r"
     ]
    },
    {
     "name": "stdout",
     "output_type": "stream",
     "text": [
      "ep 9994 : reward 392.0\r",
      "ep 9995 : reward 312.0\r",
      "ep 9996 : reward 242.0\r"
     ]
    },
    {
     "name": "stdout",
     "output_type": "stream",
     "text": [
      "ep 9997 : reward 330.0\r",
      "ep 9998 : reward 91.0\r",
      "ep 9999 : reward 104.0\r"
     ]
    }
   ],
   "source": [
    "batch_calc = 0\n",
    "for i in range(episode_count):\n",
    "    ob = env.reset()\n",
    "    rewardSum = 0\n",
    "    steps = 0\n",
    "    done = False\n",
    "    while not done:\n",
    "        with torch.no_grad():\n",
    "            action = agent.choose_action(ob, reward, done)\n",
    "        current_state = ob\n",
    "        if render:\n",
    "            if i % episode_render == 0:\n",
    "                env.render()\n",
    "            elif (i - 1) % episode_render == 0:\n",
    "                env.close()\n",
    "        ob, reward, done, _ = env.step(action)\n",
    "        rewardSum += reward\n",
    "        steps += 1\n",
    "\n",
    "        # Experience replay\n",
    "        agent.experience(current_state, action, reward, ob, done)\n",
    "        if done:\n",
    "            print(f\"ep {i} : reward {rewardSum}\", end=\"\\r\")\n",
    "            rewards.append(rewardSum)\n",
    "\n",
    "    minibatch = agent.minibatch(size=batch_size)\n",
    "    for batch in minibatch:\n",
    "        batch_calc += 1\n",
    "        optimizer.zero_grad()\n",
    "        with torch.no_grad():\n",
    "            yj = batch.reward\n",
    "            if not batch.done:\n",
    "                yj += agent.gamma * agent.qvalue_target(batch.next_state).max().item()\n",
    "        qvalues = agent.qvalue(batch.state)\n",
    "        real_y = qvalues.clone()\n",
    "        new_q = (qvalues[batch.action].item() - yj) ** 2\n",
    "        real_y[batch.action] = new_q\n",
    "        loss = criterion(qvalues, real_y)\n",
    "        loss.backward()\n",
    "        optimizer.step()\n",
    "        if batch_calc % target_sync == 0:\n",
    "            agent.sync_target()\n",
    "\n",
    "\n"
   ]
  },
  {
   "cell_type": "code",
   "execution_count": null,
   "metadata": {
    "autoscroll": false,
    "collapsed": false,
    "ein.hycell": false,
    "ein.tags": "worksheet-0",
    "slideshow": {
     "slide_type": "-"
    }
   },
   "outputs": [],
   "source": [
    "env.close()\n",
    "rewards"
   ]
  },
  {
   "cell_type": "code",
   "execution_count": 36,
   "metadata": {
    "autoscroll": false,
    "collapsed": false,
    "ein.hycell": false,
    "ein.tags": "worksheet-0",
    "slideshow": {
     "slide_type": "-"
    }
   },
   "outputs": [
    {
     "data": {
      "image/png": "[encoded data removed]",
      "text/plain": [
       "<Figure size 1440x720 with 1 Axes>"
      ]
     },
     "metadata": {},
     "output_type": "display_data"
    }
   ],
   "source": [
    "plot_reward(rewards, \"Evolution des récompenses cumulées\", file_name=f\"{episode_count}_{batch_size}_e{len(rewards)}_eta{eta}_target\", mean_size=1, type_graph=\"dot\")"
   ]
  },
  {
   "cell_type": "code",
   "execution_count": 35,
   "metadata": {
    "autoscroll": false,
    "collapsed": false,
    "ein.hycell": false,
    "ein.tags": "worksheet-0",
    "slideshow": {
     "slide_type": "-"
    }
   },
   "outputs": [
    {
     "data": {
      "image/png": "[encoded data removed]",
      "text/plain": [
       "<Figure size 1440x720 with 1 Axes>"
      ]
     },
     "metadata": {},
     "output_type": "display_data"
    }
   ],
   "source": [
    "plot_reward(rewards, \"Evolution des récompenses cumulées\", file_name=f\"{episode_count}_{batch_size}_e{len(rewards)}_eta{eta}_target\", mean_size=1, type_graph=\"bar\")"
   ]
  },
  {
   "cell_type": "code",
   "execution_count": null,
   "metadata": {
    "autoscroll": false,
    "collapsed": false,
    "ein.hycell": false,
    "ein.tags": "worksheet-0",
    "slideshow": {
     "slide_type": "-"
    }
   },
   "outputs": [],
   "source": []
  }
 ],
 "metadata": {
  "kernelspec": {
   "argv": [
    "/home/gary/.virtualenvs/deeprl/bin/python",
    "-m",
    "ipykernel_launcher",
    "-f",
    "{connection_file}"
   ],
   "display_name": "deeprl",
   "env": null,
   "interrupt_mode": "signal",
   "language": "python",
   "metadata": null,
   "name": "deeprl"
  },
  "name": "experience_replay.ipynb"
 },
 "nbformat": 4,
 "nbformat_minor": 2
}
